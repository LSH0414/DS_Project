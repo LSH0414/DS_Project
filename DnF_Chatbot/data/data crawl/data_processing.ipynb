{
 "cells": [
  {
   "cell_type": "code",
   "execution_count": 1,
   "metadata": {},
   "outputs": [],
   "source": [
    "import json"
   ]
  },
  {
   "cell_type": "code",
   "execution_count": null,
   "metadata": {},
   "outputs": [],
   "source": [
    "with open('./data/dnf_story_offical_qna.json', 'r') as f:\n",
    "    dnf_qna = json.load(f)"
   ]
  },
  {
   "cell_type": "code",
   "execution_count": 605,
   "metadata": {},
   "outputs": [],
   "source": [
    "with open('./data/dnf_story_offical_qna.json', 'r') as f:\n",
    "    dnf_qna = json.load(f)\n",
    "\n",
    "del_list = ['671','766','933', '1358','1401'] # 1358,1401 -> 질문 답변은 있지만 띄어쓰기 분리가 안되어 있음\n",
    "for idx in del_list:\n",
    "    del data['content'][idx]"
   ]
  },
  {
   "cell_type": "code",
   "execution_count": 606,
   "metadata": {},
   "outputs": [
    {
     "data": {
      "text/plain": [
       "(14533, 14533)"
      ]
     },
     "execution_count": 606,
     "metadata": {},
     "output_type": "execute_result"
    }
   ],
   "source": [
    "import re\n",
    "\n",
    "question, answer = [], []\n",
    "fail_contents = []\n",
    "fail_cnts = 0\n",
    "for key, contents in data['content'].items():\n",
    "\n",
    "    questions = list(re.finditer('질문[0-9]*',contents))\n",
    "    answers = list(re.finditer('답변[0-9]*', contents))\n",
    "\n",
    "    # 문장이 제대로 완성되지 않았을 경우 제외\n",
    "    # 질문, 답변의 수가 일치하지 않을 경우 제외\n",
    "    if ((contents[-3:] != '###') and ('.' not in contents[-3:])) or \\\n",
    "    (len(questions) != len(answers)):\n",
    "        # print('PASS IDX : ', key)\n",
    "        continue\n",
    "\n",
    "    contents = re.sub('###', '', contents)\n",
    "    # contents = re.sub('[\\n]{2,}', '\\n\\n', contents)\n",
    "\n",
    "    q_lst, a_lst = [], []\n",
    "    for content in contents.split('\\n'):\n",
    "        text = content.strip()\n",
    "        \n",
    "        if text == '' : \n",
    "            continue\n",
    "        \n",
    "        if len(text.split(':')[-1]) < 10 : \n",
    "            q_lst, a_lst = [], []\n",
    "            break\n",
    "\n",
    "        if '질문' in text[:3]:\n",
    "            q_lst.append(text.split(':')[-1])\n",
    "        if '답변' in text[:3]:\n",
    "            a_lst.append(text.split(':')[-1])\n",
    "\n",
    "    question += q_lst\n",
    "    answer += a_lst\n",
    "        \n",
    "    q_len = len(question) if len(question) > len(answer) else len(question) + fail_cnts\n",
    "    a_len = len(answer) if len(question) < len(answer) else len(answer) + fail_cnts\n",
    "\n",
    "    if q_len != a_len:\n",
    "        print(key)\n",
    "        fail_contents.append(contents)\n",
    "\n",
    "len(question), len(answer)"
   ]
  },
  {
   "cell_type": "code",
   "execution_count": 607,
   "metadata": {},
   "outputs": [
    {
     "name": "stdout",
     "output_type": "stream",
     "text": [
      "[]\n"
     ]
    }
   ],
   "source": [
    "print(fail_contents)"
   ]
  },
  {
   "cell_type": "code",
   "execution_count": 413,
   "metadata": {},
   "outputs": [],
   "source": [
    "## 1.15일 에러 발견, 10개 데이터 확인. 답변이 \\n\\n으로만 구분되어 있어서 데이터가 잘 안들어감. 전체 자료에 소수라면 예외처리 진행예정."
   ]
  },
  {
   "cell_type": "code",
   "execution_count": 608,
   "metadata": {},
   "outputs": [],
   "source": [
    "# check short data\n",
    "for q,a in zip(question, answer):\n",
    "    if (len(q) < 10) or (len(a) < 10):\n",
    "        print(q)\n",
    "        print(a)\n",
    "    "
   ]
  },
  {
   "cell_type": "code",
   "execution_count": null,
   "metadata": {},
   "outputs": [],
   "source": [
    "# print sampels\n",
    "for i in range(0, 12000, 220):\n",
    "    print(question[i], '->', answer[i])\n",
    "    print()\n"
   ]
  },
  {
   "cell_type": "code",
   "execution_count": 382,
   "metadata": {},
   "outputs": [],
   "source": [
    "with open('./data/alpaca_data_LF_all_.json', 'r') as f:\n",
    "    kakao = json.load(f)"
   ]
  },
  {
   "cell_type": "code",
   "execution_count": 624,
   "metadata": {},
   "outputs": [],
   "source": [
    "with open('./data/dnf_stories_offical.json', 'r') as f:\n",
    "    offical_story = json.load(f)\n",
    "\n",
    "with open('./data/dnf_main_story.json', 'r') as f:\n",
    "    wiki_main_story = json.load(f)\n",
    "\n",
    "with open('./data/dnf_sub_story.json', 'r') as f:\n",
    "    wiki_sub_story = json.load(f)"
   ]
  },
  {
   "cell_type": "code",
   "execution_count": 625,
   "metadata": {},
   "outputs": [],
   "source": [
    "stories = [offical_story, wiki_main_story, wiki_sub_story]"
   ]
  },
  {
   "cell_type": "code",
   "execution_count": 630,
   "metadata": {},
   "outputs": [],
   "source": [
    "# offical_story : dict() -> dict()\n",
    "# '대주제_소주제 : {소주제 : 본문}\n",
    "\n",
    "# wiki_main_story : dict()\n",
    "# '대주제_소주제 : 본문\n",
    "\n",
    "# wiki_sub_story : list\n",
    "# {'카테고리' : 본문}"
   ]
  },
  {
   "cell_type": "code",
   "execution_count": 713,
   "metadata": {},
   "outputs": [
    {
     "data": {
      "text/plain": [
       "'진짜다 하 하늘 위로 가득한 물이라니 저것이 전설로만 전해지던 바다란 거구나소녀의 목소리는 한껏 상기되어 있었다. 그것도 그럴 것이 바다라는 태어나서 처음 보는 것이니 말이다.소녀의 눈을 사로잡은 것은 단지 바다뿐만이 아니었다. 덧없이 푸른 바다가 감싸고 있는 아름다운 섬들 바다 아래로 흘러가는 하얀 구름들. 멀리서 바라보더라도 이곳은 생명이 넘쳐나 보였다. 이 아름다운 섬들이 수십 년간 전쟁이 벌어졌던 황폐한 곳이라니 믿을 수가 없었다.정말 아름답다소녀는 그 아름다운 광경에서 눈을 뗄 수가 없었다. 죽은 자의 성을 죽을 고비를 넘기며 20일에 걸쳐서 힘겹게 올라온 보람이 있었다.고개가 아픈지도 모르게 계속해서 그 바다를 올려보고 있었다. 물론 마계에도 바다라는 것이 있었지만 그 검고 냄새나는 역겨운 바다와는 비교할 수도 없었다.이 아름다운 광경을 바라보던 그녀는 공장으로 가득한 섬을 바라보게 된다. 그곳은 다른 곳과는 무릇 풍경이 달랐다. 이글거리는 용암을 내뱉는 활화산. 마기가 가득한 대기와 대지, 모든 곳에서 마계의 몬스터가 들끓는 이질적인 섬그곳에는 불을 먹는자. 사도 안톤이 전이되어 있었다.말도 안 돼 저 최악의 사도가 이곳에 있었다니 메트로 센터의 전력이 돌아와 이상하게 생각했지만 이런 곳에서 에너지를 빨아먹고 있을 줄이야.이때 소녀의 손에 들린 작은 장치에서 지지직거리는 소리와 함께 어떤 여성의 목소리가 들렸다.지지직 들리시옵니까 연결 상태가 고르지 않사옵니다. 언제 통신이 끊길지아 지금 하늘위로 펼쳐진 아름다운 광경을 보고 있었어요. 이곳은 말로 듣던 것보다 더 아름답습니다 처음에는 죽은 자의 성을 통해서 다른 세상과 연결된다는 것을 믿을 수 없었는데... 사실 지금 이렇게 두 눈으로 확인하고 있어도 실감이 나지 않네요. \"소녀도 실감이 나지 않사옵니다. 마계와 이렇게 연락이 가능하게 될 줄이야.... 누가 알았겠사옵니까\"소녀와 통신을 하고 있는 것은 바로 슬라우 공업 단지에서 영상 통신 장치를 관리하고 있는 리아 리히터, 천재 멜빈의 여동생이었다.몇 개월 전부터 통신 장치를 통해 알 수 없는 전자 잡음이 잡히는 것을 느낀 리아는 이 전자 잡음이 죽은 자의 성이 관측되는 날에만 들린다는 사실을 알아냈다. 곧 호기심에 빠진 리아는 그 전자음을 분석해 내용을 알아냈다. 그 내용은 이러하다.이곳은 메트로 센터 고대로부터 남아있는 통신기를 통해 알립니다. 저는 더 체이서 니우. 마계에서 사라진 사도들을 찾고 있습니다. 사도들의 행적을 아시는 분은 이 주파수로 연락을 곧바로 그 주파수를 통해 연락을 보낸 리아는 니우가 마계의 마법사이며 사도들을 쫓고 있다는 것을 알아냈다.뒤이어 아라드의 상황을 니우에게 전달해 주었다. 리아가 전해주는 정보에 의해서 니우는 마계에서 많은 수의 사도들이 아라드로 전이되어 갔다는 사실을 알아냈다. 모든 것을 파괴하고 먹어 치우는 탐욕스러운 사도들의 악행을 막기 위해 니우는 위험을 무릅쓰고 죽은 자의 성으로 올라 차원의 틈이 천계와 마계를 이어주기를 기다리고 있었던 것이다.그녀와 연락이 되었사옵니다 천계에 거의 다다른 것 같사옵니다리아의 목소리는 기대감을 한껏 들떠있었다. 이 작은 마계의 소녀가 사도 안톤을 해치우는데 아주 큰 정보를 가져올 것이라는 기대 때문이었다.진정하거라. 반가의 처자가 그렇게 경거망동해서야들뜬 리아를 엄한 목소리로 꾸짖는 것은 세븐샤즈의 페럴 웨인이었다. 페럴 웨인은 멜빈과는 각별한 사이로 특히 전기 계통의 전문가였다. 파워스테이션의 복구와 안톤의 약점을 분석하기 위해 슬라우 공업단지로 파견되었다.죄송하옵니다죄송할 것까지는 없다. 다만 큰일을 그르칠까 걱정이 되어 한 소리야. 이럴 때일수록 침착한 마음가짐을 가져야 한다.네.. 어르신그런데 이상한 것이 아까 전부터 니우라는 처자의 목소리가 들리지 않는구나. 어찌된 일이냐정말 그렇사옵니다 서설마리아 리히터가 염려했던 일은 마계와 천계를 이어주는 차원의 틈이 언제 언제 열리고 닫힐지 모른다는 것이었다.머리 위의 바다가 사라지고 있다. 차원의 틈이 닫히고 있어니우는 머리 위에서 사라지는 천계의 풍경을 바라볼 수밖에 없었다. 순식간에 닫혀버린 차원의 틈은 천계와 마계의 경계를 갈라놓았다.닫혀버렸네 어쩔 수 없지. 언젠가는 다시 열리기를 우선은 이곳에서 지내볼까 으 또 언제 괴물들이 튀어나올지 모르니 체이서로 몸을 보호하고 있자.난감해진 것은 리아도 마찬가지였다.통신이 끊겼사옵니다. 아무래도 차원의 틈이 닫혀버린 것 같사옵니다.때가 좋지 않았구나 그녀의 도움을 당장 받기는 쉽지 않을 것이야. 그녀와 통신이 다시 이뤄질 때까지 우리가 할 수 있는 일을 하자꾸나. 우선은 파워 스테이션을 점거하고 있는 안톤의 수호자들부터 몰아내야겠지몇 일전 황도의 멜빈 오라버니와 이야기를 나누었사온데 오라버니께서 말씀하시기를 그곳에서 용맹하기로 이름 높은 모험가들을 보내 주신다고 하시었사옵니다.듣던 중 반가운 소리구나. 이튼 공업지대가 다시 활기를 찾는 날이 얼마 남지 않았음이야.페럴 웨인은 저 멀리 붉은 용암을 내뿜고 있는 안톤을 지긋이 바라보았다. 그의 눈은 어느 때보다 희망으로 가득 차 있었다.'"
      ]
     },
     "execution_count": 713,
     "metadata": {},
     "output_type": "execute_result"
    }
   ],
   "source": [
    "list(value.values())[0]"
   ]
  },
  {
   "cell_type": "code",
   "execution_count": 878,
   "metadata": {},
   "outputs": [],
   "source": [
    "t_sub, t_des, t_cate = [], [], []\n",
    "\n",
    "# offcial_story\n",
    "for key, value in offical_story.items():\n",
    "    if not (key and value): continue\n",
    "\n",
    "    if len(list(value.values())[0]) > 512:\n",
    "        temp_text = ''\n",
    "        idx = 0\n",
    "        for split_text in (list(value.values())[0].split('.')):\n",
    "            if len(temp_text) > 512:\n",
    "                t_sub.append(key+\"_\"+str(idx))\n",
    "                t_des.append(temp_text)\n",
    "                t_cate.append('스토리')\n",
    "                temp_text = ''\n",
    "                idx+=1\n",
    "            temp_text += (split_text+ '.')\n",
    "\n",
    "        if temp_text != '':\n",
    "            t_sub.append(key+\"_\"+str(idx))\n",
    "            temp_text = temp_text[:-1] if temp_text[-2:] == '..' else temp_text\n",
    "            t_des.append(temp_text)\n",
    "            t_cate.append('스토리')\n",
    "    \n",
    "    else:\n",
    "        t_sub.append(key)    \n",
    "        t_des.append(list(value.values())[0])\n",
    "        t_cate.append('스토리')\n",
    "        \n",
    "\n",
    "\n",
    "# wiki_main_story\n",
    "for key, value in wiki_main_story.items():\n",
    "    if not (key and value): continue\n",
    "\n",
    "    if len(value) > 512:\n",
    "        temp_text = ''\n",
    "        idx = 0\n",
    "        for split_text in (value.split('.')):\n",
    "            if len(temp_text) > 512:\n",
    "                t_sub.append(key+\"_\"+str(idx))\n",
    "                t_des.append(temp_text)\n",
    "                t_cate.append('스토리')\n",
    "                temp_text = ''\n",
    "                idx+=1\n",
    "            temp_text += (split_text+ '.')\n",
    "\n",
    "        if temp_text != '':\n",
    "            t_sub.append(key+\"_\"+str(idx))\n",
    "            temp_text = temp_text[:-1] if temp_text[-2:] == '..' else temp_text\n",
    "            t_des.append(temp_text)\n",
    "            t_cate.append('스토리')\n",
    "\n",
    "    else:\n",
    "        t_sub.append(key)    \n",
    "        t_des.append(value)\n",
    "        t_cate.append('스토리')\n",
    "\n",
    "# wiki sub_story\n",
    "for sub_datas in wiki_sub_story:\n",
    "    for sub_data in sub_datas:\n",
    "        for key, value in sub_data.items():\n",
    "            if not (key and value): continue\n",
    "\n",
    "            if len(value) > 512:\n",
    "                temp_text = ''\n",
    "                idx = 0\n",
    "                for split_text in (value.split('.')):\n",
    "                    if len(temp_text) > 512:\n",
    "                        t_sub.append(key)\n",
    "                        t_des.append(temp_text)\n",
    "                        temp = '스토리' if key == '' else '대화'\n",
    "                        t_cate.append(temp)                        \n",
    "                        temp_text = ''\n",
    "                        idx+=1\n",
    "\n",
    "                    temp_text += (split_text+ '.')\n",
    "\n",
    "                if temp_text != '':\n",
    "                    t_sub.append(key)\n",
    "                    temp_text = temp_text[:-1] if temp_text[-2:] == '..' else temp_text\n",
    "                    t_des.append(temp_text)\n",
    "                    temp = '스토리' if key == '' else '대화'\n",
    "                    t_cate.append(temp)\n",
    "            \n",
    "            else:\n",
    "                t_sub.append(key)    \n",
    "                t_des.append(value)\n",
    "                temp = '스토리' if key == '' else '대화'\n",
    "                t_cate.append(temp)\n",
    "\n",
    "\n",
    "# # stroy_qna\n",
    "# for q, a in zip(question, answer):\n",
    "#     t_sub.append(q)\n",
    "#     t_des.append(a)\n",
    "#     t_cate.append('스토리')"
   ]
  },
  {
   "cell_type": "code",
   "execution_count": 828,
   "metadata": {},
   "outputs": [],
   "source": [
    "# 대화 데이터에서 문장, 대상, 대화 참여자 정보, 내용을 추출\n",
    "subject, descriptions, cate = [], [], []\n",
    "\n",
    "# offical_story\n",
    "for key, value in offical_story.items():\n",
    "    if not (key and value): continue\n",
    "    subject.append(key)    \n",
    "    descriptions.append(list(value.values())[0])\n",
    "    cate.append('Story')\n",
    "\n",
    "# wiki_main_story\n",
    "for key, value in wiki_main_story.items():\n",
    "    if not (key and value): continue\n",
    "    subject.append(key)    \n",
    "    descriptions.append(value)\n",
    "    cate.append('Story')\n",
    "    \n",
    "# wiki_sub_story\n",
    "for sub_datas in wiki_sub_story:\n",
    "    for sub_data in sub_datas:\n",
    "        for key, value in sub_data.items():\n",
    "            if not (key and value): continue\n",
    "            subject.append('')    \n",
    "            descriptions.append(value)\n",
    "            temp = 'Story' if key == '' else 'Dialogue_'+ key\n",
    "            cate.append(temp)\n",
    "\n",
    "for q, a in zip(question, answer):\n",
    "    subject.append(q)\n",
    "    descriptions.append(a)\n",
    "    cate.append('Story_qna')"
   ]
  },
  {
   "cell_type": "code",
   "execution_count": 861,
   "metadata": {},
   "outputs": [
    {
     "data": {
      "text/plain": [
       "(18363, 18363, 18363)"
      ]
     },
     "execution_count": 861,
     "metadata": {},
     "output_type": "execute_result"
    }
   ],
   "source": [
    "len(subject), len(descriptions), len(cate)"
   ]
  },
  {
   "cell_type": "code",
   "execution_count": 879,
   "metadata": {},
   "outputs": [
    {
     "data": {
      "text/plain": [
       "(5358, 5358, 5358)"
      ]
     },
     "execution_count": 879,
     "metadata": {},
     "output_type": "execute_result"
    }
   ],
   "source": [
    "len(t_sub), len(t_des), len(t_cate)"
   ]
  },
  {
   "cell_type": "code",
   "execution_count": 880,
   "metadata": {},
   "outputs": [],
   "source": [
    "# all_texts_with_tokens = [\n",
    "#     {'subject' : s.strip(), 'content' : d.strip(), 'category' : c.strip()} for s, d, c in zip(subject, descriptions, cate)\n",
    "# ]\n",
    "\n",
    "all_texts_with_tokens = [\n",
    "    {'subject' : s.strip(), 'content' : d.strip(), 'category' : c.strip()} for s, d, c in zip(t_sub, t_des, t_cate)\n",
    "]\n"
   ]
  },
  {
   "cell_type": "code",
   "execution_count": 881,
   "metadata": {},
   "outputs": [],
   "source": [
    "import json\n",
    "\n",
    "for dnf_data in all_texts_with_tokens:\n",
    "    with open(\"./data/dnf_all_story_div512_without_qna.jsonl\", \"a\", encoding=\"utf-8\") as f:\n",
    "        json.dump(dnf_data, f, ensure_ascii=False) # ensure_ascii로 한글이 깨지지 않게 저장\n",
    "        f.write(\"\\n\")"
   ]
  },
  {
   "cell_type": "code",
   "execution_count": null,
   "metadata": {},
   "outputs": [],
   "source": [
    "# 데이터\n",
    "with open('./data/dnf_all_story_div512_without_qna.jsonl', 'r') as f:\n",
    "  dnf_story_data = json.load(f)"
   ]
  },
  {
   "cell_type": "code",
   "execution_count": 877,
   "metadata": {},
   "outputs": [
    {
     "data": {
      "text/plain": [
       "(' 고블린은 샹들리에 위에 올라가 있습니다.', ' 시란은 어떤 능력을 가지고 있는가?', '스토리')"
      ]
     },
     "execution_count": 877,
     "metadata": {},
     "output_type": "execute_result"
    }
   ],
   "source": [
    "t_des[-100], t_sub[-12340], t_cate[-100]"
   ]
  },
  {
   "cell_type": "code",
   "execution_count": 848,
   "metadata": {},
   "outputs": [
    {
     "name": "stdout",
     "output_type": "stream",
     "text": [
      "{'subject': '몬스터/생물_투창의 욤', 'content': '노스마이어에서 활동하던 도둑이었던 그녀는, 여섯 개의 부메랑처럼 생긴 투창을 동시에 던지는 신기를 가진 유명한 도적이었다.하지만 노스마이어가 전염병에 황폐해지고, 도적 단이 모두 죽어 나가는 것을 보고 재빨리 그곳을 빠져나왔다.어쩔 수 없이 벨마이어 공국 안쪽으로 들어가야 했지만 이미 현상수배범이 되어 있어 도둑질 외에는 할 수 있는 일이 없었다.그러다 일확천금을 할 수 있다는 무한의 제단으로 향했다가 실수로 극한의 제단으로 향해버리고 말았다.아직도 본인은 자신이 있는 곳이 무한의 제단인 줄 알고 열심히 극한의 제단에서 싸우고 있다.', 'category': 'Story'}\n",
      "{'subject': '모험가들은 왜 사막 깊숙한 곳으로 여행을 하나요?', 'content': '모험가들은 사막 깊숙한 곳에 무엇이 기다리고 있는지 알아보기 위해 여행을 합니다.', 'category': 'Story_qna'}\n"
     ]
    }
   ],
   "source": [
    "import random\n",
    "random.seed(777)\n",
    "\n",
    "print(all_texts_with_tokens[-16000])\n",
    "random.shuffle(all_texts_with_tokens)\n",
    "print(all_texts_with_tokens[-16000])"
   ]
  },
  {
   "cell_type": "code",
   "execution_count": 574,
   "metadata": {},
   "outputs": [],
   "source": [
    "pattern_instruction = 'prompt'  # instruction\n",
    "pattern_input = 'input'  # 내 데이터엔 input이 없다\n",
    "pattern_output = 'completion'  # output\n",
    "\n",
    "# prompt_no_input.format_map(example)\n",
    "\n",
    "dnf_story_datas = []\n",
    "\n",
    "for s in stories:\n",
    "    for key, texts in s.items():\n",
    "        \n",
    "        for sub_key, text in texts.items():\n",
    "            sub_key = sub_key[:-1] if sub_key[-1] == '_' else sub_key\n",
    "\n",
    "            dnf_story_datas.append({pattern_instruction : f\"'{sub_key}'에 대한 설명 혹은 이야기입니다.\", pattern_output : text, 'category' : 'story'})\n",
    "\n"
   ]
  },
  {
   "cell_type": "code",
   "execution_count": 575,
   "metadata": {},
   "outputs": [],
   "source": [
    "for q,a in zip(question, answer):\n",
    "    dnf_story_datas.append({pattern_instruction : q, pattern_output : a})"
   ]
  },
  {
   "cell_type": "code",
   "execution_count": 611,
   "metadata": {},
   "outputs": [
    {
     "name": "stdout",
     "output_type": "stream",
     "text": [
      "Collecting jsonlines\n",
      "  Downloading jsonlines-3.1.0-py3-none-any.whl (8.6 kB)\n",
      "Requirement already satisfied: attrs>=19.2.0 in /Users/seokholee/opt/anaconda3/envs/ds_study/lib/python3.7/site-packages (from jsonlines) (23.1.0)\n",
      "Requirement already satisfied: typing-extensions in /Users/seokholee/opt/anaconda3/envs/ds_study/lib/python3.7/site-packages (from jsonlines) (4.7.1)\n",
      "Requirement already satisfied: importlib-metadata in /Users/seokholee/opt/anaconda3/envs/ds_study/lib/python3.7/site-packages (from attrs>=19.2.0->jsonlines) (4.13.0)\n",
      "Requirement already satisfied: zipp>=0.5 in /Users/seokholee/opt/anaconda3/envs/ds_study/lib/python3.7/site-packages (from importlib-metadata->attrs>=19.2.0->jsonlines) (3.15.0)\n",
      "Installing collected packages: jsonlines\n",
      "Successfully installed jsonlines-3.1.0\n",
      "\n",
      "\u001b[1m[\u001b[0m\u001b[34;49mnotice\u001b[0m\u001b[1;39;49m]\u001b[0m\u001b[39;49m A new release of pip is available: \u001b[0m\u001b[31;49m23.1.2\u001b[0m\u001b[39;49m -> \u001b[0m\u001b[32;49m23.3.2\u001b[0m\n",
      "\u001b[1m[\u001b[0m\u001b[34;49mnotice\u001b[0m\u001b[1;39;49m]\u001b[0m\u001b[39;49m To update, run: \u001b[0m\u001b[32;49mpip install --upgrade pip\u001b[0m\n"
     ]
    }
   ],
   "source": [
    "# !pip install jsonlines\n",
    "import jsonlines\n",
    "\n",
    "data = []\n",
    "with jsonlines.open(\"./data/dnf_story_data.jsonl\") as f:\n",
    "    for line in f.iter():\n",
    "    \tdata.append(line)"
   ]
  },
  {
   "cell_type": "code",
   "execution_count": 583,
   "metadata": {},
   "outputs": [],
   "source": [
    "import json\n",
    "from collections import OrderedDict\n",
    "\n",
    "# my_data = OrderedDict()\n",
    "# my_data[\"id\"] = \"this is id\"\n",
    "# my_data[\"title\"] = \"this is title\"\n",
    "for dnf_data in dnf_story_datas:\n",
    "    with open(\"./data/dnf_story_data.jsonl\", \"a\", encoding=\"utf-8\") as f:\n",
    "        json.dump(dnf_data, f, ensure_ascii=False) # ensure_ascii로 한글이 깨지지 않게 저장\n",
    "        f.write(\"\\n\") # json을 쓰는 것과 같지만, 여러 줄을 써주는 것이므로 \"\\n\"을 붙여준다."
   ]
  },
  {
   "cell_type": "code",
   "execution_count": 701,
   "metadata": {},
   "outputs": [
    {
     "data": {
      "text/plain": [
       "{'prompt': ' 사샤는 어떠한 마음씨를 가지고 있나요?',\n",
       " 'completion': ' 사샤는 작은 미물마저 사랑하는 넓은 마음씨를 가지고 있습니다.'}"
      ]
     },
     "execution_count": 701,
     "metadata": {},
     "output_type": "execute_result"
    }
   ],
   "source": [
    "dnf_story_datas[-1]"
   ]
  },
  {
   "cell_type": "code",
   "execution_count": 644,
   "metadata": {},
   "outputs": [],
   "source": [
    "# 대화형 텍스트와 설명 텍스트, 그리고 각 사용자 정보\n",
    "conversations_and_descriptions_and_users = [\n",
    "    (\"안녕하세요?\", \"일반 대화\", \"User1\"),\n",
    "    (\"오늘 날씨 어때요?\", \"날씨\", \"User2\"),\n",
    "    (\"뭐 해요?\", \"업무\", \"User3\"),\n",
    "    (\"자연에 대해 설명해주세요.\", \"자연에는 다양한 생태계가 존재하며, 생명이 풍부합니다.\", ''),\n",
    "    (\"과학에 대해 설명해주세요.\", \"과학은 자연 현상을 이해하고 설명하기 위한 학문입니다.\")\n",
    "]\n",
    "\n",
    "# 대화 데이터에서 문장, 대상, 대화 참여자 정보, 내용을 추출\n",
    "utterances, descriptions, users = [], [], []\n",
    "for item in conversations_and_descriptions_and_users:\n",
    "    utterances.append(item[0])\n",
    "    descriptions.append(item[1] if len(item) > 2 else None)\n",
    "    \n",
    "    temp = item[2] if len(item) > 2 else 'Story'\n",
    "    temp = temp if len(temp) else 'Story'\n",
    "    users.append(temp)"
   ]
  },
  {
   "cell_type": "code",
   "execution_count": 837,
   "metadata": {},
   "outputs": [],
   "source": []
  },
  {
   "cell_type": "code",
   "execution_count": 882,
   "metadata": {},
   "outputs": [],
   "source": [
    "alpaca = []\n",
    "with jsonlines.open(\"./data/alpaca/KoAlpaca_v1.1.jsonl\") as f:\n",
    "    for line in f.iter():\n",
    "    \talpaca.append(line)"
   ]
  },
  {
   "cell_type": "code",
   "execution_count": null,
   "metadata": {},
   "outputs": [],
   "source": [
    "for a in alpaca[:10]:\n",
    "    for k, v in a.items():\n",
    "        print(k)\n",
    "        print(v)\n",
    "        print()"
   ]
  },
  {
   "cell_type": "code",
   "execution_count": 6,
   "metadata": {},
   "outputs": [],
   "source": [
    "with open('./data/alpaca/kochatgpt_2_RM.jsonl', 'r') as f:\n",
    "    kogpt = json.load(f)"
   ]
  },
  {
   "cell_type": "code",
   "execution_count": null,
   "metadata": {},
   "outputs": [],
   "source": [
    "for a in kogpt[:10]:\n",
    "    for k, v in a.items():\n",
    "        print(k)\n",
    "        print(v)\n",
    "        print()"
   ]
  },
  {
   "cell_type": "code",
   "execution_count": 17,
   "metadata": {},
   "outputs": [
    {
     "data": {
      "text/plain": [
       "'번디는 다양한 인터뷰자들과 뉴스홍보 담당자들과의 면담 때 밝혔다.'"
      ]
     },
     "execution_count": 17,
     "metadata": {},
     "output_type": "execute_result"
    }
   ],
   "source": [
    "kogpt[0]['completion_'+str(kogpt[0]['ranking'].index(1))]"
   ]
  },
  {
   "cell_type": "code",
   "execution_count": null,
   "metadata": {},
   "outputs": [],
   "source": [
    "dnf_data_RM"
   ]
  },
  {
   "cell_type": "code",
   "execution_count": 32,
   "metadata": {},
   "outputs": [
    {
     "ename": "IndexError",
     "evalue": "list index out of range",
     "output_type": "error",
     "traceback": [
      "\u001b[0;31m---------------------------------------------------------------------------\u001b[0m",
      "\u001b[0;31mIndexError\u001b[0m                                Traceback (most recent call last)",
      "\u001b[0;32m<ipython-input-32-a9211d24f985>\u001b[0m in \u001b[0;36m<module>\u001b[0;34m\u001b[0m\n\u001b[0;32m----> 1\u001b[0;31m \u001b[0mrm_data\u001b[0m\u001b[0;34m[\u001b[0m\u001b[0;36m1\u001b[0m\u001b[0;34m]\u001b[0m\u001b[0;34m\u001b[0m\u001b[0;34m\u001b[0m\u001b[0m\n\u001b[0m",
      "\u001b[0;31mIndexError\u001b[0m: list index out of range"
     ]
    }
   ],
   "source": [
    "rm_data[1]"
   ]
  },
  {
   "cell_type": "code",
   "execution_count": 39,
   "metadata": {},
   "outputs": [
    {
     "data": {
      "text/plain": [
       "'소녀는 처음으로 넓은 바다를 보고 감탄하며 그 아름다움에 매료되었습니다. 그러나 그녀가 바라본 바다 주변의 섬은 과거 전쟁으로 황폐해진 곳이었습니다. 이곳에서 바다와 다른 풍경을 이루는 활화산이 있는 섬에 사도 안톤이 존재했다는 사실에 놀라움을 감추지 못했습니다. 소녀는 마계와 천계를 이어주는 통신 장치를 통해 연결된 리아 리히터와 통신을 하며, 자신이 마계에서 사라진 사도들을 찾는 데에 중요한 역할을 할 것이라는 기대감을 주고받습니다. 그러나 갑자기 차원의 틈이 닫혀 통신은 끊기고, 이제 그녀는 천계와 마계의 경계에서 불확실한 미래를 향해 자신의 역할을 다하기 위해 각오를 다집니다.'"
      ]
     },
     "execution_count": 39,
     "metadata": {},
     "output_type": "execute_result"
    }
   ],
   "source": [
    "list_data_dict[0]['completion_'+str(list_data_dict[0]['ranking'].index(0))]"
   ]
  },
  {
   "cell_type": "code",
   "execution_count": 34,
   "metadata": {},
   "outputs": [],
   "source": [
    "import json\n",
    "with open('./data/dnf_story_1Q3A.json') as f:\n",
    "    dnf_data_RM = json.load(f)"
   ]
  },
  {
   "cell_type": "code",
   "execution_count": 35,
   "metadata": {},
   "outputs": [],
   "source": [
    "def check_len(q, l, m, s):\n",
    "    return (len(q) == len(l) == len(m)  == len(s))"
   ]
  },
  {
   "cell_type": "code",
   "execution_count": 36,
   "metadata": {},
   "outputs": [
    {
     "data": {
      "text/plain": [
       "2768"
      ]
     },
     "execution_count": 36,
     "metadata": {},
     "output_type": "execute_result"
    }
   ],
   "source": [
    "q_t, l_t, m_t, s_t = [], [], [], []\n",
    "\n",
    "cnt = 0\n",
    "for key, value in dnf_data_RM['content'].items():\n",
    "    try:\n",
    "        # value = re.sub('[가-힣]*(질문|장문|중문|단문)[ :]+', '', value)\n",
    "        value = re.sub('###', '', value)\n",
    "        # value = re.sub('\\n{2,}', '\\n', value)\n",
    "\n",
    "        tmp_q, tmp_l, tmp_m, tmp_s = [], [], [], []\n",
    "            \n",
    "        for line in value.split('\\n'):\n",
    "            if '질문과' in line[:3] : continue\n",
    "            \n",
    "            if '질문' in line[:3]:\n",
    "                tmp_q.append(re.sub('[가-힣]*(질문|장문|중문|단문)[ :]+', '', line))\n",
    "                continue\n",
    "            elif '장문' in line[:3]:\n",
    "                tmp_l.append(re.sub('[가-힣]*(질문|장문|중문|단문)[ :]+', '', line))\n",
    "                continue\n",
    "            elif '중문' in line[:3]:\n",
    "                tmp_m.append(re.sub('[가-힣]*(질문|장문|중문|단문)[ :]+', '', line))\n",
    "                continue\n",
    "            elif '단문' in line[:3]:\n",
    "                tmp_s.append(re.sub('[가-힣]*(질문|장문|중문|단문)[ :]+', '', line))\n",
    "                continue\n",
    "\n",
    "        \n",
    "        if check_len(tmp_q, tmp_l, tmp_m, tmp_s):\n",
    "            q_t += tmp_q\n",
    "            l_t += tmp_l\n",
    "            m_t += tmp_m\n",
    "            s_t += tmp_s\n",
    "            cnt+=1\n",
    "        else:\n",
    "            raise()\n",
    "    except:\n",
    "        # print('---')\n",
    "        # print(key, value)\n",
    "        # print('---')\n",
    "        pass\n",
    "\n",
    "\n",
    "\n",
    "\n",
    "len(dnf_data_RM['content']) - cnt"
   ]
  },
  {
   "cell_type": "code",
   "execution_count": 37,
   "metadata": {},
   "outputs": [
    {
     "data": {
      "text/plain": [
       "(0, 0, 0, 0)"
      ]
     },
     "execution_count": 37,
     "metadata": {},
     "output_type": "execute_result"
    }
   ],
   "source": [
    "len(q_t), len(l_t), len(m_t), len(s_t)"
   ]
  },
  {
   "cell_type": "code",
   "execution_count": null,
   "metadata": {},
   "outputs": [],
   "source": [
    "dnf_data_RM['content']"
   ]
  },
  {
   "cell_type": "code",
   "execution_count": 27,
   "metadata": {},
   "outputs": [],
   "source": [
    "import random\n",
    "rd = []\n",
    "for i in range(len(dnf_data_RM['content'])):\n",
    "    tmp = []\n",
    "    tmp.append((random.choices(range(0,3), weights=[0.8, 0.15, 0.05]))[0])\n",
    "    \n",
    "    while True:\n",
    "        num = (random.choices(range(0,3), weights=[0.7, 0.2, 0.1]))[0]\n",
    "        if num in tmp: continue\n",
    "        tmp.append(num)\n",
    "\n",
    "        if len(tmp) == 3:\n",
    "            break\n",
    "        \n",
    "    \n",
    "    rd.append(tmp)"
   ]
  },
  {
   "cell_type": "code",
   "execution_count": null,
   "metadata": {},
   "outputs": [],
   "source": [
    "text = '통신_ 질문 : 바다와 전쟁의 흔적, 그리고 마계의 사도들에 대한 이야기를 요약 해주세요. ###'\n",
    "\n",
    "re.sub('[가-힣]*(질문|장문|중문|단문)[ :]+', '', value) # 질문\n"
   ]
  },
  {
   "cell_type": "code",
   "execution_count": 29,
   "metadata": {},
   "outputs": [],
   "source": [
    "rm_data = []\n",
    "for q, l, m, s, rank in zip(q_t, l_t, m_t, s_t, rd):\n",
    "    rm_data.append({\n",
    "        'prompt': q.strip(),\n",
    "        'completion_0' : l.strip(),\n",
    "        'completion_1' : m.strip(),\n",
    "        'completion_2' : s.strip(),\n",
    "        'ranking' : rank\n",
    "    })"
   ]
  },
  {
   "cell_type": "code",
   "execution_count": 1084,
   "metadata": {},
   "outputs": [],
   "source": [
    "with open('./data/dnf_data_RM.json', 'w') as f:\n",
    "    json.dump(rm_data, f)"
   ]
  },
  {
   "cell_type": "code",
   "execution_count": 38,
   "metadata": {},
   "outputs": [
    {
     "name": "stdout",
     "output_type": "stream",
     "text": [
      "## data check ##\n",
      "{'prompt': '바다와 전쟁의 흔적, 그리고 마계의 사도들에 대한 이야기를 요약 해주세요.', 'completion_0': '소녀는 처음으로 넓은 바다를 보고 감탄하며 그 아름다움에 매료되었습니다. 그러나 그녀가 바라본 바다 주변의 섬은 과거 전쟁으로 황폐해진 곳이었습니다. 이곳에서 바다와 다른 풍경을 이루는 활화산이 있는 섬에 사도 안톤이 존재했다는 사실에 놀라움을 감추지 못했습니다. 소녀는 마계와 천계를 이어주는 통신 장치를 통해 연결된 리아 리히터와 통신을 하며, 자신이 마계에서 사라진 사도들을 찾는 데에 중요한 역할을 할 것이라는 기대감을 주고받습니다. 그러나 갑자기 차원의 틈이 닫혀 통신은 끊기고, 이제 그녀는 천계와 마계의 경계에서 불확실한 미래를 향해 자신의 역할을 다하기 위해 각오를 다집니다.', 'completion_1': '바다를 처음 본 소녀는 과거 전쟁터였던 섬의 아름다움에 놀랍니다. 그리고 통신기를 통해 리아와 사도 안톤의 존재 및 상황을 나누며 정보를 주고받지만, 차원의 틈이 닫혀 다시 연락을 기다려야 하는 상황에 처하게 됩니다.', 'completion_2': '바다에 감탄한 소녀가 마계의 사도들과 관련한 중요한 통신을 하다 차원의 틈이 닫혀 소통이 끊깁니다.', 'ranking': [0, 2, 1]}\n"
     ]
    }
   ],
   "source": [
    "with open('./dnf_data_RM.json', 'r', encoding='utf-8-sig') as json_file:\n",
    "    list_data_dict = json.load(json_file)\n",
    "    if True:\n",
    "        print('## data check ##')\n",
    "        print((list_data_dict[0]))"
   ]
  },
  {
   "cell_type": "code",
   "execution_count": 1093,
   "metadata": {},
   "outputs": [
    {
     "data": {
      "text/plain": [
       "\"'플레인 : 인퍼널'에서 이단심판관들은 위장자가 된 세계에서 자신들을 저주받은 불꽃이라 칭하며 자신들만의 길을 걷기 시작했습니다. 이들은 혼돈의 신에게 복종하지 않았지만, 여전히 신을 향한 믿음만큼은 갖고 있었습니다. 그러나 위장자의 기운으로 인해 불꽃이 검보라빛으로 변하면서 더욱 강력해졌습니다. 마침내 모든 위장자를 소멸시키고 아라드에 평화를 가져다줬습니다.\""
      ]
     },
     "execution_count": 1093,
     "metadata": {},
     "output_type": "execute_result"
    }
   ],
   "source": [
    "m_t[2200]"
   ]
  },
  {
   "cell_type": "code",
   "execution_count": 41,
   "metadata": {},
   "outputs": [],
   "source": [
    "with open('./data/dnf_story_offical_qna2.json', 'r') as f:\n",
    "    dnf_qnas = json.load(f)"
   ]
  },
  {
   "cell_type": "code",
   "execution_count": 47,
   "metadata": {},
   "outputs": [
    {
     "data": {
      "text/plain": [
       "'질문0 : 리아가 알게 된 정보를 니우에게 알려준 것은 무엇인가요?\\n답변0 : 리아는 죽은 자의 성에서 전송되는 전자 잡음이 사도들의 행적 정보를 니우에게 전달하는 것을 알아냈습니다.###\\n\\n질문1 : 리아는 어떤 마계의 마법사인가요?\\n답변1 : 리아는 니우에게 사도들을 추격하고 있는 마계의 마법사라고 알려주었습니다.###\\n\\n질문2 : 니우는 왜 죽은 자의 성으로 올라갔을까요?\\n답변2 : 니우는 모든 것을 파괴하고 먹어 치우는 사도들의 악행을 막기 위해 죽은 자의 성으로 올라 차원의 틈이 천계와 마계를 이어주기를 기다리고 있었습니다.###\\n\\n질문3 : 파워 스테이션을 누가 점거하고 있나요?\\n답변3 : 파워 스테이션을 점거하고 있는 안톤의 수호자들이 있습니다.###\\n\\n질문4 : 안톤은 어떤 특징이 있나요?\\n답변4 : 안톤은 이글거리는 용암을 내뿜고 있는 활화산으로 모든 곳에서 마계의 몬스터가 들끓는 이질적인 섬입니다.###\\n\\n질문5 : 리아의 도움을 받기 위해서는 어떤 일을 해야 하나요?\\n답변5 : 리아와 통신이 다시 이뤄질 때까지 우선은 파워 스테이션을 점거하고 있는 안톤의 수호자들을 몰아내야 합니다.###\\n\\n질문6 : 리아와의 통신이 끊긴 이유는 무엇인가요?\\n답변6 : 차원의 틈이 닫혀 차원의 틈이 끊긴 것으로 추측되며, 따라서 리아와의 통신이 끊긴 것입니다.###\\n\\n질문7 : 안톤의 수호자들을 몰아내기 위해 필요한 것은 무엇인가요?\\n답변7 : 안톤의 수호자들을 몰아내기 위해서는 용맹한 모험가들의 도움이 필요합니다.###\\n\\n질문8 : 페럴 웨인은 무슨 역할을 하고 있나요?\\n답변8 : 페럴 웨인은 멜빈과 각별한 사이로, 전기 계통의 전문가로서 파워 스테이션의 복구와 안톤의 약점 분석을 위해서 슬라우 공업단지로 파견되었습니다.###\\n\\n질문9 : 리아가 니우에게 전달한 정보에 따라 니우는 어떤 결정을 내리게 되었나요?\\n답변9 : 니우는 사도 안톤을 해치우기 위해 도움을 받기 위해 리아와 연락을 취하고, 안톤의 수호자들을 몰아낸 후에 리아와의 연락을 기다릴 결정을 내렸습니다.###'"
      ]
     },
     "execution_count": 47,
     "metadata": {},
     "output_type": "execute_result"
    }
   ],
   "source": [
    "for content in dnf_qnas['content'].values():\n"
   ]
  },
  {
   "cell_type": "code",
   "execution_count": 69,
   "metadata": {},
   "outputs": [
    {
     "name": "stderr",
     "output_type": "stream",
     "text": [
      "100%|██████████| 2035/2035 [00:00<00:00, 28250.13it/s]\n"
     ]
    }
   ],
   "source": [
    "import re\n",
    "from tqdm import tqdm\n",
    "\n",
    "tmp_q, tmp_a = [], []\n",
    "except_data= []\n",
    "\n",
    "for qna in tqdm(dnf_qnas['content'].values()):\n",
    "    try:\n",
    "        for txt in qna.split('###'):\n",
    "            check_data = re.search('질문[0-9][가-힣 :]+', txt)\n",
    "            if check_data:\n",
    "                if check_data.end() < 4 : raise()\n",
    "\n",
    "                txt = re.sub('\\n\\n', '', txt)\n",
    "                q,a = txt.split('\\n')\n",
    "                if '?' in a:\n",
    "                    break\n",
    "                tmp_q.append(q)\n",
    "                tmp_a.append(a)\n",
    "    except:\n",
    "        except_data.append(qna)\n",
    "        continue\n"
   ]
  },
  {
   "cell_type": "code",
   "execution_count": 72,
   "metadata": {},
   "outputs": [
    {
     "data": {
      "text/plain": [
       "(10582, 10582)"
      ]
     },
     "execution_count": 72,
     "metadata": {},
     "output_type": "execute_result"
    }
   ],
   "source": [
    "len(tmp_q), len(tmp_a)"
   ]
  },
  {
   "cell_type": "code",
   "execution_count": 73,
   "metadata": {},
   "outputs": [
    {
     "data": {
      "text/plain": [
       "'질문0 : 리아가 알게 된 정보를 니우에게 알려준 것은 무엇인가요?'"
      ]
     },
     "execution_count": 73,
     "metadata": {},
     "output_type": "execute_result"
    }
   ],
   "source": [
    "tmp_q[0]"
   ]
  },
  {
   "cell_type": "code",
   "execution_count": 79,
   "metadata": {},
   "outputs": [],
   "source": [
    "q_list, a_list = [], []\n",
    "p = re.compile('(질문|답변)[0-9 :]+')\n",
    "\n",
    "for q, a in zip(tmp_q, tmp_a):\n",
    "    q_list.append(p.sub('', q))\n",
    "    a_list.append(p.sub('', a))\n",
    "\n",
    "\n",
    "    "
   ]
  },
  {
   "cell_type": "code",
   "execution_count": 80,
   "metadata": {},
   "outputs": [
    {
     "data": {
      "text/plain": [
       "['리아가 알게 된 정보를 니우에게 알려준 것은 무엇인가요?',\n",
       " '리아는 어떤 마계의 마법사인가요?',\n",
       " '니우는 왜 죽은 자의 성으로 올라갔을까요?',\n",
       " '파워 스테이션을 누가 점거하고 있나요?',\n",
       " '안톤은 어떤 특징이 있나요?',\n",
       " '리아의 도움을 받기 위해서는 어떤 일을 해야 하나요?',\n",
       " '리아와의 통신이 끊긴 이유는 무엇인가요?',\n",
       " '안톤의 수호자들을 몰아내기 위해 필요한 것은 무엇인가요?',\n",
       " '페럴 웨인은 무슨 역할을 하고 있나요?',\n",
       " '리아가 니우에게 전달한 정보에 따라 니우는 어떤 결정을 내리게 되었나요?']"
      ]
     },
     "execution_count": 80,
     "metadata": {},
     "output_type": "execute_result"
    }
   ],
   "source": [
    "q_list[:10]"
   ]
  },
  {
   "cell_type": "code",
   "execution_count": 81,
   "metadata": {},
   "outputs": [
    {
     "data": {
      "text/plain": [
       "['리아는 죽은 자의 성에서 전송되는 전자 잡음이 사도들의 행적 정보를 니우에게 전달하는 것을 알아냈습니다.',\n",
       " '리아는 니우에게 사도들을 추격하고 있는 마계의 마법사라고 알려주었습니다.',\n",
       " '니우는 모든 것을 파괴하고 먹어 치우는 사도들의 악행을 막기 위해 죽은 자의 성으로 올라 차원의 틈이 천계와 마계를 이어주기를 기다리고 있었습니다.',\n",
       " '파워 스테이션을 점거하고 있는 안톤의 수호자들이 있습니다.',\n",
       " '안톤은 이글거리는 용암을 내뿜고 있는 활화산으로 모든 곳에서 마계의 몬스터가 들끓는 이질적인 섬입니다.',\n",
       " '리아와 통신이 다시 이뤄질 때까지 우선은 파워 스테이션을 점거하고 있는 안톤의 수호자들을 몰아내야 합니다.',\n",
       " '차원의 틈이 닫혀 차원의 틈이 끊긴 것으로 추측되며, 따라서 리아와의 통신이 끊긴 것입니다.',\n",
       " '안톤의 수호자들을 몰아내기 위해서는 용맹한 모험가들의 도움이 필요합니다.',\n",
       " '페럴 웨인은 멜빈과 각별한 사이로, 전기 계통의 전문가로서 파워 스테이션의 복구와 안톤의 약점 분석을 위해서 슬라우 공업단지로 파견되었습니다.',\n",
       " '니우는 사도 안톤을 해치우기 위해 도움을 받기 위해 리아와 연락을 취하고, 안톤의 수호자들을 몰아낸 후에 리아와의 연락을 기다릴 결정을 내렸습니다.']"
      ]
     },
     "execution_count": 81,
     "metadata": {},
     "output_type": "execute_result"
    }
   ],
   "source": [
    "a_list[:10]"
   ]
  },
  {
   "cell_type": "code",
   "execution_count": 82,
   "metadata": {},
   "outputs": [],
   "source": [
    "for q, a in zip(q_list, a_list):\n",
    "    with open(\"./data/dnf_short_qna.jsonl\", \"a\", encoding=\"utf-8\") as f:\n",
    "        json.dump({'prompt' : q, 'completion' : a }, f, ensure_ascii=False) # ensure_ascii로 한글이 깨지지 않게 저장\n",
    "        f.write(\"\\n\")\n"
   ]
  },
  {
   "cell_type": "code",
   "execution_count": 84,
   "metadata": {},
   "outputs": [],
   "source": [
    "import jsonlines\n",
    "data = []\n",
    "with jsonlines.open(\"./data/dnf_short_qna.jsonl\") as f:\n",
    "    for line in f.iter():\n",
    "    \tdata.append(line)"
   ]
  },
  {
   "cell_type": "code",
   "execution_count": 96,
   "metadata": {},
   "outputs": [],
   "source": [
    "import jsonlines\n",
    "a_story = []\n",
    "with jsonlines.open(\"./data/dnf_story_data.jsonl\") as f:\n",
    "    for line in f.iter():\n",
    "    \ta_story.append(line)"
   ]
  },
  {
   "cell_type": "code",
   "execution_count": 304,
   "metadata": {},
   "outputs": [],
   "source": [
    "with open('./data/dnf_main_story_token_1024.json', 'r') as f:\n",
    "    main_story = json.load(f)\n",
    "\n",
    "with open('./data/dnf_stories_offical.json', 'r') as f:\n",
    "    offical_story = json.load(f)\n",
    "\n",
    "with open('./data/dnf_data_RM.json', 'r') as f:\n",
    "    rm_data = json.load(f)"
   ]
  },
  {
   "cell_type": "code",
   "execution_count": 305,
   "metadata": {},
   "outputs": [],
   "source": [
    "from soynlp.normalizer import repeat_normalize\n",
    "\n",
    "def preprocessing_dnf(txt):\n",
    "    x = re.sub('[^가-힣0-9,. \\'\\\"\\(\\)眞]', '', txt)\n",
    "    x = x.strip()\n",
    "    x = repeat_normalize(x, num_repeats=2)\n",
    "    return x"
   ]
  },
  {
   "cell_type": "code",
   "execution_count": 310,
   "metadata": {},
   "outputs": [],
   "source": [
    "main_stories = []\n",
    "for key, value in main_story.items():\n",
    "    if value == '\\n' : pass\n",
    "    \n",
    "    key = re.sub('_[0-9]+', '' , key)\n",
    "\n",
    "    title = preprocessing_dnf(key)\n",
    "    content = preprocessing_dnf(value)\n",
    "    main_stories.append({'prompt' : title+'에 대한 이야기 입니다.', 'completion' : content})\n"
   ]
  },
  {
   "cell_type": "code",
   "execution_count": 312,
   "metadata": {},
   "outputs": [
    {
     "data": {
      "text/plain": [
       "3548"
      ]
     },
     "execution_count": 312,
     "metadata": {},
     "output_type": "execute_result"
    }
   ],
   "source": [
    "len(main_stories)"
   ]
  },
  {
   "cell_type": "code",
   "execution_count": 311,
   "metadata": {},
   "outputs": [],
   "source": [
    "for key, value in offical_story.items():\n",
    "\n",
    "    for title, content in value.items():\n",
    "        title = re.sub('_', ' ', title).strip()\n",
    "        title = preprocessing_dnf(title)\n",
    "        content = preprocessing_dnf(content)\n",
    "        \n",
    "        txt = ''\n",
    "        for tmp in content.split('.'):\n",
    "            if len(tmp) < 2 : continue\n",
    "            \n",
    "            if len(txt) > 900:\n",
    "                main_stories.append({'prompt' : title+'에 대한 이야기 입니다.', 'completion' : txt})\n",
    "                txt = ''\n",
    "            \n",
    "            txt+=tmp\n",
    "        \n",
    "        if txt!='':\n",
    "            main_stories.append({'prompt' : title+'에 대한 이야기 입니다.', 'completion' : txt})\n"
   ]
  },
  {
   "cell_type": "code",
   "execution_count": 313,
   "metadata": {},
   "outputs": [],
   "source": [
    "for x in rm_data:\n",
    "    main_stories.append({'prompt' : preprocessing_dnf(x['prompt']), 'completion' : preprocessing_dnf(x['completion_'+str(x['ranking'].index(0))])})"
   ]
  },
  {
   "cell_type": "code",
   "execution_count": 314,
   "metadata": {},
   "outputs": [],
   "source": [
    "for q, a in zip(q_list, a_list):\n",
    "    main_stories.append({'prompt' : q, 'completion' : a })\n"
   ]
  },
  {
   "cell_type": "code",
   "execution_count": 315,
   "metadata": {},
   "outputs": [
    {
     "data": {
      "text/plain": [
       "16898"
      ]
     },
     "execution_count": 315,
     "metadata": {},
     "output_type": "execute_result"
    }
   ],
   "source": [
    "len(main_stories)"
   ]
  },
  {
   "cell_type": "code",
   "execution_count": 316,
   "metadata": {},
   "outputs": [],
   "source": [
    "for story in main_stories:\n",
    "    with open(\"./data/dnf_story_forTrain_tokenFor1024.jsonl\", \"a\", encoding=\"utf-8\") as f:\n",
    "        json.dump(story, f, ensure_ascii=False) # ensure_ascii로 한글이 깨지지 않게 저장\n",
    "        f.write(\"\\n\")\n"
   ]
  },
  {
   "cell_type": "code",
   "execution_count": 88,
   "metadata": {},
   "outputs": [
    {
     "data": {
      "application/vnd.jupyter.widget-view+json": {
       "model_id": "274fa1444cd9460492d5d9e50391e9b8",
       "version_major": 2,
       "version_minor": 0
      },
      "text/plain": [
       "Downloading tokenizer_config.json:   0%|          | 0.00/174 [00:00<?, ?B/s]"
      ]
     },
     "metadata": {},
     "output_type": "display_data"
    },
    {
     "data": {
      "application/vnd.jupyter.widget-view+json": {
       "model_id": "7b9e1fd6dfea47f49f43b20536229ada",
       "version_major": 2,
       "version_minor": 0
      },
      "text/plain": [
       "Downloading tokenizer.json:   0%|          | 0.00/1.65M [00:00<?, ?B/s]"
      ]
     },
     "metadata": {},
     "output_type": "display_data"
    },
    {
     "data": {
      "application/vnd.jupyter.widget-view+json": {
       "model_id": "dca6e6a3ba2b4ab28a5f7ac82658cc43",
       "version_major": 2,
       "version_minor": 0
      },
      "text/plain": [
       "Downloading (…)cial_tokens_map.json:   0%|          | 0.00/204 [00:00<?, ?B/s]"
      ]
     },
     "metadata": {},
     "output_type": "display_data"
    }
   ],
   "source": [
    "from transformers import AutoTokenizer\n",
    "\n",
    "tokenizer = AutoTokenizer.from_pretrained(\"EleutherAI/polyglot-ko-12.8b\")"
   ]
  },
  {
   "cell_type": "code",
   "execution_count": 269,
   "metadata": {},
   "outputs": [
    {
     "name": "stderr",
     "output_type": "stream",
     "text": [
      "  0%|          | 0/16194 [00:00<?, ?it/s]"
     ]
    },
    {
     "name": "stderr",
     "output_type": "stream",
     "text": [
      "100%|██████████| 16194/16194 [00:10<00:00, 1593.47it/s]\n"
     ]
    }
   ],
   "source": [
    "# fitting prefix form\n",
    "over_text = []\n",
    "origin = []\n",
    "for x in tqdm(main_stories):\n",
    "    encode = tokenizer.encode(f\"### 질문: {x['prompt']}\\n\\n### 답변: {x['completion']}<|endoftext|>\")\n",
    "    if len(encode) > 1024:\n",
    "        origin.append(x)\n",
    "        over_text.append(encode)\n"
   ]
  },
  {
   "cell_type": "code",
   "execution_count": 277,
   "metadata": {},
   "outputs": [
    {
     "data": {
      "text/plain": [
       "(array([95., 42., 13.,  5.,  4.,  2.,  0.,  0.,  1.,  2.]),\n",
       " array([ 1038.,  2134.,  3230.,  4326.,  5422.,  6518.,  7614.,  8710.,\n",
       "         9806., 10902., 11998.]),\n",
       " <BarContainer object of 10 artists>)"
      ]
     },
     "execution_count": 277,
     "metadata": {},
     "output_type": "execute_result"
    },
    {
     "data": {
      "image/png": "[encoded data removed]",
      "text/plain": [
       "<Figure size 432x288 with 1 Axes>"
      ]
     },
     "metadata": {
      "needs_background": "light"
     },
     "output_type": "display_data"
    }
   ],
   "source": [
    "import matplotlib.pyplot as plt\n",
    "\n",
    "\n",
    "plt.hist([len(x) for x in over_text])"
   ]
  },
  {
   "cell_type": "code",
   "execution_count": null,
   "metadata": {},
   "outputs": [],
   "source": [
    "[len(x) for x in over_text]"
   ]
  },
  {
   "cell_type": "code",
   "execution_count": 281,
   "metadata": {},
   "outputs": [
    {
     "data": {
      "text/plain": [
       "'### 질문: 프레이이시스 격추전에 대한 이야기 입니다.\\n\\n### 답변: 한편, 케이트는 이제 막 숙주에서 빠져나온 히카르도가 무사히 할렘 중심가에 도달하지 못했을 거라고 판단. 그가 몸을 숨겼을 것으로 추정되는 밤의 마천루를 목적지로 특정하는데 성공하나 얼마 안가 토벌단은 난관에 봉착한다. 밤의 마천루 전체에 이시스의 기운이 만연하고 있었기에, 알의 정확한 위치를 파악할 수 없었기 때문이다. 이때, 블라섬은 프레이가 아서의 정신에 간섭한 것을 근거로 아서와 프레이가 연결되어 있다는 추측해 블라섬과 알렉산드라는 아서를 통해서 프레이에게 신호를 보내 모험가를 창공으로 올려보낸다.그렇게 모험가는 마계의 하늘에서 프레이와 만나는데 성공한다. 프레이는 이시스와의 대결 후유증에서 천천히 회복 중이었으며 고향인 테이베르스를 구해준 것에 대한 감사하나 마땅한 보상도 하지 못하고 또 다른 부탁을 해야 하는 미안한 마음을 전한다. 가장 급박한 이시스의 사태의 해결을 위해선 프레이가 이시스를 흡수하는 것이 최선이지만 완전한 상태가 아닐 때, 섣불리 이시스를 흡수했다가 그의 악성을 정화하지 못해 삼켜지는 것을 염려하고 있었다. 현재 최선의 수로 이시스가 완전히 깨어나기 전에 알에 담긴 힘을 약화시켜 단숨에 흡수한다는 해답을 제시한다. 모험가에게 계획을 전달한 프레이는 추종자 아서에게 알의 위치를 특정할 수 있는 힘을 나눠주었고, 토벌단은 아서의 인도를 따라 밤의 마천루로 침입한다.허나 프레이의 바람과 달리 사태는 시간이 흐를수록 더더욱 심화되고 있었다. 이시스의 추종자들은 시간이 지날수록 늘어나고 카쉬파도 행방불명된 히카르도를 찾으러 밤의 마천루에 수색대를 풀었기 때문이다. 혼란의 삼파전 속에서 탐색을 계속하던 토벌단은 마침내 \\'신록의 프렉세스\\'와 조우한다. 그는 고대 신전의 수호자인 \\'오메가 가디언\\'에게 붙잡혀 있었는데, 토벌단은 오메가 가디언이 이시스의 기운에 잠식되었다고 판단하고 가디언을 파괴하여 신록의 프렉세스를 구출한다. 그런데 오메가 가디언은 쓰러지면서 모험가 일행에게 애절함이 담긴 의미불명의 말을 남긴다.그는 안돼.오메가 가디언이 쓰러지며 남긴 알 수 없는 말.프렉시스의 합류 이후, 밤의 마천루 중심에 도달한 토벌단은 모험가에게 알의 사수를 부탁하고 몰려오는 추종자들을 막아선다. 이시스의 알은 과거, 테이베르스의 기후를 떠받들던 \\'폭염의 탐구자 자드라콘\\'이 타락한 상태로 알을 따뜻하게 함으로써 이시스의 부활을 앞당기려 한 것이다. 아서와 모험가는 자드라콘을 알에서 떼어내는데 성공하지만46 레이드에서 재등장 하는 걸로 보아 지드라콘은 이때 죽진 않았다. 알에선 빛이 사라져 있었고 이시스의 기운은 더 이상 느껴지지 않았다. 이에 경악해 노심초사한 모험가가 황급히 토벌단으로 복귀했을 땐, 이미 토벌단이 궤멸적인 피해를 입어 전멸한 상태였다. 그나마 주요전력인 블라섬과 알렉산드라는 죽음이 확인되지 않았으며 어디론가 사라져있었다. 그리고 아서는 만신창이의 몸을 이끌고와 프렉세스를 쫓아야 된다는 말만 반복할 뿐이었다.모험가는 아서의 정체불명의 말을 따라 밤의 마천루를 최대한 수색하며 중상을 입은 블라섬과 알렉산드라를 발견하지만 둘 다 프렉세스를 쫓아야 한다고 힘겹게 말하자 모험가는 할 수 없이 둘을 놔두고 프렉세스를 추적한다.그리고 밤의 마천루 꼭대기에서 프렉세스는 이시스에게 무릎을 꿇으며 본성을 드러낸다. 다름아닌 프렉세스는 어둠의 인격인 알케토에게 주도권을 빼앗긴 상태였다. 마계에 당도하기 이전부터 알케토는 프렉세스를 연기하고 있었다.47 테이베르스 무너진 낙원 당시 스레니콘은 프렉세스가 알케도에게 잠식된 줄 알고 모험가와 함께 테이베르스로 찾아갔던 거지만 그때는 시기가 엇갈리는 바람에 만나지 못했다. 모험가는 스레니콘에게 알케토의 이야기는 들었지만 누군지 제대로 몰라서 속아버렸다. 즉, 오메가 가디언은 프렉세스가 아니라 알케토를 붙잡음으로써 피해를 막고 있던 것이었다. 오메가 가디언이 쓰러지며 남긴 말이 바로 이런 의미였다.알케토가 위장했던 이유는 경계를 받지 않고 이시스를 부활시킬 제물들을 손쉽게 유도하기 위해서였다. 모험가가 프렉세스를 찾았을 땐, 이미 알렉산드라와 블라섬이 이시스의 사악한 기운에 사로잡힌 상태였으며, 결국 이시스는 그 둘을 촉매로 완전히 부활하여 마계에 강림하고 만다. 걷잡을 수 없는 위험이 엄습하자 케이트는 마계 전체에 도움을 청하여 이시스와의 전쟁을 대비한다. 이는 오래전 마계에 전쟁을 건 바칼에 맞서 힐더를 필두로 벌어졌던 용의 전쟁 이후 최악의 재앙이었다.48 사실 스케일은 훨씬 크다. 바칼조차 두려워한 카인과 무승부를 낸 프레이와 호각이자 반쪽인 이시스인데다, 준 사도 급에 위치한 다수의 추종자들에, 로터스에 버금가는 정신지배까지 가지고 있어 더욱 최악이었다. 이 때문에 모험가에게 있어선 지금까지 싸워온 사도들 중 가장 전력차가 크다. 심지어 더 최악인 것은 프레이가 이시스에게 당장 쓸 수 있는게 모험가 밖에 안남았고 더욱이 보태 줄 수 있는 수단이 없었다. 프레이에게 남은 전력이 모험가, 스레니콘, 루프송, 블라섬, 알렉산드라, 그리고 추종자들과 우호 세력이었는데, 이시스의 알을 추적 중에 토벌단이 절멸당해 추종자들과 우호 세력이 약화됐고 하필 주요 전력인 블라섬과 알렉산드라가 이시스에게 타락한 탓에 프레이가 쓸 수 있는건 모험가, 스레니콘, 루프송, 마계에 있는 추종자에 우호세력 조금 밖에 없었다. 더욱 환장할 건 시간도 없는데 타락한 테이베르스의 주민들이 마계에 전부 온 만큼 이들을 막을 전력과 이시스에게 보내야할 전력을 나눠야 했다. 결국 이시스에게 쓸 수 있는건 모험가들에 보조해 줄 스레니콘과 루프송 뿐이었다. 그나마 루호스가 레이드 중에 등장해 도와주었지만 이마저도 미봉책 정도였다.49 차라리 모험가가 이시스의 주요전력을 토벌해 길을 열면 프레이가 이시스와 일기토를 벌이는 시나리오 생각할 수 있는데, 이 경우에는 모험가가 이시스를 상대하는 것보다 도박성이 더 커서 현실성이 없었다. 프레이도 이시스와 마찬가지로 몸상태가 안좋긴 마찬가지라 이시스를 제압할 수 있는지 미지수고 설령 제압한다해도 프레이가 너무 약해져서 흡수할 수도 없다. 결국 쓸 수 있는 패는 적고 모험가가 이시스를 상대해 약화시킨다는 차선책조차 성공여부를 확신할 수 없던 그야말로 사면초가의 위기였던 셈.50 심지어 시나리오 스토리의 추가후 밝혀진 사실은 이시스는 겨우 육체만 재구성한 상태라 힘을 쓰면 심한 반동이 오는데도 모험가를 상대로 봐주면서 싸우는게 가능한 수준이었다는것이다. 이시스는 자신처럼 죽음을 이끄는데도 모두가 따르며 다른 이의 삶을 위해 죽음을 짊어지고 시련으로 달려가는 모험가를 보며 배척당해 소멸의 위기에 몰렸던 자신이 모험가를 이해한다면 다시는 외면 받지 않을거라 생각해 자신의 억울함과 분노를 모험가에게 설파하며 일방적으로 몰아붙혔다. 그 와중에 죽지 않게 하려고 힘 조절을 할 정도.하지만 마계 전체에 도움을 구하기엔 이번엔 시간도 없었다. 막 부활한 이시스는 육체만 겨우 수복한 상태라 그 힘까지 불완전 했지만51 힘을 쓸 때마다 반동 대미지가 올 정도로 쇠약해진 상태였다. 이는 게임 상에서 패턴 파훼 후 방어력이 약화되는 것으로 구현되었으며, 이 정도 너프는 죽기 직전이었던 시로코, 로터스에 버금가는 정도다. 프레이와 마찬가지로 시간이 흐를수록 힘을 회복하기 때문이었다.모험가는 한시빨리 프레이의 추종자들과 동맹원들에게 사태를 설명하려고 했지만 필요 없었다. 이시스의 부활은 그 누구나 피부로 느낄 수 있는 재앙이었으며, 그 여파에 니우, 케이트조차 상황을 설명받지 못했음에도 멀리서 느꼈을 정도였다. 케이트는 좀 더 자세한 상황을 설명하고 싶었지만 이시스의 부활을 느낀 테이베르스의 추종자들이 마계로 계속해서 집결하고 있었다. 그녀는 서클메이지와 동맹인 수호자들과 함께 추종자들을 막아야만 했기에 케이트의 부탁을 전달받고 온 스레니콘이 뛰어내리라는 말에 모험가는 자력으로, 니우는 아서52 알케토에게 당한 상처가 스레니콘의 속력으로 인해 벌어져서 괴로워함에도 불구하고 동행했다.의 도움으로 스레니콘의 등 위에 타이밍 맞게 낙하하여 안착하는데 성공한다.아서는 상처에 괴로워하면서도 어떻게든 모험가가 이시스의 알을 회수하려고 자리를 비웠던 사이의 상황을 설명하길, 모험가가 사라진 직후 아서를 포함한 프레이의 추종자들과 동맹인 수호자들, 서클메이지 사이에서 강렬한 충격이 덮쳐왔다고 한다. 아서가 어떻게든 눈을 떴을 때 프렉세스로 위장한 것을 푼 알케도가 정신을 잃은 블라섬과 치명상을 입었음에도 발버둥 치는 알렉산드라를 제물삼아 이시스를 부활시키겠다고 웃음을 짓는 모습에 아서가 어떻게든 막아섰지만 알케토의 창에 꿰뚫려 아무것도 하지 못하고 그저 끌려가는 두사람을 무기력하게 봐야만 했다고 한다.53 어찌나 끔찍한 광경이었는지 아서는 피를 흘리면서 처참하게 끌려가며 고통에 찬 목소리로 알케토를 부르짖던 알렉산드라의 모습이 잊혀지지 않는다며 반응을 보인다.하지만 상황설명을 할 여유도 없었다. 이시스의 추종자이자 스레니콘을 격추시키기 위해 \"투사 쿠가이\"가 날아온 것이었다. 스레니콘도 쿠가이가 날뛰면 오래 버틸 수 없다며 서둘러 요격해달라고 부탁하자 부상을 입은 아서를 대신해 모험가, 니우가 함께 쿠가이를 수월히 제압한다.54 하지만 상대가 상대인지라 모험가는 어떻게든 괜찮았지만 앞서 전투 대미지를 회복못한 상태로 연전을 벌인 니우는 이때 무릎이 풀려버리고 만다.크아아아 나는 벌레와는 다르다 벌레와는 제압당한 투사 쿠가이의 발악모두 쿠가이를 제압했다고 확신했지만, 죽이지 않고 제압한 것이 그만 실수였다. 부상으로 전투를 지켜만 보던 아서만이 투사 쿠가이의 움직임에 안심하면 안된다고 다급히 외치던 그때, 황금빛 벼락과 함께 \"금시사 트리투라\"가 강림한다. 스레니콘은 누군지 알아보고 안색이 바뀌어 모두 피하라고 다급히 외치자 금시사 트리투라는 모험가 일행을 공격하려던 순간에 자신을 스스로 제지시켜 괴로워하면서도 투사 쿠가이를 잡아놓자 그틈을 놓치지 않은 스레니콘이 순간 가속으로 투사 쿠가이와 금시사 트리투라를 따돌리는데 성공한다.겨우 한숨 돌린 스레니콘은 금시사 트리투라에 대해 설명하며 바람길의 수호자이자 손꼽히는 전사라고 설명한다. 분명 이시스의 기운에 저항하지 못하고 잠식당한 줄 알았던 그가 돌연 이상행동을 한 것에 대해 의아해하자 모험가는 이시스의 기운에 잠식당한 것에 저항하는 모습이 분명하다면서 한가지 가능성을 곱씹고 있었다.창공에서의 고작 한번의 싸움이었지만, 그 한번만으로 앞으로의 싸움도 무슨 일이 벌어질지 모두 예측할 수 없었다. 난처해하는 모험가 일행의 모습에 스레니콘은 하늘에서는 다 그렇다며 예측도 안되고 예측해도 대비할 수 없는 것이라고 독려하는데, 그때 니우가 경로 앞에 \"정체불명의 탑\"을 발견하고 충돌위험을 경고하지만, 다행히 스레니콘의 비행 능력으로 충분히 피할 여유가 있었다. 하지만 니우가 경고한 것은 탑만이 아니였다. 탑 위에서 향해 날아온 정체불명의 그림자, \"약탈자 로스올\"이었다. 이시스에게 심취되어 더이상 어둠 속을 숨지 않겠다고 포효하며 날뛰는 바람에 스레니콘도 균형을 잃어버리기 시작했고, 결국 모두의 경악 속에 전원 마탑과 충돌하게 된다. 수많은 싸움 속에서 수많은 고통을 겪어온 모험가조차 가속도까지 더해진 강력한 충격에 그만 기절하고 만다.아이는 별을 좋아했어요.까맣기만 한 어둠을 작게 밝혀주는 별빛을 좋아했어요..저들 중 하나에는 행복한 세계가 있겠죠동생도 오빠도 엄마도 아빠도 모두 함께 사는 행복한 세계가.그래도 아이는 별이 좋았어요하루종일, 하루종일 별빛만 바라볼 정도로.그런데 정말로 하늘에서 별이 내렸어요아름다운 별빛, 아름다운 별님.아아... 보고싶어. 한번이라도... 만나고싶어. 모험가를 깨우는 정체불명의 노래소리.정체불명의 노래소리에 의식을 되찾은 모험가는 빠르게 상황을 분석해 분명 스레니콘이 탑과 부딪혀 추락한 것까진 기억하고 있었다. 그리고 눈 앞에서 자신을 부르는 목소리의 주인, 카쉬파의 마법사였으나 이제는 탈퇴했다고 소개하는 \"에리스 켈리\"가 자신이 깨어나길 기다리고 있었다. 모험가는 카쉬파라는 단어에 경계해 입을 열지 않았지만, 켈리는 그런 모습에 웃으며 할렘을 뭉게버린 외부인인 것을 알고 있다고 장난스럽게 대답한다.자기소개가 끝나자 전투 태세를 취하는 켈리와 모험가. 하지만 켈리는 농담이라고 웃으면서 먼저 전투 태세를 풀어버린다. 켈리 자신은 모험가를 해칠 의도도 없고, 애초에 그럴 힘도 없다면서 자신은 그저 지하에서 별을 보고 있었음을 알려준다. 모험가는 지하에서 별을 어떻게 보냐고 의아해하는데 켈리는 아무것도 모른다며 무려 \\'일곱 빛깔 별빛\\'이 직접 하늘에서 내려왔다고 환호하더니 분명 자신의 기도를 들어준 것이라며 행복의 세계로 데려다 줄 별빛을 만나기위해 이곳에 찾아왔음을 설명한다. 그래서 별을 쫓아 카쉬파를 탈퇴하고 지상으로 온 별빛을 찾아 마탑에 왔더니 큰 소리가 들려왔더니 기절한 모험가를 발견하고 곁을 지켜준 것이었다.켈리가 모험가에게 호의적인 것은 본의 아닌 도움 덕분이었다. 켈리는 처음엔 모험가를 평소에도 볼 수 있는 시체 하나인 줄 알았으나, 왠지 호기심이 들어 인상착의를 살펴보니 특이한 옷과 더불어 숨소리를 내쉬자 정체불명의 존재에 위기감을 느낀 켈리는 숨통을 끊어놓을 생각까지 했지만, 마침 얼마전 할렘을 시끄럽게한 외부인의 이야기가 머리속을 스쳐지나갔고 모험가 직접 그 난리통을 만든 장본인이라는 사실까지 확인하자 덕분에 별빛을 만나러 간다고 하던 켈리를 막아세우던 카쉬파에서 벗어날 수 있었다고 감사한다.그렇게 개인소개를 마무리한 켈리는 그제서야 모험가가 이곳에 있는 이유를 알 수 없다는게 생각난다. 일단 자신을 잡으러 온 건 확실히 아니라는 것을 확인하고, 모험가는 혹여나 알렉산드라라는 인물을 아냐고 묻지만 안타깝게 그녀는 처음듣는 이름이라 알지 못했다. 서로 다른 목적으로 움직여야함을 알게된 켈리는 그 자리에서 이별하고자 하지만, 건물의 지리를 모르는 모험가는 한시 빨리 일행과 합류하기 위해 건물의 지리를 숙지한 켈리와 동행하게 된다.켈리는 모험가의 동행을 허락하지만 카쉬파의 추적자들이 왔을 수 있으니 알아서 잘 와야한다고 충고한다. 켈리가 호의적이긴 하지만 일단 카쉬파의 일원이었던지라 모험가도 경계태세는 풀지않고 켈리를 뒤따라 가는 척 하면서 출구를 찾기로 한다. 켈리와 모험가는 카쉬파의 일원들과 이시스의 추종자들을 격퇴하면서 말문을 틀는데, 켈리는 모험가가 재앙을 막으러왔다는 터무니없는 이야기에 엄청나게 거창하다고 폭소하면서도, 모험가의 질문에도 자신은 그저 별빛과 만나러 왔다는 것을 다시한번 강조한다. 그녀는 부모형제가 모두 죽고 곁에 있어준 하늘의 별님 덕분에 살 의욕도 생겼지만 그 애타게 찾은 별님은 하늘에만 있을 뿐 직접 만나러오지 않았기에 별빛과의 만남에 대한 동경은 더더욱 커졌고 별님과 같은 이름이라도 가지고자 별님에게 직접 에리스라는 이름을 붙이고 자신도 에리스라는 이름을 붙혀는데, 신기하게도 에리스라는 이름을 붙인 뒤부터 \\'무엇이든 양으로 변하게 하는 마법\\'을 사용할 수 있게되어 지금의 \"에리스 켈리\"가 되었다고 한다.55 모험가는 그런 소중한 이름에 에리스가 무슨 뜻이냐고 묻지만 사실 켈리도 무슨 뜻인지 모른다고 한다. 여기저기 뒤지면서 먹을 걸 찾던 도중에 우연히 발견한 글자였는데 생긴게 예뻐서 에리스라는 이름에 꽂혔다고 한다. 이런 신비한 마법 덕분에 카쉬파의 눈길을 끓었고 먹을 걸 준다는 말에 혹해서 그대로 카쉬파에 몸담게 되었다고 한다. 하지만 일생의 소원이었던 별과의 만남을 실행할 절호의 기회가 온 이상 카쉬파는 물론 다 필요없다면서, 분명 별님을 통해 고통도, 무서움도, 배고픔도 없는 행복한 세계로 날 데려가줄 것이라는 확고한 믿음으로 힘차게 걸아나고 있었고 그런 켈리의 모습에 모험가도 더이상 경계를 풀고 오히려 그녀에게 친근함을 느끼게 된다.켈리와의 동행으로 탑의 꼭대기이자 유일한 출구로 보이는 곳에 도착한 모험가. 그때 모험가는 온몸의 털이 곤두서는 듯한 한기를 느끼고 목표가 켈리라는 사실에 경악해 다급히 켈리는 멈춰세우려 하지만 그 순간 켈리는 치명적인 상처를 입고 쓰러지고 만다.하아... 이 피맛... 너무... 너무 사랑스러운 맛이구나. 켈리... 피에 취한 악녀 그레타켈리는 피를 흘리면서도 어째서 그레타가 이곳에 있는 것이냐고 분노하는데, 그레타는 다름아닌 강력하고 아름다운 힘, 이시스의 기운에 취해서 하고 싶은대로 하라는 느낌에 따라 닥치는 데로 학살을 자행하면서 이시스를 쫓아가고자 탑을 올라온 것이었다. 더욱이 그레타는 켈리의 피맛을 더더욱 보고싶은 욕망을 노골적으로 드러내기 시작했고 켈리를 지키기 위해 지켜만 보던 모험가가 그레타를 막아세운다.낫을 피해 답없는 악인인 그레타를 베어내는 모험가. 치명상을 입은 그레타는 다시한번 이시스에게 힘을 애원하고, 켈리에겐 피를 갈구하자, 켈리는 더이상 못준다며 남은 힘을 모아 양 변신 마법을 사용해 그레타를 무력화시키고, 여기에 마법 늑대를 풀어 그레타를 찢어죽이는데 성공한다.하지만 모든 힘을 다한 켈리는 쓰러지려는 것을 재빠르게 부축하는 모험가. 켈리는 걱정하는 모험가의 표정에 이 정도 피는 아무것도 아니라고 안심시키지만 피가 도저히 멈추지 않고 있었다. 모험가는 치료가 우선이라고 이것저것 꺼내지만 켈리는 그런 모험가를 제지시킨다. 한시라도 빨리 별님에게 데려가 달라고 애원하자 모험가는 치료가 먼저라고 하지만, 켈리는 지금이 아니면 별님이 떠나갈 것이라며 단호한 모습에 모험가는 결국 가망없는 켈리의 치료를 포기하고 그녀의 부축하며 한시 빨리 탑의 정상을 향한다.56 모험가도 처음에 켈리에 대한 경계태세가 무색스럽게도 켈리를 부축하며 숨소리가 서서히 약해질때마다 그녀를 부르며 목숨을 다잡아주는 모습은 아련하기까지 하다.켈리를 부축하며 탑의 꼭대기에 도착한 모험가는 그곳에 켈리의 바람과 달리 별빛의 부스러기조차 아무것도 없었는 광경에 절망할 수 밖에 없었다. 허나 켈리는 포기하지 않고 연신해서 별님을 찾는 안타까운 상황에서 기적이 일어났다. 켈리가 봤다는 일곱 개의 별빛이 정말 하늘에서 지상으로 찾아온 것이었다.드디어 소원이었던 일곱 개의 별빛, 에리스와 만나게된 켈리는 다 죽어감에도 불구하고 환한 미소를 보였고 일생일대의 소원인 행복의 세계로 데려가달라는 부탁을 끝내 다 잇지 못하고 쓰러지고 만다. 그리고 켈리의 모습을 아련히 지켜본 일곱 개의 별빛, 에리스. 그리고 그 진명 \"별의 수호자 조디악\"은 그녀의 순수한 열망이 암흑 속에 빠진 자신을 깨워주었다며 별빛인 조디악조차 이시스의 어둠을 품게되어 혼탁해졌음에도 불구하고 켈리만이 자신을 믿고 바라봐 준데다 \\'에리스\\'라는 이름으로 자신을 깨워주었다고 한다. 그 열망이 어찌나 대단하고 순수했는지 진명이 아니였음에도 불구하고 자신의 마음을 울려 주었다며 켈리에게 한없이 감사하지만 조디악에겐 시간이 없었다.그대, 위대한 전사여. 나는 이미 돌이킬 수 없게 되었어요. 이시스 님의 기운으로 혼탁해졌고, 의지와 상관없이 동족을 해쳐왔죠.그들을 이끌어주던 빛으로 동족을 고통스럽게 하고 비명에 기뻐했어요.그들이 간절하게... 간절하게 내 이름을 부르짖었지만 그럴 수록 더욱 광기에 빠졌죠. 모험가에게 고해성사하는 별의 수호자 조디악.조디악은 켈리 덕분에 제정신을 차릴 수 있었고57 친하게 지내던 테이베르스 주민들에게 간절히 이름이 불려졌음에도 광기에 빠졌고 하느데, 켈리는 저 멀리서 고통에 신음함에도 불구하고 부드럽고 사랑스럽게, 심지어 진명이 아님에도 불구하고 자신을 불러준 목소리 덕분에 제정신을 차릴 수 있었다고 한다. 이를 볼때 켈리가 조디악에게 가진 마음은 이시스의 기운조차 일순간 내몰아낼 정도로 거의 독실한 신앙에 가까울 강력한 믿음이었던 모양이다. 모험가에게 자신의 죄를 고하며 그로 인한 죄책감에 고통스러우며 자신의 손으로 동족을 죽이고 그 모습을 바라보며 기뻐한 자신과 더불어 제정신을 차리니 그런 죄책감조차 타락으로 밀어넣고 있음에 더이상 가망이 없다고 실토한다. 그러니 타락에 이르기 전에 모험가에겐 자신의 별빛을 사그라들게 해달라는 부탁과 남은 별빛이 모험가와 이시스의 길목을 열어줄 것임을 조언한다.더욱이 속죄할 수 없는 죄업을 지은 자신과 다르게 모험가가 이시스를 막아준다면 다른 모두를 구할 방법이 될 것이라고 첨언하며 켈리의 마지막 애원에도 불구하고 조디악은 순순히 자신의 별빛을 모험가의 칼날에 맡기자 모험가는 조디악의 뜻에 따라 별빛을 차례차례 잠들도록 도와준다. 그리고 모든 별빛이 사그라 들기 전, 에리스 켈리에겐 그녀의 진짜 이름과 모습이 무엇인지 질문하며 그녀가 행복의 세계로 갈 수 있도록 모든 힘을 쏟아 붓고선 소멸한다.조디악 당신의 이름이 무엇인가요에리스 켈리 나는... 카쉬파의...조디악 아니요. 그건 당신이 아니에요.에리스 나는 에리스...조디악 아니, 그 또한 당신이 아니에요.켈리 아...아아.... 나는... 켈리... 행복해지고 싶은... 켈리...조디악 그래요. 켈리. 그게 당신의 이름이에요. 별을 찾고 싶어했던 당신에겐 작은 빛을 줄테니, 가고자 했던 곳으로 떠나세요. 조디악과 켈리의 마지막 해후조디악은 남은 힘을 다해 켈리에게 별빛을 선물했고, 켈리는 그 별빛을 품에 받아들이고 정신을 잃게 된다. 그리고 조디악은 사라지기 전, 테이베르스에서 가장 용맹한 안내자, 바람길을 수호하는 자, 그리고 함께 하늘을 거닐며 많은 이를 이끌었던 친우, \"금시사 트리투라\"에게 켈리의 안위와 남은 별빛을 바람에 실어 이시스의 추종자들을 막아달라고 부탁하며 소멸한다.그리고 조디악의 전언을 듣고 황급히 탑으로 찾아온 금시사 트리투라는 조디악의 소멸을 목도하며 울부짖는다. 아무리 속죄할 수 없는 죄업이라도 죽음을 택한 조디악의 선택에 슬퍼하는 트리투라. 더욱이 프레이와 이시스의 싸움에서 속에서 덧없이 죽어가는 수 많은 이들에 슬픔과 수호자의 사명이 옭아매어 원망조차 못하게 하는 한탄, 이 모든 사태가 이시스를 외면한 테이베르스 전체의 잘못에 대한 원망이 트리투라를 짓누르고 있었다. 죽음 또한 삶의 일부임에도 불구하고 두려워한 나머지 이시스를 거부해 분노케한 모두의 미련함과 허탈함은 모든 비극을 자초한 테이베르스 모두의 죄업이며 그 죄업이 애꿎게도 다른 이들의 땅에 재앙이 되었다며 죄 위에 더 큰 죄를 지어 이제는 갚을 길도 없다고 사죄하며 목놓아 울 뿐이었다.트리투라는 비탄 속에서 염치없음에도 불구하고58 남의 별에 와서 행패를 부린 꼴이라 어지간히도 면목이 없는지라 \"자비에 기댄 염치없는 부탁을 간곡히 부탁한다\"고 덧붙힐 정도였다. 모험가가 호구라서 망정이지... 모험가에게 이시스의 기운에 물들어 공격한 모두에게 베풀었던 자비59 즉, 모험가는 투사 쿠가이 전에서 트리투라가 제정신을 차릴 가능성이 보이자 이시스에게 세뇌된 테이베르스의 주민들을 구할 수 있다는 가능성에 주민들 단 한명도 죽이지 않고 제압한 것이 트리투라의 입을 통해 공식화 한 것. 오늘도 모험가는 스스로 고생길을 열어버립니다.를 한 번 더 베풀어 달라고 애원하며 앞서 조디악이 설명한대로 자신이 남은 별빛을 뿌려 이시스에게 안내할 길을 만들테니, 바람길을 따라 조력자와 함께 이시스를 막아달라고 부탁하자 모험가도 본래 그럴 예정이었던지라 막힘없이 수락한다.트리투라는 모험가의 자비와 아량에 감사하며 마지막으로 켈리60 조디악의 별빛으로 치료되어 다행히 죽음의 운명을 피했다고 한다.와 일부 정신차린 주민들과 함께 테이베르스에 향할 것임을 설명한다.61 또한 조디악의 남은 별빛을 뿌려 바람의 길을 따라 살아남은 이들의 정신을 깨워 함께 테이베르스에 돌아갈 것이라고 한다. 비록 힘을 잃은 탓에 함께 싸워줄 수 없지만 하다못해 앞길을 막는 자들을 조금이라도 거두어 돕겠다며 날개를 펴고 사라진다.모험가는 트리투라의 말에 따라 필시 바람길을 읽고 올 조력자를 맡이하기 위해 탑의 끝으로 서둘러 이동해보니 그곳에선 약탈자 로스올이 기다리고 있었다. 모험가는 설마 자신이 늦어 스레니콘이 당한건지 노심초사하던 중 모험가의 말소리를 듣고 그럴 일 있냐고 핀잔을 주는 스레니콘이 로스올을 전광석화로 강타하면서 개인적인 복수를 매듭짓고 모험가를 맡이하고선 그대로 밤의 장막을 돌파해버린다.장막을 돌파한 스레니콘을 주시하는 이시스 예상대로 도착한 스레니콘과 동행한 아서의 신호에 따라 안착하는 모험가. 심층부로 향할수록 이시스의 추종자들이 늘어날테니 부상에도 불구하고 아서는 돕겠다고 나선다. 그런데 니우의 모습이 보이지 않아 불안한 모험가였지만 다행히 니우는 무사했다. 탑과 충돌 당시 니우와 아서는 스레니콘에게서 떨어지지 않았지만 니우는 모험가를 찾겠다고 뛰어내렸다고 한다. 그리고 모험가를 찾는 쪽이 신호를 보내기로 했고 바로 신호는 보냈으니 걱정하지 말라고 안심시킨다.62 홀로 있는 니우를 걱정한 모험가지만 아서는 웃으면서 오히려 혼자라면 그 누구보다 강한게 그녀라고 덧붙힌다.그렇게 심층부로 향하던 중 화살이 스레니콘을 저격해오기 시작했다. 화살을 맞은 부위가 굳어서 비행에 장애가 온다는 스레니콘의 말에 아서는 황급히 화살이 알렉산드라의 것임을 알고 경악하는데, 화살에 이어 거대한 석궁까지 저격된 것에 모험가는 모두가 다치기 전에 화살이 발사된 위치로 착륙을 시도하자 아서가 뒤따갈려고 하지만 저격이 감지된 탓에 스레니콘이 회피에 몰두해야만 하는 상황에서 모험가 홀로 저격수를 찾아야만 했다.그리고 모험가가 저격수를 찾다가 화살이 날라와 회피하는데, 아서의 예측대로 모습을 드러낸 저격수는 \"천궁 알렉산드라\". 이시스의 기운에 침식당함에도 제정신 만큼은 붙잡았지만 육체의 통제권은 잃어버리고 말았다아니야... 아니야... 내가 원해서 그런 게 아니야...내가... 내가 원하 게 아니야...안돼... 오지마... 제발... 도망가 절규하는 천궁 알렉산드라알렉산드라가 제정신은 붙잡고 있지만 육체는 이미 통제를 벗어난 것을 깨달은 모험가는 그녀를 제압하기 위해 달려들었고, 제발 도망가달라는 절규하는 알렉산드라지만 다행히 모험가가 상처없이 제압해 목숨을 부지하게 된다. 모험가도 한숨 돌리던 그때 갑자기 지면의 나무 뿌리가 엮여 괴상한 야수가 등장해 알렉산드라를 납치한다. 야수를 추적하던 중 이번엔 거대한 석궁, \"폭풍의 석궁\"을 발견하고 때마침 지상에서 모험가를 수색 중이던 니우가 찾아와 재회하게 된다.아서와 스레니콘도 저격이 멈추자 모험가를 뒤쫓아와 재회하는데, 아서는 석궁을 파괴하자고 하지만 니우가 이 강력한 석궁을 이시스에게 피해를 입힐지도 모른다며 석궁을 맡겨달라고 부탁한다. 석궁의 위치사수는 니우에게 맡기고 아서와 모험가는 함께 한시 빨리 납치된 알렉산드라의 추적을 재개한다.그리고 도착한 곳에선 나무 덩굴같은 줄기에 감싸여 편안히 영원한 안식을 취하고 있는 자들이 발견된다. 아서도 그 광경에 최악의 상황이 뇌리를 스치자 안색이 변해버리는데, 아서는 어떻게든 그것만은 아닐 것이라고 스스로를 다그치면서 황급히 수색을 시작한다. 이시스의 추종자들을 돌파하며 수색하던 중 알렉산드라를 발견하고 아서가 알렉산드라의 생사를 확인하니 다행이 숨이 붙어있다는 사실에 안도한다. 모험가도 아서를 뒤따라 알렉산드라가 무사함을 보고 안도하던 그때, 아서가 황급히 뒤를 가리키자 모험가가 그곳에 나타난 야수의 흉악한 양팔을 피하게 된다. 그리고 본격적으로 포효며 존재감을 드러낸 어둠의 종족 \"야수 스림\". 더이상 보낼 수 없다며 싸우지만 아서와 모험가의 협공을 당해내지 못해 쓰러지고 만다. 허나 스림은 오히려 만족한 듯이 여한이 없다며 여왕이 올 것이라고 두사람을 조소하며 바스러진다.모험가와 아서는 여왕이라는 단어를 의아해하는데, 모험가는 앞서 덩굴들이 스림의 소행이 아니였다는 것을 확실하다고 의아해한 순간, 블라섬의 목소리가 들려오자 모험가는 그제서야 여왕이라는 단어가 누구를 가리킨 것인지 깨닫고 한탄한다.그리고 예상한대로 목소리의 주인은 \"꽃의 여왕 블라섬\". 이시스에게 세뇌당해 프레이와 구별하지 못하는데다 듣는 것도 환각인지 환청인지 모험가와 아서의 말을 곡해해서 잘못 듣고 있었다. 더욱이 부상을 입고 쓰러진 알렉산드라의 모습을 발견하고 그녀조차 안색이 창백해져 알렉산드라의 몰골이 두사람의 작품이냐고 노기를 뿜기 시작하는데, 어떻게든 설명하려고 하지만 왜곡되어 들리기만하니 설득도 무의미했다. 모험가와 아서가 어떻게든 블라섬을 상처하나 안입히고 제압하는데는 겨우 성공했지만 격전으로 인해 아서도 체력을 많이 빼앗기고 말았다.63 아서도 싸워보고 나니 블라섬이 자애롭기만 한 분인줄 알았는데 이렇게까지 강한 줄은 몰랐다고 한탄한다.그리고 모험가와 아서를 쫓아 이번엔 케이트가 찾아왔다. 모두가 힘을 합쳐 이시스의 추종자들을 막은 것 뿐만 아니라 도중에 갑자기 무언가에 이끌리 듯 이시스의 추종자들이 사라져버린 덕분에64 금시사 트리투라와 별의 수호자 조디악이 이시스에게 가는 길을 열어준다는 것을 실행한 것이다. 심층부에 빠르게 도착할 수 있었다고 한다. 하지만 이야기를 더 이어갈 시간이 없었다. 케이트도 실신한 알렉산드라와 블라섬을 발견한 것이었다. 일단 두사람 당장 목숨엔 지장이 없지만 그렇다고 놔두면 다시 위험해질 수 있는 상황에서 케이트가 두사람에게 맞는 치료법을 이용해 치료하기로 하고, 더욱이 석궁을 사수하고 케이트를 쫓아올 니우에게 호위를 부탁하며 모험가와 아서는 심층부의 중심으로 걱정없이 떠나게 된다.그리고 향한 곳은 밤하늘 같은 어둠이 자욱히 하늘을 수선해 놓은 중심지, \"천공의 둥지\". 그곳의 중심으로 향하자 최후의 수문장 \"붉은 다리 알케토\"가 친히 마중을 나왔다. 앞서 당한 복수로 먼저 나선 아서지만 간단히 알케토는 별 거 아니라는 듯이 막아낸데다 그대로 아서를 창에 꿰뚫어 던져버리는 알케토. 모험가가 뒤이어 알케토와 싸우자 알케토는 다른 이들과 차원이 다른 강함을 가진 모험가의 힘에 수세에 몰려 알케토의 힘이 약해지기 시작하자 프렉세스가 내부에서 반격하기 시작해 주도권을 바꾸는데 성공한게 된다.싸움이 끝나고 제정신 차린 프렉세스는 죄책감이 담은 눈으로 모험가에게 면목없어하던 그때, 창공의 두 주인 중 하나이자 밤하늘의 지배자인 \"프레이이시스\"가 강림한다.마침내... 죽음이 도래했으니... 모든 세계에 재앙이 내리리라 창공에서 강림하여 밤하늘을 수놓은 프레이이시스이시스의 강림을 먼저 눈치챈 프렉세스가 모험가를 밀어준 덕분에 모험가는 다행히 이시스의 강림에 휘말리지 않았지만, 대신 프렉세스가 휘말려 큰 부상을 입어버리고 만다. 그리고 이시스는 불타는 붉은 눈으로 모험가를 바라보며 만나보고 싶었다고 입을 열게된다.너를...만나고 싶었다.알에서 자각했을 때부터 너를 보았지. 잠재되어 있는 힘이 폭발하듯 터져나오는 그 열기가 대단하더구나.어찌 그리 할 수 있는지...그런 열기를 품을 수 있는지 궁금했다.프레이와 같은 생명을 위한 힘이 아닌, 나와 같은 죽음을 이끄는 힘의 열기가 이토록 뜨거울 줄이야.그래서 궁금했다.나와 같지 않지만, 나와 같으니.이해할 수 없지만, 가장 이해할 수 있는 존재라 여겨졌다.너는 왜 이곳에 서있는가무엇을 위해 이곳으로 왔는가무엇을 이루고자 네 힘이 미치지 못하는 강대한 나에게 도전하는가도대체 무엇이 그토록 너를 열망하게 만들고 끓어 오르게 하는가(모험스 엄청난 위압...)그리고...무엇을 가졌기에 모두가 따르도록 한단 말인가...다른 이의 삶을 위해 죽음을 짊어지고 시련으로 달려가는 너를...(모험가 슬퍼... 하고 있어)너를 이해한다면.다시는 외면 받지 않을 수 있으리라 생각했다.어떤가나를 이해시켜 줄텐가 모험가 이시스모험가는 이시스로부터 분노와 슬픔이라는 감정을 느끼지만 그런 감정을 이해할 시간보다 당장 이시스를 막지 않으면 안되었다. 어떻게든 이시스를 쓰러트려보려고 하지만 이시스의 강대한 힘 앞에서 모험가의 무력이 아무런 의미도 없을 정도로 보잘 것이 없었다. 하지만 모험가는 절망적인 상황에서도 공세를 늦추지 않았다. 이시스의 주먹에 전신이 박살날 것 같은 충격에도, 이시스의 발길질에 온몸이 찢어질 것 같은 고통에도, 이시스의 마법에 한낱 먼지로 없어질 것 같은 통증에도 그럼에도 이를 악물고 일어서고 일어서서 어떻게든 이시스와의 싸움을 포기하지 않고 계속해서 칼날을 치켜들며 덤벼들었다.65 말이 전투지 사실상 이시스가 자신의 억울함과 분노를 모험가에게 설파하며 일방적으로 몰아붙인 것에 가깝다. 모험가가 죽게 하지 않기 위해 힘 조절을 한 것은 덤.66 하지만 이 일방적인 전투가 의미없던 것은 아니였는데, 이시스는 적당히 모험가를 제압하려고 했지만 그 모험가가 오히려 이시스가 놀랄 정도로 버텨내고 덤벼드는 탓에 계속 싸우다가 이시스의 회복이 더뎌지고 있었다는 점이다. 이시스는 권능을 사용할 때마다 무리가 오는 육체, 회복과 안정이 필요한 상태에서 모험가와 계속된 일방적인 싸움에서도 분명 우위에 있었지만 이때 진정 싸워야할 적은 모험가 뿐만 아니라 프레이가 더 있었다는 점을 염두에 두어야 할 것을 망각한 탓에 결국 모험가를 빠르게 처분하지 않은 것이 이시스에겐 최대 자충수가 되고 말았다.무엇이...도대체 무엇이 너를 이리 움직이게 하는 건가(모험가...없어...)뭐라...(모험가 이유는 없어. 시련에 맞서 싸울 뿐...)...하찮구나그 따위 답을 얻으려 한 것이 아니다조금이나마 기대를 했다.하지만 실망만 남는구나.죽어라. 모험가의 대답에 실망한 이시스전투 중에도 끊임없이 모험가에게 질문을 던지지자 모험가는 이유없이 그저 시련이 있기에 맞서 싸웠을 뿐이라는 답변을 내자 이시스는 이에 실망하며 그 따위 대답을 원한게 아니라며 힘을 더해 모험가를 죽이려 한다.67 애초에 이시스가 모험가에게 질문한 것도 잘못이라면 잘못이었다. 이시스는 모험가가 자신과 비슷하다고 했지만 사실 자세히 파고들면 닮은 구석 전혀 없다. 모험가는 인간에서 성장해 각자 자신의 목적을 이루기 위해서 모험하다가 사건이 터지면 옮은 곳에 힘을 쓰다보니 강해지고 그런 행적들이 모여 타인들에게 영웅으로 칭송된 것이다. 오히려 모험가는 주변에서 아무리 영웅이라 추켜세워도 스스로에겐 한번도 이를 긍정한 적이 없었다. 반대로 이시스는 신적인 존재로 태어나 자신의 사명인 생명의 죽음과 안식에 힘쓰기만 했을 뿐이라 모험가처럼 시련과 마주하며 무언가 한 것은 없었다. 즉, 겉보기만 비슷할 뿐 내실은 완전 다른 존재라 자신의 반신이자 반대인 프레이보다 훨씬 더 닮은 구석이 없었다.모험가는 엉망진창으로 당한 몸으로도 이대로 끝날 수 없다며 무기를 고쳐잡지만 몸에는 힘이 들어가지 않았다. 이대로 이시스의 일격을 기다리는 것 밖에 할 수 없던 그때였다.모험가님 지금이에요 폭풍의 석궁을 발사한 니우의 외침이... 이런 수를... 석궁에 직격당해 당황한 이시스그때 귓가에서 들려오는 외침은 니우가 폭풍의 석궁을 발사한 신호였고, 더욱이 니우가 예측한대로 석궁은 이시스를 구속할 정도의 위력을 발휘하는데 성공했다. 그럴 수 밖에 없는것이 폭풍의 석궁은 이시스가 야수 스림의 육체를 사용해 만들었고 프레이와의 리매치때 프레이를 제압할 목적을 가지고 있었기 때문이다. 그러나 모험가 일행의 손에 탈취당하면서 이시스의 의도와 달리 자신의 목을 조르는 올가미가 되고 말았다. 석궁에서 날아온 화살에 꿰여 꼼짝도 못하는 이시스. 모험가는 눈앞에 나타난 천재일우의 기회에 더이상 다음은 생각지 않고 남은 기력을 전부 이시스를 공격하는데 사용한다.이럴 수 없다 크아아악프레이 네 녀석인가 프레이에게 최후의 일격을 맞고 제압당한 이시스의 단발마.그러나 프레이의 반신인 이시스였기에 모험가의 공격을 전부 버텨내고 그 상태에서도 다시 한번 날아올라 회심의 공격을 가하려고 했으나 무리한 힘의 사용으로 누적된 대미지, 여기에 모험가가 질리도록 버틴 탓에 이시스의 회복이 어느순간 더뎌졌고 그동안 창공에서 기회를 엿보던 프레이의 초고속 공습에 변변한 반격도 못하고 그저 치명상을 입은 상태로 제압당해 강제로 흡수당하는 것으로 사태는 일단락된다.프레이도 노심초사한 상태로 지켜보는 것 밖에 할 수 없던 이번 싸움에서 모험가를 포함한 온갖 요행들이 연이어 일어나준 덕분에 오직 이시스만을 노려 공격할 틈을 발견할 수 있었다.68 프레이 입장에선 최악의 상황에서 말도 안될 정도로 기적같은 상황이 몇번이나 일어났는데, 순서대로 적어보면 일단 모험가가 테이베르스 주민들을 최대한 죽이지 않고 제압만하는 덕분에 테이베르스 측에서도 피해가 최소화되기 시작했다. 그런 상황에서 모험가가 우연히 만난 에리스 켈리의 도움, 그리고 그 인연이 별의 수호자 조디악에게 희생에 닿게되었지만 그 덕분에 이시스에게 세뇌된 상태에서 저항하던 테이베르스 주민들을 대거 물리는데 성공하게 된다. 사실상 이때부터 신경써야할 점이 거의 없어지게 되었다. 허나 그 상태에서도 이시스를 호위하는 정예들이 남아있었지만 모험가가 이들을 격파해준 것만으로도 감사할 상황에서 아서의 도움이 있었지만, 부상자인 아서를 신경써 주고 블라섬이나 프렉세스까지 죽이지 않고 제압만 할 정도로 자비를 보였다. 마지막엔 이시스가 모험가에게 관심을 가진 덕분에 모험가를 빠르게 처치하지 않는 점이었다. 비록 모험가가 이시스를 상대하는데 한참 부족했지만 그럼에도 계속 일어서서 이시스를 상대해준 덕분에 힘의 회복을 방해해주었고 결국에 모험가와 일행들이 모두 힘을 합쳐 이시스의 시선을 프레이에게 완전히 떼어놓자 기습할 여건을 만들 수 있었다. 이제야 겨우 끝이자 새로운 시작일지도 모른 싸움에 마침표를 찍어 안심한 프레이는 모험가 덕분에 불안정해도 당장의 재앙은 피할 수 있었다고 감사를 표하고 싶었지만, 프레이의 시선에 따라 모험가의 시선도 부상으로 실신한 아서와 프렉세스에게 먼저 향했고69 모험가는 프레이의 시선이 위엄이 넘치지지만 비애가 섞였다며 안타까워 한다. 모험가도 프레이도 일단 상처입은 자들의 치유가 먼저라는 것에 합의하고 프레이는 때가 되면 다시 모험가를 찾겠다고 약속한 뒤 비틀거리면서도 아서와 프렉세스를 감싸안고 최대속력으로 치료사를 찾아 멀어져갔다.그리고 모험가도 비틀거리면서 어떻게든 천공의 둥지를 내려오는데 성공해 자신을 쫓아온 케이트, 니우, 파이 일행들70 폭풍의 석궁이 이시스에게 명중하자 마자 바로 달려왔다고 한다.과 만나는데 성공한다. 어찌나 험하게 싸웠는지 모험가의 몰골을 본 파이가 만신창이라고 걱정할 정도였다. 그래도 정신을 붙잡을 여력은 있어 괜찮다는 제스처를 보이는데, 니우가 아서를 걱정하며 이것저것 묻지만 보다못한 케이트가 말을 끊고 모험가의 회복이 우선이라는 말에 모험가도 케이트의 배려로 회복마법을 통해 부상을 회복하면서도 블라섬과 알렉산드라의 안위를 걱정하는 모험가의 모습에 케이트는 두사람 모두 타락의 기운과 부상을 회복하고 있으니 걱정하지 말라고 다독여주자 모험가는 모든 걱정을 풀게된다.니우는 모험가가 살아있는 모습에 정말로 다행이라고 안도하자, 파이는 모험가가 사도와 맞서싸운 것이 대단하다고 칭찬한다. 하지만 그 말에 니우는 대단하게 아니라 무모한 것이라고 다그친다. 어쩔 수 없는 상황에 덕분에 모두가 무사했지만 모험가가 전투를 치른 후의 몰골이 너무 심해서 정말로 몸은 괜찮냐고 걱정하는 모습에 케이트가 니우 뿐만 아니라 그 자리에 있던 모두가 모험가의 무사를 기도했다는 사실을 알려준다. 더욱이 모험가의 존재가 모두의 힘을 모아 사도라는 아득한 존재와 맞서 이겨낼 수 있었다고 칭찬하고 니우도 모험가의 명성이 마계 전체에 퍼질 것이라고 알려준다.71 당연하지만 이시스의 부활이 고작 할렘 따위가 아니라 마계 전체의 안위와 직결되는 문제였기에다 너무나도 큰 스케일에 감히 맞설 생각을 한 이들도 없었다고 한다. 그런 상황에서 모험가라는 신성이자 영웅이 등장해 홀로 맞서 극복했으니 그야말로 동화 속에서나 나올 법한 이야기를 현실에서 목도한 셈이다.모험가의 행적을 듣고 모험가를 좋아할 이들이 있겠지만, 카쉬파 같은 적대할 자들도 있을 것이라고 기대반, 걱정반이었으나 케이트는 겨우 큰 일을 마무리한 지금은 작은 평화를 즐겨보자면서 모험가도 그대로 부상과 피로로 뒤덮힌 육체를 치료하는데 전념하기로 한다.힘겨운 싸움이 끝난 후, 휴식을 취하고 있던 모험가는 아서를 통해 프레이가 만나고 싶다는 전언을 듣게된다. 모험가는 아서의 안내로 밤의 마천루 꼭대기에 위치한 천공의 둥지에서 프레이와 재회한다. 또한 이시스와의 전쟁으로 지친 스레니콘은 휴식을 취하는 중이며 날개가 뜯겨나갔던 알렉산드라와 블라섬은 케이트의 마법으로 치료받고 있었다. 프레이는 모험가에게 무사히 이시스를 흡수할 수 있었지만 오염된 이들 중 상당수는 이시스의 어둠을 이겨내지 못해 목숨을 잃었고 이시스에게 저항하던 몇몇 이들은 긴 잠에 빠졌다고 한다. 이 탓에 테이베르스의 생태계에 가장 큰 축을 맡았던 자드라콘, 조디악, 트리투라, 쌘비구름 등 부재로 인해서 테이베르스가 멸망의 위기에 처했고,72 정확히는 이들이 가장 큰 축을 맡고 있기도 했지만 현실의 생태계와 마찬가지로 작은 것 하나하나 테이베르스에 있던 모두의 힘으로 유지되고 있었다고 한다. 이시스 부활과 그 세력을 만드는데 공을 세워버린 것이 알케토였던 탓에 신록의 프렉세스는 죄책감에 속죄하고자 혼자 테이베르스의 멸망을 막고 있다고 한다. 프레이 역시 테이베르스로 날아올라 그를 돕고 싶었으나, 이시스의 사악한 기운을 갈무리하는 통에 움직일 수 없는 상태였다.73 우선 아서의 말로는 이시스가 주도권 싸움을 벌이다던가, 아니면 어둠의 힘이 자신을 침식한다던가 하는 최악으로 상정했던 후유증은 전혀 없는 상태라고 한다. 하지만 이시스를 충분히 약화시키지 못한 탓인지 힘의 크기가 커서 갈무리하는 시간이 걸려 제대로 움직이기 힘들다고 한다. 이러면 모험가가 일을 제대로 못한 것 같지만, 애초에 본래 예정이 알로 퇴화할 정도로 약해진 이시스를 흡수할 계획에서 난데없이 이시스가 부활하는 최악의 상황으로 변해버렸음에도 불구하고 최악으로 가정한 부작용이 없는 것만으로도 모험가는 충분히 할 일을 한 셈이다. 여기서 더 바라면 그건 도둑놈이다 비록 테이베르스의 현 상황이 절망적인 것과 별개로 모험가가 도와준 감사를 표하며, 가장 강력한 아군이 되어주겠다고 선언한다.모험가여. 너에게는 큰 빚을 졌다. 무엇으로도 이 커다란 은혜를 메울 수 없다.이에 하나의 약속을 하려고 한다. 네가 마계에 머무는 동안 창공으로 날아올라 가장 높은 곳에서 너를 지켜볼 것이다.그리고 네가 감당할 수 없는 위기가 닥쳤을 때, 모든 힘을 쏟아 너를 지켜줄 것이다. 설령 그 상대가 나와 같은 사도라 할지라도 이시스프레이의 약속그렇게 모험가는 마계에서 가장 강한 존재 중 한명의 조력을 얻게 되었다. 또한 프레이의 추종자들은 아서를 통해 절대 모험가를 적대하지 않으며 필요시 반드시 돕겠다는 맹세까지 받게된다.74 이 약속은 사도의 비호 아래로 들어간 것에 그치지 않고 아서를 통해 동맹으로서의 약속이기 때문에 사도와 그 세력 하나를 통째로 얻은거나 다름없다. 쉽게 말해서 마계에서 모험가를 건드리면 프레이가 반드시 출동한다. 혹여나 카쉬파가 무리해서 모험가를 족치려는 순간 프레이가 출동해 카쉬파를 통째로 지워버린다는 것이며 힐더가 자기를 적대하는 모험가를 처리하겠다고 수를 써도 프레이가 출동해 힐더를 제압하고 모험가가 힐더를 처리하게 돕는다는 소리다. 여기에 프레이와 마찬가지로 모험가를 도와주기 위해 따라오는 프레이의 추종자들의 모습은 덤이다.그리고 프레이는 잠깐의 침묵과 함께 무언가를 감지하나 당장 움직이기 힘든 나머지 한가지 의뢰하는데, 다름아닌 이시스의 알껍질이 남아있다는 것이었다. 본래 이 알에 담긴 마력은 이시스가 사라진 지금으로선 놔두면 어차피 꺼질 잔불에 불과하지만 혹여나 누가 그 잔불에 장작을 넣어 키우면 겉잡을 수 없는 사태가 일어날 수 있으니 처리해 달라고 부탁받게 된다.75 물론 프레이도 그냥 멍하니 힘을 갈무리하고만 있는게 아니라 일거수투족 이시스의 힘이 어디서 느껴지는지 마계 전체를 감시하고 있다. 프레이는 만약 이시스의 힘이 감지되는 즉시 추종자들에게 전달하고 아서가 모험가에게 추가로 전달할 예정. 그 의뢰를 받아들인 모험가는 프레이의 가호로 이시스의 알을 추척할 수 있는 아서와 함께 알의 위치로 향하던 중 대량의 피와 가슴이 찢겨져있는 시체들이 즐비하고 있는 걸 발견하게 된다. 모험가는 누구의 짓인지 직감하고 추적하고 싶었지만 그 앞은 카쉬파의 영토의 심층부이자 본부가 위치한 이스트 할렘이기에 어쩔 수 없이 추적을 중지한다.이시스와의 전쟁이 끝난지 얼마있지 않아 니우가 모험가를 찾는다. 다름아닌 마계의 각 집단의 회합을 주도했는데 카쉬파도 참가하는 곳에 케이트가 파이를 데려갔다며76 나중에 파이가 해명하길 케이트가 데려간 것이 아니라 파이 본인이 참가하길 부탁했다고 한다. 당연히 케이트도 극구 말렸지만 파이는 본인이 일으킨 일을 스스로 책임지고 싶다는 의지를 막을 순 없었다. 분노하며 자신과 함께 모험가도 참가해 달라고 도움을 요청한다. 하지만 이 말에 아서는 모험가가 외부인이고 카쉬파가 벼르고 있는 상황에서 회합에 참가하기를 반대한다.77 첫번째 이유는 표면적인 이유고, 아서 입장에선 파이와 마찬가지로 모험가가 카쉬파에게 찍힌 것 때문에 극구 반대했다. 파이는 참가한 상태라 어쩔 수 없지만 모험가 만이라도 불참가 한다면 최소한 몸은 사릴 수 있기 때문. 하지만 모험가는 회합 참가를 열의를 보이자 결국 테라코타의 수장 공허의 론을 소개받는다<|endoftext|>'"
      ]
     },
     "execution_count": 281,
     "metadata": {},
     "output_type": "execute_result"
    }
   ],
   "source": [
    "tokenizer.decode(over_text[8])"
   ]
  },
  {
   "cell_type": "code",
   "execution_count": null,
   "metadata": {},
   "outputs": [],
   "source": []
  }
 ],
 "metadata": {
  "kernelspec": {
   "display_name": "ds_study",
   "language": "python",
   "name": "python3"
  },
  "language_info": {
   "codemirror_mode": {
    "name": "ipython",
    "version": 3
   },
   "file_extension": ".py",
   "mimetype": "text/x-python",
   "name": "python",
   "nbconvert_exporter": "python",
   "pygments_lexer": "ipython3",
   "version": "3.7.16"
  }
 },
 "nbformat": 4,
 "nbformat_minor": 2
}
