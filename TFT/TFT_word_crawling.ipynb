{
 "cells": [
  {
   "cell_type": "markdown",
   "id": "ad1e9429",
   "metadata": {},
   "source": [
    "# 한글화를 위해 용어 클롤링"
   ]
  },
  {
   "cell_type": "markdown",
   "id": "b5a259d9",
   "metadata": {},
   "source": [
    "https://www.metatft.com/augments"
   ]
  },
  {
   "cell_type": "code",
   "execution_count": 3,
   "id": "cb561353",
   "metadata": {},
   "outputs": [],
   "source": [
    "import pandas as pd\n",
    "import requests\n",
    "\n",
    "import re\n",
    "\n",
    "from bs4 import BeautifulSoup\n",
    "\n",
    "import warnings\n",
    "warnings.filterwarnings('ignore')"
   ]
  },
  {
   "cell_type": "code",
   "execution_count": 4,
   "id": "ed934776",
   "metadata": {},
   "outputs": [],
   "source": [
    "kr_json = 'https://data.metatft.com/lookups/Set8_latest_ko_kr.json'"
   ]
  },
  {
   "cell_type": "code",
   "execution_count": 5,
   "id": "6ac78ea2",
   "metadata": {},
   "outputs": [],
   "source": [
    "res = requests.get(kr_json).json()"
   ]
  },
  {
   "cell_type": "code",
   "execution_count": 15,
   "id": "f454a857",
   "metadata": {},
   "outputs": [
    {
     "data": {
      "text/plain": [
       "{'ability': {'desc': '사일러스가 사슬을 휘둘러 주변 적들에게 <scaleHealth>@ModifiedPercentHealthDamage@</scaleHealth>(최대 체력 %i:scaleHealth%의 @PercentHealth*100@%)만큼 마법 피해를 입히고, 자신의 체력을 @ModifiedHealAmount@ 회복합니다.',\n",
       "  'icon': 'ASSETS/Characters/Sylas/HUD/Icons2D/SylasQ.dds',\n",
       "  'name': '전투 폭발',\n",
       "  'variables': [{'name': 'PercentHealth', 'value': [0.1, 0.12, 0.15]},\n",
       "   {'name': 'HealAmount', 'value': [150, 170, 190]}]},\n",
       " 'apiName': 'TFT8_Sylas',\n",
       " 'cost': 1,\n",
       " 'icon': 'ASSETS/UX/TFT/ChampionSplashes/TFT8_Sylas.TFT_Set8.dds',\n",
       " 'name': '사일러스',\n",
       " 'stats': {'armor': 45,\n",
       "  'attackSpeed': 1,\n",
       "  'critChance': 0,\n",
       "  'critMultiplier': 1,\n",
       "  'damage': 50,\n",
       "  'hp': 700,\n",
       "  'initialMana': 30,\n",
       "  'magicResist': 45,\n",
       "  'mana': 80,\n",
       "  'range': 1},\n",
       " 'traits': ['동물특공대', '무법자']}"
      ]
     },
     "execution_count": 15,
     "metadata": {},
     "output_type": "execute_result"
    }
   ],
   "source": [
    "res['units'][0]"
   ]
  },
  {
   "cell_type": "code",
   "execution_count": 71,
   "id": "682b39d9",
   "metadata": {},
   "outputs": [],
   "source": [
    "tft_dict = {}\n",
    "for key in res.keys():\n",
    "    results = pd.DataFrame()\n",
    "    for col in res[key]:\n",
    "        \n",
    "        tmp = pd.DataFrame({'apiName' : col['apiName'],\n",
    "                            'korName' : col['name']\n",
    "                                },index=[0])\n",
    "        \n",
    "        results = pd.concat([results,tmp])\n",
    "        \n",
    "    tft_dict[key] = results"
   ]
  },
  {
   "cell_type": "code",
   "execution_count": 78,
   "id": "0ad1f561",
   "metadata": {},
   "outputs": [],
   "source": [
    "import pickle\n",
    "\n",
    "with open('./data/tft_dict.pkl', \"wb\") as f:\n",
    "    pickle.dump(tft_dict, f)"
   ]
  },
  {
   "cell_type": "code",
   "execution_count": null,
   "id": "94cc9119",
   "metadata": {},
   "outputs": [],
   "source": []
  }
 ],
 "metadata": {
  "kernelspec": {
   "display_name": "Python 3 (ipykernel)",
   "language": "python",
   "name": "python3"
  },
  "language_info": {
   "codemirror_mode": {
    "name": "ipython",
    "version": 3
   },
   "file_extension": ".py",
   "mimetype": "text/x-python",
   "name": "python",
   "nbconvert_exporter": "python",
   "pygments_lexer": "ipython3",
   "version": "3.9.13"
  },
  "vscode": {
   "interpreter": {
    "hash": "9a11bbc8352a789d58e3746043fde4a7775485b84558937345e9e4b365f3f2d4"
   }
  }
 },
 "nbformat": 4,
 "nbformat_minor": 5
}
