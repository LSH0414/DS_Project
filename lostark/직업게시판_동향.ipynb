{
 "cells": [
  {
   "cell_type": "code",
   "execution_count": 1,
   "id": "d8650165",
   "metadata": {},
   "outputs": [],
   "source": [
    "import os\n",
    "import re\n",
    "import json\n",
    "import pandas as pd\n",
    "import numpy as np"
   ]
  },
  {
   "cell_type": "code",
   "execution_count": 2,
   "id": "f2875660",
   "metadata": {},
   "outputs": [],
   "source": [
    "with open('./data/class_doe.json', 'r') as f:\n",
    "    name_to_code = json.load(f)\n",
    "\n",
    "code_to_name = {\n",
    "    value : key for key, value in name_to_code.items()\n",
    "}"
   ]
  },
  {
   "cell_type": "code",
   "execution_count": 3,
   "id": "bdbf8fe7",
   "metadata": {},
   "outputs": [],
   "source": [
    "#[잡담] < 말머리 삭제\n",
    "def replace_txt(s):\n",
    "    return re.sub('(?=\\[).+(?<=\\])','', s)\n",
    "\n",
    "def str_to_list(s):\n",
    "    return s.split(',')\n",
    "\n",
    "def comment_to_strucks(s):\n",
    "    result = []\n",
    "    for sample in s[1:-2].split(\"',\"):\n",
    "        t = re.sub('\\\\\\\\n+',' ',sample.strip()[1:])\n",
    "        result.append(t)\n",
    "    \n",
    "    return result"
   ]
  },
  {
   "cell_type": "code",
   "execution_count": 4,
   "id": "dc2b03c9",
   "metadata": {},
   "outputs": [],
   "source": [
    "base_path = './data/'\n",
    "file_names = os.listdir(base_path)\n",
    "\n",
    "df_lst = []\n",
    "# concat_articles\n",
    "for file in file_names:\n",
    "    if not 'csv' in file:\n",
    "        continue\n",
    "    tmp = pd.read_csv(base_path+file)\n",
    "    tmp['comments'] = tmp['comments'].apply(comment_to_strucks)\n",
    "    tmp['title'] = tmp['title'].apply(replace_txt)\n",
    "    df_lst.append(tmp)\n",
    "\n",
    "df = pd.concat(df_lst)"
   ]
  },
  {
   "cell_type": "code",
   "execution_count": 5,
   "id": "e0f40f30",
   "metadata": {},
   "outputs": [
    {
     "name": "stdout",
     "output_type": "stream",
     "text": [
      "<class 'pandas.core.frame.DataFrame'>\n",
      "RangeIndex: 5416 entries, 0 to 5415\n",
      "Data columns (total 8 columns):\n",
      " #   Column             Non-Null Count  Dtype \n",
      "---  ------             --------------  ----- \n",
      " 0   num                5416 non-null   int64 \n",
      " 1   title              5416 non-null   object\n",
      " 2   content            5406 non-null   object\n",
      " 3   writed_at          5409 non-null   object\n",
      " 4   comments           5416 non-null   object\n",
      " 5   comment_writed_at  5416 non-null   object\n",
      " 6   url                5416 non-null   object\n",
      " 7   classcode          5416 non-null   int64 \n",
      "dtypes: int64(2), object(6)\n",
      "memory usage: 338.6+ KB\n"
     ]
    }
   ],
   "source": [
    "df.info()"
   ]
  },
  {
   "cell_type": "markdown",
   "id": "1322d0de",
   "metadata": {},
   "source": [
    ">Warrior\n",
    "- 디트 : 00\n",
    "- 워로드 : 01\n",
    "- 버서커 : 02\n",
    "- 홀리나이트 : 03\n",
    "- 슬레이어 : 04\n",
    "\n",
    ">Martial_Artist\n",
    "- 인파 : 00\n",
    "- 배마 : 01\n",
    "- 기공 : 02\n",
    "- 창술 : 03\n",
    "- 스커 : 04\n",
    "\n",
    ">Gunner\n",
    "- 스카우터 : 00\n",
    "- 호크 : 01\n",
    "- 블래스터 : 02\n",
    "- 데빌헌터 : 03\n",
    "- 건슬 : 04\n",
    "\n",
    ">Mage\n",
    "- 서머너 : 00\n",
    "- 아르카나 : 01\n",
    "- 소서리스 : 02\n",
    "- 바드 : 03\n",
    "\n",
    ">Assassin\n",
    "- 데모닉 : 00\n",
    "- 블레이드 : 01\n",
    "- 리퍼 : 03\n",
    "\n",
    ">Specialist.\n",
    "- 기상 : 00\n",
    "- 도화가 : 01"
   ]
  },
  {
   "cell_type": "code",
   "execution_count": 6,
   "id": "c0c08ba0",
   "metadata": {},
   "outputs": [],
   "source": [
    "test_df = df[df['classcode'] == name_to_code['창술사']]"
   ]
  },
  {
   "cell_type": "code",
   "execution_count": 14,
   "id": "73a52c25",
   "metadata": {},
   "outputs": [
    {
     "name": "stdout",
     "output_type": "stream",
     "text": [
      "nan unsupported operand type(s) for +: 'float' and 'str'\n",
      "nan unsupported operand type(s) for +: 'float' and 'str'\n",
      "nan unsupported operand type(s) for +: 'float' and 'str'\n",
      "nan unsupported operand type(s) for +: 'float' and 'str'\n",
      "nan unsupported operand type(s) for +: 'float' and 'str'\n",
      "nan unsupported operand type(s) for +: 'float' and 'str'\n",
      "nan unsupported operand type(s) for +: 'float' and 'str'\n",
      "nan unsupported operand type(s) for +: 'float' and 'str'\n",
      "nan unsupported operand type(s) for +: 'float' and 'str'\n",
      "nan unsupported operand type(s) for +: 'float' and 'str'\n"
     ]
    }
   ],
   "source": [
    "with open('./data/txt/Martial_Artist_03.txt', 'w', encoding='utf8') as f:\n",
    "    for title, content, comments in zip(test_df['title'].values, test_df['content'].values, test_df['comments'].values):\n",
    "\n",
    "        f.write(title + '\\n')\n",
    "\n",
    "        try:\n",
    "            if content != '':\n",
    "                f.write(content + '\\n')\n",
    "        except TypeError as TE:\n",
    "            print(content,  TE)\n",
    "            pass\n",
    "\n",
    "        for comment in comments:\n",
    "            try:\n",
    "                if (comment != ''):\n",
    "                    f.write(comment + '\\n')\n",
    "            except TypeError as TE:\n",
    "                print(comment, TE)\n",
    "                pass\n",
    "\n",
    "\n"
   ]
  },
  {
   "cell_type": "code",
   "execution_count": 15,
   "id": "afa9b882",
   "metadata": {},
   "outputs": [],
   "source": [
    "with open('./data/txt/Martial_Artist_03.txt', 'r', encoding='utf8') as f:\n",
    "    test_txt = f.read().split('\\n')\n"
   ]
  },
  {
   "cell_type": "code",
   "execution_count": 16,
   "id": "9f991418",
   "metadata": {},
   "outputs": [
    {
     "data": {
      "text/plain": [
       "11901"
      ]
     },
     "execution_count": 16,
     "metadata": {},
     "output_type": "execute_result"
    }
   ],
   "source": [
    "len(test_txt)"
   ]
  },
  {
   "cell_type": "code",
   "execution_count": 20,
   "id": "ab28a846",
   "metadata": {},
   "outputs": [],
   "source": [
    "input_file = './data/txt/Martial_Artist_03.txt'\n",
    "vocab_size= 5000\n",
    "prefix = './data/txt/sentencepiece/nsmc'"
   ]
  },
  {
   "cell_type": "code",
   "execution_count": 21,
   "id": "29355ed6",
   "metadata": {},
   "outputs": [
    {
     "data": {
      "text/plain": [
       "'--input=./data/txt/Martial_Artist_03.txt --model_prefix=./data/txt/sentencepiece/nsmc --vocab_size=5000'"
      ]
     },
     "execution_count": 21,
     "metadata": {},
     "output_type": "execute_result"
    }
   ],
   "source": [
    "templates = '--input={} --model_prefix={} --vocab_size={}'\n",
    "cmd = templates.format(input_file, prefix, vocab_size)\n",
    "cmd"
   ]
  },
  {
   "cell_type": "code",
   "execution_count": 22,
   "id": "1de5bc00",
   "metadata": {},
   "outputs": [],
   "source": [
    "import sentencepiece as spm"
   ]
  },
  {
   "cell_type": "code",
   "execution_count": 23,
   "id": "e7ef16d2",
   "metadata": {},
   "outputs": [
    {
     "name": "stderr",
     "output_type": "stream",
     "text": [
      "sentencepiece_trainer.cc(177) LOG(INFO) Running command: --input=./data/txt/Martial_Artist_03.txt --model_prefix=./data/txt/sentencepiece/nsmc --vocab_size=5000\n",
      "sentencepiece_trainer.cc(77) LOG(INFO) Starts training with : \n",
      "trainer_spec {\n",
      "  input: ./data/txt/Martial_Artist_03.txt\n",
      "  input_format: \n",
      "  model_prefix: ./data/txt/sentencepiece/nsmc\n",
      "  model_type: UNIGRAM\n",
      "  vocab_size: 5000\n",
      "  self_test_sample_size: 0\n",
      "  character_coverage: 0.9995\n",
      "  input_sentence_size: 0\n",
      "  shuffle_input_sentence: 1\n",
      "  seed_sentencepiece_size: 1000000\n",
      "  shrinking_factor: 0.75\n",
      "  max_sentence_length: 4192\n",
      "  num_threads: 16\n",
      "  num_sub_iterations: 2\n",
      "  max_sentencepiece_length: 16\n",
      "  split_by_unicode_script: 1\n",
      "  split_by_number: 1\n",
      "  split_by_whitespace: 1\n",
      "  split_digits: 0\n",
      "  pretokenization_delimiter: \n",
      "  treat_whitespace_as_suffix: 0\n",
      "  allow_whitespace_only_pieces: 0\n",
      "  required_chars: \n",
      "  byte_fallback: 0\n",
      "  vocabulary_output_piece_score: 1\n",
      "  train_extremely_large_corpus: 0\n",
      "  hard_vocab_limit: 1\n",
      "  use_all_vocab: 0\n",
      "  unk_id: 0\n",
      "  bos_id: 1\n",
      "  eos_id: 2\n",
      "  pad_id: -1\n",
      "  unk_piece: <unk>\n",
      "  bos_piece: <s>\n",
      "  eos_piece: </s>\n",
      "  pad_piece: <pad>\n",
      "  unk_surface:  ⁇ \n",
      "  enable_differential_privacy: 0\n",
      "  differential_privacy_noise_level: 0\n",
      "  differential_privacy_clipping_threshold: 0\n",
      "}\n",
      "normalizer_spec {\n",
      "  name: nmt_nfkc\n",
      "  add_dummy_prefix: 1\n",
      "  remove_extra_whitespaces: 1\n",
      "  escape_whitespaces: 1\n",
      "  normalization_rule_tsv: \n",
      "}\n",
      "denormalizer_spec {}\n",
      "trainer_interface.cc(351) LOG(INFO) SentenceIterator is not specified. Using MultiFileSentenceIterator.\n",
      "trainer_interface.cc(183) LOG(INFO) Loading corpus: ./data/txt/Martial_Artist_03.txt\n",
      "trainer_interface.cc(378) LOG(WARNING) Found too long line (4568 > 4192).\n",
      "trainer_interface.cc(380) LOG(WARNING) Too long lines are skipped in the training.\n",
      "trainer_interface.cc(381) LOG(WARNING) The maximum length can be changed with --max_sentence_length=<size> flag.\n",
      "trainer_interface.cc(389) LOG(INFO) Reserved chars are found. Skipped: ●▅▇█▇▆▅▄▇\n",
      "trainer_interface.cc(389) LOG(INFO) Reserved chars ar"
     ]
    }
   ],
   "source": [
    "spm.SentencePieceTrainer.Train(cmd)"
   ]
  },
  {
   "cell_type": "code",
   "execution_count": 24,
   "id": "6d1dd468",
   "metadata": {},
   "outputs": [],
   "source": [
    "sp = spm.SentencePieceProcessor()"
   ]
  },
  {
   "cell_type": "code",
   "execution_count": 25,
   "id": "c4fb837c",
   "metadata": {},
   "outputs": [
    {
     "data": {
      "text/plain": [
       "True"
      ]
     },
     "execution_count": 25,
     "metadata": {},
     "output_type": "execute_result"
    }
   ],
   "source": [
    "sp.Load('{}.model'.format(prefix))"
   ]
  },
  {
   "cell_type": "code",
   "execution_count": 27,
   "id": "19ca4d97",
   "metadata": {},
   "outputs": [
    {
     "name": "stdout",
     "output_type": "stream",
     "text": [
      "절제 개인적인 세팅 공유\n",
      "['▁절제', '▁개인적', '인', '▁세팅', '▁공유']\n",
      "\n",
      "밸패전 세팅 특신이어도 치확100%트포 빼는게 맞을까요?\n",
      "['▁밸패전', '▁세팅', '▁특신', '이', '어도', '▁치확', '100%', '트포', '▁빼', '는게', '▁맞을까요', '?']\n",
      "\n",
      "애니츠는 이게 맞아\n",
      "['▁애니츠', '는', '▁이게', '▁맞아']\n",
      "\n",
      "1613 절정창술 특치인가요 특신인가요?\n",
      "['▁16', '1', '3', '▁절정창술', '▁특치', '인가요', '▁특신', '인가요', '?']\n",
      "\n",
      "각인 특성치좀 봐주실분?\n",
      "['▁각인', '▁특성', '치', '좀', '▁봐', '주실분', '?']\n",
      "\n",
      "극특치 절정 팔찌 질문좀요.\n",
      "['▁극특치', '▁절정', '▁팔찌', '▁질문좀', '요', '.']\n",
      "\n",
      "돌대저받97돌 정배가 뭐에요?\n",
      "['▁돌대', '저받', '97', '돌', '▁정배', '가', '▁뭐', '에', '요', '?']\n",
      "\n",
      "창술 두껍쉑 딜 미쳤네요…우매봉 머쓱…\n",
      "['▁창술', '▁두', '껍', '쉑', '▁딜', '▁미쳤', '네요', '...', '우', '매', '봉', '▁머', '쓱', '...']\n",
      "\n",
      "유물+고대섞어서 333331 하는건어떤가요?\n",
      "['▁유물', '+', '고', '대', '섞', '어서', '▁333331', '▁', '하는건', '어', '떤', '가요', '?']\n",
      "\n",
      "절제는 이제 일섬각 안넣나요\n",
      "['▁절제는', '▁이제', '▁일섬각', '▁안', '넣', '나요']\n",
      "\n"
     ]
    }
   ],
   "source": [
    "for t in test_df['title'].values[:10]:\n",
    "    print(t)\n",
    "    print(sp.encode_as_pieces(t))\n",
    "    print()"
   ]
  },
  {
   "cell_type": "code",
   "execution_count": null,
   "id": "6f725e71",
   "metadata": {},
   "outputs": [],
   "source": []
  }
 ],
 "metadata": {
  "kernelspec": {
   "display_name": "ds_study",
   "language": "python",
   "name": "ds_study"
  },
  "language_info": {
   "codemirror_mode": {
    "name": "ipython",
    "version": 3
   },
   "file_extension": ".py",
   "mimetype": "text/x-python",
   "name": "python",
   "nbconvert_exporter": "python",
   "pygments_lexer": "ipython3",
   "version": "3.7.16"
  }
 },
 "nbformat": 4,
 "nbformat_minor": 5
}
