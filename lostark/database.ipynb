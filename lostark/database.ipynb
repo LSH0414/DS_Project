{
 "cells": [
  {
   "cell_type": "code",
   "execution_count": 1,
   "id": "da13b204",
   "metadata": {},
   "outputs": [],
   "source": [
    "import os\n",
    "import pandas as pd\n",
    "import mysql.connector\n",
    "\n",
    "from tqdm import tqdm"
   ]
  },
  {
   "cell_type": "code",
   "execution_count": 2,
   "id": "0dbb9be0",
   "metadata": {},
   "outputs": [],
   "source": [
    "base_path = './data/'\n",
    "file_names = os.listdir(base_path)\n",
    "\n",
    "df_lst = []\n",
    "# concat_articles\n",
    "for file in file_names:\n",
    "    \n",
    "    tmp = pd.read_csv(base_path+file)\n",
    "    df_lst.append(tmp)\n",
    "\n",
    "df = pd.concat(df_lst)"
   ]
  },
  {
   "cell_type": "code",
   "execution_count": 3,
   "id": "3a01c98a",
   "metadata": {},
   "outputs": [],
   "source": [
    "def init_mysql():\n",
    "    aws = mysql.connector.Connect(\n",
    "        database = 'db',\n",
    "        host = \"host\",\n",
    "        port = 3306,\n",
    "        user = 'seokho',\n",
    "        password = '1234'\n",
    "    )\n",
    "    return aws"
   ]
  },
  {
   "cell_type": "code",
   "execution_count": 15,
   "id": "8aec51f7",
   "metadata": {},
   "outputs": [],
   "source": [
    "def parsingDB(table_names = 'trends', target_class = ''):\n",
    "    aws = init_mysql()\n",
    "    \n",
    "    try:\n",
    "        if target_class != '':\n",
    "            pass\n",
    "    #         query = f'SELECT * FROM {table_names}'\n",
    "        else:\n",
    "            query = f'SELECT * FROM {table_names}'\n",
    "\n",
    "        data = pd.read_sql_query(query,aws)\n",
    "        aws.close()\n",
    "        return data\n",
    "    except:\n",
    "        aws.close()\n",
    "        print('Fail Load Data')\n",
    "        return None\n",
    "        "
   ]
  },
  {
   "cell_type": "code",
   "execution_count": 9,
   "id": "cfe36510",
   "metadata": {},
   "outputs": [],
   "source": [
    "# DB에 데이터 삽입\n",
    "def excecuteDB(df, table_name = 'trends'):\n",
    "    \n",
    "    aws = init_mysql()\n",
    "    cur = aws.cursor()\n",
    "\n",
    "    cols = df.columns\n",
    "    insert_cols = \",\".join(cols)\n",
    "    try:    \n",
    "        for idx, row in df.iterrows():\n",
    "            insert_value = ['\"'+str(row[col])+'\"' for col in cols]\n",
    "            insert_value = \",\".join(map(str,insert_value))\n",
    "\n",
    "            query = 'INSERT INTO '+ table_name +'('+ insert_cols +') VALUES('+ insert_value +');'\n",
    "            if query != '':\n",
    "                cur.execute(query) # 쿼리추가\n",
    "    #         else:\n",
    "\n",
    "#             break\n",
    "        aws.commit() # 추가한 쿼리 DB에 적용\n",
    "        aws.close() # 연결 해제\n",
    "    except Exception as e:\n",
    "        print(e)\n",
    "        aws.close()\n",
    "    print('Query Process Fin submit Query Strings---')"
   ]
  },
  {
   "cell_type": "code",
   "execution_count": 6,
   "id": "2dabf090",
   "metadata": {},
   "outputs": [
    {
     "data": {
      "text/html": [
       "<div>\n",
       "<style scoped>\n",
       "    .dataframe tbody tr th:only-of-type {\n",
       "        vertical-align: middle;\n",
       "    }\n",
       "\n",
       "    .dataframe tbody tr th {\n",
       "        vertical-align: top;\n",
       "    }\n",
       "\n",
       "    .dataframe thead th {\n",
       "        text-align: right;\n",
       "    }\n",
       "</style>\n",
       "<table border=\"1\" class=\"dataframe\">\n",
       "  <thead>\n",
       "    <tr style=\"text-align: right;\">\n",
       "      <th></th>\n",
       "      <th>num</th>\n",
       "      <th>title</th>\n",
       "      <th>content</th>\n",
       "      <th>writed_at</th>\n",
       "      <th>comments</th>\n",
       "      <th>comment_writed_at</th>\n",
       "      <th>url</th>\n",
       "      <th>classcode</th>\n",
       "    </tr>\n",
       "  </thead>\n",
       "  <tbody>\n",
       "    <tr>\n",
       "      <th>0</th>\n",
       "      <td>64003</td>\n",
       "      <td>[잡담]이 정도면 영웅엘릭서 졸업 가능한가요</td>\n",
       "      <td>제 생각에는 너무 잘한거 같아요</td>\n",
       "      <td>2023-05-29 11:36</td>\n",
       "      <td>['오른쪽이 더 좋아보여요']</td>\n",
       "      <td>['2022-03-22 21:32:24']</td>\n",
       "      <td>https://www.inven.co.kr/board/lostark/5558/64003</td>\n",
       "      <td>5434</td>\n",
       "    </tr>\n",
       "    <tr>\n",
       "      <th>1</th>\n",
       "      <td>64002</td>\n",
       "      <td>[잡담]홀나 333331무난하게 갈려면 뭐가 좋은가요?</td>\n",
       "      <td>현재 각축구급전  으로 33333 사용중 입니다333331  무난하게 갈려면 중갑1...</td>\n",
       "      <td>2023-05-29 11:33</td>\n",
       "      <td>['']</td>\n",
       "      <td>['']</td>\n",
       "      <td>https://www.inven.co.kr/board/lostark/5558/64002</td>\n",
       "      <td>5434</td>\n",
       "    </tr>\n",
       "    <tr>\n",
       "      <th>2</th>\n",
       "      <td>64001</td>\n",
       "      <td>[잡담]팔찌 우선순위가 어캐되나요?</td>\n",
       "      <td>1. 신속2. 약노&gt;비수3. 응원4. 특화5. 체력6. 힘, 마회로 뽑고있는데 홀게...</td>\n",
       "      <td>2023-05-29 08:47</td>\n",
       "      <td>['']</td>\n",
       "      <td>['']</td>\n",
       "      <td>https://www.inven.co.kr/board/lostark/5558/64001</td>\n",
       "      <td>5434</td>\n",
       "    </tr>\n",
       "    <tr>\n",
       "      <th>3</th>\n",
       "      <td>64000</td>\n",
       "      <td>[정보]딜홀나로 재밌는 세팅 찾은거 같아서 올려봅니다</td>\n",
       "      <td>이전에 있었던지는 잘 모르겠지만 올려봅니다2악4지 원바속아2각2심 입니다(신속은 무...</td>\n",
       "      <td>2023-05-29 03:34</td>\n",
       "      <td>['원돌절저아 가시는 분들 꽤봤습니다~ 극신으루 \\n질증넣으실거면 악몽보단 구원이 ...</td>\n",
       "      <td>['2022-03-22 19:15:33', '2022-03-22 19:32:30',...</td>\n",
       "      <td>https://www.inven.co.kr/board/lostark/5558/64000</td>\n",
       "      <td>5434</td>\n",
       "    </tr>\n",
       "    <tr>\n",
       "      <th>4</th>\n",
       "      <td>63996</td>\n",
       "      <td>[잡담]분쇄의 주먹 효과중 본인공증 효과는 서포터에게 별로일까요?</td>\n",
       "      <td>분쇄의 주먹 채용하고 싶은데 무기 공격력과 그냥 공격력이 따로 구분되는건지 모르겠네요</td>\n",
       "      <td>2023-05-28 22:34</td>\n",
       "      <td>['']</td>\n",
       "      <td>['']</td>\n",
       "      <td>https://www.inven.co.kr/board/lostark/5558/63996</td>\n",
       "      <td>5434</td>\n",
       "    </tr>\n",
       "  </tbody>\n",
       "</table>\n",
       "</div>"
      ],
      "text/plain": [
       "     num                                 title  \\\n",
       "0  64003              [잡담]이 정도면 영웅엘릭서 졸업 가능한가요   \n",
       "1  64002        [잡담]홀나 333331무난하게 갈려면 뭐가 좋은가요?   \n",
       "2  64001                   [잡담]팔찌 우선순위가 어캐되나요?   \n",
       "3  64000         [정보]딜홀나로 재밌는 세팅 찾은거 같아서 올려봅니다   \n",
       "4  63996  [잡담]분쇄의 주먹 효과중 본인공증 효과는 서포터에게 별로일까요?   \n",
       "\n",
       "                                             content         writed_at  \\\n",
       "0                                  제 생각에는 너무 잘한거 같아요  2023-05-29 11:36   \n",
       "1  현재 각축구급전  으로 33333 사용중 입니다333331  무난하게 갈려면 중갑1...  2023-05-29 11:33   \n",
       "2  1. 신속2. 약노>비수3. 응원4. 특화5. 체력6. 힘, 마회로 뽑고있는데 홀게...  2023-05-29 08:47   \n",
       "3  이전에 있었던지는 잘 모르겠지만 올려봅니다2악4지 원바속아2각2심 입니다(신속은 무...  2023-05-29 03:34   \n",
       "4    분쇄의 주먹 채용하고 싶은데 무기 공격력과 그냥 공격력이 따로 구분되는건지 모르겠네요  2023-05-28 22:34   \n",
       "\n",
       "                                            comments  \\\n",
       "0                                   ['오른쪽이 더 좋아보여요']   \n",
       "1                                               ['']   \n",
       "2                                               ['']   \n",
       "3  ['원돌절저아 가시는 분들 꽤봤습니다~ 극신으루 \\n질증넣으실거면 악몽보단 구원이 ...   \n",
       "4                                               ['']   \n",
       "\n",
       "                                   comment_writed_at  \\\n",
       "0                            ['2022-03-22 21:32:24']   \n",
       "1                                               ['']   \n",
       "2                                               ['']   \n",
       "3  ['2022-03-22 19:15:33', '2022-03-22 19:32:30',...   \n",
       "4                                               ['']   \n",
       "\n",
       "                                                url  classcode  \n",
       "0  https://www.inven.co.kr/board/lostark/5558/64003       5434  \n",
       "1  https://www.inven.co.kr/board/lostark/5558/64002       5434  \n",
       "2  https://www.inven.co.kr/board/lostark/5558/64001       5434  \n",
       "3  https://www.inven.co.kr/board/lostark/5558/64000       5434  \n",
       "4  https://www.inven.co.kr/board/lostark/5558/63996       5434  "
      ]
     },
     "execution_count": 6,
     "metadata": {},
     "output_type": "execute_result"
    }
   ],
   "source": [
    "df.head()"
   ]
  },
  {
   "cell_type": "code",
   "execution_count": 7,
   "id": "453a1357",
   "metadata": {
    "scrolled": true
   },
   "outputs": [
    {
     "name": "stdout",
     "output_type": "stream",
     "text": [
      "INSERT INTO trends(num,title,content,writed_at,comments,comment_writed_at,url,classcode) VALUES(\"64003\",\"[잡담]이 정도면 영웅엘릭서 졸업 가능한가요\",\"제 생각에는 너무 잘한거 같아요\",\"2023-05-29 11:36\",\"['오른쪽이 더 좋아보여요']\",\"['2022-03-22 21:32:24']\",\"https://www.inven.co.kr/board/lostark/5558/64003\",\"5434\");\n",
      "Query Process Fin submit Query Strings---\n",
      "INSERT INTO trends(num,title,content,writed_at,comments,comment_writed_at,url,classcode) VALUES(\"64003\",\"[잡담]이 정도면 영웅엘릭서 졸업 가능한가요\",\"제 생각에는 너무 잘한거 같아요\",\"2023-05-29 11:36\",\"['오른쪽이 더 좋아보여요']\",\"['2022-03-22 21:32:24']\",\"https://www.inven.co.kr/board/lostark/5558/64003\",\"5434\");\n"
     ]
    }
   ],
   "source": [
    "excecuteDB(df)"
   ]
  },
  {
   "cell_type": "code",
   "execution_count": 16,
   "id": "cdb461bf",
   "metadata": {},
   "outputs": [],
   "source": [
    "data = parsingDB()"
   ]
  }
 ],
 "metadata": {
  "kernelspec": {
   "display_name": "ds_study",
   "language": "python",
   "name": "ds_study"
  },
  "language_info": {
   "codemirror_mode": {
    "name": "ipython",
    "version": 3
   },
   "file_extension": ".py",
   "mimetype": "text/x-python",
   "name": "python",
   "nbconvert_exporter": "python",
   "pygments_lexer": "ipython3",
   "version": "3.7.16"
  }
 },
 "nbformat": 4,
 "nbformat_minor": 5
}
