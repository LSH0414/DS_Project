{
 "cells": [
  {
   "cell_type": "code",
   "execution_count": 1,
   "metadata": {},
   "outputs": [],
   "source": [
    "import pandas as pd"
   ]
  },
  {
   "cell_type": "code",
   "execution_count": 19,
   "metadata": {},
   "outputs": [],
   "source": [
    "df = pd.read_csv('/Users/seokholee/lsh/Project/sol4/dc_crawl/dc/dc/spiders/dc_crawl.csv')"
   ]
  },
  {
   "cell_type": "code",
   "execution_count": 20,
   "metadata": {},
   "outputs": [
    {
     "name": "stdout",
     "output_type": "stream",
     "text": [
      "<class 'pandas.core.frame.DataFrame'>\n",
      "RangeIndex: 158 entries, 0 to 157\n",
      "Data columns (total 7 columns):\n",
      " #   Column     Non-Null Count  Dtype \n",
      "---  ------     --------------  ----- \n",
      " 0   content    42 non-null     object\n",
      " 1   date       158 non-null    object\n",
      " 2   gall_code  158 non-null    object\n",
      " 3   link       158 non-null    object\n",
      " 4   recommend  158 non-null    int64 \n",
      " 5   title      158 non-null    object\n",
      " 6   views      158 non-null    int64 \n",
      "dtypes: int64(2), object(5)\n",
      "memory usage: 8.8+ KB\n"
     ]
    }
   ],
   "source": [
    "df.info()"
   ]
  },
  {
   "cell_type": "code",
   "execution_count": 23,
   "metadata": {},
   "outputs": [
    {
     "data": {
      "text/plain": [
       "'2023.08.08 14:57:39'"
      ]
     },
     "execution_count": 23,
     "metadata": {},
     "output_type": "execute_result"
    }
   ],
   "source": [
    "df['date'].min()"
   ]
  },
  {
   "cell_type": "code",
   "execution_count": 22,
   "metadata": {},
   "outputs": [],
   "source": [
    "import time, datetime\n",
    "st = time.localtime()\n",
    "\n",
    "dt = datetime.datetime(*st[:6])\n",
    "\n",
    "\n",
    "with open('/Users/seokholee/lsh/Project/sol4/dc_crawl/dc/dc/spiders/last_crawl_time.txt', 'w') as f:\n",
    "    f.write(str(dt))"
   ]
  },
  {
   "cell_type": "code",
   "execution_count": 13,
   "metadata": {},
   "outputs": [
    {
     "data": {
      "text/plain": [
       "'football_new8'"
      ]
     },
     "execution_count": 13,
     "metadata": {},
     "output_type": "execute_result"
    }
   ],
   "source": [
    "import re\n",
    "\n",
    "url = 'https://gall.dcinside.com/board/lists?id=football_new8'\n",
    "\n",
    "\n"
   ]
  },
  {
   "cell_type": "code",
   "execution_count": 24,
   "metadata": {},
   "outputs": [
    {
     "data": {
      "text/plain": [
       "'https://gall.dcinside.com/mgallery/board/lists?id=dnfqq'"
      ]
     },
     "execution_count": 24,
     "metadata": {},
     "output_type": "execute_result"
    }
   ],
   "source": [
    "from Crawling_Project.comics.comics.custom_fun import *\n",
    "make_galleryURL('dnfqq')"
   ]
  },
  {
   "cell_type": "code",
   "execution_count": 28,
   "metadata": {},
   "outputs": [],
   "source": [
    "with open('/Users/seokholee/lsh/Project/sol4/Crawling_Project/comics/comics/spiders/target_gall.txt', 'r') as f:\n",
    "    gall_ids = f.readlines()\n",
    "\n",
    "url_lst = []\n",
    "for gall_id in gall_ids:\n",
    "    gall_id = re.sub('\\n', '', gall_id)\n",
    "    url_lst.append(make_galleryURL(gall_id))"
   ]
  },
  {
   "cell_type": "code",
   "execution_count": 29,
   "metadata": {},
   "outputs": [
    {
     "data": {
      "text/plain": [
       "['https://gall.dcinside.com/board/lists?id=football_new8',\n",
       " 'https://gall.dcinside.com/mgallery/board/lists?id=dnfqq',\n",
       " 'https://gall.dcinside.com/board/lists?id=comic_new3']"
      ]
     },
     "execution_count": 29,
     "metadata": {},
     "output_type": "execute_result"
    }
   ],
   "source": [
    "url_lst"
   ]
  },
  {
   "cell_type": "code",
   "execution_count": 27,
   "metadata": {},
   "outputs": [
    {
     "data": {
      "text/plain": [
       "['football_new8\\n', 'dnfqq\\n', 'comic_new3']"
      ]
     },
     "execution_count": 27,
     "metadata": {},
     "output_type": "execute_result"
    }
   ],
   "source": [
    "gall_ids"
   ]
  },
  {
   "cell_type": "code",
   "execution_count": null,
   "metadata": {},
   "outputs": [],
   "source": []
  }
 ],
 "metadata": {
  "kernelspec": {
   "display_name": "ds_study",
   "language": "python",
   "name": "python3"
  },
  "language_info": {
   "codemirror_mode": {
    "name": "ipython",
    "version": 3
   },
   "file_extension": ".py",
   "mimetype": "text/x-python",
   "name": "python",
   "nbconvert_exporter": "python",
   "pygments_lexer": "ipython3",
   "version": "3.7.16"
  },
  "orig_nbformat": 4
 },
 "nbformat": 4,
 "nbformat_minor": 2
}
