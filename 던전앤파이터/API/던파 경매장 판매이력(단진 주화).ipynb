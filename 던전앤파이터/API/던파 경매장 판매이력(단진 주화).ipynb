{
 "cells": [
  {
   "cell_type": "code",
   "execution_count": 1,
   "id": "b89fc201",
   "metadata": {},
   "outputs": [],
   "source": [
    "import requests\n",
    "import pandas as pd\n",
    "import time\n",
    "\n",
    "import warnings\n",
    "warnings.filterwarnings('ignore')"
   ]
  },
  {
   "cell_type": "code",
   "execution_count": 2,
   "id": "fbcf217e",
   "metadata": {},
   "outputs": [],
   "source": [
    "api_key = 'Sxwiysbra37brnJK9Fp12Z81vXvU0IEN'"
   ]
  },
  {
   "cell_type": "code",
   "execution_count": 3,
   "id": "9616bccb",
   "metadata": {},
   "outputs": [],
   "source": [
    "def df_aution_sold(itemName, limit=100):\n",
    "    url = f'https://api.neople.co.kr/df/auction-sold'\n",
    "    params = {\n",
    "        'itemName' : itemName,\n",
    "        'limit' : limit,\n",
    "        'apikey' : api_key\n",
    "    }\n",
    "    \n",
    "    return requests.get(url, params = params)\n",
    "\n",
    "def df_search_item(itemName = '', item_hashtag = ''):\n",
    "    url = 'https://api.neople.co.kr/df/items'\n",
    "\n",
    "    params = {\n",
    "        'limit' : 30,\n",
    "        'apikey' : api_key,\n",
    "        'wordType' : 'full'\n",
    "    }\n",
    "\n",
    "    if itemName != '':\n",
    "        params['itemName'] = itemName\n",
    "    if item_hashtag != '':\n",
    "        params['hashtag'] = item_hashtag\n",
    "\n",
    "    return requests.get(url, params=params)"
   ]
  },
  {
   "cell_type": "code",
   "execution_count": 4,
   "id": "520efc6a",
   "metadata": {},
   "outputs": [],
   "source": [
    "def check_new_items(new_item_dates, itemId, new_check_lst, isFirst):\n",
    "    \n",
    "    new_items = []\n",
    "    \n",
    "    # 체크를 제일 처음할때 - 계속 켜놓지 못하니까 불러와서 확인하기 \n",
    "    if isFirst:\n",
    "        print('Frist Search')\n",
    "        db_saled_dates = get_auction_saled_record_from_db(itemId)\n",
    "        \n",
    "        for new_item_date in new_item_dates:\n",
    "            if new_item_date not in db_saled_dates :\n",
    "                new_items.append(new_item_date)\n",
    "            new_check_lst[itemId].append(new_item_date)   \n",
    "\n",
    "    #처음 탐색이 아닌경우\n",
    "    else:\n",
    "        for new_item_date in new_item_dates:\n",
    "            if new_item_date not in new_check_lst[itemId] :\n",
    "                new_items.append(new_item_date)\n",
    "                new_check_lst[itemId].append(new_item_date)\n",
    "                \n",
    "    return new_items\n",
    "\n",
    "def regi_item(df):\n",
    "    use_cols = ['soldDate', 'itemId', 'count', 'unitPrice']\n",
    "\n",
    "    excecuteDB(df[use_cols])\n",
    "    \n",
    "\n",
    "# 경매장에서 아이템 검색\n",
    "def searching_item(target):\n",
    "    return pd.DataFrame(df_aution_sold(target).json()['rows']) \n",
    "\n",
    "\n",
    "def search_and_regi_item(target, new_check_lst, isFrist):\n",
    "    df = searching_item(target)\n",
    "    new_item_dates = df['soldDate']\n",
    "    \n",
    "    new_item_dates = check_new_items(new_item_dates, item_dicts[target], new_check_lst, isFrist)\n",
    "    \n",
    "    df = df[df['soldDate'].isin(new_item_dates)] # 새롭게 등록된 아이템 필터링\n",
    "    if len(df) > 0:\n",
    "        print(f'{target} New 판매 아이템 갯수 / {len(new_item_dates)}')    \n",
    "    \n",
    "    regi_item(df) # DB등록"
   ]
  },
  {
   "cell_type": "code",
   "execution_count": 5,
   "id": "5435b954",
   "metadata": {},
   "outputs": [
    {
     "data": {
      "text/plain": [
       "{'대형 단진의 특별한 황금 주화 상자': 'c4df9933c11b3399b21f362ba4395523',\n",
       " '소형 단진의 특별한 황금 주화 상자': '83f74cef66c5fa5c1d30137ed125941c'}"
      ]
     },
     "execution_count": 5,
     "metadata": {},
     "output_type": "execute_result"
    }
   ],
   "source": [
    "search_item = '특별한 황금 주화'\n",
    "\n",
    "danjin_gold_token = pd.DataFrame(df_search_item(itemName=search_item).json()['rows'])\n",
    "enter_tickets = danjin_gold_token[danjin_gold_token['itemName'].str.contains('단진')]\n",
    "enter_tickets = danjin_gold_token[~danjin_gold_token['itemName'].str.contains('황금 주화')]\n",
    "search_names = danjin_gold_token['itemName'].values\n",
    "search_ids = danjin_gold_token['itemId'].values\n",
    "\n",
    "item_dicts = {item_name : item_id for item_name, item_id in zip(search_names, search_ids)}\n",
    "\n",
    "item_dicts"
   ]
  },
  {
   "cell_type": "code",
   "execution_count": 12,
   "id": "abd0bcde",
   "metadata": {},
   "outputs": [
    {
     "name": "stdout",
     "output_type": "stream",
     "text": [
      "Frist Search\n",
      "대형 단진의 특별한 황금 주화 상자 새롭운 등록 아이템 개수 / 100\n",
      "Frist Search\n",
      "소형 단진의 특별한 황금 주화 상자 새롭운 등록 아이템 개수 / 100\n",
      "대형 단진의 특별한 황금 주화 상자 새롭운 등록 아이템 개수 / 1\n",
      "소형 단진의 특별한 황금 주화 상자 새롭운 등록 아이템 개수 / 2\n",
      "대형 단진의 특별한 황금 주화 상자 새롭운 등록 아이템 개수 / 2\n",
      "소형 단진의 특별한 황금 주화 상자 새롭운 등록 아이템 개수 / 3\n",
      "대형 단진의 특별한 황금 주화 상자 새롭운 등록 아이템 개수 / 1\n",
      "소형 단진의 특별한 황금 주화 상자 새롭운 등록 아이템 개수 / 2\n",
      "대형 단진의 특별한 황금 주화 상자 새롭운 등록 아이템 개수 / 1\n",
      "소형 단진의 특별한 황금 주화 상자 새롭운 등록 아이템 개수 / 1\n",
      "소형 단진의 특별한 황금 주화 상자 새롭운 등록 아이템 개수 / 2\n",
      "대형 단진의 특별한 황금 주화 상자 새롭운 등록 아이템 개수 / 1\n",
      "대형 단진의 특별한 황금 주화 상자 새롭운 등록 아이템 개수 / 3\n",
      "대형 단진의 특별한 황금 주화 상자 새롭운 등록 아이템 개수 / 1\n",
      "소형 단진의 특별한 황금 주화 상자 새롭운 등록 아이템 개수 / 1\n",
      "소형 단진의 특별한 황금 주화 상자 새롭운 등록 아이템 개수 / 2\n",
      "대형 단진의 특별한 황금 주화 상자 새롭운 등록 아이템 개수 / 1\n",
      "소형 단진의 특별한 황금 주화 상자 새롭운 등록 아이템 개수 / 1\n",
      "소형 단진의 특별한 황금 주화 상자 새롭운 등록 아이템 개수 / 1\n",
      "소형 단진의 특별한 황금 주화 상자 새롭운 등록 아이템 개수 / 1\n",
      "대형 단진의 특별한 황금 주화 상자 새롭운 등록 아이템 개수 / 1\n",
      "소형 단진의 특별한 황금 주화 상자 새롭운 등록 아이템 개수 / 3\n",
      "소형 단진의 특별한 황금 주화 상자 새롭운 등록 아이템 개수 / 1\n",
      "소형 단진의 특별한 황금 주화 상자 새롭운 등록 아이템 개수 / 1\n",
      "대형 단진의 특별한 황금 주화 상자 새롭운 등록 아이템 개수 / 2\n",
      "대형 단진의 특별한 황금 주화 상자 새롭운 등록 아이템 개수 / 2\n",
      "대형 단진의 특별한 황금 주화 상자 새롭운 등록 아이템 개수 / 2\n",
      "소형 단진의 특별한 황금 주화 상자 새롭운 등록 아이템 개수 / 1\n",
      "소형 단진의 특별한 황금 주화 상자 새롭운 등록 아이템 개수 / 1\n",
      "대형 단진의 특별한 황금 주화 상자 새롭운 등록 아이템 개수 / 1\n",
      "소형 단진의 특별한 황금 주화 상자 새롭운 등록 아이템 개수 / 1\n",
      "소형 단진의 특별한 황금 주화 상자 새롭운 등록 아이템 개수 / 1\n",
      "대형 단진의 특별한 황금 주화 상자 새롭운 등록 아이템 개수 / 2\n",
      "소형 단진의 특별한 황금 주화 상자 새롭운 등록 아이템 개수 / 2\n",
      "소형 단진의 특별한 황금 주화 상자 새롭운 등록 아이템 개수 / 1\n",
      "소형 단진의 특별한 황금 주화 상자 새롭운 등록 아이템 개수 / 1\n",
      "소형 단진의 특별한 황금 주화 상자 새롭운 등록 아이템 개수 / 2\n",
      "소형 단진의 특별한 황금 주화 상자 새롭운 등록 아이템 개수 / 1\n",
      "소형 단진의 특별한 황금 주화 상자 새롭운 등록 아이템 개수 / 1\n",
      "소형 단진의 특별한 황금 주화 상자 새롭운 등록 아이템 개수 / 1\n",
      "대형 단진의 특별한 황금 주화 상자 새롭운 등록 아이템 개수 / 2\n",
      "소형 단진의 특별한 황금 주화 상자 새롭운 등록 아이템 개수 / 1\n",
      "소형 단진의 특별한 황금 주화 상자 새롭운 등록 아이템 개수 / 1\n",
      "대형 단진의 특별한 황금 주화 상자 새롭운 등록 아이템 개수 / 1\n",
      "소형 단진의 특별한 황금 주화 상자 새롭운 등록 아이템 개수 / 1\n",
      "소형 단진의 특별한 황금 주화 상자 새롭운 등록 아이템 개수 / 2\n",
      "소형 단진의 특별한 황금 주화 상자 새롭운 등록 아이템 개수 / 1\n",
      "소형 단진의 특별한 황금 주화 상자 새롭운 등록 아이템 개수 / 4\n",
      "대형 단진의 특별한 황금 주화 상자 새롭운 등록 아이템 개수 / 1\n",
      "소형 단진의 특별한 황금 주화 상자 새롭운 등록 아이템 개수 / 1\n"
     ]
    },
    {
     "ename": "KeyboardInterrupt",
     "evalue": "",
     "output_type": "error",
     "traceback": [
      "\u001b[0;31m---------------------------------------------------------------------------\u001b[0m",
      "\u001b[0;31mKeyboardInterrupt\u001b[0m                         Traceback (most recent call last)",
      "Cell \u001b[0;32mIn[12], line 13\u001b[0m\n\u001b[1;32m     10\u001b[0m         time\u001b[38;5;241m.\u001b[39msleep(\u001b[38;5;241m2\u001b[39m)\n\u001b[1;32m     12\u001b[0m isFrist \u001b[38;5;241m=\u001b[39m \u001b[38;5;28;01mFalse\u001b[39;00m\n\u001b[0;32m---> 13\u001b[0m \u001b[43mtime\u001b[49m\u001b[38;5;241;43m.\u001b[39;49m\u001b[43msleep\u001b[49m\u001b[43m(\u001b[49m\u001b[38;5;241;43m1\u001b[39;49m\u001b[43m)\u001b[49m\n",
      "\u001b[0;31mKeyboardInterrupt\u001b[0m: "
     ]
    }
   ],
   "source": [
    "new_check_lst = {search_id : [] for search_id in search_ids}\n",
    "isFrist = True\n",
    "\n",
    "while True:\n",
    "    for target in search_names:\n",
    "        try:\n",
    "            search_and_regi_item(target, new_check_lst, isFrist)\n",
    "        except Exception as e:\n",
    "            print(e)\n",
    "            time.sleep(2)\n",
    "            \n",
    "    isFrist = False\n",
    "    time.sleep(1)"
   ]
  },
  {
   "cell_type": "code",
   "execution_count": 6,
   "id": "be2ea567",
   "metadata": {},
   "outputs": [],
   "source": [
    "import  mysql.connector\n",
    "\n",
    "aws = mysql.connector.Connect(\n",
    "    database = 'df',\n",
    "    host = \"dungeonandfighter-db.crnv1am9ifjd.ap-northeast-2.rds.amazonaws.com\",\n",
    "    port = 3306,\n",
    "    user = 'sold_table',\n",
    "    password = '1234'\n",
    ")\n",
    "cur = aws.cursor()"
   ]
  },
  {
   "cell_type": "code",
   "execution_count": 11,
   "id": "ad1f6e65",
   "metadata": {},
   "outputs": [],
   "source": [
    "def excecuteDB(df):\n",
    "    cols = df.columns\n",
    "    insert_cols = \",\".join(cols)\n",
    "    for idx, row in df.iterrows():\n",
    "        insert_value = ['\"'+str(row[col])+'\"' for col in cols]\n",
    "        insert_value = \",\".join(map(str,insert_value))\n",
    "        query = 'INSERT INTO sold_history('+ insert_cols +') VALUES('+ insert_value +');'\n",
    "        cur.execute(query)\n",
    "    aws.commit()"
   ]
  },
  {
   "cell_type": "code",
   "execution_count": 8,
   "id": "709e4f09",
   "metadata": {},
   "outputs": [],
   "source": [
    "# 아이템의 판매이력중 판매날짜 정보 가져오기\n",
    "def get_auction_saled_record_from_db(target):\n",
    "    cur = aws.cursor()\n",
    "    query = f\"Select soldDate from sold_history where itemId like '{target}'\"\n",
    "    cur.execute(query)\n",
    "    df = pd.DataFrame(cur.fetchall(), columns={'soldDate'})\n",
    "    \n",
    "    return df['soldDate'].values\n"
   ]
  },
  {
   "cell_type": "code",
   "execution_count": 62,
   "id": "5f2d5770",
   "metadata": {},
   "outputs": [],
   "source": [
    "aws.close()"
   ]
  },
  {
   "cell_type": "code",
   "execution_count": null,
   "id": "8f47370b",
   "metadata": {},
   "outputs": [],
   "source": [
    "# 테이블 생성 쿼리\n",
    "\n",
    "# create_table = create_table[['soldDate', 'itemId' , 'itemName' , 'count' , 'unitPrice']]\n",
    "# query = ''\n",
    "# for col in create_table.columns:\n",
    "#     varchar = len(str(create_table[col].iloc[0]))\n",
    "#     if varchar < 15:\n",
    "#         varchar = 16\n",
    "#     elif varchar < 31:\n",
    "#         varchar = 32\n",
    "    \n",
    "#     if col == 'itemName':\n",
    "#         varchar = 256\n",
    "        \n",
    "#     query += col + \" varchar(\" + str(varchar) + \"), \"\n",
    "    \n",
    "# # print('create table sold_history (' + query[:-2] +');')\n",
    "# cur.execute('create table sold_history (' + query[:-2] +');')"
   ]
  }
 ],
 "metadata": {
  "kernelspec": {
   "display_name": "Python 3 (ipykernel)",
   "language": "python",
   "name": "python3"
  },
  "language_info": {
   "codemirror_mode": {
    "name": "ipython",
    "version": 3
   },
   "file_extension": ".py",
   "mimetype": "text/x-python",
   "name": "python",
   "nbconvert_exporter": "python",
   "pygments_lexer": "ipython3",
   "version": "3.9.13"
  }
 },
 "nbformat": 4,
 "nbformat_minor": 5
}
