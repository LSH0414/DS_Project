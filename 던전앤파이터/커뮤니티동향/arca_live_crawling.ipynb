{
 "cells": [
  {
   "cell_type": "code",
   "execution_count": null,
   "id": "8b6a945a",
   "metadata": {},
   "outputs": [],
   "source": [
    "import time\n",
    "import requests, re\n",
    "from bs4 import BeautifulSoup\n",
    "\n",
    "from fake_useragent import UserAgent\n",
    "ua = UserAgent(verify_ssl=False)\n",
    "\n",
    "from datetime import datetime, timedelta\n",
    "\n",
    "from tqdm import tqdm\n",
    "\n",
    "import pandas as pd\n",
    "\n",
    "import warnings\n",
    "warnings.filterwarnings('ignore')"
   ]
  },
  {
   "cell_type": "code",
   "execution_count": 94,
   "id": "5f15b05b",
   "metadata": {},
   "outputs": [],
   "source": [
    "headers = {\n",
    "    'user-agent' : ua.random\n",
    "}\n",
    "base_url = 'https://arca.live'"
   ]
  },
  {
   "cell_type": "code",
   "execution_count": 257,
   "id": "c7e191a2",
   "metadata": {},
   "outputs": [
    {
     "data": {
      "text/plain": [
       "'https://arca.live/b/dunfa?near=2023-05-11T00:00&tz=+0900'"
      ]
     },
     "execution_count": 257,
     "metadata": {},
     "output_type": "execute_result"
    }
   ],
   "source": [
    "search_frist()"
   ]
  },
  {
   "cell_type": "code",
   "execution_count": 256,
   "id": "ffcfc853",
   "metadata": {},
   "outputs": [],
   "source": [
    "def search_frist():\n",
    "    \n",
    "    url = 'https://arca.live/b/dunfa?near=2023-05-11T00:00&tz=+0900'\n",
    "#     params = {\n",
    "#         'near' : f'{target_date}T00:00', # 시간은  00:00으로 고정\n",
    "#         'tz' : '+0900' # +09:00 인듯? timezone인듯?\n",
    "#     }\n",
    "    \n",
    "    return  url\n"
   ]
  },
  {
   "cell_type": "code",
   "execution_count": 211,
   "id": "e865417d",
   "metadata": {},
   "outputs": [],
   "source": [
    "res = get_post_list(base_url, target_date)"
   ]
  },
  {
   "cell_type": "code",
   "execution_count": 252,
   "id": "e6151ddd",
   "metadata": {},
   "outputs": [],
   "source": [
    "soup = BeautifulSoup(res.text, 'html.parser')\n",
    "df, next_url, is_break = get_post_df(soup, target_date)"
   ]
  },
  {
   "cell_type": "code",
   "execution_count": 253,
   "id": "322cb7c5",
   "metadata": {},
   "outputs": [
    {
     "data": {
      "text/plain": [
       "'https://arca.live/b/dunfa?tz=%2B0900&before=226270462'"
      ]
     },
     "execution_count": 253,
     "metadata": {},
     "output_type": "execute_result"
    }
   ],
   "source": [
    "next_url"
   ]
  },
  {
   "cell_type": "code",
   "execution_count": 96,
   "id": "3f27c7ed",
   "metadata": {},
   "outputs": [],
   "source": [
    "target_date = '2023-05-11'"
   ]
  },
  {
   "cell_type": "code",
   "execution_count": 32,
   "id": "64d59b60",
   "metadata": {},
   "outputs": [],
   "source": [
    "res = requests.get(date_url, params=params)"
   ]
  },
  {
   "cell_type": "code",
   "execution_count": 33,
   "id": "1b63b532",
   "metadata": {},
   "outputs": [],
   "source": [
    "soup = BeautifulSoup(res.text, 'html.parser')"
   ]
  },
  {
   "cell_type": "code",
   "execution_count": 34,
   "id": "b820925a",
   "metadata": {},
   "outputs": [],
   "source": [
    "test = soup.select_one('div.list-table.table')"
   ]
  },
  {
   "cell_type": "code",
   "execution_count": 61,
   "id": "46dd7d12",
   "metadata": {},
   "outputs": [
    {
     "data": {
      "text/plain": [
       "'/b/dunfa/76052732?near=2023-05-11T00%3A00&tz=%252B0900'"
      ]
     },
     "execution_count": 61,
     "metadata": {},
     "output_type": "execute_result"
    }
   ],
   "source": [
    "test.select('a.vrow.column')[1]['href']"
   ]
  },
  {
   "cell_type": "code",
   "execution_count": 63,
   "id": "2c0e3069",
   "metadata": {},
   "outputs": [],
   "source": [
    "# 게시글 URL\n",
    "test_url = url + test.select('a.vrow.column')[1]['href']"
   ]
  },
  {
   "cell_type": "code",
   "execution_count": 68,
   "id": "dbb91a84",
   "metadata": {},
   "outputs": [
    {
     "data": {
      "text/plain": [
       "'딜도 카탈로그일듯'"
      ]
     },
     "execution_count": 68,
     "metadata": {},
     "output_type": "execute_result"
    }
   ],
   "source": [
    "# 본문\n",
    "soup2 = BeautifulSoup(res2.text, 'html.parser')\n",
    "soup2.select_one('meta[name=\"description\"]')['content']"
   ]
  },
  {
   "cell_type": "code",
   "execution_count": 193,
   "id": "4d3f3e49",
   "metadata": {},
   "outputs": [
    {
     "data": {
      "text/plain": [
       "'https://arca.live/b/dunfa?tz=%2B0900&before=226270462'"
      ]
     },
     "execution_count": 193,
     "metadata": {},
     "output_type": "execute_result"
    }
   ],
   "source": [
    "get_next_pages(soup)\n"
   ]
  },
  {
   "cell_type": "code",
   "execution_count": 192,
   "id": "58048f15",
   "metadata": {},
   "outputs": [],
   "source": [
    "def get_next_pages(soup):\n",
    "    \n",
    "    base_url = 'https://arca.live'\n",
    "    \n",
    "    before_page = soup.select('div.content-wrapper.clearfix > article > div > nav > ul > li > a')[1]['href']\n",
    "\n",
    "    return base_url + before_page"
   ]
  },
  {
   "cell_type": "code",
   "execution_count": 247,
   "id": "90a79a0b",
   "metadata": {},
   "outputs": [],
   "source": [
    "def get_post_df(soup, target_date):\n",
    "    \n",
    "    target_day = pd.to_datetime(target_date).day\n",
    "    \n",
    "    is_break = False\n",
    "    \n",
    "    post_lst = soup.select_one('div.list-table.table') # 게시글 리스트\n",
    "    \n",
    "    next_url = get_next_pages(soup)\n",
    "    \n",
    "    post_urls = []\n",
    "    post_title = []\n",
    "    post_writed_at = []\n",
    "    post_refresh = []\n",
    "    post_recommand = []\n",
    "    \n",
    "#     return post_lst\n",
    "    \n",
    "    for cate, info in zip(post_lst.select('span.vcol.col-id'), post_lst.select('a.vrow.column')):\n",
    "        if cate.text.strip() != '' : continue # 일반 게시글 아니면 패스\n",
    "        \n",
    "        title = info.select_one('div.vrow-inner > div.vrow-top > span.vcol.col-title > span.title')\n",
    "        \n",
    "        if title:\n",
    "            title = title.text\n",
    "            title = re.sub('[\\n]+', '', title)\n",
    "        else:\n",
    "            title = ''\n",
    "        \n",
    "        url = base_url + info['href']\n",
    "        \n",
    "        writed_at = info.select_one('div.vrow-inner > div.vrow-bottom > span.vcol.col-time > time')['datetime']\n",
    "        writed_at = pd.to_datetime(writed_at[:-5]) + timedelta(hours=9)\n",
    "        \n",
    "        if writed_at.day != target_day:\n",
    "            if writed_at.day > target_day:\n",
    "                is_break = True\n",
    "            break\n",
    "        \n",
    "#         if writed_at:\n",
    "#             writed_at = writed_at['datetime']\n",
    "#         else:\n",
    "#             writed_at = ''\n",
    "        \n",
    "        refresh = info.select_one('div.vrow-inner > div.vrow-bottom > span.vcol.col-view').text\n",
    "        recommand = info.select_one('div.vrow-inner > div.vrow-bottom > span.vcol.col-rate').text\n",
    "        \n",
    "        \n",
    "        post_title.append(title)\n",
    "        post_urls.append(url)\n",
    "        post_writed_at.append(writed_at)\n",
    "        post_refresh.append(refresh)\n",
    "        post_recommand.append(recommand)\n",
    "    \n",
    "    \n",
    "    df = pd.DataFrame({\n",
    "        'title': post_title,\n",
    "        'refresh' : post_refresh,\n",
    "        'recommand' : post_recommand,\n",
    "        'url' : post_urls,\n",
    "        'writed_at': post_writed_at})\n",
    "    \n",
    "    \n",
    "    return df, next_url, is_break"
   ]
  },
  {
   "cell_type": "code",
   "execution_count": null,
   "id": "7c85a2a8",
   "metadata": {},
   "outputs": [],
   "source": [
    "dfs = []\n",
    "get_post(dfs, target_date)"
   ]
  },
  {
   "cell_type": "code",
   "execution_count": 258,
   "id": "6fc47beb",
   "metadata": {},
   "outputs": [],
   "source": [
    "def get_post(df_lst, target_date, params = ''):\n",
    "    res_url = search_frist()\n",
    "    \n",
    "    proxy_data = get_proxy_list()\n",
    "    proxy_idx = 0\n",
    "    \n",
    "    while True:\n",
    "        try:\n",
    "            proxies = {'http' : 'http://' + proxy_data[proxy_idx][1], 'https' : 'http://' + proxy_data[proxy_idx][1]}\n",
    "            headers = {\n",
    "                'user-agent' : ua.random\n",
    "            }\n",
    "\n",
    "            res = requests.get(res_url, headers=headers, proxies = proxies)\n",
    "            print('Requested URL : ', res_url)\n",
    "            \n",
    "            soup = BeautifulSoup(res, 'html.parser')\n",
    "            \n",
    "            df, res_url, is_break = get_post_df(soup, target_date)\n",
    "            df_lst.append(df)\n",
    "            \n",
    "            if is_break:\n",
    "                print('break!!')\n",
    "                break\n",
    "\n",
    "        \n",
    "        except Exception as e:\n",
    "            print(e)\n",
    "            proxy_idx+=1\n",
    "            \n",
    "            if len(proxy_data) <= proxy_idx:\n",
    "                proxy_idx = 0\n",
    "                \n",
    "    return df_lst"
   ]
  },
  {
   "cell_type": "code",
   "execution_count": 7,
   "id": "6c301509",
   "metadata": {},
   "outputs": [],
   "source": [
    "def load_data(file_path, load_date = -1):\n",
    "    y_day = datetime.today() - timedelta(days=1)\n",
    "    \n",
    "    if load_date == -1:\n",
    "    \n",
    "        load_date = datetime(y_day.year, y_day.month, y_day.day).strftime('%y%m%d')\n",
    "    \n",
    "    print(load_date)\n",
    "\n",
    "    \n",
    "    path = f'{file_path}_{load_date}.csv'\n",
    "    \n",
    "    print(path)\n",
    "\n",
    "    try:\n",
    "        df = pd.read_csv(path)\n",
    "        print('File exist Load FIN!!')\n",
    "    except:\n",
    "        df = pd.DataFrame()\n",
    "        \n",
    "    return df"
   ]
  },
  {
   "cell_type": "code",
   "execution_count": 16,
   "id": "11229db6",
   "metadata": {},
   "outputs": [],
   "source": [
    "def save_daily_data(df, file_path, load_date = -1):\n",
    "    y_day = datetime.today() - timedelta(days=1)\n",
    "    \n",
    "    if load_date == -1:\n",
    "        load_date = datetime(y_day.year, y_day.month, y_day.day).strftime('%y%m%d')\n",
    "    \n",
    "    path = f'{file_path}_{load_date}.csv'\n",
    "    \n",
    "    df.to_csv(path, index=False)\n",
    "    "
   ]
  },
  {
   "cell_type": "code",
   "execution_count": 98,
   "id": "d46280f4",
   "metadata": {},
   "outputs": [],
   "source": [
    "def get_proxy_list():\n",
    "    url = 'http://spys.one/en/free-proxy-list/'\n",
    "    data = {\n",
    "        'xpp' : '1',\n",
    "        'xf1' : '0',\n",
    "        'xf2' : '0',\n",
    "        'xf4' : '0',\n",
    "        'xf5' : '2'\n",
    "    }\n",
    "\n",
    "    headers = {\n",
    "        'user-agent': 'Mozilla/5.0 (Macintosh; Intel Mac OS X 10_15_7) AppleWebKit/537.36 (KHTML, like Gecko) Chrome/112.0.0.0 Safari/537.36'\n",
    "    }\n",
    "\n",
    "    r = requests.post(url, data=data, headers=headers)\n",
    "\n",
    "    soup = BeautifulSoup(r.content, 'html.parser')\n",
    "\n",
    "    result = []\n",
    "\n",
    "    ports = {}\n",
    "    script = soup.select_one('body > script')\n",
    "    for row in script.text.split(';'):\n",
    "        if '^' in row:\n",
    "            line = row.split('=')\n",
    "            ports[line[0]]  = line[1].split('^')[0]\n",
    "\n",
    "    trs = soup.select('tr[onmouseover]')\n",
    "    for tr in trs:\n",
    "\n",
    "        is_http = tr.select_one('a')\n",
    "\n",
    "        if is_http is not None:\n",
    "            http = is_http.text\n",
    "#             print(is_http.text)\n",
    "\n",
    "        e_ip = tr.select_one('font.spy14')\n",
    "#         print(e_ip)\n",
    "        ip = ''\n",
    "\n",
    "        e_port = tr.select_one('script')\n",
    "        port = ''\n",
    "        if e_port is not None:\n",
    "            re_port = re.compile(r'\\(([a-zA-Z0-9]+)\\^[a-zA-Z0-9]+\\)')\n",
    "            match = re_port.findall(e_port.text)\n",
    "            for item in match:\n",
    "                port = port + ports[item]\n",
    "        else:\n",
    "            continue\n",
    "\n",
    "        if e_ip is not None:\n",
    "            for item in e_ip.findAll('script'):\n",
    "                item.extract()\n",
    "            ip = e_ip.text\n",
    "\n",
    "        else:\n",
    "            continue\n",
    "\n",
    "        tds = tr.select(\"td\")\n",
    "        is_skip = False\n",
    "        for td in tds:\n",
    "            e_pct = td.select_one('font > acronym')\n",
    "            if e_pct is not None:\n",
    "                pct = re.sub('([0-9]+)%.*', r'\\1', e_pct.text)\n",
    "                if not pct.isdigit():\n",
    "                    is_skip = True\n",
    "            else:\n",
    "                continue\n",
    "\n",
    "        if not pct.isdigit():\n",
    "            continue\n",
    "\n",
    "        result.append((http,ip + ':' + port, pct))\n",
    "\n",
    "    result.sort(key = lambda element  : int(element[2]), reverse=True)\n",
    "\n",
    "    return result"
   ]
  },
  {
   "cell_type": "code",
   "execution_count": 138,
   "id": "04dc15cb",
   "metadata": {
    "scrolled": true
   },
   "outputs": [
    {
     "name": "stdout",
     "output_type": "stream",
     "text": [
      "230511\n",
      "./data/gimagall_230511.csv\n",
      "2023-05-11 00:00:00\n",
      "Error! :  HTTPSConnectionPool(host='gall.dcinside.com', port=443): Max retries exceeded with url: /mgallery/board/lists?id=dnfqq&page=1&list_num=100 (Caused by ProxyError('Cannot connect to proxy.', ConnectionResetError(54, 'Connection reset by peer')))\n",
      "Error! :  HTTPSConnectionPool(host='gall.dcinside.com', port=443): Max retries exceeded with url: /mgallery/board/lists?id=dnfqq&page=1&list_num=100 (Caused by ProxyError('Cannot connect to proxy.', ConnectionResetError(54, 'Connection reset by peer')))\n",
      "Error! :  HTTPSConnectionPool(host='gall.dcinside.com', port=443): Max retries exceeded with url: /mgallery/board/lists?id=dnfqq&page=1&list_num=100 (Caused by ProxyError('Cannot connect to proxy.', ConnectionResetError(54, 'Connection reset by peer')))\n",
      "Error! :  HTTPSConnectionPool(host='gall.dcinside.com', port=443): Max retries exceeded with url: /mgallery/board/lists?id=dnfqq&page=1&list_num=100 (Caused by ProxyError('Cannot connect to proxy.', ConnectionResetError(54, 'Connection reset by peer')))\n",
      "Error! :  HTTPSConnectionPool(host='gall.dcinside.com', port=443): Max retries exceeded with url: /mgallery/board/lists?id=dnfqq&page=1&list_num=100 (Caused by ProxyError('Cannot connect to proxy.', RemoteDisconnected('Remote end closed connection without response')))\n",
      "Error! :  HTTPSConnectionPool(host='gall.dcinside.com', port=443): Max retries exceeded with url: /mgallery/board/lists?id=dnfqq&page=1&list_num=100 (Caused by ProxyError('Cannot connect to proxy.', ConnectionResetError(54, 'Connection reset by peer')))\n",
      "Recent Post Not Target Data\n",
      "Recent Post Not Target Data\n",
      "Error! :  HTTPSConnectionPool(host='gall.dcinside.com', port=443): Read timed out.\n",
      "Error! :  HTTPSConnectionPool(host='gall.dcinside.com', port=443): Max retries exceeded with url: /mgallery/board/lists?id=dnfqq&page=3&list_num=100 (Caused by ProxyError('Cannot connect to proxy.', OSError('Tunnel connection failed: 302 Found')))\n",
      "Error! :  HTTPSConnectionPool(host='gall.dcinside.com', port=443): Max retries exceeded with url: /mgallery/board/lists?id=dnfqq&page=3&list_num=100 (Caused by ConnectTimeoutError(<urllib3.connection.HTTPSConnection object at 0x7fa3c7465640>, 'Connection to 185.6.9.159 timed out. (connect timeout=10)'))\n",
      "Error! :  HTTPSConnectionPool(host='gall.dcinside.com', port=443): Max retries exceeded with url: /mgallery/board/lists?id=dnfqq&page=3&list_num=100 (Caused by ProxyError('Cannot connect to proxy.', timeout('timed out')))\n",
      "Recent Post Not Target Data\n",
      "Recent Post Not Target Data\n",
      "Recent Post Not Target Data\n",
      "Recent Post Not Target Data\n",
      "Recent Post Not Target Data\n",
      "Recent Post Not Target Data\n",
      "Recent Post Not Target Data\n",
      "Recent Post Not Target Data\n",
      "Recent Post Not Target Data\n",
      "Recent Post Not Target Data\n",
      "Recent Post Not Target Data\n",
      "Recent Post Not Target Data\n",
      "Recent Post Not Target Data\n",
      "Error! :  HTTPSConnectionPool(host='gall.dcinside.com', port=443): Max retries exceeded with url: /mgallery/board/lists?id=dnfqq&page=16&list_num=100 (Caused by ProxyError('Cannot connect to proxy.', timeout('timed out')))\n",
      "Error! :  HTTPSConnectionPool(host='gall.dcinside.com', port=443): Max retries exceeded with url: /mgallery/board/lists?id=dnfqq&page=16&list_num=100 (Caused by ConnectTimeoutError(<urllib3.connection.HTTPSConnection object at 0x7fa3c7b29f10>, 'Connection to 138.122.99.132 timed out. (connect timeout=10)'))\n",
      "Error! :  HTTPSConnectionPool(host='gall.dcinside.com', port=443): Max retries exceeded with url: /mgallery/board/lists?id=dnfqq&page=16&list_num=100 (Caused by ConnectTimeoutError(<urllib3.connection.HTTPSConnection object at 0x7fa3c7b20610>, 'Connection to 177.124.184.52 timed out. (connect timeout=10)'))\n",
      "Error! :  HTTPSConnectionPool(host='gall.dcinside.com', port=443): Max retries exceeded with url: /mgallery/board/lists?id=dnfqq&page=16&list_num=100 (Caused by ProxyError('Cannot connect to proxy.', OSError('Tunnel connection failed: 500 Internal Server Error')))\n",
      "Error! :  HTTPSConnectionPool(host='gall.dcinside.com', port=443): Max retries exceeded with url: /mgallery/board/lists?id=dnfqq&page=16&list_num=100 (Caused by ProxyError('Cannot connect to proxy.', ConnectionResetError(54, 'Connection reset by peer')))\n",
      "Error! :  HTTPSConnectionPool(host='gall.dcinside.com', port=443): Max retries exceeded with url: /mgallery/board/lists?id=dnfqq&page=16&list_num=100 (Caused by ConnectTimeoutError(<urllib3.connection.HTTPSConnection object at 0x7fa3c7b20eb0>, 'Connection to 86.110.27.165 timed out. (connect timeout=10)'))\n",
      "Error! :  HTTPSConnectionPool(host='gall.dcinside.com', port=443): Max retries exceeded with url: /mgallery/board/lists?id=dnfqq&page=16&list_num=100 (Caused by ConnectTimeoutError(<urllib3.connection.HTTPSConnection object at 0x7fa3c7b475b0>, 'Connection to 41.86.252.91 timed out. (connect timeout=10)'))\n",
      "FIND TARGET DATE POST\n",
      "Data CNT :  98\n",
      "custom_break : False -  2023-05-11 23:47:42\n",
      "Error! :  HTTPSConnectionPool(host='gall.dcinside.com', port=443): Max retries exceeded with url: /mgallery/board/lists?id=dnfqq&page=17&list_num=100 (Caused by ProxyError('Cannot connect to proxy.', ConnectionResetError(54, 'Connection reset by peer')))\n",
      "Error! :  HTTPSConnectionPool(host='gall.dcinside.com', port=443): Max retries exceeded with url: /mgallery/board/lists?id=dnfqq&page=17&list_num=100 (Caused by ProxyError('Cannot connect to proxy.', ConnectionResetError(54, 'Connection reset by peer')))\n",
      "Error! :  HTTPSConnectionPool(host='gall.dcinside.com', port=443): Max retries exceeded with url: /mgallery/board/lists?id=dnfqq&page=17&list_num=100 (Caused by ProxyError('Cannot connect to proxy.', ConnectionResetError(54, 'Connection reset by peer')))\n",
      "Error! :  HTTPSConnectionPool(host='gall.dcinside.com', port=443): Max retries exceeded with url: /mgallery/board/lists?id=dnfqq&page=17&list_num=100 (Caused by ProxyError('Cannot connect to proxy.', ConnectionResetError(54, 'Connection reset by peer')))\n",
      "Error! :  HTTPSConnectionPool(host='gall.dcinside.com', port=443): Max retries exceeded with url: /mgallery/board/lists?id=dnfqq&page=17&list_num=100 (Caused by ProxyError('Cannot connect to proxy.', RemoteDisconnected('Remote end closed connection without response')))\n",
      "Error! :  HTTPSConnectionPool(host='gall.dcinside.com', port=443): Max retries exceeded with url: /mgallery/board/lists?id=dnfqq&page=17&list_num=100 (Caused by ProxyError('Cannot connect to proxy.', ConnectionResetError(54, 'Connection reset by peer')))\n",
      "FIND TARGET DATE POST\n",
      "Data CNT :  196\n",
      "custom_break : False -  2023-05-11 23:28:35\n",
      "Error! :  HTTPSConnectionPool(host='gall.dcinside.com', port=443): Max retries exceeded with url: /mgallery/board/lists?id=dnfqq&page=18&list_num=100 (Caused by ProxyError('Cannot connect to proxy.', ConnectionResetError(54, 'Connection reset by peer')))\n",
      "Error! :  HTTPSConnectionPool(host='gall.dcinside.com', port=443): Max retries exceeded with url: /mgallery/board/lists?id=dnfqq&page=18&list_num=100 (Caused by ProxyError('Cannot connect to proxy.', ConnectionResetError(54, 'Connection reset by peer')))\n",
      "Error! :  HTTPSConnectionPool(host='gall.dcinside.com', port=443): Max retries exceeded with url: /mgallery/board/lists?id=dnfqq&page=18&list_num=100 (Caused by ProxyError('Cannot connect to proxy.', ConnectionResetError(54, 'Connection reset by peer')))\n",
      "Error! :  HTTPSConnectionPool(host='gall.dcinside.com', port=443): Max retries exceeded with url: /mgallery/board/lists?id=dnfqq&page=18&list_num=100 (Caused by ProxyError('Cannot connect to proxy.', ConnectionResetError(54, 'Connection reset by peer')))\n",
      "Error! :  HTTPSConnectionPool(host='gall.dcinside.com', port=443): Max retries exceeded with url: /mgallery/board/lists?id=dnfqq&page=18&list_num=100 (Caused by ProxyError('Cannot connect to proxy.', RemoteDisconnected('Remote end closed connection without response')))\n",
      "Error! :  HTTPSConnectionPool(host='gall.dcinside.com', port=443): Max retries exceeded with url: /mgallery/board/lists?id=dnfqq&page=18&list_num=100 (Caused by ProxyError('Cannot connect to proxy.', ConnectionResetError(54, 'Connection reset by peer')))\n",
      "FIND TARGET DATE POST\n",
      "Data CNT :  291\n",
      "custom_break : False -  2023-05-11 23:12:44\n",
      "Error! :  HTTPSConnectionPool(host='gall.dcinside.com', port=443): Max retries exceeded with url: /mgallery/board/lists?id=dnfqq&page=19&list_num=100 (Caused by ProxyError('Cannot connect to proxy.', ConnectionResetError(54, 'Connection reset by peer')))\n"
     ]
    },
    {
     "name": "stdout",
     "output_type": "stream",
     "text": [
      "Error! :  HTTPSConnectionPool(host='gall.dcinside.com', port=443): Max retries exceeded with url: /mgallery/board/lists?id=dnfqq&page=19&list_num=100 (Caused by ProxyError('Cannot connect to proxy.', ConnectionResetError(54, 'Connection reset by peer')))\n",
      "Error! :  HTTPSConnectionPool(host='gall.dcinside.com', port=443): Max retries exceeded with url: /mgallery/board/lists?id=dnfqq&page=19&list_num=100 (Caused by ProxyError('Cannot connect to proxy.', ConnectionResetError(54, 'Connection reset by peer')))\n",
      "Error! :  HTTPSConnectionPool(host='gall.dcinside.com', port=443): Max retries exceeded with url: /mgallery/board/lists?id=dnfqq&page=19&list_num=100 (Caused by ProxyError('Cannot connect to proxy.', ConnectionResetError(54, 'Connection reset by peer')))\n",
      "Error! :  HTTPSConnectionPool(host='gall.dcinside.com', port=443): Max retries exceeded with url: /mgallery/board/lists?id=dnfqq&page=19&list_num=100 (Caused by ProxyError('Cannot connect to proxy.', RemoteDisconnected('Remote end closed connection without response')))\n",
      "Error! :  HTTPSConnectionPool(host='gall.dcinside.com', port=443): Max retries exceeded with url: /mgallery/board/lists?id=dnfqq&page=19&list_num=100 (Caused by ProxyError('Cannot connect to proxy.', ConnectionResetError(54, 'Connection reset by peer')))\n",
      "FIND TARGET DATE POST\n",
      "Data CNT :  390\n",
      "custom_break : False -  2023-05-11 22:53:57\n",
      "Error! :  HTTPSConnectionPool(host='gall.dcinside.com', port=443): Max retries exceeded with url: /mgallery/board/lists?id=dnfqq&page=20&list_num=100 (Caused by ProxyError('Cannot connect to proxy.', ConnectionResetError(54, 'Connection reset by peer')))\n",
      "Error! :  HTTPSConnectionPool(host='gall.dcinside.com', port=443): Max retries exceeded with url: /mgallery/board/lists?id=dnfqq&page=20&list_num=100 (Caused by ProxyError('Cannot connect to proxy.', ConnectionResetError(54, 'Connection reset by peer')))\n",
      "Error! :  HTTPSConnectionPool(host='gall.dcinside.com', port=443): Max retries exceeded with url: /mgallery/board/lists?id=dnfqq&page=20&list_num=100 (Caused by ProxyError('Cannot connect to proxy.', ConnectionResetError(54, 'Connection reset by peer')))\n",
      "Error! :  HTTPSConnectionPool(host='gall.dcinside.com', port=443): Max retries exceeded with url: /mgallery/board/lists?id=dnfqq&page=20&list_num=100 (Caused by ProxyError('Cannot connect to proxy.', ConnectionResetError(54, 'Connection reset by peer')))\n",
      "Error! :  HTTPSConnectionPool(host='gall.dcinside.com', port=443): Max retries exceeded with url: /mgallery/board/lists?id=dnfqq&page=20&list_num=100 (Caused by ProxyError('Cannot connect to proxy.', RemoteDisconnected('Remote end closed connection without response')))\n",
      "Error! :  HTTPSConnectionPool(host='gall.dcinside.com', port=443): Max retries exceeded with url: /mgallery/board/lists?id=dnfqq&page=20&list_num=100 (Caused by ProxyError('Cannot connect to proxy.', ConnectionResetError(54, 'Connection reset by peer')))\n",
      "Error! :  'NoneType' object is not subscriptable\n",
      "Error! :  HTTPSConnectionPool(host='gall.dcinside.com', port=443): Max retries exceeded with url: /mgallery/board/lists?id=dnfqq&page=20&list_num=100 (Caused by ProxyError('Cannot connect to proxy.', OSError('Tunnel connection failed: 302 Found')))\n",
      "Error! :  ('Connection aborted.', BadStatusLine('\\x00[\\x00\\x00\\x00\\x00\\x00\\x00'))\n",
      "Error! :  HTTPSConnectionPool(host='gall.dcinside.com', port=443): Max retries exceeded with url: /mgallery/board/lists?id=dnfqq&page=20&list_num=100 (Caused by ConnectTimeoutError(<urllib3.connection.HTTPSConnection object at 0x7fa3c9770700>, 'Connection to 196.204.24.251 timed out. (connect timeout=10)'))\n",
      "FIND TARGET DATE POST\n",
      "Data CNT :  489\n",
      "custom_break : False -  2023-05-11 22:41:10\n",
      "Error! :  HTTPSConnectionPool(host='gall.dcinside.com', port=443): Max retries exceeded with url: /mgallery/board/lists?id=dnfqq&page=21&list_num=100 (Caused by ProxyError('Cannot connect to proxy.', ConnectionResetError(54, 'Connection reset by peer')))\n",
      "Error! :  HTTPSConnectionPool(host='gall.dcinside.com', port=443): Max retries exceeded with url: /mgallery/board/lists?id=dnfqq&page=21&list_num=100 (Caused by ProxyError('Cannot connect to proxy.', ConnectionResetError(54, 'Connection reset by peer')))\n",
      "Error! :  HTTPSConnectionPool(host='gall.dcinside.com', port=443): Max retries exceeded with url: /mgallery/board/lists?id=dnfqq&page=21&list_num=100 (Caused by ProxyError('Cannot connect to proxy.', ConnectionResetError(54, 'Connection reset by peer')))\n",
      "Error! :  HTTPSConnectionPool(host='gall.dcinside.com', port=443): Max retries exceeded with url: /mgallery/board/lists?id=dnfqq&page=21&list_num=100 (Caused by ProxyError('Cannot connect to proxy.', ConnectionResetError(54, 'Connection reset by peer')))\n",
      "Error! :  HTTPSConnectionPool(host='gall.dcinside.com', port=443): Max retries exceeded with url: /mgallery/board/lists?id=dnfqq&page=21&list_num=100 (Caused by ProxyError('Cannot connect to proxy.', RemoteDisconnected('Remote end closed connection without response')))\n",
      "Error! :  HTTPSConnectionPool(host='gall.dcinside.com', port=443): Max retries exceeded with url: /mgallery/board/lists?id=dnfqq&page=21&list_num=100 (Caused by ProxyError('Cannot connect to proxy.', ConnectionResetError(54, 'Connection reset by peer')))\n",
      "Error! :  HTTPSConnectionPool(host='gall.dcinside.com', port=443): Read timed out.\n",
      "Error! :  HTTPSConnectionPool(host='gall.dcinside.com', port=443): Max retries exceeded with url: /mgallery/board/lists?id=dnfqq&page=21&list_num=100 (Caused by ProxyError('Cannot connect to proxy.', OSError('Tunnel connection failed: 302 Found')))\n",
      "Error! :  ('Connection aborted.', BadStatusLine('\\x00[\\x00\\x00\\x00\\x00\\x00\\x00'))\n",
      "Error! :  HTTPSConnectionPool(host='gall.dcinside.com', port=443): Max retries exceeded with url: /mgallery/board/lists?id=dnfqq&page=21&list_num=100 (Caused by ProxyError('Cannot connect to proxy.', timeout('timed out')))\n",
      "FIND TARGET DATE POST\n",
      "Data CNT :  586\n",
      "custom_break : False -  2023-05-11 22:25:57\n",
      "Error! :  HTTPSConnectionPool(host='gall.dcinside.com', port=443): Max retries exceeded with url: /mgallery/board/lists?id=dnfqq&page=22&list_num=100 (Caused by ProxyError('Cannot connect to proxy.', ConnectionResetError(54, 'Connection reset by peer')))\n",
      "Error! :  HTTPSConnectionPool(host='gall.dcinside.com', port=443): Max retries exceeded with url: /mgallery/board/lists?id=dnfqq&page=22&list_num=100 (Caused by ProxyError('Cannot connect to proxy.', ConnectionResetError(54, 'Connection reset by peer')))\n",
      "Error! :  HTTPSConnectionPool(host='gall.dcinside.com', port=443): Max retries exceeded with url: /mgallery/board/lists?id=dnfqq&page=22&list_num=100 (Caused by ProxyError('Cannot connect to proxy.', timeout('timed out')))\n",
      "Error! :  HTTPSConnectionPool(host='gall.dcinside.com', port=443): Max retries exceeded with url: /mgallery/board/lists?id=dnfqq&page=22&list_num=100 (Caused by ProxyError('Cannot connect to proxy.', ConnectionResetError(54, 'Connection reset by peer')))\n",
      "Error! :  HTTPSConnectionPool(host='gall.dcinside.com', port=443): Max retries exceeded with url: /mgallery/board/lists?id=dnfqq&page=22&list_num=100 (Caused by ProxyError('Cannot connect to proxy.', RemoteDisconnected('Remote end closed connection without response')))\n",
      "Error! :  HTTPSConnectionPool(host='gall.dcinside.com', port=443): Max retries exceeded with url: /mgallery/board/lists?id=dnfqq&page=22&list_num=100 (Caused by ProxyError('Cannot connect to proxy.', ConnectionResetError(54, 'Connection reset by peer')))\n",
      "FIND TARGET DATE POST\n",
      "Data CNT :  683\n",
      "custom_break : False -  2023-05-11 22:08:54\n",
      "Error! :  HTTPSConnectionPool(host='gall.dcinside.com', port=443): Max retries exceeded with url: /mgallery/board/lists?id=dnfqq&page=23&list_num=100 (Caused by ProxyError('Cannot connect to proxy.', ConnectionResetError(54, 'Connection reset by peer')))\n",
      "Error! :  HTTPSConnectionPool(host='gall.dcinside.com', port=443): Max retries exceeded with url: /mgallery/board/lists?id=dnfqq&page=23&list_num=100 (Caused by ProxyError('Cannot connect to proxy.', ConnectionResetError(54, 'Connection reset by peer')))\n",
      "Error! :  HTTPSConnectionPool(host='gall.dcinside.com', port=443): Max retries exceeded with url: /mgallery/board/lists?id=dnfqq&page=23&list_num=100 (Caused by ProxyError('Cannot connect to proxy.', ConnectionResetError(54, 'Connection reset by peer')))\n"
     ]
    },
    {
     "name": "stdout",
     "output_type": "stream",
     "text": [
      "Error! :  HTTPSConnectionPool(host='gall.dcinside.com', port=443): Max retries exceeded with url: /mgallery/board/lists?id=dnfqq&page=23&list_num=100 (Caused by ProxyError('Cannot connect to proxy.', ConnectionResetError(54, 'Connection reset by peer')))\n",
      "Error! :  HTTPSConnectionPool(host='gall.dcinside.com', port=443): Max retries exceeded with url: /mgallery/board/lists?id=dnfqq&page=23&list_num=100 (Caused by ProxyError('Cannot connect to proxy.', RemoteDisconnected('Remote end closed connection without response')))\n",
      "Error! :  HTTPSConnectionPool(host='gall.dcinside.com', port=443): Max retries exceeded with url: /mgallery/board/lists?id=dnfqq&page=23&list_num=100 (Caused by ProxyError('Cannot connect to proxy.', ConnectionResetError(54, 'Connection reset by peer')))\n",
      "Error! :  HTTPSConnectionPool(host='gall.dcinside.com', port=443): Read timed out.\n",
      "Error! :  HTTPSConnectionPool(host='gall.dcinside.com', port=443): Max retries exceeded with url: /mgallery/board/lists?id=dnfqq&page=23&list_num=100 (Caused by ProxyError('Cannot connect to proxy.', OSError('Tunnel connection failed: 302 Found')))\n",
      "Error! :  ('Connection aborted.', BadStatusLine('\\x00[\\x00\\x00\\x00\\x00\\x00\\x00'))\n",
      "Error! :  HTTPSConnectionPool(host='gall.dcinside.com', port=443): Max retries exceeded with url: /mgallery/board/lists?id=dnfqq&page=23&list_num=100 (Caused by ProxyError('Cannot connect to proxy.', timeout('timed out')))\n",
      "FIND TARGET DATE POST\n",
      "Data CNT :  781\n",
      "custom_break : False -  2023-05-11 21:50:50\n",
      "Error! :  HTTPSConnectionPool(host='gall.dcinside.com', port=443): Max retries exceeded with url: /mgallery/board/lists?id=dnfqq&page=24&list_num=100 (Caused by ProxyError('Cannot connect to proxy.', ConnectionResetError(54, 'Connection reset by peer')))\n",
      "Error! :  HTTPSConnectionPool(host='gall.dcinside.com', port=443): Max retries exceeded with url: /mgallery/board/lists?id=dnfqq&page=24&list_num=100 (Caused by ProxyError('Cannot connect to proxy.', ConnectionResetError(54, 'Connection reset by peer')))\n",
      "Error! :  HTTPSConnectionPool(host='gall.dcinside.com', port=443): Max retries exceeded with url: /mgallery/board/lists?id=dnfqq&page=24&list_num=100 (Caused by ProxyError('Cannot connect to proxy.', ConnectionResetError(54, 'Connection reset by peer')))\n",
      "Error! :  HTTPSConnectionPool(host='gall.dcinside.com', port=443): Max retries exceeded with url: /mgallery/board/lists?id=dnfqq&page=24&list_num=100 (Caused by ConnectTimeoutError(<urllib3.connection.HTTPSConnection object at 0x7fa3c62ad2e0>, 'Connection to 70.166.167.55 timed out. (connect timeout=10)'))\n",
      "Error! :  HTTPSConnectionPool(host='gall.dcinside.com', port=443): Max retries exceeded with url: /mgallery/board/lists?id=dnfqq&page=24&list_num=100 (Caused by ProxyError('Cannot connect to proxy.', RemoteDisconnected('Remote end closed connection without response')))\n",
      "Error! :  HTTPSConnectionPool(host='gall.dcinside.com', port=443): Max retries exceeded with url: /mgallery/board/lists?id=dnfqq&page=24&list_num=100 (Caused by ProxyError('Cannot connect to proxy.', ConnectionResetError(54, 'Connection reset by peer')))\n",
      "Error! :  HTTPSConnectionPool(host='gall.dcinside.com', port=443): Read timed out.\n",
      "Error! :  HTTPSConnectionPool(host='gall.dcinside.com', port=443): Max retries exceeded with url: /mgallery/board/lists?id=dnfqq&page=24&list_num=100 (Caused by ProxyError('Cannot connect to proxy.', OSError('Tunnel connection failed: 302 Found')))\n",
      "Error! :  HTTPSConnectionPool(host='gall.dcinside.com', port=443): Max retries exceeded with url: /mgallery/board/lists?id=dnfqq&page=24&list_num=100 (Caused by ConnectTimeoutError(<urllib3.connection.HTTPSConnection object at 0x7fa3c62add00>, 'Connection to 185.6.9.159 timed out. (connect timeout=10)'))\n",
      "Error! :  HTTPSConnectionPool(host='gall.dcinside.com', port=443): Max retries exceeded with url: /mgallery/board/lists?id=dnfqq&page=24&list_num=100 (Caused by ConnectTimeoutError(<urllib3.connection.HTTPSConnection object at 0x7fa3c499c190>, 'Connection to 196.204.24.251 timed out. (connect timeout=10)'))\n",
      "FIND TARGET DATE POST\n",
      "Data CNT :  879\n",
      "custom_break : False -  2023-05-11 21:32:24\n",
      "Error! :  HTTPSConnectionPool(host='gall.dcinside.com', port=443): Max retries exceeded with url: /mgallery/board/lists?id=dnfqq&page=25&list_num=100 (Caused by ProxyError('Cannot connect to proxy.', ConnectionResetError(54, 'Connection reset by peer')))\n",
      "Error! :  HTTPSConnectionPool(host='gall.dcinside.com', port=443): Max retries exceeded with url: /mgallery/board/lists?id=dnfqq&page=25&list_num=100 (Caused by ProxyError('Cannot connect to proxy.', ConnectionResetError(54, 'Connection reset by peer')))\n",
      "Error! :  HTTPSConnectionPool(host='gall.dcinside.com', port=443): Max retries exceeded with url: /mgallery/board/lists?id=dnfqq&page=25&list_num=100 (Caused by ProxyError('Cannot connect to proxy.', ConnectionResetError(54, 'Connection reset by peer')))\n",
      "Error! :  HTTPSConnectionPool(host='gall.dcinside.com', port=443): Max retries exceeded with url: /mgallery/board/lists?id=dnfqq&page=25&list_num=100 (Caused by ProxyError('Cannot connect to proxy.', ConnectionResetError(54, 'Connection reset by peer')))\n",
      "Error! :  HTTPSConnectionPool(host='gall.dcinside.com', port=443): Max retries exceeded with url: /mgallery/board/lists?id=dnfqq&page=25&list_num=100 (Caused by ProxyError('Cannot connect to proxy.', RemoteDisconnected('Remote end closed connection without response')))\n",
      "Error! :  HTTPSConnectionPool(host='gall.dcinside.com', port=443): Max retries exceeded with url: /mgallery/board/lists?id=dnfqq&page=25&list_num=100 (Caused by ProxyError('Cannot connect to proxy.', ConnectionResetError(54, 'Connection reset by peer')))\n",
      "FIND TARGET DATE POST\n",
      "Data CNT :  977\n",
      "custom_break : False -  2023-05-11 21:18:33\n",
      "Error! :  HTTPSConnectionPool(host='gall.dcinside.com', port=443): Max retries exceeded with url: /mgallery/board/lists?id=dnfqq&page=26&list_num=100 (Caused by ProxyError('Cannot connect to proxy.', ConnectionResetError(54, 'Connection reset by peer')))\n",
      "Error! :  HTTPSConnectionPool(host='gall.dcinside.com', port=443): Max retries exceeded with url: /mgallery/board/lists?id=dnfqq&page=26&list_num=100 (Caused by ProxyError('Cannot connect to proxy.', ConnectionResetError(54, 'Connection reset by peer')))\n",
      "Error! :  HTTPSConnectionPool(host='gall.dcinside.com', port=443): Max retries exceeded with url: /mgallery/board/lists?id=dnfqq&page=26&list_num=100 (Caused by ProxyError('Cannot connect to proxy.', ConnectionResetError(54, 'Connection reset by peer')))\n",
      "Error! :  HTTPSConnectionPool(host='gall.dcinside.com', port=443): Max retries exceeded with url: /mgallery/board/lists?id=dnfqq&page=26&list_num=100 (Caused by ProxyError('Cannot connect to proxy.', ConnectionResetError(54, 'Connection reset by peer')))\n",
      "Error! :  HTTPSConnectionPool(host='gall.dcinside.com', port=443): Max retries exceeded with url: /mgallery/board/lists?id=dnfqq&page=26&list_num=100 (Caused by ProxyError('Cannot connect to proxy.', RemoteDisconnected('Remote end closed connection without response')))\n",
      "Error! :  HTTPSConnectionPool(host='gall.dcinside.com', port=443): Max retries exceeded with url: /mgallery/board/lists?id=dnfqq&page=26&list_num=100 (Caused by ProxyError('Cannot connect to proxy.', ConnectionResetError(54, 'Connection reset by peer')))\n",
      "FIND TARGET DATE POST\n",
      "Data CNT :  1077\n",
      "custom_break : False -  2023-05-11 21:05:48\n",
      "Error! :  HTTPSConnectionPool(host='gall.dcinside.com', port=443): Max retries exceeded with url: /mgallery/board/lists?id=dnfqq&page=27&list_num=100 (Caused by ProxyError('Cannot connect to proxy.', ConnectionResetError(54, 'Connection reset by peer')))\n",
      "Error! :  HTTPSConnectionPool(host='gall.dcinside.com', port=443): Max retries exceeded with url: /mgallery/board/lists?id=dnfqq&page=27&list_num=100 (Caused by ProxyError('Cannot connect to proxy.', ConnectionResetError(54, 'Connection reset by peer')))\n",
      "Error! :  HTTPSConnectionPool(host='gall.dcinside.com', port=443): Max retries exceeded with url: /mgallery/board/lists?id=dnfqq&page=27&list_num=100 (Caused by ProxyError('Cannot connect to proxy.', ConnectionResetError(54, 'Connection reset by peer')))\n",
      "Error! :  HTTPSConnectionPool(host='gall.dcinside.com', port=443): Max retries exceeded with url: /mgallery/board/lists?id=dnfqq&page=27&list_num=100 (Caused by ProxyError('Cannot connect to proxy.', ConnectionResetError(54, 'Connection reset by peer')))\n"
     ]
    },
    {
     "name": "stdout",
     "output_type": "stream",
     "text": [
      "Error! :  HTTPSConnectionPool(host='gall.dcinside.com', port=443): Max retries exceeded with url: /mgallery/board/lists?id=dnfqq&page=27&list_num=100 (Caused by ProxyError('Cannot connect to proxy.', RemoteDisconnected('Remote end closed connection without response')))\n",
      "Error! :  HTTPSConnectionPool(host='gall.dcinside.com', port=443): Max retries exceeded with url: /mgallery/board/lists?id=dnfqq&page=27&list_num=100 (Caused by ProxyError('Cannot connect to proxy.', ConnectionResetError(54, 'Connection reset by peer')))\n",
      "FIND TARGET DATE POST\n",
      "Data CNT :  1175\n",
      "custom_break : False -  2023-05-11 20:50:35\n",
      "Error! :  HTTPSConnectionPool(host='gall.dcinside.com', port=443): Max retries exceeded with url: /mgallery/board/lists?id=dnfqq&page=28&list_num=100 (Caused by ProxyError('Cannot connect to proxy.', ConnectionResetError(54, 'Connection reset by peer')))\n",
      "Error! :  HTTPSConnectionPool(host='gall.dcinside.com', port=443): Max retries exceeded with url: /mgallery/board/lists?id=dnfqq&page=28&list_num=100 (Caused by ProxyError('Cannot connect to proxy.', ConnectionResetError(54, 'Connection reset by peer')))\n",
      "Error! :  HTTPSConnectionPool(host='gall.dcinside.com', port=443): Max retries exceeded with url: /mgallery/board/lists?id=dnfqq&page=28&list_num=100 (Caused by ProxyError('Cannot connect to proxy.', ConnectionResetError(54, 'Connection reset by peer')))\n",
      "Error! :  HTTPSConnectionPool(host='gall.dcinside.com', port=443): Max retries exceeded with url: /mgallery/board/lists?id=dnfqq&page=28&list_num=100 (Caused by ProxyError('Cannot connect to proxy.', ConnectionResetError(54, 'Connection reset by peer')))\n",
      "Error! :  HTTPSConnectionPool(host='gall.dcinside.com', port=443): Max retries exceeded with url: /mgallery/board/lists?id=dnfqq&page=28&list_num=100 (Caused by ProxyError('Cannot connect to proxy.', RemoteDisconnected('Remote end closed connection without response')))\n",
      "Error! :  HTTPSConnectionPool(host='gall.dcinside.com', port=443): Max retries exceeded with url: /mgallery/board/lists?id=dnfqq&page=28&list_num=100 (Caused by ProxyError('Cannot connect to proxy.', timeout('timed out')))\n",
      "FIND TARGET DATE POST\n",
      "Data CNT :  1275\n",
      "custom_break : False -  2023-05-11 20:39:46\n",
      "Error! :  HTTPSConnectionPool(host='gall.dcinside.com', port=443): Max retries exceeded with url: /mgallery/board/lists?id=dnfqq&page=29&list_num=100 (Caused by ProxyError('Cannot connect to proxy.', ConnectionResetError(54, 'Connection reset by peer')))\n",
      "Error! :  HTTPSConnectionPool(host='gall.dcinside.com', port=443): Max retries exceeded with url: /mgallery/board/lists?id=dnfqq&page=29&list_num=100 (Caused by ProxyError('Cannot connect to proxy.', ConnectionResetError(54, 'Connection reset by peer')))\n",
      "Error! :  HTTPSConnectionPool(host='gall.dcinside.com', port=443): Max retries exceeded with url: /mgallery/board/lists?id=dnfqq&page=29&list_num=100 (Caused by ProxyError('Cannot connect to proxy.', ConnectionResetError(54, 'Connection reset by peer')))\n",
      "Error! :  HTTPSConnectionPool(host='gall.dcinside.com', port=443): Max retries exceeded with url: /mgallery/board/lists?id=dnfqq&page=29&list_num=100 (Caused by ProxyError('Cannot connect to proxy.', ConnectionResetError(54, 'Connection reset by peer')))\n",
      "Error! :  HTTPSConnectionPool(host='gall.dcinside.com', port=443): Max retries exceeded with url: /mgallery/board/lists?id=dnfqq&page=29&list_num=100 (Caused by ProxyError('Cannot connect to proxy.', RemoteDisconnected('Remote end closed connection without response')))\n",
      "Error! :  HTTPSConnectionPool(host='gall.dcinside.com', port=443): Max retries exceeded with url: /mgallery/board/lists?id=dnfqq&page=29&list_num=100 (Caused by ProxyError('Cannot connect to proxy.', ConnectionResetError(54, 'Connection reset by peer')))\n",
      "Error! :  HTTPSConnectionPool(host='gall.dcinside.com', port=443): Read timed out.\n",
      "Error! :  HTTPSConnectionPool(host='gall.dcinside.com', port=443): Max retries exceeded with url: /mgallery/board/lists?id=dnfqq&page=29&list_num=100 (Caused by ProxyError('Cannot connect to proxy.', OSError('Tunnel connection failed: 302 Found')))\n",
      "Error! :  ('Connection aborted.', BadStatusLine('\\x00[\\x00\\x00\\x00\\x00\\x00\\x00'))\n",
      "Error! :  HTTPSConnectionPool(host='gall.dcinside.com', port=443): Max retries exceeded with url: /mgallery/board/lists?id=dnfqq&page=29&list_num=100 (Caused by ProxyError('Cannot connect to proxy.', timeout('timed out')))\n",
      "FIND TARGET DATE POST\n",
      "Data CNT :  1375\n",
      "custom_break : False -  2023-05-11 20:27:50\n",
      "Error! :  HTTPSConnectionPool(host='gall.dcinside.com', port=443): Max retries exceeded with url: /mgallery/board/lists?id=dnfqq&page=30&list_num=100 (Caused by ProxyError('Cannot connect to proxy.', ConnectionResetError(54, 'Connection reset by peer')))\n",
      "Error! :  HTTPSConnectionPool(host='gall.dcinside.com', port=443): Max retries exceeded with url: /mgallery/board/lists?id=dnfqq&page=30&list_num=100 (Caused by ProxyError('Cannot connect to proxy.', ConnectionResetError(54, 'Connection reset by peer')))\n",
      "Error! :  HTTPSConnectionPool(host='gall.dcinside.com', port=443): Max retries exceeded with url: /mgallery/board/lists?id=dnfqq&page=30&list_num=100 (Caused by ProxyError('Cannot connect to proxy.', ConnectionResetError(54, 'Connection reset by peer')))\n",
      "Error! :  HTTPSConnectionPool(host='gall.dcinside.com', port=443): Max retries exceeded with url: /mgallery/board/lists?id=dnfqq&page=30&list_num=100 (Caused by ProxyError('Cannot connect to proxy.', ConnectionResetError(54, 'Connection reset by peer')))\n",
      "Error! :  HTTPSConnectionPool(host='gall.dcinside.com', port=443): Max retries exceeded with url: /mgallery/board/lists?id=dnfqq&page=30&list_num=100 (Caused by ProxyError('Cannot connect to proxy.', RemoteDisconnected('Remote end closed connection without response')))\n",
      "Error! :  HTTPSConnectionPool(host='gall.dcinside.com', port=443): Max retries exceeded with url: /mgallery/board/lists?id=dnfqq&page=30&list_num=100 (Caused by ProxyError('Cannot connect to proxy.', ConnectionResetError(54, 'Connection reset by peer')))\n",
      "FIND TARGET DATE POST\n",
      "Data CNT :  1472\n",
      "custom_break : False -  2023-05-11 20:13:16\n",
      "Error! :  HTTPSConnectionPool(host='gall.dcinside.com', port=443): Max retries exceeded with url: /mgallery/board/lists?id=dnfqq&page=31&list_num=100 (Caused by ProxyError('Cannot connect to proxy.', ConnectionResetError(54, 'Connection reset by peer')))\n",
      "Error! :  HTTPSConnectionPool(host='gall.dcinside.com', port=443): Max retries exceeded with url: /mgallery/board/lists?id=dnfqq&page=31&list_num=100 (Caused by ProxyError('Cannot connect to proxy.', ConnectionResetError(54, 'Connection reset by peer')))\n",
      "Error! :  HTTPSConnectionPool(host='gall.dcinside.com', port=443): Max retries exceeded with url: /mgallery/board/lists?id=dnfqq&page=31&list_num=100 (Caused by ProxyError('Cannot connect to proxy.', ConnectionResetError(54, 'Connection reset by peer')))\n",
      "Error! :  HTTPSConnectionPool(host='gall.dcinside.com', port=443): Max retries exceeded with url: /mgallery/board/lists?id=dnfqq&page=31&list_num=100 (Caused by ProxyError('Cannot connect to proxy.', ConnectionResetError(54, 'Connection reset by peer')))\n",
      "Error! :  HTTPSConnectionPool(host='gall.dcinside.com', port=443): Max retries exceeded with url: /mgallery/board/lists?id=dnfqq&page=31&list_num=100 (Caused by ProxyError('Cannot connect to proxy.', RemoteDisconnected('Remote end closed connection without response')))\n",
      "Error! :  HTTPSConnectionPool(host='gall.dcinside.com', port=443): Max retries exceeded with url: /mgallery/board/lists?id=dnfqq&page=31&list_num=100 (Caused by ProxyError('Cannot connect to proxy.', timeout('timed out')))\n",
      "Error! :  HTTPSConnectionPool(host='gall.dcinside.com', port=443): Read timed out.\n",
      "Error! :  HTTPSConnectionPool(host='gall.dcinside.com', port=443): Max retries exceeded with url: /mgallery/board/lists?id=dnfqq&page=31&list_num=100 (Caused by ProxyError('Cannot connect to proxy.', OSError('Tunnel connection failed: 302 Found')))\n",
      "Error! :  HTTPSConnectionPool(host='gall.dcinside.com', port=443): Max retries exceeded with url: /mgallery/board/lists?id=dnfqq&page=31&list_num=100 (Caused by ProxyError('Cannot connect to proxy.', timeout('timed out')))\n",
      "Error! :  HTTPSConnectionPool(host='gall.dcinside.com', port=443): Max retries exceeded with url: /mgallery/board/lists?id=dnfqq&page=31&list_num=100 (Caused by ConnectTimeoutError(<urllib3.connection.HTTPSConnection object at 0x7fa3c7d9bcd0>, 'Connection to 196.204.24.251 timed out. (connect timeout=10)'))\n"
     ]
    },
    {
     "name": "stdout",
     "output_type": "stream",
     "text": [
      "FIND TARGET DATE POST\n",
      "Data CNT :  1571\n",
      "custom_break : False -  2023-05-11 19:56:28\n",
      "Error! :  HTTPSConnectionPool(host='gall.dcinside.com', port=443): Max retries exceeded with url: /mgallery/board/lists?id=dnfqq&page=32&list_num=100 (Caused by ProxyError('Cannot connect to proxy.', ConnectionResetError(54, 'Connection reset by peer')))\n",
      "Error! :  HTTPSConnectionPool(host='gall.dcinside.com', port=443): Max retries exceeded with url: /mgallery/board/lists?id=dnfqq&page=32&list_num=100 (Caused by ProxyError('Cannot connect to proxy.', ConnectionResetError(54, 'Connection reset by peer')))\n",
      "Error! :  HTTPSConnectionPool(host='gall.dcinside.com', port=443): Max retries exceeded with url: /mgallery/board/lists?id=dnfqq&page=32&list_num=100 (Caused by ProxyError('Cannot connect to proxy.', ConnectionResetError(54, 'Connection reset by peer')))\n",
      "Error! :  HTTPSConnectionPool(host='gall.dcinside.com', port=443): Max retries exceeded with url: /mgallery/board/lists?id=dnfqq&page=32&list_num=100 (Caused by ProxyError('Cannot connect to proxy.', ConnectionResetError(54, 'Connection reset by peer')))\n",
      "Error! :  HTTPSConnectionPool(host='gall.dcinside.com', port=443): Max retries exceeded with url: /mgallery/board/lists?id=dnfqq&page=32&list_num=100 (Caused by ProxyError('Cannot connect to proxy.', RemoteDisconnected('Remote end closed connection without response')))\n",
      "Error! :  HTTPSConnectionPool(host='gall.dcinside.com', port=443): Max retries exceeded with url: /mgallery/board/lists?id=dnfqq&page=32&list_num=100 (Caused by ProxyError('Cannot connect to proxy.', ConnectionResetError(54, 'Connection reset by peer')))\n",
      "FIND TARGET DATE POST\n",
      "Data CNT :  1671\n",
      "custom_break : False -  2023-05-11 19:43:36\n",
      "Error! :  HTTPSConnectionPool(host='gall.dcinside.com', port=443): Max retries exceeded with url: /mgallery/board/lists?id=dnfqq&page=33&list_num=100 (Caused by ProxyError('Cannot connect to proxy.', ConnectionResetError(54, 'Connection reset by peer')))\n",
      "Error! :  HTTPSConnectionPool(host='gall.dcinside.com', port=443): Max retries exceeded with url: /mgallery/board/lists?id=dnfqq&page=33&list_num=100 (Caused by ProxyError('Cannot connect to proxy.', ConnectionResetError(54, 'Connection reset by peer')))\n",
      "Error! :  HTTPSConnectionPool(host='gall.dcinside.com', port=443): Max retries exceeded with url: /mgallery/board/lists?id=dnfqq&page=33&list_num=100 (Caused by ProxyError('Cannot connect to proxy.', timeout('timed out')))\n",
      "Error! :  HTTPSConnectionPool(host='gall.dcinside.com', port=443): Max retries exceeded with url: /mgallery/board/lists?id=dnfqq&page=33&list_num=100 (Caused by ProxyError('Cannot connect to proxy.', ConnectionResetError(54, 'Connection reset by peer')))\n",
      "Error! :  HTTPSConnectionPool(host='gall.dcinside.com', port=443): Max retries exceeded with url: /mgallery/board/lists?id=dnfqq&page=33&list_num=100 (Caused by ProxyError('Cannot connect to proxy.', RemoteDisconnected('Remote end closed connection without response')))\n",
      "Error! :  HTTPSConnectionPool(host='gall.dcinside.com', port=443): Max retries exceeded with url: /mgallery/board/lists?id=dnfqq&page=33&list_num=100 (Caused by ProxyError('Cannot connect to proxy.', ConnectionResetError(54, 'Connection reset by peer')))\n",
      "FIND TARGET DATE POST\n",
      "Data CNT :  1770\n",
      "custom_break : False -  2023-05-11 19:30:41\n",
      "Error! :  HTTPSConnectionPool(host='gall.dcinside.com', port=443): Max retries exceeded with url: /mgallery/board/lists?id=dnfqq&page=34&list_num=100 (Caused by ProxyError('Cannot connect to proxy.', ConnectionResetError(54, 'Connection reset by peer')))\n",
      "Error! :  HTTPSConnectionPool(host='gall.dcinside.com', port=443): Max retries exceeded with url: /mgallery/board/lists?id=dnfqq&page=34&list_num=100 (Caused by ProxyError('Cannot connect to proxy.', ConnectionResetError(54, 'Connection reset by peer')))\n",
      "Error! :  HTTPSConnectionPool(host='gall.dcinside.com', port=443): Max retries exceeded with url: /mgallery/board/lists?id=dnfqq&page=34&list_num=100 (Caused by ProxyError('Cannot connect to proxy.', ConnectionResetError(54, 'Connection reset by peer')))\n",
      "Error! :  HTTPSConnectionPool(host='gall.dcinside.com', port=443): Max retries exceeded with url: /mgallery/board/lists?id=dnfqq&page=34&list_num=100 (Caused by ProxyError('Cannot connect to proxy.', ConnectionResetError(54, 'Connection reset by peer')))\n",
      "Error! :  HTTPSConnectionPool(host='gall.dcinside.com', port=443): Max retries exceeded with url: /mgallery/board/lists?id=dnfqq&page=34&list_num=100 (Caused by ProxyError('Cannot connect to proxy.', RemoteDisconnected('Remote end closed connection without response')))\n",
      "Error! :  HTTPSConnectionPool(host='gall.dcinside.com', port=443): Max retries exceeded with url: /mgallery/board/lists?id=dnfqq&page=34&list_num=100 (Caused by ProxyError('Cannot connect to proxy.', timeout('timed out')))\n",
      "FIND TARGET DATE POST\n",
      "Data CNT :  1868\n",
      "custom_break : False -  2023-05-11 19:19:11\n",
      "Error! :  HTTPSConnectionPool(host='gall.dcinside.com', port=443): Max retries exceeded with url: /mgallery/board/lists?id=dnfqq&page=35&list_num=100 (Caused by ProxyError('Cannot connect to proxy.', ConnectionResetError(54, 'Connection reset by peer')))\n",
      "Error! :  HTTPSConnectionPool(host='gall.dcinside.com', port=443): Max retries exceeded with url: /mgallery/board/lists?id=dnfqq&page=35&list_num=100 (Caused by ProxyError('Cannot connect to proxy.', ConnectionResetError(54, 'Connection reset by peer')))\n",
      "Error! :  HTTPSConnectionPool(host='gall.dcinside.com', port=443): Max retries exceeded with url: /mgallery/board/lists?id=dnfqq&page=35&list_num=100 (Caused by ProxyError('Cannot connect to proxy.', ConnectionResetError(54, 'Connection reset by peer')))\n",
      "Error! :  HTTPSConnectionPool(host='gall.dcinside.com', port=443): Max retries exceeded with url: /mgallery/board/lists?id=dnfqq&page=35&list_num=100 (Caused by ProxyError('Cannot connect to proxy.', ConnectionResetError(54, 'Connection reset by peer')))\n",
      "Error! :  HTTPSConnectionPool(host='gall.dcinside.com', port=443): Max retries exceeded with url: /mgallery/board/lists?id=dnfqq&page=35&list_num=100 (Caused by ProxyError('Cannot connect to proxy.', RemoteDisconnected('Remote end closed connection without response')))\n",
      "Error! :  HTTPSConnectionPool(host='gall.dcinside.com', port=443): Max retries exceeded with url: /mgallery/board/lists?id=dnfqq&page=35&list_num=100 (Caused by ProxyError('Cannot connect to proxy.', ConnectionResetError(54, 'Connection reset by peer')))\n",
      "FIND TARGET DATE POST\n",
      "Data CNT :  1967\n",
      "custom_break : False -  2023-05-11 19:02:19\n",
      "Error! :  HTTPSConnectionPool(host='gall.dcinside.com', port=443): Max retries exceeded with url: /mgallery/board/lists?id=dnfqq&page=36&list_num=100 (Caused by ProxyError('Cannot connect to proxy.', ConnectionResetError(54, 'Connection reset by peer')))\n",
      "Error! :  HTTPSConnectionPool(host='gall.dcinside.com', port=443): Max retries exceeded with url: /mgallery/board/lists?id=dnfqq&page=36&list_num=100 (Caused by ProxyError('Cannot connect to proxy.', ConnectionResetError(54, 'Connection reset by peer')))\n",
      "Error! :  HTTPSConnectionPool(host='gall.dcinside.com', port=443): Max retries exceeded with url: /mgallery/board/lists?id=dnfqq&page=36&list_num=100 (Caused by ProxyError('Cannot connect to proxy.', ConnectionResetError(54, 'Connection reset by peer')))\n",
      "Error! :  HTTPSConnectionPool(host='gall.dcinside.com', port=443): Max retries exceeded with url: /mgallery/board/lists?id=dnfqq&page=36&list_num=100 (Caused by ProxyError('Cannot connect to proxy.', ConnectionResetError(54, 'Connection reset by peer')))\n",
      "Error! :  HTTPSConnectionPool(host='gall.dcinside.com', port=443): Max retries exceeded with url: /mgallery/board/lists?id=dnfqq&page=36&list_num=100 (Caused by ProxyError('Cannot connect to proxy.', RemoteDisconnected('Remote end closed connection without response')))\n",
      "Error! :  HTTPSConnectionPool(host='gall.dcinside.com', port=443): Max retries exceeded with url: /mgallery/board/lists?id=dnfqq&page=36&list_num=100 (Caused by ProxyError('Cannot connect to proxy.', ConnectionResetError(54, 'Connection reset by peer')))\n",
      "FIND TARGET DATE POST\n",
      "Data CNT :  2066\n",
      "custom_break : False -  2023-05-11 18:46:11\n",
      "Error! :  HTTPSConnectionPool(host='gall.dcinside.com', port=443): Max retries exceeded with url: /mgallery/board/lists?id=dnfqq&page=37&list_num=100 (Caused by ProxyError('Cannot connect to proxy.', ConnectionResetError(54, 'Connection reset by peer')))\n"
     ]
    },
    {
     "name": "stdout",
     "output_type": "stream",
     "text": [
      "Error! :  HTTPSConnectionPool(host='gall.dcinside.com', port=443): Max retries exceeded with url: /mgallery/board/lists?id=dnfqq&page=37&list_num=100 (Caused by ProxyError('Cannot connect to proxy.', ConnectionResetError(54, 'Connection reset by peer')))\n",
      "Error! :  HTTPSConnectionPool(host='gall.dcinside.com', port=443): Max retries exceeded with url: /mgallery/board/lists?id=dnfqq&page=37&list_num=100 (Caused by ProxyError('Cannot connect to proxy.', ConnectionResetError(54, 'Connection reset by peer')))\n",
      "Error! :  HTTPSConnectionPool(host='gall.dcinside.com', port=443): Max retries exceeded with url: /mgallery/board/lists?id=dnfqq&page=37&list_num=100 (Caused by ProxyError('Cannot connect to proxy.', ConnectionResetError(54, 'Connection reset by peer')))\n",
      "Error! :  HTTPSConnectionPool(host='gall.dcinside.com', port=443): Max retries exceeded with url: /mgallery/board/lists?id=dnfqq&page=37&list_num=100 (Caused by ProxyError('Cannot connect to proxy.', RemoteDisconnected('Remote end closed connection without response')))\n",
      "Error! :  HTTPSConnectionPool(host='gall.dcinside.com', port=443): Max retries exceeded with url: /mgallery/board/lists?id=dnfqq&page=37&list_num=100 (Caused by ProxyError('Cannot connect to proxy.', ConnectionResetError(54, 'Connection reset by peer')))\n",
      "Error! :  HTTPSConnectionPool(host='gall.dcinside.com', port=443): Read timed out.\n",
      "Error! :  HTTPSConnectionPool(host='gall.dcinside.com', port=443): Max retries exceeded with url: /mgallery/board/lists?id=dnfqq&page=37&list_num=100 (Caused by ProxyError('Cannot connect to proxy.', OSError('Tunnel connection failed: 302 Found')))\n",
      "Error! :  ('Connection aborted.', BadStatusLine('\\x00[\\x00\\x00\\x00\\x00\\x00\\x00'))\n",
      "Error! :  HTTPSConnectionPool(host='gall.dcinside.com', port=443): Max retries exceeded with url: /mgallery/board/lists?id=dnfqq&page=37&list_num=100 (Caused by ProxyError('Cannot connect to proxy.', timeout('timed out')))\n",
      "FIND TARGET DATE POST\n",
      "Data CNT :  2163\n",
      "custom_break : False -  2023-05-11 18:32:43\n",
      "Error! :  HTTPSConnectionPool(host='gall.dcinside.com', port=443): Max retries exceeded with url: /mgallery/board/lists?id=dnfqq&page=38&list_num=100 (Caused by ProxyError('Cannot connect to proxy.', ConnectionResetError(54, 'Connection reset by peer')))\n",
      "Error! :  HTTPSConnectionPool(host='gall.dcinside.com', port=443): Max retries exceeded with url: /mgallery/board/lists?id=dnfqq&page=38&list_num=100 (Caused by ProxyError('Cannot connect to proxy.', ConnectionResetError(54, 'Connection reset by peer')))\n",
      "Error! :  HTTPSConnectionPool(host='gall.dcinside.com', port=443): Max retries exceeded with url: /mgallery/board/lists?id=dnfqq&page=38&list_num=100 (Caused by ProxyError('Cannot connect to proxy.', ConnectionResetError(54, 'Connection reset by peer')))\n",
      "Error! :  HTTPSConnectionPool(host='gall.dcinside.com', port=443): Max retries exceeded with url: /mgallery/board/lists?id=dnfqq&page=38&list_num=100 (Caused by ProxyError('Cannot connect to proxy.', ConnectionResetError(54, 'Connection reset by peer')))\n",
      "Error! :  HTTPSConnectionPool(host='gall.dcinside.com', port=443): Max retries exceeded with url: /mgallery/board/lists?id=dnfqq&page=38&list_num=100 (Caused by ProxyError('Cannot connect to proxy.', RemoteDisconnected('Remote end closed connection without response')))\n",
      "Error! :  HTTPSConnectionPool(host='gall.dcinside.com', port=443): Max retries exceeded with url: /mgallery/board/lists?id=dnfqq&page=38&list_num=100 (Caused by ProxyError('Cannot connect to proxy.', ConnectionResetError(54, 'Connection reset by peer')))\n",
      "Error! :  HTTPSConnectionPool(host='gall.dcinside.com', port=443): Max retries exceeded with url: /mgallery/board/lists?id=dnfqq&page=38&list_num=100 (Caused by ProxyError('Cannot connect to proxy.', NewConnectionError('<urllib3.connection.HTTPSConnection object at 0x7fa3c6a0a130>: Failed to establish a new connection: [Errno 61] Connection refused')))\n",
      "Error! :  HTTPSConnectionPool(host='gall.dcinside.com', port=443): Max retries exceeded with url: /mgallery/board/lists?id=dnfqq&page=38&list_num=100 (Caused by ProxyError('Cannot connect to proxy.', OSError('Tunnel connection failed: 302 Found')))\n",
      "Error! :  HTTPSConnectionPool(host='gall.dcinside.com', port=443): Max retries exceeded with url: /mgallery/board/lists?id=dnfqq&page=38&list_num=100 (Caused by ProxyError('Cannot connect to proxy.', timeout('timed out')))\n",
      "Error! :  HTTPSConnectionPool(host='gall.dcinside.com', port=443): Max retries exceeded with url: /mgallery/board/lists?id=dnfqq&page=38&list_num=100 (Caused by ConnectTimeoutError(<urllib3.connection.HTTPSConnection object at 0x7fa3c6a0aaf0>, 'Connection to 196.204.24.251 timed out. (connect timeout=10)'))\n",
      "FIND TARGET DATE POST\n",
      "Data CNT :  2262\n",
      "custom_break : False -  2023-05-11 18:17:09\n",
      "Error! :  HTTPSConnectionPool(host='gall.dcinside.com', port=443): Max retries exceeded with url: /mgallery/board/lists?id=dnfqq&page=39&list_num=100 (Caused by ProxyError('Cannot connect to proxy.', ConnectionResetError(54, 'Connection reset by peer')))\n",
      "Error! :  HTTPSConnectionPool(host='gall.dcinside.com', port=443): Max retries exceeded with url: /mgallery/board/lists?id=dnfqq&page=39&list_num=100 (Caused by ProxyError('Cannot connect to proxy.', ConnectionResetError(54, 'Connection reset by peer')))\n",
      "Error! :  HTTPSConnectionPool(host='gall.dcinside.com', port=443): Max retries exceeded with url: /mgallery/board/lists?id=dnfqq&page=39&list_num=100 (Caused by ProxyError('Cannot connect to proxy.', ConnectionResetError(54, 'Connection reset by peer')))\n",
      "Error! :  HTTPSConnectionPool(host='gall.dcinside.com', port=443): Max retries exceeded with url: /mgallery/board/lists?id=dnfqq&page=39&list_num=100 (Caused by ProxyError('Cannot connect to proxy.', ConnectionResetError(54, 'Connection reset by peer')))\n",
      "Error! :  HTTPSConnectionPool(host='gall.dcinside.com', port=443): Max retries exceeded with url: /mgallery/board/lists?id=dnfqq&page=39&list_num=100 (Caused by ProxyError('Cannot connect to proxy.', RemoteDisconnected('Remote end closed connection without response')))\n",
      "Error! :  HTTPSConnectionPool(host='gall.dcinside.com', port=443): Max retries exceeded with url: /mgallery/board/lists?id=dnfqq&page=39&list_num=100 (Caused by ProxyError('Cannot connect to proxy.', timeout('timed out')))\n",
      "Error! :  HTTPSConnectionPool(host='gall.dcinside.com', port=443): Max retries exceeded with url: /mgallery/board/lists?id=dnfqq&page=39&list_num=100 (Caused by ProxyError('Cannot connect to proxy.', NewConnectionError('<urllib3.connection.HTTPSConnection object at 0x7fa3c6d86610>: Failed to establish a new connection: [Errno 61] Connection refused')))\n",
      "Error! :  HTTPSConnectionPool(host='gall.dcinside.com', port=443): Max retries exceeded with url: /mgallery/board/lists?id=dnfqq&page=39&list_num=100 (Caused by ProxyError('Cannot connect to proxy.', OSError('Tunnel connection failed: 302 Found')))\n",
      "Error! :  HTTPSConnectionPool(host='gall.dcinside.com', port=443): Max retries exceeded with url: /mgallery/board/lists?id=dnfqq&page=39&list_num=100 (Caused by ProxyError('Cannot connect to proxy.', timeout('timed out')))\n",
      "Error! :  HTTPSConnectionPool(host='gall.dcinside.com', port=443): Max retries exceeded with url: /mgallery/board/lists?id=dnfqq&page=39&list_num=100 (Caused by ConnectTimeoutError(<urllib3.connection.HTTPSConnection object at 0x7fa3c6d86e50>, 'Connection to 196.204.24.251 timed out. (connect timeout=10)'))\n",
      "FIND TARGET DATE POST\n",
      "Data CNT :  2362\n",
      "custom_break : False -  2023-05-11 17:58:49\n",
      "Error! :  HTTPSConnectionPool(host='gall.dcinside.com', port=443): Max retries exceeded with url: /mgallery/board/lists?id=dnfqq&page=40&list_num=100 (Caused by ProxyError('Cannot connect to proxy.', ConnectionResetError(54, 'Connection reset by peer')))\n",
      "Error! :  HTTPSConnectionPool(host='gall.dcinside.com', port=443): Max retries exceeded with url: /mgallery/board/lists?id=dnfqq&page=40&list_num=100 (Caused by ProxyError('Cannot connect to proxy.', ConnectionResetError(54, 'Connection reset by peer')))\n",
      "Error! :  HTTPSConnectionPool(host='gall.dcinside.com', port=443): Max retries exceeded with url: /mgallery/board/lists?id=dnfqq&page=40&list_num=100 (Caused by ProxyError('Cannot connect to proxy.', timeout('timed out')))\n"
     ]
    },
    {
     "name": "stdout",
     "output_type": "stream",
     "text": [
      "Error! :  HTTPSConnectionPool(host='gall.dcinside.com', port=443): Max retries exceeded with url: /mgallery/board/lists?id=dnfqq&page=40&list_num=100 (Caused by ProxyError('Cannot connect to proxy.', ConnectionResetError(54, 'Connection reset by peer')))\n",
      "Error! :  HTTPSConnectionPool(host='gall.dcinside.com', port=443): Max retries exceeded with url: /mgallery/board/lists?id=dnfqq&page=40&list_num=100 (Caused by ProxyError('Cannot connect to proxy.', RemoteDisconnected('Remote end closed connection without response')))\n",
      "Error! :  HTTPSConnectionPool(host='gall.dcinside.com', port=443): Max retries exceeded with url: /mgallery/board/lists?id=dnfqq&page=40&list_num=100 (Caused by ProxyError('Cannot connect to proxy.', ConnectionResetError(54, 'Connection reset by peer')))\n",
      "FIND TARGET DATE POST\n",
      "Data CNT :  2460\n",
      "custom_break : False -  2023-05-11 17:42:41\n",
      "Error! :  HTTPSConnectionPool(host='gall.dcinside.com', port=443): Max retries exceeded with url: /mgallery/board/lists?id=dnfqq&page=41&list_num=100 (Caused by ProxyError('Cannot connect to proxy.', ConnectionResetError(54, 'Connection reset by peer')))\n",
      "Error! :  HTTPSConnectionPool(host='gall.dcinside.com', port=443): Max retries exceeded with url: /mgallery/board/lists?id=dnfqq&page=41&list_num=100 (Caused by ProxyError('Cannot connect to proxy.', ConnectionResetError(54, 'Connection reset by peer')))\n",
      "Error! :  HTTPSConnectionPool(host='gall.dcinside.com', port=443): Max retries exceeded with url: /mgallery/board/lists?id=dnfqq&page=41&list_num=100 (Caused by ProxyError('Cannot connect to proxy.', ConnectionResetError(54, 'Connection reset by peer')))\n",
      "Error! :  HTTPSConnectionPool(host='gall.dcinside.com', port=443): Max retries exceeded with url: /mgallery/board/lists?id=dnfqq&page=41&list_num=100 (Caused by ProxyError('Cannot connect to proxy.', ConnectionResetError(54, 'Connection reset by peer')))\n",
      "Error! :  HTTPSConnectionPool(host='gall.dcinside.com', port=443): Max retries exceeded with url: /mgallery/board/lists?id=dnfqq&page=41&list_num=100 (Caused by ProxyError('Cannot connect to proxy.', RemoteDisconnected('Remote end closed connection without response')))\n",
      "Error! :  HTTPSConnectionPool(host='gall.dcinside.com', port=443): Max retries exceeded with url: /mgallery/board/lists?id=dnfqq&page=41&list_num=100 (Caused by ProxyError('Cannot connect to proxy.', ConnectionResetError(54, 'Connection reset by peer')))\n",
      "FIND TARGET DATE POST\n",
      "Data CNT :  2557\n",
      "custom_break : False -  2023-05-11 17:26:48\n",
      "Error! :  HTTPSConnectionPool(host='gall.dcinside.com', port=443): Max retries exceeded with url: /mgallery/board/lists?id=dnfqq&page=42&list_num=100 (Caused by ProxyError('Cannot connect to proxy.', ConnectionResetError(54, 'Connection reset by peer')))\n",
      "Error! :  HTTPSConnectionPool(host='gall.dcinside.com', port=443): Max retries exceeded with url: /mgallery/board/lists?id=dnfqq&page=42&list_num=100 (Caused by ProxyError('Cannot connect to proxy.', ConnectionResetError(54, 'Connection reset by peer')))\n",
      "Error! :  HTTPSConnectionPool(host='gall.dcinside.com', port=443): Max retries exceeded with url: /mgallery/board/lists?id=dnfqq&page=42&list_num=100 (Caused by ProxyError('Cannot connect to proxy.', timeout('timed out')))\n",
      "Error! :  HTTPSConnectionPool(host='gall.dcinside.com', port=443): Max retries exceeded with url: /mgallery/board/lists?id=dnfqq&page=42&list_num=100 (Caused by ProxyError('Cannot connect to proxy.', ConnectionResetError(54, 'Connection reset by peer')))\n",
      "Error! :  HTTPSConnectionPool(host='gall.dcinside.com', port=443): Max retries exceeded with url: /mgallery/board/lists?id=dnfqq&page=42&list_num=100 (Caused by ProxyError('Cannot connect to proxy.', RemoteDisconnected('Remote end closed connection without response')))\n",
      "Error! :  HTTPSConnectionPool(host='gall.dcinside.com', port=443): Max retries exceeded with url: /mgallery/board/lists?id=dnfqq&page=42&list_num=100 (Caused by ProxyError('Cannot connect to proxy.', ConnectionResetError(54, 'Connection reset by peer')))\n",
      "FIND TARGET DATE POST\n",
      "Data CNT :  2655\n",
      "custom_break : False -  2023-05-11 17:11:20\n",
      "Error! :  HTTPSConnectionPool(host='gall.dcinside.com', port=443): Max retries exceeded with url: /mgallery/board/lists?id=dnfqq&page=43&list_num=100 (Caused by ProxyError('Cannot connect to proxy.', ConnectionResetError(54, 'Connection reset by peer')))\n",
      "Error! :  HTTPSConnectionPool(host='gall.dcinside.com', port=443): Max retries exceeded with url: /mgallery/board/lists?id=dnfqq&page=43&list_num=100 (Caused by ProxyError('Cannot connect to proxy.', ConnectionResetError(54, 'Connection reset by peer')))\n",
      "Error! :  HTTPSConnectionPool(host='gall.dcinside.com', port=443): Max retries exceeded with url: /mgallery/board/lists?id=dnfqq&page=43&list_num=100 (Caused by ProxyError('Cannot connect to proxy.', ConnectionResetError(54, 'Connection reset by peer')))\n",
      "Error! :  HTTPSConnectionPool(host='gall.dcinside.com', port=443): Max retries exceeded with url: /mgallery/board/lists?id=dnfqq&page=43&list_num=100 (Caused by ProxyError('Cannot connect to proxy.', ConnectionResetError(54, 'Connection reset by peer')))\n",
      "Error! :  HTTPSConnectionPool(host='gall.dcinside.com', port=443): Max retries exceeded with url: /mgallery/board/lists?id=dnfqq&page=43&list_num=100 (Caused by ProxyError('Cannot connect to proxy.', RemoteDisconnected('Remote end closed connection without response')))\n",
      "Error! :  HTTPSConnectionPool(host='gall.dcinside.com', port=443): Max retries exceeded with url: /mgallery/board/lists?id=dnfqq&page=43&list_num=100 (Caused by ProxyError('Cannot connect to proxy.', ConnectionResetError(54, 'Connection reset by peer')))\n",
      "FIND TARGET DATE POST\n",
      "Data CNT :  2755\n",
      "custom_break : False -  2023-05-11 16:48:38\n",
      "Error! :  HTTPSConnectionPool(host='gall.dcinside.com', port=443): Max retries exceeded with url: /mgallery/board/lists?id=dnfqq&page=44&list_num=100 (Caused by ProxyError('Cannot connect to proxy.', ConnectionResetError(54, 'Connection reset by peer')))\n",
      "Error! :  HTTPSConnectionPool(host='gall.dcinside.com', port=443): Max retries exceeded with url: /mgallery/board/lists?id=dnfqq&page=44&list_num=100 (Caused by ProxyError('Cannot connect to proxy.', ConnectionResetError(54, 'Connection reset by peer')))\n",
      "Error! :  HTTPSConnectionPool(host='gall.dcinside.com', port=443): Max retries exceeded with url: /mgallery/board/lists?id=dnfqq&page=44&list_num=100 (Caused by ProxyError('Cannot connect to proxy.', ConnectionResetError(54, 'Connection reset by peer')))\n",
      "Error! :  HTTPSConnectionPool(host='gall.dcinside.com', port=443): Max retries exceeded with url: /mgallery/board/lists?id=dnfqq&page=44&list_num=100 (Caused by ProxyError('Cannot connect to proxy.', ConnectionResetError(54, 'Connection reset by peer')))\n",
      "Error! :  HTTPSConnectionPool(host='gall.dcinside.com', port=443): Max retries exceeded with url: /mgallery/board/lists?id=dnfqq&page=44&list_num=100 (Caused by ProxyError('Cannot connect to proxy.', RemoteDisconnected('Remote end closed connection without response')))\n",
      "Error! :  HTTPSConnectionPool(host='gall.dcinside.com', port=443): Max retries exceeded with url: /mgallery/board/lists?id=dnfqq&page=44&list_num=100 (Caused by ProxyError('Cannot connect to proxy.', ConnectionResetError(54, 'Connection reset by peer')))\n",
      "FIND TARGET DATE POST\n",
      "Data CNT :  2849\n",
      "custom_break : False -  2023-05-11 16:32:46\n",
      "Error! :  HTTPSConnectionPool(host='gall.dcinside.com', port=443): Max retries exceeded with url: /mgallery/board/lists?id=dnfqq&page=45&list_num=100 (Caused by ProxyError('Cannot connect to proxy.', ConnectionResetError(54, 'Connection reset by peer')))\n",
      "Error! :  HTTPSConnectionPool(host='gall.dcinside.com', port=443): Max retries exceeded with url: /mgallery/board/lists?id=dnfqq&page=45&list_num=100 (Caused by ProxyError('Cannot connect to proxy.', ConnectionResetError(54, 'Connection reset by peer')))\n",
      "Error! :  HTTPSConnectionPool(host='gall.dcinside.com', port=443): Max retries exceeded with url: /mgallery/board/lists?id=dnfqq&page=45&list_num=100 (Caused by ProxyError('Cannot connect to proxy.', ConnectionResetError(54, 'Connection reset by peer')))\n",
      "Error! :  HTTPSConnectionPool(host='gall.dcinside.com', port=443): Max retries exceeded with url: /mgallery/board/lists?id=dnfqq&page=45&list_num=100 (Caused by ProxyError('Cannot connect to proxy.', ConnectionResetError(54, 'Connection reset by peer')))\n"
     ]
    },
    {
     "name": "stdout",
     "output_type": "stream",
     "text": [
      "Error! :  HTTPSConnectionPool(host='gall.dcinside.com', port=443): Max retries exceeded with url: /mgallery/board/lists?id=dnfqq&page=45&list_num=100 (Caused by ProxyError('Cannot connect to proxy.', RemoteDisconnected('Remote end closed connection without response')))\n",
      "Error! :  HTTPSConnectionPool(host='gall.dcinside.com', port=443): Max retries exceeded with url: /mgallery/board/lists?id=dnfqq&page=45&list_num=100 (Caused by ProxyError('Cannot connect to proxy.', ConnectionResetError(54, 'Connection reset by peer')))\n",
      "FIND TARGET DATE POST\n",
      "Data CNT :  2944\n",
      "custom_break : False -  2023-05-11 16:17:10\n",
      "Error! :  HTTPSConnectionPool(host='gall.dcinside.com', port=443): Max retries exceeded with url: /mgallery/board/lists?id=dnfqq&page=46&list_num=100 (Caused by ProxyError('Cannot connect to proxy.', ConnectionResetError(54, 'Connection reset by peer')))\n",
      "Error! :  HTTPSConnectionPool(host='gall.dcinside.com', port=443): Max retries exceeded with url: /mgallery/board/lists?id=dnfqq&page=46&list_num=100 (Caused by ProxyError('Cannot connect to proxy.', ConnectionResetError(54, 'Connection reset by peer')))\n",
      "Error! :  HTTPSConnectionPool(host='gall.dcinside.com', port=443): Max retries exceeded with url: /mgallery/board/lists?id=dnfqq&page=46&list_num=100 (Caused by ProxyError('Cannot connect to proxy.', timeout('timed out')))\n",
      "Error! :  HTTPSConnectionPool(host='gall.dcinside.com', port=443): Max retries exceeded with url: /mgallery/board/lists?id=dnfqq&page=46&list_num=100 (Caused by ProxyError('Cannot connect to proxy.', ConnectionResetError(54, 'Connection reset by peer')))\n",
      "Error! :  HTTPSConnectionPool(host='gall.dcinside.com', port=443): Max retries exceeded with url: /mgallery/board/lists?id=dnfqq&page=46&list_num=100 (Caused by ProxyError('Cannot connect to proxy.', RemoteDisconnected('Remote end closed connection without response')))\n",
      "Error! :  HTTPSConnectionPool(host='gall.dcinside.com', port=443): Max retries exceeded with url: /mgallery/board/lists?id=dnfqq&page=46&list_num=100 (Caused by ProxyError('Cannot connect to proxy.', ConnectionResetError(54, 'Connection reset by peer')))\n",
      "FIND TARGET DATE POST\n",
      "Data CNT :  3041\n",
      "custom_break : False -  2023-05-11 16:02:59\n",
      "Error! :  HTTPSConnectionPool(host='gall.dcinside.com', port=443): Max retries exceeded with url: /mgallery/board/lists?id=dnfqq&page=47&list_num=100 (Caused by ProxyError('Cannot connect to proxy.', ConnectionResetError(54, 'Connection reset by peer')))\n",
      "Error! :  HTTPSConnectionPool(host='gall.dcinside.com', port=443): Max retries exceeded with url: /mgallery/board/lists?id=dnfqq&page=47&list_num=100 (Caused by ProxyError('Cannot connect to proxy.', ConnectionResetError(54, 'Connection reset by peer')))\n",
      "Error! :  HTTPSConnectionPool(host='gall.dcinside.com', port=443): Max retries exceeded with url: /mgallery/board/lists?id=dnfqq&page=47&list_num=100 (Caused by ProxyError('Cannot connect to proxy.', ConnectionResetError(54, 'Connection reset by peer')))\n",
      "Error! :  HTTPSConnectionPool(host='gall.dcinside.com', port=443): Max retries exceeded with url: /mgallery/board/lists?id=dnfqq&page=47&list_num=100 (Caused by ProxyError('Cannot connect to proxy.', ConnectionResetError(54, 'Connection reset by peer')))\n",
      "Error! :  HTTPSConnectionPool(host='gall.dcinside.com', port=443): Max retries exceeded with url: /mgallery/board/lists?id=dnfqq&page=47&list_num=100 (Caused by ProxyError('Cannot connect to proxy.', RemoteDisconnected('Remote end closed connection without response')))\n",
      "Error! :  HTTPSConnectionPool(host='gall.dcinside.com', port=443): Max retries exceeded with url: /mgallery/board/lists?id=dnfqq&page=47&list_num=100 (Caused by ProxyError('Cannot connect to proxy.', ConnectionResetError(54, 'Connection reset by peer')))\n",
      "Find all Will Breaking Roup..\n",
      "Data CNT :  3138\n",
      "custom_break : False -  2023-05-11 15:47:55\n",
      "Error! :  HTTPSConnectionPool(host='gall.dcinside.com', port=443): Max retries exceeded with url: /mgallery/board/lists?id=dnfqq&page=48&list_num=100 (Caused by ProxyError('Cannot connect to proxy.', ConnectionResetError(54, 'Connection reset by peer')))\n",
      "Error! :  HTTPSConnectionPool(host='gall.dcinside.com', port=443): Max retries exceeded with url: /mgallery/board/lists?id=dnfqq&page=48&list_num=100 (Caused by ProxyError('Cannot connect to proxy.', ConnectionResetError(54, 'Connection reset by peer')))\n",
      "Error! :  HTTPSConnectionPool(host='gall.dcinside.com', port=443): Max retries exceeded with url: /mgallery/board/lists?id=dnfqq&page=48&list_num=100 (Caused by ProxyError('Cannot connect to proxy.', ConnectionResetError(54, 'Connection reset by peer')))\n",
      "Error! :  HTTPSConnectionPool(host='gall.dcinside.com', port=443): Max retries exceeded with url: /mgallery/board/lists?id=dnfqq&page=48&list_num=100 (Caused by ProxyError('Cannot connect to proxy.', ConnectionResetError(54, 'Connection reset by peer')))\n",
      "Error! :  HTTPSConnectionPool(host='gall.dcinside.com', port=443): Max retries exceeded with url: /mgallery/board/lists?id=dnfqq&page=48&list_num=100 (Caused by ProxyError('Cannot connect to proxy.', RemoteDisconnected('Remote end closed connection without response')))\n",
      "Error! :  HTTPSConnectionPool(host='gall.dcinside.com', port=443): Max retries exceeded with url: /mgallery/board/lists?id=dnfqq&page=48&list_num=100 (Caused by ProxyError('Cannot connect to proxy.', ConnectionResetError(54, 'Connection reset by peer')))\n",
      "Error! :  HTTPSConnectionPool(host='gall.dcinside.com', port=443): Read timed out.\n",
      "Error! :  HTTPSConnectionPool(host='gall.dcinside.com', port=443): Max retries exceeded with url: /mgallery/board/lists?id=dnfqq&page=48&list_num=100 (Caused by ProxyError('Cannot connect to proxy.', OSError('Tunnel connection failed: 302 Found')))\n",
      "Error! :  HTTPSConnectionPool(host='gall.dcinside.com', port=443): Max retries exceeded with url: /mgallery/board/lists?id=dnfqq&page=48&list_num=100 (Caused by ConnectTimeoutError(<urllib3.connection.HTTPSConnection object at 0x7fa3c52d8220>, 'Connection to 185.6.9.159 timed out. (connect timeout=10)'))\n",
      "Error! :  HTTPSConnectionPool(host='gall.dcinside.com', port=443): Max retries exceeded with url: /mgallery/board/lists?id=dnfqq&page=48&list_num=100 (Caused by ConnectTimeoutError(<urllib3.connection.HTTPSConnection object at 0x7fa3c52d8820>, 'Connection to 196.204.24.251 timed out. (connect timeout=10)'))\n",
      "FIND TARGET DATE POST\n",
      "Data CNT :  3237\n",
      "custom_break : False -  2023-05-11 15:35:08\n",
      "Error! :  HTTPSConnectionPool(host='gall.dcinside.com', port=443): Max retries exceeded with url: /mgallery/board/lists?id=dnfqq&page=49&list_num=100 (Caused by ProxyError('Cannot connect to proxy.', ConnectionResetError(54, 'Connection reset by peer')))\n",
      "Error! :  HTTPSConnectionPool(host='gall.dcinside.com', port=443): Max retries exceeded with url: /mgallery/board/lists?id=dnfqq&page=49&list_num=100 (Caused by ProxyError('Cannot connect to proxy.', ConnectionResetError(54, 'Connection reset by peer')))\n",
      "Error! :  HTTPSConnectionPool(host='gall.dcinside.com', port=443): Max retries exceeded with url: /mgallery/board/lists?id=dnfqq&page=49&list_num=100 (Caused by ProxyError('Cannot connect to proxy.', timeout('timed out')))\n",
      "Error! :  HTTPSConnectionPool(host='gall.dcinside.com', port=443): Max retries exceeded with url: /mgallery/board/lists?id=dnfqq&page=49&list_num=100 (Caused by ProxyError('Cannot connect to proxy.', ConnectionResetError(54, 'Connection reset by peer')))\n",
      "Error! :  HTTPSConnectionPool(host='gall.dcinside.com', port=443): Max retries exceeded with url: /mgallery/board/lists?id=dnfqq&page=49&list_num=100 (Caused by ProxyError('Cannot connect to proxy.', RemoteDisconnected('Remote end closed connection without response')))\n",
      "Error! :  HTTPSConnectionPool(host='gall.dcinside.com', port=443): Max retries exceeded with url: /mgallery/board/lists?id=dnfqq&page=49&list_num=100 (Caused by ProxyError('Cannot connect to proxy.', ConnectionResetError(54, 'Connection reset by peer')))\n",
      "FIND TARGET DATE POST\n",
      "Data CNT :  3336\n",
      "custom_break : False -  2023-05-11 15:21:06\n",
      "Error! :  HTTPSConnectionPool(host='gall.dcinside.com', port=443): Max retries exceeded with url: /mgallery/board/lists?id=dnfqq&page=50&list_num=100 (Caused by ProxyError('Cannot connect to proxy.', ConnectionResetError(54, 'Connection reset by peer')))\n"
     ]
    },
    {
     "name": "stdout",
     "output_type": "stream",
     "text": [
      "Error! :  HTTPSConnectionPool(host='gall.dcinside.com', port=443): Max retries exceeded with url: /mgallery/board/lists?id=dnfqq&page=50&list_num=100 (Caused by ProxyError('Cannot connect to proxy.', ConnectionResetError(54, 'Connection reset by peer')))\n",
      "Error! :  HTTPSConnectionPool(host='gall.dcinside.com', port=443): Max retries exceeded with url: /mgallery/board/lists?id=dnfqq&page=50&list_num=100 (Caused by ProxyError('Cannot connect to proxy.', ConnectionResetError(54, 'Connection reset by peer')))\n",
      "Error! :  HTTPSConnectionPool(host='gall.dcinside.com', port=443): Max retries exceeded with url: /mgallery/board/lists?id=dnfqq&page=50&list_num=100 (Caused by ProxyError('Cannot connect to proxy.', ConnectionResetError(54, 'Connection reset by peer')))\n",
      "Error! :  HTTPSConnectionPool(host='gall.dcinside.com', port=443): Max retries exceeded with url: /mgallery/board/lists?id=dnfqq&page=50&list_num=100 (Caused by ProxyError('Cannot connect to proxy.', RemoteDisconnected('Remote end closed connection without response')))\n",
      "Error! :  HTTPSConnectionPool(host='gall.dcinside.com', port=443): Max retries exceeded with url: /mgallery/board/lists?id=dnfqq&page=50&list_num=100 (Caused by ProxyError('Cannot connect to proxy.', ConnectionResetError(54, 'Connection reset by peer')))\n",
      "FIND TARGET DATE POST\n",
      "Data CNT :  3435\n",
      "custom_break : False -  2023-05-11 15:05:52\n",
      "Error! :  HTTPSConnectionPool(host='gall.dcinside.com', port=443): Max retries exceeded with url: /mgallery/board/lists?id=dnfqq&page=51&list_num=100 (Caused by ProxyError('Cannot connect to proxy.', ConnectionResetError(54, 'Connection reset by peer')))\n",
      "Error! :  HTTPSConnectionPool(host='gall.dcinside.com', port=443): Max retries exceeded with url: /mgallery/board/lists?id=dnfqq&page=51&list_num=100 (Caused by ProxyError('Cannot connect to proxy.', ConnectionResetError(54, 'Connection reset by peer')))\n",
      "Error! :  HTTPSConnectionPool(host='gall.dcinside.com', port=443): Max retries exceeded with url: /mgallery/board/lists?id=dnfqq&page=51&list_num=100 (Caused by ProxyError('Cannot connect to proxy.', ConnectionResetError(54, 'Connection reset by peer')))\n",
      "Error! :  HTTPSConnectionPool(host='gall.dcinside.com', port=443): Max retries exceeded with url: /mgallery/board/lists?id=dnfqq&page=51&list_num=100 (Caused by ProxyError('Cannot connect to proxy.', ConnectionResetError(54, 'Connection reset by peer')))\n",
      "Error! :  HTTPSConnectionPool(host='gall.dcinside.com', port=443): Max retries exceeded with url: /mgallery/board/lists?id=dnfqq&page=51&list_num=100 (Caused by ProxyError('Cannot connect to proxy.', RemoteDisconnected('Remote end closed connection without response')))\n",
      "Error! :  HTTPSConnectionPool(host='gall.dcinside.com', port=443): Max retries exceeded with url: /mgallery/board/lists?id=dnfqq&page=51&list_num=100 (Caused by ProxyError('Cannot connect to proxy.', ConnectionResetError(54, 'Connection reset by peer')))\n",
      "FIND TARGET DATE POST\n",
      "Data CNT :  3531\n",
      "custom_break : False -  2023-05-11 14:51:21\n",
      "Error! :  HTTPSConnectionPool(host='gall.dcinside.com', port=443): Max retries exceeded with url: /mgallery/board/lists?id=dnfqq&page=52&list_num=100 (Caused by ProxyError('Cannot connect to proxy.', ConnectionResetError(54, 'Connection reset by peer')))\n",
      "Error! :  HTTPSConnectionPool(host='gall.dcinside.com', port=443): Max retries exceeded with url: /mgallery/board/lists?id=dnfqq&page=52&list_num=100 (Caused by ProxyError('Cannot connect to proxy.', ConnectionResetError(54, 'Connection reset by peer')))\n",
      "Error! :  HTTPSConnectionPool(host='gall.dcinside.com', port=443): Max retries exceeded with url: /mgallery/board/lists?id=dnfqq&page=52&list_num=100 (Caused by ProxyError('Cannot connect to proxy.', ConnectionResetError(54, 'Connection reset by peer')))\n",
      "Error! :  HTTPSConnectionPool(host='gall.dcinside.com', port=443): Max retries exceeded with url: /mgallery/board/lists?id=dnfqq&page=52&list_num=100 (Caused by ProxyError('Cannot connect to proxy.', ConnectionResetError(54, 'Connection reset by peer')))\n",
      "Error! :  HTTPSConnectionPool(host='gall.dcinside.com', port=443): Max retries exceeded with url: /mgallery/board/lists?id=dnfqq&page=52&list_num=100 (Caused by ProxyError('Cannot connect to proxy.', RemoteDisconnected('Remote end closed connection without response')))\n",
      "Error! :  HTTPSConnectionPool(host='gall.dcinside.com', port=443): Max retries exceeded with url: /mgallery/board/lists?id=dnfqq&page=52&list_num=100 (Caused by ProxyError('Cannot connect to proxy.', ConnectionResetError(54, 'Connection reset by peer')))\n",
      "FIND TARGET DATE POST\n",
      "Data CNT :  3629\n",
      "custom_break : False -  2023-05-11 14:32:10\n",
      "Error! :  HTTPSConnectionPool(host='gall.dcinside.com', port=443): Max retries exceeded with url: /mgallery/board/lists?id=dnfqq&page=53&list_num=100 (Caused by ProxyError('Cannot connect to proxy.', ConnectionResetError(54, 'Connection reset by peer')))\n",
      "Error! :  HTTPSConnectionPool(host='gall.dcinside.com', port=443): Max retries exceeded with url: /mgallery/board/lists?id=dnfqq&page=53&list_num=100 (Caused by ProxyError('Cannot connect to proxy.', ConnectionResetError(54, 'Connection reset by peer')))\n",
      "Error! :  HTTPSConnectionPool(host='gall.dcinside.com', port=443): Max retries exceeded with url: /mgallery/board/lists?id=dnfqq&page=53&list_num=100 (Caused by ProxyError('Cannot connect to proxy.', ConnectionResetError(54, 'Connection reset by peer')))\n",
      "Error! :  HTTPSConnectionPool(host='gall.dcinside.com', port=443): Max retries exceeded with url: /mgallery/board/lists?id=dnfqq&page=53&list_num=100 (Caused by ProxyError('Cannot connect to proxy.', ConnectionResetError(54, 'Connection reset by peer')))\n",
      "Error! :  HTTPSConnectionPool(host='gall.dcinside.com', port=443): Max retries exceeded with url: /mgallery/board/lists?id=dnfqq&page=53&list_num=100 (Caused by ProxyError('Cannot connect to proxy.', RemoteDisconnected('Remote end closed connection without response')))\n",
      "Error! :  HTTPSConnectionPool(host='gall.dcinside.com', port=443): Max retries exceeded with url: /mgallery/board/lists?id=dnfqq&page=53&list_num=100 (Caused by ProxyError('Cannot connect to proxy.', ConnectionResetError(54, 'Connection reset by peer')))\n",
      "Error! :  HTTPSConnectionPool(host='gall.dcinside.com', port=443): Read timed out.\n",
      "Error! :  HTTPSConnectionPool(host='gall.dcinside.com', port=443): Max retries exceeded with url: /mgallery/board/lists?id=dnfqq&page=53&list_num=100 (Caused by ProxyError('Cannot connect to proxy.', OSError('Tunnel connection failed: 302 Found')))\n",
      "Error! :  HTTPSConnectionPool(host='gall.dcinside.com', port=443): Max retries exceeded with url: /mgallery/board/lists?id=dnfqq&page=53&list_num=100 (Caused by ConnectTimeoutError(<urllib3.connection.HTTPSConnection object at 0x7fa3c7433cd0>, 'Connection to 185.6.9.159 timed out. (connect timeout=10)'))\n",
      "Error! :  HTTPSConnectionPool(host='gall.dcinside.com', port=443): Max retries exceeded with url: /mgallery/board/lists?id=dnfqq&page=53&list_num=100 (Caused by ProxyError('Cannot connect to proxy.', timeout('timed out')))\n",
      "FIND TARGET DATE POST\n",
      "Data CNT :  3727\n",
      "custom_break : False -  2023-05-11 14:19:22\n",
      "Error! :  HTTPSConnectionPool(host='gall.dcinside.com', port=443): Max retries exceeded with url: /mgallery/board/lists?id=dnfqq&page=54&list_num=100 (Caused by ProxyError('Cannot connect to proxy.', ConnectionResetError(54, 'Connection reset by peer')))\n",
      "Error! :  HTTPSConnectionPool(host='gall.dcinside.com', port=443): Max retries exceeded with url: /mgallery/board/lists?id=dnfqq&page=54&list_num=100 (Caused by ProxyError('Cannot connect to proxy.', ConnectionResetError(54, 'Connection reset by peer')))\n",
      "Error! :  HTTPSConnectionPool(host='gall.dcinside.com', port=443): Max retries exceeded with url: /mgallery/board/lists?id=dnfqq&page=54&list_num=100 (Caused by ProxyError('Cannot connect to proxy.', ConnectionResetError(54, 'Connection reset by peer')))\n",
      "Error! :  HTTPSConnectionPool(host='gall.dcinside.com', port=443): Max retries exceeded with url: /mgallery/board/lists?id=dnfqq&page=54&list_num=100 (Caused by ProxyError('Cannot connect to proxy.', ConnectionResetError(54, 'Connection reset by peer')))\n",
      "Error! :  HTTPSConnectionPool(host='gall.dcinside.com', port=443): Max retries exceeded with url: /mgallery/board/lists?id=dnfqq&page=54&list_num=100 (Caused by ProxyError('Cannot connect to proxy.', RemoteDisconnected('Remote end closed connection without response')))\n"
     ]
    },
    {
     "name": "stdout",
     "output_type": "stream",
     "text": [
      "Error! :  HTTPSConnectionPool(host='gall.dcinside.com', port=443): Max retries exceeded with url: /mgallery/board/lists?id=dnfqq&page=54&list_num=100 (Caused by ProxyError('Cannot connect to proxy.', ConnectionResetError(54, 'Connection reset by peer')))\n",
      "FIND TARGET DATE POST\n",
      "Data CNT :  3824\n",
      "custom_break : False -  2023-05-11 14:05:19\n",
      "Error! :  HTTPSConnectionPool(host='gall.dcinside.com', port=443): Max retries exceeded with url: /mgallery/board/lists?id=dnfqq&page=55&list_num=100 (Caused by ProxyError('Cannot connect to proxy.', ConnectionResetError(54, 'Connection reset by peer')))\n",
      "Error! :  HTTPSConnectionPool(host='gall.dcinside.com', port=443): Max retries exceeded with url: /mgallery/board/lists?id=dnfqq&page=55&list_num=100 (Caused by ProxyError('Cannot connect to proxy.', ConnectionResetError(54, 'Connection reset by peer')))\n",
      "Error! :  HTTPSConnectionPool(host='gall.dcinside.com', port=443): Max retries exceeded with url: /mgallery/board/lists?id=dnfqq&page=55&list_num=100 (Caused by ProxyError('Cannot connect to proxy.', ConnectionResetError(54, 'Connection reset by peer')))\n",
      "Error! :  HTTPSConnectionPool(host='gall.dcinside.com', port=443): Max retries exceeded with url: /mgallery/board/lists?id=dnfqq&page=55&list_num=100 (Caused by ProxyError('Cannot connect to proxy.', ConnectionResetError(54, 'Connection reset by peer')))\n",
      "Error! :  HTTPSConnectionPool(host='gall.dcinside.com', port=443): Max retries exceeded with url: /mgallery/board/lists?id=dnfqq&page=55&list_num=100 (Caused by ProxyError('Cannot connect to proxy.', RemoteDisconnected('Remote end closed connection without response')))\n",
      "Error! :  HTTPSConnectionPool(host='gall.dcinside.com', port=443): Max retries exceeded with url: /mgallery/board/lists?id=dnfqq&page=55&list_num=100 (Caused by ProxyError('Cannot connect to proxy.', ConnectionResetError(54, 'Connection reset by peer')))\n",
      "Error! :  'NoneType' object is not subscriptable\n",
      "Error! :  HTTPSConnectionPool(host='gall.dcinside.com', port=443): Max retries exceeded with url: /mgallery/board/lists?id=dnfqq&page=55&list_num=100 (Caused by ProxyError('Cannot connect to proxy.', OSError('Tunnel connection failed: 302 Found')))\n",
      "Error! :  HTTPSConnectionPool(host='gall.dcinside.com', port=443): Max retries exceeded with url: /mgallery/board/lists?id=dnfqq&page=55&list_num=100 (Caused by ConnectTimeoutError(<urllib3.connection.HTTPSConnection object at 0x7fa3c3b2a760>, 'Connection to 185.6.9.159 timed out. (connect timeout=10)'))\n",
      "Error! :  HTTPSConnectionPool(host='gall.dcinside.com', port=443): Max retries exceeded with url: /mgallery/board/lists?id=dnfqq&page=55&list_num=100 (Caused by ProxyError('Cannot connect to proxy.', timeout('timed out')))\n",
      "FIND TARGET DATE POST\n",
      "Data CNT :  3919\n",
      "custom_break : False -  2023-05-11 13:52:29\n",
      "Error! :  HTTPSConnectionPool(host='gall.dcinside.com', port=443): Max retries exceeded with url: /mgallery/board/lists?id=dnfqq&page=56&list_num=100 (Caused by ProxyError('Cannot connect to proxy.', ConnectionResetError(54, 'Connection reset by peer')))\n",
      "Error! :  HTTPSConnectionPool(host='gall.dcinside.com', port=443): Max retries exceeded with url: /mgallery/board/lists?id=dnfqq&page=56&list_num=100 (Caused by ProxyError('Cannot connect to proxy.', ConnectionResetError(54, 'Connection reset by peer')))\n",
      "Error! :  HTTPSConnectionPool(host='gall.dcinside.com', port=443): Max retries exceeded with url: /mgallery/board/lists?id=dnfqq&page=56&list_num=100 (Caused by ProxyError('Cannot connect to proxy.', ConnectionResetError(54, 'Connection reset by peer')))\n",
      "Error! :  HTTPSConnectionPool(host='gall.dcinside.com', port=443): Max retries exceeded with url: /mgallery/board/lists?id=dnfqq&page=56&list_num=100 (Caused by ProxyError('Cannot connect to proxy.', ConnectionResetError(54, 'Connection reset by peer')))\n",
      "Error! :  HTTPSConnectionPool(host='gall.dcinside.com', port=443): Max retries exceeded with url: /mgallery/board/lists?id=dnfqq&page=56&list_num=100 (Caused by ProxyError('Cannot connect to proxy.', RemoteDisconnected('Remote end closed connection without response')))\n",
      "Error! :  HTTPSConnectionPool(host='gall.dcinside.com', port=443): Max retries exceeded with url: /mgallery/board/lists?id=dnfqq&page=56&list_num=100 (Caused by ProxyError('Cannot connect to proxy.', ConnectionResetError(54, 'Connection reset by peer')))\n",
      "Error! :  HTTPSConnectionPool(host='gall.dcinside.com', port=443): Read timed out.\n",
      "Error! :  HTTPSConnectionPool(host='gall.dcinside.com', port=443): Max retries exceeded with url: /mgallery/board/lists?id=dnfqq&page=56&list_num=100 (Caused by ProxyError('Cannot connect to proxy.', OSError('Tunnel connection failed: 302 Found')))\n",
      "Error! :  HTTPSConnectionPool(host='gall.dcinside.com', port=443): Max retries exceeded with url: /mgallery/board/lists?id=dnfqq&page=56&list_num=100 (Caused by ConnectTimeoutError(<urllib3.connection.HTTPSConnection object at 0x7fa3c37e21c0>, 'Connection to 185.6.9.159 timed out. (connect timeout=10)'))\n",
      "Error! :  HTTPSConnectionPool(host='gall.dcinside.com', port=443): Max retries exceeded with url: /mgallery/board/lists?id=dnfqq&page=56&list_num=100 (Caused by ProxyError('Cannot connect to proxy.', timeout('timed out')))\n",
      "Error! :  HTTPSConnectionPool(host='gall.dcinside.com', port=443): Max retries exceeded with url: /mgallery/board/lists?id=dnfqq&page=56&list_num=100 (Caused by ProxyError('Cannot connect to proxy.', timeout('timed out')))\n",
      "Error! :  HTTPSConnectionPool(host='gall.dcinside.com', port=443): Max retries exceeded with url: /mgallery/board/lists?id=dnfqq&page=56&list_num=100 (Caused by ProxyError('Cannot connect to proxy.', timeout('timed out')))\n",
      "FIND TARGET DATE POST\n",
      "Data CNT :  4018\n",
      "custom_break : False -  2023-05-11 13:40:47\n",
      "Error! :  HTTPSConnectionPool(host='gall.dcinside.com', port=443): Max retries exceeded with url: /mgallery/board/lists?id=dnfqq&page=57&list_num=100 (Caused by ProxyError('Cannot connect to proxy.', ConnectionResetError(54, 'Connection reset by peer')))\n",
      "Error! :  HTTPSConnectionPool(host='gall.dcinside.com', port=443): Max retries exceeded with url: /mgallery/board/lists?id=dnfqq&page=57&list_num=100 (Caused by ProxyError('Cannot connect to proxy.', ConnectionResetError(54, 'Connection reset by peer')))\n",
      "Error! :  HTTPSConnectionPool(host='gall.dcinside.com', port=443): Max retries exceeded with url: /mgallery/board/lists?id=dnfqq&page=57&list_num=100 (Caused by ProxyError('Cannot connect to proxy.', timeout('timed out')))\n",
      "Error! :  HTTPSConnectionPool(host='gall.dcinside.com', port=443): Max retries exceeded with url: /mgallery/board/lists?id=dnfqq&page=57&list_num=100 (Caused by ProxyError('Cannot connect to proxy.', ConnectionResetError(54, 'Connection reset by peer')))\n",
      "Error! :  HTTPSConnectionPool(host='gall.dcinside.com', port=443): Max retries exceeded with url: /mgallery/board/lists?id=dnfqq&page=57&list_num=100 (Caused by ProxyError('Cannot connect to proxy.', RemoteDisconnected('Remote end closed connection without response')))\n",
      "Error! :  HTTPSConnectionPool(host='gall.dcinside.com', port=443): Max retries exceeded with url: /mgallery/board/lists?id=dnfqq&page=57&list_num=100 (Caused by ProxyError('Cannot connect to proxy.', ConnectionResetError(54, 'Connection reset by peer')))\n",
      "Error! :  HTTPSConnectionPool(host='gall.dcinside.com', port=443): Read timed out.\n",
      "Error! :  HTTPSConnectionPool(host='gall.dcinside.com', port=443): Max retries exceeded with url: /mgallery/board/lists?id=dnfqq&page=57&list_num=100 (Caused by ProxyError('Cannot connect to proxy.', OSError('Tunnel connection failed: 302 Found')))\n",
      "Error! :  ('Connection aborted.', BadStatusLine('\\x00[\\x00\\x00\\x00\\x00\\x00\\x00'))\n",
      "Error! :  HTTPSConnectionPool(host='gall.dcinside.com', port=443): Max retries exceeded with url: /mgallery/board/lists?id=dnfqq&page=57&list_num=100 (Caused by ConnectTimeoutError(<urllib3.connection.HTTPSConnection object at 0x7fa3c3334460>, 'Connection to 196.204.24.251 timed out. (connect timeout=10)'))\n",
      "FIND TARGET DATE POST\n",
      "Data CNT :  4116\n",
      "custom_break : False -  2023-05-11 13:31:20\n",
      "Error! :  HTTPSConnectionPool(host='gall.dcinside.com', port=443): Max retries exceeded with url: /mgallery/board/lists?id=dnfqq&page=58&list_num=100 (Caused by ProxyError('Cannot connect to proxy.', ConnectionResetError(54, 'Connection reset by peer')))\n"
     ]
    },
    {
     "name": "stdout",
     "output_type": "stream",
     "text": [
      "Error! :  HTTPSConnectionPool(host='gall.dcinside.com', port=443): Max retries exceeded with url: /mgallery/board/lists?id=dnfqq&page=58&list_num=100 (Caused by ProxyError('Cannot connect to proxy.', ConnectionResetError(54, 'Connection reset by peer')))\n",
      "Error! :  HTTPSConnectionPool(host='gall.dcinside.com', port=443): Max retries exceeded with url: /mgallery/board/lists?id=dnfqq&page=58&list_num=100 (Caused by ProxyError('Cannot connect to proxy.', ConnectionResetError(54, 'Connection reset by peer')))\n",
      "Error! :  HTTPSConnectionPool(host='gall.dcinside.com', port=443): Max retries exceeded with url: /mgallery/board/lists?id=dnfqq&page=58&list_num=100 (Caused by ProxyError('Cannot connect to proxy.', ConnectionResetError(54, 'Connection reset by peer')))\n",
      "Error! :  HTTPSConnectionPool(host='gall.dcinside.com', port=443): Max retries exceeded with url: /mgallery/board/lists?id=dnfqq&page=58&list_num=100 (Caused by ProxyError('Cannot connect to proxy.', RemoteDisconnected('Remote end closed connection without response')))\n",
      "Error! :  HTTPSConnectionPool(host='gall.dcinside.com', port=443): Max retries exceeded with url: /mgallery/board/lists?id=dnfqq&page=58&list_num=100 (Caused by ProxyError('Cannot connect to proxy.', timeout('timed out')))\n",
      "Error! :  HTTPSConnectionPool(host='gall.dcinside.com', port=443): Read timed out.\n",
      "Error! :  HTTPSConnectionPool(host='gall.dcinside.com', port=443): Max retries exceeded with url: /mgallery/board/lists?id=dnfqq&page=58&list_num=100 (Caused by ProxyError('Cannot connect to proxy.', OSError('Tunnel connection failed: 302 Found')))\n",
      "Error! :  ('Connection aborted.', BadStatusLine('\\x00[\\x00\\x00\\x00\\x00\\x00\\x00'))\n",
      "Error! :  HTTPSConnectionPool(host='gall.dcinside.com', port=443): Max retries exceeded with url: /mgallery/board/lists?id=dnfqq&page=58&list_num=100 (Caused by ConnectTimeoutError(<urllib3.connection.HTTPSConnection object at 0x7fa3c89b3d30>, 'Connection to 196.204.24.251 timed out. (connect timeout=10)'))\n",
      "Error! :  HTTPSConnectionPool(host='gall.dcinside.com', port=443): Max retries exceeded with url: /mgallery/board/lists?id=dnfqq&page=58&list_num=100 (Caused by ProxyError('Cannot connect to proxy.', timeout('timed out')))\n",
      "Error! :  HTTPSConnectionPool(host='gall.dcinside.com', port=443): Max retries exceeded with url: /mgallery/board/lists?id=dnfqq&page=58&list_num=100 (Caused by ConnectTimeoutError(<urllib3.connection.HTTPSConnection object at 0x7fa3c89b3340>, 'Connection to 138.122.99.132 timed out. (connect timeout=10)'))\n",
      "Error! :  HTTPSConnectionPool(host='gall.dcinside.com', port=443): Max retries exceeded with url: /mgallery/board/lists?id=dnfqq&page=58&list_num=100 (Caused by ConnectTimeoutError(<urllib3.connection.HTTPSConnection object at 0x7fa3c89c94c0>, 'Connection to 177.124.184.52 timed out. (connect timeout=10)'))\n",
      "Error! :  HTTPSConnectionPool(host='gall.dcinside.com', port=443): Max retries exceeded with url: /mgallery/board/lists?id=dnfqq&page=58&list_num=100 (Caused by ProxyError('Cannot connect to proxy.', OSError('Tunnel connection failed: 500 Internal Server Error')))\n",
      "Error! :  HTTPSConnectionPool(host='gall.dcinside.com', port=443): Max retries exceeded with url: /mgallery/board/lists?id=dnfqq&page=58&list_num=100 (Caused by ConnectTimeoutError(<urllib3.connection.HTTPSConnection object at 0x7fa3c89c9c70>, 'Connection to 120.89.90.230 timed out. (connect timeout=10)'))\n",
      "Error! :  HTTPSConnectionPool(host='gall.dcinside.com', port=443): Max retries exceeded with url: /mgallery/board/lists?id=dnfqq&page=58&list_num=100 (Caused by ConnectTimeoutError(<urllib3.connection.HTTPSConnection object at 0x7fa3c89b5460>, 'Connection to 86.110.27.165 timed out. (connect timeout=10)'))\n",
      "FIND TARGET DATE POST\n",
      "Data CNT :  4215\n",
      "custom_break : False -  2023-05-11 13:23:32\n",
      "Error! :  HTTPSConnectionPool(host='gall.dcinside.com', port=443): Max retries exceeded with url: /mgallery/board/lists?id=dnfqq&page=59&list_num=100 (Caused by ProxyError('Cannot connect to proxy.', ConnectionResetError(54, 'Connection reset by peer')))\n",
      "Error! :  HTTPSConnectionPool(host='gall.dcinside.com', port=443): Max retries exceeded with url: /mgallery/board/lists?id=dnfqq&page=59&list_num=100 (Caused by ProxyError('Cannot connect to proxy.', ConnectionResetError(54, 'Connection reset by peer')))\n",
      "Error! :  HTTPSConnectionPool(host='gall.dcinside.com', port=443): Max retries exceeded with url: /mgallery/board/lists?id=dnfqq&page=59&list_num=100 (Caused by ProxyError('Cannot connect to proxy.', ConnectionResetError(54, 'Connection reset by peer')))\n",
      "Error! :  HTTPSConnectionPool(host='gall.dcinside.com', port=443): Max retries exceeded with url: /mgallery/board/lists?id=dnfqq&page=59&list_num=100 (Caused by ProxyError('Cannot connect to proxy.', ConnectionResetError(54, 'Connection reset by peer')))\n",
      "Error! :  HTTPSConnectionPool(host='gall.dcinside.com', port=443): Max retries exceeded with url: /mgallery/board/lists?id=dnfqq&page=59&list_num=100 (Caused by ProxyError('Cannot connect to proxy.', RemoteDisconnected('Remote end closed connection without response')))\n",
      "Error! :  HTTPSConnectionPool(host='gall.dcinside.com', port=443): Max retries exceeded with url: /mgallery/board/lists?id=dnfqq&page=59&list_num=100 (Caused by ProxyError('Cannot connect to proxy.', ConnectionResetError(54, 'Connection reset by peer')))\n",
      "FIND TARGET DATE POST\n",
      "Data CNT :  4314\n",
      "custom_break : False -  2023-05-11 13:10:34\n",
      "Error! :  HTTPSConnectionPool(host='gall.dcinside.com', port=443): Max retries exceeded with url: /mgallery/board/lists?id=dnfqq&page=60&list_num=100 (Caused by ProxyError('Cannot connect to proxy.', ConnectionResetError(54, 'Connection reset by peer')))\n",
      "Error! :  HTTPSConnectionPool(host='gall.dcinside.com', port=443): Max retries exceeded with url: /mgallery/board/lists?id=dnfqq&page=60&list_num=100 (Caused by ProxyError('Cannot connect to proxy.', ConnectionResetError(54, 'Connection reset by peer')))\n",
      "Error! :  HTTPSConnectionPool(host='gall.dcinside.com', port=443): Max retries exceeded with url: /mgallery/board/lists?id=dnfqq&page=60&list_num=100 (Caused by ProxyError('Cannot connect to proxy.', ConnectionResetError(54, 'Connection reset by peer')))\n",
      "Error! :  HTTPSConnectionPool(host='gall.dcinside.com', port=443): Max retries exceeded with url: /mgallery/board/lists?id=dnfqq&page=60&list_num=100 (Caused by ProxyError('Cannot connect to proxy.', ConnectionResetError(54, 'Connection reset by peer')))\n",
      "Error! :  HTTPSConnectionPool(host='gall.dcinside.com', port=443): Max retries exceeded with url: /mgallery/board/lists?id=dnfqq&page=60&list_num=100 (Caused by ProxyError('Cannot connect to proxy.', RemoteDisconnected('Remote end closed connection without response')))\n",
      "Error! :  HTTPSConnectionPool(host='gall.dcinside.com', port=443): Max retries exceeded with url: /mgallery/board/lists?id=dnfqq&page=60&list_num=100 (Caused by ProxyError('Cannot connect to proxy.', ConnectionResetError(54, 'Connection reset by peer')))\n",
      "FIND TARGET DATE POST\n",
      "Data CNT :  4413\n",
      "custom_break : False -  2023-05-11 12:50:25\n",
      "Error! :  HTTPSConnectionPool(host='gall.dcinside.com', port=443): Max retries exceeded with url: /mgallery/board/lists?id=dnfqq&page=61&list_num=100 (Caused by ProxyError('Cannot connect to proxy.', ConnectionResetError(54, 'Connection reset by peer')))\n",
      "Error! :  HTTPSConnectionPool(host='gall.dcinside.com', port=443): Max retries exceeded with url: /mgallery/board/lists?id=dnfqq&page=61&list_num=100 (Caused by ProxyError('Cannot connect to proxy.', ConnectionResetError(54, 'Connection reset by peer')))\n",
      "Error! :  HTTPSConnectionPool(host='gall.dcinside.com', port=443): Max retries exceeded with url: /mgallery/board/lists?id=dnfqq&page=61&list_num=100 (Caused by ProxyError('Cannot connect to proxy.', ConnectionResetError(54, 'Connection reset by peer')))\n",
      "Error! :  HTTPSConnectionPool(host='gall.dcinside.com', port=443): Max retries exceeded with url: /mgallery/board/lists?id=dnfqq&page=61&list_num=100 (Caused by ProxyError('Cannot connect to proxy.', ConnectionResetError(54, 'Connection reset by peer')))\n",
      "Error! :  HTTPSConnectionPool(host='gall.dcinside.com', port=443): Max retries exceeded with url: /mgallery/board/lists?id=dnfqq&page=61&list_num=100 (Caused by ProxyError('Cannot connect to proxy.', RemoteDisconnected('Remote end closed connection without response')))\n"
     ]
    },
    {
     "name": "stdout",
     "output_type": "stream",
     "text": [
      "Error! :  HTTPSConnectionPool(host='gall.dcinside.com', port=443): Max retries exceeded with url: /mgallery/board/lists?id=dnfqq&page=61&list_num=100 (Caused by ProxyError('Cannot connect to proxy.', ConnectionResetError(54, 'Connection reset by peer')))\n",
      "Error! :  HTTPSConnectionPool(host='gall.dcinside.com', port=443): Read timed out.\n",
      "Error! :  HTTPSConnectionPool(host='gall.dcinside.com', port=443): Max retries exceeded with url: /mgallery/board/lists?id=dnfqq&page=61&list_num=100 (Caused by ProxyError('Cannot connect to proxy.', OSError('Tunnel connection failed: 302 Found')))\n",
      "Error! :  ('Connection aborted.', BadStatusLine('\\x00[\\x00\\x00\\x00\\x00\\x00\\x00'))\n",
      "Error! :  HTTPSConnectionPool(host='gall.dcinside.com', port=443): Max retries exceeded with url: /mgallery/board/lists?id=dnfqq&page=61&list_num=100 (Caused by ProxyError('Cannot connect to proxy.', timeout('timed out')))\n",
      "FIND TARGET DATE POST\n",
      "Data CNT :  4511\n",
      "custom_break : False -  2023-05-11 12:31:55\n",
      "Error! :  HTTPSConnectionPool(host='gall.dcinside.com', port=443): Max retries exceeded with url: /mgallery/board/lists?id=dnfqq&page=62&list_num=100 (Caused by ProxyError('Cannot connect to proxy.', ConnectionResetError(54, 'Connection reset by peer')))\n",
      "Error! :  HTTPSConnectionPool(host='gall.dcinside.com', port=443): Max retries exceeded with url: /mgallery/board/lists?id=dnfqq&page=62&list_num=100 (Caused by ProxyError('Cannot connect to proxy.', ConnectionResetError(54, 'Connection reset by peer')))\n",
      "Error! :  HTTPSConnectionPool(host='gall.dcinside.com', port=443): Max retries exceeded with url: /mgallery/board/lists?id=dnfqq&page=62&list_num=100 (Caused by ProxyError('Cannot connect to proxy.', ConnectionResetError(54, 'Connection reset by peer')))\n",
      "Error! :  HTTPSConnectionPool(host='gall.dcinside.com', port=443): Max retries exceeded with url: /mgallery/board/lists?id=dnfqq&page=62&list_num=100 (Caused by ProxyError('Cannot connect to proxy.', ConnectionResetError(54, 'Connection reset by peer')))\n",
      "Error! :  HTTPSConnectionPool(host='gall.dcinside.com', port=443): Max retries exceeded with url: /mgallery/board/lists?id=dnfqq&page=62&list_num=100 (Caused by ProxyError('Cannot connect to proxy.', RemoteDisconnected('Remote end closed connection without response')))\n",
      "Error! :  HTTPSConnectionPool(host='gall.dcinside.com', port=443): Max retries exceeded with url: /mgallery/board/lists?id=dnfqq&page=62&list_num=100 (Caused by ProxyError('Cannot connect to proxy.', ConnectionResetError(54, 'Connection reset by peer')))\n",
      "FIND TARGET DATE POST\n",
      "Data CNT :  4607\n",
      "custom_break : False -  2023-05-11 12:18:35\n",
      "Error! :  HTTPSConnectionPool(host='gall.dcinside.com', port=443): Max retries exceeded with url: /mgallery/board/lists?id=dnfqq&page=63&list_num=100 (Caused by ProxyError('Cannot connect to proxy.', ConnectionResetError(54, 'Connection reset by peer')))\n",
      "Error! :  HTTPSConnectionPool(host='gall.dcinside.com', port=443): Max retries exceeded with url: /mgallery/board/lists?id=dnfqq&page=63&list_num=100 (Caused by ProxyError('Cannot connect to proxy.', ConnectionResetError(54, 'Connection reset by peer')))\n",
      "Error! :  HTTPSConnectionPool(host='gall.dcinside.com', port=443): Max retries exceeded with url: /mgallery/board/lists?id=dnfqq&page=63&list_num=100 (Caused by ProxyError('Cannot connect to proxy.', ConnectionResetError(54, 'Connection reset by peer')))\n",
      "Error! :  HTTPSConnectionPool(host='gall.dcinside.com', port=443): Max retries exceeded with url: /mgallery/board/lists?id=dnfqq&page=63&list_num=100 (Caused by ProxyError('Cannot connect to proxy.', ConnectionResetError(54, 'Connection reset by peer')))\n",
      "Error! :  HTTPSConnectionPool(host='gall.dcinside.com', port=443): Max retries exceeded with url: /mgallery/board/lists?id=dnfqq&page=63&list_num=100 (Caused by ProxyError('Cannot connect to proxy.', RemoteDisconnected('Remote end closed connection without response')))\n",
      "Error! :  HTTPSConnectionPool(host='gall.dcinside.com', port=443): Max retries exceeded with url: /mgallery/board/lists?id=dnfqq&page=63&list_num=100 (Caused by ProxyError('Cannot connect to proxy.', ConnectionResetError(54, 'Connection reset by peer')))\n",
      "Error! :  HTTPSConnectionPool(host='gall.dcinside.com', port=443): Read timed out.\n",
      "Error! :  HTTPSConnectionPool(host='gall.dcinside.com', port=443): Max retries exceeded with url: /mgallery/board/lists?id=dnfqq&page=63&list_num=100 (Caused by ProxyError('Cannot connect to proxy.', OSError('Tunnel connection failed: 302 Found')))\n",
      "Error! :  ('Connection aborted.', BadStatusLine('\\x00[\\x00\\x00\\x00\\x00\\x00\\x00'))\n",
      "Error! :  HTTPSConnectionPool(host='gall.dcinside.com', port=443): Max retries exceeded with url: /mgallery/board/lists?id=dnfqq&page=63&list_num=100 (Caused by ProxyError('Cannot connect to proxy.', timeout('timed out')))\n",
      "FIND TARGET DATE POST\n",
      "Data CNT :  4707\n",
      "custom_break : False -  2023-05-11 12:08:12\n",
      "Error! :  HTTPSConnectionPool(host='gall.dcinside.com', port=443): Max retries exceeded with url: /mgallery/board/lists?id=dnfqq&page=64&list_num=100 (Caused by ProxyError('Cannot connect to proxy.', ConnectionResetError(54, 'Connection reset by peer')))\n",
      "Error! :  HTTPSConnectionPool(host='gall.dcinside.com', port=443): Max retries exceeded with url: /mgallery/board/lists?id=dnfqq&page=64&list_num=100 (Caused by ProxyError('Cannot connect to proxy.', ConnectionResetError(54, 'Connection reset by peer')))\n",
      "Error! :  HTTPSConnectionPool(host='gall.dcinside.com', port=443): Max retries exceeded with url: /mgallery/board/lists?id=dnfqq&page=64&list_num=100 (Caused by ProxyError('Cannot connect to proxy.', ConnectionResetError(54, 'Connection reset by peer')))\n",
      "Error! :  HTTPSConnectionPool(host='gall.dcinside.com', port=443): Max retries exceeded with url: /mgallery/board/lists?id=dnfqq&page=64&list_num=100 (Caused by ProxyError('Cannot connect to proxy.', ConnectionResetError(54, 'Connection reset by peer')))\n",
      "Error! :  HTTPSConnectionPool(host='gall.dcinside.com', port=443): Max retries exceeded with url: /mgallery/board/lists?id=dnfqq&page=64&list_num=100 (Caused by ProxyError('Cannot connect to proxy.', RemoteDisconnected('Remote end closed connection without response')))\n",
      "Error! :  HTTPSConnectionPool(host='gall.dcinside.com', port=443): Max retries exceeded with url: /mgallery/board/lists?id=dnfqq&page=64&list_num=100 (Caused by ProxyError('Cannot connect to proxy.', ConnectionResetError(54, 'Connection reset by peer')))\n",
      "Error! :  'NoneType' object is not subscriptable\n",
      "Error! :  HTTPSConnectionPool(host='gall.dcinside.com', port=443): Max retries exceeded with url: /mgallery/board/lists?id=dnfqq&page=64&list_num=100 (Caused by ProxyError('Cannot connect to proxy.', OSError('Tunnel connection failed: 302 Found')))\n",
      "Error! :  ('Connection aborted.', BadStatusLine('\\x00[\\x00\\x00\\x00\\x00\\x00\\x00'))\n",
      "Error! :  HTTPSConnectionPool(host='gall.dcinside.com', port=443): Max retries exceeded with url: /mgallery/board/lists?id=dnfqq&page=64&list_num=100 (Caused by ConnectTimeoutError(<urllib3.connection.HTTPSConnection object at 0x7fa3c4db6610>, 'Connection to 196.204.24.251 timed out. (connect timeout=10)'))\n",
      "FIND TARGET DATE POST\n",
      "Data CNT :  4806\n",
      "custom_break : False -  2023-05-11 11:56:52\n",
      "Error! :  HTTPSConnectionPool(host='gall.dcinside.com', port=443): Max retries exceeded with url: /mgallery/board/lists?id=dnfqq&page=65&list_num=100 (Caused by ProxyError('Cannot connect to proxy.', ConnectionResetError(54, 'Connection reset by peer')))\n",
      "Error! :  HTTPSConnectionPool(host='gall.dcinside.com', port=443): Max retries exceeded with url: /mgallery/board/lists?id=dnfqq&page=65&list_num=100 (Caused by ProxyError('Cannot connect to proxy.', ConnectionResetError(54, 'Connection reset by peer')))\n",
      "Error! :  HTTPSConnectionPool(host='gall.dcinside.com', port=443): Max retries exceeded with url: /mgallery/board/lists?id=dnfqq&page=65&list_num=100 (Caused by ProxyError('Cannot connect to proxy.', ConnectionResetError(54, 'Connection reset by peer')))\n",
      "Error! :  HTTPSConnectionPool(host='gall.dcinside.com', port=443): Max retries exceeded with url: /mgallery/board/lists?id=dnfqq&page=65&list_num=100 (Caused by ProxyError('Cannot connect to proxy.', ConnectionResetError(54, 'Connection reset by peer')))\n"
     ]
    },
    {
     "name": "stdout",
     "output_type": "stream",
     "text": [
      "Error! :  HTTPSConnectionPool(host='gall.dcinside.com', port=443): Max retries exceeded with url: /mgallery/board/lists?id=dnfqq&page=65&list_num=100 (Caused by ProxyError('Cannot connect to proxy.', RemoteDisconnected('Remote end closed connection without response')))\n",
      "Error! :  HTTPSConnectionPool(host='gall.dcinside.com', port=443): Max retries exceeded with url: /mgallery/board/lists?id=dnfqq&page=65&list_num=100 (Caused by ProxyError('Cannot connect to proxy.', ConnectionResetError(54, 'Connection reset by peer')))\n",
      "Error! :  HTTPSConnectionPool(host='gall.dcinside.com', port=443): Read timed out.\n",
      "Error! :  HTTPSConnectionPool(host='gall.dcinside.com', port=443): Max retries exceeded with url: /mgallery/board/lists?id=dnfqq&page=65&list_num=100 (Caused by ProxyError('Cannot connect to proxy.', OSError('Tunnel connection failed: 302 Found')))\n",
      "Error! :  ('Connection aborted.', BadStatusLine('\\x00[\\x00\\x00\\x00\\x00\\x00\\x00'))\n",
      "Error! :  HTTPSConnectionPool(host='gall.dcinside.com', port=443): Max retries exceeded with url: /mgallery/board/lists?id=dnfqq&page=65&list_num=100 (Caused by ConnectTimeoutError(<urllib3.connection.HTTPSConnection object at 0x7fa3c4cf2460>, 'Connection to 196.204.24.251 timed out. (connect timeout=10)'))\n",
      "FIND TARGET DATE POST\n",
      "Data CNT :  4905\n",
      "custom_break : False -  2023-05-11 11:46:30\n",
      "Error! :  HTTPSConnectionPool(host='gall.dcinside.com', port=443): Max retries exceeded with url: /mgallery/board/lists?id=dnfqq&page=66&list_num=100 (Caused by ProxyError('Cannot connect to proxy.', ConnectionResetError(54, 'Connection reset by peer')))\n",
      "Error! :  HTTPSConnectionPool(host='gall.dcinside.com', port=443): Max retries exceeded with url: /mgallery/board/lists?id=dnfqq&page=66&list_num=100 (Caused by ProxyError('Cannot connect to proxy.', ConnectionResetError(54, 'Connection reset by peer')))\n",
      "Error! :  HTTPSConnectionPool(host='gall.dcinside.com', port=443): Max retries exceeded with url: /mgallery/board/lists?id=dnfqq&page=66&list_num=100 (Caused by ProxyError('Cannot connect to proxy.', ConnectionResetError(54, 'Connection reset by peer')))\n",
      "Error! :  HTTPSConnectionPool(host='gall.dcinside.com', port=443): Max retries exceeded with url: /mgallery/board/lists?id=dnfqq&page=66&list_num=100 (Caused by ProxyError('Cannot connect to proxy.', ConnectionResetError(54, 'Connection reset by peer')))\n",
      "Error! :  HTTPSConnectionPool(host='gall.dcinside.com', port=443): Max retries exceeded with url: /mgallery/board/lists?id=dnfqq&page=66&list_num=100 (Caused by ProxyError('Cannot connect to proxy.', RemoteDisconnected('Remote end closed connection without response')))\n",
      "Error! :  HTTPSConnectionPool(host='gall.dcinside.com', port=443): Max retries exceeded with url: /mgallery/board/lists?id=dnfqq&page=66&list_num=100 (Caused by ProxyError('Cannot connect to proxy.', ConnectionResetError(54, 'Connection reset by peer')))\n",
      "FIND TARGET DATE POST\n",
      "Data CNT :  5005\n",
      "custom_break : False -  2023-05-11 11:36:43\n",
      "Error! :  HTTPSConnectionPool(host='gall.dcinside.com', port=443): Max retries exceeded with url: /mgallery/board/lists?id=dnfqq&page=67&list_num=100 (Caused by ProxyError('Cannot connect to proxy.', ConnectionResetError(54, 'Connection reset by peer')))\n",
      "Error! :  HTTPSConnectionPool(host='gall.dcinside.com', port=443): Max retries exceeded with url: /mgallery/board/lists?id=dnfqq&page=67&list_num=100 (Caused by ProxyError('Cannot connect to proxy.', ConnectionResetError(54, 'Connection reset by peer')))\n",
      "Error! :  HTTPSConnectionPool(host='gall.dcinside.com', port=443): Max retries exceeded with url: /mgallery/board/lists?id=dnfqq&page=67&list_num=100 (Caused by ProxyError('Cannot connect to proxy.', ConnectionResetError(54, 'Connection reset by peer')))\n",
      "Error! :  HTTPSConnectionPool(host='gall.dcinside.com', port=443): Max retries exceeded with url: /mgallery/board/lists?id=dnfqq&page=67&list_num=100 (Caused by ProxyError('Cannot connect to proxy.', ConnectionResetError(54, 'Connection reset by peer')))\n",
      "Error! :  HTTPSConnectionPool(host='gall.dcinside.com', port=443): Max retries exceeded with url: /mgallery/board/lists?id=dnfqq&page=67&list_num=100 (Caused by ProxyError('Cannot connect to proxy.', RemoteDisconnected('Remote end closed connection without response')))\n",
      "Error! :  HTTPSConnectionPool(host='gall.dcinside.com', port=443): Max retries exceeded with url: /mgallery/board/lists?id=dnfqq&page=67&list_num=100 (Caused by ProxyError('Cannot connect to proxy.', ConnectionResetError(54, 'Connection reset by peer')))\n",
      "Error! :  HTTPSConnectionPool(host='gall.dcinside.com', port=443): Read timed out.\n",
      "Error! :  HTTPSConnectionPool(host='gall.dcinside.com', port=443): Max retries exceeded with url: /mgallery/board/lists?id=dnfqq&page=67&list_num=100 (Caused by ProxyError('Cannot connect to proxy.', OSError('Tunnel connection failed: 302 Found')))\n",
      "Error! :  HTTPSConnectionPool(host='gall.dcinside.com', port=443): Max retries exceeded with url: /mgallery/board/lists?id=dnfqq&page=67&list_num=100 (Caused by ConnectTimeoutError(<urllib3.connection.HTTPSConnection object at 0x7fa3c4125430>, 'Connection to 185.6.9.159 timed out. (connect timeout=10)'))\n",
      "Error! :  HTTPSConnectionPool(host='gall.dcinside.com', port=443): Max retries exceeded with url: /mgallery/board/lists?id=dnfqq&page=67&list_num=100 (Caused by ConnectTimeoutError(<urllib3.connection.HTTPSConnection object at 0x7fa3c4125cd0>, 'Connection to 196.204.24.251 timed out. (connect timeout=10)'))\n",
      "FIND TARGET DATE POST\n",
      "Data CNT :  5103\n",
      "custom_break : False -  2023-05-11 11:28:54\n",
      "Error! :  HTTPSConnectionPool(host='gall.dcinside.com', port=443): Max retries exceeded with url: /mgallery/board/lists?id=dnfqq&page=68&list_num=100 (Caused by ProxyError('Cannot connect to proxy.', ConnectionResetError(54, 'Connection reset by peer')))\n",
      "Error! :  HTTPSConnectionPool(host='gall.dcinside.com', port=443): Max retries exceeded with url: /mgallery/board/lists?id=dnfqq&page=68&list_num=100 (Caused by ProxyError('Cannot connect to proxy.', ConnectionResetError(54, 'Connection reset by peer')))\n",
      "Error! :  HTTPSConnectionPool(host='gall.dcinside.com', port=443): Max retries exceeded with url: /mgallery/board/lists?id=dnfqq&page=68&list_num=100 (Caused by ProxyError('Cannot connect to proxy.', timeout('timed out')))\n",
      "Error! :  HTTPSConnectionPool(host='gall.dcinside.com', port=443): Max retries exceeded with url: /mgallery/board/lists?id=dnfqq&page=68&list_num=100 (Caused by ProxyError('Cannot connect to proxy.', ConnectionResetError(54, 'Connection reset by peer')))\n",
      "Error! :  HTTPSConnectionPool(host='gall.dcinside.com', port=443): Max retries exceeded with url: /mgallery/board/lists?id=dnfqq&page=68&list_num=100 (Caused by ProxyError('Cannot connect to proxy.', RemoteDisconnected('Remote end closed connection without response')))\n",
      "Error! :  HTTPSConnectionPool(host='gall.dcinside.com', port=443): Max retries exceeded with url: /mgallery/board/lists?id=dnfqq&page=68&list_num=100 (Caused by ProxyError('Cannot connect to proxy.', ConnectionResetError(54, 'Connection reset by peer')))\n",
      "Error! :  HTTPSConnectionPool(host='gall.dcinside.com', port=443): Read timed out.\n",
      "Error! :  HTTPSConnectionPool(host='gall.dcinside.com', port=443): Max retries exceeded with url: /mgallery/board/lists?id=dnfqq&page=68&list_num=100 (Caused by ProxyError('Cannot connect to proxy.', OSError('Tunnel connection failed: 302 Found')))\n",
      "Error! :  HTTPSConnectionPool(host='gall.dcinside.com', port=443): Max retries exceeded with url: /mgallery/board/lists?id=dnfqq&page=68&list_num=100 (Caused by ConnectTimeoutError(<urllib3.connection.HTTPSConnection object at 0x7fa3c7b3b7c0>, 'Connection to 185.6.9.159 timed out. (connect timeout=10)'))\n",
      "Error! :  HTTPSConnectionPool(host='gall.dcinside.com', port=443): Max retries exceeded with url: /mgallery/board/lists?id=dnfqq&page=68&list_num=100 (Caused by ConnectTimeoutError(<urllib3.connection.HTTPSConnection object at 0x7fa3c7b201c0>, 'Connection to 196.204.24.251 timed out. (connect timeout=10)'))\n",
      "FIND TARGET DATE POST\n",
      "Data CNT :  5202\n",
      "custom_break : False -  2023-05-11 11:19:53\n",
      "Error! :  HTTPSConnectionPool(host='gall.dcinside.com', port=443): Max retries exceeded with url: /mgallery/board/lists?id=dnfqq&page=69&list_num=100 (Caused by ProxyError('Cannot connect to proxy.', ConnectionResetError(54, 'Connection reset by peer')))\n"
     ]
    },
    {
     "name": "stdout",
     "output_type": "stream",
     "text": [
      "Error! :  HTTPSConnectionPool(host='gall.dcinside.com', port=443): Max retries exceeded with url: /mgallery/board/lists?id=dnfqq&page=69&list_num=100 (Caused by ProxyError('Cannot connect to proxy.', ConnectionResetError(54, 'Connection reset by peer')))\n",
      "Error! :  HTTPSConnectionPool(host='gall.dcinside.com', port=443): Max retries exceeded with url: /mgallery/board/lists?id=dnfqq&page=69&list_num=100 (Caused by ProxyError('Cannot connect to proxy.', ConnectionResetError(54, 'Connection reset by peer')))\n",
      "Error! :  HTTPSConnectionPool(host='gall.dcinside.com', port=443): Max retries exceeded with url: /mgallery/board/lists?id=dnfqq&page=69&list_num=100 (Caused by ProxyError('Cannot connect to proxy.', ConnectionResetError(54, 'Connection reset by peer')))\n",
      "Error! :  HTTPSConnectionPool(host='gall.dcinside.com', port=443): Max retries exceeded with url: /mgallery/board/lists?id=dnfqq&page=69&list_num=100 (Caused by ProxyError('Cannot connect to proxy.', RemoteDisconnected('Remote end closed connection without response')))\n",
      "Error! :  HTTPSConnectionPool(host='gall.dcinside.com', port=443): Max retries exceeded with url: /mgallery/board/lists?id=dnfqq&page=69&list_num=100 (Caused by ProxyError('Cannot connect to proxy.', ConnectionResetError(54, 'Connection reset by peer')))\n",
      "FIND TARGET DATE POST\n",
      "Data CNT :  5302\n",
      "custom_break : False -  2023-05-11 11:09:55\n",
      "Error! :  HTTPSConnectionPool(host='gall.dcinside.com', port=443): Max retries exceeded with url: /mgallery/board/lists?id=dnfqq&page=70&list_num=100 (Caused by ProxyError('Cannot connect to proxy.', ConnectionResetError(54, 'Connection reset by peer')))\n",
      "Error! :  HTTPSConnectionPool(host='gall.dcinside.com', port=443): Max retries exceeded with url: /mgallery/board/lists?id=dnfqq&page=70&list_num=100 (Caused by ProxyError('Cannot connect to proxy.', ConnectionResetError(54, 'Connection reset by peer')))\n",
      "Error! :  HTTPSConnectionPool(host='gall.dcinside.com', port=443): Max retries exceeded with url: /mgallery/board/lists?id=dnfqq&page=70&list_num=100 (Caused by ProxyError('Cannot connect to proxy.', ConnectionResetError(54, 'Connection reset by peer')))\n",
      "Error! :  HTTPSConnectionPool(host='gall.dcinside.com', port=443): Max retries exceeded with url: /mgallery/board/lists?id=dnfqq&page=70&list_num=100 (Caused by ProxyError('Cannot connect to proxy.', ConnectionResetError(54, 'Connection reset by peer')))\n",
      "Error! :  HTTPSConnectionPool(host='gall.dcinside.com', port=443): Max retries exceeded with url: /mgallery/board/lists?id=dnfqq&page=70&list_num=100 (Caused by ProxyError('Cannot connect to proxy.', RemoteDisconnected('Remote end closed connection without response')))\n",
      "Error! :  HTTPSConnectionPool(host='gall.dcinside.com', port=443): Max retries exceeded with url: /mgallery/board/lists?id=dnfqq&page=70&list_num=100 (Caused by ProxyError('Cannot connect to proxy.', ConnectionResetError(54, 'Connection reset by peer')))\n",
      "Error! :  HTTPSConnectionPool(host='gall.dcinside.com', port=443): Read timed out.\n",
      "Error! :  HTTPSConnectionPool(host='gall.dcinside.com', port=443): Max retries exceeded with url: /mgallery/board/lists?id=dnfqq&page=70&list_num=100 (Caused by ProxyError('Cannot connect to proxy.', OSError('Tunnel connection failed: 302 Found')))\n",
      "Error! :  HTTPSConnectionPool(host='gall.dcinside.com', port=443): Max retries exceeded with url: /mgallery/board/lists?id=dnfqq&page=70&list_num=100 (Caused by ConnectTimeoutError(<urllib3.connection.HTTPSConnection object at 0x7fa3c77ac0d0>, 'Connection to 185.6.9.159 timed out. (connect timeout=10)'))\n",
      "Error! :  HTTPSConnectionPool(host='gall.dcinside.com', port=443): Max retries exceeded with url: /mgallery/board/lists?id=dnfqq&page=70&list_num=100 (Caused by ProxyError('Cannot connect to proxy.', timeout('timed out')))\n",
      "FIND TARGET DATE POST\n",
      "Data CNT :  5401\n",
      "custom_break : False -  2023-05-11 11:00:16\n",
      "Error! :  HTTPSConnectionPool(host='gall.dcinside.com', port=443): Max retries exceeded with url: /mgallery/board/lists?id=dnfqq&page=71&list_num=100 (Caused by ProxyError('Cannot connect to proxy.', ConnectionResetError(54, 'Connection reset by peer')))\n",
      "Error! :  HTTPSConnectionPool(host='gall.dcinside.com', port=443): Max retries exceeded with url: /mgallery/board/lists?id=dnfqq&page=71&list_num=100 (Caused by ProxyError('Cannot connect to proxy.', ConnectionResetError(54, 'Connection reset by peer')))\n",
      "Error! :  HTTPSConnectionPool(host='gall.dcinside.com', port=443): Max retries exceeded with url: /mgallery/board/lists?id=dnfqq&page=71&list_num=100 (Caused by ProxyError('Cannot connect to proxy.', ConnectionResetError(54, 'Connection reset by peer')))\n",
      "Error! :  HTTPSConnectionPool(host='gall.dcinside.com', port=443): Max retries exceeded with url: /mgallery/board/lists?id=dnfqq&page=71&list_num=100 (Caused by ProxyError('Cannot connect to proxy.', ConnectionResetError(54, 'Connection reset by peer')))\n",
      "Error! :  HTTPSConnectionPool(host='gall.dcinside.com', port=443): Max retries exceeded with url: /mgallery/board/lists?id=dnfqq&page=71&list_num=100 (Caused by ProxyError('Cannot connect to proxy.', RemoteDisconnected('Remote end closed connection without response')))\n",
      "Error! :  HTTPSConnectionPool(host='gall.dcinside.com', port=443): Max retries exceeded with url: /mgallery/board/lists?id=dnfqq&page=71&list_num=100 (Caused by ProxyError('Cannot connect to proxy.', ConnectionResetError(54, 'Connection reset by peer')))\n",
      "FIND TARGET DATE POST\n",
      "Data CNT :  5500\n",
      "custom_break : False -  2023-05-11 10:53:35\n",
      "Error! :  HTTPSConnectionPool(host='gall.dcinside.com', port=443): Max retries exceeded with url: /mgallery/board/lists?id=dnfqq&page=72&list_num=100 (Caused by ProxyError('Cannot connect to proxy.', ConnectionResetError(54, 'Connection reset by peer')))\n",
      "Error! :  HTTPSConnectionPool(host='gall.dcinside.com', port=443): Max retries exceeded with url: /mgallery/board/lists?id=dnfqq&page=72&list_num=100 (Caused by ProxyError('Cannot connect to proxy.', ConnectionResetError(54, 'Connection reset by peer')))\n",
      "Error! :  HTTPSConnectionPool(host='gall.dcinside.com', port=443): Max retries exceeded with url: /mgallery/board/lists?id=dnfqq&page=72&list_num=100 (Caused by ProxyError('Cannot connect to proxy.', ConnectionResetError(54, 'Connection reset by peer')))\n",
      "Error! :  HTTPSConnectionPool(host='gall.dcinside.com', port=443): Max retries exceeded with url: /mgallery/board/lists?id=dnfqq&page=72&list_num=100 (Caused by ProxyError('Cannot connect to proxy.', ConnectionResetError(54, 'Connection reset by peer')))\n",
      "Error! :  HTTPSConnectionPool(host='gall.dcinside.com', port=443): Max retries exceeded with url: /mgallery/board/lists?id=dnfqq&page=72&list_num=100 (Caused by ProxyError('Cannot connect to proxy.', RemoteDisconnected('Remote end closed connection without response')))\n",
      "Error! :  HTTPSConnectionPool(host='gall.dcinside.com', port=443): Max retries exceeded with url: /mgallery/board/lists?id=dnfqq&page=72&list_num=100 (Caused by ProxyError('Cannot connect to proxy.', ConnectionResetError(54, 'Connection reset by peer')))\n",
      "FIND TARGET DATE POST\n",
      "Data CNT :  5600\n",
      "custom_break : False -  2023-05-11 10:43:42\n",
      "Error! :  HTTPSConnectionPool(host='gall.dcinside.com', port=443): Max retries exceeded with url: /mgallery/board/lists?id=dnfqq&page=73&list_num=100 (Caused by ProxyError('Cannot connect to proxy.', ConnectionResetError(54, 'Connection reset by peer')))\n",
      "Error! :  HTTPSConnectionPool(host='gall.dcinside.com', port=443): Max retries exceeded with url: /mgallery/board/lists?id=dnfqq&page=73&list_num=100 (Caused by ProxyError('Cannot connect to proxy.', ConnectionResetError(54, 'Connection reset by peer')))\n",
      "Error! :  HTTPSConnectionPool(host='gall.dcinside.com', port=443): Max retries exceeded with url: /mgallery/board/lists?id=dnfqq&page=73&list_num=100 (Caused by ProxyError('Cannot connect to proxy.', timeout('timed out')))\n",
      "Error! :  HTTPSConnectionPool(host='gall.dcinside.com', port=443): Max retries exceeded with url: /mgallery/board/lists?id=dnfqq&page=73&list_num=100 (Caused by ProxyError('Cannot connect to proxy.', ConnectionResetError(54, 'Connection reset by peer')))\n",
      "Error! :  HTTPSConnectionPool(host='gall.dcinside.com', port=443): Max retries exceeded with url: /mgallery/board/lists?id=dnfqq&page=73&list_num=100 (Caused by ProxyError('Cannot connect to proxy.', RemoteDisconnected('Remote end closed connection without response')))\n"
     ]
    },
    {
     "name": "stdout",
     "output_type": "stream",
     "text": [
      "Error! :  HTTPSConnectionPool(host='gall.dcinside.com', port=443): Max retries exceeded with url: /mgallery/board/lists?id=dnfqq&page=73&list_num=100 (Caused by ProxyError('Cannot connect to proxy.', ConnectionResetError(54, 'Connection reset by peer')))\n",
      "FIND TARGET DATE POST\n",
      "Data CNT :  5700\n",
      "custom_break : False -  2023-05-11 10:37:02\n",
      "Error! :  HTTPSConnectionPool(host='gall.dcinside.com', port=443): Max retries exceeded with url: /mgallery/board/lists?id=dnfqq&page=74&list_num=100 (Caused by ProxyError('Cannot connect to proxy.', ConnectionResetError(54, 'Connection reset by peer')))\n",
      "Error! :  HTTPSConnectionPool(host='gall.dcinside.com', port=443): Max retries exceeded with url: /mgallery/board/lists?id=dnfqq&page=74&list_num=100 (Caused by ProxyError('Cannot connect to proxy.', ConnectionResetError(54, 'Connection reset by peer')))\n",
      "Error! :  HTTPSConnectionPool(host='gall.dcinside.com', port=443): Max retries exceeded with url: /mgallery/board/lists?id=dnfqq&page=74&list_num=100 (Caused by ProxyError('Cannot connect to proxy.', ConnectionResetError(54, 'Connection reset by peer')))\n",
      "Error! :  HTTPSConnectionPool(host='gall.dcinside.com', port=443): Max retries exceeded with url: /mgallery/board/lists?id=dnfqq&page=74&list_num=100 (Caused by ProxyError('Cannot connect to proxy.', ConnectionResetError(54, 'Connection reset by peer')))\n",
      "Error! :  HTTPSConnectionPool(host='gall.dcinside.com', port=443): Max retries exceeded with url: /mgallery/board/lists?id=dnfqq&page=74&list_num=100 (Caused by ProxyError('Cannot connect to proxy.', RemoteDisconnected('Remote end closed connection without response')))\n",
      "Error! :  HTTPSConnectionPool(host='gall.dcinside.com', port=443): Max retries exceeded with url: /mgallery/board/lists?id=dnfqq&page=74&list_num=100 (Caused by ProxyError('Cannot connect to proxy.', ConnectionResetError(54, 'Connection reset by peer')))\n",
      "FIND TARGET DATE POST\n",
      "Data CNT :  5800\n",
      "custom_break : False -  2023-05-11 10:29:40\n",
      "Error! :  HTTPSConnectionPool(host='gall.dcinside.com', port=443): Max retries exceeded with url: /mgallery/board/lists?id=dnfqq&page=75&list_num=100 (Caused by ProxyError('Cannot connect to proxy.', ConnectionResetError(54, 'Connection reset by peer')))\n",
      "Error! :  HTTPSConnectionPool(host='gall.dcinside.com', port=443): Max retries exceeded with url: /mgallery/board/lists?id=dnfqq&page=75&list_num=100 (Caused by ProxyError('Cannot connect to proxy.', ConnectionResetError(54, 'Connection reset by peer')))\n",
      "Error! :  HTTPSConnectionPool(host='gall.dcinside.com', port=443): Max retries exceeded with url: /mgallery/board/lists?id=dnfqq&page=75&list_num=100 (Caused by ProxyError('Cannot connect to proxy.', ConnectionResetError(54, 'Connection reset by peer')))\n",
      "Error! :  HTTPSConnectionPool(host='gall.dcinside.com', port=443): Max retries exceeded with url: /mgallery/board/lists?id=dnfqq&page=75&list_num=100 (Caused by ProxyError('Cannot connect to proxy.', ConnectionResetError(54, 'Connection reset by peer')))\n",
      "Error! :  HTTPSConnectionPool(host='gall.dcinside.com', port=443): Max retries exceeded with url: /mgallery/board/lists?id=dnfqq&page=75&list_num=100 (Caused by ProxyError('Cannot connect to proxy.', RemoteDisconnected('Remote end closed connection without response')))\n",
      "Error! :  HTTPSConnectionPool(host='gall.dcinside.com', port=443): Max retries exceeded with url: /mgallery/board/lists?id=dnfqq&page=75&list_num=100 (Caused by ProxyError('Cannot connect to proxy.', ConnectionResetError(54, 'Connection reset by peer')))\n",
      "Error! :  HTTPSConnectionPool(host='gall.dcinside.com', port=443): Read timed out.\n",
      "Error! :  HTTPSConnectionPool(host='gall.dcinside.com', port=443): Max retries exceeded with url: /mgallery/board/lists?id=dnfqq&page=75&list_num=100 (Caused by ProxyError('Cannot connect to proxy.', OSError('Tunnel connection failed: 302 Found')))\n",
      "Error! :  ('Connection aborted.', BadStatusLine('\\x00[\\x00\\x00\\x00\\x00\\x00\\x00'))\n",
      "Error! :  HTTPSConnectionPool(host='gall.dcinside.com', port=443): Max retries exceeded with url: /mgallery/board/lists?id=dnfqq&page=75&list_num=100 (Caused by ProxyError('Cannot connect to proxy.', timeout('timed out')))\n",
      "FIND TARGET DATE POST\n",
      "Data CNT :  5900\n",
      "custom_break : False -  2023-05-11 10:22:19\n",
      "Error! :  HTTPSConnectionPool(host='gall.dcinside.com', port=443): Max retries exceeded with url: /mgallery/board/lists?id=dnfqq&page=76&list_num=100 (Caused by ProxyError('Cannot connect to proxy.', ConnectionResetError(54, 'Connection reset by peer')))\n",
      "Error! :  HTTPSConnectionPool(host='gall.dcinside.com', port=443): Max retries exceeded with url: /mgallery/board/lists?id=dnfqq&page=76&list_num=100 (Caused by ProxyError('Cannot connect to proxy.', ConnectionResetError(54, 'Connection reset by peer')))\n",
      "Error! :  HTTPSConnectionPool(host='gall.dcinside.com', port=443): Max retries exceeded with url: /mgallery/board/lists?id=dnfqq&page=76&list_num=100 (Caused by ProxyError('Cannot connect to proxy.', ConnectionResetError(54, 'Connection reset by peer')))\n",
      "Error! :  HTTPSConnectionPool(host='gall.dcinside.com', port=443): Max retries exceeded with url: /mgallery/board/lists?id=dnfqq&page=76&list_num=100 (Caused by ProxyError('Cannot connect to proxy.', ConnectionResetError(54, 'Connection reset by peer')))\n",
      "Error! :  HTTPSConnectionPool(host='gall.dcinside.com', port=443): Max retries exceeded with url: /mgallery/board/lists?id=dnfqq&page=76&list_num=100 (Caused by ProxyError('Cannot connect to proxy.', RemoteDisconnected('Remote end closed connection without response')))\n",
      "Error! :  HTTPSConnectionPool(host='gall.dcinside.com', port=443): Max retries exceeded with url: /mgallery/board/lists?id=dnfqq&page=76&list_num=100 (Caused by ProxyError('Cannot connect to proxy.', ConnectionResetError(54, 'Connection reset by peer')))\n",
      "Error! :  'NoneType' object is not subscriptable\n",
      "Error! :  HTTPSConnectionPool(host='gall.dcinside.com', port=443): Max retries exceeded with url: /mgallery/board/lists?id=dnfqq&page=76&list_num=100 (Caused by ProxyError('Cannot connect to proxy.', OSError('Tunnel connection failed: 302 Found')))\n",
      "Error! :  HTTPSConnectionPool(host='gall.dcinside.com', port=443): Max retries exceeded with url: /mgallery/board/lists?id=dnfqq&page=76&list_num=100 (Caused by ProxyError('Cannot connect to proxy.', timeout('timed out')))\n",
      "Error! :  HTTPSConnectionPool(host='gall.dcinside.com', port=443): Max retries exceeded with url: /mgallery/board/lists?id=dnfqq&page=76&list_num=100 (Caused by ConnectTimeoutError(<urllib3.connection.HTTPSConnection object at 0x7fa3c5c35d30>, 'Connection to 196.204.24.251 timed out. (connect timeout=10)'))\n",
      "FIND TARGET DATE POST\n",
      "Data CNT :  5998\n",
      "custom_break : False -  2023-05-11 10:14:48\n",
      "Error! :  HTTPSConnectionPool(host='gall.dcinside.com', port=443): Max retries exceeded with url: /mgallery/board/lists?id=dnfqq&page=77&list_num=100 (Caused by ProxyError('Cannot connect to proxy.', ConnectionResetError(54, 'Connection reset by peer')))\n",
      "Error! :  HTTPSConnectionPool(host='gall.dcinside.com', port=443): Max retries exceeded with url: /mgallery/board/lists?id=dnfqq&page=77&list_num=100 (Caused by ProxyError('Cannot connect to proxy.', ConnectionResetError(54, 'Connection reset by peer')))\n",
      "Error! :  HTTPSConnectionPool(host='gall.dcinside.com', port=443): Max retries exceeded with url: /mgallery/board/lists?id=dnfqq&page=77&list_num=100 (Caused by ProxyError('Cannot connect to proxy.', timeout('timed out')))\n",
      "Error! :  HTTPSConnectionPool(host='gall.dcinside.com', port=443): Max retries exceeded with url: /mgallery/board/lists?id=dnfqq&page=77&list_num=100 (Caused by ProxyError('Cannot connect to proxy.', ConnectionResetError(54, 'Connection reset by peer')))\n",
      "Error! :  HTTPSConnectionPool(host='gall.dcinside.com', port=443): Max retries exceeded with url: /mgallery/board/lists?id=dnfqq&page=77&list_num=100 (Caused by ProxyError('Cannot connect to proxy.', RemoteDisconnected('Remote end closed connection without response')))\n",
      "Error! :  HTTPSConnectionPool(host='gall.dcinside.com', port=443): Max retries exceeded with url: /mgallery/board/lists?id=dnfqq&page=77&list_num=100 (Caused by ProxyError('Cannot connect to proxy.', ConnectionResetError(54, 'Connection reset by peer')))\n"
     ]
    },
    {
     "name": "stdout",
     "output_type": "stream",
     "text": [
      "Error! :  HTTPSConnectionPool(host='gall.dcinside.com', port=443): Read timed out.\n",
      "Error! :  HTTPSConnectionPool(host='gall.dcinside.com', port=443): Max retries exceeded with url: /mgallery/board/lists?id=dnfqq&page=77&list_num=100 (Caused by ProxyError('Cannot connect to proxy.', OSError('Tunnel connection failed: 302 Found')))\n",
      "Error! :  HTTPSConnectionPool(host='gall.dcinside.com', port=443): Max retries exceeded with url: /mgallery/board/lists?id=dnfqq&page=77&list_num=100 (Caused by ConnectTimeoutError(<urllib3.connection.HTTPSConnection object at 0x7fa3c915f5b0>, 'Connection to 185.6.9.159 timed out. (connect timeout=10)'))\n",
      "Error! :  HTTPSConnectionPool(host='gall.dcinside.com', port=443): Max retries exceeded with url: /mgallery/board/lists?id=dnfqq&page=77&list_num=100 (Caused by ConnectTimeoutError(<urllib3.connection.HTTPSConnection object at 0x7fa3c915fd30>, 'Connection to 196.204.24.251 timed out. (connect timeout=10)'))\n",
      "FIND TARGET DATE POST\n",
      "Data CNT :  6097\n",
      "custom_break : False -  2023-05-11 10:09:06\n",
      "Error! :  HTTPSConnectionPool(host='gall.dcinside.com', port=443): Max retries exceeded with url: /mgallery/board/lists?id=dnfqq&page=78&list_num=100 (Caused by ProxyError('Cannot connect to proxy.', ConnectionResetError(54, 'Connection reset by peer')))\n",
      "Error! :  HTTPSConnectionPool(host='gall.dcinside.com', port=443): Max retries exceeded with url: /mgallery/board/lists?id=dnfqq&page=78&list_num=100 (Caused by ProxyError('Cannot connect to proxy.', ConnectionResetError(54, 'Connection reset by peer')))\n",
      "Error! :  HTTPSConnectionPool(host='gall.dcinside.com', port=443): Max retries exceeded with url: /mgallery/board/lists?id=dnfqq&page=78&list_num=100 (Caused by ProxyError('Cannot connect to proxy.', timeout('timed out')))\n",
      "Error! :  HTTPSConnectionPool(host='gall.dcinside.com', port=443): Max retries exceeded with url: /mgallery/board/lists?id=dnfqq&page=78&list_num=100 (Caused by ProxyError('Cannot connect to proxy.', ConnectionResetError(54, 'Connection reset by peer')))\n",
      "Error! :  HTTPSConnectionPool(host='gall.dcinside.com', port=443): Max retries exceeded with url: /mgallery/board/lists?id=dnfqq&page=78&list_num=100 (Caused by ProxyError('Cannot connect to proxy.', RemoteDisconnected('Remote end closed connection without response')))\n",
      "Error! :  HTTPSConnectionPool(host='gall.dcinside.com', port=443): Max retries exceeded with url: /mgallery/board/lists?id=dnfqq&page=78&list_num=100 (Caused by ProxyError('Cannot connect to proxy.', ConnectionResetError(54, 'Connection reset by peer')))\n",
      "FIND TARGET DATE POST\n",
      "Data CNT :  6197\n",
      "custom_break : False -  2023-05-11 10:03:11\n",
      "Error! :  HTTPSConnectionPool(host='gall.dcinside.com', port=443): Max retries exceeded with url: /mgallery/board/lists?id=dnfqq&page=79&list_num=100 (Caused by ProxyError('Cannot connect to proxy.', ConnectionResetError(54, 'Connection reset by peer')))\n",
      "Error! :  HTTPSConnectionPool(host='gall.dcinside.com', port=443): Max retries exceeded with url: /mgallery/board/lists?id=dnfqq&page=79&list_num=100 (Caused by ProxyError('Cannot connect to proxy.', ConnectionResetError(54, 'Connection reset by peer')))\n",
      "Error! :  HTTPSConnectionPool(host='gall.dcinside.com', port=443): Max retries exceeded with url: /mgallery/board/lists?id=dnfqq&page=79&list_num=100 (Caused by ProxyError('Cannot connect to proxy.', ConnectionResetError(54, 'Connection reset by peer')))\n",
      "Error! :  HTTPSConnectionPool(host='gall.dcinside.com', port=443): Max retries exceeded with url: /mgallery/board/lists?id=dnfqq&page=79&list_num=100 (Caused by ProxyError('Cannot connect to proxy.', ConnectionResetError(54, 'Connection reset by peer')))\n",
      "Error! :  HTTPSConnectionPool(host='gall.dcinside.com', port=443): Max retries exceeded with url: /mgallery/board/lists?id=dnfqq&page=79&list_num=100 (Caused by ProxyError('Cannot connect to proxy.', RemoteDisconnected('Remote end closed connection without response')))\n",
      "Error! :  HTTPSConnectionPool(host='gall.dcinside.com', port=443): Max retries exceeded with url: /mgallery/board/lists?id=dnfqq&page=79&list_num=100 (Caused by ProxyError('Cannot connect to proxy.', ConnectionResetError(54, 'Connection reset by peer')))\n",
      "Error! :  HTTPSConnectionPool(host='gall.dcinside.com', port=443): Read timed out.\n",
      "Error! :  HTTPSConnectionPool(host='gall.dcinside.com', port=443): Max retries exceeded with url: /mgallery/board/lists?id=dnfqq&page=79&list_num=100 (Caused by ProxyError('Cannot connect to proxy.', OSError('Tunnel connection failed: 302 Found')))\n",
      "Error! :  ('Connection aborted.', BadStatusLine('\\x00[\\x00\\x00\\x00\\x00\\x00\\x00'))\n",
      "Error! :  HTTPSConnectionPool(host='gall.dcinside.com', port=443): Max retries exceeded with url: /mgallery/board/lists?id=dnfqq&page=79&list_num=100 (Caused by ProxyError('Cannot connect to proxy.', timeout('timed out')))\n",
      "FIND TARGET DATE POST\n",
      "Data CNT :  6297\n",
      "custom_break : False -  2023-05-11 09:56:25\n",
      "Error! :  HTTPSConnectionPool(host='gall.dcinside.com', port=443): Max retries exceeded with url: /mgallery/board/lists?id=dnfqq&page=80&list_num=100 (Caused by ProxyError('Cannot connect to proxy.', ConnectionResetError(54, 'Connection reset by peer')))\n",
      "Error! :  HTTPSConnectionPool(host='gall.dcinside.com', port=443): Max retries exceeded with url: /mgallery/board/lists?id=dnfqq&page=80&list_num=100 (Caused by ProxyError('Cannot connect to proxy.', ConnectionResetError(54, 'Connection reset by peer')))\n",
      "Error! :  HTTPSConnectionPool(host='gall.dcinside.com', port=443): Max retries exceeded with url: /mgallery/board/lists?id=dnfqq&page=80&list_num=100 (Caused by ProxyError('Cannot connect to proxy.', ConnectionResetError(54, 'Connection reset by peer')))\n",
      "Error! :  HTTPSConnectionPool(host='gall.dcinside.com', port=443): Max retries exceeded with url: /mgallery/board/lists?id=dnfqq&page=80&list_num=100 (Caused by ProxyError('Cannot connect to proxy.', ConnectionResetError(54, 'Connection reset by peer')))\n",
      "Error! :  HTTPSConnectionPool(host='gall.dcinside.com', port=443): Max retries exceeded with url: /mgallery/board/lists?id=dnfqq&page=80&list_num=100 (Caused by ProxyError('Cannot connect to proxy.', RemoteDisconnected('Remote end closed connection without response')))\n",
      "Error! :  HTTPSConnectionPool(host='gall.dcinside.com', port=443): Max retries exceeded with url: /mgallery/board/lists?id=dnfqq&page=80&list_num=100 (Caused by ProxyError('Cannot connect to proxy.', timeout('timed out')))\n",
      "Error! :  HTTPSConnectionPool(host='gall.dcinside.com', port=443): Read timed out.\n",
      "Error! :  HTTPSConnectionPool(host='gall.dcinside.com', port=443): Max retries exceeded with url: /mgallery/board/lists?id=dnfqq&page=80&list_num=100 (Caused by ProxyError('Cannot connect to proxy.', OSError('Tunnel connection failed: 302 Found')))\n",
      "Error! :  HTTPSConnectionPool(host='gall.dcinside.com', port=443): Max retries exceeded with url: /mgallery/board/lists?id=dnfqq&page=80&list_num=100 (Caused by ConnectTimeoutError(<urllib3.connection.HTTPSConnection object at 0x7fa3c31a11f0>, 'Connection to 185.6.9.159 timed out. (connect timeout=10)'))\n",
      "Error! :  HTTPSConnectionPool(host='gall.dcinside.com', port=443): Max retries exceeded with url: /mgallery/board/lists?id=dnfqq&page=80&list_num=100 (Caused by ConnectTimeoutError(<urllib3.connection.HTTPSConnection object at 0x7fa3c31a18e0>, 'Connection to 196.204.24.251 timed out. (connect timeout=10)'))\n",
      "FIND TARGET DATE POST\n",
      "Data CNT :  6396\n",
      "custom_break : False -  2023-05-11 09:41:28\n",
      "Error! :  HTTPSConnectionPool(host='gall.dcinside.com', port=443): Max retries exceeded with url: /mgallery/board/lists?id=dnfqq&page=81&list_num=100 (Caused by ProxyError('Cannot connect to proxy.', ConnectionResetError(54, 'Connection reset by peer')))\n",
      "Error! :  HTTPSConnectionPool(host='gall.dcinside.com', port=443): Max retries exceeded with url: /mgallery/board/lists?id=dnfqq&page=81&list_num=100 (Caused by ProxyError('Cannot connect to proxy.', ConnectionResetError(54, 'Connection reset by peer')))\n",
      "Error! :  HTTPSConnectionPool(host='gall.dcinside.com', port=443): Max retries exceeded with url: /mgallery/board/lists?id=dnfqq&page=81&list_num=100 (Caused by ProxyError('Cannot connect to proxy.', ConnectionResetError(54, 'Connection reset by peer')))\n"
     ]
    },
    {
     "name": "stdout",
     "output_type": "stream",
     "text": [
      "Error! :  HTTPSConnectionPool(host='gall.dcinside.com', port=443): Max retries exceeded with url: /mgallery/board/lists?id=dnfqq&page=81&list_num=100 (Caused by ProxyError('Cannot connect to proxy.', ConnectionResetError(54, 'Connection reset by peer')))\n",
      "Error! :  HTTPSConnectionPool(host='gall.dcinside.com', port=443): Max retries exceeded with url: /mgallery/board/lists?id=dnfqq&page=81&list_num=100 (Caused by ProxyError('Cannot connect to proxy.', RemoteDisconnected('Remote end closed connection without response')))\n",
      "Error! :  HTTPSConnectionPool(host='gall.dcinside.com', port=443): Max retries exceeded with url: /mgallery/board/lists?id=dnfqq&page=81&list_num=100 (Caused by ProxyError('Cannot connect to proxy.', ConnectionResetError(54, 'Connection reset by peer')))\n",
      "Error! :  'NoneType' object is not subscriptable\n",
      "Error! :  HTTPSConnectionPool(host='gall.dcinside.com', port=443): Max retries exceeded with url: /mgallery/board/lists?id=dnfqq&page=81&list_num=100 (Caused by ProxyError('Cannot connect to proxy.', OSError('Tunnel connection failed: 302 Found')))\n",
      "Error! :  HTTPSConnectionPool(host='gall.dcinside.com', port=443): Max retries exceeded with url: /mgallery/board/lists?id=dnfqq&page=81&list_num=100 (Caused by ProxyError('Cannot connect to proxy.', timeout('timed out')))\n",
      "Error! :  HTTPSConnectionPool(host='gall.dcinside.com', port=443): Max retries exceeded with url: /mgallery/board/lists?id=dnfqq&page=81&list_num=100 (Caused by ConnectTimeoutError(<urllib3.connection.HTTPSConnection object at 0x7fa3c9407640>, 'Connection to 196.204.24.251 timed out. (connect timeout=10)'))\n",
      "FIND TARGET DATE POST\n",
      "Data CNT :  6496\n",
      "custom_break : False -  2023-05-11 09:24:30\n",
      "Error! :  HTTPSConnectionPool(host='gall.dcinside.com', port=443): Max retries exceeded with url: /mgallery/board/lists?id=dnfqq&page=82&list_num=100 (Caused by ProxyError('Cannot connect to proxy.', ConnectionResetError(54, 'Connection reset by peer')))\n",
      "Error! :  HTTPSConnectionPool(host='gall.dcinside.com', port=443): Max retries exceeded with url: /mgallery/board/lists?id=dnfqq&page=82&list_num=100 (Caused by ProxyError('Cannot connect to proxy.', ConnectionResetError(54, 'Connection reset by peer')))\n",
      "Error! :  HTTPSConnectionPool(host='gall.dcinside.com', port=443): Max retries exceeded with url: /mgallery/board/lists?id=dnfqq&page=82&list_num=100 (Caused by ProxyError('Cannot connect to proxy.', ConnectionResetError(54, 'Connection reset by peer')))\n",
      "Error! :  HTTPSConnectionPool(host='gall.dcinside.com', port=443): Max retries exceeded with url: /mgallery/board/lists?id=dnfqq&page=82&list_num=100 (Caused by ConnectTimeoutError(<urllib3.connection.HTTPSConnection object at 0x7fa3c6191220>, 'Connection to 70.166.167.55 timed out. (connect timeout=10)'))\n",
      "Error! :  HTTPSConnectionPool(host='gall.dcinside.com', port=443): Max retries exceeded with url: /mgallery/board/lists?id=dnfqq&page=82&list_num=100 (Caused by ProxyError('Cannot connect to proxy.', RemoteDisconnected('Remote end closed connection without response')))\n",
      "Error! :  HTTPSConnectionPool(host='gall.dcinside.com', port=443): Max retries exceeded with url: /mgallery/board/lists?id=dnfqq&page=82&list_num=100 (Caused by ProxyError('Cannot connect to proxy.', ConnectionResetError(54, 'Connection reset by peer')))\n",
      "Error! :  HTTPSConnectionPool(host='gall.dcinside.com', port=443): Read timed out.\n",
      "Error! :  HTTPSConnectionPool(host='gall.dcinside.com', port=443): Max retries exceeded with url: /mgallery/board/lists?id=dnfqq&page=82&list_num=100 (Caused by ProxyError('Cannot connect to proxy.', OSError('Tunnel connection failed: 302 Found')))\n",
      "Error! :  HTTPSConnectionPool(host='gall.dcinside.com', port=443): Max retries exceeded with url: /mgallery/board/lists?id=dnfqq&page=82&list_num=100 (Caused by ConnectTimeoutError(<urllib3.connection.HTTPSConnection object at 0x7fa3c6191490>, 'Connection to 185.6.9.159 timed out. (connect timeout=10)'))\n",
      "Error! :  HTTPSConnectionPool(host='gall.dcinside.com', port=443): Max retries exceeded with url: /mgallery/board/lists?id=dnfqq&page=82&list_num=100 (Caused by ProxyError('Cannot connect to proxy.', timeout('timed out')))\n",
      "Error! :  HTTPSConnectionPool(host='gall.dcinside.com', port=443): Max retries exceeded with url: /mgallery/board/lists?id=dnfqq&page=82&list_num=100 (Caused by ProxyError('Cannot connect to proxy.', timeout('timed out')))\n",
      "FIND TARGET DATE POST\n",
      "Data CNT :  6595\n",
      "custom_break : False -  2023-05-11 09:10:35\n",
      "Error! :  HTTPSConnectionPool(host='gall.dcinside.com', port=443): Max retries exceeded with url: /mgallery/board/lists?id=dnfqq&page=83&list_num=100 (Caused by ProxyError('Cannot connect to proxy.', ConnectionResetError(54, 'Connection reset by peer')))\n",
      "Error! :  HTTPSConnectionPool(host='gall.dcinside.com', port=443): Max retries exceeded with url: /mgallery/board/lists?id=dnfqq&page=83&list_num=100 (Caused by ProxyError('Cannot connect to proxy.', ConnectionResetError(54, 'Connection reset by peer')))\n",
      "Error! :  HTTPSConnectionPool(host='gall.dcinside.com', port=443): Max retries exceeded with url: /mgallery/board/lists?id=dnfqq&page=83&list_num=100 (Caused by ProxyError('Cannot connect to proxy.', ConnectionResetError(54, 'Connection reset by peer')))\n",
      "Error! :  HTTPSConnectionPool(host='gall.dcinside.com', port=443): Max retries exceeded with url: /mgallery/board/lists?id=dnfqq&page=83&list_num=100 (Caused by ProxyError('Cannot connect to proxy.', ConnectionResetError(54, 'Connection reset by peer')))\n",
      "Error! :  HTTPSConnectionPool(host='gall.dcinside.com', port=443): Max retries exceeded with url: /mgallery/board/lists?id=dnfqq&page=83&list_num=100 (Caused by ProxyError('Cannot connect to proxy.', RemoteDisconnected('Remote end closed connection without response')))\n",
      "Error! :  HTTPSConnectionPool(host='gall.dcinside.com', port=443): Max retries exceeded with url: /mgallery/board/lists?id=dnfqq&page=83&list_num=100 (Caused by ProxyError('Cannot connect to proxy.', ConnectionResetError(54, 'Connection reset by peer')))\n",
      "Error! :  HTTPSConnectionPool(host='gall.dcinside.com', port=443): Read timed out.\n",
      "Error! :  HTTPSConnectionPool(host='gall.dcinside.com', port=443): Max retries exceeded with url: /mgallery/board/lists?id=dnfqq&page=83&list_num=100 (Caused by ProxyError('Cannot connect to proxy.', OSError('Tunnel connection failed: 302 Found')))\n",
      "Error! :  HTTPSConnectionPool(host='gall.dcinside.com', port=443): Max retries exceeded with url: /mgallery/board/lists?id=dnfqq&page=83&list_num=100 (Caused by ConnectTimeoutError(<urllib3.connection.HTTPSConnection object at 0x7fa3c695a040>, 'Connection to 185.6.9.159 timed out. (connect timeout=10)'))\n",
      "Error! :  HTTPSConnectionPool(host='gall.dcinside.com', port=443): Max retries exceeded with url: /mgallery/board/lists?id=dnfqq&page=83&list_num=100 (Caused by ProxyError('Cannot connect to proxy.', timeout('timed out')))\n",
      "FIND TARGET DATE POST\n",
      "Data CNT :  6694\n",
      "custom_break : False -  2023-05-11 08:45:13\n",
      "Error! :  HTTPSConnectionPool(host='gall.dcinside.com', port=443): Max retries exceeded with url: /mgallery/board/lists?id=dnfqq&page=84&list_num=100 (Caused by ProxyError('Cannot connect to proxy.', ConnectionResetError(54, 'Connection reset by peer')))\n",
      "Error! :  HTTPSConnectionPool(host='gall.dcinside.com', port=443): Max retries exceeded with url: /mgallery/board/lists?id=dnfqq&page=84&list_num=100 (Caused by ProxyError('Cannot connect to proxy.', ConnectionResetError(54, 'Connection reset by peer')))\n",
      "Error! :  HTTPSConnectionPool(host='gall.dcinside.com', port=443): Max retries exceeded with url: /mgallery/board/lists?id=dnfqq&page=84&list_num=100 (Caused by ProxyError('Cannot connect to proxy.', ConnectionResetError(54, 'Connection reset by peer')))\n",
      "Error! :  HTTPSConnectionPool(host='gall.dcinside.com', port=443): Max retries exceeded with url: /mgallery/board/lists?id=dnfqq&page=84&list_num=100 (Caused by ProxyError('Cannot connect to proxy.', ConnectionResetError(54, 'Connection reset by peer')))\n",
      "Error! :  HTTPSConnectionPool(host='gall.dcinside.com', port=443): Max retries exceeded with url: /mgallery/board/lists?id=dnfqq&page=84&list_num=100 (Caused by ProxyError('Cannot connect to proxy.', RemoteDisconnected('Remote end closed connection without response')))\n"
     ]
    },
    {
     "name": "stdout",
     "output_type": "stream",
     "text": [
      "Error! :  HTTPSConnectionPool(host='gall.dcinside.com', port=443): Max retries exceeded with url: /mgallery/board/lists?id=dnfqq&page=84&list_num=100 (Caused by ProxyError('Cannot connect to proxy.', ConnectionResetError(54, 'Connection reset by peer')))\n",
      "FIND TARGET DATE POST\n",
      "Data CNT :  6794\n",
      "custom_break : False -  2023-05-11 08:13:19\n",
      "Error! :  HTTPSConnectionPool(host='gall.dcinside.com', port=443): Max retries exceeded with url: /mgallery/board/lists?id=dnfqq&page=85&list_num=100 (Caused by ProxyError('Cannot connect to proxy.', ConnectionResetError(54, 'Connection reset by peer')))\n",
      "Error! :  HTTPSConnectionPool(host='gall.dcinside.com', port=443): Max retries exceeded with url: /mgallery/board/lists?id=dnfqq&page=85&list_num=100 (Caused by ProxyError('Cannot connect to proxy.', ConnectionResetError(54, 'Connection reset by peer')))\n",
      "Error! :  HTTPSConnectionPool(host='gall.dcinside.com', port=443): Max retries exceeded with url: /mgallery/board/lists?id=dnfqq&page=85&list_num=100 (Caused by ProxyError('Cannot connect to proxy.', ConnectionResetError(54, 'Connection reset by peer')))\n",
      "Error! :  HTTPSConnectionPool(host='gall.dcinside.com', port=443): Max retries exceeded with url: /mgallery/board/lists?id=dnfqq&page=85&list_num=100 (Caused by ProxyError('Cannot connect to proxy.', ConnectionResetError(54, 'Connection reset by peer')))\n",
      "Error! :  HTTPSConnectionPool(host='gall.dcinside.com', port=443): Max retries exceeded with url: /mgallery/board/lists?id=dnfqq&page=85&list_num=100 (Caused by ProxyError('Cannot connect to proxy.', RemoteDisconnected('Remote end closed connection without response')))\n",
      "Error! :  HTTPSConnectionPool(host='gall.dcinside.com', port=443): Max retries exceeded with url: /mgallery/board/lists?id=dnfqq&page=85&list_num=100 (Caused by ProxyError('Cannot connect to proxy.', ConnectionResetError(54, 'Connection reset by peer')))\n",
      "FIND TARGET DATE POST\n",
      "Data CNT :  6892\n",
      "custom_break : False -  2023-05-11 07:41:34\n",
      "Error! :  HTTPSConnectionPool(host='gall.dcinside.com', port=443): Max retries exceeded with url: /mgallery/board/lists?id=dnfqq&page=86&list_num=100 (Caused by ProxyError('Cannot connect to proxy.', ConnectionResetError(54, 'Connection reset by peer')))\n",
      "Error! :  HTTPSConnectionPool(host='gall.dcinside.com', port=443): Max retries exceeded with url: /mgallery/board/lists?id=dnfqq&page=86&list_num=100 (Caused by ProxyError('Cannot connect to proxy.', ConnectionResetError(54, 'Connection reset by peer')))\n",
      "Error! :  HTTPSConnectionPool(host='gall.dcinside.com', port=443): Max retries exceeded with url: /mgallery/board/lists?id=dnfqq&page=86&list_num=100 (Caused by ProxyError('Cannot connect to proxy.', ConnectionResetError(54, 'Connection reset by peer')))\n",
      "Error! :  HTTPSConnectionPool(host='gall.dcinside.com', port=443): Max retries exceeded with url: /mgallery/board/lists?id=dnfqq&page=86&list_num=100 (Caused by ConnectTimeoutError(<urllib3.connection.HTTPSConnection object at 0x7fa3ca24e340>, 'Connection to 70.166.167.55 timed out. (connect timeout=10)'))\n",
      "Error! :  HTTPSConnectionPool(host='gall.dcinside.com', port=443): Max retries exceeded with url: /mgallery/board/lists?id=dnfqq&page=86&list_num=100 (Caused by ProxyError('Cannot connect to proxy.', RemoteDisconnected('Remote end closed connection without response')))\n",
      "Error! :  HTTPSConnectionPool(host='gall.dcinside.com', port=443): Max retries exceeded with url: /mgallery/board/lists?id=dnfqq&page=86&list_num=100 (Caused by ProxyError('Cannot connect to proxy.', ConnectionResetError(54, 'Connection reset by peer')))\n",
      "FIND TARGET DATE POST\n",
      "Data CNT :  6991\n",
      "custom_break : False -  2023-05-11 07:08:05\n",
      "Error! :  HTTPSConnectionPool(host='gall.dcinside.com', port=443): Max retries exceeded with url: /mgallery/board/lists?id=dnfqq&page=87&list_num=100 (Caused by ProxyError('Cannot connect to proxy.', ConnectionResetError(54, 'Connection reset by peer')))\n",
      "Error! :  HTTPSConnectionPool(host='gall.dcinside.com', port=443): Max retries exceeded with url: /mgallery/board/lists?id=dnfqq&page=87&list_num=100 (Caused by ProxyError('Cannot connect to proxy.', ConnectionResetError(54, 'Connection reset by peer')))\n",
      "Error! :  HTTPSConnectionPool(host='gall.dcinside.com', port=443): Max retries exceeded with url: /mgallery/board/lists?id=dnfqq&page=87&list_num=100 (Caused by ProxyError('Cannot connect to proxy.', timeout('timed out')))\n",
      "Error! :  HTTPSConnectionPool(host='gall.dcinside.com', port=443): Max retries exceeded with url: /mgallery/board/lists?id=dnfqq&page=87&list_num=100 (Caused by ProxyError('Cannot connect to proxy.', ConnectionResetError(54, 'Connection reset by peer')))\n",
      "Error! :  HTTPSConnectionPool(host='gall.dcinside.com', port=443): Max retries exceeded with url: /mgallery/board/lists?id=dnfqq&page=87&list_num=100 (Caused by ProxyError('Cannot connect to proxy.', RemoteDisconnected('Remote end closed connection without response')))\n",
      "Error! :  HTTPSConnectionPool(host='gall.dcinside.com', port=443): Max retries exceeded with url: /mgallery/board/lists?id=dnfqq&page=87&list_num=100 (Caused by ProxyError('Cannot connect to proxy.', ConnectionResetError(54, 'Connection reset by peer')))\n",
      "FIND TARGET DATE POST\n",
      "Data CNT :  7091\n",
      "custom_break : False -  2023-05-11 06:09:26\n",
      "Error! :  HTTPSConnectionPool(host='gall.dcinside.com', port=443): Max retries exceeded with url: /mgallery/board/lists?id=dnfqq&page=88&list_num=100 (Caused by ProxyError('Cannot connect to proxy.', ConnectionResetError(54, 'Connection reset by peer')))\n",
      "Error! :  HTTPSConnectionPool(host='gall.dcinside.com', port=443): Max retries exceeded with url: /mgallery/board/lists?id=dnfqq&page=88&list_num=100 (Caused by ProxyError('Cannot connect to proxy.', ConnectionResetError(54, 'Connection reset by peer')))\n",
      "Error! :  HTTPSConnectionPool(host='gall.dcinside.com', port=443): Max retries exceeded with url: /mgallery/board/lists?id=dnfqq&page=88&list_num=100 (Caused by ProxyError('Cannot connect to proxy.', ConnectionResetError(54, 'Connection reset by peer')))\n",
      "Error! :  HTTPSConnectionPool(host='gall.dcinside.com', port=443): Max retries exceeded with url: /mgallery/board/lists?id=dnfqq&page=88&list_num=100 (Caused by ProxyError('Cannot connect to proxy.', ConnectionResetError(54, 'Connection reset by peer')))\n",
      "Error! :  HTTPSConnectionPool(host='gall.dcinside.com', port=443): Max retries exceeded with url: /mgallery/board/lists?id=dnfqq&page=88&list_num=100 (Caused by ProxyError('Cannot connect to proxy.', RemoteDisconnected('Remote end closed connection without response')))\n",
      "Error! :  HTTPSConnectionPool(host='gall.dcinside.com', port=443): Max retries exceeded with url: /mgallery/board/lists?id=dnfqq&page=88&list_num=100 (Caused by ProxyError('Cannot connect to proxy.', ConnectionResetError(54, 'Connection reset by peer')))\n",
      "FIND TARGET DATE POST\n",
      "Data CNT :  7190\n",
      "custom_break : False -  2023-05-11 04:40:49\n",
      "Error! :  HTTPSConnectionPool(host='gall.dcinside.com', port=443): Max retries exceeded with url: /mgallery/board/lists?id=dnfqq&page=89&list_num=100 (Caused by ProxyError('Cannot connect to proxy.', ConnectionResetError(54, 'Connection reset by peer')))\n",
      "Error! :  HTTPSConnectionPool(host='gall.dcinside.com', port=443): Max retries exceeded with url: /mgallery/board/lists?id=dnfqq&page=89&list_num=100 (Caused by ProxyError('Cannot connect to proxy.', ConnectionResetError(54, 'Connection reset by peer')))\n",
      "Error! :  HTTPSConnectionPool(host='gall.dcinside.com', port=443): Max retries exceeded with url: /mgallery/board/lists?id=dnfqq&page=89&list_num=100 (Caused by ProxyError('Cannot connect to proxy.', timeout('timed out')))\n",
      "Error! :  HTTPSConnectionPool(host='gall.dcinside.com', port=443): Max retries exceeded with url: /mgallery/board/lists?id=dnfqq&page=89&list_num=100 (Caused by ProxyError('Cannot connect to proxy.', ConnectionResetError(54, 'Connection reset by peer')))\n",
      "Error! :  HTTPSConnectionPool(host='gall.dcinside.com', port=443): Max retries exceeded with url: /mgallery/board/lists?id=dnfqq&page=89&list_num=100 (Caused by ProxyError('Cannot connect to proxy.', RemoteDisconnected('Remote end closed connection without response')))\n",
      "Error! :  HTTPSConnectionPool(host='gall.dcinside.com', port=443): Max retries exceeded with url: /mgallery/board/lists?id=dnfqq&page=89&list_num=100 (Caused by ProxyError('Cannot connect to proxy.', ConnectionResetError(54, 'Connection reset by peer')))\n"
     ]
    },
    {
     "name": "stdout",
     "output_type": "stream",
     "text": [
      "Error! :  HTTPSConnectionPool(host='gall.dcinside.com', port=443): Read timed out.\n",
      "Error! :  HTTPSConnectionPool(host='gall.dcinside.com', port=443): Max retries exceeded with url: /mgallery/board/lists?id=dnfqq&page=89&list_num=100 (Caused by ProxyError('Cannot connect to proxy.', OSError('Tunnel connection failed: 302 Found')))\n",
      "Error! :  HTTPSConnectionPool(host='gall.dcinside.com', port=443): Max retries exceeded with url: /mgallery/board/lists?id=dnfqq&page=89&list_num=100 (Caused by ConnectTimeoutError(<urllib3.connection.HTTPSConnection object at 0x7fa3c62f11c0>, 'Connection to 185.6.9.159 timed out. (connect timeout=10)'))\n",
      "Error! :  HTTPSConnectionPool(host='gall.dcinside.com', port=443): Max retries exceeded with url: /mgallery/board/lists?id=dnfqq&page=89&list_num=100 (Caused by ProxyError('Cannot connect to proxy.', timeout('timed out')))\n",
      "FIND TARGET DATE POST\n",
      "Data CNT :  7290\n",
      "custom_break : False -  2023-05-11 03:42:08\n",
      "Error! :  HTTPSConnectionPool(host='gall.dcinside.com', port=443): Max retries exceeded with url: /mgallery/board/lists?id=dnfqq&page=90&list_num=100 (Caused by ProxyError('Cannot connect to proxy.', ConnectionResetError(54, 'Connection reset by peer')))\n",
      "Error! :  HTTPSConnectionPool(host='gall.dcinside.com', port=443): Max retries exceeded with url: /mgallery/board/lists?id=dnfqq&page=90&list_num=100 (Caused by ProxyError('Cannot connect to proxy.', ConnectionResetError(54, 'Connection reset by peer')))\n",
      "Error! :  HTTPSConnectionPool(host='gall.dcinside.com', port=443): Max retries exceeded with url: /mgallery/board/lists?id=dnfqq&page=90&list_num=100 (Caused by ProxyError('Cannot connect to proxy.', ConnectionResetError(54, 'Connection reset by peer')))\n",
      "Error! :  HTTPSConnectionPool(host='gall.dcinside.com', port=443): Max retries exceeded with url: /mgallery/board/lists?id=dnfqq&page=90&list_num=100 (Caused by ProxyError('Cannot connect to proxy.', ConnectionResetError(54, 'Connection reset by peer')))\n",
      "Error! :  HTTPSConnectionPool(host='gall.dcinside.com', port=443): Max retries exceeded with url: /mgallery/board/lists?id=dnfqq&page=90&list_num=100 (Caused by ProxyError('Cannot connect to proxy.', RemoteDisconnected('Remote end closed connection without response')))\n",
      "Error! :  HTTPSConnectionPool(host='gall.dcinside.com', port=443): Max retries exceeded with url: /mgallery/board/lists?id=dnfqq&page=90&list_num=100 (Caused by ProxyError('Cannot connect to proxy.', timeout('timed out')))\n",
      "FIND TARGET DATE POST\n",
      "Data CNT :  7390\n",
      "custom_break : False -  2023-05-11 03:22:46\n",
      "Error! :  HTTPSConnectionPool(host='gall.dcinside.com', port=443): Max retries exceeded with url: /mgallery/board/lists?id=dnfqq&page=91&list_num=100 (Caused by ProxyError('Cannot connect to proxy.', ConnectionResetError(54, 'Connection reset by peer')))\n",
      "Error! :  HTTPSConnectionPool(host='gall.dcinside.com', port=443): Max retries exceeded with url: /mgallery/board/lists?id=dnfqq&page=91&list_num=100 (Caused by ProxyError('Cannot connect to proxy.', ConnectionResetError(54, 'Connection reset by peer')))\n",
      "Error! :  HTTPSConnectionPool(host='gall.dcinside.com', port=443): Max retries exceeded with url: /mgallery/board/lists?id=dnfqq&page=91&list_num=100 (Caused by ProxyError('Cannot connect to proxy.', ConnectionResetError(54, 'Connection reset by peer')))\n",
      "Error! :  HTTPSConnectionPool(host='gall.dcinside.com', port=443): Max retries exceeded with url: /mgallery/board/lists?id=dnfqq&page=91&list_num=100 (Caused by ProxyError('Cannot connect to proxy.', ConnectionResetError(54, 'Connection reset by peer')))\n",
      "Error! :  HTTPSConnectionPool(host='gall.dcinside.com', port=443): Max retries exceeded with url: /mgallery/board/lists?id=dnfqq&page=91&list_num=100 (Caused by ProxyError('Cannot connect to proxy.', RemoteDisconnected('Remote end closed connection without response')))\n",
      "Error! :  HTTPSConnectionPool(host='gall.dcinside.com', port=443): Max retries exceeded with url: /mgallery/board/lists?id=dnfqq&page=91&list_num=100 (Caused by ProxyError('Cannot connect to proxy.', timeout('timed out')))\n",
      "Error! :  HTTPSConnectionPool(host='gall.dcinside.com', port=443): Max retries exceeded with url: /mgallery/board/lists?id=dnfqq&page=91&list_num=100 (Caused by ProxyError('Cannot connect to proxy.', timeout('timed out')))\n",
      "Error! :  HTTPSConnectionPool(host='gall.dcinside.com', port=443): Max retries exceeded with url: /mgallery/board/lists?id=dnfqq&page=91&list_num=100 (Caused by ProxyError('Cannot connect to proxy.', OSError('Tunnel connection failed: 302 Found')))\n",
      "Error! :  HTTPSConnectionPool(host='gall.dcinside.com', port=443): Max retries exceeded with url: /mgallery/board/lists?id=dnfqq&page=91&list_num=100 (Caused by ProxyError('Cannot connect to proxy.', timeout('timed out')))\n",
      "Error! :  HTTPSConnectionPool(host='gall.dcinside.com', port=443): Max retries exceeded with url: /mgallery/board/lists?id=dnfqq&page=91&list_num=100 (Caused by ConnectTimeoutError(<urllib3.connection.HTTPSConnection object at 0x7fa3c90a9760>, 'Connection to 196.204.24.251 timed out. (connect timeout=10)'))\n",
      "FIND TARGET DATE POST\n",
      "Data CNT :  7488\n",
      "custom_break : False -  2023-05-11 02:33:11\n",
      "Error! :  HTTPSConnectionPool(host='gall.dcinside.com', port=443): Max retries exceeded with url: /mgallery/board/lists?id=dnfqq&page=92&list_num=100 (Caused by ProxyError('Cannot connect to proxy.', ConnectionResetError(54, 'Connection reset by peer')))\n",
      "Error! :  HTTPSConnectionPool(host='gall.dcinside.com', port=443): Max retries exceeded with url: /mgallery/board/lists?id=dnfqq&page=92&list_num=100 (Caused by ProxyError('Cannot connect to proxy.', ConnectionResetError(54, 'Connection reset by peer')))\n",
      "Error! :  HTTPSConnectionPool(host='gall.dcinside.com', port=443): Max retries exceeded with url: /mgallery/board/lists?id=dnfqq&page=92&list_num=100 (Caused by ProxyError('Cannot connect to proxy.', ConnectionResetError(54, 'Connection reset by peer')))\n",
      "Error! :  HTTPSConnectionPool(host='gall.dcinside.com', port=443): Max retries exceeded with url: /mgallery/board/lists?id=dnfqq&page=92&list_num=100 (Caused by ProxyError('Cannot connect to proxy.', ConnectionResetError(54, 'Connection reset by peer')))\n",
      "Error! :  HTTPSConnectionPool(host='gall.dcinside.com', port=443): Max retries exceeded with url: /mgallery/board/lists?id=dnfqq&page=92&list_num=100 (Caused by ProxyError('Cannot connect to proxy.', RemoteDisconnected('Remote end closed connection without response')))\n",
      "Error! :  HTTPSConnectionPool(host='gall.dcinside.com', port=443): Max retries exceeded with url: /mgallery/board/lists?id=dnfqq&page=92&list_num=100 (Caused by ProxyError('Cannot connect to proxy.', ConnectionResetError(54, 'Connection reset by peer')))\n",
      "Error! :  'NoneType' object is not subscriptable\n",
      "Error! :  HTTPSConnectionPool(host='gall.dcinside.com', port=443): Max retries exceeded with url: /mgallery/board/lists?id=dnfqq&page=92&list_num=100 (Caused by ProxyError('Cannot connect to proxy.', OSError('Tunnel connection failed: 302 Found')))\n",
      "Error! :  ('Connection aborted.', BadStatusLine('\\x00[\\x00\\x00\\x00\\x00\\x00\\x00'))\n",
      "Error! :  HTTPSConnectionPool(host='gall.dcinside.com', port=443): Max retries exceeded with url: /mgallery/board/lists?id=dnfqq&page=92&list_num=100 (Caused by ConnectTimeoutError(<urllib3.connection.HTTPSConnection object at 0x7fa3c7465970>, 'Connection to 196.204.24.251 timed out. (connect timeout=10)'))\n",
      "FIND TARGET DATE POST\n",
      "Data CNT :  7587\n",
      "custom_break : False -  2023-05-11 01:54:06\n",
      "Error! :  HTTPSConnectionPool(host='gall.dcinside.com', port=443): Max retries exceeded with url: /mgallery/board/lists?id=dnfqq&page=93&list_num=100 (Caused by ProxyError('Cannot connect to proxy.', ConnectionResetError(54, 'Connection reset by peer')))\n",
      "Error! :  HTTPSConnectionPool(host='gall.dcinside.com', port=443): Max retries exceeded with url: /mgallery/board/lists?id=dnfqq&page=93&list_num=100 (Caused by ProxyError('Cannot connect to proxy.', ConnectionResetError(54, 'Connection reset by peer')))\n",
      "Error! :  HTTPSConnectionPool(host='gall.dcinside.com', port=443): Max retries exceeded with url: /mgallery/board/lists?id=dnfqq&page=93&list_num=100 (Caused by ProxyError('Cannot connect to proxy.', timeout('timed out')))\n",
      "Error! :  HTTPSConnectionPool(host='gall.dcinside.com', port=443): Max retries exceeded with url: /mgallery/board/lists?id=dnfqq&page=93&list_num=100 (Caused by ProxyError('Cannot connect to proxy.', ConnectionResetError(54, 'Connection reset by peer')))\n"
     ]
    },
    {
     "name": "stdout",
     "output_type": "stream",
     "text": [
      "Error! :  HTTPSConnectionPool(host='gall.dcinside.com', port=443): Max retries exceeded with url: /mgallery/board/lists?id=dnfqq&page=93&list_num=100 (Caused by ProxyError('Cannot connect to proxy.', RemoteDisconnected('Remote end closed connection without response')))\n",
      "Error! :  HTTPSConnectionPool(host='gall.dcinside.com', port=443): Max retries exceeded with url: /mgallery/board/lists?id=dnfqq&page=93&list_num=100 (Caused by ProxyError('Cannot connect to proxy.', ConnectionResetError(54, 'Connection reset by peer')))\n",
      "FIND TARGET DATE POST\n",
      "Data CNT :  7684\n",
      "custom_break : False -  2023-05-11 01:31:01\n",
      "Error! :  HTTPSConnectionPool(host='gall.dcinside.com', port=443): Max retries exceeded with url: /mgallery/board/lists?id=dnfqq&page=94&list_num=100 (Caused by ProxyError('Cannot connect to proxy.', ConnectionResetError(54, 'Connection reset by peer')))\n",
      "Error! :  HTTPSConnectionPool(host='gall.dcinside.com', port=443): Max retries exceeded with url: /mgallery/board/lists?id=dnfqq&page=94&list_num=100 (Caused by ProxyError('Cannot connect to proxy.', ConnectionResetError(54, 'Connection reset by peer')))\n",
      "Error! :  HTTPSConnectionPool(host='gall.dcinside.com', port=443): Max retries exceeded with url: /mgallery/board/lists?id=dnfqq&page=94&list_num=100 (Caused by ProxyError('Cannot connect to proxy.', ConnectionResetError(54, 'Connection reset by peer')))\n",
      "Error! :  HTTPSConnectionPool(host='gall.dcinside.com', port=443): Max retries exceeded with url: /mgallery/board/lists?id=dnfqq&page=94&list_num=100 (Caused by ProxyError('Cannot connect to proxy.', ConnectionResetError(54, 'Connection reset by peer')))\n",
      "Error! :  HTTPSConnectionPool(host='gall.dcinside.com', port=443): Max retries exceeded with url: /mgallery/board/lists?id=dnfqq&page=94&list_num=100 (Caused by ProxyError('Cannot connect to proxy.', RemoteDisconnected('Remote end closed connection without response')))\n",
      "Error! :  HTTPSConnectionPool(host='gall.dcinside.com', port=443): Max retries exceeded with url: /mgallery/board/lists?id=dnfqq&page=94&list_num=100 (Caused by ProxyError('Cannot connect to proxy.', ConnectionResetError(54, 'Connection reset by peer')))\n",
      "FIND TARGET DATE POST\n",
      "Data CNT :  7782\n",
      "custom_break : False -  2023-05-11 00:55:11\n",
      "Error! :  HTTPSConnectionPool(host='gall.dcinside.com', port=443): Max retries exceeded with url: /mgallery/board/lists?id=dnfqq&page=95&list_num=100 (Caused by ProxyError('Cannot connect to proxy.', ConnectionResetError(54, 'Connection reset by peer')))\n",
      "Error! :  HTTPSConnectionPool(host='gall.dcinside.com', port=443): Max retries exceeded with url: /mgallery/board/lists?id=dnfqq&page=95&list_num=100 (Caused by ProxyError('Cannot connect to proxy.', ConnectionResetError(54, 'Connection reset by peer')))\n",
      "Error! :  HTTPSConnectionPool(host='gall.dcinside.com', port=443): Max retries exceeded with url: /mgallery/board/lists?id=dnfqq&page=95&list_num=100 (Caused by ProxyError('Cannot connect to proxy.', timeout('timed out')))\n",
      "Error! :  HTTPSConnectionPool(host='gall.dcinside.com', port=443): Max retries exceeded with url: /mgallery/board/lists?id=dnfqq&page=95&list_num=100 (Caused by ProxyError('Cannot connect to proxy.', ConnectionResetError(54, 'Connection reset by peer')))\n",
      "Error! :  HTTPSConnectionPool(host='gall.dcinside.com', port=443): Max retries exceeded with url: /mgallery/board/lists?id=dnfqq&page=95&list_num=100 (Caused by ProxyError('Cannot connect to proxy.', RemoteDisconnected('Remote end closed connection without response')))\n",
      "Error! :  HTTPSConnectionPool(host='gall.dcinside.com', port=443): Max retries exceeded with url: /mgallery/board/lists?id=dnfqq&page=95&list_num=100 (Caused by ProxyError('Cannot connect to proxy.', timeout('timed out')))\n",
      "FIND TARGET DATE POST\n",
      "Data CNT :  7882\n",
      "custom_break : False -  2023-05-11 00:31:28\n",
      "Error! :  HTTPSConnectionPool(host='gall.dcinside.com', port=443): Max retries exceeded with url: /mgallery/board/lists?id=dnfqq&page=96&list_num=100 (Caused by ProxyError('Cannot connect to proxy.', ConnectionResetError(54, 'Connection reset by peer')))\n",
      "Error! :  HTTPSConnectionPool(host='gall.dcinside.com', port=443): Max retries exceeded with url: /mgallery/board/lists?id=dnfqq&page=96&list_num=100 (Caused by ProxyError('Cannot connect to proxy.', ConnectionResetError(54, 'Connection reset by peer')))\n",
      "Error! :  HTTPSConnectionPool(host='gall.dcinside.com', port=443): Max retries exceeded with url: /mgallery/board/lists?id=dnfqq&page=96&list_num=100 (Caused by ProxyError('Cannot connect to proxy.', ConnectionResetError(54, 'Connection reset by peer')))\n",
      "Error! :  HTTPSConnectionPool(host='gall.dcinside.com', port=443): Max retries exceeded with url: /mgallery/board/lists?id=dnfqq&page=96&list_num=100 (Caused by ProxyError('Cannot connect to proxy.', ConnectionResetError(54, 'Connection reset by peer')))\n",
      "Error! :  HTTPSConnectionPool(host='gall.dcinside.com', port=443): Max retries exceeded with url: /mgallery/board/lists?id=dnfqq&page=96&list_num=100 (Caused by ProxyError('Cannot connect to proxy.', RemoteDisconnected('Remote end closed connection without response')))\n",
      "Error! :  HTTPSConnectionPool(host='gall.dcinside.com', port=443): Max retries exceeded with url: /mgallery/board/lists?id=dnfqq&page=96&list_num=100 (Caused by ProxyError('Cannot connect to proxy.', ConnectionResetError(54, 'Connection reset by peer')))\n",
      "FIND TARGET DATE POST\n",
      "Data CNT :  7979\n",
      "custom_break : False -  2023-05-11 00:05:33\n",
      "Error! :  HTTPSConnectionPool(host='gall.dcinside.com', port=443): Max retries exceeded with url: /mgallery/board/lists?id=dnfqq&page=97&list_num=100 (Caused by ProxyError('Cannot connect to proxy.', ConnectionResetError(54, 'Connection reset by peer')))\n",
      "Error! :  HTTPSConnectionPool(host='gall.dcinside.com', port=443): Max retries exceeded with url: /mgallery/board/lists?id=dnfqq&page=97&list_num=100 (Caused by ProxyError('Cannot connect to proxy.', ConnectionResetError(54, 'Connection reset by peer')))\n",
      "Error! :  HTTPSConnectionPool(host='gall.dcinside.com', port=443): Max retries exceeded with url: /mgallery/board/lists?id=dnfqq&page=97&list_num=100 (Caused by ProxyError('Cannot connect to proxy.', ConnectionResetError(54, 'Connection reset by peer')))\n",
      "Error! :  HTTPSConnectionPool(host='gall.dcinside.com', port=443): Max retries exceeded with url: /mgallery/board/lists?id=dnfqq&page=97&list_num=100 (Caused by ProxyError('Cannot connect to proxy.', ConnectionResetError(54, 'Connection reset by peer')))\n",
      "Error! :  HTTPSConnectionPool(host='gall.dcinside.com', port=443): Max retries exceeded with url: /mgallery/board/lists?id=dnfqq&page=97&list_num=100 (Caused by ProxyError('Cannot connect to proxy.', RemoteDisconnected('Remote end closed connection without response')))\n",
      "Error! :  HTTPSConnectionPool(host='gall.dcinside.com', port=443): Max retries exceeded with url: /mgallery/board/lists?id=dnfqq&page=97&list_num=100 (Caused by ProxyError('Cannot connect to proxy.', ConnectionResetError(54, 'Connection reset by peer')))\n",
      "Error! :  HTTPSConnectionPool(host='gall.dcinside.com', port=443): Max retries exceeded with url: /mgallery/board/lists?id=dnfqq&page=97&list_num=100 (Caused by ProxyError('Cannot connect to proxy.', ConnectionResetError(54, 'Connection reset by peer')))\n",
      "Error! :  HTTPSConnectionPool(host='gall.dcinside.com', port=443): Max retries exceeded with url: /mgallery/board/lists?id=dnfqq&page=97&list_num=100 (Caused by ProxyError('Cannot connect to proxy.', OSError('Tunnel connection failed: 302 Found')))\n",
      "Error! :  ('Connection aborted.', BadStatusLine('\\x00[\\x00\\x00\\x00\\x00\\x00\\x00'))\n",
      "Error! :  HTTPSConnectionPool(host='gall.dcinside.com', port=443): Max retries exceeded with url: /mgallery/board/lists?id=dnfqq&page=97&list_num=100 (Caused by ProxyError('Cannot connect to proxy.', timeout('timed out')))\n",
      "Find all Will Breaking Roup..\n",
      "Break post Date : 2023-05-10 23:59:56\n",
      "97\n",
      "Frist Crawling\n"
     ]
    }
   ],
   "source": [
    "# 검색할때 설정해줘야할 것들\n",
    "path = './data/gimagall'\n",
    "\n",
    "df = load_data(path)\n",
    "\n",
    "\n",
    "if not len(df):\n",
    "    is_concat = False\n",
    "else:\n",
    "    is_concat = True\n",
    "\n",
    "# dc_id = \"dnfqq\"\n",
    "\n",
    "if len(df) == 0:\n",
    "    y_day = datetime.today() - timedelta(days=1)\n",
    "    y_day_string = str(y_day.year) + \"-\" + str(y_day.month) + \"-\" + str(y_day.day)\n",
    "    last_timestamp = pd.to_datetime(y_day_string)\n",
    "else:\n",
    "    last_timestamp = pd.to_datetime(df.sort_values('timestamp', ascending=False)['timestamp'].iloc[0])\n",
    "\n",
    "print(last_timestamp)\n",
    "\n",
    "article = article_parse(last_timestamp)\n",
    "\n",
    "if is_concat:\n",
    "    print('Concat New Post')\n",
    "    df = pd.concat([pd.DataFrame(article), df])\n",
    "else:\n",
    "    print('Frist Crawling')\n",
    "    df = pd.DataFrame(article)\n",
    "\n",
    "save_daily_data(df, path)"
   ]
  },
  {
   "cell_type": "code",
   "execution_count": 10,
   "id": "d22e0fe2",
   "metadata": {},
   "outputs": [
    {
     "name": "stdout",
     "output_type": "stream",
     "text": [
      "230511\n",
      "./data/gimagall_230511.csv\n",
      "File exist Load FIN!!\n"
     ]
    }
   ],
   "source": [
    "# 불러오기\n",
    "path = './data/gimagall'\n",
    "load_date = '230511'\n",
    "df = load_data(path, load_date)"
   ]
  },
  {
   "cell_type": "code",
   "execution_count": 15,
   "id": "e74eac60",
   "metadata": {},
   "outputs": [],
   "source": [
    "df['link'] = df['link'].str.replace('.com//', '.com/')"
   ]
  },
  {
   "cell_type": "code",
   "execution_count": 26,
   "id": "fa1bfd6e",
   "metadata": {},
   "outputs": [
    {
     "data": {
      "text/html": [
       "<div>\n",
       "<style scoped>\n",
       "    .dataframe tbody tr th:only-of-type {\n",
       "        vertical-align: middle;\n",
       "    }\n",
       "\n",
       "    .dataframe tbody tr th {\n",
       "        vertical-align: top;\n",
       "    }\n",
       "\n",
       "    .dataframe thead th {\n",
       "        text-align: right;\n",
       "    }\n",
       "</style>\n",
       "<table border=\"1\" class=\"dataframe\">\n",
       "  <thead>\n",
       "    <tr style=\"text-align: right;\">\n",
       "      <th></th>\n",
       "      <th>num</th>\n",
       "      <th>title</th>\n",
       "      <th>content</th>\n",
       "      <th>reply</th>\n",
       "      <th>refresh</th>\n",
       "      <th>recommand</th>\n",
       "      <th>timestamp</th>\n",
       "      <th>link</th>\n",
       "    </tr>\n",
       "  </thead>\n",
       "  <tbody>\n",
       "    <tr>\n",
       "      <th>137</th>\n",
       "      <td>6333509</td>\n",
       "      <td>서버 악깡버로 안닫네 진짜</td>\n",
       "      <td></td>\n",
       "      <td>NaN</td>\n",
       "      <td>41</td>\n",
       "      <td>0</td>\n",
       "      <td>2023-05-11 23:39:14</td>\n",
       "      <td>https://gall.dcinside.com/mgallery/board/view/...</td>\n",
       "    </tr>\n",
       "    <tr>\n",
       "      <th>697</th>\n",
       "      <td>6332904</td>\n",
       "      <td>모로스 초월 피통 404억 맞음?</td>\n",
       "      <td></td>\n",
       "      <td>[4]</td>\n",
       "      <td>110</td>\n",
       "      <td>0</td>\n",
       "      <td>2023-05-11 22:06:34</td>\n",
       "      <td>https://gall.dcinside.com/mgallery/board/view/...</td>\n",
       "    </tr>\n",
       "    <tr>\n",
       "      <th>851</th>\n",
       "      <td>6332738</td>\n",
       "      <td>아까 회랑에서 존나 억울한일 있었음</td>\n",
       "      <td></td>\n",
       "      <td>NaN</td>\n",
       "      <td>99</td>\n",
       "      <td>0</td>\n",
       "      <td>2023-05-11 21:38:07</td>\n",
       "      <td>https://gall.dcinside.com/mgallery/board/view/...</td>\n",
       "    </tr>\n",
       "    <tr>\n",
       "      <th>1097</th>\n",
       "      <td>6332478</td>\n",
       "      <td>4유효 딥다귀 떴냐?</td>\n",
       "      <td></td>\n",
       "      <td>[10]</td>\n",
       "      <td>197</td>\n",
       "      <td>2</td>\n",
       "      <td>2023-05-11 21:02:28</td>\n",
       "      <td>https://gall.dcinside.com/mgallery/board/view/...</td>\n",
       "    </tr>\n",
       "    <tr>\n",
       "      <th>1112</th>\n",
       "      <td>6332461</td>\n",
       "      <td>나만 레기온 던전 이상한거냐?</td>\n",
       "      <td></td>\n",
       "      <td>NaN</td>\n",
       "      <td>41</td>\n",
       "      <td>0</td>\n",
       "      <td>2023-05-11 21:00:55</td>\n",
       "      <td>https://gall.dcinside.com/mgallery/board/view/...</td>\n",
       "    </tr>\n",
       "    <tr>\n",
       "      <th>...</th>\n",
       "      <td>...</td>\n",
       "      <td>...</td>\n",
       "      <td>...</td>\n",
       "      <td>...</td>\n",
       "      <td>...</td>\n",
       "      <td>...</td>\n",
       "      <td>...</td>\n",
       "      <td>...</td>\n",
       "    </tr>\n",
       "    <tr>\n",
       "      <th>8002</th>\n",
       "      <td>6325194</td>\n",
       "      <td>블레랑 검제 자강두천 아니냐</td>\n",
       "      <td></td>\n",
       "      <td>[1]</td>\n",
       "      <td>88</td>\n",
       "      <td>0</td>\n",
       "      <td>2023-05-11 00:00:58</td>\n",
       "      <td>https://gall.dcinside.com/mgallery/board/view/...</td>\n",
       "    </tr>\n",
       "    <tr>\n",
       "      <th>8003</th>\n",
       "      <td>6325193</td>\n",
       "      <td>휘장팔까말까 존나 고민됨</td>\n",
       "      <td></td>\n",
       "      <td>NaN</td>\n",
       "      <td>49</td>\n",
       "      <td>0</td>\n",
       "      <td>2023-05-11 00:00:42</td>\n",
       "      <td>https://gall.dcinside.com/mgallery/board/view/...</td>\n",
       "    </tr>\n",
       "    <tr>\n",
       "      <th>8004</th>\n",
       "      <td>6325192</td>\n",
       "      <td>내일 바로 레어휘장 vs 커먼+젬커먼4개</td>\n",
       "      <td></td>\n",
       "      <td>NaN</td>\n",
       "      <td>54</td>\n",
       "      <td>0</td>\n",
       "      <td>2023-05-11 00:00:32</td>\n",
       "      <td>https://gall.dcinside.com/mgallery/board/view/...</td>\n",
       "    </tr>\n",
       "    <tr>\n",
       "      <th>8005</th>\n",
       "      <td>6325191</td>\n",
       "      <td>이거 형상 팔면 사냐</td>\n",
       "      <td></td>\n",
       "      <td>[1]</td>\n",
       "      <td>126</td>\n",
       "      <td>0</td>\n",
       "      <td>2023-05-11 00:00:29</td>\n",
       "      <td>https://gall.dcinside.com/mgallery/board/view/...</td>\n",
       "    </tr>\n",
       "    <tr>\n",
       "      <th>8006</th>\n",
       "      <td>6325190</td>\n",
       "      <td>휘장이 어쩌구 시끄러운데 내 휘장 어떻게되는거야?</td>\n",
       "      <td></td>\n",
       "      <td>[1]</td>\n",
       "      <td>106</td>\n",
       "      <td>0</td>\n",
       "      <td>2023-05-11 00:00:04</td>\n",
       "      <td>https://gall.dcinside.com/mgallery/board/view/...</td>\n",
       "    </tr>\n",
       "  </tbody>\n",
       "</table>\n",
       "<p>6899 rows × 8 columns</p>\n",
       "</div>"
      ],
      "text/plain": [
       "          num                        title content reply  refresh  recommand  \\\n",
       "137   6333509               서버 악깡버로 안닫네 진짜           NaN       41          0   \n",
       "697   6332904           모로스 초월 피통 404억 맞음?           [4]      110          0   \n",
       "851   6332738          아까 회랑에서 존나 억울한일 있었음           NaN       99          0   \n",
       "1097  6332478                  4유효 딥다귀 떴냐?          [10]      197          2   \n",
       "1112  6332461             나만 레기온 던전 이상한거냐?           NaN       41          0   \n",
       "...       ...                          ...     ...   ...      ...        ...   \n",
       "8002  6325194              블레랑 검제 자강두천 아니냐           [1]       88          0   \n",
       "8003  6325193                휘장팔까말까 존나 고민됨           NaN       49          0   \n",
       "8004  6325192       내일 바로 레어휘장 vs 커먼+젬커먼4개           NaN       54          0   \n",
       "8005  6325191                  이거 형상 팔면 사냐           [1]      126          0   \n",
       "8006  6325190  휘장이 어쩌구 시끄러운데 내 휘장 어떻게되는거야?           [1]      106          0   \n",
       "\n",
       "                timestamp                                               link  \n",
       "137   2023-05-11 23:39:14  https://gall.dcinside.com/mgallery/board/view/...  \n",
       "697   2023-05-11 22:06:34  https://gall.dcinside.com/mgallery/board/view/...  \n",
       "851   2023-05-11 21:38:07  https://gall.dcinside.com/mgallery/board/view/...  \n",
       "1097  2023-05-11 21:02:28  https://gall.dcinside.com/mgallery/board/view/...  \n",
       "1112  2023-05-11 21:00:55  https://gall.dcinside.com/mgallery/board/view/...  \n",
       "...                   ...                                                ...  \n",
       "8002  2023-05-11 00:00:58  https://gall.dcinside.com/mgallery/board/view/...  \n",
       "8003  2023-05-11 00:00:42  https://gall.dcinside.com/mgallery/board/view/...  \n",
       "8004  2023-05-11 00:00:32  https://gall.dcinside.com/mgallery/board/view/...  \n",
       "8005  2023-05-11 00:00:29  https://gall.dcinside.com/mgallery/board/view/...  \n",
       "8006  2023-05-11 00:00:04  https://gall.dcinside.com/mgallery/board/view/...  \n",
       "\n",
       "[6899 rows x 8 columns]"
      ]
     },
     "execution_count": 26,
     "metadata": {},
     "output_type": "execute_result"
    }
   ],
   "source": [
    "df[df['content'] == '']"
   ]
  },
  {
   "cell_type": "code",
   "execution_count": 139,
   "id": "8ec655ed",
   "metadata": {},
   "outputs": [],
   "source": [
    "df = df.sort_values('timestamp').reset_index()"
   ]
  },
  {
   "cell_type": "code",
   "execution_count": 143,
   "id": "dea0ae78",
   "metadata": {},
   "outputs": [],
   "source": [
    "df = df[df['timestamp'] < '2023-05-12 00:00:00']"
   ]
  },
  {
   "cell_type": "code",
   "execution_count": null,
   "id": "b02f82e0",
   "metadata": {
    "scrolled": true
   },
   "outputs": [
    {
     "name": "stderr",
     "output_type": "stream",
     "text": [
      "\r",
      "0it [00:00, ?it/s]"
     ]
    },
    {
     "name": "stdout",
     "output_type": "stream",
     "text": [
      "SEARCHING Iloc :  137\n",
      "0\n"
     ]
    },
    {
     "name": "stderr",
     "output_type": "stream",
     "text": [
      "\r",
      "138it [00:03, 39.48it/s]"
     ]
    },
    {
     "name": "stdout",
     "output_type": "stream",
     "text": [
      "Find Content!\n",
      "SEARCHING Iloc :  697\n",
      "0\n"
     ]
    },
    {
     "name": "stderr",
     "output_type": "stream",
     "text": [
      "\r",
      "698it [00:06, 119.01it/s]"
     ]
    },
    {
     "name": "stdout",
     "output_type": "stream",
     "text": [
      "Find Content!\n",
      "SEARCHING Iloc :  851\n",
      "0\n"
     ]
    },
    {
     "name": "stderr",
     "output_type": "stream",
     "text": [
      "\r",
      "852it [00:09, 92.16it/s] "
     ]
    },
    {
     "name": "stdout",
     "output_type": "stream",
     "text": [
      "Find Content!\n",
      "SEARCHING Iloc :  1097\n",
      "0\n"
     ]
    },
    {
     "name": "stderr",
     "output_type": "stream",
     "text": [
      "\r",
      "1098it [00:11, 93.16it/s]"
     ]
    },
    {
     "name": "stdout",
     "output_type": "stream",
     "text": [
      "Find Content!\n",
      "SEARCHING Iloc :  1112\n",
      "0\n",
      "Find Content!\n"
     ]
    },
    {
     "name": "stderr",
     "output_type": "stream",
     "text": [
      "\r",
      "1113it [00:16, 51.42it/s]"
     ]
    },
    {
     "name": "stdout",
     "output_type": "stream",
     "text": [
      "SEARCHING Iloc :  1113\n",
      "0\n",
      "Find Content!\n",
      "SEARCHING Iloc :  1114\n",
      "0\n",
      "Find Content!\n",
      "SEARCHING Iloc :  1115\n",
      "0\n",
      "Find Content!\n",
      "SEARCHING Iloc :  1116\n",
      "0\n"
     ]
    },
    {
     "name": "stderr",
     "output_type": "stream",
     "text": [
      "\r",
      "1113it [00:30, 51.42it/s]"
     ]
    },
    {
     "name": "stdout",
     "output_type": "stream",
     "text": [
      "Find Content!\n"
     ]
    },
    {
     "name": "stderr",
     "output_type": "stream",
     "text": [
      "\r",
      "1117it [00:35, 13.66it/s]"
     ]
    },
    {
     "name": "stdout",
     "output_type": "stream",
     "text": [
      "SEARCHING Iloc :  1117\n",
      "0\n"
     ]
    },
    {
     "name": "stderr",
     "output_type": "stream",
     "text": [
      "\r",
      "1118it [00:39, 10.94it/s]"
     ]
    },
    {
     "name": "stdout",
     "output_type": "stream",
     "text": [
      "Find Content!\n",
      "SEARCHING Iloc :  1118\n",
      "0\n",
      "Find Content!\n",
      "SEARCHING Iloc :  1119\n",
      "0\n",
      "Find Content!\n",
      "SEARCHING Iloc :  1120\n",
      "0\n"
     ]
    },
    {
     "name": "stderr",
     "output_type": "stream",
     "text": [
      "\r",
      "1118it [00:50, 10.94it/s]"
     ]
    },
    {
     "name": "stdout",
     "output_type": "stream",
     "text": [
      "Find Content!\n"
     ]
    },
    {
     "name": "stderr",
     "output_type": "stream",
     "text": [
      "\r",
      "1121it [00:50,  6.49it/s]"
     ]
    },
    {
     "name": "stdout",
     "output_type": "stream",
     "text": [
      "SEARCHING Iloc :  1121\n",
      "0\n"
     ]
    },
    {
     "name": "stderr",
     "output_type": "stream",
     "text": [
      "\r",
      "1122it [00:54,  5.38it/s]"
     ]
    },
    {
     "name": "stdout",
     "output_type": "stream",
     "text": [
      "Find Content!\n",
      "SEARCHING Iloc :  1122\n",
      "0\n",
      "Find Content!\n",
      "SEARCHING Iloc :  1123\n",
      "0\n",
      "Find Content!\n",
      "SEARCHING Iloc :  1124\n",
      "0\n"
     ]
    },
    {
     "name": "stderr",
     "output_type": "stream",
     "text": [
      "\r",
      "1125it [01:08,  2.95it/s]"
     ]
    },
    {
     "name": "stdout",
     "output_type": "stream",
     "text": [
      "Find Content!\n",
      "SEARCHING Iloc :  1125\n",
      "0\n"
     ]
    },
    {
     "name": "stderr",
     "output_type": "stream",
     "text": [
      "\r",
      "1126it [01:13,  2.46it/s]"
     ]
    },
    {
     "name": "stdout",
     "output_type": "stream",
     "text": [
      "Find Content!\n",
      "SEARCHING Iloc :  1126\n",
      "0\n",
      "Find Content!\n",
      "SEARCHING Iloc :  1127\n",
      "0\n",
      "Find Content!\n"
     ]
    },
    {
     "name": "stderr",
     "output_type": "stream",
     "text": [
      "\r",
      "1128it [01:22,  1.73it/s]"
     ]
    },
    {
     "name": "stdout",
     "output_type": "stream",
     "text": [
      "SEARCHING Iloc :  1128\n",
      "0\n",
      "Find Content!\n",
      "SEARCHING Iloc :  1129\n",
      "0\n"
     ]
    },
    {
     "name": "stderr",
     "output_type": "stream",
     "text": [
      "\r",
      "1130it [01:30,  1.28it/s]"
     ]
    },
    {
     "name": "stdout",
     "output_type": "stream",
     "text": [
      "Find Content!\n",
      "SEARCHING Iloc :  1130\n",
      "0\n"
     ]
    },
    {
     "name": "stderr",
     "output_type": "stream",
     "text": [
      "\r",
      "1131it [01:34,  1.10it/s]"
     ]
    },
    {
     "name": "stdout",
     "output_type": "stream",
     "text": [
      "Find Content!\n",
      "SEARCHING Iloc :  1131\n",
      "0\n",
      "Find Content!\n"
     ]
    },
    {
     "name": "stderr",
     "output_type": "stream",
     "text": [
      "\r",
      "1132it [01:38,  1.07s/it]"
     ]
    },
    {
     "name": "stdout",
     "output_type": "stream",
     "text": [
      "SEARCHING Iloc :  1132\n",
      "0\n"
     ]
    },
    {
     "name": "stderr",
     "output_type": "stream",
     "text": [
      "\r",
      "1133it [01:41,  1.27s/it]"
     ]
    },
    {
     "name": "stdout",
     "output_type": "stream",
     "text": [
      "Find Content!\n",
      "SEARCHING Iloc :  1133\n",
      "0\n"
     ]
    },
    {
     "name": "stderr",
     "output_type": "stream",
     "text": [
      "\r",
      "1134it [01:46,  1.58s/it]"
     ]
    },
    {
     "name": "stdout",
     "output_type": "stream",
     "text": [
      "Find Content!\n",
      "SEARCHING Iloc :  1134\n",
      "0\n"
     ]
    },
    {
     "name": "stderr",
     "output_type": "stream",
     "text": [
      "\r",
      "1135it [01:50,  1.87s/it]"
     ]
    },
    {
     "name": "stdout",
     "output_type": "stream",
     "text": [
      "Find Content!\n",
      "SEARCHING Iloc :  1135\n",
      "0\n",
      "Find Content!\n"
     ]
    },
    {
     "name": "stderr",
     "output_type": "stream",
     "text": [
      "\r",
      "1136it [01:54,  2.14s/it]"
     ]
    },
    {
     "name": "stdout",
     "output_type": "stream",
     "text": [
      "SEARCHING Iloc :  1136\n",
      "0\n"
     ]
    },
    {
     "name": "stderr",
     "output_type": "stream",
     "text": [
      "\r",
      "1137it [01:58,  2.41s/it]"
     ]
    },
    {
     "name": "stdout",
     "output_type": "stream",
     "text": [
      "Find Content!\n",
      "SEARCHING Iloc :  1137\n",
      "0\n"
     ]
    },
    {
     "name": "stderr",
     "output_type": "stream",
     "text": [
      "\r",
      "1138it [02:02,  2.89s/it]"
     ]
    },
    {
     "name": "stdout",
     "output_type": "stream",
     "text": [
      "Find Content!\n",
      "SEARCHING Iloc :  1138\n",
      "0\n"
     ]
    },
    {
     "name": "stderr",
     "output_type": "stream",
     "text": [
      "\r",
      "1139it [02:06,  3.09s/it]"
     ]
    },
    {
     "name": "stdout",
     "output_type": "stream",
     "text": [
      "Find Content!\n",
      "SEARCHING Iloc :  1139\n",
      "0\n",
      "Find Content!\n"
     ]
    },
    {
     "name": "stderr",
     "output_type": "stream",
     "text": [
      "\r",
      "1140it [02:10,  3.28s/it]"
     ]
    },
    {
     "name": "stdout",
     "output_type": "stream",
     "text": [
      "SEARCHING Iloc :  1140\n",
      "0\n",
      "Find Content!\n"
     ]
    },
    {
     "name": "stderr",
     "output_type": "stream",
     "text": [
      "\r",
      "1141it [02:15,  3.75s/it]"
     ]
    },
    {
     "name": "stdout",
     "output_type": "stream",
     "text": [
      "SEARCHING Iloc :  1141\n",
      "0\n"
     ]
    },
    {
     "name": "stderr",
     "output_type": "stream",
     "text": [
      "\r",
      "1142it [02:19,  3.69s/it]"
     ]
    },
    {
     "name": "stdout",
     "output_type": "stream",
     "text": [
      "Find Content!\n",
      "SEARCHING Iloc :  1142\n",
      "0\n",
      "Find Content!\n"
     ]
    },
    {
     "name": "stderr",
     "output_type": "stream",
     "text": [
      "\r",
      "1143it [02:23,  3.83s/it]"
     ]
    },
    {
     "name": "stdout",
     "output_type": "stream",
     "text": [
      "SEARCHING Iloc :  1143\n",
      "0\n"
     ]
    },
    {
     "name": "stderr",
     "output_type": "stream",
     "text": [
      "\r",
      "1144it [02:28,  4.27s/it]"
     ]
    },
    {
     "name": "stdout",
     "output_type": "stream",
     "text": [
      "Find Content!\n",
      "SEARCHING Iloc :  1144\n",
      "0\n"
     ]
    },
    {
     "name": "stderr",
     "output_type": "stream",
     "text": [
      "\r",
      "1145it [02:33,  4.27s/it]"
     ]
    },
    {
     "name": "stdout",
     "output_type": "stream",
     "text": [
      "Find Content!\n",
      "SEARCHING Iloc :  1145\n",
      "0\n"
     ]
    },
    {
     "name": "stderr",
     "output_type": "stream",
     "text": [
      "\r",
      "1146it [02:37,  4.21s/it]"
     ]
    },
    {
     "name": "stdout",
     "output_type": "stream",
     "text": [
      "Find Content!\n",
      "SEARCHING Iloc :  1146\n",
      "0\n",
      "Find Content!\n"
     ]
    },
    {
     "name": "stderr",
     "output_type": "stream",
     "text": [
      "\r",
      "1147it [02:41,  4.10s/it]"
     ]
    },
    {
     "name": "stdout",
     "output_type": "stream",
     "text": [
      "SEARCHING Iloc :  1147\n",
      "0\n"
     ]
    },
    {
     "name": "stderr",
     "output_type": "stream",
     "text": [
      "\r",
      "1148it [02:45,  4.20s/it]"
     ]
    },
    {
     "name": "stdout",
     "output_type": "stream",
     "text": [
      "Find Content!\n",
      "SEARCHING Iloc :  1148\n",
      "0\n"
     ]
    },
    {
     "name": "stderr",
     "output_type": "stream",
     "text": [
      "\r",
      "1149it [02:50,  4.31s/it]"
     ]
    },
    {
     "name": "stdout",
     "output_type": "stream",
     "text": [
      "Find Content!\n",
      "SEARCHING Iloc :  1149\n",
      "0\n"
     ]
    },
    {
     "name": "stderr",
     "output_type": "stream",
     "text": [
      "\r",
      "1150it [02:54,  4.42s/it]"
     ]
    },
    {
     "name": "stdout",
     "output_type": "stream",
     "text": [
      "Find Content!\n",
      "SEARCHING Iloc :  1150\n",
      "0\n",
      "Find Content!\n"
     ]
    },
    {
     "name": "stderr",
     "output_type": "stream",
     "text": [
      "\r",
      "1151it [02:58,  4.33s/it]"
     ]
    },
    {
     "name": "stdout",
     "output_type": "stream",
     "text": [
      "SEARCHING Iloc :  1151\n",
      "0\n"
     ]
    },
    {
     "name": "stderr",
     "output_type": "stream",
     "text": [
      "\r",
      "1152it [03:03,  4.30s/it]"
     ]
    },
    {
     "name": "stdout",
     "output_type": "stream",
     "text": [
      "Find Content!\n",
      "SEARCHING Iloc :  1152\n",
      "0\n",
      "Find Content!\n"
     ]
    },
    {
     "name": "stderr",
     "output_type": "stream",
     "text": [
      "\r",
      "1153it [03:07,  4.42s/it]"
     ]
    },
    {
     "name": "stdout",
     "output_type": "stream",
     "text": [
      "SEARCHING Iloc :  1153\n",
      "0\n"
     ]
    },
    {
     "name": "stderr",
     "output_type": "stream",
     "text": [
      "\r",
      "1154it [03:13,  4.74s/it]"
     ]
    },
    {
     "name": "stdout",
     "output_type": "stream",
     "text": [
      "Find Content!\n",
      "SEARCHING Iloc :  1154\n",
      "0\n",
      "Find Content!\n"
     ]
    },
    {
     "name": "stderr",
     "output_type": "stream",
     "text": [
      "\r",
      "1155it [03:16,  4.41s/it]"
     ]
    },
    {
     "name": "stdout",
     "output_type": "stream",
     "text": [
      "SEARCHING Iloc :  1155\n",
      "0\n",
      "Find Content!\n"
     ]
    },
    {
     "name": "stderr",
     "output_type": "stream",
     "text": [
      "\r",
      "1156it [03:20,  4.06s/it]"
     ]
    },
    {
     "name": "stdout",
     "output_type": "stream",
     "text": [
      "SEARCHING Iloc :  1156\n",
      "0\n",
      "Find Content!\n"
     ]
    },
    {
     "name": "stderr",
     "output_type": "stream",
     "text": [
      "\r",
      "1157it [03:24,  4.04s/it]"
     ]
    },
    {
     "name": "stdout",
     "output_type": "stream",
     "text": [
      "SEARCHING Iloc :  1157\n",
      "0\n"
     ]
    },
    {
     "name": "stderr",
     "output_type": "stream",
     "text": [
      "\r",
      "1158it [03:27,  3.90s/it]"
     ]
    },
    {
     "name": "stdout",
     "output_type": "stream",
     "text": [
      "Find Content!\n",
      "SEARCHING Iloc :  1158\n",
      "0\n",
      "Find Content!\n"
     ]
    },
    {
     "name": "stderr",
     "output_type": "stream",
     "text": [
      "\r",
      "1159it [03:31,  3.87s/it]"
     ]
    },
    {
     "name": "stdout",
     "output_type": "stream",
     "text": [
      "SEARCHING Iloc :  1159\n",
      "0\n"
     ]
    },
    {
     "name": "stderr",
     "output_type": "stream",
     "text": [
      "\r",
      "1160it [03:35,  3.80s/it]"
     ]
    },
    {
     "name": "stdout",
     "output_type": "stream",
     "text": [
      "Find Content!\n",
      "SEARCHING Iloc :  1160\n",
      "0\n"
     ]
    },
    {
     "name": "stderr",
     "output_type": "stream",
     "text": [
      "\r",
      "1161it [03:38,  3.76s/it]"
     ]
    },
    {
     "name": "stdout",
     "output_type": "stream",
     "text": [
      "Find Content!\n",
      "SEARCHING Iloc :  1161\n",
      "0\n"
     ]
    },
    {
     "name": "stderr",
     "output_type": "stream",
     "text": [
      "\r",
      "1162it [03:42,  3.59s/it]"
     ]
    },
    {
     "name": "stdout",
     "output_type": "stream",
     "text": [
      "Find Content!\n",
      "SEARCHING Iloc :  1162\n",
      "0\n",
      "Find Content!\n"
     ]
    },
    {
     "name": "stderr",
     "output_type": "stream",
     "text": [
      "\r",
      "1163it [03:45,  3.64s/it]"
     ]
    },
    {
     "name": "stdout",
     "output_type": "stream",
     "text": [
      "SEARCHING Iloc :  1163\n",
      "0\n"
     ]
    },
    {
     "name": "stderr",
     "output_type": "stream",
     "text": [
      "\r",
      "1164it [03:48,  3.50s/it]"
     ]
    },
    {
     "name": "stdout",
     "output_type": "stream",
     "text": [
      "Find Content!\n",
      "SEARCHING Iloc :  1164\n",
      "0\n"
     ]
    },
    {
     "name": "stderr",
     "output_type": "stream",
     "text": [
      "\r",
      "1165it [03:52,  3.41s/it]"
     ]
    },
    {
     "name": "stdout",
     "output_type": "stream",
     "text": [
      "Find Content!\n",
      "SEARCHING Iloc :  1165\n",
      "0\n",
      "Find Content!\n"
     ]
    },
    {
     "name": "stderr",
     "output_type": "stream",
     "text": [
      "\r",
      "1166it [03:55,  3.53s/it]"
     ]
    },
    {
     "name": "stdout",
     "output_type": "stream",
     "text": [
      "SEARCHING Iloc :  1166\n",
      "0\n",
      "Find Content!\n"
     ]
    },
    {
     "name": "stderr",
     "output_type": "stream",
     "text": [
      "\r",
      "1167it [03:59,  3.68s/it]"
     ]
    },
    {
     "name": "stdout",
     "output_type": "stream",
     "text": [
      "SEARCHING Iloc :  1167\n",
      "0\n"
     ]
    },
    {
     "name": "stderr",
     "output_type": "stream",
     "text": [
      "\r",
      "1168it [04:03,  3.54s/it]"
     ]
    },
    {
     "name": "stdout",
     "output_type": "stream",
     "text": [
      "Find Content!\n",
      "SEARCHING Iloc :  1168\n",
      "0\n"
     ]
    },
    {
     "name": "stderr",
     "output_type": "stream",
     "text": [
      "\r",
      "1169it [04:06,  3.42s/it]"
     ]
    },
    {
     "name": "stdout",
     "output_type": "stream",
     "text": [
      "Find Content!\n",
      "SEARCHING Iloc :  1169\n",
      "0\n",
      "Find Content!\n"
     ]
    },
    {
     "name": "stderr",
     "output_type": "stream",
     "text": [
      "\r",
      "1170it [04:10,  3.53s/it]"
     ]
    },
    {
     "name": "stdout",
     "output_type": "stream",
     "text": [
      "SEARCHING Iloc :  1170\n",
      "0\n"
     ]
    },
    {
     "name": "stderr",
     "output_type": "stream",
     "text": [
      "\r",
      "1171it [04:13,  3.58s/it]"
     ]
    },
    {
     "name": "stdout",
     "output_type": "stream",
     "text": [
      "Find Content!\n",
      "SEARCHING Iloc :  1171\n",
      "0\n"
     ]
    },
    {
     "name": "stderr",
     "output_type": "stream",
     "text": [
      "\r",
      "1172it [04:16,  3.43s/it]"
     ]
    },
    {
     "name": "stdout",
     "output_type": "stream",
     "text": [
      "Find Content!\n",
      "SEARCHING Iloc :  1172\n",
      "0\n"
     ]
    },
    {
     "name": "stderr",
     "output_type": "stream",
     "text": [
      "\r",
      "1173it [04:19,  3.31s/it]"
     ]
    },
    {
     "name": "stdout",
     "output_type": "stream",
     "text": [
      "Find Content!\n",
      "SEARCHING Iloc :  1173\n",
      "0\n",
      "Find Content!\n"
     ]
    },
    {
     "name": "stderr",
     "output_type": "stream",
     "text": [
      "\r",
      "1174it [04:23,  3.50s/it]"
     ]
    },
    {
     "name": "stdout",
     "output_type": "stream",
     "text": [
      "SEARCHING Iloc :  1174\n",
      "0\n"
     ]
    },
    {
     "name": "stderr",
     "output_type": "stream",
     "text": [
      "\r",
      "1175it [04:27,  3.53s/it]"
     ]
    },
    {
     "name": "stdout",
     "output_type": "stream",
     "text": [
      "Find Content!\n",
      "SEARCHING Iloc :  1175\n",
      "0\n"
     ]
    },
    {
     "name": "stderr",
     "output_type": "stream",
     "text": [
      "\r",
      "1176it [04:31,  3.55s/it]"
     ]
    },
    {
     "name": "stdout",
     "output_type": "stream",
     "text": [
      "Find Content!\n",
      "SEARCHING Iloc :  1176\n",
      "0\n"
     ]
    },
    {
     "name": "stderr",
     "output_type": "stream",
     "text": [
      "\r",
      "1177it [04:34,  3.44s/it]"
     ]
    },
    {
     "name": "stdout",
     "output_type": "stream",
     "text": [
      "Find Content!\n",
      "SEARCHING Iloc :  1177\n",
      "0\n",
      "Find Content!\n"
     ]
    },
    {
     "name": "stderr",
     "output_type": "stream",
     "text": [
      "\r",
      "1178it [04:37,  3.51s/it]"
     ]
    },
    {
     "name": "stdout",
     "output_type": "stream",
     "text": [
      "SEARCHING Iloc :  1178\n",
      "0\n",
      "Find Content!\n"
     ]
    },
    {
     "name": "stderr",
     "output_type": "stream",
     "text": [
      "\r",
      "1179it [04:41,  3.65s/it]"
     ]
    },
    {
     "name": "stdout",
     "output_type": "stream",
     "text": [
      "SEARCHING Iloc :  1179\n",
      "0\n"
     ]
    },
    {
     "name": "stderr",
     "output_type": "stream",
     "text": [
      "\r",
      "1180it [04:45,  3.69s/it]"
     ]
    },
    {
     "name": "stdout",
     "output_type": "stream",
     "text": [
      "Find Content!\n",
      "SEARCHING Iloc :  1180\n",
      "0\n"
     ]
    },
    {
     "name": "stderr",
     "output_type": "stream",
     "text": [
      "\r",
      "1181it [04:49,  3.70s/it]"
     ]
    },
    {
     "name": "stdout",
     "output_type": "stream",
     "text": [
      "Find Content!\n",
      "SEARCHING Iloc :  1181\n",
      "0\n",
      "Find Content!\n"
     ]
    },
    {
     "name": "stderr",
     "output_type": "stream",
     "text": [
      "\r",
      "1182it [04:52,  3.58s/it]"
     ]
    },
    {
     "name": "stdout",
     "output_type": "stream",
     "text": [
      "SEARCHING Iloc :  1182\n",
      "0\n",
      "Find Content!\n"
     ]
    },
    {
     "name": "stderr",
     "output_type": "stream",
     "text": [
      "\r",
      "1183it [04:56,  3.67s/it]"
     ]
    },
    {
     "name": "stdout",
     "output_type": "stream",
     "text": [
      "SEARCHING Iloc :  1183\n",
      "0\n"
     ]
    },
    {
     "name": "stderr",
     "output_type": "stream",
     "text": [
      "\r",
      "1184it [04:59,  3.54s/it]"
     ]
    },
    {
     "name": "stdout",
     "output_type": "stream",
     "text": [
      "Find Content!\n",
      "SEARCHING Iloc :  1184\n",
      "0\n",
      "Find Content!\n"
     ]
    },
    {
     "name": "stderr",
     "output_type": "stream",
     "text": [
      "\r",
      "1185it [05:03,  3.53s/it]"
     ]
    },
    {
     "name": "stdout",
     "output_type": "stream",
     "text": [
      "SEARCHING Iloc :  1185\n",
      "0\n"
     ]
    },
    {
     "name": "stderr",
     "output_type": "stream",
     "text": [
      "\r",
      "1186it [05:06,  3.43s/it]"
     ]
    },
    {
     "name": "stdout",
     "output_type": "stream",
     "text": [
      "Find Content!\n",
      "SEARCHING Iloc :  1186\n",
      "0\n"
     ]
    },
    {
     "name": "stderr",
     "output_type": "stream",
     "text": [
      "\r",
      "1187it [05:09,  3.20s/it]"
     ]
    },
    {
     "name": "stdout",
     "output_type": "stream",
     "text": [
      "Find Content!\n",
      "SEARCHING Iloc :  1187\n",
      "0\n",
      "Find Content!\n"
     ]
    },
    {
     "name": "stderr",
     "output_type": "stream",
     "text": [
      "\r",
      "1188it [05:12,  3.23s/it]"
     ]
    },
    {
     "name": "stdout",
     "output_type": "stream",
     "text": [
      "SEARCHING Iloc :  1188\n",
      "0\n"
     ]
    },
    {
     "name": "stderr",
     "output_type": "stream",
     "text": [
      "\r",
      "1189it [05:16,  3.38s/it]"
     ]
    },
    {
     "name": "stdout",
     "output_type": "stream",
     "text": [
      "Find Content!\n",
      "SEARCHING Iloc :  1189\n",
      "0\n",
      "Find Content!\n"
     ]
    },
    {
     "name": "stderr",
     "output_type": "stream",
     "text": [
      "\r",
      "1190it [05:20,  3.52s/it]"
     ]
    },
    {
     "name": "stdout",
     "output_type": "stream",
     "text": [
      "SEARCHING Iloc :  1190\n",
      "0\n",
      "Find Content!\n"
     ]
    },
    {
     "name": "stderr",
     "output_type": "stream",
     "text": [
      "\r",
      "1191it [05:23,  3.49s/it]"
     ]
    },
    {
     "name": "stdout",
     "output_type": "stream",
     "text": [
      "SEARCHING Iloc :  1191\n",
      "0\n",
      "Find Content!\n"
     ]
    },
    {
     "name": "stderr",
     "output_type": "stream",
     "text": [
      "\r",
      "1192it [05:26,  3.49s/it]"
     ]
    },
    {
     "name": "stdout",
     "output_type": "stream",
     "text": [
      "SEARCHING Iloc :  1192\n",
      "0\n"
     ]
    },
    {
     "name": "stderr",
     "output_type": "stream",
     "text": [
      "\r",
      "1193it [05:30,  3.53s/it]"
     ]
    },
    {
     "name": "stdout",
     "output_type": "stream",
     "text": [
      "Find Content!\n",
      "SEARCHING Iloc :  1193\n",
      "0\n",
      "Find Content!\n"
     ]
    },
    {
     "name": "stderr",
     "output_type": "stream",
     "text": [
      "\r",
      "1194it [05:33,  3.46s/it]"
     ]
    },
    {
     "name": "stdout",
     "output_type": "stream",
     "text": [
      "SEARCHING Iloc :  1194\n",
      "0\n"
     ]
    },
    {
     "name": "stderr",
     "output_type": "stream",
     "text": [
      "\r",
      "1195it [05:37,  3.60s/it]"
     ]
    },
    {
     "name": "stdout",
     "output_type": "stream",
     "text": [
      "Find Content!\n",
      "SEARCHING Iloc :  1195\n",
      "0\n"
     ]
    },
    {
     "name": "stderr",
     "output_type": "stream",
     "text": [
      "\r",
      "1196it [05:41,  3.62s/it]"
     ]
    },
    {
     "name": "stdout",
     "output_type": "stream",
     "text": [
      "Find Content!\n",
      "SEARCHING Iloc :  1196\n",
      "0\n"
     ]
    },
    {
     "name": "stderr",
     "output_type": "stream",
     "text": [
      "\r",
      "1197it [05:45,  3.83s/it]"
     ]
    },
    {
     "name": "stdout",
     "output_type": "stream",
     "text": [
      "Find Content!\n",
      "SEARCHING Iloc :  1197\n",
      "0\n",
      "Find Content!\n"
     ]
    },
    {
     "name": "stderr",
     "output_type": "stream",
     "text": [
      "\r",
      "1198it [05:50,  4.03s/it]"
     ]
    },
    {
     "name": "stdout",
     "output_type": "stream",
     "text": [
      "SEARCHING Iloc :  1198\n",
      "0\n"
     ]
    },
    {
     "name": "stderr",
     "output_type": "stream",
     "text": [
      "\r",
      "1199it [05:54,  3.98s/it]"
     ]
    },
    {
     "name": "stdout",
     "output_type": "stream",
     "text": [
      "Find Content!\n",
      "SEARCHING Iloc :  1199\n",
      "0\n",
      "Find Content!\n"
     ]
    },
    {
     "name": "stderr",
     "output_type": "stream",
     "text": [
      "\r",
      "1200it [05:58,  3.95s/it]"
     ]
    },
    {
     "name": "stdout",
     "output_type": "stream",
     "text": [
      "SEARCHING Iloc :  1200\n",
      "0\n"
     ]
    },
    {
     "name": "stderr",
     "output_type": "stream",
     "text": [
      "\r",
      "1201it [06:01,  3.85s/it]"
     ]
    },
    {
     "name": "stdout",
     "output_type": "stream",
     "text": [
      "Find Content!\n",
      "SEARCHING Iloc :  1201\n",
      "0\n",
      "Find Content!\n"
     ]
    },
    {
     "name": "stderr",
     "output_type": "stream",
     "text": [
      "\r",
      "1202it [06:04,  3.69s/it]"
     ]
    },
    {
     "name": "stdout",
     "output_type": "stream",
     "text": [
      "SEARCHING Iloc :  1202\n",
      "0\n"
     ]
    },
    {
     "name": "stderr",
     "output_type": "stream",
     "text": [
      "\r",
      "1203it [06:08,  3.54s/it]"
     ]
    },
    {
     "name": "stdout",
     "output_type": "stream",
     "text": [
      "Find Content!\n",
      "SEARCHING Iloc :  1203\n",
      "0\n"
     ]
    },
    {
     "name": "stderr",
     "output_type": "stream",
     "text": [
      "\r",
      "1204it [06:11,  3.46s/it]"
     ]
    },
    {
     "name": "stdout",
     "output_type": "stream",
     "text": [
      "Find Content!\n",
      "SEARCHING Iloc :  1204\n",
      "0\n",
      "Find Content!\n"
     ]
    },
    {
     "name": "stderr",
     "output_type": "stream",
     "text": [
      "\r",
      "1205it [06:15,  3.60s/it]"
     ]
    },
    {
     "name": "stdout",
     "output_type": "stream",
     "text": [
      "SEARCHING Iloc :  1205\n",
      "0\n"
     ]
    },
    {
     "name": "stderr",
     "output_type": "stream",
     "text": [
      "\r",
      "1206it [06:18,  3.49s/it]"
     ]
    },
    {
     "name": "stdout",
     "output_type": "stream",
     "text": [
      "Find Content!\n",
      "SEARCHING Iloc :  1206\n",
      "0\n"
     ]
    },
    {
     "name": "stderr",
     "output_type": "stream",
     "text": [
      "\r",
      "1207it [06:22,  3.58s/it]"
     ]
    },
    {
     "name": "stdout",
     "output_type": "stream",
     "text": [
      "Find Content!\n",
      "SEARCHING Iloc :  1207\n",
      "0\n"
     ]
    },
    {
     "name": "stderr",
     "output_type": "stream",
     "text": [
      "\r",
      "1208it [06:26,  3.58s/it]"
     ]
    },
    {
     "name": "stdout",
     "output_type": "stream",
     "text": [
      "Find Content!\n",
      "SEARCHING Iloc :  1208\n",
      "0\n",
      "Find Content!\n"
     ]
    },
    {
     "name": "stderr",
     "output_type": "stream",
     "text": [
      "\r",
      "1209it [06:29,  3.52s/it]"
     ]
    },
    {
     "name": "stdout",
     "output_type": "stream",
     "text": [
      "SEARCHING Iloc :  1209\n",
      "0\n"
     ]
    },
    {
     "name": "stderr",
     "output_type": "stream",
     "text": [
      "\r",
      "1210it [06:32,  3.42s/it]"
     ]
    },
    {
     "name": "stdout",
     "output_type": "stream",
     "text": [
      "Find Content!\n",
      "SEARCHING Iloc :  1210\n",
      "0\n"
     ]
    },
    {
     "name": "stderr",
     "output_type": "stream",
     "text": [
      "\r",
      "1211it [06:36,  3.45s/it]"
     ]
    },
    {
     "name": "stdout",
     "output_type": "stream",
     "text": [
      "Find Content!\n",
      "SEARCHING Iloc :  1211\n",
      "0\n"
     ]
    },
    {
     "name": "stderr",
     "output_type": "stream",
     "text": [
      "\r",
      "1212it [06:39,  3.50s/it]"
     ]
    },
    {
     "name": "stdout",
     "output_type": "stream",
     "text": [
      "Find Content!\n",
      "SEARCHING Iloc :  1212\n",
      "0\n",
      "Find Content!\n"
     ]
    },
    {
     "name": "stderr",
     "output_type": "stream",
     "text": [
      "\r",
      "1213it [06:43,  3.58s/it]"
     ]
    },
    {
     "name": "stdout",
     "output_type": "stream",
     "text": [
      "SEARCHING Iloc :  1213\n",
      "0\n"
     ]
    },
    {
     "name": "stderr",
     "output_type": "stream",
     "text": [
      "\r",
      "1214it [06:46,  3.49s/it]"
     ]
    },
    {
     "name": "stdout",
     "output_type": "stream",
     "text": [
      "Find Content!\n",
      "SEARCHING Iloc :  1214\n",
      "0\n"
     ]
    },
    {
     "name": "stderr",
     "output_type": "stream",
     "text": [
      "\r",
      "1215it [06:50,  3.55s/it]"
     ]
    },
    {
     "name": "stdout",
     "output_type": "stream",
     "text": [
      "Find Content!\n",
      "SEARCHING Iloc :  1215\n",
      "0\n"
     ]
    },
    {
     "name": "stderr",
     "output_type": "stream",
     "text": [
      "\r",
      "1216it [06:53,  3.46s/it]"
     ]
    },
    {
     "name": "stdout",
     "output_type": "stream",
     "text": [
      "Find Content!\n",
      "SEARCHING Iloc :  1216\n",
      "0\n",
      "Find Content!\n"
     ]
    },
    {
     "name": "stderr",
     "output_type": "stream",
     "text": [
      "\r",
      "1217it [06:57,  3.53s/it]"
     ]
    },
    {
     "name": "stdout",
     "output_type": "stream",
     "text": [
      "SEARCHING Iloc :  1217\n",
      "0\n"
     ]
    },
    {
     "name": "stderr",
     "output_type": "stream",
     "text": [
      "\r",
      "1218it [07:01,  3.58s/it]"
     ]
    },
    {
     "name": "stdout",
     "output_type": "stream",
     "text": [
      "Find Content!\n",
      "SEARCHING Iloc :  1218\n",
      "0\n"
     ]
    },
    {
     "name": "stderr",
     "output_type": "stream",
     "text": [
      "\r",
      "1219it [07:04,  3.59s/it]"
     ]
    },
    {
     "name": "stdout",
     "output_type": "stream",
     "text": [
      "Find Content!\n",
      "SEARCHING Iloc :  1219\n",
      "0\n"
     ]
    },
    {
     "name": "stderr",
     "output_type": "stream",
     "text": [
      "\r",
      "1220it [07:08,  3.60s/it]"
     ]
    },
    {
     "name": "stdout",
     "output_type": "stream",
     "text": [
      "Find Content!\n",
      "SEARCHING Iloc :  1220\n",
      "0\n",
      "Find Content!\n"
     ]
    },
    {
     "name": "stderr",
     "output_type": "stream",
     "text": [
      "\r",
      "1221it [07:12,  3.67s/it]"
     ]
    },
    {
     "name": "stdout",
     "output_type": "stream",
     "text": [
      "SEARCHING Iloc :  1221\n",
      "0\n"
     ]
    },
    {
     "name": "stderr",
     "output_type": "stream",
     "text": [
      "\r",
      "1222it [07:15,  3.50s/it]"
     ]
    },
    {
     "name": "stdout",
     "output_type": "stream",
     "text": [
      "Find Content!\n",
      "SEARCHING Iloc :  1222\n",
      "0\n"
     ]
    },
    {
     "name": "stderr",
     "output_type": "stream",
     "text": [
      "\r",
      "1223it [07:18,  3.57s/it]"
     ]
    },
    {
     "name": "stdout",
     "output_type": "stream",
     "text": [
      "Find Content!\n",
      "SEARCHING Iloc :  1223\n",
      "0\n",
      "Find Content!\n"
     ]
    },
    {
     "name": "stderr",
     "output_type": "stream",
     "text": [
      "\r",
      "1224it [07:22,  3.50s/it]"
     ]
    },
    {
     "name": "stdout",
     "output_type": "stream",
     "text": [
      "SEARCHING Iloc :  1224\n",
      "0\n"
     ]
    },
    {
     "name": "stderr",
     "output_type": "stream",
     "text": [
      "\r",
      "1225it [07:25,  3.37s/it]"
     ]
    },
    {
     "name": "stdout",
     "output_type": "stream",
     "text": [
      "Find Content!\n",
      "SEARCHING Iloc :  1225\n",
      "0\n"
     ]
    },
    {
     "name": "stderr",
     "output_type": "stream",
     "text": [
      "\r",
      "1226it [07:28,  3.36s/it]"
     ]
    },
    {
     "name": "stdout",
     "output_type": "stream",
     "text": [
      "Find Content!\n",
      "SEARCHING Iloc :  1226\n",
      "0\n"
     ]
    },
    {
     "name": "stderr",
     "output_type": "stream",
     "text": [
      "\r",
      "1227it [07:31,  3.33s/it]"
     ]
    },
    {
     "name": "stdout",
     "output_type": "stream",
     "text": [
      "Find Content!\n",
      "SEARCHING Iloc :  1227\n",
      "0\n",
      "Find Content!\n"
     ]
    },
    {
     "name": "stderr",
     "output_type": "stream",
     "text": [
      "\r",
      "1228it [07:35,  3.40s/it]"
     ]
    },
    {
     "name": "stdout",
     "output_type": "stream",
     "text": [
      "SEARCHING Iloc :  1228\n",
      "0\n"
     ]
    },
    {
     "name": "stderr",
     "output_type": "stream",
     "text": [
      "\r",
      "1229it [07:39,  3.48s/it]"
     ]
    },
    {
     "name": "stdout",
     "output_type": "stream",
     "text": [
      "Find Content!\n",
      "SEARCHING Iloc :  1229\n",
      "0\n"
     ]
    },
    {
     "name": "stderr",
     "output_type": "stream",
     "text": [
      "\r",
      "1230it [07:42,  3.44s/it]"
     ]
    },
    {
     "name": "stdout",
     "output_type": "stream",
     "text": [
      "Find Content!\n",
      "SEARCHING Iloc :  1230\n",
      "0\n"
     ]
    },
    {
     "name": "stderr",
     "output_type": "stream",
     "text": [
      "\r",
      "1231it [07:45,  3.34s/it]"
     ]
    },
    {
     "name": "stdout",
     "output_type": "stream",
     "text": [
      "Find Content!\n",
      "SEARCHING Iloc :  1231\n",
      "0\n",
      "Find Content!\n"
     ]
    },
    {
     "name": "stderr",
     "output_type": "stream",
     "text": [
      "\r",
      "1232it [07:49,  3.53s/it]"
     ]
    },
    {
     "name": "stdout",
     "output_type": "stream",
     "text": [
      "SEARCHING Iloc :  1232\n",
      "0\n"
     ]
    },
    {
     "name": "stderr",
     "output_type": "stream",
     "text": [
      "\r",
      "1233it [07:53,  3.61s/it]"
     ]
    },
    {
     "name": "stdout",
     "output_type": "stream",
     "text": [
      "Find Content!\n",
      "SEARCHING Iloc :  1233\n",
      "0\n"
     ]
    },
    {
     "name": "stderr",
     "output_type": "stream",
     "text": [
      "\r",
      "1234it [07:57,  3.61s/it]"
     ]
    },
    {
     "name": "stdout",
     "output_type": "stream",
     "text": [
      "Find Content!\n",
      "SEARCHING Iloc :  1234\n",
      "0\n"
     ]
    },
    {
     "name": "stderr",
     "output_type": "stream",
     "text": [
      "\r",
      "1235it [08:00,  3.47s/it]"
     ]
    },
    {
     "name": "stdout",
     "output_type": "stream",
     "text": [
      "Find Content!\n",
      "SEARCHING Iloc :  1235\n",
      "0\n",
      "Find Content!\n"
     ]
    },
    {
     "name": "stderr",
     "output_type": "stream",
     "text": [
      "\r",
      "1236it [08:03,  3.56s/it]"
     ]
    },
    {
     "name": "stdout",
     "output_type": "stream",
     "text": [
      "SEARCHING Iloc :  1236\n",
      "0\n"
     ]
    },
    {
     "name": "stderr",
     "output_type": "stream",
     "text": [
      "\r",
      "1237it [08:07,  3.55s/it]"
     ]
    },
    {
     "name": "stdout",
     "output_type": "stream",
     "text": [
      "Find Content!\n",
      "SEARCHING Iloc :  1237\n",
      "0\n"
     ]
    },
    {
     "name": "stderr",
     "output_type": "stream",
     "text": [
      "\r",
      "1238it [08:11,  3.62s/it]"
     ]
    },
    {
     "name": "stdout",
     "output_type": "stream",
     "text": [
      "Find Content!\n",
      "SEARCHING Iloc :  1238\n",
      "0\n"
     ]
    },
    {
     "name": "stderr",
     "output_type": "stream",
     "text": [
      "\r",
      "1239it [08:18,  4.81s/it]"
     ]
    },
    {
     "name": "stdout",
     "output_type": "stream",
     "text": [
      "Find Content!\n",
      "SEARCHING Iloc :  1239\n",
      "0\n",
      "Find Content!\n"
     ]
    },
    {
     "name": "stderr",
     "output_type": "stream",
     "text": [
      "\r",
      "1240it [08:22,  4.37s/it]"
     ]
    },
    {
     "name": "stdout",
     "output_type": "stream",
     "text": [
      "SEARCHING Iloc :  1240\n",
      "0\n"
     ]
    },
    {
     "name": "stderr",
     "output_type": "stream",
     "text": [
      "\r",
      "1241it [08:25,  4.03s/it]"
     ]
    },
    {
     "name": "stdout",
     "output_type": "stream",
     "text": [
      "Find Content!\n",
      "SEARCHING Iloc :  1241\n",
      "0\n"
     ]
    },
    {
     "name": "stderr",
     "output_type": "stream",
     "text": [
      "\r",
      "1242it [08:29,  3.94s/it]"
     ]
    },
    {
     "name": "stdout",
     "output_type": "stream",
     "text": [
      "Find Content!\n",
      "SEARCHING Iloc :  1242\n",
      "0\n"
     ]
    },
    {
     "name": "stderr",
     "output_type": "stream",
     "text": [
      "\r",
      "1243it [08:32,  3.81s/it]"
     ]
    },
    {
     "name": "stdout",
     "output_type": "stream",
     "text": [
      "Find Content!\n",
      "SEARCHING Iloc :  1243\n",
      "0\n",
      "Find Content!\n"
     ]
    },
    {
     "name": "stderr",
     "output_type": "stream",
     "text": [
      "\r",
      "1244it [08:36,  3.78s/it]"
     ]
    },
    {
     "name": "stdout",
     "output_type": "stream",
     "text": [
      "SEARCHING Iloc :  1244\n",
      "0\n"
     ]
    },
    {
     "name": "stderr",
     "output_type": "stream",
     "text": [
      "\r",
      "1245it [08:39,  3.68s/it]"
     ]
    },
    {
     "name": "stdout",
     "output_type": "stream",
     "text": [
      "Find Content!\n",
      "SEARCHING Iloc :  1245\n",
      "0\n"
     ]
    },
    {
     "name": "stderr",
     "output_type": "stream",
     "text": [
      "\r",
      "1246it [08:43,  3.55s/it]"
     ]
    },
    {
     "name": "stdout",
     "output_type": "stream",
     "text": [
      "Find Content!\n",
      "SEARCHING Iloc :  1246\n",
      "0\n",
      "Find Content!\n"
     ]
    },
    {
     "name": "stderr",
     "output_type": "stream",
     "text": [
      "\r",
      "1247it [08:46,  3.59s/it]"
     ]
    },
    {
     "name": "stdout",
     "output_type": "stream",
     "text": [
      "SEARCHING Iloc :  1247\n",
      "0\n"
     ]
    },
    {
     "name": "stderr",
     "output_type": "stream",
     "text": [
      "\r",
      "1248it [08:50,  3.64s/it]"
     ]
    },
    {
     "name": "stdout",
     "output_type": "stream",
     "text": [
      "Find Content!\n",
      "SEARCHING Iloc :  1248\n",
      "0\n"
     ]
    },
    {
     "name": "stderr",
     "output_type": "stream",
     "text": [
      "\r",
      "1249it [08:53,  3.45s/it]"
     ]
    },
    {
     "name": "stdout",
     "output_type": "stream",
     "text": [
      "Find Content!\n",
      "SEARCHING Iloc :  1249\n",
      "0\n"
     ]
    },
    {
     "name": "stderr",
     "output_type": "stream",
     "text": [
      "\r",
      "1250it [08:56,  3.37s/it]"
     ]
    },
    {
     "name": "stdout",
     "output_type": "stream",
     "text": [
      "Find Content!\n",
      "SEARCHING Iloc :  1250\n",
      "0\n"
     ]
    },
    {
     "name": "stderr",
     "output_type": "stream",
     "text": [
      "\r",
      "1251it [08:59,  3.33s/it]"
     ]
    },
    {
     "name": "stdout",
     "output_type": "stream",
     "text": [
      "Find Content!\n",
      "SEARCHING Iloc :  1251\n",
      "0\n",
      "Find Content!\n"
     ]
    },
    {
     "name": "stderr",
     "output_type": "stream",
     "text": [
      "\r",
      "1252it [09:03,  3.36s/it]"
     ]
    },
    {
     "name": "stdout",
     "output_type": "stream",
     "text": [
      "SEARCHING Iloc :  1252\n",
      "0\n"
     ]
    },
    {
     "name": "stderr",
     "output_type": "stream",
     "text": [
      "\r",
      "1253it [09:06,  3.43s/it]"
     ]
    },
    {
     "name": "stdout",
     "output_type": "stream",
     "text": [
      "Find Content!\n",
      "SEARCHING Iloc :  1253\n",
      "0\n"
     ]
    },
    {
     "name": "stderr",
     "output_type": "stream",
     "text": [
      "\r",
      "1254it [09:10,  3.58s/it]"
     ]
    },
    {
     "name": "stdout",
     "output_type": "stream",
     "text": [
      "Find Content!\n",
      "SEARCHING Iloc :  1254\n",
      "0\n"
     ]
    },
    {
     "name": "stderr",
     "output_type": "stream",
     "text": [
      "\r",
      "1255it [09:14,  3.61s/it]"
     ]
    },
    {
     "name": "stdout",
     "output_type": "stream",
     "text": [
      "Find Content!\n",
      "SEARCHING Iloc :  1255\n",
      "0\n",
      "Find Content!\n"
     ]
    },
    {
     "name": "stderr",
     "output_type": "stream",
     "text": [
      "\r",
      "1256it [09:18,  3.64s/it]"
     ]
    },
    {
     "name": "stdout",
     "output_type": "stream",
     "text": [
      "SEARCHING Iloc :  1256\n",
      "0\n"
     ]
    },
    {
     "name": "stderr",
     "output_type": "stream",
     "text": [
      "\r",
      "1257it [09:21,  3.63s/it]"
     ]
    },
    {
     "name": "stdout",
     "output_type": "stream",
     "text": [
      "Find Content!\n",
      "SEARCHING Iloc :  1257\n",
      "0\n"
     ]
    },
    {
     "name": "stderr",
     "output_type": "stream",
     "text": [
      "\r",
      "1258it [09:25,  3.50s/it]"
     ]
    },
    {
     "name": "stdout",
     "output_type": "stream",
     "text": [
      "Find Content!\n",
      "SEARCHING Iloc :  1258\n",
      "0\n"
     ]
    },
    {
     "name": "stderr",
     "output_type": "stream",
     "text": [
      "\r",
      "1259it [09:28,  3.40s/it]"
     ]
    },
    {
     "name": "stdout",
     "output_type": "stream",
     "text": [
      "Find Content!\n",
      "SEARCHING Iloc :  1259\n",
      "0\n",
      "Find Content!\n"
     ]
    },
    {
     "name": "stderr",
     "output_type": "stream",
     "text": [
      "\r",
      "1260it [09:37,  5.14s/it]"
     ]
    },
    {
     "name": "stdout",
     "output_type": "stream",
     "text": [
      "SEARCHING Iloc :  1260\n",
      "0\n"
     ]
    },
    {
     "name": "stderr",
     "output_type": "stream",
     "text": [
      "\r",
      "1261it [09:41,  4.76s/it]"
     ]
    },
    {
     "name": "stdout",
     "output_type": "stream",
     "text": [
      "Find Content!\n",
      "SEARCHING Iloc :  1261\n",
      "0\n"
     ]
    },
    {
     "name": "stderr",
     "output_type": "stream",
     "text": [
      "\r",
      "1262it [09:44,  4.43s/it]"
     ]
    },
    {
     "name": "stdout",
     "output_type": "stream",
     "text": [
      "Find Content!\n",
      "SEARCHING Iloc :  1262\n",
      "0\n"
     ]
    },
    {
     "name": "stderr",
     "output_type": "stream",
     "text": [
      "\r",
      "1263it [09:47,  3.97s/it]"
     ]
    },
    {
     "name": "stdout",
     "output_type": "stream",
     "text": [
      "Find Content!\n",
      "SEARCHING Iloc :  1263\n",
      "0\n"
     ]
    },
    {
     "name": "stderr",
     "output_type": "stream",
     "text": [
      "\r",
      "1264it [09:51,  3.74s/it]"
     ]
    },
    {
     "name": "stdout",
     "output_type": "stream",
     "text": [
      "Find Content!\n",
      "SEARCHING Iloc :  1264\n",
      "0\n",
      "Find Content!\n"
     ]
    },
    {
     "name": "stderr",
     "output_type": "stream",
     "text": [
      "\r",
      "1265it [09:55,  3.81s/it]"
     ]
    },
    {
     "name": "stdout",
     "output_type": "stream",
     "text": [
      "SEARCHING Iloc :  1265\n",
      "0\n"
     ]
    },
    {
     "name": "stderr",
     "output_type": "stream",
     "text": [
      "\r",
      "1266it [09:58,  3.74s/it]"
     ]
    },
    {
     "name": "stdout",
     "output_type": "stream",
     "text": [
      "Find Content!\n",
      "SEARCHING Iloc :  1266\n",
      "0\n"
     ]
    },
    {
     "name": "stderr",
     "output_type": "stream",
     "text": [
      "\r",
      "1267it [10:01,  3.59s/it]"
     ]
    },
    {
     "name": "stdout",
     "output_type": "stream",
     "text": [
      "Find Content!\n",
      "SEARCHING Iloc :  1267\n",
      "0\n",
      "Find Content!\n"
     ]
    },
    {
     "name": "stderr",
     "output_type": "stream",
     "text": [
      "\r",
      "1268it [10:05,  3.69s/it]"
     ]
    },
    {
     "name": "stdout",
     "output_type": "stream",
     "text": [
      "SEARCHING Iloc :  1268\n",
      "0\n"
     ]
    },
    {
     "name": "stderr",
     "output_type": "stream",
     "text": [
      "\r",
      "1269it [10:09,  3.68s/it]"
     ]
    },
    {
     "name": "stdout",
     "output_type": "stream",
     "text": [
      "Find Content!\n",
      "SEARCHING Iloc :  1269\n",
      "0\n"
     ]
    },
    {
     "name": "stderr",
     "output_type": "stream",
     "text": [
      "\r",
      "1270it [10:13,  3.70s/it]"
     ]
    },
    {
     "name": "stdout",
     "output_type": "stream",
     "text": [
      "Find Content!\n",
      "SEARCHING Iloc :  1270\n",
      "0\n"
     ]
    },
    {
     "name": "stderr",
     "output_type": "stream",
     "text": [
      "\r",
      "1271it [10:16,  3.55s/it]"
     ]
    },
    {
     "name": "stdout",
     "output_type": "stream",
     "text": [
      "Find Content!\n",
      "SEARCHING Iloc :  1271\n",
      "0\n",
      "Find Content!\n"
     ]
    },
    {
     "name": "stderr",
     "output_type": "stream",
     "text": [
      "\r",
      "1272it [10:19,  3.51s/it]"
     ]
    },
    {
     "name": "stdout",
     "output_type": "stream",
     "text": [
      "SEARCHING Iloc :  1272\n",
      "0\n"
     ]
    },
    {
     "name": "stderr",
     "output_type": "stream",
     "text": [
      "\r",
      "1273it [10:23,  3.59s/it]"
     ]
    },
    {
     "name": "stdout",
     "output_type": "stream",
     "text": [
      "Find Content!\n",
      "SEARCHING Iloc :  1273\n",
      "0\n"
     ]
    },
    {
     "name": "stderr",
     "output_type": "stream",
     "text": [
      "\r",
      "1274it [10:27,  3.63s/it]"
     ]
    },
    {
     "name": "stdout",
     "output_type": "stream",
     "text": [
      "Find Content!\n",
      "SEARCHING Iloc :  1274\n",
      "0\n"
     ]
    },
    {
     "name": "stderr",
     "output_type": "stream",
     "text": [
      "\r",
      "1275it [10:30,  3.48s/it]"
     ]
    },
    {
     "name": "stdout",
     "output_type": "stream",
     "text": [
      "Find Content!\n",
      "SEARCHING Iloc :  1275\n",
      "0\n",
      "Find Content!\n"
     ]
    },
    {
     "name": "stderr",
     "output_type": "stream",
     "text": [
      "\r",
      "1276it [10:33,  3.41s/it]"
     ]
    },
    {
     "name": "stdout",
     "output_type": "stream",
     "text": [
      "SEARCHING Iloc :  1276\n",
      "0\n"
     ]
    },
    {
     "name": "stderr",
     "output_type": "stream",
     "text": [
      "\r",
      "1277it [10:37,  3.48s/it]"
     ]
    },
    {
     "name": "stdout",
     "output_type": "stream",
     "text": [
      "Find Content!\n",
      "SEARCHING Iloc :  1277\n",
      "0\n"
     ]
    },
    {
     "name": "stderr",
     "output_type": "stream",
     "text": [
      "\r",
      "1278it [10:40,  3.41s/it]"
     ]
    },
    {
     "name": "stdout",
     "output_type": "stream",
     "text": [
      "Find Content!\n",
      "SEARCHING Iloc :  1278\n",
      "0\n"
     ]
    },
    {
     "name": "stderr",
     "output_type": "stream",
     "text": [
      "\r",
      "1279it [10:44,  3.54s/it]"
     ]
    },
    {
     "name": "stdout",
     "output_type": "stream",
     "text": [
      "Find Content!\n",
      "SEARCHING Iloc :  1279\n",
      "0\n",
      "Find Content!\n"
     ]
    },
    {
     "name": "stderr",
     "output_type": "stream",
     "text": [
      "\r",
      "1280it [10:47,  3.47s/it]"
     ]
    },
    {
     "name": "stdout",
     "output_type": "stream",
     "text": [
      "SEARCHING Iloc :  1280\n",
      "0\n"
     ]
    },
    {
     "name": "stderr",
     "output_type": "stream",
     "text": [
      "\r",
      "1281it [10:50,  3.36s/it]"
     ]
    },
    {
     "name": "stdout",
     "output_type": "stream",
     "text": [
      "Find Content!\n",
      "SEARCHING Iloc :  1281\n",
      "0\n"
     ]
    },
    {
     "name": "stderr",
     "output_type": "stream",
     "text": [
      "\r",
      "1282it [10:54,  3.31s/it]"
     ]
    },
    {
     "name": "stdout",
     "output_type": "stream",
     "text": [
      "Find Content!\n",
      "SEARCHING Iloc :  1282\n",
      "0\n"
     ]
    },
    {
     "name": "stderr",
     "output_type": "stream",
     "text": [
      "\r",
      "1283it [10:57,  3.39s/it]"
     ]
    },
    {
     "name": "stdout",
     "output_type": "stream",
     "text": [
      "Find Content!\n",
      "SEARCHING Iloc :  1283\n",
      "0\n",
      "Find Content!\n"
     ]
    },
    {
     "name": "stderr",
     "output_type": "stream",
     "text": [
      "\r",
      "1284it [11:00,  3.37s/it]"
     ]
    },
    {
     "name": "stdout",
     "output_type": "stream",
     "text": [
      "SEARCHING Iloc :  1284\n",
      "0\n"
     ]
    },
    {
     "name": "stderr",
     "output_type": "stream",
     "text": [
      "\r",
      "1285it [11:04,  3.49s/it]"
     ]
    },
    {
     "name": "stdout",
     "output_type": "stream",
     "text": [
      "Find Content!\n",
      "SEARCHING Iloc :  1285\n",
      "0\n"
     ]
    },
    {
     "name": "stderr",
     "output_type": "stream",
     "text": [
      "\r",
      "1286it [11:08,  3.53s/it]"
     ]
    },
    {
     "name": "stdout",
     "output_type": "stream",
     "text": [
      "Find Content!\n",
      "SEARCHING Iloc :  1286\n",
      "0\n"
     ]
    },
    {
     "name": "stderr",
     "output_type": "stream",
     "text": [
      "\r",
      "1287it [11:11,  3.53s/it]"
     ]
    },
    {
     "name": "stdout",
     "output_type": "stream",
     "text": [
      "Find Content!\n",
      "SEARCHING Iloc :  1287\n",
      "0\n",
      "Find Content!\n"
     ]
    },
    {
     "name": "stderr",
     "output_type": "stream",
     "text": [
      "\r",
      "1288it [11:15,  3.60s/it]"
     ]
    },
    {
     "name": "stdout",
     "output_type": "stream",
     "text": [
      "SEARCHING Iloc :  1288\n",
      "0\n"
     ]
    },
    {
     "name": "stderr",
     "output_type": "stream",
     "text": [
      "\r",
      "1289it [11:18,  3.48s/it]"
     ]
    },
    {
     "name": "stdout",
     "output_type": "stream",
     "text": [
      "Find Content!\n",
      "SEARCHING Iloc :  1289\n",
      "0\n"
     ]
    },
    {
     "name": "stderr",
     "output_type": "stream",
     "text": [
      "\r",
      "1290it [11:22,  3.51s/it]"
     ]
    },
    {
     "name": "stdout",
     "output_type": "stream",
     "text": [
      "Find Content!\n",
      "SEARCHING Iloc :  1290\n",
      "0\n",
      "Find Content!\n"
     ]
    },
    {
     "name": "stderr",
     "output_type": "stream",
     "text": [
      "\r",
      "1291it [11:26,  3.65s/it]"
     ]
    },
    {
     "name": "stdout",
     "output_type": "stream",
     "text": [
      "SEARCHING Iloc :  1291\n",
      "0\n"
     ]
    },
    {
     "name": "stderr",
     "output_type": "stream",
     "text": [
      "\r",
      "1292it [11:29,  3.52s/it]"
     ]
    },
    {
     "name": "stdout",
     "output_type": "stream",
     "text": [
      "Find Content!\n",
      "SEARCHING Iloc :  1292\n",
      "0\n"
     ]
    },
    {
     "name": "stderr",
     "output_type": "stream",
     "text": [
      "\r",
      "1293it [11:32,  3.43s/it]"
     ]
    },
    {
     "name": "stdout",
     "output_type": "stream",
     "text": [
      "Find Content!\n",
      "SEARCHING Iloc :  1293\n",
      "0\n"
     ]
    },
    {
     "name": "stderr",
     "output_type": "stream",
     "text": [
      "\r",
      "1294it [11:36,  3.37s/it]"
     ]
    },
    {
     "name": "stdout",
     "output_type": "stream",
     "text": [
      "Find Content!\n",
      "SEARCHING Iloc :  1294\n",
      "0\n",
      "Find Content!\n"
     ]
    },
    {
     "name": "stderr",
     "output_type": "stream",
     "text": [
      "\r",
      "1295it [11:39,  3.37s/it]"
     ]
    },
    {
     "name": "stdout",
     "output_type": "stream",
     "text": [
      "SEARCHING Iloc :  1295\n",
      "0\n"
     ]
    },
    {
     "name": "stderr",
     "output_type": "stream",
     "text": [
      "\r",
      "1296it [11:42,  3.34s/it]"
     ]
    },
    {
     "name": "stdout",
     "output_type": "stream",
     "text": [
      "Find Content!\n",
      "SEARCHING Iloc :  1296\n",
      "0\n"
     ]
    },
    {
     "name": "stderr",
     "output_type": "stream",
     "text": [
      "\r",
      "1297it [11:45,  3.25s/it]"
     ]
    },
    {
     "name": "stdout",
     "output_type": "stream",
     "text": [
      "Find Content!\n",
      "SEARCHING Iloc :  1297\n",
      "0\n"
     ]
    },
    {
     "name": "stderr",
     "output_type": "stream",
     "text": [
      "\r",
      "1298it [11:52,  4.39s/it]"
     ]
    },
    {
     "name": "stdout",
     "output_type": "stream",
     "text": [
      "Find Content!\n",
      "SEARCHING Iloc :  1298\n",
      "0\n",
      "Find Content!\n"
     ]
    },
    {
     "name": "stderr",
     "output_type": "stream",
     "text": [
      "\r",
      "1299it [11:56,  4.17s/it]"
     ]
    },
    {
     "name": "stdout",
     "output_type": "stream",
     "text": [
      "SEARCHING Iloc :  1299\n",
      "0\n"
     ]
    },
    {
     "name": "stderr",
     "output_type": "stream",
     "text": [
      "\r",
      "1300it [12:00,  4.14s/it]"
     ]
    },
    {
     "name": "stdout",
     "output_type": "stream",
     "text": [
      "Find Content!\n",
      "SEARCHING Iloc :  1300\n",
      "0\n"
     ]
    },
    {
     "name": "stderr",
     "output_type": "stream",
     "text": [
      "\r",
      "1301it [12:04,  4.01s/it]"
     ]
    },
    {
     "name": "stdout",
     "output_type": "stream",
     "text": [
      "Find Content!\n",
      "SEARCHING Iloc :  1301\n",
      "0\n"
     ]
    },
    {
     "name": "stderr",
     "output_type": "stream",
     "text": [
      "\r",
      "1302it [12:07,  3.88s/it]"
     ]
    },
    {
     "name": "stdout",
     "output_type": "stream",
     "text": [
      "Find Content!\n",
      "SEARCHING Iloc :  1302\n",
      "0\n",
      "Find Content!\n"
     ]
    },
    {
     "name": "stderr",
     "output_type": "stream",
     "text": [
      "\r",
      "1303it [12:11,  3.74s/it]"
     ]
    },
    {
     "name": "stdout",
     "output_type": "stream",
     "text": [
      "SEARCHING Iloc :  1303\n",
      "0\n"
     ]
    },
    {
     "name": "stderr",
     "output_type": "stream",
     "text": [
      "\r",
      "1304it [12:14,  3.72s/it]"
     ]
    },
    {
     "name": "stdout",
     "output_type": "stream",
     "text": [
      "Find Content!\n",
      "SEARCHING Iloc :  1304\n",
      "0\n"
     ]
    },
    {
     "name": "stderr",
     "output_type": "stream",
     "text": [
      "\r",
      "1305it [12:18,  3.56s/it]"
     ]
    },
    {
     "name": "stdout",
     "output_type": "stream",
     "text": [
      "Find Content!\n",
      "SEARCHING Iloc :  1305\n",
      "0\n"
     ]
    },
    {
     "name": "stderr",
     "output_type": "stream",
     "text": [
      "\r",
      "1306it [12:21,  3.45s/it]"
     ]
    },
    {
     "name": "stdout",
     "output_type": "stream",
     "text": [
      "Find Content!\n",
      "SEARCHING Iloc :  1306\n",
      "0\n",
      "Find Content!\n"
     ]
    },
    {
     "name": "stderr",
     "output_type": "stream",
     "text": [
      "\r",
      "1307it [12:24,  3.53s/it]"
     ]
    },
    {
     "name": "stdout",
     "output_type": "stream",
     "text": [
      "SEARCHING Iloc :  1307\n",
      "0\n"
     ]
    },
    {
     "name": "stderr",
     "output_type": "stream",
     "text": [
      "\r",
      "1308it [12:28,  3.58s/it]"
     ]
    },
    {
     "name": "stdout",
     "output_type": "stream",
     "text": [
      "Find Content!\n",
      "SEARCHING Iloc :  1308\n",
      "0\n"
     ]
    },
    {
     "name": "stderr",
     "output_type": "stream",
     "text": [
      "\r",
      "1309it [12:31,  3.51s/it]"
     ]
    },
    {
     "name": "stdout",
     "output_type": "stream",
     "text": [
      "Find Content!\n",
      "SEARCHING Iloc :  1309\n",
      "0\n"
     ]
    },
    {
     "name": "stderr",
     "output_type": "stream",
     "text": [
      "\r",
      "1310it [12:35,  3.52s/it]"
     ]
    },
    {
     "name": "stdout",
     "output_type": "stream",
     "text": [
      "Find Content!\n",
      "SEARCHING Iloc :  1310\n",
      "0\n",
      "Find Content!\n"
     ]
    },
    {
     "name": "stderr",
     "output_type": "stream",
     "text": [
      "\r",
      "1311it [12:39,  3.58s/it]"
     ]
    },
    {
     "name": "stdout",
     "output_type": "stream",
     "text": [
      "SEARCHING Iloc :  1311\n",
      "0\n"
     ]
    },
    {
     "name": "stderr",
     "output_type": "stream",
     "text": [
      "\r",
      "1312it [12:42,  3.44s/it]"
     ]
    },
    {
     "name": "stdout",
     "output_type": "stream",
     "text": [
      "Find Content!\n",
      "SEARCHING Iloc :  1312\n",
      "0\n"
     ]
    },
    {
     "name": "stderr",
     "output_type": "stream",
     "text": [
      "\r",
      "1313it [12:46,  3.52s/it]"
     ]
    },
    {
     "name": "stdout",
     "output_type": "stream",
     "text": [
      "Find Content!\n",
      "SEARCHING Iloc :  1313\n",
      "0\n",
      "Find Content!\n"
     ]
    },
    {
     "name": "stderr",
     "output_type": "stream",
     "text": [
      "\r",
      "1314it [12:49,  3.60s/it]"
     ]
    },
    {
     "name": "stdout",
     "output_type": "stream",
     "text": [
      "SEARCHING Iloc :  1314\n",
      "0\n"
     ]
    },
    {
     "name": "stderr",
     "output_type": "stream",
     "text": [
      "\r",
      "1315it [12:53,  3.59s/it]"
     ]
    },
    {
     "name": "stdout",
     "output_type": "stream",
     "text": [
      "Find Content!\n",
      "SEARCHING Iloc :  1315\n",
      "0\n"
     ]
    },
    {
     "name": "stderr",
     "output_type": "stream",
     "text": [
      "\r",
      "1316it [12:56,  3.48s/it]"
     ]
    },
    {
     "name": "stdout",
     "output_type": "stream",
     "text": [
      "Find Content!\n",
      "SEARCHING Iloc :  1316\n",
      "0\n"
     ]
    },
    {
     "name": "stderr",
     "output_type": "stream",
     "text": [
      "\r",
      "1317it [13:00,  3.57s/it]"
     ]
    },
    {
     "name": "stdout",
     "output_type": "stream",
     "text": [
      "Find Content!\n",
      "SEARCHING Iloc :  1317\n",
      "0\n",
      "Find Content!\n"
     ]
    },
    {
     "name": "stderr",
     "output_type": "stream",
     "text": [
      "\r",
      "1318it [13:04,  3.59s/it]"
     ]
    },
    {
     "name": "stdout",
     "output_type": "stream",
     "text": [
      "SEARCHING Iloc :  1318\n",
      "0\n"
     ]
    },
    {
     "name": "stderr",
     "output_type": "stream",
     "text": [
      "\r",
      "1319it [13:07,  3.55s/it]"
     ]
    },
    {
     "name": "stdout",
     "output_type": "stream",
     "text": [
      "Find Content!\n",
      "SEARCHING Iloc :  1319\n",
      "0\n"
     ]
    },
    {
     "name": "stderr",
     "output_type": "stream",
     "text": [
      "\r",
      "1320it [13:11,  3.54s/it]"
     ]
    },
    {
     "name": "stdout",
     "output_type": "stream",
     "text": [
      "Find Content!\n",
      "SEARCHING Iloc :  1320\n",
      "0\n"
     ]
    },
    {
     "name": "stderr",
     "output_type": "stream",
     "text": [
      "\r",
      "1321it [13:15,  3.74s/it]"
     ]
    },
    {
     "name": "stdout",
     "output_type": "stream",
     "text": [
      "Find Content!\n",
      "SEARCHING Iloc :  1321\n",
      "0\n",
      "Find Content!\n"
     ]
    },
    {
     "name": "stderr",
     "output_type": "stream",
     "text": [
      "\r",
      "1322it [13:19,  3.86s/it]"
     ]
    },
    {
     "name": "stdout",
     "output_type": "stream",
     "text": [
      "SEARCHING Iloc :  1322\n",
      "0\n"
     ]
    },
    {
     "name": "stderr",
     "output_type": "stream",
     "text": [
      "\r",
      "1323it [13:23,  3.90s/it]"
     ]
    },
    {
     "name": "stdout",
     "output_type": "stream",
     "text": [
      "Find Content!\n",
      "SEARCHING Iloc :  1323\n",
      "0\n"
     ]
    },
    {
     "name": "stderr",
     "output_type": "stream",
     "text": [
      "\r",
      "1324it [13:28,  4.15s/it]"
     ]
    },
    {
     "name": "stdout",
     "output_type": "stream",
     "text": [
      "Find Content!\n",
      "SEARCHING Iloc :  1324\n",
      "0\n"
     ]
    },
    {
     "name": "stderr",
     "output_type": "stream",
     "text": [
      "\r",
      "1325it [13:32,  4.11s/it]"
     ]
    },
    {
     "name": "stdout",
     "output_type": "stream",
     "text": [
      "Find Content!\n",
      "SEARCHING Iloc :  1325\n",
      "0\n",
      "Find Content!\n"
     ]
    },
    {
     "name": "stderr",
     "output_type": "stream",
     "text": [
      "\r",
      "1326it [13:36,  4.28s/it]"
     ]
    },
    {
     "name": "stdout",
     "output_type": "stream",
     "text": [
      "SEARCHING Iloc :  1326\n",
      "0\n"
     ]
    },
    {
     "name": "stderr",
     "output_type": "stream",
     "text": [
      "\r",
      "1327it [13:40,  4.21s/it]"
     ]
    },
    {
     "name": "stdout",
     "output_type": "stream",
     "text": [
      "Find Content!\n",
      "SEARCHING Iloc :  1327\n",
      "0\n"
     ]
    },
    {
     "name": "stderr",
     "output_type": "stream",
     "text": [
      "\r",
      "1328it [13:45,  4.31s/it]"
     ]
    },
    {
     "name": "stdout",
     "output_type": "stream",
     "text": [
      "Find Content!\n",
      "SEARCHING Iloc :  1328\n",
      "0\n"
     ]
    },
    {
     "name": "stderr",
     "output_type": "stream",
     "text": [
      "\r",
      "1329it [13:49,  4.26s/it]"
     ]
    },
    {
     "name": "stdout",
     "output_type": "stream",
     "text": [
      "Find Content!\n",
      "SEARCHING Iloc :  1329\n",
      "0\n",
      "Find Content!\n"
     ]
    },
    {
     "name": "stderr",
     "output_type": "stream",
     "text": [
      "\r",
      "1330it [13:53,  4.24s/it]"
     ]
    },
    {
     "name": "stdout",
     "output_type": "stream",
     "text": [
      "SEARCHING Iloc :  1330\n",
      "0\n"
     ]
    },
    {
     "name": "stderr",
     "output_type": "stream",
     "text": [
      "\r",
      "1331it [13:58,  4.31s/it]"
     ]
    },
    {
     "name": "stdout",
     "output_type": "stream",
     "text": [
      "Find Content!\n",
      "SEARCHING Iloc :  1331\n",
      "0\n"
     ]
    },
    {
     "name": "stderr",
     "output_type": "stream",
     "text": [
      "\r",
      "1332it [14:01,  4.08s/it]"
     ]
    },
    {
     "name": "stdout",
     "output_type": "stream",
     "text": [
      "Find Content!\n",
      "SEARCHING Iloc :  1332\n",
      "0\n"
     ]
    },
    {
     "name": "stderr",
     "output_type": "stream",
     "text": [
      "\r",
      "1333it [14:07,  4.56s/it]"
     ]
    },
    {
     "name": "stdout",
     "output_type": "stream",
     "text": [
      "Find Content!\n",
      "SEARCHING Iloc :  1333\n",
      "0\n",
      "Find Content!\n"
     ]
    },
    {
     "name": "stderr",
     "output_type": "stream",
     "text": [
      "\r",
      "1334it [14:10,  4.27s/it]"
     ]
    },
    {
     "name": "stdout",
     "output_type": "stream",
     "text": [
      "SEARCHING Iloc :  1334\n",
      "0\n"
     ]
    },
    {
     "name": "stderr",
     "output_type": "stream",
     "text": [
      "\r",
      "1335it [14:15,  4.24s/it]"
     ]
    },
    {
     "name": "stdout",
     "output_type": "stream",
     "text": [
      "Find Content!\n",
      "SEARCHING Iloc :  1335\n",
      "0\n"
     ]
    },
    {
     "name": "stderr",
     "output_type": "stream",
     "text": [
      "\r",
      "1336it [14:20,  4.51s/it]"
     ]
    },
    {
     "name": "stdout",
     "output_type": "stream",
     "text": [
      "Find Content!\n",
      "SEARCHING Iloc :  1336\n",
      "0\n"
     ]
    },
    {
     "name": "stderr",
     "output_type": "stream",
     "text": [
      "\r",
      "1337it [14:23,  4.18s/it]"
     ]
    },
    {
     "name": "stdout",
     "output_type": "stream",
     "text": [
      "Find Content!\n",
      "SEARCHING Iloc :  1337\n",
      "0\n",
      "Find Content!\n"
     ]
    },
    {
     "name": "stderr",
     "output_type": "stream",
     "text": [
      "\r",
      "1338it [14:27,  4.15s/it]"
     ]
    },
    {
     "name": "stdout",
     "output_type": "stream",
     "text": [
      "SEARCHING Iloc :  1338\n",
      "0\n"
     ]
    },
    {
     "name": "stderr",
     "output_type": "stream",
     "text": [
      "\r",
      "1339it [14:32,  4.18s/it]"
     ]
    },
    {
     "name": "stdout",
     "output_type": "stream",
     "text": [
      "Find Content!\n",
      "SEARCHING Iloc :  1339\n",
      "0\n"
     ]
    },
    {
     "name": "stderr",
     "output_type": "stream",
     "text": [
      "\r",
      "1340it [14:36,  4.14s/it]"
     ]
    },
    {
     "name": "stdout",
     "output_type": "stream",
     "text": [
      "Find Content!\n",
      "SEARCHING Iloc :  1340\n",
      "0\n",
      "Find Content!\n"
     ]
    },
    {
     "name": "stderr",
     "output_type": "stream",
     "text": [
      "\r",
      "1341it [14:39,  4.01s/it]"
     ]
    },
    {
     "name": "stdout",
     "output_type": "stream",
     "text": [
      "SEARCHING Iloc :  1341\n",
      "0\n"
     ]
    },
    {
     "name": "stderr",
     "output_type": "stream",
     "text": [
      "\r",
      "1342it [14:43,  3.98s/it]"
     ]
    },
    {
     "name": "stdout",
     "output_type": "stream",
     "text": [
      "Find Content!\n",
      "SEARCHING Iloc :  1342\n",
      "0\n"
     ]
    },
    {
     "name": "stderr",
     "output_type": "stream",
     "text": [
      "\r",
      "1343it [14:48,  4.36s/it]"
     ]
    },
    {
     "name": "stdout",
     "output_type": "stream",
     "text": [
      "Find Content!\n",
      "SEARCHING Iloc :  1343\n",
      "0\n"
     ]
    },
    {
     "name": "stderr",
     "output_type": "stream",
     "text": [
      "\r",
      "1344it [14:52,  4.08s/it]"
     ]
    },
    {
     "name": "stdout",
     "output_type": "stream",
     "text": [
      "Find Content!\n",
      "SEARCHING Iloc :  1344\n",
      "0\n",
      "Find Content!\n"
     ]
    },
    {
     "name": "stderr",
     "output_type": "stream",
     "text": [
      "\r",
      "1345it [14:56,  4.08s/it]"
     ]
    },
    {
     "name": "stdout",
     "output_type": "stream",
     "text": [
      "SEARCHING Iloc :  1345\n",
      "0\n"
     ]
    },
    {
     "name": "stderr",
     "output_type": "stream",
     "text": [
      "\r",
      "1346it [15:00,  3.99s/it]"
     ]
    },
    {
     "name": "stdout",
     "output_type": "stream",
     "text": [
      "Find Content!\n",
      "SEARCHING Iloc :  1346\n",
      "0\n"
     ]
    },
    {
     "name": "stderr",
     "output_type": "stream",
     "text": [
      "\r",
      "1347it [15:03,  3.78s/it]"
     ]
    },
    {
     "name": "stdout",
     "output_type": "stream",
     "text": [
      "Find Content!\n",
      "SEARCHING Iloc :  1347\n",
      "0\n"
     ]
    },
    {
     "name": "stderr",
     "output_type": "stream",
     "text": [
      "\r",
      "1348it [15:09,  4.47s/it]"
     ]
    },
    {
     "name": "stdout",
     "output_type": "stream",
     "text": [
      "Find Content!\n",
      "SEARCHING Iloc :  1348\n",
      "0\n",
      "Find Content!\n"
     ]
    },
    {
     "name": "stderr",
     "output_type": "stream",
     "text": [
      "\r",
      "1349it [15:12,  4.13s/it]"
     ]
    },
    {
     "name": "stdout",
     "output_type": "stream",
     "text": [
      "SEARCHING Iloc :  1349\n",
      "0\n",
      "Find Content!\n"
     ]
    },
    {
     "name": "stderr",
     "output_type": "stream",
     "text": [
      "\r",
      "1350it [15:17,  4.20s/it]"
     ]
    },
    {
     "name": "stdout",
     "output_type": "stream",
     "text": [
      "SEARCHING Iloc :  1350\n",
      "0\n",
      "Find Content!\n"
     ]
    },
    {
     "name": "stderr",
     "output_type": "stream",
     "text": [
      "\r",
      "1351it [15:21,  4.12s/it]"
     ]
    },
    {
     "name": "stdout",
     "output_type": "stream",
     "text": [
      "SEARCHING Iloc :  1351\n",
      "0\n"
     ]
    },
    {
     "name": "stderr",
     "output_type": "stream",
     "text": [
      "\r",
      "1352it [15:25,  4.04s/it]"
     ]
    },
    {
     "name": "stdout",
     "output_type": "stream",
     "text": [
      "Find Content!\n",
      "SEARCHING Iloc :  1352\n",
      "0\n",
      "Find Content!\n"
     ]
    },
    {
     "name": "stderr",
     "output_type": "stream",
     "text": [
      "\r",
      "1353it [15:28,  3.95s/it]"
     ]
    },
    {
     "name": "stdout",
     "output_type": "stream",
     "text": [
      "SEARCHING Iloc :  1353\n",
      "0\n"
     ]
    },
    {
     "name": "stderr",
     "output_type": "stream",
     "text": [
      "\r",
      "1354it [15:32,  3.75s/it]"
     ]
    },
    {
     "name": "stdout",
     "output_type": "stream",
     "text": [
      "Find Content!\n",
      "SEARCHING Iloc :  1354\n",
      "0\n"
     ]
    },
    {
     "name": "stderr",
     "output_type": "stream",
     "text": [
      "\r",
      "1355it [15:35,  3.73s/it]"
     ]
    },
    {
     "name": "stdout",
     "output_type": "stream",
     "text": [
      "Find Content!\n",
      "SEARCHING Iloc :  1355\n",
      "0\n"
     ]
    },
    {
     "name": "stderr",
     "output_type": "stream",
     "text": [
      "\r",
      "1356it [15:39,  3.73s/it]"
     ]
    },
    {
     "name": "stdout",
     "output_type": "stream",
     "text": [
      "Find Content!\n",
      "SEARCHING Iloc :  1356\n",
      "0\n",
      "Find Content!\n"
     ]
    },
    {
     "name": "stderr",
     "output_type": "stream",
     "text": [
      "\r",
      "1357it [15:42,  3.64s/it]"
     ]
    },
    {
     "name": "stdout",
     "output_type": "stream",
     "text": [
      "SEARCHING Iloc :  1357\n",
      "0\n"
     ]
    },
    {
     "name": "stderr",
     "output_type": "stream",
     "text": [
      "\r",
      "1358it [15:46,  3.64s/it]"
     ]
    },
    {
     "name": "stdout",
     "output_type": "stream",
     "text": [
      "Find Content!\n",
      "SEARCHING Iloc :  1358\n",
      "0\n"
     ]
    },
    {
     "name": "stderr",
     "output_type": "stream",
     "text": [
      "\r",
      "1359it [15:49,  3.53s/it]"
     ]
    },
    {
     "name": "stdout",
     "output_type": "stream",
     "text": [
      "Find Content!\n",
      "SEARCHING Iloc :  1359\n",
      "0\n"
     ]
    },
    {
     "name": "stderr",
     "output_type": "stream",
     "text": [
      "\r",
      "1360it [15:53,  3.41s/it]"
     ]
    },
    {
     "name": "stdout",
     "output_type": "stream",
     "text": [
      "Find Content!\n",
      "SEARCHING Iloc :  1360\n",
      "0\n",
      "Find Content!\n"
     ]
    },
    {
     "name": "stderr",
     "output_type": "stream",
     "text": [
      "\r",
      "1361it [15:56,  3.39s/it]"
     ]
    },
    {
     "name": "stdout",
     "output_type": "stream",
     "text": [
      "SEARCHING Iloc :  1361\n",
      "0\n"
     ]
    },
    {
     "name": "stderr",
     "output_type": "stream",
     "text": [
      "\r",
      "1362it [15:59,  3.45s/it]"
     ]
    },
    {
     "name": "stdout",
     "output_type": "stream",
     "text": [
      "Find Content!\n",
      "SEARCHING Iloc :  1362\n",
      "0\n"
     ]
    },
    {
     "name": "stderr",
     "output_type": "stream",
     "text": [
      "\r",
      "1363it [16:03,  3.52s/it]"
     ]
    },
    {
     "name": "stdout",
     "output_type": "stream",
     "text": [
      "Find Content!\n",
      "SEARCHING Iloc :  1363\n",
      "0\n",
      "Find Content!\n"
     ]
    },
    {
     "name": "stderr",
     "output_type": "stream",
     "text": [
      "\r",
      "1364it [16:07,  3.58s/it]"
     ]
    },
    {
     "name": "stdout",
     "output_type": "stream",
     "text": [
      "SEARCHING Iloc :  1364\n",
      "0\n"
     ]
    },
    {
     "name": "stderr",
     "output_type": "stream",
     "text": [
      "\r",
      "1365it [16:10,  3.60s/it]"
     ]
    },
    {
     "name": "stdout",
     "output_type": "stream",
     "text": [
      "Find Content!\n",
      "SEARCHING Iloc :  1365\n",
      "0\n"
     ]
    },
    {
     "name": "stderr",
     "output_type": "stream",
     "text": [
      "\r",
      "1366it [16:14,  3.58s/it]"
     ]
    },
    {
     "name": "stdout",
     "output_type": "stream",
     "text": [
      "Find Content!\n",
      "SEARCHING Iloc :  1366\n",
      "0\n"
     ]
    },
    {
     "name": "stderr",
     "output_type": "stream",
     "text": [
      "\r",
      "1367it [16:18,  3.59s/it]"
     ]
    },
    {
     "name": "stdout",
     "output_type": "stream",
     "text": [
      "Find Content!\n",
      "SEARCHING Iloc :  1367\n",
      "0\n",
      "Find Content!\n"
     ]
    },
    {
     "name": "stderr",
     "output_type": "stream",
     "text": [
      "\r",
      "1368it [16:21,  3.60s/it]"
     ]
    },
    {
     "name": "stdout",
     "output_type": "stream",
     "text": [
      "SEARCHING Iloc :  1368\n",
      "0\n"
     ]
    },
    {
     "name": "stderr",
     "output_type": "stream",
     "text": [
      "\r",
      "1369it [16:24,  3.46s/it]"
     ]
    },
    {
     "name": "stdout",
     "output_type": "stream",
     "text": [
      "Find Content!\n",
      "SEARCHING Iloc :  1369\n",
      "0\n"
     ]
    },
    {
     "name": "stderr",
     "output_type": "stream",
     "text": [
      "\r",
      "1370it [16:28,  3.48s/it]"
     ]
    },
    {
     "name": "stdout",
     "output_type": "stream",
     "text": [
      "Find Content!\n",
      "SEARCHING Iloc :  1370\n",
      "0\n"
     ]
    },
    {
     "name": "stderr",
     "output_type": "stream",
     "text": [
      "\r",
      "1371it [16:32,  3.54s/it]"
     ]
    },
    {
     "name": "stdout",
     "output_type": "stream",
     "text": [
      "Find Content!\n",
      "SEARCHING Iloc :  1371\n",
      "0\n",
      "Find Content!\n"
     ]
    },
    {
     "name": "stderr",
     "output_type": "stream",
     "text": [
      "\r",
      "1372it [16:35,  3.47s/it]"
     ]
    },
    {
     "name": "stdout",
     "output_type": "stream",
     "text": [
      "SEARCHING Iloc :  1372\n",
      "0\n"
     ]
    },
    {
     "name": "stderr",
     "output_type": "stream",
     "text": [
      "\r",
      "1373it [16:39,  3.54s/it]"
     ]
    },
    {
     "name": "stdout",
     "output_type": "stream",
     "text": [
      "Find Content!\n",
      "SEARCHING Iloc :  1373\n",
      "0\n"
     ]
    },
    {
     "name": "stderr",
     "output_type": "stream",
     "text": [
      "\r",
      "1374it [16:42,  3.59s/it]"
     ]
    },
    {
     "name": "stdout",
     "output_type": "stream",
     "text": [
      "Find Content!\n",
      "SEARCHING Iloc :  1374\n",
      "0\n"
     ]
    },
    {
     "name": "stderr",
     "output_type": "stream",
     "text": [
      "\r",
      "1375it [16:46,  3.57s/it]"
     ]
    },
    {
     "name": "stdout",
     "output_type": "stream",
     "text": [
      "Find Content!\n",
      "SEARCHING Iloc :  1375\n",
      "0\n",
      "Find Content!\n"
     ]
    },
    {
     "name": "stderr",
     "output_type": "stream",
     "text": [
      "\r",
      "1376it [16:49,  3.59s/it]"
     ]
    },
    {
     "name": "stdout",
     "output_type": "stream",
     "text": [
      "SEARCHING Iloc :  1376\n",
      "0\n",
      "Find Content!\n"
     ]
    },
    {
     "name": "stderr",
     "output_type": "stream",
     "text": [
      "\r",
      "1377it [16:53,  3.62s/it]"
     ]
    },
    {
     "name": "stdout",
     "output_type": "stream",
     "text": [
      "SEARCHING Iloc :  1377\n",
      "0\n"
     ]
    },
    {
     "name": "stderr",
     "output_type": "stream",
     "text": [
      "\r",
      "1378it [16:57,  3.55s/it]"
     ]
    },
    {
     "name": "stdout",
     "output_type": "stream",
     "text": [
      "Find Content!\n",
      "SEARCHING Iloc :  1378\n",
      "0\n"
     ]
    },
    {
     "name": "stderr",
     "output_type": "stream",
     "text": [
      "\r",
      "1379it [17:00,  3.59s/it]"
     ]
    },
    {
     "name": "stdout",
     "output_type": "stream",
     "text": [
      "Find Content!\n",
      "SEARCHING Iloc :  1379\n",
      "0\n",
      "Find Content!\n"
     ]
    },
    {
     "name": "stderr",
     "output_type": "stream",
     "text": [
      "\r",
      "1380it [17:04,  3.72s/it]"
     ]
    },
    {
     "name": "stdout",
     "output_type": "stream",
     "text": [
      "SEARCHING Iloc :  1380\n",
      "0\n"
     ]
    },
    {
     "name": "stderr",
     "output_type": "stream",
     "text": [
      "\r",
      "1381it [17:08,  3.72s/it]"
     ]
    },
    {
     "name": "stdout",
     "output_type": "stream",
     "text": [
      "Find Content!\n",
      "SEARCHING Iloc :  1381\n",
      "0\n"
     ]
    },
    {
     "name": "stderr",
     "output_type": "stream",
     "text": [
      "\r",
      "1382it [17:11,  3.62s/it]"
     ]
    },
    {
     "name": "stdout",
     "output_type": "stream",
     "text": [
      "Find Content!\n",
      "SEARCHING Iloc :  1382\n",
      "0\n"
     ]
    },
    {
     "name": "stderr",
     "output_type": "stream",
     "text": [
      "\r",
      "1383it [17:15,  3.58s/it]"
     ]
    },
    {
     "name": "stdout",
     "output_type": "stream",
     "text": [
      "Find Content!\n",
      "SEARCHING Iloc :  1383\n",
      "0\n",
      "Find Content!\n"
     ]
    },
    {
     "name": "stderr",
     "output_type": "stream",
     "text": [
      "\r",
      "1384it [17:18,  3.49s/it]"
     ]
    },
    {
     "name": "stdout",
     "output_type": "stream",
     "text": [
      "SEARCHING Iloc :  1384\n",
      "0\n"
     ]
    },
    {
     "name": "stderr",
     "output_type": "stream",
     "text": [
      "\r",
      "1385it [17:22,  3.52s/it]"
     ]
    },
    {
     "name": "stdout",
     "output_type": "stream",
     "text": [
      "Find Content!\n",
      "SEARCHING Iloc :  1385\n",
      "0\n"
     ]
    },
    {
     "name": "stderr",
     "output_type": "stream",
     "text": [
      "\r",
      "1386it [17:26,  3.63s/it]"
     ]
    },
    {
     "name": "stdout",
     "output_type": "stream",
     "text": [
      "Find Content!\n",
      "SEARCHING Iloc :  1386\n",
      "0\n"
     ]
    },
    {
     "name": "stderr",
     "output_type": "stream",
     "text": [
      "\r",
      "1387it [17:29,  3.47s/it]"
     ]
    },
    {
     "name": "stdout",
     "output_type": "stream",
     "text": [
      "Find Content!\n",
      "SEARCHING Iloc :  1387\n",
      "0\n",
      "Find Content!\n"
     ]
    },
    {
     "name": "stderr",
     "output_type": "stream",
     "text": [
      "\r",
      "1388it [17:33,  3.59s/it]"
     ]
    },
    {
     "name": "stdout",
     "output_type": "stream",
     "text": [
      "SEARCHING Iloc :  1388\n",
      "0\n"
     ]
    },
    {
     "name": "stderr",
     "output_type": "stream",
     "text": [
      "\r",
      "1389it [17:36,  3.54s/it]"
     ]
    },
    {
     "name": "stdout",
     "output_type": "stream",
     "text": [
      "Find Content!\n",
      "SEARCHING Iloc :  1389\n",
      "0\n"
     ]
    },
    {
     "name": "stderr",
     "output_type": "stream",
     "text": [
      "\r",
      "1390it [17:40,  3.54s/it]"
     ]
    },
    {
     "name": "stdout",
     "output_type": "stream",
     "text": [
      "Find Content!\n",
      "SEARCHING Iloc :  1390\n",
      "0\n",
      "Find Content!\n"
     ]
    },
    {
     "name": "stderr",
     "output_type": "stream",
     "text": [
      "\r",
      "1391it [17:43,  3.63s/it]"
     ]
    },
    {
     "name": "stdout",
     "output_type": "stream",
     "text": [
      "SEARCHING Iloc :  1391\n",
      "0\n"
     ]
    },
    {
     "name": "stderr",
     "output_type": "stream",
     "text": [
      "\r",
      "1392it [17:47,  3.52s/it]"
     ]
    },
    {
     "name": "stdout",
     "output_type": "stream",
     "text": [
      "Find Content!\n",
      "SEARCHING Iloc :  1392\n",
      "0\n"
     ]
    },
    {
     "name": "stderr",
     "output_type": "stream",
     "text": [
      "\r",
      "1393it [17:50,  3.44s/it]"
     ]
    },
    {
     "name": "stdout",
     "output_type": "stream",
     "text": [
      "Find Content!\n",
      "SEARCHING Iloc :  1393\n",
      "0\n"
     ]
    },
    {
     "name": "stderr",
     "output_type": "stream",
     "text": [
      "\r",
      "1394it [17:53,  3.36s/it]"
     ]
    },
    {
     "name": "stdout",
     "output_type": "stream",
     "text": [
      "Find Content!\n",
      "SEARCHING Iloc :  1394\n",
      "0\n",
      "Find Content!\n"
     ]
    },
    {
     "name": "stderr",
     "output_type": "stream",
     "text": [
      "\r",
      "1395it [17:56,  3.37s/it]"
     ]
    },
    {
     "name": "stdout",
     "output_type": "stream",
     "text": [
      "SEARCHING Iloc :  1395\n",
      "0\n"
     ]
    },
    {
     "name": "stderr",
     "output_type": "stream",
     "text": [
      "\r",
      "1396it [18:00,  3.32s/it]"
     ]
    },
    {
     "name": "stdout",
     "output_type": "stream",
     "text": [
      "Find Content!\n",
      "SEARCHING Iloc :  1396\n",
      "0\n"
     ]
    },
    {
     "name": "stderr",
     "output_type": "stream",
     "text": [
      "\r",
      "1397it [18:03,  3.42s/it]"
     ]
    },
    {
     "name": "stdout",
     "output_type": "stream",
     "text": [
      "Find Content!\n",
      "SEARCHING Iloc :  1397\n",
      "0\n"
     ]
    },
    {
     "name": "stderr",
     "output_type": "stream",
     "text": [
      "\r",
      "1398it [18:07,  3.49s/it]"
     ]
    },
    {
     "name": "stdout",
     "output_type": "stream",
     "text": [
      "Find Content!\n",
      "SEARCHING Iloc :  1398\n",
      "0\n",
      "Find Content!\n"
     ]
    },
    {
     "name": "stderr",
     "output_type": "stream",
     "text": [
      "\r",
      "1399it [18:10,  3.46s/it]"
     ]
    },
    {
     "name": "stdout",
     "output_type": "stream",
     "text": [
      "SEARCHING Iloc :  1399\n",
      "0\n"
     ]
    },
    {
     "name": "stderr",
     "output_type": "stream",
     "text": [
      "\r",
      "1400it [18:14,  3.52s/it]"
     ]
    },
    {
     "name": "stdout",
     "output_type": "stream",
     "text": [
      "Find Content!\n",
      "SEARCHING Iloc :  1400\n",
      "0\n"
     ]
    },
    {
     "name": "stderr",
     "output_type": "stream",
     "text": [
      "\r",
      "1401it [18:18,  3.55s/it]"
     ]
    },
    {
     "name": "stdout",
     "output_type": "stream",
     "text": [
      "Find Content!\n",
      "SEARCHING Iloc :  1401\n",
      "0\n"
     ]
    },
    {
     "name": "stderr",
     "output_type": "stream",
     "text": [
      "\r",
      "1402it [18:21,  3.62s/it]"
     ]
    },
    {
     "name": "stdout",
     "output_type": "stream",
     "text": [
      "Find Content!\n",
      "SEARCHING Iloc :  1402\n",
      "0\n",
      "Find Content!\n"
     ]
    },
    {
     "name": "stderr",
     "output_type": "stream",
     "text": [
      "\r",
      "1403it [18:25,  3.58s/it]"
     ]
    },
    {
     "name": "stdout",
     "output_type": "stream",
     "text": [
      "SEARCHING Iloc :  1403\n",
      "0\n"
     ]
    },
    {
     "name": "stderr",
     "output_type": "stream",
     "text": [
      "\r",
      "1404it [18:29,  3.59s/it]"
     ]
    },
    {
     "name": "stdout",
     "output_type": "stream",
     "text": [
      "Find Content!\n",
      "SEARCHING Iloc :  1404\n",
      "0\n"
     ]
    },
    {
     "name": "stderr",
     "output_type": "stream",
     "text": [
      "\r",
      "1405it [18:32,  3.49s/it]"
     ]
    },
    {
     "name": "stdout",
     "output_type": "stream",
     "text": [
      "Find Content!\n",
      "SEARCHING Iloc :  1405\n",
      "0\n"
     ]
    },
    {
     "name": "stderr",
     "output_type": "stream",
     "text": [
      "\r",
      "1406it [18:35,  3.42s/it]"
     ]
    },
    {
     "name": "stdout",
     "output_type": "stream",
     "text": [
      "Find Content!\n",
      "SEARCHING Iloc :  1406\n",
      "0\n",
      "Find Content!\n"
     ]
    },
    {
     "name": "stderr",
     "output_type": "stream",
     "text": [
      "\r",
      "1407it [18:39,  3.56s/it]"
     ]
    },
    {
     "name": "stdout",
     "output_type": "stream",
     "text": [
      "SEARCHING Iloc :  1407\n",
      "0\n"
     ]
    },
    {
     "name": "stderr",
     "output_type": "stream",
     "text": [
      "\r",
      "1408it [18:43,  3.62s/it]"
     ]
    },
    {
     "name": "stdout",
     "output_type": "stream",
     "text": [
      "Find Content!\n",
      "SEARCHING Iloc :  1408\n",
      "0\n"
     ]
    },
    {
     "name": "stderr",
     "output_type": "stream",
     "text": [
      "\r",
      "1409it [18:46,  3.54s/it]"
     ]
    },
    {
     "name": "stdout",
     "output_type": "stream",
     "text": [
      "Find Content!\n",
      "SEARCHING Iloc :  1409\n",
      "0\n"
     ]
    },
    {
     "name": "stderr",
     "output_type": "stream",
     "text": [
      "\r",
      "1410it [18:49,  3.44s/it]"
     ]
    },
    {
     "name": "stdout",
     "output_type": "stream",
     "text": [
      "Find Content!\n",
      "SEARCHING Iloc :  1410\n",
      "0\n",
      "Find Content!\n"
     ]
    },
    {
     "name": "stderr",
     "output_type": "stream",
     "text": [
      "\r",
      "1411it [18:53,  3.43s/it]"
     ]
    },
    {
     "name": "stdout",
     "output_type": "stream",
     "text": [
      "SEARCHING Iloc :  1411\n",
      "0\n"
     ]
    },
    {
     "name": "stderr",
     "output_type": "stream",
     "text": [
      "\r",
      "1412it [18:56,  3.26s/it]"
     ]
    },
    {
     "name": "stdout",
     "output_type": "stream",
     "text": [
      "Find Content!\n",
      "SEARCHING Iloc :  1412\n",
      "0\n"
     ]
    },
    {
     "name": "stderr",
     "output_type": "stream",
     "text": [
      "\r",
      "1413it [18:59,  3.43s/it]"
     ]
    },
    {
     "name": "stdout",
     "output_type": "stream",
     "text": [
      "Find Content!\n",
      "SEARCHING Iloc :  1413\n",
      "0\n"
     ]
    },
    {
     "name": "stderr",
     "output_type": "stream",
     "text": [
      "\r",
      "1414it [19:03,  3.47s/it]"
     ]
    },
    {
     "name": "stdout",
     "output_type": "stream",
     "text": [
      "Find Content!\n",
      "SEARCHING Iloc :  1414\n",
      "0\n",
      "Find Content!\n"
     ]
    },
    {
     "name": "stderr",
     "output_type": "stream",
     "text": [
      "\r",
      "1415it [19:06,  3.39s/it]"
     ]
    },
    {
     "name": "stdout",
     "output_type": "stream",
     "text": [
      "SEARCHING Iloc :  1415\n",
      "0\n"
     ]
    },
    {
     "name": "stderr",
     "output_type": "stream",
     "text": [
      "\r",
      "1416it [19:10,  3.44s/it]"
     ]
    },
    {
     "name": "stdout",
     "output_type": "stream",
     "text": [
      "Find Content!\n",
      "SEARCHING Iloc :  1416\n",
      "0\n"
     ]
    },
    {
     "name": "stderr",
     "output_type": "stream",
     "text": [
      "\r",
      "1417it [19:13,  3.55s/it]"
     ]
    },
    {
     "name": "stdout",
     "output_type": "stream",
     "text": [
      "Find Content!\n",
      "SEARCHING Iloc :  1417\n",
      "0\n"
     ]
    },
    {
     "name": "stderr",
     "output_type": "stream",
     "text": [
      "\r",
      "1418it [19:17,  3.43s/it]"
     ]
    },
    {
     "name": "stdout",
     "output_type": "stream",
     "text": [
      "Find Content!\n",
      "SEARCHING Iloc :  1418\n",
      "0\n",
      "Find Content!\n"
     ]
    },
    {
     "name": "stderr",
     "output_type": "stream",
     "text": [
      "\r",
      "1419it [19:25,  4.91s/it]"
     ]
    },
    {
     "name": "stdout",
     "output_type": "stream",
     "text": [
      "SEARCHING Iloc :  1419\n",
      "0\n"
     ]
    },
    {
     "name": "stderr",
     "output_type": "stream",
     "text": [
      "\r",
      "1420it [19:28,  4.41s/it]"
     ]
    },
    {
     "name": "stdout",
     "output_type": "stream",
     "text": [
      "Find Content!\n",
      "SEARCHING Iloc :  1420\n",
      "0\n"
     ]
    },
    {
     "name": "stderr",
     "output_type": "stream",
     "text": [
      "\r",
      "1421it [19:32,  4.20s/it]"
     ]
    },
    {
     "name": "stdout",
     "output_type": "stream",
     "text": [
      "Find Content!\n",
      "SEARCHING Iloc :  1421\n",
      "0\n"
     ]
    },
    {
     "name": "stderr",
     "output_type": "stream",
     "text": [
      "\r",
      "1422it [19:35,  3.90s/it]"
     ]
    },
    {
     "name": "stdout",
     "output_type": "stream",
     "text": [
      "Find Content!\n",
      "SEARCHING Iloc :  1422\n",
      "0\n",
      "Find Content!\n"
     ]
    },
    {
     "name": "stderr",
     "output_type": "stream",
     "text": [
      "\r",
      "1423it [19:39,  3.85s/it]"
     ]
    },
    {
     "name": "stdout",
     "output_type": "stream",
     "text": [
      "SEARCHING Iloc :  1423\n",
      "0\n"
     ]
    },
    {
     "name": "stderr",
     "output_type": "stream",
     "text": [
      "\r",
      "1424it [19:42,  3.68s/it]"
     ]
    },
    {
     "name": "stdout",
     "output_type": "stream",
     "text": [
      "Find Content!\n",
      "SEARCHING Iloc :  1424\n",
      "0\n"
     ]
    },
    {
     "name": "stderr",
     "output_type": "stream",
     "text": [
      "\r",
      "1425it [19:46,  3.68s/it]"
     ]
    },
    {
     "name": "stdout",
     "output_type": "stream",
     "text": [
      "Find Content!\n",
      "SEARCHING Iloc :  1425\n",
      "0\n"
     ]
    },
    {
     "name": "stderr",
     "output_type": "stream",
     "text": [
      "\r",
      "1426it [19:49,  3.66s/it]"
     ]
    },
    {
     "name": "stdout",
     "output_type": "stream",
     "text": [
      "Find Content!\n",
      "SEARCHING Iloc :  1426\n",
      "0\n",
      "Find Content!\n"
     ]
    },
    {
     "name": "stderr",
     "output_type": "stream",
     "text": [
      "\r",
      "1427it [19:53,  3.68s/it]"
     ]
    },
    {
     "name": "stdout",
     "output_type": "stream",
     "text": [
      "SEARCHING Iloc :  1427\n",
      "0\n"
     ]
    },
    {
     "name": "stderr",
     "output_type": "stream",
     "text": [
      "\r",
      "1428it [19:56,  3.55s/it]"
     ]
    },
    {
     "name": "stdout",
     "output_type": "stream",
     "text": [
      "Find Content!\n",
      "SEARCHING Iloc :  1428\n",
      "0\n"
     ]
    },
    {
     "name": "stderr",
     "output_type": "stream",
     "text": [
      "\r",
      "1429it [19:59,  3.34s/it]"
     ]
    },
    {
     "name": "stdout",
     "output_type": "stream",
     "text": [
      "Find Content!\n",
      "SEARCHING Iloc :  1429\n",
      "0\n"
     ]
    },
    {
     "name": "stderr",
     "output_type": "stream",
     "text": [
      "\r",
      "1430it [20:02,  3.29s/it]"
     ]
    },
    {
     "name": "stdout",
     "output_type": "stream",
     "text": [
      "Find Content!\n",
      "SEARCHING Iloc :  1430\n",
      "0\n"
     ]
    },
    {
     "name": "stderr",
     "output_type": "stream",
     "text": [
      "\r",
      "1431it [20:06,  3.52s/it]"
     ]
    },
    {
     "name": "stdout",
     "output_type": "stream",
     "text": [
      "Find Content!\n",
      "SEARCHING Iloc :  1431\n",
      "0\n",
      "Find Content!\n"
     ]
    },
    {
     "name": "stderr",
     "output_type": "stream",
     "text": [
      "\r",
      "1432it [20:11,  3.71s/it]"
     ]
    },
    {
     "name": "stdout",
     "output_type": "stream",
     "text": [
      "SEARCHING Iloc :  1432\n",
      "0\n"
     ]
    },
    {
     "name": "stderr",
     "output_type": "stream",
     "text": [
      "\r",
      "1433it [20:14,  3.75s/it]"
     ]
    },
    {
     "name": "stdout",
     "output_type": "stream",
     "text": [
      "Find Content!\n",
      "SEARCHING Iloc :  1433\n",
      "0\n",
      "Find Content!\n"
     ]
    },
    {
     "name": "stderr",
     "output_type": "stream",
     "text": [
      "\r",
      "1434it [20:18,  3.60s/it]"
     ]
    },
    {
     "name": "stdout",
     "output_type": "stream",
     "text": [
      "SEARCHING Iloc :  1434\n",
      "0\n"
     ]
    },
    {
     "name": "stderr",
     "output_type": "stream",
     "text": [
      "\r",
      "1435it [20:21,  3.52s/it]"
     ]
    },
    {
     "name": "stdout",
     "output_type": "stream",
     "text": [
      "Find Content!\n",
      "SEARCHING Iloc :  1435\n",
      "0\n",
      "Find Content!\n"
     ]
    },
    {
     "name": "stderr",
     "output_type": "stream",
     "text": [
      "\r",
      "1436it [20:25,  3.57s/it]"
     ]
    },
    {
     "name": "stdout",
     "output_type": "stream",
     "text": [
      "SEARCHING Iloc :  1436\n",
      "0\n"
     ]
    },
    {
     "name": "stderr",
     "output_type": "stream",
     "text": [
      "\r",
      "1437it [20:28,  3.55s/it]"
     ]
    },
    {
     "name": "stdout",
     "output_type": "stream",
     "text": [
      "Find Content!\n",
      "SEARCHING Iloc :  1437\n",
      "0\n"
     ]
    },
    {
     "name": "stderr",
     "output_type": "stream",
     "text": [
      "\r",
      "1438it [20:31,  3.44s/it]"
     ]
    },
    {
     "name": "stdout",
     "output_type": "stream",
     "text": [
      "Find Content!\n",
      "SEARCHING Iloc :  1438\n",
      "0\n",
      "Find Content!\n"
     ]
    },
    {
     "name": "stderr",
     "output_type": "stream",
     "text": [
      "\r",
      "1439it [20:35,  3.56s/it]"
     ]
    },
    {
     "name": "stdout",
     "output_type": "stream",
     "text": [
      "SEARCHING Iloc :  1439\n",
      "0\n"
     ]
    },
    {
     "name": "stderr",
     "output_type": "stream",
     "text": [
      "\r",
      "1440it [20:39,  3.60s/it]"
     ]
    },
    {
     "name": "stdout",
     "output_type": "stream",
     "text": [
      "Find Content!\n",
      "SEARCHING Iloc :  1440\n",
      "0\n"
     ]
    },
    {
     "name": "stderr",
     "output_type": "stream",
     "text": [
      "\r",
      "1441it [20:42,  3.50s/it]"
     ]
    },
    {
     "name": "stdout",
     "output_type": "stream",
     "text": [
      "Find Content!\n",
      "SEARCHING Iloc :  1441\n",
      "0\n"
     ]
    },
    {
     "name": "stderr",
     "output_type": "stream",
     "text": [
      "\r",
      "1442it [20:46,  3.44s/it]"
     ]
    },
    {
     "name": "stdout",
     "output_type": "stream",
     "text": [
      "Find Content!\n",
      "SEARCHING Iloc :  1442\n",
      "0\n",
      "Find Content!\n"
     ]
    },
    {
     "name": "stderr",
     "output_type": "stream",
     "text": [
      "\r",
      "1443it [20:49,  3.42s/it]"
     ]
    },
    {
     "name": "stdout",
     "output_type": "stream",
     "text": [
      "SEARCHING Iloc :  1443\n",
      "0\n"
     ]
    },
    {
     "name": "stderr",
     "output_type": "stream",
     "text": [
      "\r",
      "1444it [20:52,  3.36s/it]"
     ]
    },
    {
     "name": "stdout",
     "output_type": "stream",
     "text": [
      "Find Content!\n",
      "SEARCHING Iloc :  1444\n",
      "0\n"
     ]
    },
    {
     "name": "stderr",
     "output_type": "stream",
     "text": [
      "\r",
      "1445it [20:56,  3.42s/it]"
     ]
    },
    {
     "name": "stdout",
     "output_type": "stream",
     "text": [
      "Find Content!\n",
      "SEARCHING Iloc :  1445\n",
      "0\n"
     ]
    },
    {
     "name": "stderr",
     "output_type": "stream",
     "text": [
      "\r",
      "1446it [20:59,  3.37s/it]"
     ]
    },
    {
     "name": "stdout",
     "output_type": "stream",
     "text": [
      "Find Content!\n",
      "SEARCHING Iloc :  1446\n",
      "0\n",
      "Find Content!\n"
     ]
    },
    {
     "name": "stderr",
     "output_type": "stream",
     "text": [
      "\r",
      "1447it [21:03,  3.57s/it]"
     ]
    },
    {
     "name": "stdout",
     "output_type": "stream",
     "text": [
      "SEARCHING Iloc :  1447\n",
      "0\n"
     ]
    },
    {
     "name": "stderr",
     "output_type": "stream",
     "text": [
      "\r",
      "1448it [21:06,  3.49s/it]"
     ]
    },
    {
     "name": "stdout",
     "output_type": "stream",
     "text": [
      "Find Content!\n",
      "SEARCHING Iloc :  1448\n",
      "0\n"
     ]
    },
    {
     "name": "stderr",
     "output_type": "stream",
     "text": [
      "\r",
      "1449it [21:09,  3.40s/it]"
     ]
    },
    {
     "name": "stdout",
     "output_type": "stream",
     "text": [
      "Find Content!\n",
      "SEARCHING Iloc :  1449\n",
      "0\n"
     ]
    },
    {
     "name": "stderr",
     "output_type": "stream",
     "text": [
      "\r",
      "1450it [21:13,  3.34s/it]"
     ]
    },
    {
     "name": "stdout",
     "output_type": "stream",
     "text": [
      "Find Content!\n",
      "SEARCHING Iloc :  1450\n",
      "0\n",
      "Find Content!\n"
     ]
    },
    {
     "name": "stderr",
     "output_type": "stream",
     "text": [
      "\r",
      "1451it [21:16,  3.35s/it]"
     ]
    },
    {
     "name": "stdout",
     "output_type": "stream",
     "text": [
      "SEARCHING Iloc :  1451\n",
      "0\n"
     ]
    },
    {
     "name": "stderr",
     "output_type": "stream",
     "text": [
      "\r",
      "1452it [21:20,  3.44s/it]"
     ]
    },
    {
     "name": "stdout",
     "output_type": "stream",
     "text": [
      "Find Content!\n",
      "SEARCHING Iloc :  1452\n",
      "0\n"
     ]
    },
    {
     "name": "stderr",
     "output_type": "stream",
     "text": [
      "\r",
      "1453it [21:23,  3.36s/it]"
     ]
    },
    {
     "name": "stdout",
     "output_type": "stream",
     "text": [
      "Find Content!\n",
      "SEARCHING Iloc :  1453\n",
      "0\n",
      "Find Content!\n"
     ]
    },
    {
     "name": "stderr",
     "output_type": "stream",
     "text": [
      "\r",
      "1454it [21:27,  3.53s/it]"
     ]
    },
    {
     "name": "stdout",
     "output_type": "stream",
     "text": [
      "SEARCHING Iloc :  1454\n",
      "0\n",
      "Find Content!\n"
     ]
    },
    {
     "name": "stderr",
     "output_type": "stream",
     "text": [
      "\r",
      "1455it [21:30,  3.46s/it]"
     ]
    },
    {
     "name": "stdout",
     "output_type": "stream",
     "text": [
      "SEARCHING Iloc :  1455\n",
      "0\n"
     ]
    },
    {
     "name": "stderr",
     "output_type": "stream",
     "text": [
      "\r",
      "1456it [21:33,  3.38s/it]"
     ]
    },
    {
     "name": "stdout",
     "output_type": "stream",
     "text": [
      "Find Content!\n",
      "SEARCHING Iloc :  1456\n",
      "0\n"
     ]
    },
    {
     "name": "stderr",
     "output_type": "stream",
     "text": [
      "\r",
      "1457it [21:37,  3.49s/it]"
     ]
    },
    {
     "name": "stdout",
     "output_type": "stream",
     "text": [
      "Find Content!\n",
      "SEARCHING Iloc :  1457\n",
      "0\n"
     ]
    },
    {
     "name": "stderr",
     "output_type": "stream",
     "text": [
      "\r",
      "1458it [21:41,  3.57s/it]"
     ]
    },
    {
     "name": "stdout",
     "output_type": "stream",
     "text": [
      "Find Content!\n",
      "SEARCHING Iloc :  1458\n",
      "0\n",
      "Find Content!\n"
     ]
    },
    {
     "name": "stderr",
     "output_type": "stream",
     "text": [
      "\r",
      "1459it [21:44,  3.51s/it]"
     ]
    },
    {
     "name": "stdout",
     "output_type": "stream",
     "text": [
      "SEARCHING Iloc :  1459\n",
      "0\n"
     ]
    },
    {
     "name": "stderr",
     "output_type": "stream",
     "text": [
      "\r",
      "1460it [21:48,  3.68s/it]"
     ]
    },
    {
     "name": "stdout",
     "output_type": "stream",
     "text": [
      "Find Content!\n",
      "SEARCHING Iloc :  1460\n",
      "0\n"
     ]
    },
    {
     "name": "stderr",
     "output_type": "stream",
     "text": [
      "\r",
      "1461it [21:51,  3.54s/it]"
     ]
    },
    {
     "name": "stdout",
     "output_type": "stream",
     "text": [
      "Find Content!\n",
      "SEARCHING Iloc :  1461\n",
      "0\n",
      "Find Content!\n"
     ]
    },
    {
     "name": "stderr",
     "output_type": "stream",
     "text": [
      "\r",
      "1462it [21:55,  3.61s/it]"
     ]
    },
    {
     "name": "stdout",
     "output_type": "stream",
     "text": [
      "SEARCHING Iloc :  1462\n",
      "0\n",
      "Find Content!\n"
     ]
    },
    {
     "name": "stderr",
     "output_type": "stream",
     "text": [
      "\r",
      "1463it [21:59,  3.54s/it]"
     ]
    },
    {
     "name": "stdout",
     "output_type": "stream",
     "text": [
      "SEARCHING Iloc :  1463\n",
      "0\n"
     ]
    },
    {
     "name": "stderr",
     "output_type": "stream",
     "text": [
      "\r",
      "1464it [22:02,  3.43s/it]"
     ]
    },
    {
     "name": "stdout",
     "output_type": "stream",
     "text": [
      "Find Content!\n",
      "SEARCHING Iloc :  1464\n",
      "0\n"
     ]
    },
    {
     "name": "stderr",
     "output_type": "stream",
     "text": [
      "\r",
      "1465it [22:05,  3.35s/it]"
     ]
    },
    {
     "name": "stdout",
     "output_type": "stream",
     "text": [
      "Find Content!\n",
      "SEARCHING Iloc :  1465\n",
      "0\n"
     ]
    },
    {
     "name": "stderr",
     "output_type": "stream",
     "text": [
      "\r",
      "1466it [22:08,  3.20s/it]"
     ]
    },
    {
     "name": "stdout",
     "output_type": "stream",
     "text": [
      "Find Content!\n",
      "SEARCHING Iloc :  1466\n",
      "0\n",
      "Find Content!\n"
     ]
    },
    {
     "name": "stderr",
     "output_type": "stream",
     "text": [
      "\r",
      "1467it [22:11,  3.26s/it]"
     ]
    },
    {
     "name": "stdout",
     "output_type": "stream",
     "text": [
      "SEARCHING Iloc :  1467\n",
      "0\n"
     ]
    },
    {
     "name": "stderr",
     "output_type": "stream",
     "text": [
      "\r",
      "1468it [22:14,  3.26s/it]"
     ]
    },
    {
     "name": "stdout",
     "output_type": "stream",
     "text": [
      "Find Content!\n",
      "SEARCHING Iloc :  1468\n",
      "0\n"
     ]
    },
    {
     "name": "stderr",
     "output_type": "stream",
     "text": [
      "\r",
      "1469it [22:18,  3.39s/it]"
     ]
    },
    {
     "name": "stdout",
     "output_type": "stream",
     "text": [
      "Find Content!\n",
      "SEARCHING Iloc :  1469\n",
      "0\n"
     ]
    },
    {
     "name": "stderr",
     "output_type": "stream",
     "text": [
      "\r",
      "1470it [22:21,  3.36s/it]"
     ]
    },
    {
     "name": "stdout",
     "output_type": "stream",
     "text": [
      "Find Content!\n",
      "SEARCHING Iloc :  1470\n",
      "0\n",
      "Find Content!\n"
     ]
    },
    {
     "name": "stderr",
     "output_type": "stream",
     "text": [
      "\r",
      "1471it [22:25,  3.51s/it]"
     ]
    },
    {
     "name": "stdout",
     "output_type": "stream",
     "text": [
      "SEARCHING Iloc :  1471\n",
      "0\n",
      "Find Content!\n"
     ]
    },
    {
     "name": "stderr",
     "output_type": "stream",
     "text": [
      "\r",
      "1472it [22:29,  3.45s/it]"
     ]
    },
    {
     "name": "stdout",
     "output_type": "stream",
     "text": [
      "SEARCHING Iloc :  1472\n",
      "0\n"
     ]
    },
    {
     "name": "stderr",
     "output_type": "stream",
     "text": [
      "\r",
      "1473it [22:32,  3.37s/it]"
     ]
    },
    {
     "name": "stdout",
     "output_type": "stream",
     "text": [
      "Find Content!\n",
      "SEARCHING Iloc :  1473\n",
      "0\n"
     ]
    },
    {
     "name": "stderr",
     "output_type": "stream",
     "text": [
      "\r",
      "1474it [22:35,  3.34s/it]"
     ]
    },
    {
     "name": "stdout",
     "output_type": "stream",
     "text": [
      "Find Content!\n",
      "SEARCHING Iloc :  1474\n",
      "0\n",
      "Find Content!\n"
     ]
    },
    {
     "name": "stderr",
     "output_type": "stream",
     "text": [
      "\r",
      "1475it [22:39,  3.49s/it]"
     ]
    },
    {
     "name": "stdout",
     "output_type": "stream",
     "text": [
      "SEARCHING Iloc :  1475\n",
      "0\n"
     ]
    },
    {
     "name": "stderr",
     "output_type": "stream",
     "text": [
      "\r",
      "1476it [22:42,  3.39s/it]"
     ]
    },
    {
     "name": "stdout",
     "output_type": "stream",
     "text": [
      "Find Content!\n",
      "SEARCHING Iloc :  1476\n",
      "0\n"
     ]
    },
    {
     "name": "stderr",
     "output_type": "stream",
     "text": [
      "\r",
      "1477it [22:46,  3.45s/it]"
     ]
    },
    {
     "name": "stdout",
     "output_type": "stream",
     "text": [
      "Find Content!\n",
      "SEARCHING Iloc :  1477\n",
      "0\n"
     ]
    },
    {
     "name": "stderr",
     "output_type": "stream",
     "text": [
      "\r",
      "1478it [22:49,  3.56s/it]"
     ]
    },
    {
     "name": "stdout",
     "output_type": "stream",
     "text": [
      "Find Content!\n",
      "SEARCHING Iloc :  1478\n",
      "0\n",
      "Find Content!\n"
     ]
    },
    {
     "name": "stderr",
     "output_type": "stream",
     "text": [
      "\r",
      "1479it [22:53,  3.64s/it]"
     ]
    },
    {
     "name": "stdout",
     "output_type": "stream",
     "text": [
      "SEARCHING Iloc :  1479\n",
      "0\n"
     ]
    },
    {
     "name": "stderr",
     "output_type": "stream",
     "text": [
      "\r",
      "1480it [22:57,  3.53s/it]"
     ]
    },
    {
     "name": "stdout",
     "output_type": "stream",
     "text": [
      "Find Content!\n",
      "SEARCHING Iloc :  1480\n",
      "0\n",
      "Find Content!\n"
     ]
    },
    {
     "name": "stderr",
     "output_type": "stream",
     "text": [
      "\r",
      "1481it [23:00,  3.62s/it]"
     ]
    },
    {
     "name": "stdout",
     "output_type": "stream",
     "text": [
      "SEARCHING Iloc :  1481\n",
      "0\n"
     ]
    },
    {
     "name": "stderr",
     "output_type": "stream",
     "text": [
      "\r",
      "1482it [23:04,  3.60s/it]"
     ]
    },
    {
     "name": "stdout",
     "output_type": "stream",
     "text": [
      "Find Content!\n",
      "SEARCHING Iloc :  1482\n",
      "0\n",
      "Find Content!\n"
     ]
    },
    {
     "name": "stderr",
     "output_type": "stream",
     "text": [
      "\r",
      "1483it [23:08,  3.70s/it]"
     ]
    },
    {
     "name": "stdout",
     "output_type": "stream",
     "text": [
      "SEARCHING Iloc :  1483\n",
      "0\n",
      "Find Content!\n"
     ]
    },
    {
     "name": "stderr",
     "output_type": "stream",
     "text": [
      "\r",
      "1484it [23:12,  3.70s/it]"
     ]
    },
    {
     "name": "stdout",
     "output_type": "stream",
     "text": [
      "SEARCHING Iloc :  1484\n",
      "0\n"
     ]
    },
    {
     "name": "stderr",
     "output_type": "stream",
     "text": [
      "\r",
      "1485it [23:15,  3.72s/it]"
     ]
    },
    {
     "name": "stdout",
     "output_type": "stream",
     "text": [
      "Find Content!\n",
      "SEARCHING Iloc :  1485\n",
      "0\n",
      "Find Content!\n"
     ]
    },
    {
     "name": "stderr",
     "output_type": "stream",
     "text": [
      "\r",
      "1486it [23:19,  3.77s/it]"
     ]
    },
    {
     "name": "stdout",
     "output_type": "stream",
     "text": [
      "SEARCHING Iloc :  1486\n",
      "0\n"
     ]
    },
    {
     "name": "stderr",
     "output_type": "stream",
     "text": [
      "\r",
      "1487it [23:22,  3.60s/it]"
     ]
    },
    {
     "name": "stdout",
     "output_type": "stream",
     "text": [
      "Find Content!\n",
      "SEARCHING Iloc :  1487\n",
      "0\n"
     ]
    },
    {
     "name": "stderr",
     "output_type": "stream",
     "text": [
      "\r",
      "1488it [23:26,  3.61s/it]"
     ]
    },
    {
     "name": "stdout",
     "output_type": "stream",
     "text": [
      "Find Content!\n",
      "SEARCHING Iloc :  1488\n",
      "0\n"
     ]
    },
    {
     "name": "stderr",
     "output_type": "stream",
     "text": [
      "\r",
      "1489it [23:29,  3.47s/it]"
     ]
    },
    {
     "name": "stdout",
     "output_type": "stream",
     "text": [
      "Find Content!\n",
      "SEARCHING Iloc :  1489\n",
      "0\n",
      "Find Content!\n"
     ]
    },
    {
     "name": "stderr",
     "output_type": "stream",
     "text": [
      "\r",
      "1490it [23:33,  3.50s/it]"
     ]
    },
    {
     "name": "stdout",
     "output_type": "stream",
     "text": [
      "SEARCHING Iloc :  1490\n",
      "0\n",
      "Find Content!\n"
     ]
    },
    {
     "name": "stderr",
     "output_type": "stream",
     "text": [
      "\r",
      "1491it [23:36,  3.54s/it]"
     ]
    },
    {
     "name": "stdout",
     "output_type": "stream",
     "text": [
      "SEARCHING Iloc :  1491\n",
      "0\n"
     ]
    },
    {
     "name": "stderr",
     "output_type": "stream",
     "text": [
      "\r",
      "1492it [23:39,  3.22s/it]"
     ]
    },
    {
     "name": "stdout",
     "output_type": "stream",
     "text": [
      "Find Content!\n",
      "SEARCHING Iloc :  1492\n",
      "0\n"
     ]
    },
    {
     "name": "stderr",
     "output_type": "stream",
     "text": [
      "\r",
      "1493it [23:42,  3.21s/it]"
     ]
    },
    {
     "name": "stdout",
     "output_type": "stream",
     "text": [
      "Find Content!\n",
      "SEARCHING Iloc :  1493\n",
      "0\n"
     ]
    },
    {
     "name": "stderr",
     "output_type": "stream",
     "text": [
      "\r",
      "1494it [23:45,  3.21s/it]"
     ]
    },
    {
     "name": "stdout",
     "output_type": "stream",
     "text": [
      "Find Content!\n",
      "SEARCHING Iloc :  1494\n",
      "0\n",
      "Find Content!\n"
     ]
    },
    {
     "name": "stderr",
     "output_type": "stream",
     "text": [
      "\r",
      "1495it [23:49,  3.24s/it]"
     ]
    },
    {
     "name": "stdout",
     "output_type": "stream",
     "text": [
      "SEARCHING Iloc :  1495\n",
      "0\n"
     ]
    },
    {
     "name": "stderr",
     "output_type": "stream",
     "text": [
      "\r",
      "1496it [23:52,  3.20s/it]"
     ]
    },
    {
     "name": "stdout",
     "output_type": "stream",
     "text": [
      "Find Content!\n",
      "SEARCHING Iloc :  1496\n",
      "0\n"
     ]
    },
    {
     "name": "stderr",
     "output_type": "stream",
     "text": [
      "\r",
      "1497it [23:55,  3.20s/it]"
     ]
    },
    {
     "name": "stdout",
     "output_type": "stream",
     "text": [
      "Find Content!\n",
      "SEARCHING Iloc :  1497\n",
      "0\n"
     ]
    },
    {
     "name": "stderr",
     "output_type": "stream",
     "text": [
      "\r",
      "1498it [23:58,  3.17s/it]"
     ]
    },
    {
     "name": "stdout",
     "output_type": "stream",
     "text": [
      "Find Content!\n",
      "SEARCHING Iloc :  1498\n",
      "0\n",
      "Find Content!\n"
     ]
    },
    {
     "name": "stderr",
     "output_type": "stream",
     "text": [
      "\r",
      "1499it [24:01,  3.22s/it]"
     ]
    },
    {
     "name": "stdout",
     "output_type": "stream",
     "text": [
      "SEARCHING Iloc :  1499\n",
      "0\n"
     ]
    },
    {
     "name": "stderr",
     "output_type": "stream",
     "text": [
      "\r",
      "1500it [24:05,  3.36s/it]"
     ]
    },
    {
     "name": "stdout",
     "output_type": "stream",
     "text": [
      "Find Content!\n",
      "SEARCHING Iloc :  1500\n",
      "0\n"
     ]
    },
    {
     "name": "stderr",
     "output_type": "stream",
     "text": [
      "\r",
      "1501it [24:08,  3.35s/it]"
     ]
    },
    {
     "name": "stdout",
     "output_type": "stream",
     "text": [
      "Find Content!\n",
      "SEARCHING Iloc :  1501\n",
      "0\n"
     ]
    },
    {
     "name": "stderr",
     "output_type": "stream",
     "text": [
      "\r",
      "1502it [24:12,  3.33s/it]"
     ]
    },
    {
     "name": "stdout",
     "output_type": "stream",
     "text": [
      "Find Content!\n",
      "SEARCHING Iloc :  1502\n",
      "0\n",
      "Find Content!\n"
     ]
    },
    {
     "name": "stderr",
     "output_type": "stream",
     "text": [
      "\r",
      "1503it [24:15,  3.30s/it]"
     ]
    },
    {
     "name": "stdout",
     "output_type": "stream",
     "text": [
      "SEARCHING Iloc :  1503\n",
      "0\n"
     ]
    },
    {
     "name": "stderr",
     "output_type": "stream",
     "text": [
      "\r",
      "1504it [24:18,  3.27s/it]"
     ]
    },
    {
     "name": "stdout",
     "output_type": "stream",
     "text": [
      "Find Content!\n",
      "SEARCHING Iloc :  1504\n",
      "0\n"
     ]
    },
    {
     "name": "stderr",
     "output_type": "stream",
     "text": [
      "\r",
      "1505it [24:22,  3.42s/it]"
     ]
    },
    {
     "name": "stdout",
     "output_type": "stream",
     "text": [
      "Find Content!\n",
      "SEARCHING Iloc :  1505\n",
      "0\n"
     ]
    },
    {
     "name": "stderr",
     "output_type": "stream",
     "text": [
      "\r",
      "1506it [24:26,  3.60s/it]"
     ]
    },
    {
     "name": "stdout",
     "output_type": "stream",
     "text": [
      "Find Content!\n",
      "SEARCHING Iloc :  1506\n",
      "0\n",
      "Find Content!\n"
     ]
    },
    {
     "name": "stderr",
     "output_type": "stream",
     "text": [
      "\r",
      "1507it [24:29,  3.52s/it]"
     ]
    },
    {
     "name": "stdout",
     "output_type": "stream",
     "text": [
      "SEARCHING Iloc :  1507\n",
      "0\n"
     ]
    },
    {
     "name": "stderr",
     "output_type": "stream",
     "text": [
      "\r",
      "1508it [24:32,  3.45s/it]"
     ]
    },
    {
     "name": "stdout",
     "output_type": "stream",
     "text": [
      "Find Content!\n",
      "SEARCHING Iloc :  1508\n",
      "0\n"
     ]
    },
    {
     "name": "stderr",
     "output_type": "stream",
     "text": [
      "\r",
      "1509it [24:36,  3.52s/it]"
     ]
    },
    {
     "name": "stdout",
     "output_type": "stream",
     "text": [
      "Find Content!\n",
      "SEARCHING Iloc :  1509\n",
      "0\n",
      "Find Content!\n"
     ]
    },
    {
     "name": "stderr",
     "output_type": "stream",
     "text": [
      "\r",
      "1510it [24:40,  3.63s/it]"
     ]
    },
    {
     "name": "stdout",
     "output_type": "stream",
     "text": [
      "SEARCHING Iloc :  1510\n",
      "0\n"
     ]
    },
    {
     "name": "stderr",
     "output_type": "stream",
     "text": [
      "\r",
      "1511it [24:44,  3.70s/it]"
     ]
    },
    {
     "name": "stdout",
     "output_type": "stream",
     "text": [
      "Find Content!\n",
      "SEARCHING Iloc :  1511\n",
      "0\n"
     ]
    },
    {
     "name": "stderr",
     "output_type": "stream",
     "text": [
      "\r",
      "1512it [24:48,  3.77s/it]"
     ]
    },
    {
     "name": "stdout",
     "output_type": "stream",
     "text": [
      "Find Content!\n",
      "SEARCHING Iloc :  1512\n",
      "0\n"
     ]
    },
    {
     "name": "stderr",
     "output_type": "stream",
     "text": [
      "\r",
      "1513it [24:51,  3.60s/it]"
     ]
    },
    {
     "name": "stdout",
     "output_type": "stream",
     "text": [
      "Find Content!\n",
      "SEARCHING Iloc :  1513\n",
      "0\n",
      "Find Content!\n"
     ]
    },
    {
     "name": "stderr",
     "output_type": "stream",
     "text": [
      "\r",
      "1514it [24:55,  3.72s/it]"
     ]
    },
    {
     "name": "stdout",
     "output_type": "stream",
     "text": [
      "SEARCHING Iloc :  1514\n",
      "0\n"
     ]
    },
    {
     "name": "stderr",
     "output_type": "stream",
     "text": [
      "\r",
      "1515it [24:59,  3.76s/it]"
     ]
    },
    {
     "name": "stdout",
     "output_type": "stream",
     "text": [
      "Find Content!\n",
      "SEARCHING Iloc :  1515\n",
      "0\n",
      "Find Content!\n"
     ]
    },
    {
     "name": "stderr",
     "output_type": "stream",
     "text": [
      "\r",
      "1516it [25:03,  3.82s/it]"
     ]
    },
    {
     "name": "stdout",
     "output_type": "stream",
     "text": [
      "SEARCHING Iloc :  1516\n",
      "0\n",
      "Find Content!\n"
     ]
    },
    {
     "name": "stderr",
     "output_type": "stream",
     "text": [
      "\r",
      "1517it [25:06,  3.70s/it]"
     ]
    },
    {
     "name": "stdout",
     "output_type": "stream",
     "text": [
      "SEARCHING Iloc :  1517\n",
      "0\n",
      "Find Content!\n"
     ]
    },
    {
     "name": "stderr",
     "output_type": "stream",
     "text": [
      "\r",
      "1518it [25:10,  3.72s/it]"
     ]
    },
    {
     "name": "stdout",
     "output_type": "stream",
     "text": [
      "SEARCHING Iloc :  1518\n",
      "0\n"
     ]
    },
    {
     "name": "stderr",
     "output_type": "stream",
     "text": [
      "\r",
      "1519it [25:14,  3.93s/it]"
     ]
    },
    {
     "name": "stdout",
     "output_type": "stream",
     "text": [
      "Find Content!\n",
      "SEARCHING Iloc :  1519\n",
      "0\n"
     ]
    },
    {
     "name": "stderr",
     "output_type": "stream",
     "text": [
      "\r",
      "1520it [25:18,  3.71s/it]"
     ]
    },
    {
     "name": "stdout",
     "output_type": "stream",
     "text": [
      "Find Content!\n",
      "SEARCHING Iloc :  1520\n",
      "0\n"
     ]
    },
    {
     "name": "stderr",
     "output_type": "stream",
     "text": [
      "\r",
      "1521it [25:21,  3.55s/it]"
     ]
    },
    {
     "name": "stdout",
     "output_type": "stream",
     "text": [
      "Find Content!\n",
      "SEARCHING Iloc :  1521\n",
      "0\n",
      "Find Content!\n"
     ]
    },
    {
     "name": "stderr",
     "output_type": "stream",
     "text": [
      "\r",
      "1522it [25:24,  3.49s/it]"
     ]
    },
    {
     "name": "stdout",
     "output_type": "stream",
     "text": [
      "SEARCHING Iloc :  1522\n",
      "0\n"
     ]
    },
    {
     "name": "stderr",
     "output_type": "stream",
     "text": [
      "\r",
      "1523it [25:28,  3.52s/it]"
     ]
    },
    {
     "name": "stdout",
     "output_type": "stream",
     "text": [
      "Find Content!\n",
      "SEARCHING Iloc :  1523\n",
      "0\n"
     ]
    },
    {
     "name": "stderr",
     "output_type": "stream",
     "text": [
      "\r",
      "1524it [25:31,  3.45s/it]"
     ]
    },
    {
     "name": "stdout",
     "output_type": "stream",
     "text": [
      "Find Content!\n",
      "SEARCHING Iloc :  1524\n",
      "0\n"
     ]
    },
    {
     "name": "stderr",
     "output_type": "stream",
     "text": [
      "\r",
      "1525it [25:34,  3.40s/it]"
     ]
    },
    {
     "name": "stdout",
     "output_type": "stream",
     "text": [
      "Find Content!\n",
      "SEARCHING Iloc :  1525\n",
      "0\n",
      "HTTPSConnectionPool(host='gall.dcinside.com', port=443): Max retries exceeded with url: /mgallery/board/view/?id=dnfqq&no=6332021&list_num=100&page=31 (Caused by ProxyError('Cannot connect to proxy.', RemoteDisconnected('Remote end closed connection without response')))\n",
      "1\n",
      "Find Content!\n"
     ]
    },
    {
     "name": "stderr",
     "output_type": "stream",
     "text": [
      "\r",
      "1526it [25:42,  4.82s/it]"
     ]
    },
    {
     "name": "stdout",
     "output_type": "stream",
     "text": [
      "SEARCHING Iloc :  1526\n",
      "1\n"
     ]
    },
    {
     "name": "stderr",
     "output_type": "stream",
     "text": [
      "\r",
      "1527it [25:47,  4.75s/it]"
     ]
    },
    {
     "name": "stdout",
     "output_type": "stream",
     "text": [
      "Find Content!\n",
      "SEARCHING Iloc :  1527\n",
      "1\n"
     ]
    },
    {
     "name": "stderr",
     "output_type": "stream",
     "text": [
      "\r",
      "1528it [25:54,  5.55s/it]"
     ]
    },
    {
     "name": "stdout",
     "output_type": "stream",
     "text": [
      "Find Content!\n",
      "SEARCHING Iloc :  1528\n",
      "1\n",
      "Find Content!\n"
     ]
    },
    {
     "name": "stderr",
     "output_type": "stream",
     "text": [
      "\r",
      "1529it [26:02,  6.12s/it]"
     ]
    },
    {
     "name": "stdout",
     "output_type": "stream",
     "text": [
      "SEARCHING Iloc :  1529\n",
      "1\n"
     ]
    },
    {
     "name": "stderr",
     "output_type": "stream",
     "text": [
      "\r",
      "1530it [26:06,  5.55s/it]"
     ]
    },
    {
     "name": "stdout",
     "output_type": "stream",
     "text": [
      "Find Content!\n",
      "SEARCHING Iloc :  1530\n",
      "1\n"
     ]
    },
    {
     "name": "stderr",
     "output_type": "stream",
     "text": [
      "\r",
      "1531it [26:10,  5.14s/it]"
     ]
    },
    {
     "name": "stdout",
     "output_type": "stream",
     "text": [
      "Find Content!\n",
      "SEARCHING Iloc :  1531\n",
      "1\n"
     ]
    },
    {
     "name": "stderr",
     "output_type": "stream",
     "text": [
      "\r",
      "1532it [26:22,  7.23s/it]"
     ]
    },
    {
     "name": "stdout",
     "output_type": "stream",
     "text": [
      "Find Content!\n",
      "SEARCHING Iloc :  1532\n",
      "1\n",
      "Find Content!\n"
     ]
    },
    {
     "name": "stderr",
     "output_type": "stream",
     "text": [
      "\r",
      "1533it [26:26,  6.27s/it]"
     ]
    },
    {
     "name": "stdout",
     "output_type": "stream",
     "text": [
      "SEARCHING Iloc :  1533\n",
      "1\n"
     ]
    },
    {
     "name": "stderr",
     "output_type": "stream",
     "text": [
      "\r",
      "1534it [26:31,  5.61s/it]"
     ]
    },
    {
     "name": "stdout",
     "output_type": "stream",
     "text": [
      "Find Content!\n",
      "SEARCHING Iloc :  1534\n",
      "1\n"
     ]
    },
    {
     "name": "stderr",
     "output_type": "stream",
     "text": [
      "\r",
      "1535it [26:37,  5.76s/it]"
     ]
    },
    {
     "name": "stdout",
     "output_type": "stream",
     "text": [
      "Find Content!\n",
      "SEARCHING Iloc :  1535\n",
      "1\n",
      "HTTPSConnectionPool(host='gall.dcinside.com', port=443): Max retries exceeded with url: /mgallery/board/view/?id=dnfqq&no=6332011&list_num=100&page=31 (Caused by ProxyError('Cannot connect to proxy.', RemoteDisconnected('Remote end closed connection without response')))\n",
      "2\n"
     ]
    },
    {
     "name": "stderr",
     "output_type": "stream",
     "text": [
      "\r",
      "1536it [26:45,  6.46s/it]"
     ]
    },
    {
     "name": "stdout",
     "output_type": "stream",
     "text": [
      "Find Content!\n",
      "SEARCHING Iloc :  1536\n",
      "2\n",
      "Find Content!\n"
     ]
    },
    {
     "name": "stderr",
     "output_type": "stream",
     "text": [
      "\r",
      "1537it [26:49,  5.80s/it]"
     ]
    },
    {
     "name": "stdout",
     "output_type": "stream",
     "text": [
      "SEARCHING Iloc :  1537\n",
      "2\n"
     ]
    },
    {
     "name": "stderr",
     "output_type": "stream",
     "text": [
      "\r",
      "1538it [26:50,  4.40s/it]"
     ]
    },
    {
     "name": "stdout",
     "output_type": "stream",
     "text": [
      "Find Content!\n",
      "SEARCHING Iloc :  1538\n",
      "2\n",
      "HTTPSConnectionPool(host='gall.dcinside.com', port=443): Max retries exceeded with url: /mgallery/board/view/?id=dnfqq&no=6332008&list_num=100&page=31 (Caused by ProxyError('Cannot connect to proxy.', timeout('timed out')))\n",
      "3\n",
      "HTTPSConnectionPool(host='gall.dcinside.com', port=443): Max retries exceeded with url: /mgallery/board/view/?id=dnfqq&no=6332008&list_num=100&page=31 (Caused by ConnectTimeoutError(<urllib3.connection.HTTPSConnection object at 0x7faed249c550>, 'Connection to 197.243.67.98 timed out. (connect timeout=10)'))\n",
      "4\n",
      "HTTPSConnectionPool(host='gall.dcinside.com', port=443): Max retries exceeded with url: /mgallery/board/view/?id=dnfqq&no=6332008&list_num=100&page=31 (Caused by ConnectTimeoutError(<urllib3.connection.HTTPSConnection object at 0x7faed249cc70>, 'Connection to 83.171.122.21 timed out. (connect timeout=10)'))\n",
      "5\n",
      "HTTPSConnectionPool(host='gall.dcinside.com', port=443): Max retries exceeded with url: /mgallery/board/view/?id=dnfqq&no=6332008&list_num=100&page=31 (Caused by SSLError(SSLCertVerificationError(1, '[SSL: CERTIFICATE_VERIFY_FAILED] certificate verify failed: self signed certificate (_ssl.c:1129)')))\n",
      "6\n"
     ]
    },
    {
     "name": "stderr",
     "output_type": "stream",
     "text": [
      "\r",
      "1539it [27:44, 19.21s/it]"
     ]
    },
    {
     "name": "stdout",
     "output_type": "stream",
     "text": [
      "Find Content!\n",
      "SEARCHING Iloc :  1539\n",
      "6\n"
     ]
    },
    {
     "name": "stderr",
     "output_type": "stream",
     "text": [
      "\r",
      "1540it [27:48, 14.54s/it]"
     ]
    },
    {
     "name": "stdout",
     "output_type": "stream",
     "text": [
      "Find Content!\n",
      "SEARCHING Iloc :  1540\n",
      "6\n",
      "Find Content!\n"
     ]
    },
    {
     "name": "stderr",
     "output_type": "stream",
     "text": [
      "\r",
      "1541it [27:58, 13.45s/it]"
     ]
    },
    {
     "name": "stdout",
     "output_type": "stream",
     "text": [
      "SEARCHING Iloc :  1541\n",
      "6\n",
      "HTTPSConnectionPool(host='gall.dcinside.com', port=443): Max retries exceeded with url: /mgallery/board/view/?id=dnfqq&no=6332005&list_num=100&page=31 (Caused by ConnectTimeoutError(<urllib3.connection.HTTPSConnection object at 0x7faed1bbb2e0>, 'Connection to 101.255.164.49 timed out. (connect timeout=10)'))\n",
      "7\n"
     ]
    },
    {
     "name": "stderr",
     "output_type": "stream",
     "text": [
      "\r",
      "1542it [28:19, 15.70s/it]"
     ]
    },
    {
     "name": "stdout",
     "output_type": "stream",
     "text": [
      "Find Content!\n",
      "SEARCHING Iloc :  1542\n",
      "7\n",
      "HTTPSConnectionPool(host='gall.dcinside.com', port=443): Max retries exceeded with url: /mgallery/board/view/?id=dnfqq&no=6332004&list_num=100&page=31 (Caused by ProxyError('Cannot connect to proxy.', timeout('timed out')))\n",
      "8\n",
      "HTTPSConnectionPool(host='gall.dcinside.com', port=443): Max retries exceeded with url: /mgallery/board/view/?id=dnfqq&no=6332004&list_num=100&page=31 (Caused by ConnectTimeoutError(<urllib3.connection.HTTPSConnection object at 0x7faed2ae3400>, 'Connection to 176.98.234.124 timed out. (connect timeout=10)'))\n",
      "9\n",
      "HTTPSConnectionPool(host='gall.dcinside.com', port=443): Max retries exceeded with url: /mgallery/board/view/?id=dnfqq&no=6332004&list_num=100&page=31 (Caused by ConnectTimeoutError(<urllib3.connection.HTTPSConnection object at 0x7faed2ae3c10>, 'Connection to 47.254.198.237 timed out. (connect timeout=10)'))\n",
      "10\n",
      "HTTPSConnectionPool(host='gall.dcinside.com', port=443): Max retries exceeded with url: /mgallery/board/view/?id=dnfqq&no=6332004&list_num=100&page=31 (Caused by ConnectTimeoutError(<urllib3.connection.HTTPSConnection object at 0x7faed3a1a430>, 'Connection to 45.71.184.89 timed out. (connect timeout=10)'))\n",
      "11\n",
      "HTTPSConnectionPool(host='gall.dcinside.com', port=443): Max retries exceeded with url: /mgallery/board/view/?id=dnfqq&no=6332004&list_num=100&page=31 (Caused by ConnectTimeoutError(<urllib3.connection.HTTPSConnection object at 0x7faed3a1abe0>, 'Connection to 103.184.66.30 timed out. (connect timeout=10)'))\n",
      "12\n",
      "HTTPSConnectionPool(host='gall.dcinside.com', port=443): Max retries exceeded with url: /mgallery/board/view/?id=dnfqq&no=6332004&list_num=100&page=31 (Caused by ConnectTimeoutError(<urllib3.connection.HTTPSConnection object at 0x7faed39fe3d0>, 'Connection to 95.68.227.128 timed out. (connect timeout=10)'))\n",
      "13\n",
      "HTTPSConnectionPool(host='gall.dcinside.com', port=443): Max retries exceeded with url: /mgallery/board/view/?id=dnfqq&no=6332004&list_num=100&page=31 (Caused by ConnectTimeoutError(<urllib3.connection.HTTPSConnection object at 0x7faed39feb80>, 'Connection to 179.189.125.222 timed out. (connect timeout=10)'))\n",
      "14\n",
      "HTTPSConnectionPool(host='gall.dcinside.com', port=443): Max retries exceeded with url: /mgallery/board/view/?id=dnfqq&no=6332004&list_num=100&page=31 (Caused by ConnectTimeoutError(<urllib3.connection.HTTPSConnection object at 0x7faed2ae3730>, 'Connection to 181.191.226.1 timed out. (connect timeout=10)'))\n",
      "15\n",
      "HTTPSConnectionPool(host='gall.dcinside.com', port=443): Max retries exceeded with url: /mgallery/board/view/?id=dnfqq&no=6332004&list_num=100&page=31 (Caused by ConnectTimeoutError(<urllib3.connection.HTTPSConnection object at 0x7faed1bbb880>, 'Connection to 202.72.220.83 timed out. (connect timeout=10)'))\n",
      "16\n"
     ]
    },
    {
     "name": "stderr",
     "output_type": "stream",
     "text": [
      "\r",
      "1543it [29:59, 40.97s/it]"
     ]
    },
    {
     "name": "stdout",
     "output_type": "stream",
     "text": [
      "Find Content!\n",
      "SEARCHING Iloc :  1543\n",
      "16\n",
      "HTTPSConnectionPool(host='gall.dcinside.com', port=443): Max retries exceeded with url: /mgallery/board/view/?id=dnfqq&no=6332003&list_num=100&page=31 (Caused by ConnectTimeoutError(<urllib3.connection.HTTPSConnection object at 0x7faed15979a0>, 'Connection to 117.102.87.66 timed out. (connect timeout=10)'))\n",
      "17\n",
      "HTTPSConnectionPool(host='gall.dcinside.com', port=443): Max retries exceeded with url: /mgallery/board/view/?id=dnfqq&no=6332003&list_num=100&page=31 (Caused by ConnectTimeoutError(<urllib3.connection.HTTPSConnection object at 0x7faed15900a0>, 'Connection to 103.164.112.123 timed out. (connect timeout=10)'))\n",
      "18\n",
      "HTTPSConnectionPool(host='gall.dcinside.com', port=443): Max retries exceeded with url: /mgallery/board/view/?id=dnfqq&no=6332003&list_num=100&page=31 (Caused by ConnectTimeoutError(<urllib3.connection.HTTPSConnection object at 0x7faed1590850>, 'Connection to 118.71.66.50 timed out. (connect timeout=10)'))\n",
      "19\n",
      "HTTPSConnectionPool(host='gall.dcinside.com', port=443): Max retries exceeded with url: /mgallery/board/view/?id=dnfqq&no=6332003&list_num=100&page=31 (Caused by ConnectTimeoutError(<urllib3.connection.HTTPSConnection object at 0x7faed2666d00>, 'Connection to 203.30.236.190 timed out. (connect timeout=10)'))\n",
      "20\n",
      "HTTPSConnectionPool(host='gall.dcinside.com', port=443): Max retries exceeded with url: /mgallery/board/view/?id=dnfqq&no=6332003&list_num=100&page=31 (Caused by ProxyError('Cannot connect to proxy.', timeout('timed out')))\n",
      "21\n",
      "HTTPSConnectionPool(host='gall.dcinside.com', port=443): Max retries exceeded with url: /mgallery/board/view/?id=dnfqq&no=6332003&list_num=100&page=31 (Caused by ConnectTimeoutError(<urllib3.connection.HTTPSConnection object at 0x7faed2666700>, 'Connection to 203.202.255.67 timed out. (connect timeout=10)'))\n",
      "22\n",
      "HTTPSConnectionPool(host='gall.dcinside.com', port=443): Max retries exceeded with url: /mgallery/board/view/?id=dnfqq&no=6332003&list_num=100&page=31 (Caused by ConnectTimeoutError(<urllib3.connection.HTTPSConnection object at 0x7faed2674070>, 'Connection to 156.67.172.185 timed out. (connect timeout=10)'))\n",
      "23\n",
      "HTTPSConnectionPool(host='gall.dcinside.com', port=443): Max retries exceeded with url: /mgallery/board/view/?id=dnfqq&no=6332003&list_num=100&page=31 (Caused by ConnectTimeoutError(<urllib3.connection.HTTPSConnection object at 0x7faed2666310>, 'Connection to 80.87.213.45 timed out. (connect timeout=10)'))\n",
      "24\n",
      "HTTPSConnectionPool(host='gall.dcinside.com', port=443): Max retries exceeded with url: /mgallery/board/view/?id=dnfqq&no=6332003&list_num=100&page=31 (Caused by ConnectTimeoutError(<urllib3.connection.HTTPSConnection object at 0x7faed2666b20>, 'Connection to 201.221.9.105 timed out. (connect timeout=10)'))\n",
      "25\n",
      "HTTPSConnectionPool(host='gall.dcinside.com', port=443): Max retries exceeded with url: /mgallery/board/view/?id=dnfqq&no=6332003&list_num=100&page=31 (Caused by ConnectTimeoutError(<urllib3.connection.HTTPSConnection object at 0x7faed1597b20>, 'Connection to 45.167.90.21 timed out. (connect timeout=10)'))\n",
      "26\n",
      "HTTPSConnectionPool(host='gall.dcinside.com', port=443): Max retries exceeded with url: /mgallery/board/view/?id=dnfqq&no=6332003&list_num=100&page=31 (Caused by ConnectTimeoutError(<urllib3.connection.HTTPSConnection object at 0x7faed39fe280>, 'Connection to 179.190.97.135 timed out. (connect timeout=10)'))\n",
      "27\n",
      "HTTPSConnectionPool(host='gall.dcinside.com', port=443): Max retries exceeded with url: /mgallery/board/view/?id=dnfqq&no=6332003&list_num=100&page=31 (Caused by ConnectTimeoutError(<urllib3.connection.HTTPSConnection object at 0x7faed26747f0>, 'Connection to 103.147.128.5 timed out. (connect timeout=10)'))\n",
      "28\n",
      "HTTPSConnectionPool(host='gall.dcinside.com', port=443): Max retries exceeded with url: /mgallery/board/view/?id=dnfqq&no=6332003&list_num=100&page=31 (Caused by ConnectTimeoutError(<urllib3.connection.HTTPSConnection object at 0x7faed1590ee0>, 'Connection to 45.229.58.33 timed out. (connect timeout=10)'))\n",
      "29\n"
     ]
    },
    {
     "name": "stderr",
     "output_type": "stream",
     "text": [
      "\r",
      "1544it [32:19, 70.73s/it]"
     ]
    },
    {
     "name": "stdout",
     "output_type": "stream",
     "text": [
      "Find Content!\n",
      "SEARCHING Iloc :  1544\n",
      "29\n",
      "HTTPSConnectionPool(host='gall.dcinside.com', port=443): Max retries exceeded with url: /mgallery/board/view/?id=dnfqq&no=6332002&list_num=100&page=31 (Caused by ConnectTimeoutError(<urllib3.connection.HTTPSConnection object at 0x7faed19d1a00>, 'Connection to 80.240.201.62 timed out. (connect timeout=10)'))\n",
      "30\n",
      "list index out of range\n",
      "0\n",
      "Find Content!\n"
     ]
    },
    {
     "name": "stderr",
     "output_type": "stream",
     "text": [
      "\r",
      "1545it [32:33, 53.71s/it]"
     ]
    },
    {
     "name": "stdout",
     "output_type": "stream",
     "text": [
      "SEARCHING Iloc :  1545\n",
      "0\n"
     ]
    },
    {
     "name": "stderr",
     "output_type": "stream",
     "text": [
      "\r",
      "1546it [32:37, 38.53s/it]"
     ]
    },
    {
     "name": "stdout",
     "output_type": "stream",
     "text": [
      "Find Content!\n",
      "SEARCHING Iloc :  1546\n",
      "0\n"
     ]
    },
    {
     "name": "stderr",
     "output_type": "stream",
     "text": [
      "\r",
      "1547it [32:40, 27.94s/it]"
     ]
    },
    {
     "name": "stdout",
     "output_type": "stream",
     "text": [
      "Find Content!\n",
      "SEARCHING Iloc :  1547\n",
      "0\n",
      "Find Content!\n"
     ]
    },
    {
     "name": "stderr",
     "output_type": "stream",
     "text": [
      "\r",
      "1548it [32:43, 20.65s/it]"
     ]
    },
    {
     "name": "stdout",
     "output_type": "stream",
     "text": [
      "SEARCHING Iloc :  1548\n",
      "0\n"
     ]
    },
    {
     "name": "stderr",
     "output_type": "stream",
     "text": [
      "\r",
      "1549it [32:47, 15.52s/it]"
     ]
    },
    {
     "name": "stdout",
     "output_type": "stream",
     "text": [
      "Find Content!\n",
      "SEARCHING Iloc :  1549\n",
      "0\n"
     ]
    },
    {
     "name": "stderr",
     "output_type": "stream",
     "text": [
      "\r",
      "1550it [32:51, 11.97s/it]"
     ]
    },
    {
     "name": "stdout",
     "output_type": "stream",
     "text": [
      "Find Content!\n",
      "SEARCHING Iloc :  1550\n",
      "0\n"
     ]
    },
    {
     "name": "stderr",
     "output_type": "stream",
     "text": [
      "\r",
      "1551it [32:54,  9.47s/it]"
     ]
    },
    {
     "name": "stdout",
     "output_type": "stream",
     "text": [
      "Find Content!\n",
      "SEARCHING Iloc :  1551\n",
      "0\n",
      "Find Content!\n"
     ]
    },
    {
     "name": "stderr",
     "output_type": "stream",
     "text": [
      "\r",
      "1552it [32:58,  7.62s/it]"
     ]
    },
    {
     "name": "stdout",
     "output_type": "stream",
     "text": [
      "SEARCHING Iloc :  1552\n",
      "0\n"
     ]
    },
    {
     "name": "stderr",
     "output_type": "stream",
     "text": [
      "\r",
      "1553it [33:01,  6.41s/it]"
     ]
    },
    {
     "name": "stdout",
     "output_type": "stream",
     "text": [
      "Find Content!\n",
      "SEARCHING Iloc :  1553\n",
      "0\n"
     ]
    },
    {
     "name": "stderr",
     "output_type": "stream",
     "text": [
      "\r",
      "1554it [33:04,  5.46s/it]"
     ]
    },
    {
     "name": "stdout",
     "output_type": "stream",
     "text": [
      "Find Content!\n",
      "SEARCHING Iloc :  1554\n",
      "0\n"
     ]
    },
    {
     "name": "stderr",
     "output_type": "stream",
     "text": [
      "\r",
      "1555it [33:08,  4.89s/it]"
     ]
    },
    {
     "name": "stdout",
     "output_type": "stream",
     "text": [
      "Find Content!\n",
      "SEARCHING Iloc :  1555\n",
      "0\n",
      "Find Content!\n"
     ]
    },
    {
     "name": "stderr",
     "output_type": "stream",
     "text": [
      "\r",
      "1556it [33:12,  4.55s/it]"
     ]
    },
    {
     "name": "stdout",
     "output_type": "stream",
     "text": [
      "SEARCHING Iloc :  1556\n",
      "0\n"
     ]
    },
    {
     "name": "stderr",
     "output_type": "stream",
     "text": [
      "\r",
      "1557it [33:15,  4.22s/it]"
     ]
    },
    {
     "name": "stdout",
     "output_type": "stream",
     "text": [
      "Find Content!\n",
      "SEARCHING Iloc :  1557\n",
      "0\n"
     ]
    },
    {
     "name": "stderr",
     "output_type": "stream",
     "text": [
      "\r",
      "1558it [33:18,  3.90s/it]"
     ]
    },
    {
     "name": "stdout",
     "output_type": "stream",
     "text": [
      "Find Content!\n",
      "SEARCHING Iloc :  1558\n",
      "0\n"
     ]
    },
    {
     "name": "stderr",
     "output_type": "stream",
     "text": [
      "\r",
      "1559it [33:22,  3.86s/it]"
     ]
    },
    {
     "name": "stdout",
     "output_type": "stream",
     "text": [
      "Find Content!\n",
      "SEARCHING Iloc :  1559\n",
      "0\n",
      "Find Content!\n"
     ]
    },
    {
     "name": "stderr",
     "output_type": "stream",
     "text": [
      "\r",
      "1560it [33:26,  3.72s/it]"
     ]
    },
    {
     "name": "stdout",
     "output_type": "stream",
     "text": [
      "SEARCHING Iloc :  1560\n",
      "0\n"
     ]
    },
    {
     "name": "stderr",
     "output_type": "stream",
     "text": [
      "\r",
      "1561it [33:29,  3.54s/it]"
     ]
    },
    {
     "name": "stdout",
     "output_type": "stream",
     "text": [
      "Find Content!\n",
      "SEARCHING Iloc :  1561\n",
      "0\n"
     ]
    },
    {
     "name": "stderr",
     "output_type": "stream",
     "text": [
      "\r",
      "1562it [33:33,  3.66s/it]"
     ]
    },
    {
     "name": "stdout",
     "output_type": "stream",
     "text": [
      "Find Content!\n",
      "SEARCHING Iloc :  1562\n",
      "0\n"
     ]
    },
    {
     "name": "stderr",
     "output_type": "stream",
     "text": [
      "\r",
      "1563it [33:36,  3.60s/it]"
     ]
    },
    {
     "name": "stdout",
     "output_type": "stream",
     "text": [
      "Find Content!\n",
      "SEARCHING Iloc :  1563\n",
      "0\n",
      "Find Content!\n"
     ]
    },
    {
     "name": "stderr",
     "output_type": "stream",
     "text": [
      "\r",
      "1564it [33:40,  3.68s/it]"
     ]
    },
    {
     "name": "stdout",
     "output_type": "stream",
     "text": [
      "SEARCHING Iloc :  1564\n",
      "0\n"
     ]
    },
    {
     "name": "stderr",
     "output_type": "stream",
     "text": [
      "\r",
      "1565it [33:44,  3.79s/it]"
     ]
    },
    {
     "name": "stdout",
     "output_type": "stream",
     "text": [
      "Find Content!\n",
      "SEARCHING Iloc :  1565\n",
      "0\n"
     ]
    },
    {
     "name": "stderr",
     "output_type": "stream",
     "text": [
      "\r",
      "1566it [33:47,  3.61s/it]"
     ]
    },
    {
     "name": "stdout",
     "output_type": "stream",
     "text": [
      "Find Content!\n",
      "SEARCHING Iloc :  1566\n",
      "0\n"
     ]
    },
    {
     "name": "stderr",
     "output_type": "stream",
     "text": [
      "\r",
      "1567it [33:51,  3.59s/it]"
     ]
    },
    {
     "name": "stdout",
     "output_type": "stream",
     "text": [
      "Find Content!\n",
      "SEARCHING Iloc :  1567\n",
      "0\n",
      "Find Content!\n"
     ]
    },
    {
     "name": "stderr",
     "output_type": "stream",
     "text": [
      "\r",
      "1568it [33:54,  3.52s/it]"
     ]
    },
    {
     "name": "stdout",
     "output_type": "stream",
     "text": [
      "SEARCHING Iloc :  1568\n",
      "0\n"
     ]
    },
    {
     "name": "stderr",
     "output_type": "stream",
     "text": [
      "\r",
      "1569it [33:57,  3.42s/it]"
     ]
    },
    {
     "name": "stdout",
     "output_type": "stream",
     "text": [
      "Find Content!\n",
      "SEARCHING Iloc :  1569\n",
      "0\n"
     ]
    },
    {
     "name": "stderr",
     "output_type": "stream",
     "text": [
      "\r",
      "1570it [34:01,  3.40s/it]"
     ]
    },
    {
     "name": "stdout",
     "output_type": "stream",
     "text": [
      "Find Content!\n",
      "SEARCHING Iloc :  1570\n",
      "0\n"
     ]
    },
    {
     "name": "stderr",
     "output_type": "stream",
     "text": [
      "\r",
      "1571it [34:04,  3.54s/it]"
     ]
    },
    {
     "name": "stdout",
     "output_type": "stream",
     "text": [
      "Find Content!\n",
      "SEARCHING Iloc :  1571\n",
      "0\n",
      "Find Content!\n"
     ]
    },
    {
     "name": "stderr",
     "output_type": "stream",
     "text": [
      "\r",
      "1572it [34:08,  3.50s/it]"
     ]
    },
    {
     "name": "stdout",
     "output_type": "stream",
     "text": [
      "SEARCHING Iloc :  1572\n",
      "0\n"
     ]
    },
    {
     "name": "stderr",
     "output_type": "stream",
     "text": [
      "\r",
      "1573it [34:12,  3.58s/it]"
     ]
    },
    {
     "name": "stdout",
     "output_type": "stream",
     "text": [
      "Find Content!\n",
      "SEARCHING Iloc :  1573\n",
      "0\n"
     ]
    },
    {
     "name": "stderr",
     "output_type": "stream",
     "text": [
      "\r",
      "1574it [34:16,  3.71s/it]"
     ]
    },
    {
     "name": "stdout",
     "output_type": "stream",
     "text": [
      "Find Content!\n",
      "SEARCHING Iloc :  1574\n",
      "0\n",
      "Find Content!\n"
     ]
    },
    {
     "name": "stderr",
     "output_type": "stream",
     "text": [
      "\r",
      "1575it [34:20,  3.76s/it]"
     ]
    },
    {
     "name": "stdout",
     "output_type": "stream",
     "text": [
      "SEARCHING Iloc :  1575\n",
      "0\n"
     ]
    },
    {
     "name": "stderr",
     "output_type": "stream",
     "text": [
      "\r",
      "1576it [34:23,  3.59s/it]"
     ]
    },
    {
     "name": "stdout",
     "output_type": "stream",
     "text": [
      "Find Content!\n",
      "SEARCHING Iloc :  1576\n",
      "0\n",
      "Find Content!\n"
     ]
    },
    {
     "name": "stderr",
     "output_type": "stream",
     "text": [
      "\r",
      "1577it [34:26,  3.59s/it]"
     ]
    },
    {
     "name": "stdout",
     "output_type": "stream",
     "text": [
      "SEARCHING Iloc :  1577\n",
      "0\n"
     ]
    },
    {
     "name": "stderr",
     "output_type": "stream",
     "text": [
      "\r",
      "1578it [34:30,  3.60s/it]"
     ]
    },
    {
     "name": "stdout",
     "output_type": "stream",
     "text": [
      "Find Content!\n",
      "SEARCHING Iloc :  1578\n",
      "0\n",
      "Find Content!\n"
     ]
    },
    {
     "name": "stderr",
     "output_type": "stream",
     "text": [
      "\r",
      "1579it [34:34,  3.69s/it]"
     ]
    },
    {
     "name": "stdout",
     "output_type": "stream",
     "text": [
      "SEARCHING Iloc :  1579\n",
      "0\n"
     ]
    },
    {
     "name": "stderr",
     "output_type": "stream",
     "text": [
      "\r",
      "1580it [34:37,  3.53s/it]"
     ]
    },
    {
     "name": "stdout",
     "output_type": "stream",
     "text": [
      "Find Content!\n",
      "SEARCHING Iloc :  1580\n",
      "0\n"
     ]
    },
    {
     "name": "stderr",
     "output_type": "stream",
     "text": [
      "\r",
      "1581it [34:41,  3.55s/it]"
     ]
    },
    {
     "name": "stdout",
     "output_type": "stream",
     "text": [
      "Find Content!\n",
      "SEARCHING Iloc :  1581\n",
      "0\n"
     ]
    },
    {
     "name": "stderr",
     "output_type": "stream",
     "text": [
      "\r",
      "1582it [34:44,  3.63s/it]"
     ]
    },
    {
     "name": "stdout",
     "output_type": "stream",
     "text": [
      "Find Content!\n",
      "SEARCHING Iloc :  1582\n",
      "0\n",
      "Find Content!\n"
     ]
    },
    {
     "name": "stderr",
     "output_type": "stream",
     "text": [
      "\r",
      "1583it [34:48,  3.66s/it]"
     ]
    },
    {
     "name": "stdout",
     "output_type": "stream",
     "text": [
      "SEARCHING Iloc :  1583\n",
      "0\n"
     ]
    },
    {
     "name": "stderr",
     "output_type": "stream",
     "text": [
      "\r",
      "1584it [34:52,  3.60s/it]"
     ]
    },
    {
     "name": "stdout",
     "output_type": "stream",
     "text": [
      "Find Content!\n",
      "SEARCHING Iloc :  1584\n",
      "0\n"
     ]
    },
    {
     "name": "stderr",
     "output_type": "stream",
     "text": [
      "\r",
      "1585it [34:55,  3.65s/it]"
     ]
    },
    {
     "name": "stdout",
     "output_type": "stream",
     "text": [
      "Find Content!\n",
      "SEARCHING Iloc :  1585\n",
      "0\n"
     ]
    },
    {
     "name": "stderr",
     "output_type": "stream",
     "text": [
      "\r",
      "1586it [34:59,  3.57s/it]"
     ]
    },
    {
     "name": "stdout",
     "output_type": "stream",
     "text": [
      "Find Content!\n",
      "SEARCHING Iloc :  1586\n",
      "0\n",
      "Find Content!\n"
     ]
    },
    {
     "name": "stderr",
     "output_type": "stream",
     "text": [
      "\r",
      "1587it [35:02,  3.55s/it]"
     ]
    },
    {
     "name": "stdout",
     "output_type": "stream",
     "text": [
      "SEARCHING Iloc :  1587\n",
      "0\n"
     ]
    },
    {
     "name": "stderr",
     "output_type": "stream",
     "text": [
      "\r",
      "1588it [35:06,  3.60s/it]"
     ]
    },
    {
     "name": "stdout",
     "output_type": "stream",
     "text": [
      "Find Content!\n",
      "SEARCHING Iloc :  1588\n",
      "0\n"
     ]
    },
    {
     "name": "stderr",
     "output_type": "stream",
     "text": [
      "\r",
      "1589it [35:10,  3.59s/it]"
     ]
    },
    {
     "name": "stdout",
     "output_type": "stream",
     "text": [
      "Find Content!\n",
      "SEARCHING Iloc :  1589\n",
      "0\n"
     ]
    },
    {
     "name": "stderr",
     "output_type": "stream",
     "text": [
      "\r",
      "1590it [35:13,  3.66s/it]"
     ]
    },
    {
     "name": "stdout",
     "output_type": "stream",
     "text": [
      "Find Content!\n",
      "SEARCHING Iloc :  1590\n",
      "0\n",
      "Find Content!\n"
     ]
    },
    {
     "name": "stderr",
     "output_type": "stream",
     "text": [
      "\r",
      "1591it [35:17,  3.57s/it]"
     ]
    },
    {
     "name": "stdout",
     "output_type": "stream",
     "text": [
      "SEARCHING Iloc :  1591\n",
      "0\n"
     ]
    },
    {
     "name": "stderr",
     "output_type": "stream",
     "text": [
      "\r",
      "1592it [35:20,  3.58s/it]"
     ]
    },
    {
     "name": "stdout",
     "output_type": "stream",
     "text": [
      "Find Content!\n",
      "SEARCHING Iloc :  1592\n",
      "0\n"
     ]
    },
    {
     "name": "stderr",
     "output_type": "stream",
     "text": [
      "\r",
      "1593it [35:23,  3.44s/it]"
     ]
    },
    {
     "name": "stdout",
     "output_type": "stream",
     "text": [
      "Find Content!\n",
      "SEARCHING Iloc :  1593\n",
      "0\n"
     ]
    },
    {
     "name": "stderr",
     "output_type": "stream",
     "text": [
      "\r",
      "1594it [35:30,  4.34s/it]"
     ]
    },
    {
     "name": "stdout",
     "output_type": "stream",
     "text": [
      "Find Content!\n",
      "SEARCHING Iloc :  1594\n",
      "0\n",
      "Find Content!\n"
     ]
    },
    {
     "name": "stderr",
     "output_type": "stream",
     "text": [
      "\r",
      "1595it [35:33,  4.06s/it]"
     ]
    },
    {
     "name": "stdout",
     "output_type": "stream",
     "text": [
      "SEARCHING Iloc :  1595\n",
      "0\n"
     ]
    },
    {
     "name": "stderr",
     "output_type": "stream",
     "text": [
      "\r",
      "1596it [35:37,  3.94s/it]"
     ]
    },
    {
     "name": "stdout",
     "output_type": "stream",
     "text": [
      "Find Content!\n",
      "SEARCHING Iloc :  1596\n",
      "0\n"
     ]
    },
    {
     "name": "stderr",
     "output_type": "stream",
     "text": [
      "\r",
      "1597it [35:41,  3.85s/it]"
     ]
    },
    {
     "name": "stdout",
     "output_type": "stream",
     "text": [
      "Find Content!\n",
      "SEARCHING Iloc :  1597\n",
      "0\n",
      "Find Content!\n"
     ]
    },
    {
     "name": "stderr",
     "output_type": "stream",
     "text": [
      "\r",
      "1598it [35:44,  3.83s/it]"
     ]
    },
    {
     "name": "stdout",
     "output_type": "stream",
     "text": [
      "SEARCHING Iloc :  1598\n",
      "0\n"
     ]
    },
    {
     "name": "stderr",
     "output_type": "stream",
     "text": [
      "\r",
      "1599it [35:48,  3.68s/it]"
     ]
    },
    {
     "name": "stdout",
     "output_type": "stream",
     "text": [
      "Find Content!\n",
      "SEARCHING Iloc :  1599\n",
      "0\n"
     ]
    },
    {
     "name": "stderr",
     "output_type": "stream",
     "text": [
      "\r",
      "1600it [35:52,  3.87s/it]"
     ]
    },
    {
     "name": "stdout",
     "output_type": "stream",
     "text": [
      "Find Content!\n",
      "SEARCHING Iloc :  1600\n",
      "0\n"
     ]
    },
    {
     "name": "stderr",
     "output_type": "stream",
     "text": [
      "\r",
      "1601it [35:55,  3.67s/it]"
     ]
    },
    {
     "name": "stdout",
     "output_type": "stream",
     "text": [
      "Find Content!\n",
      "SEARCHING Iloc :  1601\n",
      "0\n",
      "Find Content!\n"
     ]
    },
    {
     "name": "stderr",
     "output_type": "stream",
     "text": [
      "\r",
      "1602it [35:59,  3.71s/it]"
     ]
    },
    {
     "name": "stdout",
     "output_type": "stream",
     "text": [
      "SEARCHING Iloc :  1602\n",
      "0\n"
     ]
    },
    {
     "name": "stderr",
     "output_type": "stream",
     "text": [
      "\r",
      "1603it [36:02,  3.47s/it]"
     ]
    },
    {
     "name": "stdout",
     "output_type": "stream",
     "text": [
      "Find Content!\n",
      "SEARCHING Iloc :  1603\n",
      "0\n"
     ]
    },
    {
     "name": "stderr",
     "output_type": "stream",
     "text": [
      "\r",
      "1604it [36:06,  3.54s/it]"
     ]
    },
    {
     "name": "stdout",
     "output_type": "stream",
     "text": [
      "Find Content!\n",
      "SEARCHING Iloc :  1604\n",
      "0\n"
     ]
    },
    {
     "name": "stderr",
     "output_type": "stream",
     "text": [
      "\r",
      "1605it [36:09,  3.55s/it]"
     ]
    },
    {
     "name": "stdout",
     "output_type": "stream",
     "text": [
      "Find Content!\n",
      "SEARCHING Iloc :  1605\n",
      "0\n"
     ]
    },
    {
     "name": "stderr",
     "output_type": "stream",
     "text": [
      "\r",
      "1606it [36:13,  3.58s/it]"
     ]
    },
    {
     "name": "stdout",
     "output_type": "stream",
     "text": [
      "Find Content!\n",
      "SEARCHING Iloc :  1606\n",
      "0\n",
      "Find Content!\n"
     ]
    },
    {
     "name": "stderr",
     "output_type": "stream",
     "text": [
      "\r",
      "1607it [36:17,  3.72s/it]"
     ]
    },
    {
     "name": "stdout",
     "output_type": "stream",
     "text": [
      "SEARCHING Iloc :  1607\n",
      "0\n"
     ]
    },
    {
     "name": "stderr",
     "output_type": "stream",
     "text": [
      "\r",
      "1608it [36:21,  3.71s/it]"
     ]
    },
    {
     "name": "stdout",
     "output_type": "stream",
     "text": [
      "Find Content!\n",
      "SEARCHING Iloc :  1608\n",
      "0\n"
     ]
    },
    {
     "name": "stderr",
     "output_type": "stream",
     "text": [
      "\r",
      "1609it [36:24,  3.61s/it]"
     ]
    },
    {
     "name": "stdout",
     "output_type": "stream",
     "text": [
      "Find Content!\n",
      "SEARCHING Iloc :  1609\n",
      "0\n"
     ]
    },
    {
     "name": "stderr",
     "output_type": "stream",
     "text": [
      "\r",
      "1610it [36:28,  3.62s/it]"
     ]
    },
    {
     "name": "stdout",
     "output_type": "stream",
     "text": [
      "Find Content!\n",
      "SEARCHING Iloc :  1610\n",
      "0\n",
      "Find Content!\n"
     ]
    },
    {
     "name": "stderr",
     "output_type": "stream",
     "text": [
      "\r",
      "1611it [36:31,  3.68s/it]"
     ]
    },
    {
     "name": "stdout",
     "output_type": "stream",
     "text": [
      "SEARCHING Iloc :  1611\n",
      "0\n"
     ]
    },
    {
     "name": "stderr",
     "output_type": "stream",
     "text": [
      "\r",
      "1612it [36:38,  4.56s/it]"
     ]
    },
    {
     "name": "stdout",
     "output_type": "stream",
     "text": [
      "Find Content!\n",
      "SEARCHING Iloc :  1612\n",
      "0\n"
     ]
    },
    {
     "name": "stderr",
     "output_type": "stream",
     "text": [
      "\r",
      "1613it [36:42,  4.29s/it]"
     ]
    },
    {
     "name": "stdout",
     "output_type": "stream",
     "text": [
      "Find Content!\n",
      "SEARCHING Iloc :  1613\n",
      "0\n"
     ]
    },
    {
     "name": "stderr",
     "output_type": "stream",
     "text": [
      "\r",
      "1614it [36:45,  3.97s/it]"
     ]
    },
    {
     "name": "stdout",
     "output_type": "stream",
     "text": [
      "Find Content!\n",
      "SEARCHING Iloc :  1614\n",
      "0\n",
      "Find Content!\n"
     ]
    },
    {
     "name": "stderr",
     "output_type": "stream",
     "text": [
      "\r",
      "1615it [36:49,  3.92s/it]"
     ]
    },
    {
     "name": "stdout",
     "output_type": "stream",
     "text": [
      "SEARCHING Iloc :  1615\n",
      "0\n"
     ]
    },
    {
     "name": "stderr",
     "output_type": "stream",
     "text": [
      "\r",
      "1616it [36:52,  3.69s/it]"
     ]
    },
    {
     "name": "stdout",
     "output_type": "stream",
     "text": [
      "Find Content!\n",
      "SEARCHING Iloc :  1616\n",
      "0\n"
     ]
    },
    {
     "name": "stderr",
     "output_type": "stream",
     "text": [
      "\r",
      "1617it [36:55,  3.53s/it]"
     ]
    },
    {
     "name": "stdout",
     "output_type": "stream",
     "text": [
      "Find Content!\n",
      "SEARCHING Iloc :  1617\n",
      "0\n"
     ]
    },
    {
     "name": "stderr",
     "output_type": "stream",
     "text": [
      "\r",
      "1618it [36:59,  3.57s/it]"
     ]
    },
    {
     "name": "stdout",
     "output_type": "stream",
     "text": [
      "Find Content!\n",
      "SEARCHING Iloc :  1618\n",
      "0\n",
      "Find Content!\n"
     ]
    },
    {
     "name": "stderr",
     "output_type": "stream",
     "text": [
      "\r",
      "1619it [37:02,  3.62s/it]"
     ]
    },
    {
     "name": "stdout",
     "output_type": "stream",
     "text": [
      "SEARCHING Iloc :  1619\n",
      "0\n"
     ]
    },
    {
     "name": "stderr",
     "output_type": "stream",
     "text": [
      "\r",
      "1620it [37:06,  3.62s/it]"
     ]
    },
    {
     "name": "stdout",
     "output_type": "stream",
     "text": [
      "Find Content!\n",
      "SEARCHING Iloc :  1620\n",
      "0\n"
     ]
    },
    {
     "name": "stderr",
     "output_type": "stream",
     "text": [
      "\r",
      "1621it [37:10,  3.60s/it]"
     ]
    },
    {
     "name": "stdout",
     "output_type": "stream",
     "text": [
      "Find Content!\n",
      "SEARCHING Iloc :  1621\n",
      "0\n",
      "Find Content!\n"
     ]
    },
    {
     "name": "stderr",
     "output_type": "stream",
     "text": [
      "\r",
      "1622it [37:13,  3.65s/it]"
     ]
    },
    {
     "name": "stdout",
     "output_type": "stream",
     "text": [
      "SEARCHING Iloc :  1622\n",
      "0\n"
     ]
    },
    {
     "name": "stderr",
     "output_type": "stream",
     "text": [
      "\r",
      "1623it [37:17,  3.50s/it]"
     ]
    },
    {
     "name": "stdout",
     "output_type": "stream",
     "text": [
      "Find Content!\n",
      "SEARCHING Iloc :  1623\n",
      "0\n"
     ]
    },
    {
     "name": "stderr",
     "output_type": "stream",
     "text": [
      "\r",
      "1624it [37:20,  3.42s/it]"
     ]
    },
    {
     "name": "stdout",
     "output_type": "stream",
     "text": [
      "Find Content!\n",
      "SEARCHING Iloc :  1624\n",
      "0\n"
     ]
    },
    {
     "name": "stderr",
     "output_type": "stream",
     "text": [
      "\r",
      "1625it [37:23,  3.37s/it]"
     ]
    },
    {
     "name": "stdout",
     "output_type": "stream",
     "text": [
      "Find Content!\n",
      "SEARCHING Iloc :  1625\n",
      "0\n",
      "Find Content!\n"
     ]
    },
    {
     "name": "stderr",
     "output_type": "stream",
     "text": [
      "\r",
      "1626it [37:26,  3.39s/it]"
     ]
    },
    {
     "name": "stdout",
     "output_type": "stream",
     "text": [
      "SEARCHING Iloc :  1626\n",
      "0\n"
     ]
    },
    {
     "name": "stderr",
     "output_type": "stream",
     "text": [
      "\r",
      "1627it [37:30,  3.36s/it]"
     ]
    },
    {
     "name": "stdout",
     "output_type": "stream",
     "text": [
      "Find Content!\n",
      "SEARCHING Iloc :  1627\n",
      "0\n"
     ]
    },
    {
     "name": "stderr",
     "output_type": "stream",
     "text": [
      "\r",
      "1628it [37:34,  3.51s/it]"
     ]
    },
    {
     "name": "stdout",
     "output_type": "stream",
     "text": [
      "Find Content!\n",
      "SEARCHING Iloc :  1628\n",
      "0\n"
     ]
    },
    {
     "name": "stderr",
     "output_type": "stream",
     "text": [
      "\r",
      "1629it [37:37,  3.44s/it]"
     ]
    },
    {
     "name": "stdout",
     "output_type": "stream",
     "text": [
      "Find Content!\n",
      "SEARCHING Iloc :  1629\n",
      "0\n"
     ]
    },
    {
     "name": "stderr",
     "output_type": "stream",
     "text": [
      "\r",
      "1630it [37:40,  3.25s/it]"
     ]
    },
    {
     "name": "stdout",
     "output_type": "stream",
     "text": [
      "Find Content!\n",
      "SEARCHING Iloc :  1630\n",
      "0\n",
      "Find Content!\n"
     ]
    },
    {
     "name": "stderr",
     "output_type": "stream",
     "text": [
      "\r",
      "1631it [37:44,  3.47s/it]"
     ]
    },
    {
     "name": "stdout",
     "output_type": "stream",
     "text": [
      "SEARCHING Iloc :  1631\n",
      "0\n"
     ]
    },
    {
     "name": "stderr",
     "output_type": "stream",
     "text": [
      "\r",
      "1632it [37:47,  3.52s/it]"
     ]
    },
    {
     "name": "stdout",
     "output_type": "stream",
     "text": [
      "Find Content!\n",
      "SEARCHING Iloc :  1632\n",
      "0\n"
     ]
    },
    {
     "name": "stderr",
     "output_type": "stream",
     "text": [
      "\r",
      "1633it [37:51,  3.48s/it]"
     ]
    },
    {
     "name": "stdout",
     "output_type": "stream",
     "text": [
      "Find Content!\n",
      "SEARCHING Iloc :  1633\n",
      "0\n"
     ]
    },
    {
     "name": "stderr",
     "output_type": "stream",
     "text": [
      "\r",
      "1634it [37:54,  3.55s/it]"
     ]
    },
    {
     "name": "stdout",
     "output_type": "stream",
     "text": [
      "Find Content!\n",
      "SEARCHING Iloc :  1634\n",
      "0\n",
      "Find Content!\n"
     ]
    },
    {
     "name": "stderr",
     "output_type": "stream",
     "text": [
      "\r",
      "1635it [37:58,  3.63s/it]"
     ]
    },
    {
     "name": "stdout",
     "output_type": "stream",
     "text": [
      "SEARCHING Iloc :  1635\n",
      "0\n"
     ]
    },
    {
     "name": "stderr",
     "output_type": "stream",
     "text": [
      "\r",
      "1636it [38:02,  3.70s/it]"
     ]
    },
    {
     "name": "stdout",
     "output_type": "stream",
     "text": [
      "Find Content!\n",
      "SEARCHING Iloc :  1636\n",
      "0\n"
     ]
    },
    {
     "name": "stderr",
     "output_type": "stream",
     "text": [
      "\r",
      "1637it [38:06,  3.78s/it]"
     ]
    },
    {
     "name": "stdout",
     "output_type": "stream",
     "text": [
      "Find Content!\n",
      "SEARCHING Iloc :  1637\n",
      "0\n"
     ]
    },
    {
     "name": "stderr",
     "output_type": "stream",
     "text": [
      "\r",
      "1638it [38:10,  3.76s/it]"
     ]
    },
    {
     "name": "stdout",
     "output_type": "stream",
     "text": [
      "Find Content!\n",
      "SEARCHING Iloc :  1638\n",
      "0\n",
      "Find Content!\n"
     ]
    },
    {
     "name": "stderr",
     "output_type": "stream",
     "text": [
      "\r",
      "1639it [38:14,  3.75s/it]"
     ]
    },
    {
     "name": "stdout",
     "output_type": "stream",
     "text": [
      "SEARCHING Iloc :  1639\n",
      "0\n"
     ]
    },
    {
     "name": "stderr",
     "output_type": "stream",
     "text": [
      "\r",
      "1640it [38:17,  3.70s/it]"
     ]
    },
    {
     "name": "stdout",
     "output_type": "stream",
     "text": [
      "Find Content!\n",
      "SEARCHING Iloc :  1640\n",
      "0\n"
     ]
    },
    {
     "name": "stderr",
     "output_type": "stream",
     "text": [
      "\r",
      "1641it [38:20,  3.45s/it]"
     ]
    },
    {
     "name": "stdout",
     "output_type": "stream",
     "text": [
      "Find Content!\n",
      "SEARCHING Iloc :  1641\n",
      "0\n"
     ]
    },
    {
     "name": "stderr",
     "output_type": "stream",
     "text": [
      "\r",
      "1642it [38:24,  3.50s/it]"
     ]
    },
    {
     "name": "stdout",
     "output_type": "stream",
     "text": [
      "Find Content!\n",
      "SEARCHING Iloc :  1642\n",
      "0\n"
     ]
    },
    {
     "name": "stderr",
     "output_type": "stream",
     "text": [
      "\r",
      "1643it [38:27,  3.57s/it]"
     ]
    },
    {
     "name": "stdout",
     "output_type": "stream",
     "text": [
      "Find Content!\n",
      "SEARCHING Iloc :  1643\n",
      "0\n",
      "Find Content!\n"
     ]
    },
    {
     "name": "stderr",
     "output_type": "stream",
     "text": [
      "\r",
      "1644it [38:31,  3.67s/it]"
     ]
    },
    {
     "name": "stdout",
     "output_type": "stream",
     "text": [
      "SEARCHING Iloc :  1644\n",
      "0\n"
     ]
    },
    {
     "name": "stderr",
     "output_type": "stream",
     "text": [
      "\r",
      "1645it [38:34,  3.52s/it]"
     ]
    },
    {
     "name": "stdout",
     "output_type": "stream",
     "text": [
      "Find Content!\n",
      "SEARCHING Iloc :  1645\n",
      "0\n"
     ]
    },
    {
     "name": "stderr",
     "output_type": "stream",
     "text": [
      "\r",
      "1646it [38:38,  3.58s/it]"
     ]
    },
    {
     "name": "stdout",
     "output_type": "stream",
     "text": [
      "Find Content!\n",
      "SEARCHING Iloc :  1646\n",
      "0\n",
      "Find Content!\n"
     ]
    },
    {
     "name": "stderr",
     "output_type": "stream",
     "text": [
      "\r",
      "1647it [38:41,  3.51s/it]"
     ]
    },
    {
     "name": "stdout",
     "output_type": "stream",
     "text": [
      "SEARCHING Iloc :  1647\n",
      "0\n"
     ]
    },
    {
     "name": "stderr",
     "output_type": "stream",
     "text": [
      "\r",
      "1648it [38:45,  3.40s/it]"
     ]
    },
    {
     "name": "stdout",
     "output_type": "stream",
     "text": [
      "Find Content!\n",
      "SEARCHING Iloc :  1648\n",
      "0\n"
     ]
    },
    {
     "name": "stderr",
     "output_type": "stream",
     "text": [
      "\r",
      "1649it [38:48,  3.43s/it]"
     ]
    },
    {
     "name": "stdout",
     "output_type": "stream",
     "text": [
      "Find Content!\n",
      "SEARCHING Iloc :  1649\n",
      "0\n"
     ]
    },
    {
     "name": "stderr",
     "output_type": "stream",
     "text": [
      "\r",
      "1650it [38:52,  3.46s/it]"
     ]
    },
    {
     "name": "stdout",
     "output_type": "stream",
     "text": [
      "Find Content!\n",
      "SEARCHING Iloc :  1650\n",
      "0\n",
      "Find Content!\n"
     ]
    },
    {
     "name": "stderr",
     "output_type": "stream",
     "text": [
      "\r",
      "1651it [38:55,  3.57s/it]"
     ]
    },
    {
     "name": "stdout",
     "output_type": "stream",
     "text": [
      "SEARCHING Iloc :  1651\n",
      "0\n"
     ]
    },
    {
     "name": "stderr",
     "output_type": "stream",
     "text": [
      "\r",
      "1652it [38:59,  3.62s/it]"
     ]
    },
    {
     "name": "stdout",
     "output_type": "stream",
     "text": [
      "Find Content!\n",
      "SEARCHING Iloc :  1652\n",
      "0\n"
     ]
    },
    {
     "name": "stderr",
     "output_type": "stream",
     "text": [
      "\r",
      "1653it [39:02,  3.48s/it]"
     ]
    },
    {
     "name": "stdout",
     "output_type": "stream",
     "text": [
      "Find Content!\n",
      "SEARCHING Iloc :  1653\n",
      "0\n"
     ]
    },
    {
     "name": "stderr",
     "output_type": "stream",
     "text": [
      "\r",
      "1654it [39:10,  4.75s/it]"
     ]
    },
    {
     "name": "stdout",
     "output_type": "stream",
     "text": [
      "Find Content!\n",
      "SEARCHING Iloc :  1654\n",
      "0\n",
      "Find Content!\n"
     ]
    },
    {
     "name": "stderr",
     "output_type": "stream",
     "text": [
      "\r",
      "1655it [39:14,  4.45s/it]"
     ]
    },
    {
     "name": "stdout",
     "output_type": "stream",
     "text": [
      "SEARCHING Iloc :  1655\n",
      "0\n"
     ]
    },
    {
     "name": "stderr",
     "output_type": "stream",
     "text": [
      "\r",
      "1656it [39:17,  4.22s/it]"
     ]
    },
    {
     "name": "stdout",
     "output_type": "stream",
     "text": [
      "Find Content!\n",
      "SEARCHING Iloc :  1656\n",
      "0\n"
     ]
    },
    {
     "name": "stderr",
     "output_type": "stream",
     "text": [
      "\r",
      "1657it [39:21,  3.91s/it]"
     ]
    },
    {
     "name": "stdout",
     "output_type": "stream",
     "text": [
      "Find Content!\n",
      "SEARCHING Iloc :  1657\n",
      "0\n"
     ]
    },
    {
     "name": "stderr",
     "output_type": "stream",
     "text": [
      "\r",
      "1658it [39:24,  3.81s/it]"
     ]
    },
    {
     "name": "stdout",
     "output_type": "stream",
     "text": [
      "Find Content!\n",
      "SEARCHING Iloc :  1658\n",
      "0\n",
      "Find Content!\n"
     ]
    },
    {
     "name": "stderr",
     "output_type": "stream",
     "text": [
      "\r",
      "1659it [39:28,  3.69s/it]"
     ]
    },
    {
     "name": "stdout",
     "output_type": "stream",
     "text": [
      "SEARCHING Iloc :  1659\n",
      "0\n"
     ]
    },
    {
     "name": "stderr",
     "output_type": "stream",
     "text": [
      "\r",
      "1660it [39:31,  3.67s/it]"
     ]
    },
    {
     "name": "stdout",
     "output_type": "stream",
     "text": [
      "Find Content!\n",
      "SEARCHING Iloc :  1660\n",
      "0\n"
     ]
    },
    {
     "name": "stderr",
     "output_type": "stream",
     "text": [
      "\r",
      "1661it [39:35,  3.54s/it]"
     ]
    },
    {
     "name": "stdout",
     "output_type": "stream",
     "text": [
      "Find Content!\n",
      "SEARCHING Iloc :  1661\n",
      "0\n"
     ]
    },
    {
     "name": "stderr",
     "output_type": "stream",
     "text": [
      "\r",
      "1662it [39:38,  3.58s/it]"
     ]
    },
    {
     "name": "stdout",
     "output_type": "stream",
     "text": [
      "Find Content!\n",
      "SEARCHING Iloc :  1662\n",
      "0\n"
     ]
    },
    {
     "name": "stderr",
     "output_type": "stream",
     "text": [
      "\r",
      "1663it [39:41,  3.25s/it]"
     ]
    },
    {
     "name": "stdout",
     "output_type": "stream",
     "text": [
      "Find Content!\n",
      "SEARCHING Iloc :  1663\n",
      "0\n",
      "Find Content!\n"
     ]
    },
    {
     "name": "stderr",
     "output_type": "stream",
     "text": [
      "\r",
      "1664it [39:44,  3.42s/it]"
     ]
    },
    {
     "name": "stdout",
     "output_type": "stream",
     "text": [
      "SEARCHING Iloc :  1664\n",
      "0\n"
     ]
    },
    {
     "name": "stderr",
     "output_type": "stream",
     "text": [
      "\r",
      "1665it [39:48,  3.38s/it]"
     ]
    },
    {
     "name": "stdout",
     "output_type": "stream",
     "text": [
      "Find Content!\n",
      "SEARCHING Iloc :  1665\n",
      "0\n"
     ]
    },
    {
     "name": "stderr",
     "output_type": "stream",
     "text": [
      "\r",
      "1666it [39:51,  3.48s/it]"
     ]
    },
    {
     "name": "stdout",
     "output_type": "stream",
     "text": [
      "Find Content!\n",
      "SEARCHING Iloc :  1666\n",
      "0\n"
     ]
    },
    {
     "name": "stderr",
     "output_type": "stream",
     "text": [
      "\r",
      "1667it [39:55,  3.40s/it]"
     ]
    },
    {
     "name": "stdout",
     "output_type": "stream",
     "text": [
      "Find Content!\n",
      "SEARCHING Iloc :  1667\n",
      "0\n",
      "Find Content!\n"
     ]
    },
    {
     "name": "stderr",
     "output_type": "stream",
     "text": [
      "\r",
      "1668it [39:58,  3.39s/it]"
     ]
    },
    {
     "name": "stdout",
     "output_type": "stream",
     "text": [
      "SEARCHING Iloc :  1668\n",
      "0\n"
     ]
    },
    {
     "name": "stderr",
     "output_type": "stream",
     "text": [
      "\r",
      "1669it [40:01,  3.31s/it]"
     ]
    },
    {
     "name": "stdout",
     "output_type": "stream",
     "text": [
      "Find Content!\n",
      "SEARCHING Iloc :  1669\n",
      "0\n"
     ]
    },
    {
     "name": "stderr",
     "output_type": "stream",
     "text": [
      "\r",
      "1670it [40:07,  4.14s/it]"
     ]
    },
    {
     "name": "stdout",
     "output_type": "stream",
     "text": [
      "Find Content!\n",
      "SEARCHING Iloc :  1670\n",
      "0\n",
      "Find Content!\n"
     ]
    },
    {
     "name": "stderr",
     "output_type": "stream",
     "text": [
      "\r",
      "1671it [40:11,  3.89s/it]"
     ]
    },
    {
     "name": "stdout",
     "output_type": "stream",
     "text": [
      "SEARCHING Iloc :  1671\n",
      "0\n"
     ]
    },
    {
     "name": "stderr",
     "output_type": "stream",
     "text": [
      "\r",
      "1672it [40:14,  3.70s/it]"
     ]
    },
    {
     "name": "stdout",
     "output_type": "stream",
     "text": [
      "Find Content!\n",
      "SEARCHING Iloc :  1672\n",
      "0\n"
     ]
    },
    {
     "name": "stderr",
     "output_type": "stream",
     "text": [
      "\r",
      "1673it [40:17,  3.56s/it]"
     ]
    },
    {
     "name": "stdout",
     "output_type": "stream",
     "text": [
      "Find Content!\n",
      "SEARCHING Iloc :  1673\n",
      "0\n"
     ]
    },
    {
     "name": "stderr",
     "output_type": "stream",
     "text": [
      "\r",
      "1674it [40:21,  3.60s/it]"
     ]
    },
    {
     "name": "stdout",
     "output_type": "stream",
     "text": [
      "Find Content!\n",
      "SEARCHING Iloc :  1674\n",
      "0\n",
      "Find Content!\n"
     ]
    },
    {
     "name": "stderr",
     "output_type": "stream",
     "text": [
      "\r",
      "1675it [40:24,  3.60s/it]"
     ]
    },
    {
     "name": "stdout",
     "output_type": "stream",
     "text": [
      "SEARCHING Iloc :  1675\n",
      "0\n"
     ]
    },
    {
     "name": "stderr",
     "output_type": "stream",
     "text": [
      "\r",
      "1676it [40:28,  3.50s/it]"
     ]
    },
    {
     "name": "stdout",
     "output_type": "stream",
     "text": [
      "Find Content!\n",
      "SEARCHING Iloc :  1676\n",
      "0\n"
     ]
    },
    {
     "name": "stderr",
     "output_type": "stream",
     "text": [
      "\r",
      "1677it [40:31,  3.52s/it]"
     ]
    },
    {
     "name": "stdout",
     "output_type": "stream",
     "text": [
      "Find Content!\n",
      "SEARCHING Iloc :  1677\n",
      "0\n"
     ]
    },
    {
     "name": "stderr",
     "output_type": "stream",
     "text": [
      "\r",
      "1678it [40:34,  3.40s/it]"
     ]
    },
    {
     "name": "stdout",
     "output_type": "stream",
     "text": [
      "Find Content!\n",
      "SEARCHING Iloc :  1678\n",
      "0\n",
      "Find Content!\n"
     ]
    },
    {
     "name": "stderr",
     "output_type": "stream",
     "text": [
      "\r",
      "1679it [40:38,  3.39s/it]"
     ]
    },
    {
     "name": "stdout",
     "output_type": "stream",
     "text": [
      "SEARCHING Iloc :  1679\n",
      "0\n"
     ]
    },
    {
     "name": "stderr",
     "output_type": "stream",
     "text": [
      "\r",
      "1680it [40:41,  3.35s/it]"
     ]
    },
    {
     "name": "stdout",
     "output_type": "stream",
     "text": [
      "Find Content!\n",
      "SEARCHING Iloc :  1680\n",
      "0\n"
     ]
    },
    {
     "name": "stderr",
     "output_type": "stream",
     "text": [
      "\r",
      "1681it [40:44,  3.31s/it]"
     ]
    },
    {
     "name": "stdout",
     "output_type": "stream",
     "text": [
      "Find Content!\n",
      "SEARCHING Iloc :  1681\n",
      "0\n"
     ]
    },
    {
     "name": "stderr",
     "output_type": "stream",
     "text": [
      "\r",
      "1682it [40:48,  3.42s/it]"
     ]
    },
    {
     "name": "stdout",
     "output_type": "stream",
     "text": [
      "Find Content!\n",
      "SEARCHING Iloc :  1682\n",
      "0\n",
      "Find Content!\n"
     ]
    },
    {
     "name": "stderr",
     "output_type": "stream",
     "text": [
      "\r",
      "1683it [40:51,  3.49s/it]"
     ]
    },
    {
     "name": "stdout",
     "output_type": "stream",
     "text": [
      "SEARCHING Iloc :  1683\n",
      "0\n"
     ]
    },
    {
     "name": "stderr",
     "output_type": "stream",
     "text": [
      "\r",
      "1684it [40:55,  3.52s/it]"
     ]
    },
    {
     "name": "stdout",
     "output_type": "stream",
     "text": [
      "Find Content!\n",
      "SEARCHING Iloc :  1684\n",
      "0\n"
     ]
    },
    {
     "name": "stderr",
     "output_type": "stream",
     "text": [
      "\r",
      "1685it [40:59,  3.62s/it]"
     ]
    },
    {
     "name": "stdout",
     "output_type": "stream",
     "text": [
      "Find Content!\n",
      "SEARCHING Iloc :  1685\n",
      "0\n"
     ]
    },
    {
     "name": "stderr",
     "output_type": "stream",
     "text": [
      "\r",
      "1686it [41:02,  3.49s/it]"
     ]
    },
    {
     "name": "stdout",
     "output_type": "stream",
     "text": [
      "Find Content!\n",
      "SEARCHING Iloc :  1686\n",
      "0\n",
      "Find Content!\n"
     ]
    },
    {
     "name": "stderr",
     "output_type": "stream",
     "text": [
      "\r",
      "1687it [41:06,  3.55s/it]"
     ]
    },
    {
     "name": "stdout",
     "output_type": "stream",
     "text": [
      "SEARCHING Iloc :  1687\n",
      "0\n"
     ]
    },
    {
     "name": "stderr",
     "output_type": "stream",
     "text": [
      "\r",
      "1688it [41:10,  3.60s/it]"
     ]
    },
    {
     "name": "stdout",
     "output_type": "stream",
     "text": [
      "Find Content!\n",
      "SEARCHING Iloc :  1688\n",
      "0\n"
     ]
    },
    {
     "name": "stderr",
     "output_type": "stream",
     "text": [
      "\r",
      "1689it [41:13,  3.62s/it]"
     ]
    },
    {
     "name": "stdout",
     "output_type": "stream",
     "text": [
      "Find Content!\n",
      "SEARCHING Iloc :  1689\n",
      "0\n"
     ]
    },
    {
     "name": "stderr",
     "output_type": "stream",
     "text": [
      "\r",
      "1690it [41:17,  3.53s/it]"
     ]
    },
    {
     "name": "stdout",
     "output_type": "stream",
     "text": [
      "Find Content!\n",
      "SEARCHING Iloc :  1690\n",
      "0\n",
      "Find Content!\n"
     ]
    },
    {
     "name": "stderr",
     "output_type": "stream",
     "text": [
      "\r",
      "1691it [41:20,  3.49s/it]"
     ]
    },
    {
     "name": "stdout",
     "output_type": "stream",
     "text": [
      "SEARCHING Iloc :  1691\n",
      "0\n",
      "Find Content!\n"
     ]
    },
    {
     "name": "stderr",
     "output_type": "stream",
     "text": [
      "\r",
      "1692it [41:24,  3.76s/it]"
     ]
    },
    {
     "name": "stdout",
     "output_type": "stream",
     "text": [
      "SEARCHING Iloc :  1692\n",
      "0\n",
      "Find Content!\n"
     ]
    },
    {
     "name": "stderr",
     "output_type": "stream",
     "text": [
      "\r",
      "1693it [41:28,  3.77s/it]"
     ]
    },
    {
     "name": "stdout",
     "output_type": "stream",
     "text": [
      "SEARCHING Iloc :  1693\n",
      "0\n",
      "Find Content!\n"
     ]
    },
    {
     "name": "stderr",
     "output_type": "stream",
     "text": [
      "\r",
      "1694it [41:32,  3.78s/it]"
     ]
    },
    {
     "name": "stdout",
     "output_type": "stream",
     "text": [
      "SEARCHING Iloc :  1694\n",
      "0\n"
     ]
    },
    {
     "name": "stderr",
     "output_type": "stream",
     "text": [
      "\r",
      "1695it [41:36,  3.76s/it]"
     ]
    },
    {
     "name": "stdout",
     "output_type": "stream",
     "text": [
      "Find Content!\n",
      "SEARCHING Iloc :  1695\n",
      "0\n"
     ]
    },
    {
     "name": "stderr",
     "output_type": "stream",
     "text": [
      "\r",
      "1696it [41:39,  3.60s/it]"
     ]
    },
    {
     "name": "stdout",
     "output_type": "stream",
     "text": [
      "Find Content!\n",
      "SEARCHING Iloc :  1696\n",
      "0\n"
     ]
    },
    {
     "name": "stderr",
     "output_type": "stream",
     "text": [
      "\r",
      "1697it [41:42,  3.57s/it]"
     ]
    },
    {
     "name": "stdout",
     "output_type": "stream",
     "text": [
      "Find Content!\n",
      "SEARCHING Iloc :  1697\n",
      "0\n",
      "Find Content!\n"
     ]
    },
    {
     "name": "stderr",
     "output_type": "stream",
     "text": [
      "\r",
      "1698it [41:46,  3.53s/it]"
     ]
    },
    {
     "name": "stdout",
     "output_type": "stream",
     "text": [
      "SEARCHING Iloc :  1698\n",
      "0\n"
     ]
    },
    {
     "name": "stderr",
     "output_type": "stream",
     "text": [
      "\r",
      "1699it [41:50,  3.64s/it]"
     ]
    },
    {
     "name": "stdout",
     "output_type": "stream",
     "text": [
      "Find Content!\n",
      "SEARCHING Iloc :  1699\n",
      "0\n"
     ]
    },
    {
     "name": "stderr",
     "output_type": "stream",
     "text": [
      "\r",
      "1700it [41:53,  3.50s/it]"
     ]
    },
    {
     "name": "stdout",
     "output_type": "stream",
     "text": [
      "Find Content!\n",
      "SEARCHING Iloc :  1700\n",
      "0\n"
     ]
    },
    {
     "name": "stderr",
     "output_type": "stream",
     "text": [
      "\r",
      "1701it [41:57,  3.56s/it]"
     ]
    },
    {
     "name": "stdout",
     "output_type": "stream",
     "text": [
      "Find Content!\n",
      "SEARCHING Iloc :  1701\n",
      "0\n",
      "Find Content!\n"
     ]
    },
    {
     "name": "stderr",
     "output_type": "stream",
     "text": [
      "\r",
      "1702it [42:00,  3.51s/it]"
     ]
    },
    {
     "name": "stdout",
     "output_type": "stream",
     "text": [
      "SEARCHING Iloc :  1702\n",
      "0\n"
     ]
    },
    {
     "name": "stderr",
     "output_type": "stream",
     "text": [
      "\r",
      "1703it [42:04,  3.53s/it]"
     ]
    },
    {
     "name": "stdout",
     "output_type": "stream",
     "text": [
      "Find Content!\n",
      "SEARCHING Iloc :  1703\n",
      "0\n"
     ]
    },
    {
     "name": "stderr",
     "output_type": "stream",
     "text": [
      "\r",
      "1704it [42:07,  3.45s/it]"
     ]
    },
    {
     "name": "stdout",
     "output_type": "stream",
     "text": [
      "Find Content!\n",
      "SEARCHING Iloc :  1704\n",
      "0\n"
     ]
    },
    {
     "name": "stderr",
     "output_type": "stream",
     "text": [
      "\r",
      "1705it [42:10,  3.39s/it]"
     ]
    },
    {
     "name": "stdout",
     "output_type": "stream",
     "text": [
      "Find Content!\n",
      "SEARCHING Iloc :  1705\n",
      "0\n",
      "Find Content!\n"
     ]
    },
    {
     "name": "stderr",
     "output_type": "stream",
     "text": [
      "\r",
      "1706it [42:14,  3.51s/it]"
     ]
    },
    {
     "name": "stdout",
     "output_type": "stream",
     "text": [
      "SEARCHING Iloc :  1706\n",
      "0\n"
     ]
    },
    {
     "name": "stderr",
     "output_type": "stream",
     "text": [
      "\r",
      "1707it [42:17,  3.43s/it]"
     ]
    },
    {
     "name": "stdout",
     "output_type": "stream",
     "text": [
      "Find Content!\n",
      "SEARCHING Iloc :  1707\n",
      "0\n"
     ]
    },
    {
     "name": "stderr",
     "output_type": "stream",
     "text": [
      "\r",
      "1708it [42:21,  3.47s/it]"
     ]
    },
    {
     "name": "stdout",
     "output_type": "stream",
     "text": [
      "Find Content!\n",
      "SEARCHING Iloc :  1708\n",
      "0\n"
     ]
    },
    {
     "name": "stderr",
     "output_type": "stream",
     "text": [
      "\r",
      "1709it [42:24,  3.54s/it]"
     ]
    },
    {
     "name": "stdout",
     "output_type": "stream",
     "text": [
      "Find Content!\n",
      "SEARCHING Iloc :  1709\n",
      "0\n",
      "Find Content!\n"
     ]
    },
    {
     "name": "stderr",
     "output_type": "stream",
     "text": [
      "\r",
      "1710it [42:28,  3.60s/it]"
     ]
    },
    {
     "name": "stdout",
     "output_type": "stream",
     "text": [
      "SEARCHING Iloc :  1710\n",
      "0\n"
     ]
    },
    {
     "name": "stderr",
     "output_type": "stream",
     "text": [
      "\r",
      "1711it [42:32,  3.69s/it]"
     ]
    },
    {
     "name": "stdout",
     "output_type": "stream",
     "text": [
      "Find Content!\n",
      "SEARCHING Iloc :  1711\n",
      "0\n"
     ]
    },
    {
     "name": "stderr",
     "output_type": "stream",
     "text": [
      "\r",
      "1712it [42:36,  3.73s/it]"
     ]
    },
    {
     "name": "stdout",
     "output_type": "stream",
     "text": [
      "Find Content!\n",
      "SEARCHING Iloc :  1712\n",
      "0\n"
     ]
    },
    {
     "name": "stderr",
     "output_type": "stream",
     "text": [
      "\r",
      "1713it [42:40,  3.87s/it]"
     ]
    },
    {
     "name": "stdout",
     "output_type": "stream",
     "text": [
      "Find Content!\n",
      "SEARCHING Iloc :  1713\n",
      "0\n",
      "Find Content!\n"
     ]
    },
    {
     "name": "stderr",
     "output_type": "stream",
     "text": [
      "\r",
      "1714it [42:43,  3.74s/it]"
     ]
    },
    {
     "name": "stdout",
     "output_type": "stream",
     "text": [
      "SEARCHING Iloc :  1714\n",
      "0\n"
     ]
    },
    {
     "name": "stderr",
     "output_type": "stream",
     "text": [
      "\r",
      "1715it [42:47,  3.70s/it]"
     ]
    },
    {
     "name": "stdout",
     "output_type": "stream",
     "text": [
      "Find Content!\n",
      "SEARCHING Iloc :  1715\n",
      "0\n"
     ]
    },
    {
     "name": "stderr",
     "output_type": "stream",
     "text": [
      "\r",
      "1716it [42:50,  3.55s/it]"
     ]
    },
    {
     "name": "stdout",
     "output_type": "stream",
     "text": [
      "Find Content!\n",
      "SEARCHING Iloc :  1716\n",
      "0\n"
     ]
    },
    {
     "name": "stderr",
     "output_type": "stream",
     "text": [
      "\r",
      "1717it [42:53,  3.43s/it]"
     ]
    },
    {
     "name": "stdout",
     "output_type": "stream",
     "text": [
      "Find Content!\n",
      "SEARCHING Iloc :  1717\n",
      "0\n",
      "Find Content!\n"
     ]
    },
    {
     "name": "stderr",
     "output_type": "stream",
     "text": [
      "\r",
      "1718it [42:57,  3.57s/it]"
     ]
    },
    {
     "name": "stdout",
     "output_type": "stream",
     "text": [
      "SEARCHING Iloc :  1718\n",
      "0\n"
     ]
    },
    {
     "name": "stderr",
     "output_type": "stream",
     "text": [
      "\r",
      "1719it [43:01,  3.63s/it]"
     ]
    },
    {
     "name": "stdout",
     "output_type": "stream",
     "text": [
      "Find Content!\n",
      "SEARCHING Iloc :  1719\n",
      "0\n"
     ]
    },
    {
     "name": "stderr",
     "output_type": "stream",
     "text": [
      "\r",
      "1720it [43:04,  3.46s/it]"
     ]
    },
    {
     "name": "stdout",
     "output_type": "stream",
     "text": [
      "Find Content!\n",
      "SEARCHING Iloc :  1720\n",
      "0\n",
      "Find Content!\n"
     ]
    },
    {
     "name": "stderr",
     "output_type": "stream",
     "text": [
      "\r",
      "1721it [43:08,  3.45s/it]"
     ]
    },
    {
     "name": "stdout",
     "output_type": "stream",
     "text": [
      "SEARCHING Iloc :  1721\n",
      "0\n"
     ]
    },
    {
     "name": "stderr",
     "output_type": "stream",
     "text": [
      "\r",
      "1722it [43:11,  3.54s/it]"
     ]
    },
    {
     "name": "stdout",
     "output_type": "stream",
     "text": [
      "Find Content!\n",
      "SEARCHING Iloc :  1722\n",
      "0\n"
     ]
    },
    {
     "name": "stderr",
     "output_type": "stream",
     "text": [
      "\r",
      "1723it [43:15,  3.45s/it]"
     ]
    },
    {
     "name": "stdout",
     "output_type": "stream",
     "text": [
      "Find Content!\n",
      "SEARCHING Iloc :  1723\n",
      "0\n"
     ]
    },
    {
     "name": "stderr",
     "output_type": "stream",
     "text": [
      "\r",
      "1724it [43:18,  3.43s/it]"
     ]
    },
    {
     "name": "stdout",
     "output_type": "stream",
     "text": [
      "Find Content!\n",
      "SEARCHING Iloc :  1724\n",
      "0\n",
      "Find Content!\n"
     ]
    },
    {
     "name": "stderr",
     "output_type": "stream",
     "text": [
      "\r",
      "1725it [43:22,  3.68s/it]"
     ]
    },
    {
     "name": "stdout",
     "output_type": "stream",
     "text": [
      "SEARCHING Iloc :  1725\n",
      "0\n"
     ]
    },
    {
     "name": "stderr",
     "output_type": "stream",
     "text": [
      "\r",
      "1726it [43:25,  3.55s/it]"
     ]
    },
    {
     "name": "stdout",
     "output_type": "stream",
     "text": [
      "Find Content!\n",
      "SEARCHING Iloc :  1726\n",
      "0\n"
     ]
    },
    {
     "name": "stderr",
     "output_type": "stream",
     "text": [
      "\r",
      "1727it [43:29,  3.62s/it]"
     ]
    },
    {
     "name": "stdout",
     "output_type": "stream",
     "text": [
      "Find Content!\n",
      "SEARCHING Iloc :  1727\n",
      "0\n"
     ]
    },
    {
     "name": "stderr",
     "output_type": "stream",
     "text": [
      "\r",
      "1728it [43:33,  3.64s/it]"
     ]
    },
    {
     "name": "stdout",
     "output_type": "stream",
     "text": [
      "Find Content!\n",
      "SEARCHING Iloc :  1728\n",
      "0\n",
      "Find Content!\n"
     ]
    },
    {
     "name": "stderr",
     "output_type": "stream",
     "text": [
      "\r",
      "1729it [43:36,  3.56s/it]"
     ]
    },
    {
     "name": "stdout",
     "output_type": "stream",
     "text": [
      "SEARCHING Iloc :  1729\n",
      "0\n"
     ]
    },
    {
     "name": "stderr",
     "output_type": "stream",
     "text": [
      "\r",
      "1730it [43:39,  3.43s/it]"
     ]
    },
    {
     "name": "stdout",
     "output_type": "stream",
     "text": [
      "Find Content!\n",
      "SEARCHING Iloc :  1730\n",
      "0\n"
     ]
    },
    {
     "name": "stderr",
     "output_type": "stream",
     "text": [
      "\r",
      "1731it [43:43,  3.47s/it]"
     ]
    },
    {
     "name": "stdout",
     "output_type": "stream",
     "text": [
      "Find Content!\n",
      "SEARCHING Iloc :  1731\n",
      "0\n"
     ]
    },
    {
     "name": "stderr",
     "output_type": "stream",
     "text": [
      "\r",
      "1732it [43:46,  3.41s/it]"
     ]
    },
    {
     "name": "stdout",
     "output_type": "stream",
     "text": [
      "Find Content!\n",
      "SEARCHING Iloc :  1732\n",
      "0\n",
      "Find Content!\n"
     ]
    },
    {
     "name": "stderr",
     "output_type": "stream",
     "text": [
      "\r",
      "1733it [43:51,  3.74s/it]"
     ]
    },
    {
     "name": "stdout",
     "output_type": "stream",
     "text": [
      "SEARCHING Iloc :  1733\n",
      "0\n"
     ]
    },
    {
     "name": "stderr",
     "output_type": "stream",
     "text": [
      "\r",
      "1734it [43:54,  3.70s/it]"
     ]
    },
    {
     "name": "stdout",
     "output_type": "stream",
     "text": [
      "Find Content!\n",
      "SEARCHING Iloc :  1734\n",
      "0\n"
     ]
    },
    {
     "name": "stderr",
     "output_type": "stream",
     "text": [
      "\r",
      "1735it [43:58,  3.81s/it]"
     ]
    },
    {
     "name": "stdout",
     "output_type": "stream",
     "text": [
      "Find Content!\n",
      "SEARCHING Iloc :  1735\n",
      "0\n"
     ]
    },
    {
     "name": "stderr",
     "output_type": "stream",
     "text": [
      "\r",
      "1736it [44:02,  3.61s/it]"
     ]
    },
    {
     "name": "stdout",
     "output_type": "stream",
     "text": [
      "Find Content!\n",
      "SEARCHING Iloc :  1736\n",
      "0\n",
      "Find Content!\n"
     ]
    },
    {
     "name": "stderr",
     "output_type": "stream",
     "text": [
      "\r",
      "1737it [44:05,  3.61s/it]"
     ]
    },
    {
     "name": "stdout",
     "output_type": "stream",
     "text": [
      "SEARCHING Iloc :  1737\n",
      "0\n"
     ]
    },
    {
     "name": "stderr",
     "output_type": "stream",
     "text": [
      "\r",
      "1738it [44:10,  3.84s/it]"
     ]
    },
    {
     "name": "stdout",
     "output_type": "stream",
     "text": [
      "Find Content!\n",
      "SEARCHING Iloc :  1738\n",
      "0\n"
     ]
    },
    {
     "name": "stderr",
     "output_type": "stream",
     "text": [
      "\r",
      "1739it [44:13,  3.65s/it]"
     ]
    },
    {
     "name": "stdout",
     "output_type": "stream",
     "text": [
      "Find Content!\n",
      "SEARCHING Iloc :  1739\n",
      "0\n"
     ]
    },
    {
     "name": "stderr",
     "output_type": "stream",
     "text": [
      "\r",
      "1740it [44:16,  3.65s/it]"
     ]
    },
    {
     "name": "stdout",
     "output_type": "stream",
     "text": [
      "Find Content!\n",
      "SEARCHING Iloc :  1740\n",
      "0\n",
      "Find Content!\n"
     ]
    },
    {
     "name": "stderr",
     "output_type": "stream",
     "text": [
      "\r",
      "1741it [44:20,  3.62s/it]"
     ]
    },
    {
     "name": "stdout",
     "output_type": "stream",
     "text": [
      "SEARCHING Iloc :  1741\n",
      "0\n"
     ]
    },
    {
     "name": "stderr",
     "output_type": "stream",
     "text": [
      "\r",
      "1742it [44:23,  3.49s/it]"
     ]
    },
    {
     "name": "stdout",
     "output_type": "stream",
     "text": [
      "Find Content!\n",
      "SEARCHING Iloc :  1742\n",
      "0\n"
     ]
    },
    {
     "name": "stderr",
     "output_type": "stream",
     "text": [
      "\r",
      "1743it [44:27,  3.55s/it]"
     ]
    },
    {
     "name": "stdout",
     "output_type": "stream",
     "text": [
      "Find Content!\n",
      "SEARCHING Iloc :  1743\n",
      "0\n",
      "Find Content!\n"
     ]
    },
    {
     "name": "stderr",
     "output_type": "stream",
     "text": [
      "\r",
      "1744it [44:30,  3.50s/it]"
     ]
    },
    {
     "name": "stdout",
     "output_type": "stream",
     "text": [
      "SEARCHING Iloc :  1744\n",
      "0\n"
     ]
    },
    {
     "name": "stderr",
     "output_type": "stream",
     "text": [
      "\r",
      "1745it [44:34,  3.62s/it]"
     ]
    },
    {
     "name": "stdout",
     "output_type": "stream",
     "text": [
      "Find Content!\n",
      "SEARCHING Iloc :  1745\n",
      "0\n"
     ]
    },
    {
     "name": "stderr",
     "output_type": "stream",
     "text": [
      "\r",
      "1746it [44:37,  3.54s/it]"
     ]
    },
    {
     "name": "stdout",
     "output_type": "stream",
     "text": [
      "Find Content!\n",
      "SEARCHING Iloc :  1746\n",
      "0\n"
     ]
    },
    {
     "name": "stderr",
     "output_type": "stream",
     "text": [
      "\r",
      "1747it [44:41,  3.58s/it]"
     ]
    },
    {
     "name": "stdout",
     "output_type": "stream",
     "text": [
      "Find Content!\n",
      "SEARCHING Iloc :  1747\n",
      "0\n",
      "Find Content!\n"
     ]
    },
    {
     "name": "stderr",
     "output_type": "stream",
     "text": [
      "\r",
      "1748it [44:45,  3.53s/it]"
     ]
    },
    {
     "name": "stdout",
     "output_type": "stream",
     "text": [
      "SEARCHING Iloc :  1748\n",
      "0\n"
     ]
    },
    {
     "name": "stderr",
     "output_type": "stream",
     "text": [
      "\r",
      "1749it [44:48,  3.41s/it]"
     ]
    },
    {
     "name": "stdout",
     "output_type": "stream",
     "text": [
      "Find Content!\n",
      "SEARCHING Iloc :  1749\n",
      "0\n"
     ]
    },
    {
     "name": "stderr",
     "output_type": "stream",
     "text": [
      "\r",
      "1750it [44:51,  3.52s/it]"
     ]
    },
    {
     "name": "stdout",
     "output_type": "stream",
     "text": [
      "Find Content!\n",
      "SEARCHING Iloc :  1750\n",
      "0\n",
      "Find Content!\n"
     ]
    },
    {
     "name": "stderr",
     "output_type": "stream",
     "text": [
      "\r",
      "1751it [44:55,  3.58s/it]"
     ]
    },
    {
     "name": "stdout",
     "output_type": "stream",
     "text": [
      "SEARCHING Iloc :  1751\n",
      "0\n",
      "Find Content!\n"
     ]
    },
    {
     "name": "stderr",
     "output_type": "stream",
     "text": [
      "\r",
      "1752it [44:59,  3.69s/it]"
     ]
    },
    {
     "name": "stdout",
     "output_type": "stream",
     "text": [
      "SEARCHING Iloc :  1752\n",
      "0\n"
     ]
    },
    {
     "name": "stderr",
     "output_type": "stream",
     "text": [
      "\r",
      "1753it [45:03,  3.66s/it]"
     ]
    },
    {
     "name": "stdout",
     "output_type": "stream",
     "text": [
      "Find Content!\n",
      "SEARCHING Iloc :  1753\n",
      "0\n"
     ]
    },
    {
     "name": "stderr",
     "output_type": "stream",
     "text": [
      "\r",
      "1754it [45:06,  3.51s/it]"
     ]
    },
    {
     "name": "stdout",
     "output_type": "stream",
     "text": [
      "Find Content!\n",
      "SEARCHING Iloc :  1754\n",
      "0\n"
     ]
    },
    {
     "name": "stderr",
     "output_type": "stream",
     "text": [
      "\r",
      "1755it [45:10,  3.55s/it]"
     ]
    },
    {
     "name": "stdout",
     "output_type": "stream",
     "text": [
      "Find Content!\n",
      "SEARCHING Iloc :  1755\n",
      "0\n",
      "Find Content!\n"
     ]
    },
    {
     "name": "stderr",
     "output_type": "stream",
     "text": [
      "\r",
      "1756it [45:13,  3.52s/it]"
     ]
    },
    {
     "name": "stdout",
     "output_type": "stream",
     "text": [
      "SEARCHING Iloc :  1756\n",
      "0\n"
     ]
    },
    {
     "name": "stderr",
     "output_type": "stream",
     "text": [
      "\r",
      "1757it [45:17,  3.53s/it]"
     ]
    },
    {
     "name": "stdout",
     "output_type": "stream",
     "text": [
      "Find Content!\n",
      "SEARCHING Iloc :  1757\n",
      "0\n",
      "Find Content!\n"
     ]
    },
    {
     "name": "stderr",
     "output_type": "stream",
     "text": [
      "\r",
      "1758it [45:20,  3.52s/it]"
     ]
    },
    {
     "name": "stdout",
     "output_type": "stream",
     "text": [
      "SEARCHING Iloc :  1758\n",
      "0\n",
      "Find Content!\n"
     ]
    },
    {
     "name": "stderr",
     "output_type": "stream",
     "text": [
      "\r",
      "1759it [45:23,  3.44s/it]"
     ]
    },
    {
     "name": "stdout",
     "output_type": "stream",
     "text": [
      "SEARCHING Iloc :  1759\n",
      "0\n",
      "Find Content!\n"
     ]
    },
    {
     "name": "stderr",
     "output_type": "stream",
     "text": [
      "\r",
      "1760it [45:27,  3.60s/it]"
     ]
    },
    {
     "name": "stdout",
     "output_type": "stream",
     "text": [
      "SEARCHING Iloc :  1760\n",
      "0\n",
      "Find Content!\n"
     ]
    },
    {
     "name": "stderr",
     "output_type": "stream",
     "text": [
      "\r",
      "1761it [45:30,  3.46s/it]"
     ]
    },
    {
     "name": "stdout",
     "output_type": "stream",
     "text": [
      "SEARCHING Iloc :  1761\n",
      "0\n",
      "Find Content!\n"
     ]
    },
    {
     "name": "stderr",
     "output_type": "stream",
     "text": [
      "\r",
      "1762it [45:35,  3.78s/it]"
     ]
    },
    {
     "name": "stdout",
     "output_type": "stream",
     "text": [
      "SEARCHING Iloc :  1762\n",
      "0\n"
     ]
    },
    {
     "name": "stderr",
     "output_type": "stream",
     "text": [
      "\r",
      "1763it [45:38,  3.60s/it]"
     ]
    },
    {
     "name": "stdout",
     "output_type": "stream",
     "text": [
      "Find Content!\n",
      "SEARCHING Iloc :  1763\n",
      "0\n",
      "Find Content!\n"
     ]
    },
    {
     "name": "stderr",
     "output_type": "stream",
     "text": [
      "\r",
      "1764it [45:42,  3.66s/it]"
     ]
    },
    {
     "name": "stdout",
     "output_type": "stream",
     "text": [
      "SEARCHING Iloc :  1764\n",
      "0\n"
     ]
    },
    {
     "name": "stderr",
     "output_type": "stream",
     "text": [
      "\r",
      "1765it [45:45,  3.55s/it]"
     ]
    },
    {
     "name": "stdout",
     "output_type": "stream",
     "text": [
      "Find Content!\n",
      "SEARCHING Iloc :  1765\n",
      "0\n"
     ]
    },
    {
     "name": "stderr",
     "output_type": "stream",
     "text": [
      "\r",
      "1766it [45:48,  3.46s/it]"
     ]
    },
    {
     "name": "stdout",
     "output_type": "stream",
     "text": [
      "Find Content!\n",
      "SEARCHING Iloc :  1766\n",
      "0\n"
     ]
    },
    {
     "name": "stderr",
     "output_type": "stream",
     "text": [
      "\r",
      "1767it [45:53,  3.68s/it]"
     ]
    },
    {
     "name": "stdout",
     "output_type": "stream",
     "text": [
      "Find Content!\n",
      "SEARCHING Iloc :  1767\n",
      "0\n",
      "Find Content!\n"
     ]
    },
    {
     "name": "stderr",
     "output_type": "stream",
     "text": [
      "\r",
      "1768it [45:57,  3.81s/it]"
     ]
    },
    {
     "name": "stdout",
     "output_type": "stream",
     "text": [
      "SEARCHING Iloc :  1768\n",
      "0\n",
      "Find Content!\n"
     ]
    },
    {
     "name": "stderr",
     "output_type": "stream",
     "text": [
      "\r",
      "1769it [46:01,  3.89s/it]"
     ]
    },
    {
     "name": "stdout",
     "output_type": "stream",
     "text": [
      "SEARCHING Iloc :  1769\n",
      "0\n"
     ]
    },
    {
     "name": "stderr",
     "output_type": "stream",
     "text": [
      "\r",
      "1770it [46:04,  3.82s/it]"
     ]
    },
    {
     "name": "stdout",
     "output_type": "stream",
     "text": [
      "Find Content!\n",
      "SEARCHING Iloc :  1770\n",
      "0\n",
      "Find Content!\n"
     ]
    },
    {
     "name": "stderr",
     "output_type": "stream",
     "text": [
      "\r",
      "1771it [46:08,  3.79s/it]"
     ]
    },
    {
     "name": "stdout",
     "output_type": "stream",
     "text": [
      "SEARCHING Iloc :  1771\n",
      "0\n"
     ]
    },
    {
     "name": "stderr",
     "output_type": "stream",
     "text": [
      "\r",
      "1772it [46:12,  3.74s/it]"
     ]
    },
    {
     "name": "stdout",
     "output_type": "stream",
     "text": [
      "Find Content!\n",
      "SEARCHING Iloc :  1772\n",
      "0\n"
     ]
    },
    {
     "name": "stderr",
     "output_type": "stream",
     "text": [
      "\r",
      "1773it [46:16,  3.74s/it]"
     ]
    },
    {
     "name": "stdout",
     "output_type": "stream",
     "text": [
      "Find Content!\n",
      "SEARCHING Iloc :  1773\n",
      "0\n",
      "Find Content!\n"
     ]
    },
    {
     "name": "stderr",
     "output_type": "stream",
     "text": [
      "\r",
      "1774it [46:19,  3.61s/it]"
     ]
    },
    {
     "name": "stdout",
     "output_type": "stream",
     "text": [
      "SEARCHING Iloc :  1774\n",
      "0\n",
      "Find Content!\n"
     ]
    },
    {
     "name": "stderr",
     "output_type": "stream",
     "text": [
      "\r",
      "1775it [46:22,  3.55s/it]"
     ]
    },
    {
     "name": "stdout",
     "output_type": "stream",
     "text": [
      "SEARCHING Iloc :  1775\n",
      "0\n",
      "Find Content!\n"
     ]
    },
    {
     "name": "stderr",
     "output_type": "stream",
     "text": [
      "\r",
      "1776it [46:26,  3.60s/it]"
     ]
    },
    {
     "name": "stdout",
     "output_type": "stream",
     "text": [
      "SEARCHING Iloc :  1776\n",
      "0\n"
     ]
    },
    {
     "name": "stderr",
     "output_type": "stream",
     "text": [
      "\r",
      "1777it [46:34,  5.03s/it]"
     ]
    },
    {
     "name": "stdout",
     "output_type": "stream",
     "text": [
      "Find Content!\n",
      "SEARCHING Iloc :  1777\n",
      "0\n"
     ]
    },
    {
     "name": "stderr",
     "output_type": "stream",
     "text": [
      "\r",
      "1778it [46:38,  4.60s/it]"
     ]
    },
    {
     "name": "stdout",
     "output_type": "stream",
     "text": [
      "Find Content!\n",
      "SEARCHING Iloc :  1778\n",
      "0\n",
      "Find Content!\n"
     ]
    },
    {
     "name": "stderr",
     "output_type": "stream",
     "text": [
      "\r",
      "1779it [46:42,  4.40s/it]"
     ]
    },
    {
     "name": "stdout",
     "output_type": "stream",
     "text": [
      "SEARCHING Iloc :  1779\n",
      "0\n"
     ]
    },
    {
     "name": "stderr",
     "output_type": "stream",
     "text": [
      "\r",
      "1780it [46:46,  4.19s/it]"
     ]
    },
    {
     "name": "stdout",
     "output_type": "stream",
     "text": [
      "Find Content!\n",
      "SEARCHING Iloc :  1780\n",
      "0\n"
     ]
    },
    {
     "name": "stderr",
     "output_type": "stream",
     "text": [
      "\r",
      "1781it [46:50,  4.12s/it]"
     ]
    },
    {
     "name": "stdout",
     "output_type": "stream",
     "text": [
      "Find Content!\n",
      "SEARCHING Iloc :  1781\n",
      "0\n",
      "Find Content!\n"
     ]
    },
    {
     "name": "stderr",
     "output_type": "stream",
     "text": [
      "\r",
      "1782it [46:53,  3.94s/it]"
     ]
    },
    {
     "name": "stdout",
     "output_type": "stream",
     "text": [
      "SEARCHING Iloc :  1782\n",
      "0\n",
      "Find Content!\n"
     ]
    },
    {
     "name": "stderr",
     "output_type": "stream",
     "text": [
      "\r",
      "1783it [46:57,  3.89s/it]"
     ]
    },
    {
     "name": "stdout",
     "output_type": "stream",
     "text": [
      "SEARCHING Iloc :  1783\n",
      "0\n"
     ]
    },
    {
     "name": "stderr",
     "output_type": "stream",
     "text": [
      "\r",
      "1784it [47:00,  3.69s/it]"
     ]
    },
    {
     "name": "stdout",
     "output_type": "stream",
     "text": [
      "Find Content!\n",
      "SEARCHING Iloc :  1784\n",
      "0\n"
     ]
    },
    {
     "name": "stderr",
     "output_type": "stream",
     "text": [
      "\r",
      "1785it [47:03,  3.57s/it]"
     ]
    },
    {
     "name": "stdout",
     "output_type": "stream",
     "text": [
      "Find Content!\n",
      "SEARCHING Iloc :  1785\n",
      "0\n"
     ]
    },
    {
     "name": "stderr",
     "output_type": "stream",
     "text": [
      "\r",
      "1786it [47:07,  3.48s/it]"
     ]
    },
    {
     "name": "stdout",
     "output_type": "stream",
     "text": [
      "Find Content!\n",
      "SEARCHING Iloc :  1786\n",
      "0\n",
      "Find Content!\n"
     ]
    },
    {
     "name": "stderr",
     "output_type": "stream",
     "text": [
      "\r",
      "1787it [47:11,  3.67s/it]"
     ]
    },
    {
     "name": "stdout",
     "output_type": "stream",
     "text": [
      "SEARCHING Iloc :  1787\n",
      "0\n"
     ]
    },
    {
     "name": "stderr",
     "output_type": "stream",
     "text": [
      "\r",
      "1788it [47:14,  3.54s/it]"
     ]
    },
    {
     "name": "stdout",
     "output_type": "stream",
     "text": [
      "Find Content!\n",
      "SEARCHING Iloc :  1788\n",
      "0\n"
     ]
    },
    {
     "name": "stderr",
     "output_type": "stream",
     "text": [
      "\r",
      "1789it [47:17,  3.48s/it]"
     ]
    },
    {
     "name": "stdout",
     "output_type": "stream",
     "text": [
      "Find Content!\n",
      "SEARCHING Iloc :  1789\n",
      "0\n",
      "Find Content!\n"
     ]
    },
    {
     "name": "stderr",
     "output_type": "stream",
     "text": [
      "\r",
      "1790it [47:21,  3.65s/it]"
     ]
    },
    {
     "name": "stdout",
     "output_type": "stream",
     "text": [
      "SEARCHING Iloc :  1790\n",
      "0\n"
     ]
    },
    {
     "name": "stderr",
     "output_type": "stream",
     "text": [
      "\r",
      "1791it [47:25,  3.55s/it]"
     ]
    },
    {
     "name": "stdout",
     "output_type": "stream",
     "text": [
      "Find Content!\n",
      "SEARCHING Iloc :  1791\n",
      "0\n"
     ]
    },
    {
     "name": "stderr",
     "output_type": "stream",
     "text": [
      "\r",
      "1792it [47:28,  3.45s/it]"
     ]
    },
    {
     "name": "stdout",
     "output_type": "stream",
     "text": [
      "Find Content!\n",
      "SEARCHING Iloc :  1792\n",
      "0\n"
     ]
    },
    {
     "name": "stderr",
     "output_type": "stream",
     "text": [
      "\r",
      "1793it [47:31,  3.41s/it]"
     ]
    },
    {
     "name": "stdout",
     "output_type": "stream",
     "text": [
      "Find Content!\n",
      "SEARCHING Iloc :  1793\n",
      "0\n",
      "Find Content!\n"
     ]
    },
    {
     "name": "stderr",
     "output_type": "stream",
     "text": [
      "\r",
      "1794it [47:35,  3.41s/it]"
     ]
    },
    {
     "name": "stdout",
     "output_type": "stream",
     "text": [
      "SEARCHING Iloc :  1794\n",
      "0\n"
     ]
    },
    {
     "name": "stderr",
     "output_type": "stream",
     "text": [
      "\r",
      "1795it [47:38,  3.36s/it]"
     ]
    },
    {
     "name": "stdout",
     "output_type": "stream",
     "text": [
      "Find Content!\n",
      "SEARCHING Iloc :  1795\n",
      "0\n"
     ]
    },
    {
     "name": "stderr",
     "output_type": "stream",
     "text": [
      "\r",
      "1796it [47:41,  3.29s/it]"
     ]
    },
    {
     "name": "stdout",
     "output_type": "stream",
     "text": [
      "Find Content!\n",
      "SEARCHING Iloc :  1796\n",
      "0\n",
      "Find Content!\n"
     ]
    },
    {
     "name": "stderr",
     "output_type": "stream",
     "text": [
      "\r",
      "1797it [47:45,  3.46s/it]"
     ]
    },
    {
     "name": "stdout",
     "output_type": "stream",
     "text": [
      "SEARCHING Iloc :  1797\n",
      "0\n",
      "Find Content!\n"
     ]
    },
    {
     "name": "stderr",
     "output_type": "stream",
     "text": [
      "\r",
      "1798it [47:50,  3.84s/it]"
     ]
    },
    {
     "name": "stdout",
     "output_type": "stream",
     "text": [
      "SEARCHING Iloc :  1798\n",
      "0\n",
      "Find Content!\n"
     ]
    },
    {
     "name": "stderr",
     "output_type": "stream",
     "text": [
      "\r",
      "1799it [47:53,  3.74s/it]"
     ]
    },
    {
     "name": "stdout",
     "output_type": "stream",
     "text": [
      "SEARCHING Iloc :  1799\n",
      "0\n"
     ]
    },
    {
     "name": "stderr",
     "output_type": "stream",
     "text": [
      "\r",
      "1800it [47:57,  3.70s/it]"
     ]
    },
    {
     "name": "stdout",
     "output_type": "stream",
     "text": [
      "Find Content!\n",
      "SEARCHING Iloc :  1800\n",
      "0\n"
     ]
    },
    {
     "name": "stderr",
     "output_type": "stream",
     "text": [
      "\r",
      "1801it [48:00,  3.56s/it]"
     ]
    },
    {
     "name": "stdout",
     "output_type": "stream",
     "text": [
      "Find Content!\n",
      "SEARCHING Iloc :  1801\n",
      "0\n",
      "Find Content!\n"
     ]
    },
    {
     "name": "stderr",
     "output_type": "stream",
     "text": [
      "\r",
      "1802it [48:04,  3.74s/it]"
     ]
    },
    {
     "name": "stdout",
     "output_type": "stream",
     "text": [
      "SEARCHING Iloc :  1802\n",
      "0\n"
     ]
    },
    {
     "name": "stderr",
     "output_type": "stream",
     "text": [
      "\r",
      "1803it [48:08,  3.66s/it]"
     ]
    },
    {
     "name": "stdout",
     "output_type": "stream",
     "text": [
      "Find Content!\n",
      "SEARCHING Iloc :  1803\n",
      "0\n"
     ]
    },
    {
     "name": "stderr",
     "output_type": "stream",
     "text": [
      "\r",
      "1804it [48:11,  3.51s/it]"
     ]
    },
    {
     "name": "stdout",
     "output_type": "stream",
     "text": [
      "Find Content!\n",
      "SEARCHING Iloc :  1804\n",
      "0\n"
     ]
    },
    {
     "name": "stderr",
     "output_type": "stream",
     "text": [
      "\r",
      "1805it [48:14,  3.52s/it]"
     ]
    },
    {
     "name": "stdout",
     "output_type": "stream",
     "text": [
      "Find Content!\n",
      "SEARCHING Iloc :  1805\n",
      "0\n",
      "Find Content!\n"
     ]
    },
    {
     "name": "stderr",
     "output_type": "stream",
     "text": [
      "\r",
      "1806it [48:18,  3.68s/it]"
     ]
    },
    {
     "name": "stdout",
     "output_type": "stream",
     "text": [
      "SEARCHING Iloc :  1806\n",
      "0\n"
     ]
    },
    {
     "name": "stderr",
     "output_type": "stream",
     "text": [
      "\r",
      "1807it [48:22,  3.73s/it]"
     ]
    },
    {
     "name": "stdout",
     "output_type": "stream",
     "text": [
      "Find Content!\n",
      "SEARCHING Iloc :  1807\n",
      "0\n"
     ]
    },
    {
     "name": "stderr",
     "output_type": "stream",
     "text": [
      "\r",
      "1808it [48:26,  3.75s/it]"
     ]
    },
    {
     "name": "stdout",
     "output_type": "stream",
     "text": [
      "Find Content!\n",
      "SEARCHING Iloc :  1808\n",
      "0\n"
     ]
    },
    {
     "name": "stderr",
     "output_type": "stream",
     "text": [
      "\r",
      "1809it [48:29,  3.57s/it]"
     ]
    },
    {
     "name": "stdout",
     "output_type": "stream",
     "text": [
      "Find Content!\n",
      "SEARCHING Iloc :  1809\n",
      "0\n",
      "Find Content!\n"
     ]
    },
    {
     "name": "stderr",
     "output_type": "stream",
     "text": [
      "\r",
      "1810it [48:32,  3.50s/it]"
     ]
    },
    {
     "name": "stdout",
     "output_type": "stream",
     "text": [
      "SEARCHING Iloc :  1810\n",
      "0\n"
     ]
    },
    {
     "name": "stderr",
     "output_type": "stream",
     "text": [
      "\r",
      "1811it [48:36,  3.43s/it]"
     ]
    },
    {
     "name": "stdout",
     "output_type": "stream",
     "text": [
      "Find Content!\n",
      "SEARCHING Iloc :  1811\n",
      "0\n"
     ]
    },
    {
     "name": "stderr",
     "output_type": "stream",
     "text": [
      "\r",
      "1812it [48:39,  3.37s/it]"
     ]
    },
    {
     "name": "stdout",
     "output_type": "stream",
     "text": [
      "Find Content!\n",
      "SEARCHING Iloc :  1812\n",
      "0\n",
      "Find Content!\n"
     ]
    },
    {
     "name": "stderr",
     "output_type": "stream",
     "text": [
      "\r",
      "1813it [48:42,  3.38s/it]"
     ]
    },
    {
     "name": "stdout",
     "output_type": "stream",
     "text": [
      "SEARCHING Iloc :  1813\n",
      "0\n"
     ]
    },
    {
     "name": "stderr",
     "output_type": "stream",
     "text": [
      "\r",
      "1814it [48:46,  3.32s/it]"
     ]
    },
    {
     "name": "stdout",
     "output_type": "stream",
     "text": [
      "Find Content!\n",
      "SEARCHING Iloc :  1814\n",
      "0\n"
     ]
    },
    {
     "name": "stderr",
     "output_type": "stream",
     "text": [
      "\r",
      "1815it [48:49,  3.43s/it]"
     ]
    },
    {
     "name": "stdout",
     "output_type": "stream",
     "text": [
      "Find Content!\n",
      "SEARCHING Iloc :  1815\n",
      "0\n"
     ]
    },
    {
     "name": "stderr",
     "output_type": "stream",
     "text": [
      "\r",
      "1816it [48:53,  3.56s/it]"
     ]
    },
    {
     "name": "stdout",
     "output_type": "stream",
     "text": [
      "Find Content!\n",
      "SEARCHING Iloc :  1816\n",
      "0\n",
      "Find Content!\n"
     ]
    },
    {
     "name": "stderr",
     "output_type": "stream",
     "text": [
      "\r",
      "1817it [48:57,  3.65s/it]"
     ]
    },
    {
     "name": "stdout",
     "output_type": "stream",
     "text": [
      "SEARCHING Iloc :  1817\n",
      "0\n"
     ]
    },
    {
     "name": "stderr",
     "output_type": "stream",
     "text": [
      "\r",
      "1818it [49:01,  3.79s/it]"
     ]
    },
    {
     "name": "stdout",
     "output_type": "stream",
     "text": [
      "Find Content!\n",
      "SEARCHING Iloc :  1818\n",
      "0\n"
     ]
    },
    {
     "name": "stderr",
     "output_type": "stream",
     "text": [
      "\r",
      "1819it [49:04,  3.62s/it]"
     ]
    },
    {
     "name": "stdout",
     "output_type": "stream",
     "text": [
      "Find Content!\n",
      "SEARCHING Iloc :  1819\n",
      "0\n",
      "Find Content!\n"
     ]
    },
    {
     "name": "stderr",
     "output_type": "stream",
     "text": [
      "\r",
      "1820it [49:09,  3.90s/it]"
     ]
    },
    {
     "name": "stdout",
     "output_type": "stream",
     "text": [
      "SEARCHING Iloc :  1820\n",
      "0\n",
      "Find Content!\n"
     ]
    },
    {
     "name": "stderr",
     "output_type": "stream",
     "text": [
      "\r",
      "1821it [49:13,  3.86s/it]"
     ]
    },
    {
     "name": "stdout",
     "output_type": "stream",
     "text": [
      "SEARCHING Iloc :  1821\n",
      "0\n"
     ]
    },
    {
     "name": "stderr",
     "output_type": "stream",
     "text": [
      "\r",
      "1822it [49:16,  3.65s/it]"
     ]
    },
    {
     "name": "stdout",
     "output_type": "stream",
     "text": [
      "Find Content!\n",
      "SEARCHING Iloc :  1822\n",
      "0\n",
      "Find Content!\n"
     ]
    },
    {
     "name": "stderr",
     "output_type": "stream",
     "text": [
      "\r",
      "1823it [49:20,  3.68s/it]"
     ]
    },
    {
     "name": "stdout",
     "output_type": "stream",
     "text": [
      "SEARCHING Iloc :  1823\n",
      "0\n",
      "Find Content!\n"
     ]
    },
    {
     "name": "stderr",
     "output_type": "stream",
     "text": [
      "\r",
      "1824it [49:24,  3.79s/it]"
     ]
    },
    {
     "name": "stdout",
     "output_type": "stream",
     "text": [
      "SEARCHING Iloc :  1824\n",
      "0\n",
      "Find Content!\n"
     ]
    },
    {
     "name": "stderr",
     "output_type": "stream",
     "text": [
      "\r",
      "1825it [49:28,  3.98s/it]"
     ]
    },
    {
     "name": "stdout",
     "output_type": "stream",
     "text": [
      "SEARCHING Iloc :  1825\n",
      "0\n"
     ]
    },
    {
     "name": "stderr",
     "output_type": "stream",
     "text": [
      "\r",
      "1826it [49:31,  3.79s/it]"
     ]
    },
    {
     "name": "stdout",
     "output_type": "stream",
     "text": [
      "Find Content!\n",
      "SEARCHING Iloc :  1826\n",
      "0\n"
     ]
    },
    {
     "name": "stderr",
     "output_type": "stream",
     "text": [
      "\r",
      "1827it [49:35,  3.64s/it]"
     ]
    },
    {
     "name": "stdout",
     "output_type": "stream",
     "text": [
      "Find Content!\n",
      "SEARCHING Iloc :  1827\n",
      "0\n"
     ]
    },
    {
     "name": "stderr",
     "output_type": "stream",
     "text": [
      "\r",
      "1828it [49:38,  3.54s/it]"
     ]
    },
    {
     "name": "stdout",
     "output_type": "stream",
     "text": [
      "Find Content!\n",
      "SEARCHING Iloc :  1828\n",
      "0\n",
      "Find Content!\n"
     ]
    },
    {
     "name": "stderr",
     "output_type": "stream",
     "text": [
      "\r",
      "1829it [49:42,  3.57s/it]"
     ]
    },
    {
     "name": "stdout",
     "output_type": "stream",
     "text": [
      "SEARCHING Iloc :  1829\n",
      "0\n"
     ]
    },
    {
     "name": "stderr",
     "output_type": "stream",
     "text": [
      "\r",
      "1830it [49:45,  3.48s/it]"
     ]
    },
    {
     "name": "stdout",
     "output_type": "stream",
     "text": [
      "Find Content!\n",
      "SEARCHING Iloc :  1830\n",
      "0\n",
      "Find Content!\n"
     ]
    },
    {
     "name": "stderr",
     "output_type": "stream",
     "text": [
      "\r",
      "1831it [49:48,  3.49s/it]"
     ]
    },
    {
     "name": "stdout",
     "output_type": "stream",
     "text": [
      "SEARCHING Iloc :  1831\n",
      "0\n",
      "Find Content!\n"
     ]
    },
    {
     "name": "stderr",
     "output_type": "stream",
     "text": [
      "\r",
      "1832it [49:52,  3.47s/it]"
     ]
    },
    {
     "name": "stdout",
     "output_type": "stream",
     "text": [
      "SEARCHING Iloc :  1832\n",
      "0\n",
      "Find Content!\n"
     ]
    },
    {
     "name": "stderr",
     "output_type": "stream",
     "text": [
      "\r",
      "1833it [49:56,  3.63s/it]"
     ]
    },
    {
     "name": "stdout",
     "output_type": "stream",
     "text": [
      "SEARCHING Iloc :  1833\n",
      "0\n"
     ]
    },
    {
     "name": "stderr",
     "output_type": "stream",
     "text": [
      "\r",
      "1834it [49:59,  3.65s/it]"
     ]
    },
    {
     "name": "stdout",
     "output_type": "stream",
     "text": [
      "Find Content!\n",
      "SEARCHING Iloc :  1834\n",
      "0\n",
      "Find Content!\n"
     ]
    },
    {
     "name": "stderr",
     "output_type": "stream",
     "text": [
      "\r",
      "1835it [50:03,  3.71s/it]"
     ]
    },
    {
     "name": "stdout",
     "output_type": "stream",
     "text": [
      "SEARCHING Iloc :  1835\n",
      "0\n",
      "Find Content!\n"
     ]
    },
    {
     "name": "stderr",
     "output_type": "stream",
     "text": [
      "\r",
      "1836it [50:07,  3.79s/it]"
     ]
    },
    {
     "name": "stdout",
     "output_type": "stream",
     "text": [
      "SEARCHING Iloc :  1836\n",
      "0\n"
     ]
    },
    {
     "name": "stderr",
     "output_type": "stream",
     "text": [
      "\r",
      "1837it [50:11,  3.79s/it]"
     ]
    },
    {
     "name": "stdout",
     "output_type": "stream",
     "text": [
      "Find Content!\n",
      "SEARCHING Iloc :  1837\n",
      "0\n"
     ]
    },
    {
     "name": "stderr",
     "output_type": "stream",
     "text": [
      "\r",
      "1838it [50:14,  3.63s/it]"
     ]
    },
    {
     "name": "stdout",
     "output_type": "stream",
     "text": [
      "Find Content!\n",
      "SEARCHING Iloc :  1838\n",
      "0\n"
     ]
    },
    {
     "name": "stderr",
     "output_type": "stream",
     "text": [
      "\r",
      "1839it [50:18,  3.49s/it]"
     ]
    },
    {
     "name": "stdout",
     "output_type": "stream",
     "text": [
      "Find Content!\n",
      "SEARCHING Iloc :  1839\n",
      "0\n",
      "Find Content!\n"
     ]
    },
    {
     "name": "stderr",
     "output_type": "stream",
     "text": [
      "\r",
      "1840it [50:22,  3.78s/it]"
     ]
    },
    {
     "name": "stdout",
     "output_type": "stream",
     "text": [
      "SEARCHING Iloc :  1840\n",
      "0\n"
     ]
    },
    {
     "name": "stderr",
     "output_type": "stream",
     "text": [
      "\r",
      "1841it [50:26,  3.78s/it]"
     ]
    },
    {
     "name": "stdout",
     "output_type": "stream",
     "text": [
      "Find Content!\n",
      "SEARCHING Iloc :  1841\n",
      "0\n"
     ]
    },
    {
     "name": "stderr",
     "output_type": "stream",
     "text": [
      "\r",
      "1842it [50:30,  3.79s/it]"
     ]
    },
    {
     "name": "stdout",
     "output_type": "stream",
     "text": [
      "Find Content!\n",
      "SEARCHING Iloc :  1842\n",
      "0\n",
      "Find Content!\n"
     ]
    },
    {
     "name": "stderr",
     "output_type": "stream",
     "text": [
      "\r",
      "1843it [50:34,  3.85s/it]"
     ]
    },
    {
     "name": "stdout",
     "output_type": "stream",
     "text": [
      "SEARCHING Iloc :  1843\n",
      "0\n",
      "Find Content!\n"
     ]
    },
    {
     "name": "stderr",
     "output_type": "stream",
     "text": [
      "\r",
      "1844it [50:38,  4.05s/it]"
     ]
    },
    {
     "name": "stdout",
     "output_type": "stream",
     "text": [
      "SEARCHING Iloc :  1844\n",
      "0\n"
     ]
    },
    {
     "name": "stderr",
     "output_type": "stream",
     "text": [
      "\r",
      "1845it [50:41,  3.78s/it]"
     ]
    },
    {
     "name": "stdout",
     "output_type": "stream",
     "text": [
      "Find Content!\n",
      "SEARCHING Iloc :  1845\n",
      "0\n"
     ]
    },
    {
     "name": "stderr",
     "output_type": "stream",
     "text": [
      "\r",
      "1846it [50:45,  3.73s/it]"
     ]
    },
    {
     "name": "stdout",
     "output_type": "stream",
     "text": [
      "Find Content!\n",
      "SEARCHING Iloc :  1846\n",
      "0\n"
     ]
    },
    {
     "name": "stderr",
     "output_type": "stream",
     "text": [
      "\r",
      "1847it [50:48,  3.58s/it]"
     ]
    },
    {
     "name": "stdout",
     "output_type": "stream",
     "text": [
      "Find Content!\n",
      "SEARCHING Iloc :  1847\n",
      "0\n",
      "Find Content!\n"
     ]
    },
    {
     "name": "stderr",
     "output_type": "stream",
     "text": [
      "\r",
      "1848it [50:52,  3.69s/it]"
     ]
    },
    {
     "name": "stdout",
     "output_type": "stream",
     "text": [
      "SEARCHING Iloc :  1848\n",
      "0\n"
     ]
    },
    {
     "name": "stderr",
     "output_type": "stream",
     "text": [
      "\r",
      "1849it [50:55,  3.54s/it]"
     ]
    },
    {
     "name": "stdout",
     "output_type": "stream",
     "text": [
      "Find Content!\n",
      "SEARCHING Iloc :  1849\n",
      "0\n"
     ]
    },
    {
     "name": "stderr",
     "output_type": "stream",
     "text": [
      "\r",
      "1850it [50:59,  3.66s/it]"
     ]
    },
    {
     "name": "stdout",
     "output_type": "stream",
     "text": [
      "Find Content!\n",
      "SEARCHING Iloc :  1850\n",
      "0\n"
     ]
    },
    {
     "name": "stderr",
     "output_type": "stream",
     "text": [
      "\r",
      "1851it [51:02,  3.55s/it]"
     ]
    },
    {
     "name": "stdout",
     "output_type": "stream",
     "text": [
      "Find Content!\n",
      "SEARCHING Iloc :  1851\n",
      "0\n",
      "Find Content!\n"
     ]
    },
    {
     "name": "stderr",
     "output_type": "stream",
     "text": [
      "\r",
      "1852it [51:06,  3.47s/it]"
     ]
    },
    {
     "name": "stdout",
     "output_type": "stream",
     "text": [
      "SEARCHING Iloc :  1852\n",
      "0\n"
     ]
    },
    {
     "name": "stderr",
     "output_type": "stream",
     "text": [
      "\r",
      "1853it [51:09,  3.52s/it]"
     ]
    },
    {
     "name": "stdout",
     "output_type": "stream",
     "text": [
      "Find Content!\n",
      "SEARCHING Iloc :  1853\n",
      "0\n"
     ]
    },
    {
     "name": "stderr",
     "output_type": "stream",
     "text": [
      "\r",
      "1854it [51:13,  3.47s/it]"
     ]
    },
    {
     "name": "stdout",
     "output_type": "stream",
     "text": [
      "Find Content!\n",
      "SEARCHING Iloc :  1854\n",
      "0\n",
      "Find Content!\n"
     ]
    },
    {
     "name": "stderr",
     "output_type": "stream",
     "text": [
      "\r",
      "1855it [51:17,  3.59s/it]"
     ]
    },
    {
     "name": "stdout",
     "output_type": "stream",
     "text": [
      "SEARCHING Iloc :  1855\n",
      "0\n",
      "Find Content!\n"
     ]
    },
    {
     "name": "stderr",
     "output_type": "stream",
     "text": [
      "\r",
      "1856it [51:20,  3.62s/it]"
     ]
    },
    {
     "name": "stdout",
     "output_type": "stream",
     "text": [
      "SEARCHING Iloc :  1856\n",
      "0\n"
     ]
    },
    {
     "name": "stderr",
     "output_type": "stream",
     "text": [
      "\r",
      "1857it [51:24,  3.51s/it]"
     ]
    },
    {
     "name": "stdout",
     "output_type": "stream",
     "text": [
      "Find Content!\n",
      "SEARCHING Iloc :  1857\n",
      "0\n"
     ]
    },
    {
     "name": "stderr",
     "output_type": "stream",
     "text": [
      "\r",
      "1858it [51:27,  3.44s/it]"
     ]
    },
    {
     "name": "stdout",
     "output_type": "stream",
     "text": [
      "Find Content!\n",
      "SEARCHING Iloc :  1858\n",
      "0\n",
      "Find Content!\n"
     ]
    },
    {
     "name": "stderr",
     "output_type": "stream",
     "text": [
      "\r",
      "1859it [51:31,  3.62s/it]"
     ]
    },
    {
     "name": "stdout",
     "output_type": "stream",
     "text": [
      "SEARCHING Iloc :  1859\n",
      "0\n",
      "Find Content!\n"
     ]
    },
    {
     "name": "stderr",
     "output_type": "stream",
     "text": [
      "\r",
      "1860it [51:34,  3.53s/it]"
     ]
    },
    {
     "name": "stdout",
     "output_type": "stream",
     "text": [
      "SEARCHING Iloc :  1860\n",
      "0\n"
     ]
    },
    {
     "name": "stderr",
     "output_type": "stream",
     "text": [
      "\r",
      "1861it [51:38,  3.47s/it]"
     ]
    },
    {
     "name": "stdout",
     "output_type": "stream",
     "text": [
      "Find Content!\n",
      "SEARCHING Iloc :  1861\n",
      "0\n",
      "Find Content!\n"
     ]
    },
    {
     "name": "stderr",
     "output_type": "stream",
     "text": [
      "\r",
      "1862it [51:41,  3.56s/it]"
     ]
    },
    {
     "name": "stdout",
     "output_type": "stream",
     "text": [
      "SEARCHING Iloc :  1862\n",
      "0\n"
     ]
    },
    {
     "name": "stderr",
     "output_type": "stream",
     "text": [
      "\r",
      "1863it [51:44,  3.37s/it]"
     ]
    },
    {
     "name": "stdout",
     "output_type": "stream",
     "text": [
      "Find Content!\n",
      "SEARCHING Iloc :  1863\n",
      "0\n",
      "Find Content!\n"
     ]
    },
    {
     "name": "stderr",
     "output_type": "stream",
     "text": [
      "\r",
      "1864it [51:48,  3.39s/it]"
     ]
    },
    {
     "name": "stdout",
     "output_type": "stream",
     "text": [
      "SEARCHING Iloc :  1864\n",
      "0\n"
     ]
    },
    {
     "name": "stderr",
     "output_type": "stream",
     "text": [
      "\r",
      "1865it [51:51,  3.49s/it]"
     ]
    },
    {
     "name": "stdout",
     "output_type": "stream",
     "text": [
      "Find Content!\n",
      "SEARCHING Iloc :  1865\n",
      "0\n"
     ]
    },
    {
     "name": "stderr",
     "output_type": "stream",
     "text": [
      "\r",
      "1866it [51:55,  3.43s/it]"
     ]
    },
    {
     "name": "stdout",
     "output_type": "stream",
     "text": [
      "Find Content!\n",
      "SEARCHING Iloc :  1866\n",
      "0\n"
     ]
    },
    {
     "name": "stderr",
     "output_type": "stream",
     "text": [
      "\r",
      "1867it [51:58,  3.48s/it]"
     ]
    },
    {
     "name": "stdout",
     "output_type": "stream",
     "text": [
      "Find Content!\n",
      "SEARCHING Iloc :  1867\n",
      "0\n",
      "Find Content!\n"
     ]
    },
    {
     "name": "stderr",
     "output_type": "stream",
     "text": [
      "\r",
      "1868it [52:02,  3.44s/it]"
     ]
    },
    {
     "name": "stdout",
     "output_type": "stream",
     "text": [
      "SEARCHING Iloc :  1868\n",
      "0\n"
     ]
    },
    {
     "name": "stderr",
     "output_type": "stream",
     "text": [
      "\r",
      "1869it [52:05,  3.39s/it]"
     ]
    },
    {
     "name": "stdout",
     "output_type": "stream",
     "text": [
      "Find Content!\n",
      "SEARCHING Iloc :  1869\n",
      "0\n",
      "Find Content!\n"
     ]
    },
    {
     "name": "stderr",
     "output_type": "stream",
     "text": [
      "\r",
      "1870it [52:08,  3.38s/it]"
     ]
    },
    {
     "name": "stdout",
     "output_type": "stream",
     "text": [
      "SEARCHING Iloc :  1870\n",
      "0\n"
     ]
    },
    {
     "name": "stderr",
     "output_type": "stream",
     "text": [
      "\r",
      "1871it [52:11,  3.35s/it]"
     ]
    },
    {
     "name": "stdout",
     "output_type": "stream",
     "text": [
      "Find Content!\n",
      "SEARCHING Iloc :  1871\n",
      "0\n",
      "Find Content!\n"
     ]
    },
    {
     "name": "stderr",
     "output_type": "stream",
     "text": [
      "\r",
      "1872it [52:16,  3.57s/it]"
     ]
    },
    {
     "name": "stdout",
     "output_type": "stream",
     "text": [
      "SEARCHING Iloc :  1872\n",
      "0\n"
     ]
    },
    {
     "name": "stderr",
     "output_type": "stream",
     "text": [
      "\r",
      "1873it [52:19,  3.62s/it]"
     ]
    },
    {
     "name": "stdout",
     "output_type": "stream",
     "text": [
      "Find Content!\n",
      "SEARCHING Iloc :  1873\n",
      "0\n"
     ]
    },
    {
     "name": "stderr",
     "output_type": "stream",
     "text": [
      "\r",
      "1874it [52:23,  3.65s/it]"
     ]
    },
    {
     "name": "stdout",
     "output_type": "stream",
     "text": [
      "Find Content!\n",
      "SEARCHING Iloc :  1874\n",
      "0\n"
     ]
    },
    {
     "name": "stderr",
     "output_type": "stream",
     "text": [
      "\r",
      "1875it [52:26,  3.49s/it]"
     ]
    },
    {
     "name": "stdout",
     "output_type": "stream",
     "text": [
      "Find Content!\n",
      "SEARCHING Iloc :  1875\n",
      "0\n",
      "Find Content!\n"
     ]
    },
    {
     "name": "stderr",
     "output_type": "stream",
     "text": [
      "\r",
      "1876it [52:30,  3.68s/it]"
     ]
    },
    {
     "name": "stdout",
     "output_type": "stream",
     "text": [
      "SEARCHING Iloc :  1876\n",
      "0\n"
     ]
    },
    {
     "name": "stderr",
     "output_type": "stream",
     "text": [
      "\r",
      "1877it [52:34,  3.59s/it]"
     ]
    },
    {
     "name": "stdout",
     "output_type": "stream",
     "text": [
      "Find Content!\n",
      "SEARCHING Iloc :  1877\n",
      "0\n"
     ]
    },
    {
     "name": "stderr",
     "output_type": "stream",
     "text": [
      "\r",
      "1878it [52:37,  3.50s/it]"
     ]
    },
    {
     "name": "stdout",
     "output_type": "stream",
     "text": [
      "Find Content!\n",
      "SEARCHING Iloc :  1878\n",
      "0\n",
      "Find Content!\n"
     ]
    },
    {
     "name": "stderr",
     "output_type": "stream",
     "text": [
      "\r",
      "1879it [52:41,  3.58s/it]"
     ]
    },
    {
     "name": "stdout",
     "output_type": "stream",
     "text": [
      "SEARCHING Iloc :  1879\n",
      "0\n"
     ]
    },
    {
     "name": "stderr",
     "output_type": "stream",
     "text": [
      "\r",
      "1880it [52:44,  3.45s/it]"
     ]
    },
    {
     "name": "stdout",
     "output_type": "stream",
     "text": [
      "Find Content!\n",
      "SEARCHING Iloc :  1880\n",
      "0\n"
     ]
    },
    {
     "name": "stderr",
     "output_type": "stream",
     "text": [
      "\r",
      "1881it [52:47,  3.49s/it]"
     ]
    },
    {
     "name": "stdout",
     "output_type": "stream",
     "text": [
      "Find Content!\n",
      "SEARCHING Iloc :  1881\n",
      "0\n"
     ]
    },
    {
     "name": "stderr",
     "output_type": "stream",
     "text": [
      "\r",
      "1882it [52:51,  3.43s/it]"
     ]
    },
    {
     "name": "stdout",
     "output_type": "stream",
     "text": [
      "Find Content!\n",
      "SEARCHING Iloc :  1882\n",
      "0\n",
      "Find Content!\n"
     ]
    },
    {
     "name": "stderr",
     "output_type": "stream",
     "text": [
      "\r",
      "1883it [52:55,  3.57s/it]"
     ]
    },
    {
     "name": "stdout",
     "output_type": "stream",
     "text": [
      "SEARCHING Iloc :  1883\n",
      "0\n",
      "Find Content!\n"
     ]
    },
    {
     "name": "stderr",
     "output_type": "stream",
     "text": [
      "\r",
      "1884it [52:58,  3.65s/it]"
     ]
    },
    {
     "name": "stdout",
     "output_type": "stream",
     "text": [
      "SEARCHING Iloc :  1884\n",
      "0\n"
     ]
    },
    {
     "name": "stderr",
     "output_type": "stream",
     "text": [
      "\r",
      "1885it [53:02,  3.52s/it]"
     ]
    },
    {
     "name": "stdout",
     "output_type": "stream",
     "text": [
      "Find Content!\n",
      "SEARCHING Iloc :  1885\n",
      "0\n"
     ]
    },
    {
     "name": "stderr",
     "output_type": "stream",
     "text": [
      "\r",
      "1886it [53:05,  3.61s/it]"
     ]
    },
    {
     "name": "stdout",
     "output_type": "stream",
     "text": [
      "Find Content!\n",
      "SEARCHING Iloc :  1886\n",
      "0\n",
      "Find Content!\n"
     ]
    },
    {
     "name": "stderr",
     "output_type": "stream",
     "text": [
      "\r",
      "1887it [53:09,  3.55s/it]"
     ]
    },
    {
     "name": "stdout",
     "output_type": "stream",
     "text": [
      "SEARCHING Iloc :  1887\n",
      "0\n"
     ]
    },
    {
     "name": "stderr",
     "output_type": "stream",
     "text": [
      "\r",
      "1888it [53:12,  3.43s/it]"
     ]
    },
    {
     "name": "stdout",
     "output_type": "stream",
     "text": [
      "Find Content!\n",
      "SEARCHING Iloc :  1888\n",
      "0\n"
     ]
    },
    {
     "name": "stderr",
     "output_type": "stream",
     "text": [
      "\r",
      "1889it [53:15,  3.37s/it]"
     ]
    },
    {
     "name": "stdout",
     "output_type": "stream",
     "text": [
      "Find Content!\n",
      "SEARCHING Iloc :  1889\n",
      "0\n"
     ]
    },
    {
     "name": "stderr",
     "output_type": "stream",
     "text": [
      "\r",
      "1890it [53:18,  3.29s/it]"
     ]
    },
    {
     "name": "stdout",
     "output_type": "stream",
     "text": [
      "Find Content!\n",
      "SEARCHING Iloc :  1890\n",
      "0\n",
      "Find Content!\n"
     ]
    },
    {
     "name": "stderr",
     "output_type": "stream",
     "text": [
      "\r",
      "1891it [53:22,  3.48s/it]"
     ]
    },
    {
     "name": "stdout",
     "output_type": "stream",
     "text": [
      "SEARCHING Iloc :  1891\n",
      "0\n"
     ]
    },
    {
     "name": "stderr",
     "output_type": "stream",
     "text": [
      "\r",
      "1892it [53:26,  3.52s/it]"
     ]
    },
    {
     "name": "stdout",
     "output_type": "stream",
     "text": [
      "Find Content!\n",
      "SEARCHING Iloc :  1892\n",
      "0\n"
     ]
    },
    {
     "name": "stderr",
     "output_type": "stream",
     "text": [
      "\r",
      "1893it [53:29,  3.40s/it]"
     ]
    },
    {
     "name": "stdout",
     "output_type": "stream",
     "text": [
      "Find Content!\n",
      "SEARCHING Iloc :  1893\n",
      "0\n"
     ]
    },
    {
     "name": "stderr",
     "output_type": "stream",
     "text": [
      "\r",
      "1894it [53:32,  3.38s/it]"
     ]
    },
    {
     "name": "stdout",
     "output_type": "stream",
     "text": [
      "Find Content!\n",
      "SEARCHING Iloc :  1894\n",
      "0\n",
      "Find Content!\n"
     ]
    },
    {
     "name": "stderr",
     "output_type": "stream",
     "text": [
      "\r",
      "1895it [53:37,  3.61s/it]"
     ]
    },
    {
     "name": "stdout",
     "output_type": "stream",
     "text": [
      "SEARCHING Iloc :  1895\n",
      "0\n"
     ]
    },
    {
     "name": "stderr",
     "output_type": "stream",
     "text": [
      "\r",
      "1896it [53:40,  3.49s/it]"
     ]
    },
    {
     "name": "stdout",
     "output_type": "stream",
     "text": [
      "Find Content!\n",
      "SEARCHING Iloc :  1896\n",
      "0\n"
     ]
    },
    {
     "name": "stderr",
     "output_type": "stream",
     "text": [
      "\r",
      "1897it [53:43,  3.54s/it]"
     ]
    },
    {
     "name": "stdout",
     "output_type": "stream",
     "text": [
      "Find Content!\n",
      "SEARCHING Iloc :  1897\n",
      "0\n",
      "Find Content!\n"
     ]
    },
    {
     "name": "stderr",
     "output_type": "stream",
     "text": [
      "\r",
      "1898it [53:47,  3.60s/it]"
     ]
    },
    {
     "name": "stdout",
     "output_type": "stream",
     "text": [
      "SEARCHING Iloc :  1898\n",
      "0\n"
     ]
    },
    {
     "name": "stderr",
     "output_type": "stream",
     "text": [
      "\r",
      "1899it [53:51,  3.65s/it]"
     ]
    },
    {
     "name": "stdout",
     "output_type": "stream",
     "text": [
      "Find Content!\n",
      "SEARCHING Iloc :  1899\n",
      "0\n"
     ]
    },
    {
     "name": "stderr",
     "output_type": "stream",
     "text": [
      "\r",
      "1900it [53:55,  3.68s/it]"
     ]
    },
    {
     "name": "stdout",
     "output_type": "stream",
     "text": [
      "Find Content!\n",
      "SEARCHING Iloc :  1900\n",
      "0\n"
     ]
    },
    {
     "name": "stderr",
     "output_type": "stream",
     "text": [
      "\r",
      "1901it [53:58,  3.54s/it]"
     ]
    },
    {
     "name": "stdout",
     "output_type": "stream",
     "text": [
      "Find Content!\n",
      "SEARCHING Iloc :  1901\n",
      "0\n",
      "Find Content!\n"
     ]
    },
    {
     "name": "stderr",
     "output_type": "stream",
     "text": [
      "\r",
      "1902it [54:01,  3.51s/it]"
     ]
    },
    {
     "name": "stdout",
     "output_type": "stream",
     "text": [
      "SEARCHING Iloc :  1902\n",
      "0\n"
     ]
    },
    {
     "name": "stderr",
     "output_type": "stream",
     "text": [
      "\r",
      "1903it [54:05,  3.55s/it]"
     ]
    },
    {
     "name": "stdout",
     "output_type": "stream",
     "text": [
      "Find Content!\n",
      "SEARCHING Iloc :  1903\n",
      "0\n"
     ]
    },
    {
     "name": "stderr",
     "output_type": "stream",
     "text": [
      "\r",
      "1904it [54:08,  3.48s/it]"
     ]
    },
    {
     "name": "stdout",
     "output_type": "stream",
     "text": [
      "Find Content!\n",
      "SEARCHING Iloc :  1904\n",
      "0\n"
     ]
    },
    {
     "name": "stderr",
     "output_type": "stream",
     "text": [
      "\r",
      "1905it [54:11,  3.38s/it]"
     ]
    },
    {
     "name": "stdout",
     "output_type": "stream",
     "text": [
      "Find Content!\n",
      "SEARCHING Iloc :  1905\n",
      "0\n",
      "Find Content!\n"
     ]
    },
    {
     "name": "stderr",
     "output_type": "stream",
     "text": [
      "\r",
      "1906it [54:15,  3.42s/it]"
     ]
    },
    {
     "name": "stdout",
     "output_type": "stream",
     "text": [
      "SEARCHING Iloc :  1906\n",
      "0\n",
      "Find Content!\n"
     ]
    },
    {
     "name": "stderr",
     "output_type": "stream",
     "text": [
      "\r",
      "1907it [54:18,  3.37s/it]"
     ]
    },
    {
     "name": "stdout",
     "output_type": "stream",
     "text": [
      "SEARCHING Iloc :  1907\n",
      "0\n"
     ]
    },
    {
     "name": "stderr",
     "output_type": "stream",
     "text": [
      "\r",
      "1908it [54:21,  3.29s/it]"
     ]
    },
    {
     "name": "stdout",
     "output_type": "stream",
     "text": [
      "Find Content!\n",
      "SEARCHING Iloc :  1908\n",
      "0\n"
     ]
    },
    {
     "name": "stderr",
     "output_type": "stream",
     "text": [
      "\r",
      "1909it [54:25,  3.33s/it]"
     ]
    },
    {
     "name": "stdout",
     "output_type": "stream",
     "text": [
      "Find Content!\n",
      "SEARCHING Iloc :  1909\n",
      "0\n",
      "Find Content!\n"
     ]
    },
    {
     "name": "stderr",
     "output_type": "stream",
     "text": [
      "\r",
      "1910it [54:28,  3.46s/it]"
     ]
    },
    {
     "name": "stdout",
     "output_type": "stream",
     "text": [
      "SEARCHING Iloc :  1910\n",
      "0\n"
     ]
    },
    {
     "name": "stderr",
     "output_type": "stream",
     "text": [
      "\r",
      "1911it [54:32,  3.38s/it]"
     ]
    },
    {
     "name": "stdout",
     "output_type": "stream",
     "text": [
      "Find Content!\n",
      "SEARCHING Iloc :  1911\n",
      "0\n"
     ]
    },
    {
     "name": "stderr",
     "output_type": "stream",
     "text": [
      "\r",
      "1912it [54:35,  3.46s/it]"
     ]
    },
    {
     "name": "stdout",
     "output_type": "stream",
     "text": [
      "Find Content!\n",
      "SEARCHING Iloc :  1912\n",
      "0\n"
     ]
    },
    {
     "name": "stderr",
     "output_type": "stream",
     "text": [
      "\r",
      "1913it [54:39,  3.52s/it]"
     ]
    },
    {
     "name": "stdout",
     "output_type": "stream",
     "text": [
      "Find Content!\n",
      "SEARCHING Iloc :  1913\n",
      "0\n",
      "Find Content!\n"
     ]
    },
    {
     "name": "stderr",
     "output_type": "stream",
     "text": [
      "\r",
      "1914it [54:43,  3.62s/it]"
     ]
    },
    {
     "name": "stdout",
     "output_type": "stream",
     "text": [
      "SEARCHING Iloc :  1914\n",
      "0\n"
     ]
    },
    {
     "name": "stderr",
     "output_type": "stream",
     "text": [
      "\r",
      "1915it [54:47,  3.70s/it]"
     ]
    },
    {
     "name": "stdout",
     "output_type": "stream",
     "text": [
      "Find Content!\n",
      "SEARCHING Iloc :  1915\n",
      "0\n"
     ]
    },
    {
     "name": "stderr",
     "output_type": "stream",
     "text": [
      "\r",
      "1916it [54:50,  3.69s/it]"
     ]
    },
    {
     "name": "stdout",
     "output_type": "stream",
     "text": [
      "Find Content!\n",
      "SEARCHING Iloc :  1916\n",
      "0\n"
     ]
    },
    {
     "name": "stderr",
     "output_type": "stream",
     "text": [
      "\r",
      "1917it [54:54,  3.71s/it]"
     ]
    },
    {
     "name": "stdout",
     "output_type": "stream",
     "text": [
      "Find Content!\n",
      "SEARCHING Iloc :  1917\n",
      "0\n",
      "Find Content!\n"
     ]
    },
    {
     "name": "stderr",
     "output_type": "stream",
     "text": [
      "\r",
      "1918it [54:58,  3.69s/it]"
     ]
    },
    {
     "name": "stdout",
     "output_type": "stream",
     "text": [
      "SEARCHING Iloc :  1918\n",
      "0\n"
     ]
    },
    {
     "name": "stderr",
     "output_type": "stream",
     "text": [
      "\r",
      "1919it [55:01,  3.66s/it]"
     ]
    },
    {
     "name": "stdout",
     "output_type": "stream",
     "text": [
      "Find Content!\n",
      "SEARCHING Iloc :  1919\n",
      "0\n"
     ]
    }
   ],
   "source": [
    "proxy_data = get_proxy_list()\n",
    "proxy_idx = 0 \n",
    "\n",
    "# NaN -> ''로 변경 \n",
    "# df['content'].loc[df[df['content'].isna()].index] = ''\n",
    "\n",
    "for idx, link in tqdm(enumerate(df['link'].values)):\n",
    "    if len(df['content'].iloc[idx]) :\n",
    "        continue\n",
    "    print('SEARCHING Iloc : ', idx)\n",
    "    df['content'].iloc[idx], proxy_idx = get_post_content(link, proxy_data, proxy_idx)\n",
    "    \n",
    "save_daily_data(df, path)"
   ]
  },
  {
   "cell_type": "code",
   "execution_count": 17,
   "id": "fdbf3ca3",
   "metadata": {},
   "outputs": [],
   "source": [
    "save_daily_data(df, path, load_date)"
   ]
  },
  {
   "cell_type": "code",
   "execution_count": 20,
   "id": "0743dffa",
   "metadata": {},
   "outputs": [
    {
     "data": {
      "text/plain": [
       "'\\n본캐 하나만 3단가고 나머지는 2개는\\xa02단해야될거같은데\\n'"
      ]
     },
     "execution_count": 20,
     "metadata": {},
     "output_type": "execute_result"
    }
   ],
   "source": [
    "df['content'].iloc[95]"
   ]
  },
  {
   "cell_type": "code",
   "execution_count": 96,
   "id": "1a9cecf1",
   "metadata": {},
   "outputs": [],
   "source": [
    "proxies = {'http' : 'http://' + proxy_data[proxy_idx][1], 'https' : 'http://' + proxy_data[proxy_idx][1]}\n",
    "headers = {\n",
    "        'user-agent' : ua.random\n",
    "    }\n",
    "res = requests.get(link, headers=headers, proxies = proxies, timeout=(10,10))"
   ]
  }
 ],
 "metadata": {
  "kernelspec": {
   "display_name": "Python 3 (ipykernel)",
   "language": "python",
   "name": "python3"
  },
  "language_info": {
   "codemirror_mode": {
    "name": "ipython",
    "version": 3
   },
   "file_extension": ".py",
   "mimetype": "text/x-python",
   "name": "python",
   "nbconvert_exporter": "python",
   "pygments_lexer": "ipython3",
   "version": "3.9.13"
  }
 },
 "nbformat": 4,
 "nbformat_minor": 5
}
