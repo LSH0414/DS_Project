{
 "cells": [
  {
   "cell_type": "markdown",
   "metadata": {},
   "source": [
    "# 공통 전처리"
   ]
  },
  {
   "cell_type": "code",
   "execution_count": 37,
   "metadata": {},
   "outputs": [],
   "source": [
    "import re\n",
    "import pandas as pd\n",
    "from soynlp.normalizer import repeat_normalize\n",
    "\n",
    "# https://mr-doosun.tistory.com/24 Stopwords BASE & Custom\n",
    "\n",
    "with open('./data/stopwords_post_position.txt', 'r') as f:\n",
    "    josa_lst = f.readlines()\n",
    "\n",
    "with open('./data/stopword_conjunction.txt', 'r') as f:\n",
    "    conjunction_lst = f.readline().split(', ')\n",
    "\n",
    "# 불용어 처리\n",
    "stopwords_pPosition = []\n",
    "for josa in josa_lst:\n",
    "    josa = re.sub('\\n|\\t', '', josa)\n",
    "    if '/' in josa:\n",
    "        josa_words = josa.split('/')\n",
    "    else:\n",
    "        josa_words = [josa]\n",
    "\n",
    "    [stopwords_pPosition.append(word) for word in josa_words]\n",
    "\n",
    "def pp_stopwords_pposition(txt, stopwords = stopwords_pPosition):\n",
    "    \n",
    "    split_words = txt.split()\n",
    "\n",
    "    result = []\n",
    "    for word in split_words:\n",
    "        for length in range(max(map(len, stopwords)),0 , -1):\n",
    "            if word[-length:] in stopwords:\n",
    "                result.append(word[:-length])\n",
    "                break\n",
    "            elif length == 1:\n",
    "                result.append(word)\n",
    "\n",
    "    result = ' '.join(result)\n",
    "\n",
    "    return result\n",
    "\n",
    "\n",
    "\n",
    "def pp_stopwords_conjunction(txt, stopwords = conjunction_lst):\n",
    "    for stopword in stopwords:\n",
    "        if stopword in txt:\n",
    "\n",
    "            # Stopword의 위치 찾기\n",
    "            check_before_idx = re.search(stopword, txt).start() -1\n",
    "            check_after_idx = re.search(stopword, txt).end() # idx가 아니라 번째 개념으로 자동으로 +1 되어있음\n",
    "\n",
    "            # 시작위치가 첫번째일떄 예외처리\n",
    "            if check_before_idx == -1:\n",
    "                check_before_blank = True\n",
    "            else:\n",
    "                check_before_blank = True if txt[check_before_idx] == ' ' else False\n",
    "            \n",
    "            #종료지점이 끝위치일떄 예외처리\n",
    "            if check_after_idx == len(txt):\n",
    "                check_after_blank = True\n",
    "            else:\n",
    "                check_after_blank = True if txt[check_after_idx] == ' ' else False\n",
    "            \n",
    "            if check_before_blank and check_after_blank:\n",
    "                txt = re.sub(stopword, ' ', txt).strip()\n",
    "        \n",
    "    return txt\n",
    "\n",
    "def del_stopwords(txt):\n",
    "    txt = pp_stopwords_conjunction(txt) # 접속사 제거\n",
    "    txt = pp_stopwords_pposition(txt) # 조사 제거\n",
    "    txt = re.sub('[^가-힣]', ' ', txt).strip() # 한글 제외 제거\n",
    "    txt = repeat_normalize(txt, num_repeats=3)\n",
    "    return txt\n"
   ]
  },
  {
   "cell_type": "code",
   "execution_count": 38,
   "metadata": {},
   "outputs": [],
   "source": [
    "data = pd.read_csv('./data/reivews_df_preprocssing_ver.csv')\n",
    "data['content'] = data['content'].apply(del_stopwords)\n",
    "\n",
    "b_a = data[data['app_name'] == '블루아카이브'].reset_index()['content']\n",
    "n_k = data[data['app_name'] == '니케'].reset_index()['content']\n",
    "o_g = data[data['app_name'] == '원신'].reset_index()['content']\n",
    "d_s = data[data['app_name'] == '붕괴:스타레일'].reset_index()['content']"
   ]
  },
  {
   "cell_type": "code",
   "execution_count": 39,
   "metadata": {},
   "outputs": [
    {
     "data": {
      "text/plain": [
       "(9515, 11339, 38662, 6257)"
      ]
     },
     "execution_count": 39,
     "metadata": {},
     "output_type": "execute_result"
    }
   ],
   "source": [
    "len(b_a), len(n_k), len(o_g), len(d_s)"
   ]
  },
  {
   "cell_type": "markdown",
   "metadata": {},
   "source": [
    "# BERTopic"
   ]
  },
  {
   "cell_type": "code",
   "execution_count": 40,
   "metadata": {},
   "outputs": [],
   "source": [
    "from tqdm import tqdm\n",
    "from sklearn.feature_extraction.text import CountVectorizer\n",
    "from konlpy.tag import Mecab, Okt\n",
    "from bertopic import BERTopic"
   ]
  },
  {
   "cell_type": "code",
   "execution_count": 41,
   "metadata": {},
   "outputs": [],
   "source": [
    "class CustomTokenizer:\n",
    "    def __init__(self, tagger):\n",
    "        self.tagger = tagger\n",
    "    def __call__(self, sent):\n",
    "        word_tokens = self.tagger.nouns(sent)\n",
    "        result = [word for word in word_tokens if len(word) > 1]\n",
    "        return result"
   ]
  },
  {
   "cell_type": "code",
   "execution_count": 42,
   "metadata": {},
   "outputs": [],
   "source": [
    "ct_mecab = CustomTokenizer(Mecab())\n",
    "ct_okt = CustomTokenizer(Okt())\n",
    "vectorizer_mecab = CountVectorizer(tokenizer=ct_mecab, max_features=3000)\n",
    "vectorizer_okt = CountVectorizer(tokenizer=ct_okt, max_features=3000)"
   ]
  },
  {
   "cell_type": "code",
   "execution_count": 44,
   "metadata": {},
   "outputs": [
    {
     "name": "stderr",
     "output_type": "stream",
     "text": [
      "100%|██████████| 9515/9515 [00:00<00:00, 492008.81it/s]\n"
     ]
    }
   ],
   "source": [
    "documents = b_a.values\n",
    "\n",
    "preprocessed_documents = []\n",
    "\n",
    "for line in tqdm(documents):\n",
    "  # 빈 문자열이거나 숫자로만 이루어진 줄은 제외\n",
    "  if line and not line.replace(' ', '').isdecimal():\n",
    "    preprocessed_documents.append(line)"
   ]
  },
  {
   "cell_type": "code",
   "execution_count": 45,
   "metadata": {},
   "outputs": [
    {
     "data": {
      "text/plain": [
       "<bertopic._bertopic.BERTopic at 0x7faa74f0a1d0>"
      ]
     },
     "execution_count": 45,
     "metadata": {},
     "output_type": "execute_result"
    }
   ],
   "source": [
    "MODEL_NAME = \"sentence-transformers/xlm-r-100langs-bert-base-nli-stsb-mean-tokens\"\n",
    "model_mecab = BERTopic(embedding_model= MODEL_NAME, vectorizer_model=vectorizer_mecab, nr_topics=50, top_n_words=10, calculate_probabilities=True)\n",
    "model_mecab.fit(preprocessed_documents)\n"
   ]
  },
  {
   "cell_type": "code",
   "execution_count": null,
   "metadata": {},
   "outputs": [],
   "source": [
    "model_mecab.save(\"./reuslt/model/b_a_BERTopic_mecab\", serialization=\"pickle\")\n",
    "# okt모듈로 인한 저장 에러\n",
    "# model_okt.save(\"./reuslt/model/b_a_BERTopic_okt\", serialization=\"pickle\")"
   ]
  },
  {
   "cell_type": "code",
   "execution_count": 49,
   "metadata": {},
   "outputs": [
    {
     "name": "stderr",
     "output_type": "stream",
     "text": [
      "100%|██████████| 11339/11339 [00:00<00:00, 438442.87it/s]\n",
      "/Users/seokholee/opt/anaconda3/envs/ds_study/lib/python3.7/site-packages/scipy/sparse/_index.py:125: SparseEfficiencyWarning:\n",
      "\n",
      "Changing the sparsity structure of a csr_matrix is expensive. lil_matrix is more efficient.\n",
      "\n"
     ]
    }
   ],
   "source": [
    "# 니케\n",
    "documents = n_k.values\n",
    "\n",
    "preprocessed_documents = []\n",
    "\n",
    "for line in tqdm(documents):\n",
    "  # 빈 문자열이거나 숫자로만 이루어진 줄은 제외\n",
    "  if line and not line.replace(' ', '').isdecimal():\n",
    "    preprocessed_documents.append(line)\n",
    "\n",
    "MODEL_NAME = \"sentence-transformers/xlm-r-100langs-bert-base-nli-stsb-mean-tokens\"\n",
    "model_mecab = BERTopic(embedding_model= MODEL_NAME, vectorizer_model=vectorizer_mecab, nr_topics=50, top_n_words=10, calculate_probabilities=True)\n",
    "model_mecab.fit(preprocessed_documents)\n",
    "\n",
    "\n",
    "model_mecab.save(\"./reuslt/model/n_k_BERTopic_mecab\", serialization=\"pickle\")\n",
    "# okt모듈로 인한 저장 에러\n",
    "# model_okt.save(\"./reuslt/model/b_a_BERTopic_okt\", serialization=\"pickle\")"
   ]
  },
  {
   "cell_type": "code",
   "execution_count": 50,
   "metadata": {},
   "outputs": [
    {
     "name": "stderr",
     "output_type": "stream",
     "text": [
      "100%|██████████| 38662/38662 [00:00<00:00, 119758.49it/s]\n",
      "/Users/seokholee/opt/anaconda3/envs/ds_study/lib/python3.7/site-packages/scipy/sparse/_index.py:125: SparseEfficiencyWarning:\n",
      "\n",
      "Changing the sparsity structure of a csr_matrix is expensive. lil_matrix is more efficient.\n",
      "\n"
     ]
    }
   ],
   "source": [
    "# 원신\n",
    "documents = o_g.values\n",
    "\n",
    "preprocessed_documents = []\n",
    "\n",
    "for line in tqdm(documents):\n",
    "  # 빈 문자열이거나 숫자로만 이루어진 줄은 제외\n",
    "  if line and not line.replace(' ', '').isdecimal():\n",
    "    preprocessed_documents.append(line)\n",
    "\n",
    "model_mecab = BERTopic(embedding_model= MODEL_NAME, vectorizer_model=vectorizer_mecab, nr_topics=50, top_n_words=10, calculate_probabilities=True)\n",
    "model_mecab.fit(preprocessed_documents)\n",
    "\n",
    "model_mecab.save(\"./reuslt/model/o_g_BERTopic_mecab\", serialization=\"pickle\")\n",
    "# okt모듈로 인한 저장 에러\n",
    "# model_okt.save(\"./reuslt/model/b_a_BERTopic_okt\", serialization=\"pickle\")"
   ]
  },
  {
   "cell_type": "code",
   "execution_count": 51,
   "metadata": {},
   "outputs": [
    {
     "name": "stderr",
     "output_type": "stream",
     "text": [
      "100%|██████████| 6257/6257 [00:00<00:00, 102260.24it/s]\n",
      "/Users/seokholee/opt/anaconda3/envs/ds_study/lib/python3.7/site-packages/scipy/sparse/_index.py:125: SparseEfficiencyWarning:\n",
      "\n",
      "Changing the sparsity structure of a csr_matrix is expensive. lil_matrix is more efficient.\n",
      "\n"
     ]
    }
   ],
   "source": [
    "# 붕괴스타레일\n",
    "documents = d_s.values\n",
    "\n",
    "preprocessed_documents = []\n",
    "\n",
    "for line in tqdm(documents):\n",
    "  # 빈 문자열이거나 숫자로만 이루어진 줄은 제외\n",
    "  if line and not line.replace(' ', '').isdecimal():\n",
    "    preprocessed_documents.append(line)\n",
    "\n",
    "model_mecab = BERTopic(embedding_model= MODEL_NAME, vectorizer_model=vectorizer_mecab, nr_topics=50, top_n_words=10, calculate_probabilities=True)\n",
    "model_mecab.fit(preprocessed_documents)\n",
    "\n",
    "\n",
    "model_mecab.save(\"./reuslt/model/d_s_BERTopic_mecab\", serialization=\"pickle\")\n",
    "# okt모듈로 인한 저장 에러\n",
    "# model_okt.save(\"./reuslt/model/b_a_BERTopic_okt\", serialization=\"pickle\")"
   ]
  },
  {
   "cell_type": "markdown",
   "metadata": {},
   "source": [
    "### 저장 모델 로드"
   ]
  },
  {
   "cell_type": "code",
   "execution_count": 33,
   "metadata": {},
   "outputs": [],
   "source": [
    "# Load from file\n",
    "loaded_model = BERTopic.load(\"./reuslt/model/b_a_BERTopic_mecab\")"
   ]
  },
  {
   "cell_type": "code",
   "execution_count": 18,
   "metadata": {},
   "outputs": [
    {
     "data": {
      "text/html": [
       "<div>\n",
       "<style scoped>\n",
       "    .dataframe tbody tr th:only-of-type {\n",
       "        vertical-align: middle;\n",
       "    }\n",
       "\n",
       "    .dataframe tbody tr th {\n",
       "        vertical-align: top;\n",
       "    }\n",
       "\n",
       "    .dataframe thead th {\n",
       "        text-align: right;\n",
       "    }\n",
       "</style>\n",
       "<table border=\"1\" class=\"dataframe\">\n",
       "  <thead>\n",
       "    <tr style=\"text-align: right;\">\n",
       "      <th></th>\n",
       "      <th>Topic</th>\n",
       "      <th>Count</th>\n",
       "      <th>Name</th>\n",
       "      <th>Representation</th>\n",
       "      <th>Representative_Docs</th>\n",
       "    </tr>\n",
       "  </thead>\n",
       "  <tbody>\n",
       "    <tr>\n",
       "      <th>0</th>\n",
       "      <td>-1</td>\n",
       "      <td>3993</td>\n",
       "      <td>-1_게임_캐릭터_스토리_최적화</td>\n",
       "      <td>[게임, 캐릭터, 스토리, 최적화, 개발, 오류, 확률, 과금, 컨텐츠, 생각]</td>\n",
       "      <td>[처음  게임 광고 봤을때 별 흥미 없었지 친구 추천 한번 깔아봤는데 너무 재밌어서...</td>\n",
       "    </tr>\n",
       "    <tr>\n",
       "      <th>1</th>\n",
       "      <td>0</td>\n",
       "      <td>1256</td>\n",
       "      <td>0_확률_리세_삭제_운영</td>\n",
       "      <td>[확률, 리세, 삭제, 운영, 과금, 게임, 업데이트, 픽업, 리뷰, 계정]</td>\n",
       "      <td>[년전까지 그 괜찮다고 생각했는데 확률업 해 천장찍을때  성 픽업안하는것 안떠서 걍...</td>\n",
       "    </tr>\n",
       "    <tr>\n",
       "      <th>2</th>\n",
       "      <td>1</td>\n",
       "      <td>1128</td>\n",
       "      <td>1_게임_개추_몰루_개꿀</td>\n",
       "      <td>[게임, 개추, 몰루, 개꿀, 용하, 우흥, 야미, 야호, 필요, 카와이]</td>\n",
       "      <td>[갓게임입니다, 갓게임, 갓게임]</td>\n",
       "    </tr>\n",
       "    <tr>\n",
       "      <th>3</th>\n",
       "      <td>2</td>\n",
       "      <td>586</td>\n",
       "      <td>2_용하_사랑_발열_이라니</td>\n",
       "      <td>[용하, 사랑, 발열, 이라니, 청불, 기대, 사료, 지지, 필요, 이오리]</td>\n",
       "      <td>[용하형 사랑해, 용하형 사랑해, 용하형 사랑해]</td>\n",
       "    </tr>\n",
       "    <tr>\n",
       "      <th>4</th>\n",
       "      <td>3</td>\n",
       "      <td>513</td>\n",
       "      <td>3_최고_재미_완벽_시로코</td>\n",
       "      <td>[최고, 재미, 완벽, 시로코, 어용, 히나, 아즈사, 아루, 최승일, 해피]</td>\n",
       "      <td>[최고, 최고야 하앙, 최고다제]</td>\n",
       "    </tr>\n",
       "    <tr>\n",
       "      <th>5</th>\n",
       "      <td>4</td>\n",
       "      <td>218</td>\n",
       "      <td>4_캐릭터_과금_스토리_픽업</td>\n",
       "      <td>[캐릭터, 과금, 스토리, 픽업, 캐릭, 스킬, 천장, 생각, 게임, 컨텐츠]</td>\n",
       "      <td>[게임자체 재미있습니다  캐릭터들 각각 개성들 있고 게임캐릭터들 일러스트 같 것들 ...</td>\n",
       "    </tr>\n",
       "    <tr>\n",
       "      <th>6</th>\n",
       "      <td>5</td>\n",
       "      <td>125</td>\n",
       "      <td>5_서브_게임_방치_마시</td>\n",
       "      <td>[서브, 게임, 방치, 마시, 선도, 컬쳐, 오류, 초갓, 분만, 로리]</td>\n",
       "      <td>[서브 스토리 선도부 챕터 선도부 정기 주간 회 그럿듯 오타같은데 수정해주세요, 최...</td>\n",
       "    </tr>\n",
       "    <tr>\n",
       "      <th>7</th>\n",
       "      <td>6</td>\n",
       "      <td>116</td>\n",
       "      <td>6_애플리케이션_다운로드_화면_업데이트</td>\n",
       "      <td>[애플리케이션, 다운로드, 화면, 업데이트, 스마트폰, 문제, 실행, 로딩, 플레이...</td>\n",
       "      <td>[다운로드 실패 하여 애플리케이션 종료 합니다         계속 뜹니다 접속 못해...</td>\n",
       "    </tr>\n",
       "    <tr>\n",
       "      <th>8</th>\n",
       "      <td>7</td>\n",
       "      <td>103</td>\n",
       "      <td>7_게임_확률_방치_성인</td>\n",
       "      <td>[게임, 확률, 방치, 성인, 주작, 무시, 쓰레기, 조작, 개똥, 바보]</td>\n",
       "      <td>[확률 망게임, 확률조작쓰레기게임, 리세 쓸데없 시간 먹게하고 유저별 확률조작한 쓰...</td>\n",
       "    </tr>\n",
       "    <tr>\n",
       "      <th>9</th>\n",
       "      <td>8</td>\n",
       "      <td>86</td>\n",
       "      <td>8_김용하_미해결_오류_쿠폰</td>\n",
       "      <td>[김용하, 미해결, 오류, 쿠폰, 딜러, 컨텐츠, 신권, 신비, 번역, 로쿠로]</td>\n",
       "      <td>[김용하 신이다 컨텐츠갓게임 블루아카이브, 김용하  김용하  김용하  김용하  김용...</td>\n",
       "    </tr>\n",
       "  </tbody>\n",
       "</table>\n",
       "</div>"
      ],
      "text/plain": [
       "   Topic  Count                   Name  \\\n",
       "0     -1   3993      -1_게임_캐릭터_스토리_최적화   \n",
       "1      0   1256          0_확률_리세_삭제_운영   \n",
       "2      1   1128          1_게임_개추_몰루_개꿀   \n",
       "3      2    586         2_용하_사랑_발열_이라니   \n",
       "4      3    513         3_최고_재미_완벽_시로코   \n",
       "5      4    218        4_캐릭터_과금_스토리_픽업   \n",
       "6      5    125          5_서브_게임_방치_마시   \n",
       "7      6    116  6_애플리케이션_다운로드_화면_업데이트   \n",
       "8      7    103          7_게임_확률_방치_성인   \n",
       "9      8     86        8_김용하_미해결_오류_쿠폰   \n",
       "\n",
       "                                      Representation  \\\n",
       "0       [게임, 캐릭터, 스토리, 최적화, 개발, 오류, 확률, 과금, 컨텐츠, 생각]   \n",
       "1         [확률, 리세, 삭제, 운영, 과금, 게임, 업데이트, 픽업, 리뷰, 계정]   \n",
       "2          [게임, 개추, 몰루, 개꿀, 용하, 우흥, 야미, 야호, 필요, 카와이]   \n",
       "3         [용하, 사랑, 발열, 이라니, 청불, 기대, 사료, 지지, 필요, 이오리]   \n",
       "4        [최고, 재미, 완벽, 시로코, 어용, 히나, 아즈사, 아루, 최승일, 해피]   \n",
       "5        [캐릭터, 과금, 스토리, 픽업, 캐릭, 스킬, 천장, 생각, 게임, 컨텐츠]   \n",
       "6           [서브, 게임, 방치, 마시, 선도, 컬쳐, 오류, 초갓, 분만, 로리]   \n",
       "7  [애플리케이션, 다운로드, 화면, 업데이트, 스마트폰, 문제, 실행, 로딩, 플레이...   \n",
       "8          [게임, 확률, 방치, 성인, 주작, 무시, 쓰레기, 조작, 개똥, 바보]   \n",
       "9       [김용하, 미해결, 오류, 쿠폰, 딜러, 컨텐츠, 신권, 신비, 번역, 로쿠로]   \n",
       "\n",
       "                                 Representative_Docs  \n",
       "0  [처음  게임 광고 봤을때 별 흥미 없었지 친구 추천 한번 깔아봤는데 너무 재밌어서...  \n",
       "1  [년전까지 그 괜찮다고 생각했는데 확률업 해 천장찍을때  성 픽업안하는것 안떠서 걍...  \n",
       "2                                 [갓게임입니다, 갓게임, 갓게임]  \n",
       "3                        [용하형 사랑해, 용하형 사랑해, 용하형 사랑해]  \n",
       "4                                 [최고, 최고야 하앙, 최고다제]  \n",
       "5  [게임자체 재미있습니다  캐릭터들 각각 개성들 있고 게임캐릭터들 일러스트 같 것들 ...  \n",
       "6  [서브 스토리 선도부 챕터 선도부 정기 주간 회 그럿듯 오타같은데 수정해주세요, 최...  \n",
       "7  [다운로드 실패 하여 애플리케이션 종료 합니다         계속 뜹니다 접속 못해...  \n",
       "8  [확률 망게임, 확률조작쓰레기게임, 리세 쓸데없 시간 먹게하고 유저별 확률조작한 쓰...  \n",
       "9  [김용하 신이다 컨텐츠갓게임 블루아카이브, 김용하  김용하  김용하  김용하  김용...  "
      ]
     },
     "execution_count": 18,
     "metadata": {},
     "output_type": "execute_result"
    }
   ],
   "source": [
    "model_mecab.get_topic_info()[:10]\n"
   ]
  },
  {
   "cell_type": "code",
   "execution_count": 19,
   "metadata": {},
   "outputs": [
    {
     "data": {
      "text/html": [
       "<div>\n",
       "<style scoped>\n",
       "    .dataframe tbody tr th:only-of-type {\n",
       "        vertical-align: middle;\n",
       "    }\n",
       "\n",
       "    .dataframe tbody tr th {\n",
       "        vertical-align: top;\n",
       "    }\n",
       "\n",
       "    .dataframe thead th {\n",
       "        text-align: right;\n",
       "    }\n",
       "</style>\n",
       "<table border=\"1\" class=\"dataframe\">\n",
       "  <thead>\n",
       "    <tr style=\"text-align: right;\">\n",
       "      <th></th>\n",
       "      <th>Topic</th>\n",
       "      <th>Count</th>\n",
       "      <th>Name</th>\n",
       "      <th>Representation</th>\n",
       "      <th>Representative_Docs</th>\n",
       "    </tr>\n",
       "  </thead>\n",
       "  <tbody>\n",
       "    <tr>\n",
       "      <th>0</th>\n",
       "      <td>-1</td>\n",
       "      <td>4188</td>\n",
       "      <td>-1_게임_개발_스토리_캐릭터</td>\n",
       "      <td>[게임, 개발, 스토리, 캐릭터, 확률, 뽑기, 오류, 운영, 유저, 진짜]</td>\n",
       "      <td>[성 캐릭터 뽑기 너무 힘들고 캐틱터 자꾸 튀어나가는거 오류 안잡는거 참      ...</td>\n",
       "    </tr>\n",
       "    <tr>\n",
       "      <th>1</th>\n",
       "      <td>0</td>\n",
       "      <td>1390</td>\n",
       "      <td>0_심해_게임_꿀잼_발열</td>\n",
       "      <td>[심해, 게임, 꿀잼, 발열, 개추, 응애, 몰루, 정말, 제발, 사료]</td>\n",
       "      <td>[발열 너무 심해요, 발열 너무 심해요, 발열 좀 심해요]</td>\n",
       "    </tr>\n",
       "    <tr>\n",
       "      <th>2</th>\n",
       "      <td>1</td>\n",
       "      <td>896</td>\n",
       "      <td>1_뽑기_확률_계속_픽업</td>\n",
       "      <td>[뽑기, 확률, 계속, 픽업, 리세, 과금, 삭제, 진짜, 캐릭, 그냥]</td>\n",
       "      <td>[계속 리뷰삭제하더니 결국터졌네, 다른건 몰 뽑기 확률 역겹다 진짜    연차 노 ...</td>\n",
       "    </tr>\n",
       "    <tr>\n",
       "      <th>3</th>\n",
       "      <td>2</td>\n",
       "      <td>568</td>\n",
       "      <td>2_최적화_최고_굿굿_최고다</td>\n",
       "      <td>[최적화, 최고, 굿굿, 최고다, 재밋어, 헤으응, 완벽, 와우, 아주, 시로코]</td>\n",
       "      <td>[최고입니다, 최적화 미쳤다 굿, 최적화최적화최적화최적화최적화최적화최적화최적화최적화...</td>\n",
       "    </tr>\n",
       "    <tr>\n",
       "      <th>4</th>\n",
       "      <td>3</td>\n",
       "      <td>478</td>\n",
       "      <td>3_제발_뽑기_운영_게임</td>\n",
       "      <td>[제발, 뽑기, 운영, 게임, 보이스, 발열, 사랑, 리뷰, 튕김, 진짜]</td>\n",
       "      <td>[뽑기만빼면 참 괜찮 게임, 진짜 건전하고 청량함 게임인데    누 게관위좀 없애봐...</td>\n",
       "    </tr>\n",
       "    <tr>\n",
       "      <th>5</th>\n",
       "      <td>4</td>\n",
       "      <td>294</td>\n",
       "      <td>4_캐릭터_과금_컨텐츠_게임</td>\n",
       "      <td>[캐릭터, 과금, 컨텐츠, 게임, 생각, 스토리, 뽑기, 캐릭, 시간, 경쟁]</td>\n",
       "      <td>[솔직히 컨텐츠 추 속도 조금 느린감 있다고 느껴지긴 합니다  가장 중요하다고 생각...</td>\n",
       "    </tr>\n",
       "    <tr>\n",
       "      <th>6</th>\n",
       "      <td>5</td>\n",
       "      <td>113</td>\n",
       "      <td>5_노잼_안함_노답_다운</td>\n",
       "      <td>[노잼, 안함, 노답, 다운, 소통, 재미, 격감, 금임, 외국, 빛강]</td>\n",
       "      <td>[노잼, 노잼, 노잼]</td>\n",
       "    </tr>\n",
       "    <tr>\n",
       "      <th>7</th>\n",
       "      <td>6</td>\n",
       "      <td>103</td>\n",
       "      <td>6_게임_봉정_픽뚥_미래</td>\n",
       "      <td>[게임, 봉정, 픽뚥, 미래, 서브컬쳐, 우리, 로리, 픽뚤, 운영, 캐빨]</td>\n",
       "      <td>[핵 안잡고 오류 안잡지 재화 더주 오류 긴급점검 영구정지   분만 처리하 클라스 ...</td>\n",
       "    </tr>\n",
       "    <tr>\n",
       "      <th>8</th>\n",
       "      <td>7</td>\n",
       "      <td>101</td>\n",
       "      <td>7_애플리케이션_다운로드_다시_화면</td>\n",
       "      <td>[애플리케이션, 다운로드, 다시, 화면, 업데이트, 스마트폰, 문제, 튕겨, 플레이...</td>\n",
       "      <td>[스마트폰 기종         와이파이  기 와이파  칸 남 저장공간     기 넘...</td>\n",
       "    </tr>\n",
       "    <tr>\n",
       "      <th>9</th>\n",
       "      <td>8</td>\n",
       "      <td>99</td>\n",
       "      <td>8_게임_쓰레기_확률_방치</td>\n",
       "      <td>[게임, 쓰레기, 확률, 방치, 주작, 성인, 무시, 조작, 바보, 최악]</td>\n",
       "      <td>[개발사식 주작질 쓰레기게임, 확률조작쓰레기게임, 리세 쓸데없 시간 먹게하고 유저별...</td>\n",
       "    </tr>\n",
       "  </tbody>\n",
       "</table>\n",
       "</div>"
      ],
      "text/plain": [
       "   Topic  Count                 Name  \\\n",
       "0     -1   4188     -1_게임_개발_스토리_캐릭터   \n",
       "1      0   1390        0_심해_게임_꿀잼_발열   \n",
       "2      1    896        1_뽑기_확률_계속_픽업   \n",
       "3      2    568      2_최적화_최고_굿굿_최고다   \n",
       "4      3    478        3_제발_뽑기_운영_게임   \n",
       "5      4    294      4_캐릭터_과금_컨텐츠_게임   \n",
       "6      5    113        5_노잼_안함_노답_다운   \n",
       "7      6    103        6_게임_봉정_픽뚥_미래   \n",
       "8      7    101  7_애플리케이션_다운로드_다시_화면   \n",
       "9      8     99       8_게임_쓰레기_확률_방치   \n",
       "\n",
       "                                      Representation  \\\n",
       "0         [게임, 개발, 스토리, 캐릭터, 확률, 뽑기, 오류, 운영, 유저, 진짜]   \n",
       "1           [심해, 게임, 꿀잼, 발열, 개추, 응애, 몰루, 정말, 제발, 사료]   \n",
       "2           [뽑기, 확률, 계속, 픽업, 리세, 과금, 삭제, 진짜, 캐릭, 그냥]   \n",
       "3      [최적화, 최고, 굿굿, 최고다, 재밋어, 헤으응, 완벽, 와우, 아주, 시로코]   \n",
       "4          [제발, 뽑기, 운영, 게임, 보이스, 발열, 사랑, 리뷰, 튕김, 진짜]   \n",
       "5        [캐릭터, 과금, 컨텐츠, 게임, 생각, 스토리, 뽑기, 캐릭, 시간, 경쟁]   \n",
       "6           [노잼, 안함, 노답, 다운, 소통, 재미, 격감, 금임, 외국, 빛강]   \n",
       "7         [게임, 봉정, 픽뚥, 미래, 서브컬쳐, 우리, 로리, 픽뚤, 운영, 캐빨]   \n",
       "8  [애플리케이션, 다운로드, 다시, 화면, 업데이트, 스마트폰, 문제, 튕겨, 플레이...   \n",
       "9          [게임, 쓰레기, 확률, 방치, 주작, 성인, 무시, 조작, 바보, 최악]   \n",
       "\n",
       "                                 Representative_Docs  \n",
       "0  [성 캐릭터 뽑기 너무 힘들고 캐틱터 자꾸 튀어나가는거 오류 안잡는거 참      ...  \n",
       "1                   [발열 너무 심해요, 발열 너무 심해요, 발열 좀 심해요]  \n",
       "2  [계속 리뷰삭제하더니 결국터졌네, 다른건 몰 뽑기 확률 역겹다 진짜    연차 노 ...  \n",
       "3  [최고입니다, 최적화 미쳤다 굿, 최적화최적화최적화최적화최적화최적화최적화최적화최적화...  \n",
       "4  [뽑기만빼면 참 괜찮 게임, 진짜 건전하고 청량함 게임인데    누 게관위좀 없애봐...  \n",
       "5  [솔직히 컨텐츠 추 속도 조금 느린감 있다고 느껴지긴 합니다  가장 중요하다고 생각...  \n",
       "6                                       [노잼, 노잼, 노잼]  \n",
       "7  [핵 안잡고 오류 안잡지 재화 더주 오류 긴급점검 영구정지   분만 처리하 클라스 ...  \n",
       "8  [스마트폰 기종         와이파이  기 와이파  칸 남 저장공간     기 넘...  \n",
       "9  [개발사식 주작질 쓰레기게임, 확률조작쓰레기게임, 리세 쓸데없 시간 먹게하고 유저별...  "
      ]
     },
     "execution_count": 19,
     "metadata": {},
     "output_type": "execute_result"
    }
   ],
   "source": [
    "model_okt.get_topic_info()[:10]"
   ]
  },
  {
   "cell_type": "code",
   "execution_count": 15,
   "metadata": {},
   "outputs": [
    {
     "data": {
      "application/vnd.plotly.v1+json": {
       "config": {
        "plotlyServerURL": "https://plotly.com"
       },
       "data": [
        {
         "hovertext": "<b>Topic -1</b>:게임_캐릭터_스토리_최적화_개발_오류_확률_과금_컨텐츠_생각",
         "line": {
          "color": "black",
          "width": 1.5
         },
         "mode": "lines+lines",
         "name": "",
         "opacity": 0.1,
         "type": "scatter",
         "x": [
          1,
          2,
          3,
          4,
          5,
          6,
          7,
          8,
          9,
          10
         ],
         "y": [
          0.01634535805190839,
          0.014270843161621112,
          0.013653568595792956,
          0.012495220189816945,
          0.012383349998997258,
          0.012311109180924555,
          0.012225057628454624,
          0.012213112224112626,
          0.011939974678959958,
          0.011816611668876598
         ]
        },
        {
         "hovertext": "<b>Topic 0</b>:확률_리세_삭제_운영_과금_게임_업데이트_픽업_리뷰_계정",
         "line": {
          "color": "black",
          "width": 1.5
         },
         "mode": "lines+lines",
         "name": "",
         "opacity": 0.1,
         "type": "scatter",
         "x": [
          1,
          2,
          3,
          4,
          5,
          6,
          7,
          8,
          9,
          10
         ],
         "y": [
          0.022547231231095862,
          0.01824961911916246,
          0.016932789797190397,
          0.01596836087974567,
          0.015635952358219758,
          0.014246601426664259,
          0.013619725709803287,
          0.013122775845551826,
          0.012766139379121334,
          0.012264846267927489
         ]
        },
        {
         "hovertext": "<b>Topic 1</b>:게임_개추_몰루_개꿀_용하_우흥_야미_야호_필요_카와이",
         "line": {
          "color": "black",
          "width": 1.5
         },
         "mode": "lines+lines",
         "name": "",
         "opacity": 0.1,
         "type": "scatter",
         "x": [
          1,
          2,
          3,
          4,
          5,
          6,
          7,
          8,
          9,
          10
         ],
         "y": [
          0.10603114765169536,
          0.0945740995596808,
          0.07077484660690085,
          0.051048978032761545,
          0.047939021055097265,
          0.03463277685398779,
          0.026016459967060403,
          0.026016459967060403,
          0.025494923235762097,
          0.02430295105993953
         ]
        },
        {
         "hovertext": "<b>Topic 2</b>:용하_사랑_발열_이라니_청불_기대_사료_지지_필요_이오리",
         "line": {
          "color": "black",
          "width": 1.5
         },
         "mode": "lines+lines",
         "name": "",
         "opacity": 0.1,
         "type": "scatter",
         "x": [
          1,
          2,
          3,
          4,
          5,
          6,
          7,
          8,
          9,
          10
         ],
         "y": [
          0.08955363300002339,
          0.07537599309433393,
          0.06401562993513146,
          0.04395810590480613,
          0.03756672628380761,
          0.034192310499988575,
          0.032346893641041104,
          0.02774948908739308,
          0.02645911118575134,
          0.022540035770284565
         ]
        },
        {
         "hovertext": "<b>Topic 3</b>:최고_재미_완벽_시로코_어용_히나_아즈사_아루_최승일_해피",
         "line": {
          "color": "black",
          "width": 1.5
         },
         "mode": "lines+lines",
         "name": "",
         "opacity": 0.1,
         "type": "scatter",
         "x": [
          1,
          2,
          3,
          4,
          5,
          6,
          7,
          8,
          9,
          10
         ],
         "y": [
          0.5439776456023272,
          0.16531056187709223,
          0.13651839904537802,
          0.12961065462126173,
          0.09096125262557415,
          0.06457545628471444,
          0.05713348585922796,
          0.05449493561846876,
          0.05060706344863596,
          0.04548062631278708
         ]
        },
        {
         "hovertext": "<b>Topic 4</b>:캐릭터_과금_스토리_픽업_캐릭_스킬_천장_생각_게임_컨텐츠",
         "line": {
          "color": "black",
          "width": 1.5
         },
         "mode": "lines+lines",
         "name": "",
         "opacity": 0.1,
         "type": "scatter",
         "x": [
          1,
          2,
          3,
          4,
          5,
          6,
          7,
          8,
          9,
          10
         ],
         "y": [
          0.025608216920070672,
          0.025479424909306818,
          0.01928687767875784,
          0.017735226479751235,
          0.016966531001084532,
          0.016446188313176808,
          0.01622545950419741,
          0.016169239281904647,
          0.01610227829614077,
          0.015877193538766494
         ]
        },
        {
         "hovertext": "<b>Topic 5</b>:서브_게임_방치_마시_선도_컬쳐_오류_초갓_분만_로리",
         "line": {
          "color": "black",
          "width": 1.5
         },
         "mode": "lines+lines",
         "name": "",
         "opacity": 0.1,
         "type": "scatter",
         "x": [
          1,
          2,
          3,
          4,
          5,
          6,
          7,
          8,
          9,
          10
         ],
         "y": [
          0.0505480574444367,
          0.045083499414475876,
          0.04099927743113423,
          0.03793664169516944,
          0.030776363670307044,
          0.027071191705036714,
          0.025178187089090052,
          0.024523784720762058,
          0.024523784720762058,
          0.02385982404285216
         ]
        },
        {
         "hovertext": "<b>Topic 6</b>:애플리케이션_다운로드_화면_업데이트_스마트폰_문제_실행_로딩_플",
         "line": {
          "color": "black",
          "width": 1.5
         },
         "mode": "lines+lines",
         "name": "",
         "opacity": 0.1,
         "type": "scatter",
         "x": [
          1,
          2,
          3,
          4,
          5,
          6,
          7,
          8,
          9,
          10
         ],
         "y": [
          0.03980778074807323,
          0.03639568525538124,
          0.02958224316123878,
          0.027128786369180365,
          0.02264510327034875,
          0.022486515439397056,
          0.02156557428720911,
          0.02146378867897669,
          0.019797997312594174,
          0.01922696089333149
         ]
        },
        {
         "hovertext": "<b>Topic 7</b>:게임_확률_방치_성인_주작_무시_쓰레기_조작_개똥_바보",
         "line": {
          "color": "black",
          "width": 1.5
         },
         "mode": "lines+lines",
         "name": "",
         "opacity": 0.1,
         "type": "scatter",
         "x": [
          1,
          2,
          3,
          4,
          5,
          6,
          7,
          8,
          9,
          10
         ],
         "y": [
          0.06229910290681455,
          0.05709386082260614,
          0.053855840971267686,
          0.0510974436849774,
          0.050217521118869866,
          0.04888585689196711,
          0.04830067409799819,
          0.04665419001353359,
          0.040267448985942644,
          0.0382166415798557
         ]
        },
        {
         "hovertext": "<b>Topic 8</b>:김용하_미해결_오류_쿠폰_딜러_컨텐츠_신권_신비_번역_로쿠로",
         "line": {
          "color": "black",
          "width": 1.5
         },
         "mode": "lines+lines",
         "name": "",
         "opacity": 0.1,
         "type": "scatter",
         "x": [
          1,
          2,
          3,
          4,
          5,
          6,
          7,
          8,
          9,
          10
         ],
         "y": [
          0.18200632717866205,
          0.05453727618944849,
          0.0357468469702897,
          0.033666907356739224,
          0.03150821684721516,
          0.02875839509188033,
          0.02674301950933699,
          0.025391981217688157,
          0.02489568058368393,
          0.024763550161754782
         ]
        },
        {
         "hovertext": "<b>Topic 9</b>:확률_주작_수준_오류_눈물_불안_극악_발열_탈피_탁상",
         "line": {
          "color": "black",
          "width": 1.5
         },
         "mode": "lines+lines",
         "name": "",
         "opacity": 0.1,
         "type": "scatter",
         "x": [
          1,
          2,
          3,
          4,
          5,
          6,
          7,
          8,
          9,
          10
         ],
         "y": [
          0.21380868770383493,
          0.08358121665674914,
          0.0706580805851638,
          0.06880888115443104,
          0.0652059574869727,
          0.062178498403884196,
          0.05720129127246924,
          0.049237795525956,
          0.04679420250387572,
          0.04679420250387572
         ]
        },
        {
         "hovertext": "<b>Topic 10</b>:캐릭터_스토리_매력_개성_게임_인생_디자인_컨텐츠_최고_정도",
         "line": {
          "color": "black",
          "width": 1.5
         },
         "mode": "lines+lines",
         "name": "",
         "opacity": 0.1,
         "type": "scatter",
         "x": [
          1,
          2,
          3,
          4,
          5,
          6,
          7,
          8,
          9,
          10
         ],
         "y": [
          0.05392852769960874,
          0.052977879193550015,
          0.04193759876491609,
          0.04065256729297125,
          0.03896990794105028,
          0.030427931899511745,
          0.028165140110282132,
          0.027641432502416623,
          0.027163111926961515,
          0.026392033206188856
         ]
        },
        {
         "hovertext": "<b>Topic 11</b>:개발_발사_사답_사식_파우스트_사이다_에덴_조약_사이_사임",
         "line": {
          "color": "black",
          "width": 1.5
         },
         "mode": "lines+lines",
         "name": "",
         "opacity": 0.1,
         "type": "scatter",
         "x": [
          1,
          2,
          3,
          4,
          5,
          6,
          7,
          8,
          9,
          10
         ],
         "y": [
          0.4330256876548111,
          0.42248667673073814,
          0.12346822121676299,
          0.11585537493690208,
          0.09669109531064969,
          0.07312318034570815,
          0.07148079344068577,
          0.06999666156598507,
          0.06368593806269779,
          0.048345547655324846
         ]
        },
        {
         "hovertext": "<b>Topic 12</b>:한국_일본_서버_중국_글로벌_한국어_출시_유저_게임_일본어",
         "line": {
          "color": "black",
          "width": 1.5
         },
         "mode": "lines+lines",
         "name": "",
         "opacity": 0.1,
         "type": "scatter",
         "x": [
          1,
          2,
          3,
          4,
          5,
          6,
          7,
          8,
          9,
          10
         ],
         "y": [
          0.06828004903848187,
          0.06622343063898535,
          0.04832265132998754,
          0.03378934070753338,
          0.0327130939297653,
          0.025128592448858234,
          0.021980584346852208,
          0.020207001369790527,
          0.018297015453709563,
          0.01753022894760027
         ]
        },
        {
         "hovertext": "<b>Topic 13</b>:다운_이거_필요_알람_설명_이것_시로코_이건_소통_인생",
         "line": {
          "color": "black",
          "width": 1.5
         },
         "mode": "lines+lines",
         "name": "",
         "opacity": 0.1,
         "type": "scatter",
         "x": [
          1,
          2,
          3,
          4,
          5,
          6,
          7,
          8,
          9,
          10
         ],
         "y": [
          0.22913916940954532,
          0.22423331127930332,
          0.16044805023039613,
          0.14255112150599492,
          0.13596447500684536,
          0.12286655914084021,
          0.11664958915913555,
          0.1072891800592187,
          0.1046518135000065,
          0.09615226480245712
         ]
        },
        {
         "hovertext": "<b>Topic 14</b>:캐릭터_애착_스토리_다양_마다_개성_음악_매력_문화_하스미",
         "line": {
          "color": "black",
          "width": 1.5
         },
         "mode": "lines+lines",
         "name": "",
         "opacity": 0.1,
         "type": "scatter",
         "x": [
          1,
          2,
          3,
          4,
          5,
          6,
          7,
          8,
          9,
          10
         ],
         "y": [
          0.21806948720586847,
          0.10428175363901325,
          0.09812314371207276,
          0.08377265395966377,
          0.08081432744436456,
          0.0681238476151912,
          0.06763481059419596,
          0.05749956723222792,
          0.055817132292965956,
          0.055817132292965956
         ]
        },
        {
         "hovertext": "<b>Topic 15</b>:브루_개꿀_개추_체고_화이팅_배드_비고_호시_바레_미침",
         "line": {
          "color": "black",
          "width": 1.5
         },
         "mode": "lines+lines",
         "name": "",
         "opacity": 0.1,
         "type": "scatter",
         "x": [
          1,
          2,
          3,
          4,
          5,
          6,
          7,
          8,
          9,
          10
         ],
         "y": [
          0.4659519096944791,
          0.19123109231320196,
          0.17713878965146562,
          0.1626655610849013,
          0.15907489332598668,
          0.14618772743395844,
          0.14618772743395844,
          0.14618772743395844,
          0.14618772743395844,
          0.13655943928918401
         ]
        },
        {
         "hovertext": "<b>Topic 16</b>:로그인_계정_페이스북_접속_업데이트_네이버_설치_애플리케이션_",
         "line": {
          "color": "black",
          "width": 1.5
         },
         "mode": "lines+lines",
         "name": "",
         "opacity": 0.1,
         "type": "scatter",
         "x": [
          1,
          2,
          3,
          4,
          5,
          6,
          7,
          8,
          9,
          10
         ],
         "y": [
          0.13362221641248817,
          0.07951124623407849,
          0.060520405113113955,
          0.056591106302564725,
          0.05493894690763317,
          0.05381944901821372,
          0.05315441324316885,
          0.052822271200643305,
          0.0464943285249944,
          0.04565190529863174
         ]
        },
        {
         "hovertext": "<b>Topic 17</b>:완벽_건강_최애_게임_최고_용가_세사_오랫동안_초갓_이게",
         "line": {
          "color": "black",
          "width": 1.5
         },
         "mode": "lines+lines",
         "name": "",
         "opacity": 0.1,
         "type": "scatter",
         "x": [
          1,
          2,
          3,
          4,
          5,
          6,
          7,
          8,
          9,
          10
         ],
         "y": [
          0.15358319892605027,
          0.14461913608117077,
          0.11900087241372517,
          0.09795617768818547,
          0.08345111608672065,
          0.0767485569028282,
          0.07169370562682162,
          0.06533526706053709,
          0.061156188147400384,
          0.05691224807033036
         ]
        },
        {
         "hovertext": "<b>Topic 18</b>:건전_게임_정말_사운드_에바_아트_힐링_혜자_안전_친구",
         "line": {
          "color": "black",
          "width": 1.5
         },
         "mode": "lines+lines",
         "name": "",
         "opacity": 0.1,
         "type": "scatter",
         "x": [
          1,
          2,
          3,
          4,
          5,
          6,
          7,
          8,
          9,
          10
         ],
         "y": [
          0.19049091469028792,
          0.11194991735792624,
          0.09759933665094078,
          0.09542366538988882,
          0.06989278645417187,
          0.06800049852212867,
          0.05376160069852437,
          0.05143526423956976,
          0.048997374099540116,
          0.04328909257822781
         ]
        },
        {
         "hovertext": "<b>Topic 19</b>:김용하_신인_무적_대머리_유일_희망_우리_한국_게임_",
         "line": {
          "color": "black",
          "width": 1.5
         },
         "mode": "lines+lines",
         "name": "",
         "opacity": 0.1,
         "type": "scatter",
         "x": [
          1,
          2,
          3,
          4,
          5,
          6,
          7,
          8,
          9,
          10
         ],
         "y": [
          1.2678218517146116,
          0.17369804917604842,
          0.033937848817430345,
          0.026300520765917462,
          0.023762443423533973,
          0.023762443423533973,
          0.015049082651042335,
          0.012989982433177203,
          0.0010538588239718716,
          0.00001
         ]
        },
        {
         "hovertext": "<b>Topic 20</b>:최악_스트레스_오류_유저_게임_요소_문제_사람_컨텐츠_게임즈",
         "line": {
          "color": "black",
          "width": 1.5
         },
         "mode": "lines+lines",
         "name": "",
         "opacity": 0.1,
         "type": "scatter",
         "x": [
          1,
          2,
          3,
          4,
          5,
          6,
          7,
          8,
          9,
          10
         ],
         "y": [
          0.02657184369374844,
          0.025950689939226796,
          0.024070092852760617,
          0.021628881163528627,
          0.021560914956014685,
          0.02139562762251846,
          0.021220231132851566,
          0.02072004029012903,
          0.019275803497902134,
          0.018161253451550483
         ]
        },
        {
         "hovertext": "<b>Topic 21</b>:사랑_시로코_유우카_카모_블루_아카이브_포에버_미유_카요코_충",
         "line": {
          "color": "black",
          "width": 1.5
         },
         "mode": "lines+lines",
         "name": "",
         "opacity": 0.1,
         "type": "scatter",
         "x": [
          1,
          2,
          3,
          4,
          5,
          6,
          7,
          8,
          9,
          10
         ],
         "y": [
          1.061078622787952,
          0.2083028377841706,
          0.17738112593499297,
          0.14933775328122761,
          0.12001914034771421,
          0.11612108600442556,
          0.08771263646037507,
          0.08193566357351041,
          0.08193566357351041,
          0.08193566357351041
         ]
        },
        {
         "hovertext": "<b>Topic 22</b>:용하_당신_김용하_자고_신앙_세기_찬양_차원_신인_우마",
         "line": {
          "color": "black",
          "width": 1.5
         },
         "mode": "lines+lines",
         "name": "",
         "opacity": 0.1,
         "type": "scatter",
         "x": [
          1,
          2,
          3,
          4,
          5,
          6,
          7,
          8,
          9,
          10
         ],
         "y": [
          0.9037498288848516,
          0.16461023545179715,
          0.13206477622027205,
          0.13138372241472798,
          0.11029800865664864,
          0.10478635048129638,
          0.10478635048129638,
          0.10478635048129638,
          0.0940864433036929,
          0.09153913262594245
         ]
        },
        {
         "hovertext": "<b>Topic 23</b>:최고_세기_세상_세계_인생_게임_카미_역사_예정_시대",
         "line": {
          "color": "black",
          "width": 1.5
         },
         "mode": "lines+lines",
         "name": "",
         "opacity": 0.1,
         "type": "scatter",
         "x": [
          1,
          2,
          3,
          4,
          5,
          6,
          7,
          8,
          9,
          10
         ],
         "y": [
          0.6235907575710994,
          0.11975582912148158,
          0.09975890952711092,
          0.09579875382897197,
          0.07924637208993718,
          0.07632948910767698,
          0.06747125881567315,
          0.05743759741585678,
          0.05230807578625282,
          0.04789937691448599
         ]
        },
        {
         "hovertext": "<b>Topic 24</b>:학생_스토리_블루_아카이브_스마트폰_인생_최고_감사_사랑_클리",
         "line": {
          "color": "black",
          "width": 1.5
         },
         "mode": "lines+lines",
         "name": "",
         "opacity": 0.1,
         "type": "scatter",
         "x": [
          1,
          2,
          3,
          4,
          5,
          6,
          7,
          8,
          9,
          10
         ],
         "y": [
          0.05429737345759422,
          0.03185816354288077,
          0.030858915791882442,
          0.02799061990464803,
          0.026571176690378673,
          0.026488227218307746,
          0.025288216995975953,
          0.024862817700991136,
          0.023609505275002114,
          0.020047593596017575
         ]
        },
        {
         "hovertext": "<b>Topic 25</b>:아카이브_출신_은행_아카이_전설_이모티콘_아카_몰루_출시_게임",
         "line": {
          "color": "black",
          "width": 1.5
         },
         "mode": "lines+lines",
         "name": "",
         "opacity": 0.1,
         "type": "scatter",
         "x": [
          1,
          2,
          3,
          4,
          5,
          6,
          7,
          8,
          9,
          10
         ],
         "y": [
          0.5418984013539859,
          0.45546357103772367,
          0.34845475765619777,
          0.33637155636383576,
          0.3095547967968312,
          0.29631920062933675,
          0.27592619589887796,
          0.22270485065638135,
          0.17275111105192736,
          0.011873476083416419
         ]
        },
        {
         "hovertext": "<b>Topic 26</b>:블루아_블루_아카_아카이브_화이팅_캠프_학력_이대로_테마_가즈",
         "line": {
          "color": "black",
          "width": 1.5
         },
         "mode": "lines+lines",
         "name": "",
         "opacity": 0.1,
         "type": "scatter",
         "x": [
          1,
          2,
          3,
          4,
          5,
          6,
          7,
          8,
          9,
          10
         ],
         "y": [
          0.3535875560933042,
          0.345734149149794,
          0.255487218424887,
          0.2508788895157342,
          0.24744983406264595,
          0.0843451057477266,
          0.0843451057477266,
          0.07080859814994726,
          0.07080859814994726,
          0.06727024969169643
         ]
        },
        {
         "hovertext": "<b>Topic 27</b>:_________",
         "line": {
          "color": "black",
          "width": 1.5
         },
         "mode": "lines+lines",
         "name": "",
         "opacity": 0.1,
         "type": "scatter",
         "x": [
          1,
          2,
          3,
          4,
          5,
          6,
          7,
          8,
          9,
          10
         ],
         "y": [
          0.00001,
          0.00001,
          0.00001,
          0.00001,
          0.00001,
          0.00001,
          0.00001,
          0.00001,
          0.00001,
          0.00001
         ]
        },
        {
         "hovertext": "<b>Topic 28</b>:호시노_미카_히후_다이스_오타쿠_비키_이오리_큐라_사마_아이시",
         "line": {
          "color": "black",
          "width": 1.5
         },
         "mode": "lines+lines",
         "name": "",
         "opacity": 0.1,
         "type": "scatter",
         "x": [
          1,
          2,
          3,
          4,
          5,
          6,
          7,
          8,
          9,
          10
         ],
         "y": [
          0.9409483231360234,
          0.8831015391495997,
          0.17080754538552617,
          0.13754793065376228,
          0.09195830290774358,
          0.08509224039168842,
          0.07493573295559516,
          0.07045356032591651,
          0.05385863642303732,
          0.05385863642303732
         ]
        },
        {
         "hovertext": "<b>Topic 29</b>:이게_오랜만_웰메이드_우리_게임_____",
         "line": {
          "color": "black",
          "width": 1.5
         },
         "mode": "lines+lines",
         "name": "",
         "opacity": 0.1,
         "type": "scatter",
         "x": [
          1,
          2,
          3,
          4,
          5,
          6,
          7,
          8,
          9,
          10
         ],
         "y": [
          0.3331448667531533,
          0.24871550306130247,
          0.1274834479229992,
          0.12406316917200755,
          0.11294282128127814,
          0.00001,
          0.00001,
          0.00001,
          0.00001,
          0.00001
         ]
        },
        {
         "hovertext": "<b>Topic 30</b>:배너_공지_에바_난무_방치_정지하_한빛_핵판_깔개_의사소통",
         "line": {
          "color": "black",
          "width": 1.5
         },
         "mode": "lines+lines",
         "name": "",
         "opacity": 0.1,
         "type": "scatter",
         "x": [
          1,
          2,
          3,
          4,
          5,
          6,
          7,
          8,
          9,
          10
         ],
         "y": [
          0.6197874848086735,
          0.39002470556991514,
          0.21271717616487087,
          0.15150206854617296,
          0.14224966691323965,
          0.09901381979080949,
          0.09901381979080949,
          0.09901381979080949,
          0.08898383409023558,
          0.08312313695863376
         ]
        },
        {
         "hovertext": "<b>Topic 31</b>:건전_희망_유익_수상_기적_시대_게임_안전_세계관_선생",
         "line": {
          "color": "black",
          "width": 1.5
         },
         "mode": "lines+lines",
         "name": "",
         "opacity": 0.1,
         "type": "scatter",
         "x": [
          1,
          2,
          3,
          4,
          5,
          6,
          7,
          8,
          9,
          10
         ],
         "y": [
          0.2777992505900032,
          0.2509908086610776,
          0.19187139225707048,
          0.19187139225707048,
          0.1633381676513427,
          0.13621385310056952,
          0.11131383828202893,
          0.107181755842744,
          0.107181755842744,
          0.08604873766347436
         ]
        },
        {
         "hovertext": "<b>Topic 32</b>:세용_이게_뭘까요_누가_뭔데_튜버_시기_누구_에러_장난",
         "line": {
          "color": "black",
          "width": 1.5
         },
         "mode": "lines+lines",
         "name": "",
         "opacity": 0.1,
         "type": "scatter",
         "x": [
          1,
          2,
          3,
          4,
          5,
          6,
          7,
          8,
          9,
          10
         ],
         "y": [
          0.27908566146482977,
          0.2759381724622078,
          0.2476768284103369,
          0.23758278931104396,
          0.23758278931104396,
          0.22238613871781956,
          0.21106008872511214,
          0.19453936917030573,
          0.18253876993532916,
          0.17757936128760465
         ]
        },
        {
         "hovertext": "<b>Topic 33</b>:개발_개발자_진심_인갑_망침_최초_열정_담당_근본_실력",
         "line": {
          "color": "black",
          "width": 1.5
         },
         "mode": "lines+lines",
         "name": "",
         "opacity": 0.1,
         "type": "scatter",
         "x": [
          1,
          2,
          3,
          4,
          5,
          6,
          7,
          8,
          9,
          10
         ],
         "y": [
          0.24676912584944047,
          0.18718797296760875,
          0.14423168880788523,
          0.09488824396619243,
          0.08527617433647576,
          0.07965967291869068,
          0.07259474117837453,
          0.07259474117837453,
          0.07259474117837453,
          0.06449058266600649
         ]
        },
        {
         "hovertext": "<b>Topic 34</b>:발열_항마_문제_필요_로딩_____",
         "line": {
          "color": "black",
          "width": 1.5
         },
         "mode": "lines+lines",
         "name": "",
         "opacity": 0.1,
         "type": "scatter",
         "x": [
          1,
          2,
          3,
          4,
          5,
          6,
          7,
          8,
          9,
          10
         ],
         "y": [
          1.4515680873325107,
          0.19406051328682833,
          0.11767582719126778,
          0.07713848568769044,
          0.06912228987297671,
          0.00001,
          0.00001,
          0.00001,
          0.00001,
          0.00001
         ]
        },
        {
         "hovertext": "<b>Topic 35</b>:감사_피드백_첫비_재공_최고_시선_경험_역사_존중_자분",
         "line": {
          "color": "black",
          "width": 1.5
         },
         "mode": "lines+lines",
         "name": "",
         "opacity": 0.1,
         "type": "scatter",
         "x": [
          1,
          2,
          3,
          4,
          5,
          6,
          7,
          8,
          9,
          10
         ],
         "y": [
          0.33059351009010185,
          0.0847584680329206,
          0.075076412808416,
          0.075076412808416,
          0.0733636185377764,
          0.06747125881567315,
          0.0637048027494581,
          0.05743759741585678,
          0.05743759741585678,
          0.053763681887824516
         ]
        },
        {
         "hovertext": "<b>Topic 36</b>:감사_바레_시로코_손패_압도_도입_오늘_리트_사과_희망",
         "line": {
          "color": "black",
          "width": 1.5
         },
         "mode": "lines+lines",
         "name": "",
         "opacity": 0.1,
         "type": "scatter",
         "x": [
          1,
          2,
          3,
          4,
          5,
          6,
          7,
          8,
          9,
          10
         ],
         "y": [
          0.9294246812126604,
          0.14975328176161598,
          0.14225559653553116,
          0.13989015732062754,
          0.1274834479229992,
          0.11932914760468367,
          0.11932914760468367,
          0.11609841211095139,
          0.10260542794265344,
          0.09794763264822541
         ]
        },
        {
         "hovertext": "<b>Topic 37</b>:블루_아카이브_건강_감동_제작진_전설_인기_건전_유지_하나",
         "line": {
          "color": "black",
          "width": 1.5
         },
         "mode": "lines+lines",
         "name": "",
         "opacity": 0.1,
         "type": "scatter",
         "x": [
          1,
          2,
          3,
          4,
          5,
          6,
          7,
          8,
          9,
          10
         ],
         "y": [
          0.40309458753146443,
          0.3900026373380959,
          0.17529592252263124,
          0.12169251329021945,
          0.07212174085680313,
          0.07035336290837071,
          0.06877318762853858,
          0.06734527287030381,
          0.05636234216182997,
          0.054736520613043446
         ]
        },
        {
         "hovertext": "<b>Topic 38</b>:한국_일본어_일본_한국어_공부_대한민국_운운_흥행_개똥_전설",
         "line": {
          "color": "black",
          "width": 1.5
         },
         "mode": "lines+lines",
         "name": "",
         "opacity": 0.1,
         "type": "scatter",
         "x": [
          1,
          2,
          3,
          4,
          5,
          6,
          7,
          8,
          9,
          10
         ],
         "y": [
          0.44650312499124356,
          0.1891481991193616,
          0.14435143278472207,
          0.1291110730665307,
          0.09721180423975812,
          0.0923540716106341,
          0.0923540716106341,
          0.08292364494562764,
          0.08292364494562764,
          0.07870037206699097
         ]
        },
        {
         "hovertext": "<b>Topic 39</b>:화면_게스트_수령_유효_플레이_로그인_정보_도중_타이틀_감지",
         "line": {
          "color": "black",
          "width": 1.5
         },
         "mode": "lines+lines",
         "name": "",
         "opacity": 0.1,
         "type": "scatter",
         "x": [
          1,
          2,
          3,
          4,
          5,
          6,
          7,
          8,
          9,
          10
         ],
         "y": [
          0.14657307166319616,
          0.1376476831332071,
          0.11003834452300983,
          0.10299989582720064,
          0.09073734768319476,
          0.08790935290295274,
          0.07831399121433216,
          0.0766029102668882,
          0.0766029102668882,
          0.06463036370764479
         ]
        },
        {
         "hovertext": "<b>Topic 40</b>:학생_친절_선생_캐디_초등학생_고등학생_찐따_사장_청춘_세계",
         "line": {
          "color": "black",
          "width": 1.5
         },
         "mode": "lines+lines",
         "name": "",
         "opacity": 0.1,
         "type": "scatter",
         "x": [
          1,
          2,
          3,
          4,
          5,
          6,
          7,
          8,
          9,
          10
         ],
         "y": [
          0.6915770724598842,
          0.32360173428067623,
          0.21181227732547536,
          0.17517829655297062,
          0.15743293723657065,
          0.13402106063699915,
          0.1254485910715905,
          0.12205217683458991,
          0.11905953722955044,
          0.11176521280046729
         ]
        },
        {
         "hovertext": "<b>Topic 41</b>:재화_무능_존재_의문점_말풍선_모드_요약_스택_수준_패턴",
         "line": {
          "color": "black",
          "width": 1.5
         },
         "mode": "lines+lines",
         "name": "",
         "opacity": 0.1,
         "type": "scatter",
         "x": [
          1,
          2,
          3,
          4,
          5,
          6,
          7,
          8,
          9,
          10
         ],
         "y": [
          0.04504837775374561,
          0.040754942415929564,
          0.03643350287949945,
          0.033540914913132915,
          0.03186485511711936,
          0.02837144824699563,
          0.02715392954358168,
          0.02715392954358168,
          0.02513664660193449,
          0.024601301436542634
         ]
        },
        {
         "hovertext": "<b>Topic 42</b>:최악_세계_속보_멸망_사상_퍼블리싱_금유_실망_회사_모습",
         "line": {
          "color": "black",
          "width": 1.5
         },
         "mode": "lines+lines",
         "name": "",
         "opacity": 0.1,
         "type": "scatter",
         "x": [
          1,
          2,
          3,
          4,
          5,
          6,
          7,
          8,
          9,
          10
         ],
         "y": [
          1.0298087843565888,
          0.22941280522201182,
          0.16157590926911197,
          0.16157590926911197,
          0.13754793065376228,
          0.12219268294611756,
          0.1089182352232413,
          0.08790980946962422,
          0.08509224039168842,
          0.08256743339455812
         ]
        },
        {
         "hovertext": "<b>Topic 43</b>:한국_일본어_번역_일본_이거_한국인_자막_배경_지명_정목",
         "line": {
          "color": "black",
          "width": 1.5
         },
         "mode": "lines+lines",
         "name": "",
         "opacity": 0.1,
         "type": "scatter",
         "x": [
          1,
          2,
          3,
          4,
          5,
          6,
          7,
          8,
          9,
          10
         ],
         "y": [
          0.13349840054636844,
          0.10053823196434536,
          0.09792461233447106,
          0.08631825541518853,
          0.0757544970538187,
          0.07363365168955961,
          0.06611479799718961,
          0.05211500399321469,
          0.04616184841598551,
          0.04616184841598551
         ]
        },
        {
         "hovertext": "<b>Topic 44</b>:이거_떡칠_검열_이게_불가_사용_뉴비_버전_이해_이상",
         "line": {
          "color": "black",
          "width": 1.5
         },
         "mode": "lines+lines",
         "name": "",
         "opacity": 0.1,
         "type": "scatter",
         "x": [
          1,
          2,
          3,
          4,
          5,
          6,
          7,
          8,
          9,
          10
         ],
         "y": [
          0.3249758134482657,
          0.26695150227070674,
          0.20188356312836814,
          0.19795564546201863,
          0.17995186689057258,
          0.17927759653700467,
          0.1698585194924914,
          0.15193110915192418,
          0.12239583466375518,
          0.08017435476399708
         ]
        },
        {
         "hovertext": "<b>Topic 45</b>:발열_문제_로딩_______",
         "line": {
          "color": "black",
          "width": 1.5
         },
         "mode": "lines+lines",
         "name": "",
         "opacity": 0.1,
         "type": "scatter",
         "x": [
          1,
          2,
          3,
          4,
          5,
          6,
          7,
          8,
          9,
          10
         ],
         "y": [
          1.4602083735666327,
          0.19122321918581012,
          0.11232372104358714,
          0.00001,
          0.00001,
          0.00001,
          0.00001,
          0.00001,
          0.00001,
          0.00001
         ]
        },
        {
         "hovertext": "<b>Topic 46</b>:정의_승리_의외_오늘_청계천_친화_힐링_자기_만족_가능",
         "line": {
          "color": "black",
          "width": 1.5
         },
         "mode": "lines+lines",
         "name": "",
         "opacity": 0.1,
         "type": "scatter",
         "x": [
          1,
          2,
          3,
          4,
          5,
          6,
          7,
          8,
          9,
          10
         ],
         "y": [
          0.40932563681508366,
          0.33637155636383576,
          0.3261663367861354,
          0.3261663367861354,
          0.3095547967968312,
          0.30260202556556975,
          0.25088746992644706,
          0.1980959720656631,
          0.15895087493388751,
          0.14950947046846746
         ]
        },
        {
         "hovertext": "<b>Topic 47</b>:스마트폰_인생_탄생_지름_최고_줄기_단위_손가락_스스_시장",
         "line": {
          "color": "black",
          "width": 1.5
         },
         "mode": "lines+lines",
         "name": "",
         "opacity": 0.1,
         "type": "scatter",
         "x": [
          1,
          2,
          3,
          4,
          5,
          6,
          7,
          8,
          9,
          10
         ],
         "y": [
          0.4121938948122846,
          0.13868115115739008,
          0.13138372241472798,
          0.13138372241472798,
          0.1283863324411087,
          0.118074702927428,
          0.10478635048129638,
          0.10478635048129638,
          0.09703025664341416,
          0.0940864433036929
         ]
        },
        {
         "hovertext": "<b>Topic 48</b>:안전_블루아_블루_아카이브_국민_여러분_우리___",
         "line": {
          "color": "black",
          "width": 1.5
         },
         "mode": "lines+lines",
         "name": "",
         "opacity": 0.1,
         "type": "scatter",
         "x": [
          1,
          2,
          3,
          4,
          5,
          6,
          7,
          8,
          9,
          10
         ],
         "y": [
          1.347427787737353,
          0.37195574082542393,
          0.2500398757244046,
          0.24191892917588656,
          0.20483915893377602,
          0.1299513656313282,
          0.09083196314379123,
          0.00001,
          0.00001,
          0.00001
         ]
        }
       ],
       "layout": {
        "height": 500,
        "hoverlabel": {
         "bgcolor": "white",
         "font": {
          "family": "Rockwell",
          "size": 16
         }
        },
        "showlegend": false,
        "template": {
         "data": {
          "bar": [
           {
            "error_x": {
             "color": "#2a3f5f"
            },
            "error_y": {
             "color": "#2a3f5f"
            },
            "marker": {
             "line": {
              "color": "white",
              "width": 0.5
             },
             "pattern": {
              "fillmode": "overlay",
              "size": 10,
              "solidity": 0.2
             }
            },
            "type": "bar"
           }
          ],
          "barpolar": [
           {
            "marker": {
             "line": {
              "color": "white",
              "width": 0.5
             },
             "pattern": {
              "fillmode": "overlay",
              "size": 10,
              "solidity": 0.2
             }
            },
            "type": "barpolar"
           }
          ],
          "carpet": [
           {
            "aaxis": {
             "endlinecolor": "#2a3f5f",
             "gridcolor": "#C8D4E3",
             "linecolor": "#C8D4E3",
             "minorgridcolor": "#C8D4E3",
             "startlinecolor": "#2a3f5f"
            },
            "baxis": {
             "endlinecolor": "#2a3f5f",
             "gridcolor": "#C8D4E3",
             "linecolor": "#C8D4E3",
             "minorgridcolor": "#C8D4E3",
             "startlinecolor": "#2a3f5f"
            },
            "type": "carpet"
           }
          ],
          "choropleth": [
           {
            "colorbar": {
             "outlinewidth": 0,
             "ticks": ""
            },
            "type": "choropleth"
           }
          ],
          "contour": [
           {
            "colorbar": {
             "outlinewidth": 0,
             "ticks": ""
            },
            "colorscale": [
             [
              0,
              "#0d0887"
             ],
             [
              0.1111111111111111,
              "#46039f"
             ],
             [
              0.2222222222222222,
              "#7201a8"
             ],
             [
              0.3333333333333333,
              "#9c179e"
             ],
             [
              0.4444444444444444,
              "#bd3786"
             ],
             [
              0.5555555555555556,
              "#d8576b"
             ],
             [
              0.6666666666666666,
              "#ed7953"
             ],
             [
              0.7777777777777778,
              "#fb9f3a"
             ],
             [
              0.8888888888888888,
              "#fdca26"
             ],
             [
              1,
              "#f0f921"
             ]
            ],
            "type": "contour"
           }
          ],
          "contourcarpet": [
           {
            "colorbar": {
             "outlinewidth": 0,
             "ticks": ""
            },
            "type": "contourcarpet"
           }
          ],
          "heatmap": [
           {
            "colorbar": {
             "outlinewidth": 0,
             "ticks": ""
            },
            "colorscale": [
             [
              0,
              "#0d0887"
             ],
             [
              0.1111111111111111,
              "#46039f"
             ],
             [
              0.2222222222222222,
              "#7201a8"
             ],
             [
              0.3333333333333333,
              "#9c179e"
             ],
             [
              0.4444444444444444,
              "#bd3786"
             ],
             [
              0.5555555555555556,
              "#d8576b"
             ],
             [
              0.6666666666666666,
              "#ed7953"
             ],
             [
              0.7777777777777778,
              "#fb9f3a"
             ],
             [
              0.8888888888888888,
              "#fdca26"
             ],
             [
              1,
              "#f0f921"
             ]
            ],
            "type": "heatmap"
           }
          ],
          "heatmapgl": [
           {
            "colorbar": {
             "outlinewidth": 0,
             "ticks": ""
            },
            "colorscale": [
             [
              0,
              "#0d0887"
             ],
             [
              0.1111111111111111,
              "#46039f"
             ],
             [
              0.2222222222222222,
              "#7201a8"
             ],
             [
              0.3333333333333333,
              "#9c179e"
             ],
             [
              0.4444444444444444,
              "#bd3786"
             ],
             [
              0.5555555555555556,
              "#d8576b"
             ],
             [
              0.6666666666666666,
              "#ed7953"
             ],
             [
              0.7777777777777778,
              "#fb9f3a"
             ],
             [
              0.8888888888888888,
              "#fdca26"
             ],
             [
              1,
              "#f0f921"
             ]
            ],
            "type": "heatmapgl"
           }
          ],
          "histogram": [
           {
            "marker": {
             "pattern": {
              "fillmode": "overlay",
              "size": 10,
              "solidity": 0.2
             }
            },
            "type": "histogram"
           }
          ],
          "histogram2d": [
           {
            "colorbar": {
             "outlinewidth": 0,
             "ticks": ""
            },
            "colorscale": [
             [
              0,
              "#0d0887"
             ],
             [
              0.1111111111111111,
              "#46039f"
             ],
             [
              0.2222222222222222,
              "#7201a8"
             ],
             [
              0.3333333333333333,
              "#9c179e"
             ],
             [
              0.4444444444444444,
              "#bd3786"
             ],
             [
              0.5555555555555556,
              "#d8576b"
             ],
             [
              0.6666666666666666,
              "#ed7953"
             ],
             [
              0.7777777777777778,
              "#fb9f3a"
             ],
             [
              0.8888888888888888,
              "#fdca26"
             ],
             [
              1,
              "#f0f921"
             ]
            ],
            "type": "histogram2d"
           }
          ],
          "histogram2dcontour": [
           {
            "colorbar": {
             "outlinewidth": 0,
             "ticks": ""
            },
            "colorscale": [
             [
              0,
              "#0d0887"
             ],
             [
              0.1111111111111111,
              "#46039f"
             ],
             [
              0.2222222222222222,
              "#7201a8"
             ],
             [
              0.3333333333333333,
              "#9c179e"
             ],
             [
              0.4444444444444444,
              "#bd3786"
             ],
             [
              0.5555555555555556,
              "#d8576b"
             ],
             [
              0.6666666666666666,
              "#ed7953"
             ],
             [
              0.7777777777777778,
              "#fb9f3a"
             ],
             [
              0.8888888888888888,
              "#fdca26"
             ],
             [
              1,
              "#f0f921"
             ]
            ],
            "type": "histogram2dcontour"
           }
          ],
          "mesh3d": [
           {
            "colorbar": {
             "outlinewidth": 0,
             "ticks": ""
            },
            "type": "mesh3d"
           }
          ],
          "parcoords": [
           {
            "line": {
             "colorbar": {
              "outlinewidth": 0,
              "ticks": ""
             }
            },
            "type": "parcoords"
           }
          ],
          "pie": [
           {
            "automargin": true,
            "type": "pie"
           }
          ],
          "scatter": [
           {
            "fillpattern": {
             "fillmode": "overlay",
             "size": 10,
             "solidity": 0.2
            },
            "type": "scatter"
           }
          ],
          "scatter3d": [
           {
            "line": {
             "colorbar": {
              "outlinewidth": 0,
              "ticks": ""
             }
            },
            "marker": {
             "colorbar": {
              "outlinewidth": 0,
              "ticks": ""
             }
            },
            "type": "scatter3d"
           }
          ],
          "scattercarpet": [
           {
            "marker": {
             "colorbar": {
              "outlinewidth": 0,
              "ticks": ""
             }
            },
            "type": "scattercarpet"
           }
          ],
          "scattergeo": [
           {
            "marker": {
             "colorbar": {
              "outlinewidth": 0,
              "ticks": ""
             }
            },
            "type": "scattergeo"
           }
          ],
          "scattergl": [
           {
            "marker": {
             "colorbar": {
              "outlinewidth": 0,
              "ticks": ""
             }
            },
            "type": "scattergl"
           }
          ],
          "scattermapbox": [
           {
            "marker": {
             "colorbar": {
              "outlinewidth": 0,
              "ticks": ""
             }
            },
            "type": "scattermapbox"
           }
          ],
          "scatterpolar": [
           {
            "marker": {
             "colorbar": {
              "outlinewidth": 0,
              "ticks": ""
             }
            },
            "type": "scatterpolar"
           }
          ],
          "scatterpolargl": [
           {
            "marker": {
             "colorbar": {
              "outlinewidth": 0,
              "ticks": ""
             }
            },
            "type": "scatterpolargl"
           }
          ],
          "scatterternary": [
           {
            "marker": {
             "colorbar": {
              "outlinewidth": 0,
              "ticks": ""
             }
            },
            "type": "scatterternary"
           }
          ],
          "surface": [
           {
            "colorbar": {
             "outlinewidth": 0,
             "ticks": ""
            },
            "colorscale": [
             [
              0,
              "#0d0887"
             ],
             [
              0.1111111111111111,
              "#46039f"
             ],
             [
              0.2222222222222222,
              "#7201a8"
             ],
             [
              0.3333333333333333,
              "#9c179e"
             ],
             [
              0.4444444444444444,
              "#bd3786"
             ],
             [
              0.5555555555555556,
              "#d8576b"
             ],
             [
              0.6666666666666666,
              "#ed7953"
             ],
             [
              0.7777777777777778,
              "#fb9f3a"
             ],
             [
              0.8888888888888888,
              "#fdca26"
             ],
             [
              1,
              "#f0f921"
             ]
            ],
            "type": "surface"
           }
          ],
          "table": [
           {
            "cells": {
             "fill": {
              "color": "#EBF0F8"
             },
             "line": {
              "color": "white"
             }
            },
            "header": {
             "fill": {
              "color": "#C8D4E3"
             },
             "line": {
              "color": "white"
             }
            },
            "type": "table"
           }
          ]
         },
         "layout": {
          "annotationdefaults": {
           "arrowcolor": "#2a3f5f",
           "arrowhead": 0,
           "arrowwidth": 1
          },
          "autotypenumbers": "strict",
          "coloraxis": {
           "colorbar": {
            "outlinewidth": 0,
            "ticks": ""
           }
          },
          "colorscale": {
           "diverging": [
            [
             0,
             "#8e0152"
            ],
            [
             0.1,
             "#c51b7d"
            ],
            [
             0.2,
             "#de77ae"
            ],
            [
             0.3,
             "#f1b6da"
            ],
            [
             0.4,
             "#fde0ef"
            ],
            [
             0.5,
             "#f7f7f7"
            ],
            [
             0.6,
             "#e6f5d0"
            ],
            [
             0.7,
             "#b8e186"
            ],
            [
             0.8,
             "#7fbc41"
            ],
            [
             0.9,
             "#4d9221"
            ],
            [
             1,
             "#276419"
            ]
           ],
           "sequential": [
            [
             0,
             "#0d0887"
            ],
            [
             0.1111111111111111,
             "#46039f"
            ],
            [
             0.2222222222222222,
             "#7201a8"
            ],
            [
             0.3333333333333333,
             "#9c179e"
            ],
            [
             0.4444444444444444,
             "#bd3786"
            ],
            [
             0.5555555555555556,
             "#d8576b"
            ],
            [
             0.6666666666666666,
             "#ed7953"
            ],
            [
             0.7777777777777778,
             "#fb9f3a"
            ],
            [
             0.8888888888888888,
             "#fdca26"
            ],
            [
             1,
             "#f0f921"
            ]
           ],
           "sequentialminus": [
            [
             0,
             "#0d0887"
            ],
            [
             0.1111111111111111,
             "#46039f"
            ],
            [
             0.2222222222222222,
             "#7201a8"
            ],
            [
             0.3333333333333333,
             "#9c179e"
            ],
            [
             0.4444444444444444,
             "#bd3786"
            ],
            [
             0.5555555555555556,
             "#d8576b"
            ],
            [
             0.6666666666666666,
             "#ed7953"
            ],
            [
             0.7777777777777778,
             "#fb9f3a"
            ],
            [
             0.8888888888888888,
             "#fdca26"
            ],
            [
             1,
             "#f0f921"
            ]
           ]
          },
          "colorway": [
           "#636efa",
           "#EF553B",
           "#00cc96",
           "#ab63fa",
           "#FFA15A",
           "#19d3f3",
           "#FF6692",
           "#B6E880",
           "#FF97FF",
           "#FECB52"
          ],
          "font": {
           "color": "#2a3f5f"
          },
          "geo": {
           "bgcolor": "white",
           "lakecolor": "white",
           "landcolor": "white",
           "showlakes": true,
           "showland": true,
           "subunitcolor": "#C8D4E3"
          },
          "hoverlabel": {
           "align": "left"
          },
          "hovermode": "closest",
          "mapbox": {
           "style": "light"
          },
          "paper_bgcolor": "white",
          "plot_bgcolor": "white",
          "polar": {
           "angularaxis": {
            "gridcolor": "#EBF0F8",
            "linecolor": "#EBF0F8",
            "ticks": ""
           },
           "bgcolor": "white",
           "radialaxis": {
            "gridcolor": "#EBF0F8",
            "linecolor": "#EBF0F8",
            "ticks": ""
           }
          },
          "scene": {
           "xaxis": {
            "backgroundcolor": "white",
            "gridcolor": "#DFE8F3",
            "gridwidth": 2,
            "linecolor": "#EBF0F8",
            "showbackground": true,
            "ticks": "",
            "zerolinecolor": "#EBF0F8"
           },
           "yaxis": {
            "backgroundcolor": "white",
            "gridcolor": "#DFE8F3",
            "gridwidth": 2,
            "linecolor": "#EBF0F8",
            "showbackground": true,
            "ticks": "",
            "zerolinecolor": "#EBF0F8"
           },
           "zaxis": {
            "backgroundcolor": "white",
            "gridcolor": "#DFE8F3",
            "gridwidth": 2,
            "linecolor": "#EBF0F8",
            "showbackground": true,
            "ticks": "",
            "zerolinecolor": "#EBF0F8"
           }
          },
          "shapedefaults": {
           "line": {
            "color": "#2a3f5f"
           }
          },
          "ternary": {
           "aaxis": {
            "gridcolor": "#DFE8F3",
            "linecolor": "#A2B1C6",
            "ticks": ""
           },
           "baxis": {
            "gridcolor": "#DFE8F3",
            "linecolor": "#A2B1C6",
            "ticks": ""
           },
           "bgcolor": "white",
           "caxis": {
            "gridcolor": "#DFE8F3",
            "linecolor": "#A2B1C6",
            "ticks": ""
           }
          },
          "title": {
           "x": 0.05
          },
          "xaxis": {
           "automargin": true,
           "gridcolor": "#EBF0F8",
           "linecolor": "#EBF0F8",
           "ticks": "",
           "title": {
            "standoff": 15
           },
           "zerolinecolor": "#EBF0F8",
           "zerolinewidth": 2
          },
          "yaxis": {
           "automargin": true,
           "gridcolor": "#EBF0F8",
           "linecolor": "#EBF0F8",
           "ticks": "",
           "title": {
            "standoff": 15
           },
           "zerolinecolor": "#EBF0F8",
           "zerolinewidth": 2
          }
         }
        },
        "title": {
         "font": {
          "color": "Black",
          "size": 22
         },
         "text": "<b>Term score decline per Topic</b>",
         "x": 0.5,
         "xanchor": "center",
         "y": 0.9,
         "yanchor": "top"
        },
        "width": 800,
        "xaxis": {
         "dtick": 2,
         "range": [
          0,
          10
         ],
         "tick0": 1,
         "title": {
          "text": "Term Rank"
         }
        },
        "yaxis": {
         "title": {
          "text": "c-TF-IDF score"
         }
        }
       }
      }
     },
     "metadata": {},
     "output_type": "display_data"
    }
   ],
   "source": [
    "# model_mecab.visualize_topics()\n",
    "\n",
    "# model_mecab.visualize_distribution(probs_mecab[200], min_probability=0.015)\n",
    "\n",
    "# model_mecab.visualize_hierarchy(top_n_topics=50)\n",
    "\n",
    "# model_mecab.visualize_barchart(top_n_topics=5)\n",
    "\n",
    "# model_mecab.visualize_heatmap(n_clusters=20, width=1000, height=1000)\n",
    "\n",
    "model_mecab.visualize_term_rank()"
   ]
  },
  {
   "cell_type": "markdown",
   "metadata": {},
   "source": [
    "# Okt"
   ]
  },
  {
   "cell_type": "code",
   "execution_count": null,
   "metadata": {},
   "outputs": [],
   "source": [
    "# MODEL_NAME = \"sentence-transformers/xlm-r-100langs-bert-base-nli-stsb-mean-tokens\"\n",
    "\n",
    "# 블아\n",
    "# model_okt = BERTopic(embedding_model= MODEL_NAME, vectorizer_model=vectorizer_okt, nr_topics=50, top_n_words=10, calculate_probabilities=True)\n",
    "# model_okt.fit(preprocessed_documents)\n",
    "\n",
    "# 니케\n",
    "# n_k_model_okt = BERTopic(embedding_model= MODEL_NAME, vectorizer_model=vectorizer_okt, nr_topics=50, top_n_words=10, calculate_probabilities=True)\n",
    "# topics_okt, probs_okt = model_okt.fit_transform(preprocessed_documents)\n",
    "\n",
    "# 원신\n",
    "# o_g_model_okt = BERTopic(embedding_model= MODEL_NAME, vectorizer_model=vectorizer_okt, nr_topics=50, top_n_words=10, calculate_probabilities=True)\n",
    "# topics_okt, probs_okt = o_g_model_okt.fit_transform(preprocessed_documents)\n",
    "\n",
    "#붕괴\n",
    "# d_s_model_okt = BERTopic(embedding_model= MODEL_NAME, vectorizer_model=vectorizer_okt, nr_topics=50, top_n_words=10, calculate_probabilities=True)\n",
    "# topics_okt, probs_okt = d_s_model_okt.fit_transform(preprocessed_documents)"
   ]
  }
 ],
 "metadata": {
  "kernelspec": {
   "display_name": "ds_study",
   "language": "python",
   "name": "python3"
  },
  "language_info": {
   "codemirror_mode": {
    "name": "ipython",
    "version": 3
   },
   "file_extension": ".py",
   "mimetype": "text/x-python",
   "name": "python",
   "nbconvert_exporter": "python",
   "pygments_lexer": "ipython3",
   "version": "3.7.0"
  }
 },
 "nbformat": 4,
 "nbformat_minor": 2
}
