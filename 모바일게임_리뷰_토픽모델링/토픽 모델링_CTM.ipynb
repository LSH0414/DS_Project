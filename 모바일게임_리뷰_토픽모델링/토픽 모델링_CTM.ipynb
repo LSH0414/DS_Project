{
 "cells": [
  {
   "cell_type": "code",
   "execution_count": null,
   "metadata": {},
   "outputs": [],
   "source": [
    "!pip install contextualized-topic-models==2.2.0\n",
    "!pip install pyldavis\n",
    " "
   ]
  },
  {
   "cell_type": "markdown",
   "metadata": {},
   "source": [
    "# 공통 전처리"
   ]
  },
  {
   "cell_type": "code",
   "execution_count": 4,
   "metadata": {},
   "outputs": [],
   "source": [
    "import warnings\n",
    "warnings.filterwarnings('ignore')"
   ]
  },
  {
   "cell_type": "code",
   "execution_count": 1,
   "metadata": {},
   "outputs": [],
   "source": [
    "import re\n",
    "import pandas as pd\n",
    "from soynlp.normalizer import repeat_normalize\n",
    "\n",
    "# https://mr-doosun.tistory.com/24 Stopwords BASE & Custom\n",
    "\n",
    "with open('./data/stopwords_post_position.txt', 'r') as f:\n",
    "    josa_lst = f.readlines()\n",
    "\n",
    "with open('./data/stopword_conjunction.txt', 'r') as f:\n",
    "    conjunction_lst = f.readline().split(', ')\n",
    "\n",
    "# 불용어 처리\n",
    "stopwords_pPosition = []\n",
    "for josa in josa_lst:\n",
    "    josa = re.sub('\\n|\\t', '', josa)\n",
    "    if '/' in josa:\n",
    "        josa_words = josa.split('/')\n",
    "    else:\n",
    "        josa_words = [josa]\n",
    "\n",
    "    [stopwords_pPosition.append(word) for word in josa_words]\n",
    "\n",
    "def pp_stopwords_pposition(txt, stopwords = stopwords_pPosition):\n",
    "    \n",
    "    split_words = txt.split()\n",
    "\n",
    "    result = []\n",
    "    for word in split_words:\n",
    "        for length in range(max(map(len, stopwords)),0 , -1):\n",
    "            if word[-length:] in stopwords:\n",
    "                result.append(word[:-length])\n",
    "                break\n",
    "            elif length == 1:\n",
    "                result.append(word)\n",
    "\n",
    "    result = ' '.join(result)\n",
    "\n",
    "    return result\n",
    "\n",
    "\n",
    "\n",
    "def pp_stopwords_conjunction(txt, stopwords = conjunction_lst):\n",
    "    for stopword in stopwords:\n",
    "        if stopword in txt:\n",
    "\n",
    "            # Stopword의 위치 찾기\n",
    "            check_before_idx = re.search(stopword, txt).start() -1\n",
    "            check_after_idx = re.search(stopword, txt).end() # idx가 아니라 번째 개념으로 자동으로 +1 되어있음\n",
    "\n",
    "            # 시작위치가 첫번째일떄 예외처리\n",
    "            if check_before_idx == -1:\n",
    "                check_before_blank = True\n",
    "            else:\n",
    "                check_before_blank = True if txt[check_before_idx] == ' ' else False\n",
    "            \n",
    "            #종료지점이 끝위치일떄 예외처리\n",
    "            if check_after_idx == len(txt):\n",
    "                check_after_blank = True\n",
    "            else:\n",
    "                check_after_blank = True if txt[check_after_idx] == ' ' else False\n",
    "            \n",
    "            if check_before_blank and check_after_blank:\n",
    "                txt = re.sub(stopword, ' ', txt).strip()\n",
    "        \n",
    "    return txt\n",
    "\n",
    "def del_stopwords(txt):\n",
    "    txt = pp_stopwords_conjunction(txt) # 접속사 제거\n",
    "    txt = pp_stopwords_pposition(txt) # 조사 제거\n",
    "    txt = re.sub('[^가-힣]', ' ', txt).strip() # 한글 제외 제거\n",
    "    txt = repeat_normalize(txt, num_repeats=3)\n",
    "    return txt\n"
   ]
  },
  {
   "cell_type": "code",
   "execution_count": 2,
   "metadata": {},
   "outputs": [],
   "source": [
    "data = pd.read_csv('./data/reivews_df_preprocssing_ver.csv')\n",
    "data['content'] = data['content'].apply(del_stopwords)"
   ]
  },
  {
   "cell_type": "markdown",
   "metadata": {},
   "source": [
    "## CTM(BERT-base)\n",
    "\n",
    "CTM - ZeroSoht&Mecab"
   ]
  },
  {
   "cell_type": "code",
   "execution_count": 7,
   "metadata": {},
   "outputs": [],
   "source": [
    "from contextualized_topic_models.models.ctm import CombinedTM, ZeroShotTM\n",
    "from contextualized_topic_models.utils.data_preparation import TopicModelDataPreparation, bert_embeddings_from_list\n",
    "from contextualized_topic_models.utils.preprocessing import WhiteSpacePreprocessing\n",
    "from sklearn.feature_extraction.text import CountVectorizer\n",
    "from konlpy.tag import Mecab, Okt\n",
    "from tqdm import tqdm\n",
    "import pandas as pd\n",
    "\n",
    "\n",
    "class CumstomCTM():\n",
    "    def __init__(self, reviews, tagger):\n",
    "        self.reviews = reviews\n",
    "        self.custom_tokenizer = CustomTokenizer(tagger)\n",
    "        self.qt = TopicModelDataPreparation()\n",
    "    \n",
    "    def preprocessing(self, max_features):\n",
    "        self.preprocessed_documents = []\n",
    "        for line in tqdm(self.reviews):\n",
    "            if line and not line.replace(' ', '').isdecimal():\n",
    "                self.preprocessed_documents.append(line)\n",
    "\n",
    "        vectorizer = CountVectorizer(tokenizer=self.custom_tokenizer, max_features=max_features)\n",
    "        self.train_bow_embeddings = vectorizer.fit_transform(self.preprocessed_documents)\n",
    "        self.vocab = vectorizer.get_feature_names_out()\n",
    "        self.id2token = {k: v for k, v in zip(range(0, len(self.vocab)), self.vocab)}\n",
    "\n",
    "\n",
    "    def modeling(self, MODEL_NAME, n_components, n_epochs):\n",
    "        train_contextualized_embeddings = bert_embeddings_from_list(self.preprocessed_documents, MODEL_NAME)\n",
    "        training_dataset = self.qt.load(train_contextualized_embeddings, self.train_bow_embeddings, self.id2token)\n",
    "        \n",
    "        self.ctm_zeroshot = ZeroShotTM(bow_size=len(self.vocab), contextual_size=768, n_components=n_components, num_epochs = n_epochs)\n",
    "        self.ctm_zeroshot.fit(training_dataset)\n",
    "\n",
    "    \n",
    "    def getTopics(self, n_top):\n",
    "        return self.ctm_zeroshot.get_topics(n_top)\n",
    "\n",
    "class CustomTokenizer:\n",
    "    def __init__(self, tagger):\n",
    "        self.tagger = tagger\n",
    "    def __call__(self, sent):\n",
    "        word_tokens = self.tagger.nouns(sent)\n",
    "        result = [word for word in word_tokens if len(word) > 1]\n",
    "        return result"
   ]
  },
  {
   "cell_type": "code",
   "execution_count": 10,
   "metadata": {},
   "outputs": [],
   "source": [
    "b_a = data[data['app_name'] == '블루아카이브'].reset_index()['content']\n",
    "n_k = data[data['app_name'] == '니케'].reset_index()['content']\n",
    "o_g = data[data['app_name'] == '원신'].reset_index()['content']\n",
    "d_s = data[data['app_name'] == '붕괴:스타레일'].reset_index()['content']\n",
    "\n",
    "ba = data[data['app_name'] == '블루아카이브'].reset_index()\n",
    "nk = data[data['app_name'] == '니케'].reset_index()\n",
    "og = data[data['app_name'] == '원신'].reset_index()\n",
    "ds = data[data['app_name'] == '붕괴:스타레일'].reset_index()\n",
    "\n",
    "b_a_pos = ba[ba['score'] > 3]['content']\n",
    "b_a_na = ba[ba['score'] < 3]['content']\n",
    "n_k_pos = nk[nk['score'] > 3]['content']\n",
    "n_k_na = nk[nk['score'] < 3]['content']\n",
    "o_g_pos = og[og['score'] > 3]['content']\n",
    "o_g_na = og[og['score'] < 3]['content']\n",
    "d_s_pos = ds[ds['score'] > 3]['content']\n",
    "d_s_na = ds[ds['score'] < 3]['content']"
   ]
  },
  {
   "cell_type": "code",
   "execution_count": 12,
   "metadata": {},
   "outputs": [],
   "source": [
    "def getCTMResult(total_data, pos_data, na_data):\n",
    "    mecab = Mecab()\n",
    "    okt = Okt()\n",
    "    MODEL_NAME = 'sentence-transformers/xlm-r-100langs-bert-base-nli-stsb-mean-tokens'\n",
    "    n_components = 20\n",
    "    n_epochs = 50\n",
    "\n",
    "    print('Create Class')\n",
    "    CTM_mecab = CumstomCTM(total_data.values, mecab)\n",
    "    CTM_okt = CumstomCTM(total_data.values, okt)\n",
    "    CTM_pos_mecab = CumstomCTM(pos_data.values, mecab)\n",
    "    CTM_pos_okt = CumstomCTM(pos_data.values, okt)\n",
    "    CTM_na_mecab = CumstomCTM(na_data.values, mecab)\n",
    "    CTM_na_okt = CumstomCTM(na_data.values, okt)\n",
    "\n",
    "    print('Preprocessing Class')\n",
    "    CTM_mecab.preprocessing(2000) # 피처는 2000개\n",
    "    CTM_okt.preprocessing(2000) # 피처는 2000개\n",
    "    CTM_pos_mecab.preprocessing(2000)\n",
    "    CTM_na_mecab.preprocessing(2000)\n",
    "    CTM_pos_okt.preprocessing(2000)\n",
    "    CTM_na_okt.preprocessing(2000)\n",
    "\n",
    "    print('Modeling Class')\n",
    "    CTM_mecab.modeling(MODEL_NAME, n_components, n_epochs)\n",
    "    CTM_okt.modeling(MODEL_NAME, n_components, n_epochs)\n",
    "    CTM_pos_mecab.modeling(MODEL_NAME, n_components, n_epochs)\n",
    "    CTM_na_mecab.modeling(MODEL_NAME, n_components, n_epochs)\n",
    "    CTM_pos_okt.modeling(MODEL_NAME, n_components, n_epochs)\n",
    "    CTM_na_okt.modeling(MODEL_NAME, n_components, n_epochs)\n",
    "\n",
    "\n",
    "    print('::::::Mecab::::::')\n",
    "    print('TOTAL')\n",
    "    print('TOPICS : ', CTM_mecab.getTopics(5))\n",
    "    print()\n",
    "    print('POS')\n",
    "    print('TOPICS : ', CTM_pos_mecab.getTopics(5))\n",
    "    print()\n",
    "    print('NA')\n",
    "    print('TOPICS : ', CTM_na_mecab.getTopics(5))\n",
    "    print('::::::Okt::::::')\n",
    "    print('TOTAL')\n",
    "    print('TOPICS : ', CTM_okt.getTopics(5))\n",
    "    print()\n",
    "    print('POS')\n",
    "    print('TOPICS : ', CTM_pos_okt.getTopics(5))\n",
    "    print()\n",
    "    print('NA')\n",
    "    print('TOPICS : ', CTM_na_okt.getTopics(5))\n",
    "\n"
   ]
  },
  {
   "cell_type": "code",
   "execution_count": 13,
   "metadata": {},
   "outputs": [
    {
     "name": "stdout",
     "output_type": "stream",
     "text": [
      "Create Class\n",
      "Preprocessing Class\n"
     ]
    },
    {
     "name": "stderr",
     "output_type": "stream",
     "text": [
      "100%|██████████| 9515/9515 [00:00<00:00, 121071.51it/s]\n",
      "100%|██████████| 9515/9515 [00:00<00:00, 623448.40it/s]\n",
      "100%|██████████| 6341/6341 [00:00<00:00, 725242.19it/s]\n",
      "100%|██████████| 2673/2673 [00:00<00:00, 877740.12it/s]\n",
      "100%|██████████| 6341/6341 [00:00<00:00, 876427.92it/s]\n",
      "100%|██████████| 2673/2673 [00:00<00:00, 898203.38it/s]\n"
     ]
    },
    {
     "name": "stdout",
     "output_type": "stream",
     "text": [
      "Modeling Class\n"
     ]
    },
    {
     "data": {
      "application/vnd.jupyter.widget-view+json": {
       "model_id": "5d3732da7fd943a29836ee75d3497abe",
       "version_major": 2,
       "version_minor": 0
      },
      "text/plain": [
       "Batches:   0%|          | 0/48 [00:00<?, ?it/s]"
      ]
     },
     "metadata": {},
     "output_type": "display_data"
    },
    {
     "name": "stderr",
     "output_type": "stream",
     "text": [
      "Epoch: [50/50]\t Seen Samples: [470250/470250]\tTrain Loss: 38.48781980994152\tTime: 0:00:02.778940: : 50it [02:56,  3.53s/it] \n"
     ]
    },
    {
     "data": {
      "application/vnd.jupyter.widget-view+json": {
       "model_id": "689be98d938a47e9b7662cd3a5e9e42b",
       "version_major": 2,
       "version_minor": 0
      },
      "text/plain": [
       "Batches:   0%|          | 0/48 [00:00<?, ?it/s]"
      ]
     },
     "metadata": {},
     "output_type": "display_data"
    },
    {
     "name": "stderr",
     "output_type": "stream",
     "text": [
      "Epoch: [50/50]\t Seen Samples: [470250/470250]\tTrain Loss: 42.98229615750432\tTime: 0:00:02.377092: : 50it [02:32,  3.04s/it] \n"
     ]
    },
    {
     "data": {
      "application/vnd.jupyter.widget-view+json": {
       "model_id": "99e02c15011a4fd69710791473be504f",
       "version_major": 2,
       "version_minor": 0
      },
      "text/plain": [
       "Batches:   0%|          | 0/32 [00:00<?, ?it/s]"
      ]
     },
     "metadata": {},
     "output_type": "display_data"
    },
    {
     "name": "stderr",
     "output_type": "stream",
     "text": [
      "Epoch: [50/50]\t Seen Samples: [311900/311900]\tTrain Loss: 33.44626436664646\tTime: 0:00:01.765880: : 50it [01:35,  1.92s/it] \n"
     ]
    },
    {
     "data": {
      "application/vnd.jupyter.widget-view+json": {
       "model_id": "3ba0e42f316a459e89f31659f619090b",
       "version_major": 2,
       "version_minor": 0
      },
      "text/plain": [
       "Batches:   0%|          | 0/14 [00:00<?, ?it/s]"
      ]
     },
     "metadata": {},
     "output_type": "display_data"
    },
    {
     "name": "stderr",
     "output_type": "stream",
     "text": [
      "Epoch: [50/50]\t Seen Samples: [133300/133300]\tTrain Loss: 47.99953067490505\tTime: 0:00:00.776477: : 50it [00:45,  1.10it/s] \n"
     ]
    },
    {
     "data": {
      "application/vnd.jupyter.widget-view+json": {
       "model_id": "47ecdba8ef4246ec9ba51c2626707005",
       "version_major": 2,
       "version_minor": 0
      },
      "text/plain": [
       "Batches:   0%|          | 0/32 [00:00<?, ?it/s]"
      ]
     },
     "metadata": {},
     "output_type": "display_data"
    },
    {
     "name": "stderr",
     "output_type": "stream",
     "text": [
      "Epoch: [50/50]\t Seen Samples: [311900/311900]\tTrain Loss: 37.12793992199398\tTime: 0:00:01.914696: : 50it [01:42,  2.05s/it] \n"
     ]
    },
    {
     "data": {
      "application/vnd.jupyter.widget-view+json": {
       "model_id": "6bb28a2bc7e44c9bb97d665d391e4149",
       "version_major": 2,
       "version_minor": 0
      },
      "text/plain": [
       "Batches:   0%|          | 0/14 [00:00<?, ?it/s]"
      ]
     },
     "metadata": {},
     "output_type": "display_data"
    },
    {
     "name": "stderr",
     "output_type": "stream",
     "text": [
      "Epoch: [50/50]\t Seen Samples: [133300/133300]\tTrain Loss: 54.15951682317552\tTime: 0:00:01.133211: : 50it [00:58,  1.18s/it] \n"
     ]
    },
    {
     "name": "stdout",
     "output_type": "stream",
     "text": [
      "::::::Mecab::::::\n",
      "TOTAL\n",
      "TOPICS :  defaultdict(<class 'list'>, {0: ['수월', '소총', '주력', '야전', '색깔'], 1: ['최적화', '화면', '플레이', '출력', '업데이트'], 2: ['오류', '유저', '운영', '개발', '제재'], 3: ['스토리', '캐릭터', '개성', '보이스', '디자인'], 4: ['최고', '대한민국', '희망', '한국어', '시대'], 5: ['캐릭터', '과금', '확률', '캐릭', '픽업'], 6: ['업데이트', '다운로드', '화면', '애플리케이션', '접속'], 7: ['리뷰', '삭제', '호우', '세션', '지급'], 8: ['확률', '픽업', '히후', '천장', '리세'], 9: ['야전', '수월', '비나', '색깔', '서포터'], 10: ['게임', '아카이브', '블루', '최고', '인생'], 11: ['동일', '경험', '의도', '제발', '그것'], 12: ['개발', '김용하', '포항항', '발사', '운영'], 13: ['발열', '배터리', '엔진', '최적', '로딩'], 14: ['게임', '과금', '확률', '컨텐츠', '픽업'], 15: ['게임', '캐릭터', '스토리', '상성', '컨텐츠'], 16: ['서포터', '지향', '사라지', '수고', '우롱'], 17: ['등급', '최악', '최소한', '수고', '시도'], 18: ['사랑', '용하', '블루아', '블루', '우리'], 19: ['게임', '캐릭터', '스토리', '컨텐츠', '과금']})\n",
      "\n",
      "POS\n",
      "TOPICS :  defaultdict(<class 'list'>, {0: ['최고', '인생', '세상', '세기', '시대'], 1: ['관위', '친절', '선생', '테러', '천장'], 2: ['호우', '오류', '진행', '세션', '업데이트'], 3: ['하지', '구경', '열광', '소재', '행사'], 4: ['과금', '캐릭터', '확률', '경험치', '수급량'], 5: ['컨트롤', '진심', '불안', '선전', '하지'], 6: ['게임', '스토리', '캐릭터', '짜임새', '개발'], 7: ['기여', '지금', '최하', '하지', '열광'], 8: ['사랑', '용하', '시로코', '유우카', '히나'], 9: ['캐릭터', '스토리', '최적화', '개성', '메모리얼'], 10: ['일본어', '사람', '확률', '남자', '학생'], 11: ['하지', '울리', '열광', '소재', '취미'], 12: ['게임', '캐릭터', '스토리', '컨텐츠', '생각'], 13: ['하지', '감정', '분류', '구경', '울리'], 14: ['아카이브', '블루', '감사', '블루아', '인생'], 15: ['게임', '과금', '컨텐츠', '생각', '캐릭터'], 16: ['하지', '구경', '정석', '울리', '열광'], 17: ['게임', '개발', '유저', '운영', '걱정'], 18: ['플레이', '문제', '화면', '업데이트', '오류'], 19: ['김용하', '히후', '포항항', '무적', '호시노']})\n",
      "\n",
      "NA\n",
      "TOPICS :  defaultdict(<class 'list'>, {0: ['업데이트', '삭제', '리뷰', '로딩', '시간'], 1: ['요즘', '디자인', '전개', '포럼', '미래'], 2: ['확률', '조작', '캐릭', '스킬', '픽업'], 3: ['전개', '히바', '조련', '두려움', '특허'], 4: ['퇴보', '확연', '전개', '초정', '두려움'], 5: ['발열', '인간', '울화통', '마리', '언론'], 6: ['환불', '결제', '패키지', '부탁', '관리'], 7: ['오류', '확률', '유저', '운영', '게임'], 8: ['업데이트', '공간', '버스', '다운', '애플리케이션'], 9: ['연차', '동안', '리세', '프리', '대장'], 10: ['요즘', '전개', '두려움', '학대', '재제'], 11: ['화면', '다운로드', '로딩', '업데이트', '시작'], 12: ['오류', '유저', '운영', '공지', '서버'], 13: ['조작', '확률', '리뷰', '리세', '운영'], 14: ['확률', '픽업', '과금', '게임', '천장'], 15: ['개발', '발사', '주먹구구식', '사이', '도둑놈'], 16: ['최악', '쓰레기', '전개', '요즘', '호시노'], 17: ['게임', '캐릭터', '확률', '캐릭', '더빙'], 18: ['게임', '캐릭터', '컨텐츠', '스토리', '애니메이션'], 19: ['동일', '발열', '경험', '따리', '개창']})\n",
      "::::::Okt::::::\n",
      "TOTAL\n",
      "TOPICS :  defaultdict(<class 'list'>, {0: ['개발', '운영', '사식', '역시', '음핵'], 1: ['발열', '루뾰이몰', '제발', '심해', '루몰'], 2: ['업데이트', '계속', '다시', '접속', '계정'], 3: ['게임', '화면', '해상도', '블루', '아카이브'], 4: ['오류', '게임', '유저', '운영', '문제'], 5: ['최악', '테러', '관위', '새끼', '버튜버'], 6: ['캐릭터', '게임', '과금', '뽑기', '컨텐츠'], 7: ['제약', '부실', '수명', '향후', '집중'], 8: ['김용하', '신인', '사랑', '김용', '하그'], 9: ['부실', '꼬움', '수고', '향후', '행사'], 10: ['블루', '최고', '아카이브', '인생', '블루아'], 11: ['이탈', '수명', '꼬움', '행사', '향후'], 12: ['삭제', '리뷰', '오류', '환불', '지급'], 13: ['나머지', '만족', '부실', '행동', '도움'], 14: ['확률', '뽑기', '최적화', '주작', '의심'], 15: ['천장', '픽업', '뽑기', '캐릭', '확율'], 16: ['스토리', '캐릭터', '정말', '개성', '매력'], 17: ['게임', '스토리', '유저', '캐릭터', '개발'], 18: ['게임', '뽑기', '과금', '컨텐츠', '확률'], 19: ['꼬움', '수명', '부실', '행사', '향후']})\n",
      "\n",
      "POS\n",
      "TOPICS :  defaultdict(<class 'list'>, {0: ['자막', '주거', '장갑', '지향', '명함'], 1: ['개발', '운영', '사람', '게임', '진짜'], 2: ['게임', '캐릭터', '스토리', '뽑기', '과금'], 3: ['주거', '장갑', '움직임', '발음', '자막'], 4: ['따름', '자막', '주거', '장갑', '아부'], 5: ['최적화', '최고', '시대', '최고다', '이자'], 6: ['게임', '스토리', '캐릭터', '대사', '컨텐츠'], 7: ['환불', '결제', '로딩', '확인', '한번'], 8: ['게임', '유저', '스토리', '운영', '아카이브'], 9: ['김용하', '사랑', '신인', '개쩌', '김용'], 10: ['아카이브', '블루', '루뾰이몰', '사랑', '호시노'], 11: ['주거', '자막', '아부', '명함', '지향'], 12: ['다시', '오류', '업데이트', '계속', '화면'], 13: ['블끼얏', '호우', '제발', '어째서', '이오리'], 14: ['아카이브', '블루', '게임', '업데이트', '정말'], 15: ['스토리', '캐릭터', '각각', '마다', '뽑기'], 16: ['지향', '자막', '장갑', '주거', '또한'], 17: ['자막', '주거', '공용', '지향', '장갑'], 18: ['에덴', '인생게임', '읍니', '조약', '우리'], 19: ['뽑기', '과금', '컨텐츠', '스토리', '게임']})\n",
      "\n",
      "NA\n",
      "TOPICS :  defaultdict(<class 'list'>, {0: ['자꾸', '업데이트', '설치', '계속', '하라'], 1: ['확률', '뽑기', '진짜', '연차', '픽업'], 2: ['재미', '동안', '너머', '심장', '세상'], 3: ['게임', '캐릭터', '컨텐츠', '과금', '뽑기'], 4: ['확률', '뽑기', '픽업', '과금', '천장'], 5: ['운영', '삭제', '리뷰', '오류', '로그'], 6: ['취미', '다소', '발열', '감정', '내지'], 7: ['취미', '다소', '내지', '감정', '직장인'], 8: ['확률', '조작', '리세', '뽑기', '진짜'], 9: ['유저', '오류', '컨텐츠', '운영', '공지'], 10: ['바보', '개발', '사이', '실화', '사식'], 11: ['유저', '게임', '일본', '개발', '운영'], 12: ['게임', '캐릭터', '파란', '스토리', '마츠리'], 13: ['계속', '다시', '시작', '다운로드', '화면'], 14: ['동안', '대장', '장난', '리세', '프리코'], 15: ['개발', '역시', '수입', '로고', '사인'], 16: ['취미', '다소', '감정', '내지', '목소리'], 17: ['취미', '다소', '체크', '크리스탈', '감정'], 18: ['최악', '취미', '다소', '쓰레기', '도박'], 19: ['게임', '컨텐츠', '캐릭터', '스토리', '캐릭']})\n"
     ]
    }
   ],
   "source": [
    "getCTMResult(b_a, b_a_pos, b_a_na)"
   ]
  },
  {
   "cell_type": "code",
   "execution_count": 14,
   "metadata": {},
   "outputs": [
    {
     "name": "stdout",
     "output_type": "stream",
     "text": [
      "Create Class\n",
      "Preprocessing Class\n"
     ]
    },
    {
     "name": "stderr",
     "output_type": "stream",
     "text": [
      "100%|██████████| 11339/11339 [00:00<00:00, 241353.62it/s]\n",
      "100%|██████████| 11339/11339 [00:00<00:00, 332891.52it/s]\n",
      "100%|██████████| 5033/5033 [00:00<00:00, 398210.44it/s]\n",
      "100%|██████████| 5255/5255 [00:00<00:00, 379175.07it/s]\n",
      "100%|██████████| 5033/5033 [00:00<00:00, 458722.09it/s]\n",
      "100%|██████████| 5255/5255 [00:00<00:00, 757086.78it/s]\n"
     ]
    },
    {
     "name": "stdout",
     "output_type": "stream",
     "text": [
      "Modeling Class\n"
     ]
    },
    {
     "data": {
      "application/vnd.jupyter.widget-view+json": {
       "model_id": "0d4ee0ade67e48a7ae6d514bb299f14c",
       "version_major": 2,
       "version_minor": 0
      },
      "text/plain": [
       "Batches:   0%|          | 0/57 [00:00<?, ?it/s]"
      ]
     },
     "metadata": {},
     "output_type": "display_data"
    },
    {
     "name": "stderr",
     "output_type": "stream",
     "text": [
      "Epoch: [50/50]\t Seen Samples: [560450/560450]\tTrain Loss: 48.20578443445714\tTime: 0:00:04.181280: : 50it [02:50,  3.40s/it] \n"
     ]
    },
    {
     "data": {
      "application/vnd.jupyter.widget-view+json": {
       "model_id": "3212b3342ca74274a09b9d7e9e1d37c0",
       "version_major": 2,
       "version_minor": 0
      },
      "text/plain": [
       "Batches:   0%|          | 0/57 [00:00<?, ?it/s]"
      ]
     },
     "metadata": {},
     "output_type": "display_data"
    },
    {
     "name": "stderr",
     "output_type": "stream",
     "text": [
      "Epoch: [50/50]\t Seen Samples: [560450/560450]\tTrain Loss: 53.61916445043725\tTime: 0:00:03.500286: : 50it [04:00,  4.82s/it] \n"
     ]
    },
    {
     "data": {
      "application/vnd.jupyter.widget-view+json": {
       "model_id": "f4145ee6135941fd83df6263dc0c7d15",
       "version_major": 2,
       "version_minor": 0
      },
      "text/plain": [
       "Batches:   0%|          | 0/25 [00:00<?, ?it/s]"
      ]
     },
     "metadata": {},
     "output_type": "display_data"
    },
    {
     "name": "stderr",
     "output_type": "stream",
     "text": [
      "Epoch: [50/50]\t Seen Samples: [246600/246600]\tTrain Loss: 33.26172103943713\tTime: 0:00:01.477121: : 50it [01:27,  1.75s/it] \n"
     ]
    },
    {
     "data": {
      "application/vnd.jupyter.widget-view+json": {
       "model_id": "bbd250a1b6964e629e9eae6181b73001",
       "version_major": 2,
       "version_minor": 0
      },
      "text/plain": [
       "Batches:   0%|          | 0/27 [00:00<?, ?it/s]"
      ]
     },
     "metadata": {},
     "output_type": "display_data"
    },
    {
     "name": "stderr",
     "output_type": "stream",
     "text": [
      "Epoch: [50/50]\t Seen Samples: [261500/261500]\tTrain Loss: 61.40741258551924\tTime: 0:00:04.507754: : 50it [02:47,  3.34s/it] \n"
     ]
    },
    {
     "data": {
      "application/vnd.jupyter.widget-view+json": {
       "model_id": "962911485b57435784d99386277aa186",
       "version_major": 2,
       "version_minor": 0
      },
      "text/plain": [
       "Batches:   0%|          | 0/25 [00:00<?, ?it/s]"
      ]
     },
     "metadata": {},
     "output_type": "display_data"
    },
    {
     "name": "stderr",
     "output_type": "stream",
     "text": [
      "Epoch: [50/50]\t Seen Samples: [246600/246600]\tTrain Loss: 36.811764306395595\tTime: 0:00:01.481404: : 50it [01:46,  2.14s/it]\n"
     ]
    },
    {
     "data": {
      "application/vnd.jupyter.widget-view+json": {
       "model_id": "74a92fa5b0654d4b9c151d5d40faf78c",
       "version_major": 2,
       "version_minor": 0
      },
      "text/plain": [
       "Batches:   0%|          | 0/27 [00:00<?, ?it/s]"
      ]
     },
     "metadata": {},
     "output_type": "display_data"
    },
    {
     "name": "stderr",
     "output_type": "stream",
     "text": [
      "Epoch: [50/50]\t Seen Samples: [261500/261500]\tTrain Loss: 68.4885944782206\tTime: 0:00:01.299762: : 50it [01:07,  1.35s/it] "
     ]
    },
    {
     "name": "stdout",
     "output_type": "stream",
     "text": [
      "::::::Mecab::::::\n",
      "TOTAL\n",
      "TOPICS :  defaultdict(<class 'list'>, {0: ['게임', '운영', '유저', '중국', '개발'], 1: ['확률', '조작', '해명', '무료', '선착순'], 2: ['스토리', '캐릭터', '과금', '재미', '연기'], 3: ['영역', '소린', '모름', '버스터', '편의'], 4: ['과금', '게임', '재화', '컨텐츠', '확률'], 5: ['최고', '그래픽', '인생', '감사', '타격'], 6: ['업데이트', '접속', '파일', '다운로드', '로딩'], 7: ['편의', '방향', '영역', '버스터', '기회'], 8: ['에피소드', '상담', '오류', '캐릭터', '보상'], 9: ['오류', '운영', '유저', '확률', '조작'], 10: ['홍련', '사랑', '모름', '쥐똥', '버스터'], 11: ['천장', '가격', '사료', '보석', '현질'], 12: ['게임', '캐릭터', '스토리', '과금', '생각'], 13: ['게임', '과금', '유저', '확률', '개꿀'], 14: ['게임', '오류', '문제', '로딩', '유저'], 15: ['편의', '모름', '버스터', '독창', '소린'], 16: ['계정', '신청', '게스트', '아이디', '예약'], 17: ['최악', '쓰레기', '검열', '적대', '실망'], 18: ['편의', '버스터', '소린', '모름', '자폭'], 19: ['로딩', '화면', '전투', '터치', '스테이지']})\n",
      "\n",
      "POS\n",
      "TOPICS :  defaultdict(<class 'list'>, {0: ['게임', '로딩', '캐릭터', '오류', '생각'], 1: ['게임', '스토리', '캐릭터', '과금', '생각'], 2: ['오류', '캐릭터', '에피소드', '상담', '진행'], 3: ['길드', '올리', '평균점', '나머지', '정해주'], 4: ['올리', '회자', '정해주', '고래', '평균점'], 5: ['퀘스트', '회자', '올리', '리어', '컨트롤'], 6: ['업데이트', '오류', '수정', '기종', '다운로드'], 7: ['사랑', '리타', '마리안', '주세요', '홍련'], 8: ['니케', '개꿀', '상점', '친구', '여신'], 9: ['게임', '운영', '오락실', '그래픽', '초창기'], 10: ['오류', '게임', '스토리', '캐릭터', '니케'], 11: ['정해주', '올리', '클랜', '직원', '진영'], 12: ['업데이트', '수정', '부탁', '결제', '로딩'], 13: ['최고', '인생', '혜자', '댕이', '컨셉'], 14: ['과금', '재화', '확률', '금액', '가격'], 15: ['회자', '진영', '올리', '정해주', '클랜'], 16: ['마리안', '홍련', '목소리', '라피', '아니스'], 17: ['엉덩이', '텐데', '남자', '현질', '목소리'], 18: ['스토리', '캐릭터', '과금', '라디안', '나이키'], 19: ['회자', '고래', '던전', '길드', '평균점']})\n",
      "\n",
      "NA\n",
      "TOPICS :  defaultdict(<class 'list'>, {0: ['디렉터', '성실', '접근성', '바탕', '근거리'], 1: ['오류', '방치', '유저', '보상', '이벤트'], 2: ['중국', '개발', '텐센트', '개발자', '아트'], 3: ['업데이트', '접속', '다운', '다운로드', '로딩'], 4: ['검열', '리세', '까스', '천장', '연차'], 5: ['일상', '성실', '접근성', '모니터링', '순식간'], 6: ['유저', '운영', '오류', '게임', '방치'], 7: ['쓰레기', '최악', '실망', '경험', '사건'], 8: ['계정', '요구', '답변', '환불', '접속'], 9: ['과금', '게임', '캐릭터', '재화', '확률'], 10: ['과금', '확률', '캐릭터', '생각', '스토리'], 11: ['게임', '과금', '검열', '중국', '유저'], 12: ['디렉터', '자판기', '악용', '접근성', '부서'], 13: ['로딩', '오류', '화면', '보상', '업데이트'], 14: ['데차', '패스', '선착순', '필그림', '평점'], 15: ['확률', '과금', '게임', '이게', '하나'], 16: ['직장', '자판기', '누적', '악용', '모니터링'], 17: ['조작', '안수정', '덩어리', '안함', '주작'], 18: ['게임', '캐릭터', '유저', '운영', '과금'], 19: ['로딩', '오류', '에피소드', '수정', '건지']})\n",
      "::::::Okt::::::\n",
      "TOTAL\n",
      "TOPICS :  defaultdict(<class 'list'>, {0: ['현저', '판단', '각오', '모자', '관해'], 1: ['과금', '스토리', '캐릭터', '뽑기', '컨텐츠'], 2: ['계정', '신청', '이메일', '게스트', '요청'], 3: ['만원', '과금', '뽑기', '확률', '천장'], 4: ['효율', '사료', '그림', '부담', '천장'], 5: ['게임', '다시', '로딩', '업데이트', '서버'], 6: ['사랑', '실망', '키무', '홍련', '리타'], 7: ['게임', '스토리', '캐릭터', '생각', '니케'], 8: ['게임', '유저', '과금', '운영', '캐릭터'], 9: ['현저', '버벅거림', '려고', '끝임', '감소'], 10: ['편의', '현저', '마찬가지', '판단', '려고'], 11: ['판단', '불가', '현저', '감소', '수치'], 12: ['오류', '유저', '운영', '확률', '방치'], 13: ['오류', '캐릭터', '에피소드', '다시', '보상'], 14: ['현저', '끝임', '편의', '판단', '각오'], 15: ['과금', '게임', '뽑기', '확률', '진짜'], 16: ['업데이트', '계속', '작전', '자꾸', '접속'], 17: ['운영', '쓰레기', '개발', '조작', '최악'], 18: ['스토리', '캐릭터', '그래픽', '개성', '성우'], 19: ['로딩', '화면', '업데이트', '계속', '다시']})\n",
      "\n",
      "POS\n",
      "TOPICS :  defaultdict(<class 'list'>, {0: ['리타', '사랑', '마키', '홍련', '마리안'], 1: ['오류', '스토리', '캐릭터', '게임', '로딩'], 2: ['오류', '에피소드', '다시', '계속', '수정'], 3: ['게임', '정말', '오래오래', '연습실', '재미'], 4: ['개꿀', '안함', '결제', '게스트', '보상'], 5: ['사랑', '홍련', '마리안', '엉덩이', '리타'], 6: ['글구', '스트레스', '프로', '그때', '슬슬'], 7: ['프로', '임돠', '글구', '자꾸나', '출산율'], 8: ['글구', '임돠', '프로', '퍼주긴', '평규'], 9: ['현질', '만원', '금액', '한번', '사료'], 10: ['지원', '매일', '소통', '조절', '글구'], 11: ['글구', '프로', '자고', '임돠', '단축'], 12: ['게임', '니케', '로딩', '통합', '빈번'], 13: ['손맛', '그래픽', '협동', '피지', '격감'], 14: ['니케', '위치', '개꿀', '유실물', '업데이트'], 15: ['게임', '스토리', '캐릭터', '과금', '대목'], 16: ['프로', '임돠', '포지션', '자고', '적정'], 17: ['과금', '게임', '뽑기', '스토리', '재화'], 18: ['과금', '뽑기', '재화', '확률', '가격'], 19: ['스토리', '캐릭터', '애니메이션', '진짜', '매력']})\n",
      "\n",
      "NA\n",
      "TOPICS :  defaultdict(<class 'list'>, {0: ['쓰레기', '최악', '적대', '불통', '뭉치'], 1: ['유저', '운영', '게임', '개발', '오류'], 2: ['경악', '명작', '버근', '기초', '모자'], 3: ['로딩', '업데이트', '다시', '계속', '화면'], 4: ['계정', '접속', '로그인', '게스트', '인증'], 5: ['조작', '확률', '오류', '수정', '운영'], 6: ['자꾸', '업데이트', '다시', '계속', '동기화'], 7: ['게임', '과금', '뽑기', '확률', '스토리'], 8: ['오류', '게임', '스토리', '방치', '캐릭터'], 9: ['버근', '기대', '씹덕', '흐름', '경악'], 10: ['과금', '뽑기', '스토리', '캐릭터', '컨텐츠'], 11: ['선착순', '쿠폰', '만원', '환불', '결제'], 12: ['게임', '운영', '유저', '최근', '업계'], 13: ['경악', '판단', '테스트', '버근', '연령'], 14: ['오류', '다시', '로딩', '보상', '업데이트'], 15: ['검열', '중국', '아래', '광고', '텐센트'], 16: ['과금', '확률', '뽑기', '그냥', '만원'], 17: ['연령', '경악', '딜러', '버근', '판단'], 18: ['오류', '뽑기', '확률', '과금', '유저'], 19: ['버근', '판단', '경악', '급수', '기하']})\n"
     ]
    },
    {
     "name": "stderr",
     "output_type": "stream",
     "text": [
      "\n"
     ]
    }
   ],
   "source": [
    "# 니케\n",
    "getCTMResult(n_k, n_k_pos, n_k_na)"
   ]
  },
  {
   "cell_type": "code",
   "execution_count": 15,
   "metadata": {},
   "outputs": [
    {
     "name": "stdout",
     "output_type": "stream",
     "text": [
      "Create Class\n",
      "Preprocessing Class\n"
     ]
    },
    {
     "name": "stderr",
     "output_type": "stream",
     "text": [
      "100%|██████████| 6257/6257 [00:00<00:00, 133642.41it/s]\n",
      "100%|██████████| 6257/6257 [00:00<00:00, 570219.02it/s]\n",
      "100%|██████████| 3232/3232 [00:00<00:00, 305942.15it/s]\n",
      "100%|██████████| 2699/2699 [00:00<00:00, 766551.09it/s]\n",
      "100%|██████████| 3232/3232 [00:00<00:00, 776402.66it/s]\n",
      "100%|██████████| 2699/2699 [00:00<00:00, 575341.86it/s]\n"
     ]
    },
    {
     "name": "stdout",
     "output_type": "stream",
     "text": [
      "Modeling Class\n"
     ]
    },
    {
     "data": {
      "application/vnd.jupyter.widget-view+json": {
       "model_id": "08138ee79a404f42b9e985e9f1fb188a",
       "version_major": 2,
       "version_minor": 0
      },
      "text/plain": [
       "Batches:   0%|          | 0/31 [00:00<?, ?it/s]"
      ]
     },
     "metadata": {},
     "output_type": "display_data"
    },
    {
     "name": "stderr",
     "output_type": "stream",
     "text": [
      "Epoch: [50/50]\t Seen Samples: [308350/308350]\tTrain Loss: 46.67097098293462\tTime: 0:00:01.627893: : 50it [01:47,  2.16s/it] \n"
     ]
    },
    {
     "data": {
      "application/vnd.jupyter.widget-view+json": {
       "model_id": "6cd372a64b9c4d2a9beed1aadd2f5124",
       "version_major": 2,
       "version_minor": 0
      },
      "text/plain": [
       "Batches:   0%|          | 0/31 [00:00<?, ?it/s]"
      ]
     },
     "metadata": {},
     "output_type": "display_data"
    },
    {
     "name": "stderr",
     "output_type": "stream",
     "text": [
      "Epoch: [50/50]\t Seen Samples: [308350/308350]\tTrain Loss: 50.61202507581938\tTime: 0:00:01.355133: : 50it [01:16,  1.53s/it] \n"
     ]
    },
    {
     "data": {
      "application/vnd.jupyter.widget-view+json": {
       "model_id": "a6ca2719dc184f7aaffaf3f84b1264b0",
       "version_major": 2,
       "version_minor": 0
      },
      "text/plain": [
       "Batches:   0%|          | 0/16 [00:00<?, ?it/s]"
      ]
     },
     "metadata": {},
     "output_type": "display_data"
    },
    {
     "name": "stderr",
     "output_type": "stream",
     "text": [
      "Epoch: [50/50]\t Seen Samples: [158200/158200]\tTrain Loss: 38.103279567096386\tTime: 0:00:00.776660: : 50it [00:46,  1.08it/s]\n"
     ]
    },
    {
     "data": {
      "application/vnd.jupyter.widget-view+json": {
       "model_id": "20b573efe6834a3ca0c3b65c10a3b707",
       "version_major": 2,
       "version_minor": 0
      },
      "text/plain": [
       "Batches:   0%|          | 0/14 [00:00<?, ?it/s]"
      ]
     },
     "metadata": {},
     "output_type": "display_data"
    },
    {
     "name": "stderr",
     "output_type": "stream",
     "text": [
      "Epoch: [50/50]\t Seen Samples: [133950/133950]\tTrain Loss: 57.252156894480215\tTime: 0:00:01.006106: : 50it [00:39,  1.26it/s]\n"
     ]
    },
    {
     "data": {
      "application/vnd.jupyter.widget-view+json": {
       "model_id": "22f745f5515940898884e89660964d12",
       "version_major": 2,
       "version_minor": 0
      },
      "text/plain": [
       "Batches:   0%|          | 0/16 [00:00<?, ?it/s]"
      ]
     },
     "metadata": {},
     "output_type": "display_data"
    },
    {
     "name": "stderr",
     "output_type": "stream",
     "text": [
      "Epoch: [50/50]\t Seen Samples: [158200/158200]\tTrain Loss: 41.459155906166046\tTime: 0:00:01.114482: : 50it [00:59,  1.19s/it]\n"
     ]
    },
    {
     "data": {
      "application/vnd.jupyter.widget-view+json": {
       "model_id": "6d596feddc944ce885a88218d4d67d11",
       "version_major": 2,
       "version_minor": 0
      },
      "text/plain": [
       "Batches:   0%|          | 0/14 [00:00<?, ?it/s]"
      ]
     },
     "metadata": {},
     "output_type": "display_data"
    },
    {
     "name": "stderr",
     "output_type": "stream",
     "text": [
      "Epoch: [50/50]\t Seen Samples: [133950/133950]\tTrain Loss: 61.493081862110394\tTime: 0:00:01.508462: : 50it [00:43,  1.15it/s]\n"
     ]
    },
    {
     "name": "stdout",
     "output_type": "stream",
     "text": [
      "::::::Mecab::::::\n",
      "TOTAL\n",
      "TOPICS :  defaultdict(<class 'list'>, {0: ['사료', '티켓', '보급', '고민', '무료'], 1: ['스토리', '캐릭터', '게임', '오역', '번역'], 2: ['한국어', '번역기', '제대', '엉망', '조선족'], 3: ['번역', '오역', '업체', '문제', '제대'], 4: ['밀면', '연관', '고비', '향상', '무조건'], 5: ['형상', '자막', '밀면', '한정판', '연관'], 6: ['연관', '형상', '작품', '각안', '밀면'], 7: ['연관', '형상', '이하', '차원', '일부'], 8: ['오류', '코드', '로그인', '기차', '화면'], 9: ['제발', '쓰레기', '연관', '밀면', '이해수'], 10: ['게임', '캐릭터', '스토리', '원신', '컨텐츠'], 11: ['원신', '확률', '붕괴', '재미', '스타'], 12: ['스토리', '스킵', '컨텐츠', '업데이트', '캐릭터'], 13: ['연관', '지금', '형상', '밀면', '역체'], 14: ['스토리', '오역', '번역', '캐릭터', '게임'], 15: ['원신', '붕괴', '레일', '스타', '캐릭터'], 16: ['스마트폰', '업데이트', '오류', '접속', '로그인'], 17: ['번역', '문제', '오역', '한국어', '정도'], 18: ['인생', '최고', '중국', '사랑', '버스'], 19: ['캐릭터', '원신', '게임', '전투', '붕괴']})\n",
      "\n",
      "POS\n",
      "TOPICS :  defaultdict(<class 'list'>, {0: ['스토리', '캐릭터', '컨텐츠', '과금', '그래픽'], 1: ['오류', '해결', '로그인', '부탁', '오역'], 2: ['신화', '심정', '융합', '정석', '안구'], 3: ['부담', '신화', '실장', '장신구', '지옥'], 4: ['오역', '로그인', '연경', '오류', '요구'], 5: ['카프카', '사랑', '보릿자루', '점프', '음식'], 6: ['스토리', '캐릭터', '컨텐츠', '업데이트', '번역'], 7: ['인생', '저격', '패턴', '장신구', '조음'], 8: ['장신구', '융합', '신화', '메시지', '정석'], 9: ['스마트폰', '중국', '최고', '인생', '시장'], 10: ['라이트', '신화', '요호', '장신구', '심정'], 11: ['호요', '사랑', '버스', '감사', '코드'], 12: ['번역', '제공', '수정', '동기', '초점'], 13: ['캐릭터', '스토리', '원신', '게임', '전투'], 14: ['문제', '번역', '스토리', '캐릭터', '부분'], 15: ['뉴비', '신화', '장신구', '파괴', '대신'], 16: ['원신', '게임', '캐릭터', '스마트폰', '블루스택'], 17: ['원신', '붕괴', '레일', '스타', '재미'], 18: ['게임', '원신', '붕괴', '레일', '스타'], 19: ['특유', '특성', '음악', '장신구', '파괴']})\n",
      "\n",
      "NA\n",
      "TOPICS :  defaultdict(<class 'list'>, {0: ['한국어', '번역기', '문법', '한국', '구글'], 1: ['스토리', '캐릭터', '번역', '게임', '문제'], 2: ['업데이트', '컨텐츠', '개판', '이상', '이해'], 3: ['오역', '번역', '문제', '스토리', '유저'], 4: ['건지', '오류', '스킵', '스마트폰', '접속'], 5: ['제발', '제대', '바람', '점감', '틸리아'], 6: ['꼬라지', '무성의', '콜라', '틸리아', '판임'], 7: ['첫날', '쓰레기', '콜라', '틸리아', '무분별'], 8: ['확률', '조작', '천장', '사기', '목소리'], 9: ['스토리', '캐릭터', '게임', '컨텐츠', '이해'], 10: ['답변', '어디', '첫날', '콜라', '무분별'], 11: ['의도', '어필', '콜라', '틸리아', '무성의'], 12: ['콜라', '첫날', '퇴치', '첫째', '무분별'], 13: ['로그인', '오류', '시작', '스마트폰', '접속'], 14: ['번역', '스토리', '문제', '캐릭터', '이해'], 15: ['스토리', '업데이트', '번역', '오역', '컨텐츠'], 16: ['원신', '캐릭터', '붕괴', '재미', '게임'], 17: ['업체', '번역', '개판', '검수', '수준'], 18: ['첫날', '콜라', '문맹', '무분별', '광범위'], 19: ['게임', '스토리', '캐릭터', '원신', '컨텐츠']})\n",
      "::::::Okt::::::\n",
      "TOTAL\n",
      "TOPICS :  defaultdict(<class 'list'>, {0: ['동일', '비술', '풀이', '평등', '랜덤'], 1: ['인생게임', '평등', '풀이', '차이점', '예정'], 2: ['업데이트', '오류', '다시', '로그인', '계속'], 3: ['캐릭터', '스토리', '뽑기', '전투', '붕괴'], 4: ['코드', '오류', '로그인', '로그인오류', '것좀'], 5: ['스토리', '번역', '캐릭터', '문제', '오역'], 6: ['사랑', '최고', '역시', '작품', '개발'], 7: ['서브스토리', '동일', '비술', '획득', '주인공'], 8: ['게임', '스토리', '캐릭터', '컨텐츠', '오역'], 9: ['구멍', '풀이', '자막', '가슴', '비술'], 10: ['오역', '번역', '스토리', '업데이트', '문제'], 11: ['붕괴', '스타', '레일', '스마트폰', '발열'], 12: ['똑바', '제발', '제대', '쓰레기', '최악'], 13: ['업체', '개선', '한국어', '구글번역기', '수준'], 14: ['뽑기', '확률', '과금', '재미', '극악'], 15: ['캐릭터', '턴제', '붕괴', '게임', '전투'], 16: ['스토리', '컨텐츠', '업데이트', '게임', '스킵'], 17: ['비술', '평등', '풀이', '테츠', '동일'], 18: ['준비', '요즘', '국내', '대처', '어디'], 19: ['번역', '오역', '문제', '업체', '수준']})\n",
      "\n",
      "POS\n",
      "TOPICS :  defaultdict(<class 'list'>, {0: ['계속', '오류', '기믹', '미션', '처음'], 1: ['이정', '제작사', '향상', '필드', '전면'], 2: ['인생게임', '리니지', '희망', '이크', '만해'], 3: ['최고', '중국', '인생', '개인', '시장'], 4: ['스토리', '턴제', '캐릭터', '게임', '사람'], 5: ['번역', '스토리', '문제', '오역', '업데이트'], 6: ['사랑', '당장', '피드백', '향상', '마오'], 7: ['레젼드', '향상', '작용', '턴제걸', '처럼'], 8: ['스토리', '캐릭터', '퀄리티', '붕괴', '뽑기'], 9: ['전면', '턴제임', '레젼드', '파굇', '크류'], 10: ['스토리', '컨텐츠', '사람', '뽑기', '레일'], 11: ['게임', '스토리', '붕괴', '버스', '턴제'], 12: ['제대', '사전', '똑바', '고치', '상태'], 13: ['턴제', '진짜', '퀄리티', '시간', '추천'], 14: ['번역', '문제', '수정', '엉망', '오역'], 15: ['레젼드', '작용', '식이', '향상', '추적'], 16: ['캐릭터', '붕괴', '턴제', '그래픽', '사람'], 17: ['오류', '로그인', '계정', '리셋', '코드'], 18: ['레젼드', '사랑', '추적', '손색', '크류'], 19: ['스토리', '뽑기', '캐릭터', '과금', '생각']})\n",
      "\n",
      "NA\n",
      "TOPICS :  defaultdict(<class 'list'>, {0: ['번역', '오역', '문제', '업체', '캐릭터'], 1: ['똑바', '똑바로', '구글링', '제발', '광범위'], 2: ['한국어', '정말', '최악', '한국인', '중국'], 3: ['게임', '스토리', '컨텐츠', '캐릭터', '기물'], 4: ['광범위', '첫날', '앞날', '제시', '경악'], 5: ['이해', '개선', '개판', '상태', '지장'], 6: ['제시', '구글링', '파워', '첫날', '정치'], 7: ['첫날', '광범위', '쪼끔', '경악', '풀컬렉'], 8: ['다시', '스마트폰', '광고', '애플리케이션', '스킵'], 9: ['게임', '컨텐츠', '캐릭터', '재미', '캐릭'], 10: ['첫날', '앞날', '광범위', '경악', '정액'], 11: ['화면', '접속', '스마트폰', '오류', '로그인'], 12: ['스토리', '캐릭터', '게임', '번역', '오역'], 13: ['두창', '광범위', '한편', '구글링', '화씨'], 14: ['스토리', '캐릭터', '오역', '업데이트', '번역'], 15: ['게임', '스토리', '오역', '문제', '이해'], 16: ['첫날', '부정', '경악', '제시', '앞날'], 17: ['장창', '상대', '여기', '검사', '만원'], 18: ['업체', '오역', '유저', '보고', '구글번역기'], 19: ['시간', '조작', '실행', '코드', '케릭']})\n"
     ]
    }
   ],
   "source": [
    "# 스타레일\n",
    "getCTMResult(d_s, d_s_pos, d_s_na)"
   ]
  },
  {
   "cell_type": "code",
   "execution_count": null,
   "metadata": {},
   "outputs": [],
   "source": [
    "mecab = Mecab()\n",
    "okt = Okt()\n",
    "MODEL_NAME = 'sentence-transformers/xlm-r-100langs-bert-base-nli-stsb-mean-tokens'\n",
    "n_components = 20\n",
    "n_epochs = 50\n",
    "\n",
    "# 블루아카\n",
    "b_a_CTM_mecab = CumstomCTM(b_a.values, mecab)\n",
    "b_a_CTM_okt = CumstomCTM(b_a.values, okt)\n",
    "b_a_CTM_pos_mecab = CumstomCTM(b_a_pos.values, mecab)\n",
    "b_a_CTM_pos_okt = CumstomCTM(b_a_pos.values, okt)\n",
    "b_a_CTM_na_mecab = CumstomCTM(b_a_na.values, mecab)\n",
    "b_a_CTM_na_okt = CumstomCTM(b_a_na.values, okt)\n",
    "\n",
    "\n",
    "b_a_CTM_mecab.preprocessing(2000) # 피처는 2000개\n",
    "b_a_CTM_okt.preprocessing(2000) # 피처는 2000개\n",
    "b_a_CTM_pos_mecab.preprocessing(2000)\n",
    "b_a_CTM_na_mecab.preprocessing(2000)\n",
    "b_a_CTM_pos_okt.preprocessing(2000)\n",
    "b_a_CTM_na_okt.preprocessing(2000)\n",
    "\n",
    "b_a_CTM_mecab.modeling(MODEL_NAME, n_components, n_epochs)\n",
    "b_a_CTM_okt.modeling(MODEL_NAME, n_components, n_epochs)\n",
    "\n",
    "print('Mecab')\n",
    "print('TOPICS : ', b_a_CTM_mecab.getTopics(5))\n",
    "print('Okt')\n",
    "print('TOPICS : ', b_a_CTM_okt.getTopics(5))\n"
   ]
  },
  {
   "cell_type": "code",
   "execution_count": null,
   "metadata": {},
   "outputs": [],
   "source": [
    "# 니케\n",
    "n_k_CTM = CumstomCTM(n_k.values, mecab)\n",
    "n_k_CTM.preprocessing(2000)\n",
    "n_k_CTM.modeling(MODEL_NAME, n_components, n_epochs)\n",
    "print('TOPICS : ', n_k_CTM.getTopics(5))\n",
    "\n",
    "with open('./reuslt/CTM_n_k.txt', 'a+') as f:\n",
    "    top5Topics = ''\n",
    "    for key, value in n_k_CTM.getTopics(5).items():\n",
    "        top5Topics += 'Topic'+str(key)+' : '+ ','.join(value) + '\\t'\n",
    "\n",
    "    write_txt = MODEL_NAME + '+n_components=' + str(n_components) + '+topics5_' + top5Topics"
   ]
  },
  {
   "cell_type": "code",
   "execution_count": null,
   "metadata": {},
   "outputs": [],
   "source": [
    "# 원신\n",
    "o_g_CTM = CumstomCTM(o_g.values, mecab)\n",
    "o_g_CTM.preprocessing(2000)\n",
    "o_g_CTM.modeling(MODEL_NAME, n_components, n_epochs)\n",
    "print('TOPICS : ', o_g_CTM.getTopics(5))\n",
    "\n",
    "with open('./reuslt/CTM_o_g.txt', 'a+') as f:\n",
    "    top5Topics = ''\n",
    "    for key, value in o_g_CTM.getTopics(5).items():\n",
    "        top5Topics += 'Topic'+str(key)+' : '+ ','.join(value) + '\\t'\n",
    "\n",
    "    write_txt = MODEL_NAME + '+n_components=' + str(n_components) + '+topics5_' + top5Topics"
   ]
  },
  {
   "cell_type": "code",
   "execution_count": null,
   "metadata": {},
   "outputs": [],
   "source": [
    "# 붕괴:스타레일\n",
    "d_s_CTM = CumstomCTM(d_s.values, mecab)\n",
    "d_s_CTM.preprocessing(2000)\n",
    "d_s_CTM.modeling(MODEL_NAME, n_components, n_epochs)\n",
    "print('TOPICS : ', d_s_CTM.getTopics(5))\n",
    "\n",
    "with open('./reuslt/CTM_d_s.txt', 'a+') as f:\n",
    "    top5Topics = ''\n",
    "    for key, value in d_s_CTM.getTopics(5).items():\n",
    "        top5Topics += 'Topic'+str(key)+' : '+ ','.join(value) + '\\t'\n",
    "\n",
    "    write_txt = MODEL_NAME + '+n_components=' + str(n_components) + '+topics5_' + top5Topics"
   ]
  }
 ],
 "metadata": {
  "kernelspec": {
   "display_name": "ds_study",
   "language": "python",
   "name": "python3"
  },
  "language_info": {
   "codemirror_mode": {
    "name": "ipython",
    "version": 3
   },
   "file_extension": ".py",
   "mimetype": "text/x-python",
   "name": "python",
   "nbconvert_exporter": "python",
   "pygments_lexer": "ipython3",
   "version": "3.7.16"
  }
 },
 "nbformat": 4,
 "nbformat_minor": 2
}
