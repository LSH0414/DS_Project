{
 "cells": [
  {
   "cell_type": "code",
   "execution_count": 5,
   "metadata": {},
   "outputs": [],
   "source": [
    "import pandas as pd\n",
    "import re\n",
    "import json"
   ]
  },
  {
   "cell_type": "markdown",
   "metadata": {},
   "source": [
    "## 원본 데이터 -> DF"
   ]
  },
  {
   "cell_type": "code",
   "execution_count": 6,
   "metadata": {},
   "outputs": [],
   "source": [
    "with open('./data/labels.json', 'r') as f:\n",
    "    labels = json.load(f)\n",
    "\n",
    "with open('./data/reviews.json', 'r') as f:\n",
    "    raw_data = json.load(f)"
   ]
  },
  {
   "cell_type": "code",
   "execution_count": 7,
   "metadata": {},
   "outputs": [],
   "source": [
    "df_lst = list()\n",
    "\n",
    "for app_name, reviews in raw_data.items():\n",
    "\n",
    "    contents, scores, tumbs, writed_at = [], [], [], []\n",
    "    for review in reviews:\n",
    "        contents.append(review['content'])\n",
    "        scores.append(review['score'])\n",
    "        tumbs.append(review['thumbsUpCount'])\n",
    "        writed_at.append(review['at'])\n",
    "\n",
    "    tmp = pd.DataFrame({\n",
    "        'content' : contents,\n",
    "        'score' : scores,\n",
    "        'recommand' : tumbs,\n",
    "        'writed_at' : writed_at\n",
    "    })\n",
    "    tmp['app_name'] = app_name\n",
    "\n",
    "    df_lst.append(tmp)\n",
    "        \n",
    "\n",
    "review_df = pd.concat(df_lst).reset_index(drop=True)"
   ]
  },
  {
   "cell_type": "code",
   "execution_count": 8,
   "metadata": {},
   "outputs": [],
   "source": [
    "# 데이터 저장\n",
    "# review_df.to_csv('./data/reivews_df.csv', index=False)"
   ]
  },
  {
   "cell_type": "markdown",
   "metadata": {},
   "source": [
    "## 전처리\n",
    "\n",
    "전처리 과정은 최대한 러프하게.. 다듬기 정도로만 진행!"
   ]
  },
  {
   "cell_type": "code",
   "execution_count": 20,
   "metadata": {},
   "outputs": [],
   "source": [
    "review_df = pd.read_csv('./data/reivews_df.csv')"
   ]
  },
  {
   "cell_type": "code",
   "execution_count": 26,
   "metadata": {},
   "outputs": [],
   "source": [
    "# 치환 리스트\n",
    "with open('./data/replace_text.txt', 'r') as f:\n",
    "    replace_words = f.readlines()"
   ]
  },
  {
   "cell_type": "code",
   "execution_count": 27,
   "metadata": {},
   "outputs": [],
   "source": [
    "replace_dict = dict()\n",
    "for r_words in replace_words:\n",
    "    b_word, a_word = re.sub('\\n', '', r_words).split('/')\n",
    "    replace_dict[b_word] = a_word"
   ]
  },
  {
   "cell_type": "code",
   "execution_count": 28,
   "metadata": {},
   "outputs": [],
   "source": [
    "# 단어 치환\n",
    "def replace_review_text(txt):\n",
    "    for origin_word, replace_word in replace_dict.items():\n",
    "        txt = re.sub(origin_word, replace_word, txt)\n",
    "    return txt"
   ]
  },
  {
   "cell_type": "code",
   "execution_count": 29,
   "metadata": {},
   "outputs": [],
   "source": [
    "# affix : 접사 / post_position : 조사\n",
    "\n",
    "def preprocessing(txt):\n",
    "    txt = replace_review_text(txt)\n",
    "    return txt"
   ]
  },
  {
   "cell_type": "code",
   "execution_count": null,
   "metadata": {},
   "outputs": [],
   "source": [
    "# 테스트 과정\n",
    "\n",
    "for test in review_df['content'][:10]:\n",
    "    print('-'*20)\n",
    "    print('::REVIEW::')\n",
    "    print('-'*20)\n",
    "    print('원문 : ', test)\n",
    "    print('3개 결합 : ', preprocessing(test))\n",
    "    print()\n"
   ]
  },
  {
   "cell_type": "code",
   "execution_count": 30,
   "metadata": {},
   "outputs": [],
   "source": [
    "# 본문 리뷰 텍스트 전처리 적용\n",
    "\n",
    "# 텍스트 전처리 과정\n",
    "# 1. 주로 사용 단어 치환 작업. 모바일 관련 용어 -> 스마트폰, 인게임 유료재화 -> 과금 등\n",
    "# 2. 3번이상 반복된 문자 제거\n",
    "\n",
    "review_df['content'] = review_df['content'].apply(preprocessing)"
   ]
  },
  {
   "cell_type": "code",
   "execution_count": 31,
   "metadata": {},
   "outputs": [],
   "source": [
    "# 파일 저장\n",
    "review_df.to_csv('./data/reivews_df_preprocssing_ver.csv', index = False)"
   ]
  },
  {
   "cell_type": "code",
   "execution_count": null,
   "metadata": {},
   "outputs": [],
   "source": []
  }
 ],
 "metadata": {
  "kernelspec": {
   "display_name": "ds_study",
   "language": "python",
   "name": "python3"
  },
  "language_info": {
   "codemirror_mode": {
    "name": "ipython",
    "version": 3
   },
   "file_extension": ".py",
   "mimetype": "text/x-python",
   "name": "python",
   "nbconvert_exporter": "python",
   "pygments_lexer": "ipython3",
   "version": "3.7.16"
  },
  "orig_nbformat": 4
 },
 "nbformat": 4,
 "nbformat_minor": 2
}
