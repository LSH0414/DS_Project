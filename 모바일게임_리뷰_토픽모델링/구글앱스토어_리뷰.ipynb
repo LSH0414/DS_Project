{
 "cells": [
  {
   "cell_type": "code",
   "execution_count": 1,
   "metadata": {},
   "outputs": [],
   "source": [
    "#!pip install google-play-scraper"
   ]
  },
  {
   "cell_type": "code",
   "execution_count": 2,
   "metadata": {},
   "outputs": [],
   "source": [
    "from google_play_scraper import Sort, reviews_all"
   ]
  },
  {
   "cell_type": "code",
   "execution_count": 4,
   "metadata": {},
   "outputs": [],
   "source": [
    "reviews = dict()\n",
    "\n",
    "locs = [\n",
    "    'com.nexon.bluearchive', # 블루아카이브\n",
    "    'com.proximabeta.nikke', # 니케\n",
    "    'com.miHoYo.GenshinImpact', # 원신\n",
    "    'com.HoYoverse.hkrpgoversea', # 붕괴 : 스타레일\n",
    "]\n",
    "\n",
    "for idx, loc in enumerate(locs):\n",
    "    result = reviews_all(\n",
    "        loc,\n",
    "        sleep_milliseconds=0, # defaults to 0\n",
    "        lang='ko',\n",
    "        country='kr',\n",
    "        sort=Sort.NEWEST, # 최신순으로 불러옴\n",
    "    )\n",
    "\n",
    "    reviews[idx] = result"
   ]
  },
  {
   "cell_type": "code",
   "execution_count": 9,
   "metadata": {},
   "outputs": [],
   "source": [
    "labels = {idx : value for idx, value in enumerate(['블루아카이브', '니케', '원신', '붕괴:스타레일'])}"
   ]
  },
  {
   "cell_type": "code",
   "execution_count": 11,
   "metadata": {},
   "outputs": [],
   "source": [
    "import json\n",
    "\n",
    "with open('./data/labels.json', 'w')as f:\n",
    "    json.dump(labels, f)\n",
    "\n",
    "with open('./data/reviews.json', 'w')as f:\n",
    "    json.dump(reviews, f)"
   ]
  }
 ],
 "metadata": {
  "kernelspec": {
   "display_name": "ds_study",
   "language": "python",
   "name": "python3"
  },
  "language_info": {
   "codemirror_mode": {
    "name": "ipython",
    "version": 3
   },
   "file_extension": ".py",
   "mimetype": "text/x-python",
   "name": "python",
   "nbconvert_exporter": "python",
   "pygments_lexer": "ipython3",
   "version": "3.7.16"
  },
  "orig_nbformat": 4
 },
 "nbformat": 4,
 "nbformat_minor": 2
}
